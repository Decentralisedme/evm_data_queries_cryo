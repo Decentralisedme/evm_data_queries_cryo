{
 "cells": [
  {
   "cell_type": "code",
   "execution_count": 1,
   "id": "e288d0a3-4ceb-4417-bf6a-f30c2665c8c2",
   "metadata": {},
   "outputs": [],
   "source": [
    "import cryo\n",
    "import polars as pl\n",
    "import binascii\n",
    "import web3\n",
    "import json\n",
    "from eth_abi import decode"
   ]
  },
  {
   "cell_type": "code",
   "execution_count": 2,
   "id": "e82331f5-4fdd-4a12-98f9-f414d54c4abc",
   "metadata": {},
   "outputs": [],
   "source": [
    "# The multical cantract address, but we also need ABI\n",
    "MULTICALL3_ADDRESS = '0xcA11bde05977b3631167028862bE2a173976CA11'\n",
    "MULTICALL3_ABI=json.loads('[{\"inputs\":[{\"internalType\":\"bool\",\"name\":\"requireSuccess\",\"type\":\"bool\"},{\"components\":[{\"internalType\":\"address\",\"name\":\"target\",\"type\":\"address\"},{\"internalType\":\"bytes\",\"name\":\"callData\",\"type\":\"bytes\"}],\"internalType\":\"struct Multicall3.Call[]\",\"name\":\"calls\",\"type\":\"tuple[]\"}],\"name\":\"tryAggregate\",\"outputs\":[{\"components\":[{\"internalType\":\"bool\",\"name\":\"success\",\"type\":\"bool\"},{\"internalType\":\"bytes\",\"name\":\"returnData\",\"type\":\"bytes\"}],\"internalType\":\"struct Multicall3.Result[]\",\"name\":\"returnData\",\"type\":\"tuple[]\"}],\"stateMutability\":\"payable\",\"type\":\"function\"}]')\n",
    "\n",
    "UNIV2_ETH_USDC= '0xB4e16d0168e52d35CaCD2c6185b44281Ec28C9Dc'"
   ]
  },
  {
   "cell_type": "code",
   "execution_count": 31,
   "id": "720aa164-af91-4332-a48d-c43b2c4cb419",
   "metadata": {},
   "outputs": [],
   "source": [
    "# Function Signatures 4 bytes\n",
    "getBlocknumber_4b = '42cbb15c'\n",
    "getReserves_4b = '0902f1ac'"
   ]
  },
  {
   "cell_type": "code",
   "execution_count": 32,
   "id": "3137ff54-0cd6-41fc-bc60-c45ab5a68950",
   "metadata": {},
   "outputs": [],
   "source": [
    "# Functions\n",
    "def bytes_to_hexstr(b: any) -> str:\n",
    "    if isinstance(b,list):\n",
    "        return [bytes_to_hexstr(a) for a in b]\n",
    "    return '0x' + b.hex()\n",
    "\n",
    "def decode_outputdata_uniV2_price(b: bytes) -> list[float]:\n",
    "    aggregated_data_uniV2 = decode(['(bool,bytes)[]'], outdata_uniV2)[0]\n",
    "\n",
    "    ethusdc_reserves_raw = aggregated_data_uniV2[0]\n",
    "    [eth_bal, usdc_bal, _] = decode(['uint112','uint112','uint32'], ethusdc_reserves_raw[1])\n",
    "\n",
    "    eth_usdc_price = (eth_bal / usdc_bal)*1e12\n",
    "\n",
    "    print(eth_usdc_price)\n",
    "    "
   ]
  },
  {
   "cell_type": "code",
   "execution_count": 5,
   "id": "7fcf67f3-abd3-42a8-886d-ddfa7286a1a0",
   "metadata": {},
   "outputs": [],
   "source": [
    "txs = cryo.collect('transactions', blocks=['-10:21881984'], rpc ='https://eth.merkle.io')"
   ]
  },
  {
   "cell_type": "code",
   "execution_count": 6,
   "id": "f47f44e3-d72c-4cc5-966c-0440cab3a4d9",
   "metadata": {},
   "outputs": [
    {
     "data": {
      "text/plain": [
       "['0x17185afe19659c8a5f93a2a547058db9c660805f625400dcc89c015f0b405088',\n",
       " '0x5fbf92a74814561ad37de87b5e2c1fd590211af35c7d87e5785790dbceab1830',\n",
       " '0x72abd91c2ac8a5cf8706d663c2629acb28db1771f8363469b516a8eb509393f8',\n",
       " '0x93c047dc4368b039206159771a5165f3223c6b85d1e951c058fa3000338098cd',\n",
       " '0x1ac8af088ae8f77d094366408676245819caf9bcbba06a490887596764b1261b',\n",
       " '0xd46fe78a7aa9113b89ca90444b32b243a71cc3dfb809afa8c7016e9904782e8b',\n",
       " '0x0fca8e8943eefbad34ffea7f28a18f27b2897ec6a75cd068fc523b68c00618bf',\n",
       " '0x74ad3f7a7fc8caff74fabc5933cbd9ecd32d97a0f039ab0c488f7990a184f294',\n",
       " '0xf82048f49848fd81d37187adb7de887f2e0cb85f3d2c04a85455c38cb98ffd90',\n",
       " '0x6050315ae98f0eb328c6fae15c2759b4335d9fbc7883e463c410d3e710eeca01']"
      ]
     },
     "execution_count": 6,
     "metadata": {},
     "output_type": "execute_result"
    }
   ],
   "source": [
    "bytes_to_hexstr(txs['transaction_hash'].to_list())[:10]"
   ]
  },
  {
   "cell_type": "code",
   "execution_count": 7,
   "id": "525bdb8c-42e0-4cac-9a4c-11505657caf9",
   "metadata": {},
   "outputs": [],
   "source": [
    "# web3 instance, function from web3py\n",
    "w3 = web3.Web3()\n",
    "m3 = w3.eth.contract(address = MULTICALL3_ADDRESS, abi=MULTICALL3_ABI)"
   ]
  },
  {
   "cell_type": "markdown",
   "id": "a268231f-60d8-42ef-ac00-d9388fac7e87",
   "metadata": {},
   "source": [
    "### Get Block Number"
   ]
  },
  {
   "cell_type": "code",
   "execution_count": 8,
   "id": "25ef3197-fb66-45d9-aec8-567a87eac0da",
   "metadata": {},
   "outputs": [],
   "source": [
    "aggregate_calldata = [\n",
    "    [\n",
    "        MULTICALL3_ADDRESS,\n",
    "        f'0x{getBlocknumber_4b}',\n",
    "    ]\n",
    "]\n",
    "calldata = m3.encode_abi(\"tryAggregate\", args=[True, aggregate_calldata])"
   ]
  },
  {
   "cell_type": "code",
   "execution_count": 9,
   "id": "a7057008-1542-469c-8fa0-490ac34c8303",
   "metadata": {},
   "outputs": [
    {
     "data": {
      "text/plain": [
       "[['0xcA11bde05977b3631167028862bE2a173976CA11', '0x42cbb15c']]"
      ]
     },
     "execution_count": 9,
     "metadata": {},
     "output_type": "execute_result"
    }
   ],
   "source": [
    "# Args of the tryAggregate function\n",
    "aggregate_calldata"
   ]
  },
  {
   "cell_type": "code",
   "execution_count": 10,
   "id": "0b53d4e8-687e-4e7a-98bf-edaaa05f3468",
   "metadata": {},
   "outputs": [],
   "source": [
    "# calldata: this is the call data with info we want to get:\n",
    "# 0xbce38bd7 = tryAggregate(bool,(address,bytes)[])\n",
    "# aggregate_calldata = are the function arguments \n",
    "# address = Multicall_address, \n",
    "# bytes = Function Sign getblocknumber_4b = '42cbb15c'\n",
    "# if you see the output of call data info all there"
   ]
  },
  {
   "cell_type": "code",
   "execution_count": 11,
   "id": "bba87dd6-343b-4b7d-857b-82c87963a039",
   "metadata": {},
   "outputs": [
    {
     "data": {
      "text/plain": [
       "'0xbce38bd70000000000000000000000000000000000000000000000000000000000000001000000000000000000000000000000000000000000000000000000000000004000000000000000000000000000000000000000000000000000000000000000010000000000000000000000000000000000000000000000000000000000000020000000000000000000000000ca11bde05977b3631167028862be2a173976ca110000000000000000000000000000000000000000000000000000000000000040000000000000000000000000000000000000000000000000000000000000000442cbb15c00000000000000000000000000000000000000000000000000000000'"
      ]
     },
     "execution_count": 11,
     "metadata": {},
     "output_type": "execute_result"
    }
   ],
   "source": [
    "# This is the encoded data to use as calldata\n",
    "# 0xbce38bd7 = tryAggregate(bool,(address,bytes)[])\n",
    "# Multiclall Address + Block function signature\n",
    "calldata"
   ]
  },
  {
   "cell_type": "code",
   "execution_count": 12,
   "id": "916db73b-0a3c-4d36-9a3b-ea413a01c099",
   "metadata": {},
   "outputs": [],
   "source": [
    "cryo_kwargs = {\n",
    "    'rpc': 'https://eth.merkle.io',\n",
    "    'blocks': ['latest'], \n",
    "}\n",
    "            \n",
    "eth_call_df = cryo.collect(\n",
    "    'eth_calls',\n",
    "    to_address = [MULTICALL3_ADDRESS],\n",
    "    call_data=[calldata],\n",
    "     output_format=\"polars\",\n",
    "    **cryo_kwargs,\n",
    ")"
   ]
  },
  {
   "cell_type": "code",
   "execution_count": 13,
   "id": "f5806a50-1e89-4964-bafc-0b3de2b63291",
   "metadata": {},
   "outputs": [
    {
     "data": {
      "text/plain": [
       "b'\\x00\\x00\\x00\\x00\\x00\\x00\\x00\\x00\\x00\\x00\\x00\\x00\\x00\\x00\\x00\\x00\\x00\\x00\\x00\\x00\\x00\\x00\\x00\\x00\\x00\\x00\\x00\\x00\\x00\\x00\\x00 \\x00\\x00\\x00\\x00\\x00\\x00\\x00\\x00\\x00\\x00\\x00\\x00\\x00\\x00\\x00\\x00\\x00\\x00\\x00\\x00\\x00\\x00\\x00\\x00\\x00\\x00\\x00\\x00\\x00\\x00\\x00\\x01\\x00\\x00\\x00\\x00\\x00\\x00\\x00\\x00\\x00\\x00\\x00\\x00\\x00\\x00\\x00\\x00\\x00\\x00\\x00\\x00\\x00\\x00\\x00\\x00\\x00\\x00\\x00\\x00\\x00\\x00\\x00 \\x00\\x00\\x00\\x00\\x00\\x00\\x00\\x00\\x00\\x00\\x00\\x00\\x00\\x00\\x00\\x00\\x00\\x00\\x00\\x00\\x00\\x00\\x00\\x00\\x00\\x00\\x00\\x00\\x00\\x00\\x00\\x01\\x00\\x00\\x00\\x00\\x00\\x00\\x00\\x00\\x00\\x00\\x00\\x00\\x00\\x00\\x00\\x00\\x00\\x00\\x00\\x00\\x00\\x00\\x00\\x00\\x00\\x00\\x00\\x00\\x00\\x00\\x00@\\x00\\x00\\x00\\x00\\x00\\x00\\x00\\x00\\x00\\x00\\x00\\x00\\x00\\x00\\x00\\x00\\x00\\x00\\x00\\x00\\x00\\x00\\x00\\x00\\x00\\x00\\x00\\x00\\x00\\x00\\x00 \\x00\\x00\\x00\\x00\\x00\\x00\\x00\\x00\\x00\\x00\\x00\\x00\\x00\\x00\\x00\\x00\\x00\\x00\\x00\\x00\\x00\\x00\\x00\\x00\\x00\\x00\\x00\\x00\\x01Nfn'"
      ]
     },
     "execution_count": 13,
     "metadata": {},
     "output_type": "execute_result"
    }
   ],
   "source": [
    "eth_call_df['output_data'][0]"
   ]
  },
  {
   "cell_type": "code",
   "execution_count": 14,
   "id": "154b9997-95c8-487a-a9a5-d88c531576c5",
   "metadata": {},
   "outputs": [],
   "source": [
    "outdata = eth_call_df['output_data'][0]"
   ]
  },
  {
   "cell_type": "code",
   "execution_count": 15,
   "id": "706d4795-868b-48bb-955a-eed7136ac9b8",
   "metadata": {},
   "outputs": [
    {
     "name": "stdout",
     "output_type": "stream",
     "text": [
      "00000000000000000000000000000000000000000000000000000000000000200000000000000000000000000000000000000000000000000000000000000001000000000000000000000000000000000000000000000000000000000000002000000000000000000000000000000000000000000000000000000000000000010000000000000000000000000000000000000000000000000000000000000040000000000000000000000000000000000000000000000000000000000000002000000000000000000000000000000000000000000000000000000000014e666e\n"
     ]
    }
   ],
   "source": [
    "print(outdata.hex())"
   ]
  },
  {
   "cell_type": "code",
   "execution_count": 16,
   "id": "7bfa1c30-5825-4458-9162-d692c8065d7e",
   "metadata": {
    "scrolled": true
   },
   "outputs": [],
   "source": [
    "decoded_data =decode(['(bool,bytes)[]'], outdata)[0]"
   ]
  },
  {
   "cell_type": "code",
   "execution_count": 17,
   "id": "cfc2f706-f8bf-428f-abf9-6dcffec6ab1e",
   "metadata": {},
   "outputs": [],
   "source": [
    "# decoded_data[0]"
   ]
  },
  {
   "cell_type": "code",
   "execution_count": 18,
   "id": "f93b0288-71c7-4115-85ee-341bb8e275c6",
   "metadata": {},
   "outputs": [],
   "source": [
    "# this is boolean and list first is true (we set in arg above)\n",
    "# decoded_data[0][1]"
   ]
  },
  {
   "cell_type": "code",
   "execution_count": 17,
   "id": "715a72d4-d5dc-4c72-bc2e-2e217ba9cbbd",
   "metadata": {},
   "outputs": [
    {
     "data": {
      "text/plain": [
       "21897042"
      ]
     },
     "execution_count": 17,
     "metadata": {},
     "output_type": "execute_result"
    }
   ],
   "source": [
    "# 0x14df71c= 21886748\n",
    "#  we call it from block function\n",
    "int(decoded_data[0][1].hex(),16)"
   ]
  },
  {
   "cell_type": "markdown",
   "id": "6ba44e37-1867-4b5a-bce6-dc8fe2bfd95c",
   "metadata": {},
   "source": [
    "## From UNI-V2: USDC >> ETH/USDC price"
   ]
  },
  {
   "cell_type": "code",
   "execution_count": 37,
   "id": "42998108-10b3-40fe-9436-737e3967c72c",
   "metadata": {},
   "outputs": [],
   "source": [
    "# web3 instance, function from web3py\n",
    "# w3 = web3.Web3()\n",
    "# m3 = w3.eth.contract(address = MULTICALL3_ADDRESS, abi=MULTICALL3_ABI)\n",
    "\n",
    "aggregate_calldata_uniV2 = [\n",
    "    [\n",
    "        UNIV2_ETH_USDC,\n",
    "        f'0x{getReserves_4b}',\n",
    "    ]\n",
    "]\n",
    "calldata_uniV2 = m3.encode_abi(\"tryAggregate\", args=[False, aggregate_calldata_uniV2])"
   ]
  },
  {
   "cell_type": "code",
   "execution_count": 38,
   "id": "1b9c250a-3056-44aa-b851-b42b7ce8b200",
   "metadata": {},
   "outputs": [
    {
     "name": "stdout",
     "output_type": "stream",
     "text": [
      "0xbce38bd70000000000000000000000000000000000000000000000000000000000000000000000000000000000000000000000000000000000000000000000000000004000000000000000000000000000000000000000000000000000000000000000010000000000000000000000000000000000000000000000000000000000000020000000000000000000000000b4e16d0168e52d35cacd2c6185b44281ec28c9dc000000000000000000000000000000000000000000000000000000000000004000000000000000000000000000000000000000000000000000000000000000040902f1ac00000000000000000000000000000000000000000000000000000000\n"
     ]
    }
   ],
   "source": [
    "print(calldata_uniV2)"
   ]
  },
  {
   "cell_type": "code",
   "execution_count": 39,
   "id": "0d355ace-8972-46b0-b4ec-332031a630e4",
   "metadata": {},
   "outputs": [],
   "source": [
    "cryo_kwargs = {\n",
    "    'rpc': 'https://eth.merkle.io',\n",
    "    'blocks': ['latest'], \n",
    "}\n",
    "            \n",
    "eth_call_uniV2_df = cryo.collect(\n",
    "    'eth_calls',\n",
    "    to_address = [MULTICALL3_ADDRESS],\n",
    "    call_data=[calldata_uniV2],\n",
    "     output_format=\"polars\",\n",
    "    **cryo_kwargs,\n",
    ")"
   ]
  },
  {
   "cell_type": "markdown",
   "id": "a8796393-859c-4c1d-813e-94ff4b905870",
   "metadata": {},
   "source": [
    "#### From UNI-V2: USDC >> Reserves"
   ]
  },
  {
   "cell_type": "code",
   "execution_count": 40,
   "id": "27f2184d-c1e7-4ee8-8fc0-28f61f605791",
   "metadata": {},
   "outputs": [],
   "source": [
    "outdata_uniV2= eth_call_uniV2_df['output_data'][0]"
   ]
  },
  {
   "cell_type": "code",
   "execution_count": 41,
   "id": "7d33dfa7-5d5b-4404-93d6-3f21f9151443",
   "metadata": {},
   "outputs": [
    {
     "data": {
      "text/plain": [
       "'000000000000000000000000000000000000000000000000000000000000002000000000000000000000000000000000000000000000000000000000000000010000000000000000000000000000000000000000000000000000000000000020000000000000000000000000000000000000000000000000000000000000000100000000000000000000000000000000000000000000000000000000000000400000000000000000000000000000000000000000000000000000000000000060000000000000000000000000000000000000000000000000000013843d36e9680000000000000000000000000000000000000000000001ae5193b2f899d45aee0000000000000000000000000000000000000000000000000000000067bc3cef'"
      ]
     },
     "execution_count": 41,
     "metadata": {},
     "output_type": "execute_result"
    }
   ],
   "source": [
    "#  0x will give in order 1-Hex USDC Reserve 2-Hex ETH Reserve 3-Timestamp\n",
    "outdata_uniV2.hex()"
   ]
  },
  {
   "cell_type": "code",
   "execution_count": 42,
   "id": "485f71a1-4fff-46f5-b9f3-b6a8fef30c03",
   "metadata": {},
   "outputs": [],
   "source": [
    "decoded_data_uniV2 = decode(['(bool,bytes)[]'], outdata_uniV2)[0]"
   ]
  },
  {
   "cell_type": "code",
   "execution_count": 43,
   "id": "60974521-1f1f-449c-8417-56f62e77adea",
   "metadata": {},
   "outputs": [
    {
     "data": {
      "text/plain": [
       "((True,\n",
       "  b'\\x00\\x00\\x00\\x00\\x00\\x00\\x00\\x00\\x00\\x00\\x00\\x00\\x00\\x00\\x00\\x00\\x00\\x00\\x00\\x00\\x00\\x00\\x00\\x00\\x00\\x00\\x13\\x84=6\\xe9h\\x00\\x00\\x00\\x00\\x00\\x00\\x00\\x00\\x00\\x00\\x00\\x00\\x00\\x00\\x00\\x00\\x00\\x00\\x00\\x00\\x00\\x00\\x01\\xaeQ\\x93\\xb2\\xf8\\x99\\xd4Z\\xee\\x00\\x00\\x00\\x00\\x00\\x00\\x00\\x00\\x00\\x00\\x00\\x00\\x00\\x00\\x00\\x00\\x00\\x00\\x00\\x00\\x00\\x00\\x00\\x00\\x00\\x00\\x00\\x00g\\xbc<\\xef'),)"
      ]
     },
     "execution_count": 43,
     "metadata": {},
     "output_type": "execute_result"
    }
   ],
   "source": [
    "decoded_data_uniV2 "
   ]
  },
  {
   "cell_type": "code",
   "execution_count": 44,
   "id": "935c1226-1339-4f69-a087-a7076749295b",
   "metadata": {},
   "outputs": [],
   "source": [
    "reserves_data_uniV2 = decode(['uint112','uint112','uint32'], decoded_data_uniV2[0][1])"
   ]
  },
  {
   "cell_type": "code",
   "execution_count": 45,
   "id": "1c0c21d6-d866-416d-ab94-3fe35b340f16",
   "metadata": {},
   "outputs": [
    {
     "data": {
      "text/plain": [
       "(21458683619688, 7937978190414558288622, 1740389615)"
      ]
     },
     "execution_count": 45,
     "metadata": {},
     "output_type": "execute_result"
    }
   ],
   "source": [
    "reserves_data_uniV2"
   ]
  },
  {
   "cell_type": "markdown",
   "id": "3462f093-520b-4b68-a262-ac7f4b12e192",
   "metadata": {},
   "source": [
    "#### From UNI-V2: USDC >> ETH/USDC price Def"
   ]
  },
  {
   "cell_type": "code",
   "execution_count": 46,
   "id": "d1b4c4e6-e678-4bce-ae57-892b52843151",
   "metadata": {},
   "outputs": [],
   "source": [
    "output_data_uniV2= eth_call_uniV2_df['output_data'][0]"
   ]
  },
  {
   "cell_type": "code",
   "execution_count": 47,
   "id": "2a61a095-d6f1-483e-98d8-b60d93708027",
   "metadata": {},
   "outputs": [
    {
     "name": "stdout",
     "output_type": "stream",
     "text": [
      "2703.2933456028213\n"
     ]
    }
   ],
   "source": [
    "decode_outputdata_uniV2_price(output_data_uniV2)"
   ]
  },
  {
   "cell_type": "code",
   "execution_count": null,
   "id": "cba9606c-997b-4a3a-870a-feb48c234265",
   "metadata": {},
   "outputs": [],
   "source": []
  },
  {
   "cell_type": "code",
   "execution_count": null,
   "id": "9850c98a-b9b9-4396-bec0-bfdf81f64aeb",
   "metadata": {},
   "outputs": [],
   "source": []
  }
 ],
 "metadata": {
  "kernelspec": {
   "display_name": "Python 3 (ipykernel)",
   "language": "python",
   "name": "python3"
  },
  "language_info": {
   "codemirror_mode": {
    "name": "ipython",
    "version": 3
   },
   "file_extension": ".py",
   "mimetype": "text/x-python",
   "name": "python",
   "nbconvert_exporter": "python",
   "pygments_lexer": "ipython3",
   "version": "3.12.8"
  }
 },
 "nbformat": 4,
 "nbformat_minor": 5
}
