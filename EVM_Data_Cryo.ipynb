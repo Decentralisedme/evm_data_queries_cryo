{
 "cells": [
  {
   "cell_type": "code",
   "execution_count": 1,
   "id": "e288d0a3-4ceb-4417-bf6a-f30c2665c8c2",
   "metadata": {},
   "outputs": [],
   "source": [
    "import cryo\n",
    "import polars as pl\n",
    "import binascii\n",
    "import web3\n",
    "import json\n",
    "from eth_abi import decode"
   ]
  },
  {
   "cell_type": "code",
   "execution_count": 48,
   "id": "e82331f5-4fdd-4a12-98f9-f414d54c4abc",
   "metadata": {},
   "outputs": [],
   "source": [
    "# The multical cantract address, but we also need ABI\n",
    "MULTICALL3_ADDRESS = '0xcA11bde05977b3631167028862bE2a173976CA11'\n",
    "MULTICALL3_ABI=json.loads('[{\"inputs\":[{\"internalType\":\"bool\",\"name\":\"requireSuccess\",\"type\":\"bool\"},{\"components\":[{\"internalType\":\"address\",\"name\":\"target\",\"type\":\"address\"},{\"internalType\":\"bytes\",\"name\":\"callData\",\"type\":\"bytes\"}],\"internalType\":\"struct Multicall3.Call[]\",\"name\":\"calls\",\"type\":\"tuple[]\"}],\"name\":\"tryAggregate\",\"outputs\":[{\"components\":[{\"internalType\":\"bool\",\"name\":\"success\",\"type\":\"bool\"},{\"internalType\":\"bytes\",\"name\":\"returnData\",\"type\":\"bytes\"}],\"internalType\":\"struct Multicall3.Result[]\",\"name\":\"returnData\",\"type\":\"tuple[]\"}],\"stateMutability\":\"payable\",\"type\":\"function\"}]')\n",
    "\n",
    "UNIV2_ETH_USDC= '0xB4e16d0168e52d35CaCD2c6185b44281Ec28C9Dc'\n",
    "UNIV3_WBTC_ETH = '0xCBCdF9626bC03E24f779434178A73a0B4bad62eD'"
   ]
  },
  {
   "cell_type": "code",
   "execution_count": 595,
   "id": "3137ff54-0cd6-41fc-bc60-c45ab5a68950",
   "metadata": {},
   "outputs": [],
   "source": [
    "# Functions\n",
    "def bytes_to_hexstr(b: any) -> str:\n",
    "    if isinstance(b,list):\n",
    "        return [bytes_to_hexstr(a) for a in b]\n",
    "    return '0x' + b.hex()\n",
    "\n",
    "def decode_outputdata_uniV2_price(b: bytes) -> list[float]:\n",
    "    aggregated_data_uniV2 = decode(['(bool,bytes)[]'], b)[0]\n",
    "\n",
    "    ethusdc_reserves_raw = aggregated_data_uniV2[0]\n",
    "    [eth_bal, usdc_bal, _] = decode(['uint112','uint112','uint32'], ethusdc_reserves_raw[1])\n",
    "\n",
    "    eth_usdc_price = (eth_bal / usdc_bal)*1e12\n",
    "    print(f\"ETH/USDC: {eth_usdc_price}\")\n",
    "\n",
    "\n",
    "def decode_outputdata_uniV2V3_price(b: bytes) -> list[float]:\n",
    "    aggregated_data_uniV2V3 = decode(['(bool,bytes)[]'], b)[0]\n",
    "\n",
    "    # UNI-V2\n",
    "    ethusdc_reserves_raw = aggregated_data_uniV2V3[0]\n",
    "    [eth_bal, usdc_bal, time ] = decode(['uint112','uint112','uint32'], ethusdc_reserves_raw[1])\n",
    "\n",
    "    eth_usdc_price = (eth_bal / usdc_bal)*1e12\n",
    "    print(f\"ETH/USDC: {eth_usdc_price}\")\n",
    "\n",
    "    # UNI-V3\n",
    "    # slot0():\n",
    "    # sqrtPriceX96 uint160, tick int24, observationIndex uint16, observationCardinality uint16, observationCardinalityNext uint16, feeProtocol uint8, unlocked bool\n",
    "    # 'uint160', 'int24', 'uint16', 'uint16', 'uint16', 'uint8', 'bool'\n",
    "\n",
    "    wbtc_eth_slot0_raw = aggregated_data_uniV2V3[1]\n",
    "    wbtc_eth_slot0_sqrt_ratioX96 = decode(['uint160', 'int24', 'uint16', 'uint16', 'uint16', 'uint8', 'bool'], wbtc_eth_slot0_raw[1])[0]\n",
    "    wbtc_eth_price = wbtc_eth_slot0_sqrt_ratioX96**2 / 2**192 /1e10\n",
    "    eth_wbtc_price = 1/wbtc_eth_price\n",
    "    print(f\"WBTC/ETH: { wbtc_eth_price}\")\n",
    "    print(f\"ETH/WBTC: { eth_wbtc_price}\")\n",
    "\n",
    "    # Timestamp\n",
    "    timestamp_raw = aggregated_data_uniV2V3[-1]\n",
    "    timestamp = int(timestamp_raw[1].hex(),16)\n",
    "    \n",
    "    return [eth_usdc_price, eth_wbtc_price,timestamp]"
   ]
  },
  {
   "cell_type": "code",
   "execution_count": null,
   "id": "3762522c-caf2-4ae4-b8f8-d346887a07d7",
   "metadata": {},
   "outputs": [],
   "source": []
  },
  {
   "cell_type": "code",
   "execution_count": 539,
   "id": "720aa164-af91-4332-a48d-c43b2c4cb419",
   "metadata": {},
   "outputs": [],
   "source": [
    "# Function Signatures 4 bytes\n",
    "getBlocknumber_4b = '42cbb15c'\n",
    "getBloclTimestamp_4b= '0f28c97d'\n",
    "getReserves_4b = '0902f1ac'\n",
    "slot0_4b = '3850c7bd'"
   ]
  },
  {
   "cell_type": "code",
   "execution_count": 540,
   "id": "7fcf67f3-abd3-42a8-886d-ddfa7286a1a0",
   "metadata": {},
   "outputs": [],
   "source": [
    "txs = cryo.collect('transactions', blocks=['-10:21881984'], rpc ='https://eth.merkle.io')"
   ]
  },
  {
   "cell_type": "code",
   "execution_count": 541,
   "id": "f47f44e3-d72c-4cc5-966c-0440cab3a4d9",
   "metadata": {},
   "outputs": [
    {
     "data": {
      "text/plain": [
       "['0x17185afe19659c8a5f93a2a547058db9c660805f625400dcc89c015f0b405088',\n",
       " '0x5fbf92a74814561ad37de87b5e2c1fd590211af35c7d87e5785790dbceab1830',\n",
       " '0x72abd91c2ac8a5cf8706d663c2629acb28db1771f8363469b516a8eb509393f8',\n",
       " '0x93c047dc4368b039206159771a5165f3223c6b85d1e951c058fa3000338098cd',\n",
       " '0x1ac8af088ae8f77d094366408676245819caf9bcbba06a490887596764b1261b',\n",
       " '0xd46fe78a7aa9113b89ca90444b32b243a71cc3dfb809afa8c7016e9904782e8b',\n",
       " '0x0fca8e8943eefbad34ffea7f28a18f27b2897ec6a75cd068fc523b68c00618bf',\n",
       " '0x74ad3f7a7fc8caff74fabc5933cbd9ecd32d97a0f039ab0c488f7990a184f294',\n",
       " '0xf82048f49848fd81d37187adb7de887f2e0cb85f3d2c04a85455c38cb98ffd90',\n",
       " '0x6050315ae98f0eb328c6fae15c2759b4335d9fbc7883e463c410d3e710eeca01']"
      ]
     },
     "execution_count": 541,
     "metadata": {},
     "output_type": "execute_result"
    }
   ],
   "source": [
    "bytes_to_hexstr(txs['transaction_hash'].to_list())[:10]"
   ]
  },
  {
   "cell_type": "code",
   "execution_count": 542,
   "id": "525bdb8c-42e0-4cac-9a4c-11505657caf9",
   "metadata": {},
   "outputs": [],
   "source": [
    "# web3 instance, function from web3py\n",
    "w3 = web3.Web3()\n",
    "m3 = w3.eth.contract(address = MULTICALL3_ADDRESS, abi=MULTICALL3_ABI)"
   ]
  },
  {
   "cell_type": "markdown",
   "id": "a268231f-60d8-42ef-ac00-d9388fac7e87",
   "metadata": {},
   "source": [
    "### Get Block Number"
   ]
  },
  {
   "cell_type": "code",
   "execution_count": 543,
   "id": "25ef3197-fb66-45d9-aec8-567a87eac0da",
   "metadata": {},
   "outputs": [],
   "source": [
    "aggregate_calldata = [\n",
    "    [\n",
    "        MULTICALL3_ADDRESS,\n",
    "        f'0x{getBlocknumber_4b}',\n",
    "    ]\n",
    "]\n",
    "calldata = m3.encode_abi(\"tryAggregate\", args=[True, aggregate_calldata])"
   ]
  },
  {
   "cell_type": "code",
   "execution_count": 544,
   "id": "a7057008-1542-469c-8fa0-490ac34c8303",
   "metadata": {},
   "outputs": [
    {
     "data": {
      "text/plain": [
       "[['0xcA11bde05977b3631167028862bE2a173976CA11', '0x42cbb15c']]"
      ]
     },
     "execution_count": 544,
     "metadata": {},
     "output_type": "execute_result"
    }
   ],
   "source": [
    "# Args of the tryAggregate function\n",
    "aggregate_calldata"
   ]
  },
  {
   "cell_type": "code",
   "execution_count": 545,
   "id": "0b53d4e8-687e-4e7a-98bf-edaaa05f3468",
   "metadata": {},
   "outputs": [],
   "source": [
    "# calldata: this is the call data with info we want to get:\n",
    "# 0xbce38bd7 = tryAggregate(bool,(address,bytes)[])\n",
    "# aggregate_calldata = are the function arguments \n",
    "# address = Multicall_address, \n",
    "# bytes = Function Sign getblocknumber_4b = '42cbb15c'\n",
    "# if you see the output of call data info all there"
   ]
  },
  {
   "cell_type": "code",
   "execution_count": 546,
   "id": "bba87dd6-343b-4b7d-857b-82c87963a039",
   "metadata": {},
   "outputs": [
    {
     "data": {
      "text/plain": [
       "'0xbce38bd70000000000000000000000000000000000000000000000000000000000000001000000000000000000000000000000000000000000000000000000000000004000000000000000000000000000000000000000000000000000000000000000010000000000000000000000000000000000000000000000000000000000000020000000000000000000000000ca11bde05977b3631167028862be2a173976ca110000000000000000000000000000000000000000000000000000000000000040000000000000000000000000000000000000000000000000000000000000000442cbb15c00000000000000000000000000000000000000000000000000000000'"
      ]
     },
     "execution_count": 546,
     "metadata": {},
     "output_type": "execute_result"
    }
   ],
   "source": [
    "# This is the encoded data to use as calldata\n",
    "# 0xbce38bd7 = tryAggregate(bool,(address,bytes)[])\n",
    "# Multiclall Address + Block function signature\n",
    "calldata"
   ]
  },
  {
   "cell_type": "code",
   "execution_count": 547,
   "id": "916db73b-0a3c-4d36-9a3b-ea413a01c099",
   "metadata": {},
   "outputs": [],
   "source": [
    "cryo_kwargs = {\n",
    "    'rpc': 'https://eth.merkle.io',\n",
    "    'blocks': ['latest'], \n",
    "}\n",
    "            \n",
    "eth_call_df = cryo.collect(\n",
    "    'eth_calls',\n",
    "    to_address = [MULTICALL3_ADDRESS],\n",
    "    call_data=[calldata],\n",
    "     output_format=\"polars\",\n",
    "    **cryo_kwargs,\n",
    ")"
   ]
  },
  {
   "cell_type": "code",
   "execution_count": 548,
   "id": "f5806a50-1e89-4964-bafc-0b3de2b63291",
   "metadata": {},
   "outputs": [
    {
     "data": {
      "text/plain": [
       "b'\\x00\\x00\\x00\\x00\\x00\\x00\\x00\\x00\\x00\\x00\\x00\\x00\\x00\\x00\\x00\\x00\\x00\\x00\\x00\\x00\\x00\\x00\\x00\\x00\\x00\\x00\\x00\\x00\\x00\\x00\\x00 \\x00\\x00\\x00\\x00\\x00\\x00\\x00\\x00\\x00\\x00\\x00\\x00\\x00\\x00\\x00\\x00\\x00\\x00\\x00\\x00\\x00\\x00\\x00\\x00\\x00\\x00\\x00\\x00\\x00\\x00\\x00\\x01\\x00\\x00\\x00\\x00\\x00\\x00\\x00\\x00\\x00\\x00\\x00\\x00\\x00\\x00\\x00\\x00\\x00\\x00\\x00\\x00\\x00\\x00\\x00\\x00\\x00\\x00\\x00\\x00\\x00\\x00\\x00 \\x00\\x00\\x00\\x00\\x00\\x00\\x00\\x00\\x00\\x00\\x00\\x00\\x00\\x00\\x00\\x00\\x00\\x00\\x00\\x00\\x00\\x00\\x00\\x00\\x00\\x00\\x00\\x00\\x00\\x00\\x00\\x01\\x00\\x00\\x00\\x00\\x00\\x00\\x00\\x00\\x00\\x00\\x00\\x00\\x00\\x00\\x00\\x00\\x00\\x00\\x00\\x00\\x00\\x00\\x00\\x00\\x00\\x00\\x00\\x00\\x00\\x00\\x00@\\x00\\x00\\x00\\x00\\x00\\x00\\x00\\x00\\x00\\x00\\x00\\x00\\x00\\x00\\x00\\x00\\x00\\x00\\x00\\x00\\x00\\x00\\x00\\x00\\x00\\x00\\x00\\x00\\x00\\x00\\x00 \\x00\\x00\\x00\\x00\\x00\\x00\\x00\\x00\\x00\\x00\\x00\\x00\\x00\\x00\\x00\\x00\\x00\\x00\\x00\\x00\\x00\\x00\\x00\\x00\\x00\\x00\\x00\\x00\\x01Npc'"
      ]
     },
     "execution_count": 548,
     "metadata": {},
     "output_type": "execute_result"
    }
   ],
   "source": [
    "eth_call_df['output_data'][0]"
   ]
  },
  {
   "cell_type": "code",
   "execution_count": 549,
   "id": "154b9997-95c8-487a-a9a5-d88c531576c5",
   "metadata": {},
   "outputs": [],
   "source": [
    "outdata = eth_call_df['output_data'][0]"
   ]
  },
  {
   "cell_type": "code",
   "execution_count": 550,
   "id": "706d4795-868b-48bb-955a-eed7136ac9b8",
   "metadata": {},
   "outputs": [
    {
     "name": "stdout",
     "output_type": "stream",
     "text": [
      "00000000000000000000000000000000000000000000000000000000000000200000000000000000000000000000000000000000000000000000000000000001000000000000000000000000000000000000000000000000000000000000002000000000000000000000000000000000000000000000000000000000000000010000000000000000000000000000000000000000000000000000000000000040000000000000000000000000000000000000000000000000000000000000002000000000000000000000000000000000000000000000000000000000014e7063\n"
     ]
    }
   ],
   "source": [
    "print(outdata.hex())"
   ]
  },
  {
   "cell_type": "code",
   "execution_count": 551,
   "id": "7bfa1c30-5825-4458-9162-d692c8065d7e",
   "metadata": {
    "scrolled": true
   },
   "outputs": [],
   "source": [
    "decoded_data =decode(['(bool,bytes)[]'], outdata)[0]\n"
   ]
  },
  {
   "cell_type": "code",
   "execution_count": 552,
   "id": "cfc2f706-f8bf-428f-abf9-6dcffec6ab1e",
   "metadata": {},
   "outputs": [],
   "source": [
    "# decoded_data[0]"
   ]
  },
  {
   "cell_type": "code",
   "execution_count": 553,
   "id": "f93b0288-71c7-4115-85ee-341bb8e275c6",
   "metadata": {},
   "outputs": [],
   "source": [
    "\n",
    "# this is boolean and list first is true (we set in arg above)\n",
    "# decoded_data[0][1]"
   ]
  },
  {
   "cell_type": "code",
   "execution_count": 554,
   "id": "715a72d4-d5dc-4c72-bc2e-2e217ba9cbbd",
   "metadata": {},
   "outputs": [
    {
     "data": {
      "text/plain": [
       "21917795"
      ]
     },
     "execution_count": 554,
     "metadata": {},
     "output_type": "execute_result"
    }
   ],
   "source": [
    "# 0x14df71c= 21886748\n",
    "#  we call it from block function\n",
    "int(decoded_data[0][1].hex(),16)"
   ]
  },
  {
   "cell_type": "markdown",
   "id": "6ba44e37-1867-4b5a-bce6-dc8fe2bfd95c",
   "metadata": {},
   "source": [
    "## From UNI-V2: USDC >> ETH/USDC price"
   ]
  },
  {
   "cell_type": "code",
   "execution_count": 555,
   "id": "42998108-10b3-40fe-9436-737e3967c72c",
   "metadata": {},
   "outputs": [],
   "source": [
    "# web3 instance, function from web3py\n",
    "# w3 = web3.Web3()\n",
    "# m3 = w3.eth.contract(address = MULTICALL3_ADDRESS, abi=MULTICALL3_ABI)\n",
    "\n",
    "aggregate_calldata_uniV2 = [\n",
    "    [\n",
    "        UNIV2_ETH_USDC,\n",
    "        f'0x{getReserves_4b}',\n",
    "    ]\n",
    "]\n",
    "calldata_uniV2 = m3.encode_abi(\"tryAggregate\", args=[False, aggregate_calldata_uniV2])"
   ]
  },
  {
   "cell_type": "code",
   "execution_count": 556,
   "id": "1b9c250a-3056-44aa-b851-b42b7ce8b200",
   "metadata": {},
   "outputs": [
    {
     "name": "stdout",
     "output_type": "stream",
     "text": [
      "0xbce38bd70000000000000000000000000000000000000000000000000000000000000000000000000000000000000000000000000000000000000000000000000000004000000000000000000000000000000000000000000000000000000000000000010000000000000000000000000000000000000000000000000000000000000020000000000000000000000000b4e16d0168e52d35cacd2c6185b44281ec28c9dc000000000000000000000000000000000000000000000000000000000000004000000000000000000000000000000000000000000000000000000000000000040902f1ac00000000000000000000000000000000000000000000000000000000\n"
     ]
    }
   ],
   "source": [
    "\n",
    "print(calldata_uniV2)"
   ]
  },
  {
   "cell_type": "code",
   "execution_count": 557,
   "id": "0d355ace-8972-46b0-b4ec-332031a630e4",
   "metadata": {},
   "outputs": [],
   "source": [
    "cryo_kwargs = {\n",
    "    'rpc': 'https://eth.merkle.io',\n",
    "    'blocks': ['latest'], \n",
    "}\n",
    "            \n",
    "eth_call_uniV2_df = cryo.collect(\n",
    "    'eth_calls',\n",
    "    to_address = [MULTICALL3_ADDRESS],\n",
    "    call_data=[calldata_uniV2],\n",
    "     output_format=\"polars\",\n",
    "    **cryo_kwargs,\n",
    ")"
   ]
  },
  {
   "cell_type": "markdown",
   "id": "a8796393-859c-4c1d-813e-94ff4b905870",
   "metadata": {},
   "source": [
    "#### From UNI-V2: USDC >> Reserves"
   ]
  },
  {
   "cell_type": "code",
   "execution_count": 558,
   "id": "27f2184d-c1e7-4ee8-8fc0-28f61f605791",
   "metadata": {},
   "outputs": [],
   "source": [
    "outdata_uniV2= eth_call_uniV2_df['output_data'][0]"
   ]
  },
  {
   "cell_type": "code",
   "execution_count": 559,
   "id": "7d33dfa7-5d5b-4404-93d6-3f21f9151443",
   "metadata": {},
   "outputs": [
    {
     "data": {
      "text/plain": [
       "'000000000000000000000000000000000000000000000000000000000000002000000000000000000000000000000000000000000000000000000000000000010000000000000000000000000000000000000000000000000000000000000020000000000000000000000000000000000000000000000000000000000000000100000000000000000000000000000000000000000000000000000000000000400000000000000000000000000000000000000000000000000000000000000060000000000000000000000000000000000000000000000000000013697be49e410000000000000000000000000000000000000000000001b0b8a6daf063db6c750000000000000000000000000000000000000000000000000000000067bcb15f'"
      ]
     },
     "execution_count": 559,
     "metadata": {},
     "output_type": "execute_result"
    }
   ],
   "source": [
    "#  0x will give in order 1-Hex USDC Reserve 2-Hex ETH Reserve 3-Timestamp\n",
    "outdata_uniV2.hex()"
   ]
  },
  {
   "cell_type": "code",
   "execution_count": 560,
   "id": "485f71a1-4fff-46f5-b9f3-b6a8fef30c03",
   "metadata": {},
   "outputs": [],
   "source": [
    "decoded_data_uniV2 = decode(['(bool,bytes)[]'], outdata_uniV2)[0]"
   ]
  },
  {
   "cell_type": "code",
   "execution_count": 561,
   "id": "60974521-1f1f-449c-8417-56f62e77adea",
   "metadata": {},
   "outputs": [
    {
     "data": {
      "text/plain": [
       "((True,\n",
       "  b'\\x00\\x00\\x00\\x00\\x00\\x00\\x00\\x00\\x00\\x00\\x00\\x00\\x00\\x00\\x00\\x00\\x00\\x00\\x00\\x00\\x00\\x00\\x00\\x00\\x00\\x00\\x13i{\\xe4\\x9eA\\x00\\x00\\x00\\x00\\x00\\x00\\x00\\x00\\x00\\x00\\x00\\x00\\x00\\x00\\x00\\x00\\x00\\x00\\x00\\x00\\x00\\x00\\x01\\xb0\\xb8\\xa6\\xda\\xf0c\\xdblu\\x00\\x00\\x00\\x00\\x00\\x00\\x00\\x00\\x00\\x00\\x00\\x00\\x00\\x00\\x00\\x00\\x00\\x00\\x00\\x00\\x00\\x00\\x00\\x00\\x00\\x00\\x00\\x00g\\xbc\\xb1_'),)"
      ]
     },
     "execution_count": 561,
     "metadata": {},
     "output_type": "execute_result"
    }
   ],
   "source": [
    "decoded_data_uniV2 "
   ]
  },
  {
   "cell_type": "code",
   "execution_count": 562,
   "id": "935c1226-1339-4f69-a087-a7076749295b",
   "metadata": {},
   "outputs": [],
   "source": [
    "reserves_data_uniV2 = decode(['uint112','uint112','uint32'], decoded_data_uniV2[0][1])"
   ]
  },
  {
   "cell_type": "code",
   "execution_count": 563,
   "id": "1c0c21d6-d866-416d-ab94-3fe35b340f16",
   "metadata": {},
   "outputs": [
    {
     "data": {
      "text/plain": [
       "(21343771074113, 7982299002717641337973, 1740419423)"
      ]
     },
     "execution_count": 563,
     "metadata": {},
     "output_type": "execute_result"
    }
   ],
   "source": [
    "reserves_data_uniV2"
   ]
  },
  {
   "cell_type": "markdown",
   "id": "3462f093-520b-4b68-a262-ac7f4b12e192",
   "metadata": {},
   "source": [
    "#### From UNI-V2: USDC >> ETH/USDC price Def"
   ]
  },
  {
   "cell_type": "code",
   "execution_count": 564,
   "id": "d1b4c4e6-e678-4bce-ae57-892b52843151",
   "metadata": {},
   "outputs": [],
   "source": [
    "output_data_uniV2= eth_call_uniV2_df['output_data'][0]"
   ]
  },
  {
   "cell_type": "code",
   "execution_count": 565,
   "id": "2a61a095-d6f1-483e-98d8-b60d93708027",
   "metadata": {},
   "outputs": [
    {
     "name": "stdout",
     "output_type": "stream",
     "text": [
      "ETH/USDC: 2673.887694114983\n"
     ]
    }
   ],
   "source": [
    "decode_outputdata_uniV2_price(output_data_uniV2)"
   ]
  },
  {
   "cell_type": "markdown",
   "id": "8b1b77f4-3fdf-489e-9f48-df1d94939f00",
   "metadata": {},
   "source": [
    "#### From UNI-V3: WBTC >> WBTC/ETH price Def"
   ]
  },
  {
   "cell_type": "markdown",
   "id": "8846a9ab-debb-453e-988f-e14b75490e1a",
   "metadata": {},
   "source": [
    "##### In this case we add the function we want to call to the previous one, so we call:\n",
    "- UNIV2_ETH_USDC\n",
    "- UNIV3_WBTC_ETH"
   ]
  },
  {
   "cell_type": "code",
   "execution_count": 596,
   "id": "9850c98a-b9b9-4396-bec0-bfdf81f64aeb",
   "metadata": {},
   "outputs": [],
   "source": [
    "# web3 instance, function from web3py: Done\n",
    "# Aggreagte call data for V2 and V3\n",
    "\n",
    "aggregate_calldata_uniV2_V3 = [\n",
    "    [\n",
    "        UNIV2_ETH_USDC,\n",
    "        f'0x{getReserves_4b}',\n",
    "    ],\n",
    "    [\n",
    "        UNIV3_WBTC_ETH,\n",
    "        f'0x{slot0_4b}',\n",
    "    ],\n",
    "    [\n",
    "        MULTICALL3_ADDRESS,\n",
    "        f'0x{getBloclTimestamp_4b}'\n",
    "    ]\n",
    "\n",
    "]\n",
    "calldata_uniV2_V3 = m3.encode_abi(\"tryAggregate\", args=[False, aggregate_calldata_uniV2_V3])"
   ]
  },
  {
   "cell_type": "code",
   "execution_count": 597,
   "id": "ca293957-f827-43b3-bc3c-ee410bba4697",
   "metadata": {},
   "outputs": [
    {
     "data": {
      "text/plain": [
       "[['0xB4e16d0168e52d35CaCD2c6185b44281Ec28C9Dc', '0x0902f1ac'],\n",
       " ['0xCBCdF9626bC03E24f779434178A73a0B4bad62eD', '0x3850c7bd'],\n",
       " ['0xcA11bde05977b3631167028862bE2a173976CA11', '0x0f28c97d']]"
      ]
     },
     "execution_count": 597,
     "metadata": {},
     "output_type": "execute_result"
    }
   ],
   "source": [
    "aggregate_calldata_uniV2_V3"
   ]
  },
  {
   "cell_type": "code",
   "execution_count": 598,
   "id": "8c9844a8-516a-4105-90e5-83d2bcbd9c9f",
   "metadata": {},
   "outputs": [
    {
     "name": "stdout",
     "output_type": "stream",
     "text": [
      "0xbce38bd7000000000000000000000000000000000000000000000000000000000000000000000000000000000000000000000000000000000000000000000000000000400000000000000000000000000000000000000000000000000000000000000003000000000000000000000000000000000000000000000000000000000000006000000000000000000000000000000000000000000000000000000000000000e00000000000000000000000000000000000000000000000000000000000000160000000000000000000000000b4e16d0168e52d35cacd2c6185b44281ec28c9dc000000000000000000000000000000000000000000000000000000000000004000000000000000000000000000000000000000000000000000000000000000040902f1ac00000000000000000000000000000000000000000000000000000000000000000000000000000000cbcdf9626bc03e24f779434178a73a0b4bad62ed000000000000000000000000000000000000000000000000000000000000004000000000000000000000000000000000000000000000000000000000000000043850c7bd00000000000000000000000000000000000000000000000000000000000000000000000000000000ca11bde05977b3631167028862be2a173976ca11000000000000000000000000000000000000000000000000000000000000004000000000000000000000000000000000000000000000000000000000000000040f28c97d00000000000000000000000000000000000000000000000000000000\n"
     ]
    }
   ],
   "source": [
    "print(calldata_uniV2_V3)"
   ]
  },
  {
   "cell_type": "code",
   "execution_count": 606,
   "id": "cea49dab-c9b0-4eab-af10-bf9c6d3b62a9",
   "metadata": {},
   "outputs": [],
   "source": [
    "cryo_kwargs = {\n",
    "    'rpc': 'https://eth.merkle.io',\n",
    "    'blocks': ['-10:latest'], \n",
    "}\n",
    "\n",
    "eth_call_uniV2_V3_df = cryo.collect(\n",
    "    'eth_calls',\n",
    "    to_address = [MULTICALL3_ADDRESS],\n",
    "    call_data=[calldata_uniV2_V3],\n",
    "     output_format=\"polars\",\n",
    "    **cryo_kwargs,\n",
    ")"
   ]
  },
  {
   "cell_type": "code",
   "execution_count": 607,
   "id": "29b3051a-fdf0-4faf-89c8-d390e7a9c72d",
   "metadata": {},
   "outputs": [
    {
     "data": {
      "text/html": [
       "<div><style>\n",
       ".dataframe > thead > tr,\n",
       ".dataframe > tbody > tr {\n",
       "  text-align: right;\n",
       "  white-space: pre-wrap;\n",
       "}\n",
       "</style>\n",
       "<small>shape: (10, 5)</small><table border=\"1\" class=\"dataframe\"><thead><tr><th>block_number</th><th>contract_address</th><th>call_data</th><th>output_data</th><th>chain_id</th></tr><tr><td>u32</td><td>binary</td><td>binary</td><td>binary</td><td>u64</td></tr></thead><tbody><tr><td>21917818</td><td>b&quot;\\xca\\x11\\xbd\\xe0Yw\\xb3c\\x11g\\x02\\x88b\\xbe*\\x179v\\xca\\x11&quot;</td><td>b&quot;\\xbc\\xe3\\x8b\\xd7\\x00\\x00\\x00\\x00\\x00\\x00\\x00\\x00\\x00\\x00\\x00\\x00\\x00\\x00\\x00\\x00\\x00\\x00\\x00\\x00\\x00\\x00\\x00\\x00\\x00\\x00\\x00\\x00\\x00\\x00\\x00\\x00\\x00\\x00\\x00\\x00\\x00\\x00\\x00\\x00\\x00\\x00\\x00\\x00\\x00\\x00\\x00\\x00\\x00\\x00\\x00\\x00\\x00\\x00\\x00\\x00&quot;…</td><td>b&quot;\\x00\\x00\\x00\\x00\\x00\\x00\\x00\\x00\\x00\\x00\\x00\\x00\\x00\\x00\\x00\\x00\\x00\\x00\\x00\\x00\\x00\\x00\\x00\\x00\\x00\\x00\\x00\\x00\\x00\\x00\\x00\\x20\\x00\\x00\\x00\\x00\\x00\\x00\\x00\\x00\\x00\\x00\\x00\\x00\\x00\\x00\\x00\\x00\\x00\\x00\\x00\\x00\\x00\\x00\\x00\\x00\\x00\\x00\\x00\\x00&quot;…</td><td>1</td></tr><tr><td>21917819</td><td>b&quot;\\xca\\x11\\xbd\\xe0Yw\\xb3c\\x11g\\x02\\x88b\\xbe*\\x179v\\xca\\x11&quot;</td><td>b&quot;\\xbc\\xe3\\x8b\\xd7\\x00\\x00\\x00\\x00\\x00\\x00\\x00\\x00\\x00\\x00\\x00\\x00\\x00\\x00\\x00\\x00\\x00\\x00\\x00\\x00\\x00\\x00\\x00\\x00\\x00\\x00\\x00\\x00\\x00\\x00\\x00\\x00\\x00\\x00\\x00\\x00\\x00\\x00\\x00\\x00\\x00\\x00\\x00\\x00\\x00\\x00\\x00\\x00\\x00\\x00\\x00\\x00\\x00\\x00\\x00\\x00&quot;…</td><td>b&quot;\\x00\\x00\\x00\\x00\\x00\\x00\\x00\\x00\\x00\\x00\\x00\\x00\\x00\\x00\\x00\\x00\\x00\\x00\\x00\\x00\\x00\\x00\\x00\\x00\\x00\\x00\\x00\\x00\\x00\\x00\\x00\\x20\\x00\\x00\\x00\\x00\\x00\\x00\\x00\\x00\\x00\\x00\\x00\\x00\\x00\\x00\\x00\\x00\\x00\\x00\\x00\\x00\\x00\\x00\\x00\\x00\\x00\\x00\\x00\\x00&quot;…</td><td>1</td></tr><tr><td>21917820</td><td>b&quot;\\xca\\x11\\xbd\\xe0Yw\\xb3c\\x11g\\x02\\x88b\\xbe*\\x179v\\xca\\x11&quot;</td><td>b&quot;\\xbc\\xe3\\x8b\\xd7\\x00\\x00\\x00\\x00\\x00\\x00\\x00\\x00\\x00\\x00\\x00\\x00\\x00\\x00\\x00\\x00\\x00\\x00\\x00\\x00\\x00\\x00\\x00\\x00\\x00\\x00\\x00\\x00\\x00\\x00\\x00\\x00\\x00\\x00\\x00\\x00\\x00\\x00\\x00\\x00\\x00\\x00\\x00\\x00\\x00\\x00\\x00\\x00\\x00\\x00\\x00\\x00\\x00\\x00\\x00\\x00&quot;…</td><td>b&quot;\\x00\\x00\\x00\\x00\\x00\\x00\\x00\\x00\\x00\\x00\\x00\\x00\\x00\\x00\\x00\\x00\\x00\\x00\\x00\\x00\\x00\\x00\\x00\\x00\\x00\\x00\\x00\\x00\\x00\\x00\\x00\\x20\\x00\\x00\\x00\\x00\\x00\\x00\\x00\\x00\\x00\\x00\\x00\\x00\\x00\\x00\\x00\\x00\\x00\\x00\\x00\\x00\\x00\\x00\\x00\\x00\\x00\\x00\\x00\\x00&quot;…</td><td>1</td></tr><tr><td>21917821</td><td>b&quot;\\xca\\x11\\xbd\\xe0Yw\\xb3c\\x11g\\x02\\x88b\\xbe*\\x179v\\xca\\x11&quot;</td><td>b&quot;\\xbc\\xe3\\x8b\\xd7\\x00\\x00\\x00\\x00\\x00\\x00\\x00\\x00\\x00\\x00\\x00\\x00\\x00\\x00\\x00\\x00\\x00\\x00\\x00\\x00\\x00\\x00\\x00\\x00\\x00\\x00\\x00\\x00\\x00\\x00\\x00\\x00\\x00\\x00\\x00\\x00\\x00\\x00\\x00\\x00\\x00\\x00\\x00\\x00\\x00\\x00\\x00\\x00\\x00\\x00\\x00\\x00\\x00\\x00\\x00\\x00&quot;…</td><td>b&quot;\\x00\\x00\\x00\\x00\\x00\\x00\\x00\\x00\\x00\\x00\\x00\\x00\\x00\\x00\\x00\\x00\\x00\\x00\\x00\\x00\\x00\\x00\\x00\\x00\\x00\\x00\\x00\\x00\\x00\\x00\\x00\\x20\\x00\\x00\\x00\\x00\\x00\\x00\\x00\\x00\\x00\\x00\\x00\\x00\\x00\\x00\\x00\\x00\\x00\\x00\\x00\\x00\\x00\\x00\\x00\\x00\\x00\\x00\\x00\\x00&quot;…</td><td>1</td></tr><tr><td>21917822</td><td>b&quot;\\xca\\x11\\xbd\\xe0Yw\\xb3c\\x11g\\x02\\x88b\\xbe*\\x179v\\xca\\x11&quot;</td><td>b&quot;\\xbc\\xe3\\x8b\\xd7\\x00\\x00\\x00\\x00\\x00\\x00\\x00\\x00\\x00\\x00\\x00\\x00\\x00\\x00\\x00\\x00\\x00\\x00\\x00\\x00\\x00\\x00\\x00\\x00\\x00\\x00\\x00\\x00\\x00\\x00\\x00\\x00\\x00\\x00\\x00\\x00\\x00\\x00\\x00\\x00\\x00\\x00\\x00\\x00\\x00\\x00\\x00\\x00\\x00\\x00\\x00\\x00\\x00\\x00\\x00\\x00&quot;…</td><td>b&quot;\\x00\\x00\\x00\\x00\\x00\\x00\\x00\\x00\\x00\\x00\\x00\\x00\\x00\\x00\\x00\\x00\\x00\\x00\\x00\\x00\\x00\\x00\\x00\\x00\\x00\\x00\\x00\\x00\\x00\\x00\\x00\\x20\\x00\\x00\\x00\\x00\\x00\\x00\\x00\\x00\\x00\\x00\\x00\\x00\\x00\\x00\\x00\\x00\\x00\\x00\\x00\\x00\\x00\\x00\\x00\\x00\\x00\\x00\\x00\\x00&quot;…</td><td>1</td></tr><tr><td>21917823</td><td>b&quot;\\xca\\x11\\xbd\\xe0Yw\\xb3c\\x11g\\x02\\x88b\\xbe*\\x179v\\xca\\x11&quot;</td><td>b&quot;\\xbc\\xe3\\x8b\\xd7\\x00\\x00\\x00\\x00\\x00\\x00\\x00\\x00\\x00\\x00\\x00\\x00\\x00\\x00\\x00\\x00\\x00\\x00\\x00\\x00\\x00\\x00\\x00\\x00\\x00\\x00\\x00\\x00\\x00\\x00\\x00\\x00\\x00\\x00\\x00\\x00\\x00\\x00\\x00\\x00\\x00\\x00\\x00\\x00\\x00\\x00\\x00\\x00\\x00\\x00\\x00\\x00\\x00\\x00\\x00\\x00&quot;…</td><td>b&quot;\\x00\\x00\\x00\\x00\\x00\\x00\\x00\\x00\\x00\\x00\\x00\\x00\\x00\\x00\\x00\\x00\\x00\\x00\\x00\\x00\\x00\\x00\\x00\\x00\\x00\\x00\\x00\\x00\\x00\\x00\\x00\\x20\\x00\\x00\\x00\\x00\\x00\\x00\\x00\\x00\\x00\\x00\\x00\\x00\\x00\\x00\\x00\\x00\\x00\\x00\\x00\\x00\\x00\\x00\\x00\\x00\\x00\\x00\\x00\\x00&quot;…</td><td>1</td></tr><tr><td>21917824</td><td>b&quot;\\xca\\x11\\xbd\\xe0Yw\\xb3c\\x11g\\x02\\x88b\\xbe*\\x179v\\xca\\x11&quot;</td><td>b&quot;\\xbc\\xe3\\x8b\\xd7\\x00\\x00\\x00\\x00\\x00\\x00\\x00\\x00\\x00\\x00\\x00\\x00\\x00\\x00\\x00\\x00\\x00\\x00\\x00\\x00\\x00\\x00\\x00\\x00\\x00\\x00\\x00\\x00\\x00\\x00\\x00\\x00\\x00\\x00\\x00\\x00\\x00\\x00\\x00\\x00\\x00\\x00\\x00\\x00\\x00\\x00\\x00\\x00\\x00\\x00\\x00\\x00\\x00\\x00\\x00\\x00&quot;…</td><td>b&quot;\\x00\\x00\\x00\\x00\\x00\\x00\\x00\\x00\\x00\\x00\\x00\\x00\\x00\\x00\\x00\\x00\\x00\\x00\\x00\\x00\\x00\\x00\\x00\\x00\\x00\\x00\\x00\\x00\\x00\\x00\\x00\\x20\\x00\\x00\\x00\\x00\\x00\\x00\\x00\\x00\\x00\\x00\\x00\\x00\\x00\\x00\\x00\\x00\\x00\\x00\\x00\\x00\\x00\\x00\\x00\\x00\\x00\\x00\\x00\\x00&quot;…</td><td>1</td></tr><tr><td>21917825</td><td>b&quot;\\xca\\x11\\xbd\\xe0Yw\\xb3c\\x11g\\x02\\x88b\\xbe*\\x179v\\xca\\x11&quot;</td><td>b&quot;\\xbc\\xe3\\x8b\\xd7\\x00\\x00\\x00\\x00\\x00\\x00\\x00\\x00\\x00\\x00\\x00\\x00\\x00\\x00\\x00\\x00\\x00\\x00\\x00\\x00\\x00\\x00\\x00\\x00\\x00\\x00\\x00\\x00\\x00\\x00\\x00\\x00\\x00\\x00\\x00\\x00\\x00\\x00\\x00\\x00\\x00\\x00\\x00\\x00\\x00\\x00\\x00\\x00\\x00\\x00\\x00\\x00\\x00\\x00\\x00\\x00&quot;…</td><td>b&quot;\\x00\\x00\\x00\\x00\\x00\\x00\\x00\\x00\\x00\\x00\\x00\\x00\\x00\\x00\\x00\\x00\\x00\\x00\\x00\\x00\\x00\\x00\\x00\\x00\\x00\\x00\\x00\\x00\\x00\\x00\\x00\\x20\\x00\\x00\\x00\\x00\\x00\\x00\\x00\\x00\\x00\\x00\\x00\\x00\\x00\\x00\\x00\\x00\\x00\\x00\\x00\\x00\\x00\\x00\\x00\\x00\\x00\\x00\\x00\\x00&quot;…</td><td>1</td></tr><tr><td>21917826</td><td>b&quot;\\xca\\x11\\xbd\\xe0Yw\\xb3c\\x11g\\x02\\x88b\\xbe*\\x179v\\xca\\x11&quot;</td><td>b&quot;\\xbc\\xe3\\x8b\\xd7\\x00\\x00\\x00\\x00\\x00\\x00\\x00\\x00\\x00\\x00\\x00\\x00\\x00\\x00\\x00\\x00\\x00\\x00\\x00\\x00\\x00\\x00\\x00\\x00\\x00\\x00\\x00\\x00\\x00\\x00\\x00\\x00\\x00\\x00\\x00\\x00\\x00\\x00\\x00\\x00\\x00\\x00\\x00\\x00\\x00\\x00\\x00\\x00\\x00\\x00\\x00\\x00\\x00\\x00\\x00\\x00&quot;…</td><td>b&quot;\\x00\\x00\\x00\\x00\\x00\\x00\\x00\\x00\\x00\\x00\\x00\\x00\\x00\\x00\\x00\\x00\\x00\\x00\\x00\\x00\\x00\\x00\\x00\\x00\\x00\\x00\\x00\\x00\\x00\\x00\\x00\\x20\\x00\\x00\\x00\\x00\\x00\\x00\\x00\\x00\\x00\\x00\\x00\\x00\\x00\\x00\\x00\\x00\\x00\\x00\\x00\\x00\\x00\\x00\\x00\\x00\\x00\\x00\\x00\\x00&quot;…</td><td>1</td></tr><tr><td>21917827</td><td>b&quot;\\xca\\x11\\xbd\\xe0Yw\\xb3c\\x11g\\x02\\x88b\\xbe*\\x179v\\xca\\x11&quot;</td><td>b&quot;\\xbc\\xe3\\x8b\\xd7\\x00\\x00\\x00\\x00\\x00\\x00\\x00\\x00\\x00\\x00\\x00\\x00\\x00\\x00\\x00\\x00\\x00\\x00\\x00\\x00\\x00\\x00\\x00\\x00\\x00\\x00\\x00\\x00\\x00\\x00\\x00\\x00\\x00\\x00\\x00\\x00\\x00\\x00\\x00\\x00\\x00\\x00\\x00\\x00\\x00\\x00\\x00\\x00\\x00\\x00\\x00\\x00\\x00\\x00\\x00\\x00&quot;…</td><td>b&quot;\\x00\\x00\\x00\\x00\\x00\\x00\\x00\\x00\\x00\\x00\\x00\\x00\\x00\\x00\\x00\\x00\\x00\\x00\\x00\\x00\\x00\\x00\\x00\\x00\\x00\\x00\\x00\\x00\\x00\\x00\\x00\\x20\\x00\\x00\\x00\\x00\\x00\\x00\\x00\\x00\\x00\\x00\\x00\\x00\\x00\\x00\\x00\\x00\\x00\\x00\\x00\\x00\\x00\\x00\\x00\\x00\\x00\\x00\\x00\\x00&quot;…</td><td>1</td></tr></tbody></table></div>"
      ],
      "text/plain": [
       "shape: (10, 5)\n",
       "┌──────────────┬────────────────────────┬───────────────────────┬───────────────────────┬──────────┐\n",
       "│ block_number ┆ contract_address       ┆ call_data             ┆ output_data           ┆ chain_id │\n",
       "│ ---          ┆ ---                    ┆ ---                   ┆ ---                   ┆ ---      │\n",
       "│ u32          ┆ binary                 ┆ binary                ┆ binary                ┆ u64      │\n",
       "╞══════════════╪════════════════════════╪═══════════════════════╪═══════════════════════╪══════════╡\n",
       "│ 21917818     ┆ b\"\\xca\\x11\\xbd\\xe0Yw\\x ┆ b\"\\xbc\\xe3\\x8b\\xd7\\x0 ┆ b\"\\x00\\x00\\x00\\x00\\x0 ┆ 1        │\n",
       "│              ┆ b3c\\x11g…              ┆ 0\\x00\\x00…            ┆ 0\\x00\\x00…            ┆          │\n",
       "│ 21917819     ┆ b\"\\xca\\x11\\xbd\\xe0Yw\\x ┆ b\"\\xbc\\xe3\\x8b\\xd7\\x0 ┆ b\"\\x00\\x00\\x00\\x00\\x0 ┆ 1        │\n",
       "│              ┆ b3c\\x11g…              ┆ 0\\x00\\x00…            ┆ 0\\x00\\x00…            ┆          │\n",
       "│ 21917820     ┆ b\"\\xca\\x11\\xbd\\xe0Yw\\x ┆ b\"\\xbc\\xe3\\x8b\\xd7\\x0 ┆ b\"\\x00\\x00\\x00\\x00\\x0 ┆ 1        │\n",
       "│              ┆ b3c\\x11g…              ┆ 0\\x00\\x00…            ┆ 0\\x00\\x00…            ┆          │\n",
       "│ 21917821     ┆ b\"\\xca\\x11\\xbd\\xe0Yw\\x ┆ b\"\\xbc\\xe3\\x8b\\xd7\\x0 ┆ b\"\\x00\\x00\\x00\\x00\\x0 ┆ 1        │\n",
       "│              ┆ b3c\\x11g…              ┆ 0\\x00\\x00…            ┆ 0\\x00\\x00…            ┆          │\n",
       "│ 21917822     ┆ b\"\\xca\\x11\\xbd\\xe0Yw\\x ┆ b\"\\xbc\\xe3\\x8b\\xd7\\x0 ┆ b\"\\x00\\x00\\x00\\x00\\x0 ┆ 1        │\n",
       "│              ┆ b3c\\x11g…              ┆ 0\\x00\\x00…            ┆ 0\\x00\\x00…            ┆          │\n",
       "│ 21917823     ┆ b\"\\xca\\x11\\xbd\\xe0Yw\\x ┆ b\"\\xbc\\xe3\\x8b\\xd7\\x0 ┆ b\"\\x00\\x00\\x00\\x00\\x0 ┆ 1        │\n",
       "│              ┆ b3c\\x11g…              ┆ 0\\x00\\x00…            ┆ 0\\x00\\x00…            ┆          │\n",
       "│ 21917824     ┆ b\"\\xca\\x11\\xbd\\xe0Yw\\x ┆ b\"\\xbc\\xe3\\x8b\\xd7\\x0 ┆ b\"\\x00\\x00\\x00\\x00\\x0 ┆ 1        │\n",
       "│              ┆ b3c\\x11g…              ┆ 0\\x00\\x00…            ┆ 0\\x00\\x00…            ┆          │\n",
       "│ 21917825     ┆ b\"\\xca\\x11\\xbd\\xe0Yw\\x ┆ b\"\\xbc\\xe3\\x8b\\xd7\\x0 ┆ b\"\\x00\\x00\\x00\\x00\\x0 ┆ 1        │\n",
       "│              ┆ b3c\\x11g…              ┆ 0\\x00\\x00…            ┆ 0\\x00\\x00…            ┆          │\n",
       "│ 21917826     ┆ b\"\\xca\\x11\\xbd\\xe0Yw\\x ┆ b\"\\xbc\\xe3\\x8b\\xd7\\x0 ┆ b\"\\x00\\x00\\x00\\x00\\x0 ┆ 1        │\n",
       "│              ┆ b3c\\x11g…              ┆ 0\\x00\\x00…            ┆ 0\\x00\\x00…            ┆          │\n",
       "│ 21917827     ┆ b\"\\xca\\x11\\xbd\\xe0Yw\\x ┆ b\"\\xbc\\xe3\\x8b\\xd7\\x0 ┆ b\"\\x00\\x00\\x00\\x00\\x0 ┆ 1        │\n",
       "│              ┆ b3c\\x11g…              ┆ 0\\x00\\x00…            ┆ 0\\x00\\x00…            ┆          │\n",
       "└──────────────┴────────────────────────┴───────────────────────┴───────────────────────┴──────────┘"
      ]
     },
     "execution_count": 607,
     "metadata": {},
     "output_type": "execute_result"
    }
   ],
   "source": [
    "eth_call_uniV2_V3_df"
   ]
  },
  {
   "cell_type": "code",
   "execution_count": 608,
   "id": "160ab835-44b6-4661-b3d0-dbcec71ac2e6",
   "metadata": {},
   "outputs": [],
   "source": [
    "outdata_uniV2V3 = eth_call_uniV2_V3_df['output_data'][0]"
   ]
  },
  {
   "cell_type": "code",
   "execution_count": 609,
   "id": "0964582c-2a4b-4460-994b-30fd52f6a9ad",
   "metadata": {},
   "outputs": [
    {
     "data": {
      "text/plain": [
       "'0000000000000000000000000000000000000000000000000000000000000020000000000000000000000000000000000000000000000000000000000000000300000000000000000000000000000000000000000000000000000000000000600000000000000000000000000000000000000000000000000000000000000120000000000000000000000000000000000000000000000000000000000000026000000000000000000000000000000000000000000000000000000000000000010000000000000000000000000000000000000000000000000000000000000040000000000000000000000000000000000000000000000000000000000000006000000000000000000000000000000000000000000000000000001367805947e20000000000000000000000000000000000000000000001b0e50017f9ad1f40080000000000000000000000000000000000000000000000000000000067bcb2f70000000000000000000000000000000000000000000000000000000000000001000000000000000000000000000000000000000000000000000000000000004000000000000000000000000000000000000000000000000000000000000000e000000000000000000000000000000000000916eac0e2677f3e0438c6b1c259820000000000000000000000000000000000000000000000000000000000040eea000000000000000000000000000000000000000000000000000000000000004800000000000000000000000000000000000000000000000000000000000000c800000000000000000000000000000000000000000000000000000000000000c8000000000000000000000000000000000000000000000000000000000000000000000000000000000000000000000000000000000000000000000000000000010000000000000000000000000000000000000000000000000000000000000001000000000000000000000000000000000000000000000000000000000000004000000000000000000000000000000000000000000000000000000000000000200000000000000000000000000000000000000000000000000000000067bcb303'"
      ]
     },
     "execution_count": 609,
     "metadata": {},
     "output_type": "execute_result"
    }
   ],
   "source": [
    "# output_data_V2V3.hex()\n",
    "outdata_uniV2V3.hex()"
   ]
  },
  {
   "cell_type": "code",
   "execution_count": 610,
   "id": "1cc1f065-6b6a-4f69-a622-45322c7c85e1",
   "metadata": {},
   "outputs": [
    {
     "name": "stdout",
     "output_type": "stream",
     "text": [
      "ETH/USDC: 2671.751321001822\n",
      "WBTC/ETH: 35.48474737513748\n",
      "ETH/WBTC: 0.02818112214321846\n"
     ]
    },
    {
     "data": {
      "text/plain": [
       "[2671.751321001822, 0.02818112214321846, 1740419843]"
      ]
     },
     "execution_count": 610,
     "metadata": {},
     "output_type": "execute_result"
    }
   ],
   "source": [
    "decode_outputdata_uniV2V3_price(outdata_uniV2V3)\n",
    "\n"
   ]
  },
  {
   "cell_type": "code",
   "execution_count": 611,
   "id": "7dccd875-3063-4e76-94d7-166ed8b3f7e9",
   "metadata": {},
   "outputs": [
    {
     "name": "stdout",
     "output_type": "stream",
     "text": [
      "ETH/USDC: 2671.751321001822\n",
      "WBTC/ETH: 35.48474737513748\n",
      "ETH/WBTC: 0.02818112214321846\n",
      "ETH/USDC: 2671.4629504900818\n",
      "WBTC/ETH: 35.48474737513748\n",
      "ETH/WBTC: 0.02818112214321846\n",
      "ETH/USDC: 2671.4629504900818\n",
      "WBTC/ETH: 35.48474737513748\n",
      "ETH/WBTC: 0.02818112214321846\n",
      "ETH/USDC: 2671.4629504900818\n",
      "WBTC/ETH: 35.48474737513748\n",
      "ETH/WBTC: 0.02818112214321846\n",
      "ETH/USDC: 2671.4430507641273\n",
      "WBTC/ETH: 35.48474737513748\n",
      "ETH/WBTC: 0.02818112214321846\n",
      "ETH/USDC: 2671.4430507641273\n",
      "WBTC/ETH: 35.48474737513748\n",
      "ETH/WBTC: 0.02818112214321846\n",
      "ETH/USDC: 2671.4430507641273\n",
      "WBTC/ETH: 35.48474737513748\n",
      "ETH/WBTC: 0.02818112214321846\n",
      "ETH/USDC: 2671.37641584923\n",
      "WBTC/ETH: 35.48474737513748\n",
      "ETH/WBTC: 0.02818112214321846\n",
      "ETH/USDC: 2671.37641584923\n",
      "WBTC/ETH: 35.48474737513748\n",
      "ETH/WBTC: 0.02818112214321846\n",
      "ETH/USDC: 2670.441451981124\n",
      "WBTC/ETH: 35.48474737513748\n",
      "ETH/WBTC: 0.02818112214321846\n"
     ]
    }
   ],
   "source": [
    "prices = [decode_outputdata_uniV2V3_price(x) for x in eth_call_uniV2_V3_df['output_data'].to_list() ]"
   ]
  },
  {
   "cell_type": "code",
   "execution_count": 612,
   "id": "fded1582-f448-48c4-bcbb-0d4612dec5b7",
   "metadata": {},
   "outputs": [
    {
     "data": {
      "text/plain": [
       "[[2671.751321001822, 0.02818112214321846, 1740419843],\n",
       " [2671.4629504900818, 0.02818112214321846, 1740419855],\n",
       " [2671.4629504900818, 0.02818112214321846, 1740419867],\n",
       " [2671.4629504900818, 0.02818112214321846, 1740419879],\n",
       " [2671.4430507641273, 0.02818112214321846, 1740419891],\n",
       " [2671.4430507641273, 0.02818112214321846, 1740419903],\n",
       " [2671.4430507641273, 0.02818112214321846, 1740419915],\n",
       " [2671.37641584923, 0.02818112214321846, 1740419927],\n",
       " [2671.37641584923, 0.02818112214321846, 1740419939],\n",
       " [2670.441451981124, 0.02818112214321846, 1740419951]]"
      ]
     },
     "execution_count": 612,
     "metadata": {},
     "output_type": "execute_result"
    }
   ],
   "source": [
    "prices"
   ]
  },
  {
   "cell_type": "code",
   "execution_count": null,
   "id": "fbec9512-2be2-4cd7-bde5-567ce21fad03",
   "metadata": {},
   "outputs": [],
   "source": []
  },
  {
   "cell_type": "code",
   "execution_count": null,
   "id": "664edca2-c3fa-43ef-95f1-511a324d2c4e",
   "metadata": {},
   "outputs": [],
   "source": []
  },
  {
   "cell_type": "code",
   "execution_count": null,
   "id": "2f5a8fb7-bd82-4517-a340-2509db4664a2",
   "metadata": {},
   "outputs": [],
   "source": []
  }
 ],
 "metadata": {
  "kernelspec": {
   "display_name": "Python 3 (ipykernel)",
   "language": "python",
   "name": "python3"
  },
  "language_info": {
   "codemirror_mode": {
    "name": "ipython",
    "version": 3
   },
   "file_extension": ".py",
   "mimetype": "text/x-python",
   "name": "python",
   "nbconvert_exporter": "python",
   "pygments_lexer": "ipython3",
   "version": "3.12.8"
  }
 },
 "nbformat": 4,
 "nbformat_minor": 5
}
