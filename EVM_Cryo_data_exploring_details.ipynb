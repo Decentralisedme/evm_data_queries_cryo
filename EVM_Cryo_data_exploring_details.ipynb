{
 "cells": [
  {
   "cell_type": "code",
   "execution_count": 1,
   "id": "e288d0a3-4ceb-4417-bf6a-f30c2665c8c2",
   "metadata": {},
   "outputs": [],
   "source": [
    "import cryo\n",
    "import polars as pl\n",
    "import binascii\n",
    "import web3\n",
    "import json\n",
    "from eth_abi import decode\n",
    "import seaborn as sns\n",
    "import matplotlib.pyplot as plt\n",
    "from datetime import datetime\n",
    "import pandas as pd"
   ]
  },
  {
   "cell_type": "code",
   "execution_count": 2,
   "id": "e82331f5-4fdd-4a12-98f9-f414d54c4abc",
   "metadata": {},
   "outputs": [],
   "source": [
    "# The multical cantract address, but we also need ABI\n",
    "MULTICALL3_ADDRESS = '0xcA11bde05977b3631167028862bE2a173976CA11'\n",
    "MULTICALL3_ABI=json.loads('[{\"inputs\":[{\"internalType\":\"bool\",\"name\":\"requireSuccess\",\"type\":\"bool\"},{\"components\":[{\"internalType\":\"address\",\"name\":\"target\",\"type\":\"address\"},{\"internalType\":\"bytes\",\"name\":\"callData\",\"type\":\"bytes\"}],\"internalType\":\"struct Multicall3.Call[]\",\"name\":\"calls\",\"type\":\"tuple[]\"}],\"name\":\"tryAggregate\",\"outputs\":[{\"components\":[{\"internalType\":\"bool\",\"name\":\"success\",\"type\":\"bool\"},{\"internalType\":\"bytes\",\"name\":\"returnData\",\"type\":\"bytes\"}],\"internalType\":\"struct Multicall3.Result[]\",\"name\":\"returnData\",\"type\":\"tuple[]\"}],\"stateMutability\":\"payable\",\"type\":\"function\"}]')\n",
    "\n",
    "UNIV2_ETH_USDC= '0xB4e16d0168e52d35CaCD2c6185b44281Ec28C9Dc'\n",
    "UNIV3_WBTC_ETH = '0xCBCdF9626bC03E24f779434178A73a0B4bad62eD'"
   ]
  },
  {
   "cell_type": "code",
   "execution_count": 3,
   "id": "3137ff54-0cd6-41fc-bc60-c45ab5a68950",
   "metadata": {},
   "outputs": [],
   "source": [
    "# Functions\n",
    "def bytes_to_hexstr(b: any) -> str:\n",
    "    if isinstance(b,list):\n",
    "        return [bytes_to_hexstr(a) for a in b]\n",
    "    return '0x' + b.hex()\n",
    "\n",
    "def decode_outputdata_uniV2_price(b: bytes) -> list[float]:\n",
    "    aggregated_data_uniV2 = decode(['(bool,bytes)[]'], b)[0]\n",
    "\n",
    "    ethusdc_reserves_raw = aggregated_data_uniV2[0]\n",
    "    [eth_bal, usdc_bal, _] = decode(['uint112','uint112','uint32'], ethusdc_reserves_raw[1])\n",
    "\n",
    "    eth_usdc_price = (eth_bal / usdc_bal)*1e12\n",
    "    print(f\"ETH/USDC: {eth_usdc_price}\")\n",
    "\n",
    "\n",
    "def decode_outputdata_uniV2V3_price(b: bytes) -> list[float]:\n",
    "    aggregated_data_uniV2V3 = decode(['(bool,bytes)[]'], b)[0]\n",
    "\n",
    "    # UNI-V2\n",
    "    ethusdc_reserves_raw = aggregated_data_uniV2V3[0]\n",
    "    [eth_bal, usdc_bal, time ] = decode(['uint112','uint112','uint32'], ethusdc_reserves_raw[1])\n",
    "\n",
    "    eth_usdc_price = (eth_bal / usdc_bal)*1e12\n",
    "    # print(f\"ETH/USDC: {eth_usdc_price}\")\n",
    "\n",
    "    # UNI-V3\n",
    "    # slot0():\n",
    "    # sqrtPriceX96 uint160, tick int24, observationIndex uint16, observationCardinality uint16, observationCardinalityNext uint16, feeProtocol uint8, unlocked bool\n",
    "    # 'uint160', 'int24', 'uint16', 'uint16', 'uint16', 'uint8', 'bool'\n",
    "\n",
    "    wbtc_eth_slot0_raw = aggregated_data_uniV2V3[1]\n",
    "    wbtc_eth_slot0_sqrt_ratioX96 = decode(['uint160', 'int24', 'uint16', 'uint16', 'uint16', 'uint8', 'bool'], wbtc_eth_slot0_raw[1])[0]\n",
    "    wbtc_eth_price = wbtc_eth_slot0_sqrt_ratioX96**2 / 2**192 /1e10\n",
    "    eth_wbtc_price = 1/wbtc_eth_price\n",
    "    # print(f\"WBTC/ETH: { wbtc_eth_price}\")\n",
    "    # print(f\"ETH/WBTC: { eth_wbtc_price}\")\n",
    "\n",
    "    # Timestamp\n",
    "    timestamp_raw = aggregated_data_uniV2V3[-1]\n",
    "    timestamp = int(timestamp_raw[1].hex(),16)\n",
    "    \n",
    "    return [eth_usdc_price, eth_wbtc_price,timestamp]"
   ]
  },
  {
   "cell_type": "code",
   "execution_count": 4,
   "id": "720aa164-af91-4332-a48d-c43b2c4cb419",
   "metadata": {},
   "outputs": [],
   "source": [
    "# Function Signatures 4 bytes\n",
    "getBlocknumber_4b = '42cbb15c'\n",
    "getBloclTimestamp_4b= '0f28c97d'\n",
    "getReserves_4b = '0902f1ac'\n",
    "slot0_4b = '3850c7bd'"
   ]
  },
  {
   "cell_type": "code",
   "execution_count": 5,
   "id": "7fcf67f3-abd3-42a8-886d-ddfa7286a1a0",
   "metadata": {},
   "outputs": [],
   "source": [
    "txs = cryo.collect('transactions', blocks=['-10:21881984'], rpc ='https://eth.merkle.io')"
   ]
  },
  {
   "cell_type": "code",
   "execution_count": 6,
   "id": "f47f44e3-d72c-4cc5-966c-0440cab3a4d9",
   "metadata": {},
   "outputs": [
    {
     "data": {
      "text/plain": [
       "['0x17185afe19659c8a5f93a2a547058db9c660805f625400dcc89c015f0b405088',\n",
       " '0x5fbf92a74814561ad37de87b5e2c1fd590211af35c7d87e5785790dbceab1830',\n",
       " '0x72abd91c2ac8a5cf8706d663c2629acb28db1771f8363469b516a8eb509393f8',\n",
       " '0x93c047dc4368b039206159771a5165f3223c6b85d1e951c058fa3000338098cd',\n",
       " '0x1ac8af088ae8f77d094366408676245819caf9bcbba06a490887596764b1261b',\n",
       " '0xd46fe78a7aa9113b89ca90444b32b243a71cc3dfb809afa8c7016e9904782e8b',\n",
       " '0x0fca8e8943eefbad34ffea7f28a18f27b2897ec6a75cd068fc523b68c00618bf',\n",
       " '0x74ad3f7a7fc8caff74fabc5933cbd9ecd32d97a0f039ab0c488f7990a184f294',\n",
       " '0xf82048f49848fd81d37187adb7de887f2e0cb85f3d2c04a85455c38cb98ffd90',\n",
       " '0x6050315ae98f0eb328c6fae15c2759b4335d9fbc7883e463c410d3e710eeca01']"
      ]
     },
     "execution_count": 6,
     "metadata": {},
     "output_type": "execute_result"
    }
   ],
   "source": [
    "bytes_to_hexstr(txs['transaction_hash'].to_list())[:10]"
   ]
  },
  {
   "cell_type": "code",
   "execution_count": 7,
   "id": "525bdb8c-42e0-4cac-9a4c-11505657caf9",
   "metadata": {},
   "outputs": [],
   "source": [
    "# web3 instance, function from web3py\n",
    "w3 = web3.Web3()\n",
    "m3 = w3.eth.contract(address = MULTICALL3_ADDRESS, abi=MULTICALL3_ABI)"
   ]
  },
  {
   "cell_type": "markdown",
   "id": "a268231f-60d8-42ef-ac00-d9388fac7e87",
   "metadata": {},
   "source": [
    "### Get Block Number"
   ]
  },
  {
   "cell_type": "code",
   "execution_count": 8,
   "id": "25ef3197-fb66-45d9-aec8-567a87eac0da",
   "metadata": {},
   "outputs": [],
   "source": [
    "aggregate_calldata = [\n",
    "    [\n",
    "        MULTICALL3_ADDRESS,\n",
    "        f'0x{getBlocknumber_4b}',\n",
    "    ]\n",
    "]\n",
    "calldata = m3.encode_abi(\"tryAggregate\", args=[True, aggregate_calldata])"
   ]
  },
  {
   "cell_type": "code",
   "execution_count": 9,
   "id": "a7057008-1542-469c-8fa0-490ac34c8303",
   "metadata": {},
   "outputs": [
    {
     "data": {
      "text/plain": [
       "[['0xcA11bde05977b3631167028862bE2a173976CA11', '0x42cbb15c']]"
      ]
     },
     "execution_count": 9,
     "metadata": {},
     "output_type": "execute_result"
    }
   ],
   "source": [
    "# Args of the tryAggregate function\n",
    "aggregate_calldata"
   ]
  },
  {
   "cell_type": "markdown",
   "id": "38f96b30-0fbb-4b15-b15e-4e383566b99a",
   "metadata": {},
   "source": [
    "### Some Explanation:\n",
    "##### calldata: this is the call data with info we want to get\n",
    "##### 0xbce38bd7 = tryAggregate(bool,(address,bytes)[])\n",
    "##### aggregate_calldata = are the function arguments \n",
    "##### address = Multicall_address, \n",
    "##### bytes = Function Sign getblocknumber_4b = '42cbb15c'\n",
    "##### if you see the output of call data info all there"
   ]
  },
  {
   "cell_type": "code",
   "execution_count": 10,
   "id": "bba87dd6-343b-4b7d-857b-82c87963a039",
   "metadata": {},
   "outputs": [
    {
     "data": {
      "text/plain": [
       "'0xbce38bd70000000000000000000000000000000000000000000000000000000000000001000000000000000000000000000000000000000000000000000000000000004000000000000000000000000000000000000000000000000000000000000000010000000000000000000000000000000000000000000000000000000000000020000000000000000000000000ca11bde05977b3631167028862be2a173976ca110000000000000000000000000000000000000000000000000000000000000040000000000000000000000000000000000000000000000000000000000000000442cbb15c00000000000000000000000000000000000000000000000000000000'"
      ]
     },
     "execution_count": 10,
     "metadata": {},
     "output_type": "execute_result"
    }
   ],
   "source": [
    "# This is the encoded data to use as calldata\n",
    "# 0xbce38bd7 = tryAggregate(bool,(address,bytes)[])\n",
    "# Multiclall Address + Block function signature\n",
    "calldata"
   ]
  },
  {
   "cell_type": "code",
   "execution_count": 11,
   "id": "916db73b-0a3c-4d36-9a3b-ea413a01c099",
   "metadata": {},
   "outputs": [],
   "source": [
    "cryo_kwargs = {\n",
    "    'rpc': 'https://eth.merkle.io',\n",
    "    'blocks': ['latest'], \n",
    "}\n",
    "            \n",
    "eth_call_df = cryo.collect(\n",
    "    'eth_calls',\n",
    "    to_address = [MULTICALL3_ADDRESS],\n",
    "    call_data=[calldata],\n",
    "     output_format=\"polars\",\n",
    "    **cryo_kwargs,\n",
    ")"
   ]
  },
  {
   "cell_type": "code",
   "execution_count": 12,
   "id": "f5806a50-1e89-4964-bafc-0b3de2b63291",
   "metadata": {},
   "outputs": [
    {
     "data": {
      "text/plain": [
       "b'\\x00\\x00\\x00\\x00\\x00\\x00\\x00\\x00\\x00\\x00\\x00\\x00\\x00\\x00\\x00\\x00\\x00\\x00\\x00\\x00\\x00\\x00\\x00\\x00\\x00\\x00\\x00\\x00\\x00\\x00\\x00 \\x00\\x00\\x00\\x00\\x00\\x00\\x00\\x00\\x00\\x00\\x00\\x00\\x00\\x00\\x00\\x00\\x00\\x00\\x00\\x00\\x00\\x00\\x00\\x00\\x00\\x00\\x00\\x00\\x00\\x00\\x00\\x01\\x00\\x00\\x00\\x00\\x00\\x00\\x00\\x00\\x00\\x00\\x00\\x00\\x00\\x00\\x00\\x00\\x00\\x00\\x00\\x00\\x00\\x00\\x00\\x00\\x00\\x00\\x00\\x00\\x00\\x00\\x00 \\x00\\x00\\x00\\x00\\x00\\x00\\x00\\x00\\x00\\x00\\x00\\x00\\x00\\x00\\x00\\x00\\x00\\x00\\x00\\x00\\x00\\x00\\x00\\x00\\x00\\x00\\x00\\x00\\x00\\x00\\x00\\x01\\x00\\x00\\x00\\x00\\x00\\x00\\x00\\x00\\x00\\x00\\x00\\x00\\x00\\x00\\x00\\x00\\x00\\x00\\x00\\x00\\x00\\x00\\x00\\x00\\x00\\x00\\x00\\x00\\x00\\x00\\x00@\\x00\\x00\\x00\\x00\\x00\\x00\\x00\\x00\\x00\\x00\\x00\\x00\\x00\\x00\\x00\\x00\\x00\\x00\\x00\\x00\\x00\\x00\\x00\\x00\\x00\\x00\\x00\\x00\\x00\\x00\\x00 \\x00\\x00\\x00\\x00\\x00\\x00\\x00\\x00\\x00\\x00\\x00\\x00\\x00\\x00\\x00\\x00\\x00\\x00\\x00\\x00\\x00\\x00\\x00\\x00\\x00\\x00\\x00\\x00\\x01N\\xaav'"
      ]
     },
     "execution_count": 12,
     "metadata": {},
     "output_type": "execute_result"
    }
   ],
   "source": [
    "eth_call_df['output_data'][0]"
   ]
  },
  {
   "cell_type": "code",
   "execution_count": 13,
   "id": "154b9997-95c8-487a-a9a5-d88c531576c5",
   "metadata": {},
   "outputs": [],
   "source": [
    "outdata = eth_call_df['output_data'][0]"
   ]
  },
  {
   "cell_type": "code",
   "execution_count": 14,
   "id": "706d4795-868b-48bb-955a-eed7136ac9b8",
   "metadata": {},
   "outputs": [
    {
     "name": "stdout",
     "output_type": "stream",
     "text": [
      "00000000000000000000000000000000000000000000000000000000000000200000000000000000000000000000000000000000000000000000000000000001000000000000000000000000000000000000000000000000000000000000002000000000000000000000000000000000000000000000000000000000000000010000000000000000000000000000000000000000000000000000000000000040000000000000000000000000000000000000000000000000000000000000002000000000000000000000000000000000000000000000000000000000014eaa76\n"
     ]
    }
   ],
   "source": [
    "print(outdata.hex())"
   ]
  },
  {
   "cell_type": "code",
   "execution_count": 15,
   "id": "7bfa1c30-5825-4458-9162-d692c8065d7e",
   "metadata": {
    "scrolled": true
   },
   "outputs": [],
   "source": [
    "decoded_data =decode(['(bool,bytes)[]'], outdata)[0]"
   ]
  },
  {
   "cell_type": "code",
   "execution_count": 16,
   "id": "cfc2f706-f8bf-428f-abf9-6dcffec6ab1e",
   "metadata": {},
   "outputs": [
    {
     "data": {
      "text/plain": [
       "(True,\n",
       " b'\\x00\\x00\\x00\\x00\\x00\\x00\\x00\\x00\\x00\\x00\\x00\\x00\\x00\\x00\\x00\\x00\\x00\\x00\\x00\\x00\\x00\\x00\\x00\\x00\\x00\\x00\\x00\\x00\\x01N\\xaav')"
      ]
     },
     "execution_count": 16,
     "metadata": {},
     "output_type": "execute_result"
    }
   ],
   "source": [
    "decoded_data[0]"
   ]
  },
  {
   "cell_type": "code",
   "execution_count": 17,
   "id": "f93b0288-71c7-4115-85ee-341bb8e275c6",
   "metadata": {},
   "outputs": [
    {
     "data": {
      "text/plain": [
       "b'\\x00\\x00\\x00\\x00\\x00\\x00\\x00\\x00\\x00\\x00\\x00\\x00\\x00\\x00\\x00\\x00\\x00\\x00\\x00\\x00\\x00\\x00\\x00\\x00\\x00\\x00\\x00\\x00\\x01N\\xaav'"
      ]
     },
     "execution_count": 17,
     "metadata": {},
     "output_type": "execute_result"
    }
   ],
   "source": [
    "# this is boolean and list first is true (we set in arg above)\n",
    "decoded_data[0][1]"
   ]
  },
  {
   "cell_type": "code",
   "execution_count": 18,
   "id": "715a72d4-d5dc-4c72-bc2e-2e217ba9cbbd",
   "metadata": {},
   "outputs": [
    {
     "data": {
      "text/plain": [
       "21932662"
      ]
     },
     "execution_count": 18,
     "metadata": {},
     "output_type": "execute_result"
    }
   ],
   "source": [
    "# Call data last 7 bytes is the block number in hex\n",
    "#  we call it from block function\n",
    "int(decoded_data[0][1].hex(),16)"
   ]
  },
  {
   "cell_type": "markdown",
   "id": "6ba44e37-1867-4b5a-bce6-dc8fe2bfd95c",
   "metadata": {},
   "source": [
    "## From UNI-V2: USDC >> ETH/USDC price"
   ]
  },
  {
   "cell_type": "code",
   "execution_count": 19,
   "id": "42998108-10b3-40fe-9436-737e3967c72c",
   "metadata": {},
   "outputs": [],
   "source": [
    "# web3 instance, function from web3py: done above\n",
    "aggregate_calldata_uniV2 = [\n",
    "    [\n",
    "        UNIV2_ETH_USDC,\n",
    "        f'0x{getReserves_4b}',\n",
    "    ]\n",
    "]\n",
    "calldata_uniV2 = m3.encode_abi(\"tryAggregate\", args=[False, aggregate_calldata_uniV2])"
   ]
  },
  {
   "cell_type": "markdown",
   "id": "2d67b40b-617a-42fe-af9f-d9ae9559f70b",
   "metadata": {},
   "source": [
    "####  We now have:\n",
    "##### 1. Aggregated calldata: arguments for function tryAggregate() function\n",
    "##### 2. Calldata uniV2: as result of function tryAggregate() in relation to MULTICALL3 instance with the defined aggregated calldata\n",
    "##### 3. eth_call_uniV2_df: `cryo.collect()` argument is the calldata uniV2\n",
    "##### 4. eth_call_uniV2_df returns the entire input/calldata in binary taht comntrains all the inforamtion we were looking for\n",
    "##### 5. We can use the inary input by decoding: `decode(['(bool,bytes)[]'], outdata_uniV2)[0]`\n",
    "##### 6. the output is tulip (boolian, calldata)(boolian, calldata), so we need to tulip[0][1] or [1][1]"
   ]
  },
  {
   "cell_type": "code",
   "execution_count": 20,
   "id": "926251b0-59db-4aed-81ee-794fc1407d36",
   "metadata": {},
   "outputs": [
    {
     "data": {
      "text/plain": [
       "[['0xB4e16d0168e52d35CaCD2c6185b44281Ec28C9Dc', '0x0902f1ac']]"
      ]
     },
     "execution_count": 20,
     "metadata": {},
     "output_type": "execute_result"
    }
   ],
   "source": [
    "aggregate_calldata_uniV2"
   ]
  },
  {
   "cell_type": "code",
   "execution_count": 21,
   "id": "1b9c250a-3056-44aa-b851-b42b7ce8b200",
   "metadata": {},
   "outputs": [
    {
     "name": "stdout",
     "output_type": "stream",
     "text": [
      "0xbce38bd70000000000000000000000000000000000000000000000000000000000000000000000000000000000000000000000000000000000000000000000000000004000000000000000000000000000000000000000000000000000000000000000010000000000000000000000000000000000000000000000000000000000000020000000000000000000000000b4e16d0168e52d35cacd2c6185b44281ec28c9dc000000000000000000000000000000000000000000000000000000000000004000000000000000000000000000000000000000000000000000000000000000040902f1ac00000000000000000000000000000000000000000000000000000000\n"
     ]
    }
   ],
   "source": [
    "print(calldata_uniV2)"
   ]
  },
  {
   "cell_type": "code",
   "execution_count": 22,
   "id": "0d355ace-8972-46b0-b4ec-332031a630e4",
   "metadata": {},
   "outputs": [],
   "source": [
    "cryo_kwargs = {\n",
    "    'rpc': 'https://eth.merkle.io',\n",
    "    'blocks': ['latest'], \n",
    "}\n",
    "            \n",
    "eth_call_uniV2_df = cryo.collect(\n",
    "    'eth_calls',\n",
    "    to_address = [MULTICALL3_ADDRESS],\n",
    "    call_data=[calldata_uniV2],\n",
    "     output_format=\"polars\",\n",
    "    **cryo_kwargs,\n",
    ")"
   ]
  },
  {
   "cell_type": "markdown",
   "id": "a8796393-859c-4c1d-813e-94ff4b905870",
   "metadata": {},
   "source": [
    "#### From UNI-V2: USDC >> Reserves"
   ]
  },
  {
   "cell_type": "code",
   "execution_count": 23,
   "id": "27f2184d-c1e7-4ee8-8fc0-28f61f605791",
   "metadata": {},
   "outputs": [],
   "source": [
    "outdata_uniV2= eth_call_uniV2_df['output_data'][0]"
   ]
  },
  {
   "cell_type": "code",
   "execution_count": 24,
   "id": "7d33dfa7-5d5b-4404-93d6-3f21f9151443",
   "metadata": {},
   "outputs": [
    {
     "data": {
      "text/plain": [
       "'00000000000000000000000000000000000000000000000000000000000000200000000000000000000000000000000000000000000000000000000000000001000000000000000000000000000000000000000000000000000000000000002000000000000000000000000000000000000000000000000000000000000000010000000000000000000000000000000000000000000000000000000000000040000000000000000000000000000000000000000000000000000000000000006000000000000000000000000000000000000000000000000000000a37700445ce00000000000000000000000000000000000000000000010a8d21a61f6ae20a450000000000000000000000000000000000000000000000000000000067bf6df7'"
      ]
     },
     "execution_count": 24,
     "metadata": {},
     "output_type": "execute_result"
    }
   ],
   "source": [
    "#  0x will give in order 1-Hex USDC Reserve 2-Hex ETH Reserve 3-Timestamp\n",
    "outdata_uniV2.hex()"
   ]
  },
  {
   "cell_type": "code",
   "execution_count": 25,
   "id": "485f71a1-4fff-46f5-b9f3-b6a8fef30c03",
   "metadata": {},
   "outputs": [],
   "source": [
    "decoded_data_uniV2 = decode(['(bool,bytes)[]'], outdata_uniV2)[0]"
   ]
  },
  {
   "cell_type": "code",
   "execution_count": 26,
   "id": "60974521-1f1f-449c-8417-56f62e77adea",
   "metadata": {},
   "outputs": [
    {
     "data": {
      "text/plain": [
       "((True,\n",
       "  b'\\x00\\x00\\x00\\x00\\x00\\x00\\x00\\x00\\x00\\x00\\x00\\x00\\x00\\x00\\x00\\x00\\x00\\x00\\x00\\x00\\x00\\x00\\x00\\x00\\x00\\x00\\n7p\\x04E\\xce\\x00\\x00\\x00\\x00\\x00\\x00\\x00\\x00\\x00\\x00\\x00\\x00\\x00\\x00\\x00\\x00\\x00\\x00\\x00\\x00\\x00\\x00\\x01\\n\\x8d!\\xa6\\x1fj\\xe2\\nE\\x00\\x00\\x00\\x00\\x00\\x00\\x00\\x00\\x00\\x00\\x00\\x00\\x00\\x00\\x00\\x00\\x00\\x00\\x00\\x00\\x00\\x00\\x00\\x00\\x00\\x00\\x00\\x00g\\xbfm\\xf7'),)"
      ]
     },
     "execution_count": 26,
     "metadata": {},
     "output_type": "execute_result"
    }
   ],
   "source": [
    "decoded_data_uniV2 "
   ]
  },
  {
   "cell_type": "code",
   "execution_count": 27,
   "id": "935c1226-1339-4f69-a087-a7076749295b",
   "metadata": {},
   "outputs": [],
   "source": [
    "reserves_data_uniV2 = decode(['uint112','uint112','uint32'], decoded_data_uniV2[0][1])"
   ]
  },
  {
   "cell_type": "code",
   "execution_count": 28,
   "id": "1c0c21d6-d866-416d-ab94-3fe35b340f16",
   "metadata": {},
   "outputs": [
    {
     "data": {
      "text/plain": [
       "(11233218807246, 4917003515694187416133, 1740598775)"
      ]
     },
     "execution_count": 28,
     "metadata": {},
     "output_type": "execute_result"
    }
   ],
   "source": [
    "reserves_data_uniV2"
   ]
  },
  {
   "cell_type": "markdown",
   "id": "3462f093-520b-4b68-a262-ac7f4b12e192",
   "metadata": {},
   "source": [
    "#### From UNI-V2: USDC >> ETH/USDC price Def"
   ]
  },
  {
   "cell_type": "code",
   "execution_count": 29,
   "id": "d1b4c4e6-e678-4bce-ae57-892b52843151",
   "metadata": {},
   "outputs": [],
   "source": [
    "output_data_uniV2= eth_call_uniV2_df['output_data'][0]"
   ]
  },
  {
   "cell_type": "code",
   "execution_count": 30,
   "id": "2a61a095-d6f1-483e-98d8-b60d93708027",
   "metadata": {},
   "outputs": [
    {
     "name": "stdout",
     "output_type": "stream",
     "text": [
      "ETH/USDC: 2284.5659498496584\n"
     ]
    }
   ],
   "source": [
    "decode_outputdata_uniV2_price(output_data_uniV2)"
   ]
  },
  {
   "cell_type": "markdown",
   "id": "8b1b77f4-3fdf-489e-9f48-df1d94939f00",
   "metadata": {},
   "source": [
    "#### From UNI-V3: WBTC >> WBTC/ETH price Def"
   ]
  },
  {
   "cell_type": "markdown",
   "id": "8846a9ab-debb-453e-988f-e14b75490e1a",
   "metadata": {},
   "source": [
    "##### In this case we add the function we want to call to the previous one, so we call:\n",
    "- UNIV2_ETH_USDC\n",
    "- UNIV3_WBTC_ETH"
   ]
  },
  {
   "cell_type": "code",
   "execution_count": 31,
   "id": "9850c98a-b9b9-4396-bec0-bfdf81f64aeb",
   "metadata": {},
   "outputs": [],
   "source": [
    "# web3 instance, function from web3py: Done\n",
    "# Aggreagte call data for V2 and V3\n",
    "\n",
    "aggregate_calldata_uniV2_V3 = [\n",
    "    [\n",
    "        UNIV2_ETH_USDC,\n",
    "        f'0x{getReserves_4b}',\n",
    "    ],\n",
    "    [\n",
    "        UNIV3_WBTC_ETH,\n",
    "        f'0x{slot0_4b}',\n",
    "    ],\n",
    "    [\n",
    "        MULTICALL3_ADDRESS,\n",
    "        f'0x{getBloclTimestamp_4b}'\n",
    "    ]\n",
    "\n",
    "]\n",
    "calldata_uniV2_V3 = m3.encode_abi(\"tryAggregate\", args=[False, aggregate_calldata_uniV2_V3])"
   ]
  },
  {
   "cell_type": "code",
   "execution_count": 32,
   "id": "ca293957-f827-43b3-bc3c-ee410bba4697",
   "metadata": {},
   "outputs": [
    {
     "data": {
      "text/plain": [
       "[['0xB4e16d0168e52d35CaCD2c6185b44281Ec28C9Dc', '0x0902f1ac'],\n",
       " ['0xCBCdF9626bC03E24f779434178A73a0B4bad62eD', '0x3850c7bd'],\n",
       " ['0xcA11bde05977b3631167028862bE2a173976CA11', '0x0f28c97d']]"
      ]
     },
     "execution_count": 32,
     "metadata": {},
     "output_type": "execute_result"
    }
   ],
   "source": [
    "aggregate_calldata_uniV2_V3"
   ]
  },
  {
   "cell_type": "code",
   "execution_count": 33,
   "id": "8c9844a8-516a-4105-90e5-83d2bcbd9c9f",
   "metadata": {},
   "outputs": [
    {
     "name": "stdout",
     "output_type": "stream",
     "text": [
      "0xbce38bd7000000000000000000000000000000000000000000000000000000000000000000000000000000000000000000000000000000000000000000000000000000400000000000000000000000000000000000000000000000000000000000000003000000000000000000000000000000000000000000000000000000000000006000000000000000000000000000000000000000000000000000000000000000e00000000000000000000000000000000000000000000000000000000000000160000000000000000000000000b4e16d0168e52d35cacd2c6185b44281ec28c9dc000000000000000000000000000000000000000000000000000000000000004000000000000000000000000000000000000000000000000000000000000000040902f1ac00000000000000000000000000000000000000000000000000000000000000000000000000000000cbcdf9626bc03e24f779434178a73a0b4bad62ed000000000000000000000000000000000000000000000000000000000000004000000000000000000000000000000000000000000000000000000000000000043850c7bd00000000000000000000000000000000000000000000000000000000000000000000000000000000ca11bde05977b3631167028862be2a173976ca11000000000000000000000000000000000000000000000000000000000000004000000000000000000000000000000000000000000000000000000000000000040f28c97d00000000000000000000000000000000000000000000000000000000\n"
     ]
    }
   ],
   "source": [
    "print(calldata_uniV2_V3)"
   ]
  },
  {
   "cell_type": "code",
   "execution_count": 34,
   "id": "cea49dab-c9b0-4eab-af10-bf9c6d3b62a9",
   "metadata": {},
   "outputs": [],
   "source": [
    "cryo_kwargs = {\n",
    "    'rpc': 'https://eth.merkle.io',\n",
    "    'blocks': ['-500:latest'], \n",
    "}\n",
    "\n",
    "eth_call_uniV2_V3_df = cryo.collect(\n",
    "    'eth_calls',\n",
    "    to_address = [MULTICALL3_ADDRESS],\n",
    "    call_data=[calldata_uniV2_V3],\n",
    "     output_format=\"polars\",\n",
    "    **cryo_kwargs,\n",
    ")"
   ]
  },
  {
   "cell_type": "code",
   "execution_count": 35,
   "id": "29b3051a-fdf0-4faf-89c8-d390e7a9c72d",
   "metadata": {},
   "outputs": [
    {
     "data": {
      "text/html": [
       "<div><style>\n",
       ".dataframe > thead > tr,\n",
       ".dataframe > tbody > tr {\n",
       "  text-align: right;\n",
       "  white-space: pre-wrap;\n",
       "}\n",
       "</style>\n",
       "<small>shape: (500, 5)</small><table border=\"1\" class=\"dataframe\"><thead><tr><th>block_number</th><th>contract_address</th><th>call_data</th><th>output_data</th><th>chain_id</th></tr><tr><td>u32</td><td>binary</td><td>binary</td><td>binary</td><td>u64</td></tr></thead><tbody><tr><td>21932163</td><td>b&quot;\\xca\\x11\\xbd\\xe0Yw\\xb3c\\x11g\\x02\\x88b\\xbe*\\x179v\\xca\\x11&quot;</td><td>b&quot;\\xbc\\xe3\\x8b\\xd7\\x00\\x00\\x00\\x00\\x00\\x00\\x00\\x00\\x00\\x00\\x00\\x00\\x00\\x00\\x00\\x00\\x00\\x00\\x00\\x00\\x00\\x00\\x00\\x00\\x00\\x00\\x00\\x00\\x00\\x00\\x00\\x00\\x00\\x00\\x00\\x00\\x00\\x00\\x00\\x00\\x00\\x00\\x00\\x00\\x00\\x00\\x00\\x00\\x00\\x00\\x00\\x00\\x00\\x00\\x00\\x00&quot;…</td><td>b&quot;\\x00\\x00\\x00\\x00\\x00\\x00\\x00\\x00\\x00\\x00\\x00\\x00\\x00\\x00\\x00\\x00\\x00\\x00\\x00\\x00\\x00\\x00\\x00\\x00\\x00\\x00\\x00\\x00\\x00\\x00\\x00\\x20\\x00\\x00\\x00\\x00\\x00\\x00\\x00\\x00\\x00\\x00\\x00\\x00\\x00\\x00\\x00\\x00\\x00\\x00\\x00\\x00\\x00\\x00\\x00\\x00\\x00\\x00\\x00\\x00&quot;…</td><td>1</td></tr><tr><td>21932164</td><td>b&quot;\\xca\\x11\\xbd\\xe0Yw\\xb3c\\x11g\\x02\\x88b\\xbe*\\x179v\\xca\\x11&quot;</td><td>b&quot;\\xbc\\xe3\\x8b\\xd7\\x00\\x00\\x00\\x00\\x00\\x00\\x00\\x00\\x00\\x00\\x00\\x00\\x00\\x00\\x00\\x00\\x00\\x00\\x00\\x00\\x00\\x00\\x00\\x00\\x00\\x00\\x00\\x00\\x00\\x00\\x00\\x00\\x00\\x00\\x00\\x00\\x00\\x00\\x00\\x00\\x00\\x00\\x00\\x00\\x00\\x00\\x00\\x00\\x00\\x00\\x00\\x00\\x00\\x00\\x00\\x00&quot;…</td><td>b&quot;\\x00\\x00\\x00\\x00\\x00\\x00\\x00\\x00\\x00\\x00\\x00\\x00\\x00\\x00\\x00\\x00\\x00\\x00\\x00\\x00\\x00\\x00\\x00\\x00\\x00\\x00\\x00\\x00\\x00\\x00\\x00\\x20\\x00\\x00\\x00\\x00\\x00\\x00\\x00\\x00\\x00\\x00\\x00\\x00\\x00\\x00\\x00\\x00\\x00\\x00\\x00\\x00\\x00\\x00\\x00\\x00\\x00\\x00\\x00\\x00&quot;…</td><td>1</td></tr><tr><td>21932165</td><td>b&quot;\\xca\\x11\\xbd\\xe0Yw\\xb3c\\x11g\\x02\\x88b\\xbe*\\x179v\\xca\\x11&quot;</td><td>b&quot;\\xbc\\xe3\\x8b\\xd7\\x00\\x00\\x00\\x00\\x00\\x00\\x00\\x00\\x00\\x00\\x00\\x00\\x00\\x00\\x00\\x00\\x00\\x00\\x00\\x00\\x00\\x00\\x00\\x00\\x00\\x00\\x00\\x00\\x00\\x00\\x00\\x00\\x00\\x00\\x00\\x00\\x00\\x00\\x00\\x00\\x00\\x00\\x00\\x00\\x00\\x00\\x00\\x00\\x00\\x00\\x00\\x00\\x00\\x00\\x00\\x00&quot;…</td><td>b&quot;\\x00\\x00\\x00\\x00\\x00\\x00\\x00\\x00\\x00\\x00\\x00\\x00\\x00\\x00\\x00\\x00\\x00\\x00\\x00\\x00\\x00\\x00\\x00\\x00\\x00\\x00\\x00\\x00\\x00\\x00\\x00\\x20\\x00\\x00\\x00\\x00\\x00\\x00\\x00\\x00\\x00\\x00\\x00\\x00\\x00\\x00\\x00\\x00\\x00\\x00\\x00\\x00\\x00\\x00\\x00\\x00\\x00\\x00\\x00\\x00&quot;…</td><td>1</td></tr><tr><td>21932166</td><td>b&quot;\\xca\\x11\\xbd\\xe0Yw\\xb3c\\x11g\\x02\\x88b\\xbe*\\x179v\\xca\\x11&quot;</td><td>b&quot;\\xbc\\xe3\\x8b\\xd7\\x00\\x00\\x00\\x00\\x00\\x00\\x00\\x00\\x00\\x00\\x00\\x00\\x00\\x00\\x00\\x00\\x00\\x00\\x00\\x00\\x00\\x00\\x00\\x00\\x00\\x00\\x00\\x00\\x00\\x00\\x00\\x00\\x00\\x00\\x00\\x00\\x00\\x00\\x00\\x00\\x00\\x00\\x00\\x00\\x00\\x00\\x00\\x00\\x00\\x00\\x00\\x00\\x00\\x00\\x00\\x00&quot;…</td><td>b&quot;\\x00\\x00\\x00\\x00\\x00\\x00\\x00\\x00\\x00\\x00\\x00\\x00\\x00\\x00\\x00\\x00\\x00\\x00\\x00\\x00\\x00\\x00\\x00\\x00\\x00\\x00\\x00\\x00\\x00\\x00\\x00\\x20\\x00\\x00\\x00\\x00\\x00\\x00\\x00\\x00\\x00\\x00\\x00\\x00\\x00\\x00\\x00\\x00\\x00\\x00\\x00\\x00\\x00\\x00\\x00\\x00\\x00\\x00\\x00\\x00&quot;…</td><td>1</td></tr><tr><td>21932167</td><td>b&quot;\\xca\\x11\\xbd\\xe0Yw\\xb3c\\x11g\\x02\\x88b\\xbe*\\x179v\\xca\\x11&quot;</td><td>b&quot;\\xbc\\xe3\\x8b\\xd7\\x00\\x00\\x00\\x00\\x00\\x00\\x00\\x00\\x00\\x00\\x00\\x00\\x00\\x00\\x00\\x00\\x00\\x00\\x00\\x00\\x00\\x00\\x00\\x00\\x00\\x00\\x00\\x00\\x00\\x00\\x00\\x00\\x00\\x00\\x00\\x00\\x00\\x00\\x00\\x00\\x00\\x00\\x00\\x00\\x00\\x00\\x00\\x00\\x00\\x00\\x00\\x00\\x00\\x00\\x00\\x00&quot;…</td><td>b&quot;\\x00\\x00\\x00\\x00\\x00\\x00\\x00\\x00\\x00\\x00\\x00\\x00\\x00\\x00\\x00\\x00\\x00\\x00\\x00\\x00\\x00\\x00\\x00\\x00\\x00\\x00\\x00\\x00\\x00\\x00\\x00\\x20\\x00\\x00\\x00\\x00\\x00\\x00\\x00\\x00\\x00\\x00\\x00\\x00\\x00\\x00\\x00\\x00\\x00\\x00\\x00\\x00\\x00\\x00\\x00\\x00\\x00\\x00\\x00\\x00&quot;…</td><td>1</td></tr><tr><td>&hellip;</td><td>&hellip;</td><td>&hellip;</td><td>&hellip;</td><td>&hellip;</td></tr><tr><td>21932658</td><td>b&quot;\\xca\\x11\\xbd\\xe0Yw\\xb3c\\x11g\\x02\\x88b\\xbe*\\x179v\\xca\\x11&quot;</td><td>b&quot;\\xbc\\xe3\\x8b\\xd7\\x00\\x00\\x00\\x00\\x00\\x00\\x00\\x00\\x00\\x00\\x00\\x00\\x00\\x00\\x00\\x00\\x00\\x00\\x00\\x00\\x00\\x00\\x00\\x00\\x00\\x00\\x00\\x00\\x00\\x00\\x00\\x00\\x00\\x00\\x00\\x00\\x00\\x00\\x00\\x00\\x00\\x00\\x00\\x00\\x00\\x00\\x00\\x00\\x00\\x00\\x00\\x00\\x00\\x00\\x00\\x00&quot;…</td><td>b&quot;\\x00\\x00\\x00\\x00\\x00\\x00\\x00\\x00\\x00\\x00\\x00\\x00\\x00\\x00\\x00\\x00\\x00\\x00\\x00\\x00\\x00\\x00\\x00\\x00\\x00\\x00\\x00\\x00\\x00\\x00\\x00\\x20\\x00\\x00\\x00\\x00\\x00\\x00\\x00\\x00\\x00\\x00\\x00\\x00\\x00\\x00\\x00\\x00\\x00\\x00\\x00\\x00\\x00\\x00\\x00\\x00\\x00\\x00\\x00\\x00&quot;…</td><td>1</td></tr><tr><td>21932659</td><td>b&quot;\\xca\\x11\\xbd\\xe0Yw\\xb3c\\x11g\\x02\\x88b\\xbe*\\x179v\\xca\\x11&quot;</td><td>b&quot;\\xbc\\xe3\\x8b\\xd7\\x00\\x00\\x00\\x00\\x00\\x00\\x00\\x00\\x00\\x00\\x00\\x00\\x00\\x00\\x00\\x00\\x00\\x00\\x00\\x00\\x00\\x00\\x00\\x00\\x00\\x00\\x00\\x00\\x00\\x00\\x00\\x00\\x00\\x00\\x00\\x00\\x00\\x00\\x00\\x00\\x00\\x00\\x00\\x00\\x00\\x00\\x00\\x00\\x00\\x00\\x00\\x00\\x00\\x00\\x00\\x00&quot;…</td><td>b&quot;\\x00\\x00\\x00\\x00\\x00\\x00\\x00\\x00\\x00\\x00\\x00\\x00\\x00\\x00\\x00\\x00\\x00\\x00\\x00\\x00\\x00\\x00\\x00\\x00\\x00\\x00\\x00\\x00\\x00\\x00\\x00\\x20\\x00\\x00\\x00\\x00\\x00\\x00\\x00\\x00\\x00\\x00\\x00\\x00\\x00\\x00\\x00\\x00\\x00\\x00\\x00\\x00\\x00\\x00\\x00\\x00\\x00\\x00\\x00\\x00&quot;…</td><td>1</td></tr><tr><td>21932660</td><td>b&quot;\\xca\\x11\\xbd\\xe0Yw\\xb3c\\x11g\\x02\\x88b\\xbe*\\x179v\\xca\\x11&quot;</td><td>b&quot;\\xbc\\xe3\\x8b\\xd7\\x00\\x00\\x00\\x00\\x00\\x00\\x00\\x00\\x00\\x00\\x00\\x00\\x00\\x00\\x00\\x00\\x00\\x00\\x00\\x00\\x00\\x00\\x00\\x00\\x00\\x00\\x00\\x00\\x00\\x00\\x00\\x00\\x00\\x00\\x00\\x00\\x00\\x00\\x00\\x00\\x00\\x00\\x00\\x00\\x00\\x00\\x00\\x00\\x00\\x00\\x00\\x00\\x00\\x00\\x00\\x00&quot;…</td><td>b&quot;\\x00\\x00\\x00\\x00\\x00\\x00\\x00\\x00\\x00\\x00\\x00\\x00\\x00\\x00\\x00\\x00\\x00\\x00\\x00\\x00\\x00\\x00\\x00\\x00\\x00\\x00\\x00\\x00\\x00\\x00\\x00\\x20\\x00\\x00\\x00\\x00\\x00\\x00\\x00\\x00\\x00\\x00\\x00\\x00\\x00\\x00\\x00\\x00\\x00\\x00\\x00\\x00\\x00\\x00\\x00\\x00\\x00\\x00\\x00\\x00&quot;…</td><td>1</td></tr><tr><td>21932661</td><td>b&quot;\\xca\\x11\\xbd\\xe0Yw\\xb3c\\x11g\\x02\\x88b\\xbe*\\x179v\\xca\\x11&quot;</td><td>b&quot;\\xbc\\xe3\\x8b\\xd7\\x00\\x00\\x00\\x00\\x00\\x00\\x00\\x00\\x00\\x00\\x00\\x00\\x00\\x00\\x00\\x00\\x00\\x00\\x00\\x00\\x00\\x00\\x00\\x00\\x00\\x00\\x00\\x00\\x00\\x00\\x00\\x00\\x00\\x00\\x00\\x00\\x00\\x00\\x00\\x00\\x00\\x00\\x00\\x00\\x00\\x00\\x00\\x00\\x00\\x00\\x00\\x00\\x00\\x00\\x00\\x00&quot;…</td><td>b&quot;\\x00\\x00\\x00\\x00\\x00\\x00\\x00\\x00\\x00\\x00\\x00\\x00\\x00\\x00\\x00\\x00\\x00\\x00\\x00\\x00\\x00\\x00\\x00\\x00\\x00\\x00\\x00\\x00\\x00\\x00\\x00\\x20\\x00\\x00\\x00\\x00\\x00\\x00\\x00\\x00\\x00\\x00\\x00\\x00\\x00\\x00\\x00\\x00\\x00\\x00\\x00\\x00\\x00\\x00\\x00\\x00\\x00\\x00\\x00\\x00&quot;…</td><td>1</td></tr><tr><td>21932662</td><td>b&quot;\\xca\\x11\\xbd\\xe0Yw\\xb3c\\x11g\\x02\\x88b\\xbe*\\x179v\\xca\\x11&quot;</td><td>b&quot;\\xbc\\xe3\\x8b\\xd7\\x00\\x00\\x00\\x00\\x00\\x00\\x00\\x00\\x00\\x00\\x00\\x00\\x00\\x00\\x00\\x00\\x00\\x00\\x00\\x00\\x00\\x00\\x00\\x00\\x00\\x00\\x00\\x00\\x00\\x00\\x00\\x00\\x00\\x00\\x00\\x00\\x00\\x00\\x00\\x00\\x00\\x00\\x00\\x00\\x00\\x00\\x00\\x00\\x00\\x00\\x00\\x00\\x00\\x00\\x00\\x00&quot;…</td><td>b&quot;\\x00\\x00\\x00\\x00\\x00\\x00\\x00\\x00\\x00\\x00\\x00\\x00\\x00\\x00\\x00\\x00\\x00\\x00\\x00\\x00\\x00\\x00\\x00\\x00\\x00\\x00\\x00\\x00\\x00\\x00\\x00\\x20\\x00\\x00\\x00\\x00\\x00\\x00\\x00\\x00\\x00\\x00\\x00\\x00\\x00\\x00\\x00\\x00\\x00\\x00\\x00\\x00\\x00\\x00\\x00\\x00\\x00\\x00\\x00\\x00&quot;…</td><td>1</td></tr></tbody></table></div>"
      ],
      "text/plain": [
       "shape: (500, 5)\n",
       "┌──────────────┬────────────────────────┬───────────────────────┬───────────────────────┬──────────┐\n",
       "│ block_number ┆ contract_address       ┆ call_data             ┆ output_data           ┆ chain_id │\n",
       "│ ---          ┆ ---                    ┆ ---                   ┆ ---                   ┆ ---      │\n",
       "│ u32          ┆ binary                 ┆ binary                ┆ binary                ┆ u64      │\n",
       "╞══════════════╪════════════════════════╪═══════════════════════╪═══════════════════════╪══════════╡\n",
       "│ 21932163     ┆ b\"\\xca\\x11\\xbd\\xe0Yw\\x ┆ b\"\\xbc\\xe3\\x8b\\xd7\\x0 ┆ b\"\\x00\\x00\\x00\\x00\\x0 ┆ 1        │\n",
       "│              ┆ b3c\\x11g…              ┆ 0\\x00\\x00…            ┆ 0\\x00\\x00…            ┆          │\n",
       "│ 21932164     ┆ b\"\\xca\\x11\\xbd\\xe0Yw\\x ┆ b\"\\xbc\\xe3\\x8b\\xd7\\x0 ┆ b\"\\x00\\x00\\x00\\x00\\x0 ┆ 1        │\n",
       "│              ┆ b3c\\x11g…              ┆ 0\\x00\\x00…            ┆ 0\\x00\\x00…            ┆          │\n",
       "│ 21932165     ┆ b\"\\xca\\x11\\xbd\\xe0Yw\\x ┆ b\"\\xbc\\xe3\\x8b\\xd7\\x0 ┆ b\"\\x00\\x00\\x00\\x00\\x0 ┆ 1        │\n",
       "│              ┆ b3c\\x11g…              ┆ 0\\x00\\x00…            ┆ 0\\x00\\x00…            ┆          │\n",
       "│ 21932166     ┆ b\"\\xca\\x11\\xbd\\xe0Yw\\x ┆ b\"\\xbc\\xe3\\x8b\\xd7\\x0 ┆ b\"\\x00\\x00\\x00\\x00\\x0 ┆ 1        │\n",
       "│              ┆ b3c\\x11g…              ┆ 0\\x00\\x00…            ┆ 0\\x00\\x00…            ┆          │\n",
       "│ 21932167     ┆ b\"\\xca\\x11\\xbd\\xe0Yw\\x ┆ b\"\\xbc\\xe3\\x8b\\xd7\\x0 ┆ b\"\\x00\\x00\\x00\\x00\\x0 ┆ 1        │\n",
       "│              ┆ b3c\\x11g…              ┆ 0\\x00\\x00…            ┆ 0\\x00\\x00…            ┆          │\n",
       "│ …            ┆ …                      ┆ …                     ┆ …                     ┆ …        │\n",
       "│ 21932658     ┆ b\"\\xca\\x11\\xbd\\xe0Yw\\x ┆ b\"\\xbc\\xe3\\x8b\\xd7\\x0 ┆ b\"\\x00\\x00\\x00\\x00\\x0 ┆ 1        │\n",
       "│              ┆ b3c\\x11g…              ┆ 0\\x00\\x00…            ┆ 0\\x00\\x00…            ┆          │\n",
       "│ 21932659     ┆ b\"\\xca\\x11\\xbd\\xe0Yw\\x ┆ b\"\\xbc\\xe3\\x8b\\xd7\\x0 ┆ b\"\\x00\\x00\\x00\\x00\\x0 ┆ 1        │\n",
       "│              ┆ b3c\\x11g…              ┆ 0\\x00\\x00…            ┆ 0\\x00\\x00…            ┆          │\n",
       "│ 21932660     ┆ b\"\\xca\\x11\\xbd\\xe0Yw\\x ┆ b\"\\xbc\\xe3\\x8b\\xd7\\x0 ┆ b\"\\x00\\x00\\x00\\x00\\x0 ┆ 1        │\n",
       "│              ┆ b3c\\x11g…              ┆ 0\\x00\\x00…            ┆ 0\\x00\\x00…            ┆          │\n",
       "│ 21932661     ┆ b\"\\xca\\x11\\xbd\\xe0Yw\\x ┆ b\"\\xbc\\xe3\\x8b\\xd7\\x0 ┆ b\"\\x00\\x00\\x00\\x00\\x0 ┆ 1        │\n",
       "│              ┆ b3c\\x11g…              ┆ 0\\x00\\x00…            ┆ 0\\x00\\x00…            ┆          │\n",
       "│ 21932662     ┆ b\"\\xca\\x11\\xbd\\xe0Yw\\x ┆ b\"\\xbc\\xe3\\x8b\\xd7\\x0 ┆ b\"\\x00\\x00\\x00\\x00\\x0 ┆ 1        │\n",
       "│              ┆ b3c\\x11g…              ┆ 0\\x00\\x00…            ┆ 0\\x00\\x00…            ┆          │\n",
       "└──────────────┴────────────────────────┴───────────────────────┴───────────────────────┴──────────┘"
      ]
     },
     "execution_count": 35,
     "metadata": {},
     "output_type": "execute_result"
    }
   ],
   "source": [
    "eth_call_uniV2_V3_df"
   ]
  },
  {
   "cell_type": "code",
   "execution_count": 36,
   "id": "160ab835-44b6-4661-b3d0-dbcec71ac2e6",
   "metadata": {},
   "outputs": [],
   "source": [
    "outdata_uniV2V3 = eth_call_uniV2_V3_df['output_data'][0]"
   ]
  },
  {
   "cell_type": "code",
   "execution_count": 37,
   "id": "0964582c-2a4b-4460-994b-30fd52f6a9ad",
   "metadata": {},
   "outputs": [
    {
     "data": {
      "text/plain": [
       "'0000000000000000000000000000000000000000000000000000000000000020000000000000000000000000000000000000000000000000000000000000000300000000000000000000000000000000000000000000000000000000000000600000000000000000000000000000000000000000000000000000000000000120000000000000000000000000000000000000000000000000000000000000026000000000000000000000000000000000000000000000000000000000000000010000000000000000000000000000000000000000000000000000000000000040000000000000000000000000000000000000000000000000000000000000006000000000000000000000000000000000000000000000000000000a65c4e4aea5000000000000000000000000000000000000000000000105d37441deeddfec880000000000000000000000000000000000000000000000000000000067bf56cf0000000000000000000000000000000000000000000000000000000000000001000000000000000000000000000000000000000000000000000000000000004000000000000000000000000000000000000000000000000000000000000000e00000000000000000000000000000000000092f82c6402c9802d279552a0679650000000000000000000000000000000000000000000000000000000000040fbd000000000000000000000000000000000000000000000000000000000000003c00000000000000000000000000000000000000000000000000000000000000c800000000000000000000000000000000000000000000000000000000000000c8000000000000000000000000000000000000000000000000000000000000000000000000000000000000000000000000000000000000000000000000000000010000000000000000000000000000000000000000000000000000000000000001000000000000000000000000000000000000000000000000000000000000004000000000000000000000000000000000000000000000000000000000000000200000000000000000000000000000000000000000000000000000000067bf56e7'"
      ]
     },
     "execution_count": 37,
     "metadata": {},
     "output_type": "execute_result"
    }
   ],
   "source": [
    "# output_data_V2V3.hex()\n",
    "outdata_uniV2V3.hex()"
   ]
  },
  {
   "cell_type": "code",
   "execution_count": 38,
   "id": "1cc1f065-6b6a-4f69-a622-45322c7c85e1",
   "metadata": {},
   "outputs": [
    {
     "data": {
      "text/plain": [
       "[2366.9972938366, 0.027594726886648303, 1740592871]"
      ]
     },
     "execution_count": 38,
     "metadata": {},
     "output_type": "execute_result"
    }
   ],
   "source": [
    "decode_outputdata_uniV2V3_price(outdata_uniV2V3)"
   ]
  },
  {
   "cell_type": "code",
   "execution_count": 39,
   "id": "7dccd875-3063-4e76-94d7-166ed8b3f7e9",
   "metadata": {},
   "outputs": [],
   "source": [
    "prices = [decode_outputdata_uniV2V3_price(x) for x in eth_call_uniV2_V3_df['output_data'].to_list()]"
   ]
  },
  {
   "cell_type": "code",
   "execution_count": 40,
   "id": "fded1582-f448-48c4-bcbb-0d4612dec5b7",
   "metadata": {
    "scrolled": true
   },
   "outputs": [
    {
     "data": {
      "text/plain": [
       "[[2366.9972938366, 0.027594726886648303, 1740592871],\n",
       " [2366.9972938366, 0.027594726886648303, 1740592883],\n",
       " [2366.9972938366, 0.027594726886648303, 1740592895],\n",
       " [2367.046910677064, 0.027594726886648303, 1740592907],\n",
       " [2367.046910677064, 0.027594726886648303, 1740592919]]"
      ]
     },
     "execution_count": 40,
     "metadata": {},
     "output_type": "execute_result"
    }
   ],
   "source": [
    "prices[:5]"
   ]
  },
  {
   "cell_type": "code",
   "execution_count": 41,
   "id": "684dc42d-5a69-4057-884c-6b35373d111d",
   "metadata": {
    "scrolled": true
   },
   "outputs": [
    {
     "data": {
      "text/plain": [
       "[<matplotlib.lines.Line2D at 0x12eaf5dc0>]"
      ]
     },
     "execution_count": 41,
     "metadata": {},
     "output_type": "execute_result"
    },
    {
     "data": {
      "image/png": "[encoded data removed]",
      "text/plain": [
       "<Figure size 640x480 with 1 Axes>"
      ]
     },
     "metadata": {},
     "output_type": "display_data"
    }
   ],
   "source": [
    "eth_usdc_prices = [p[0] for p in prices]\n",
    "timestamps = [p[-1] for p in prices]\n",
    "sns.set()\n",
    "plt.plot(timestamps, eth_usdc_prices)"
   ]
  },
  {
   "cell_type": "code",
   "execution_count": 42,
   "id": "fbec9512-2be2-4cd7-bde5-567ce21fad03",
   "metadata": {},
   "outputs": [
    {
     "data": {
      "image/png": "[encoded data removed]",
      "text/plain": [
       "<Figure size 1200x600 with 1 Axes>"
      ]
     },
     "metadata": {},
     "output_type": "display_data"
    }
   ],
   "source": [
    "eth_usdc_prices = [p[0] for p in prices]\n",
    "timestamps = [p[-1] for p in prices]\n",
    "readable_times = [datetime.fromtimestamp(ts).strftime('%Y-%m-%d %H:%M:%S') for ts in timestamps]\n",
    "\n",
    "sns.set()\n",
    "plt.figure(figsize=(12,6))\n",
    "plt.plot(readable_times, eth_usdc_prices)\n",
    "plt.xticks(rotation=45, ha='right')\n",
    "plt.xlabel('Time')\n",
    "plt.ylabel('ETH/USDC')\n",
    "plt.title('ETH/USDC Prices: last 500 blocks ')\n",
    "plt.tight_layout()\n",
    "plt.gca().xaxis.set_major_locator(plt.MaxNLocator(integer=True, prune='both', nbins=10))\n",
    "plt.show()"
   ]
  },
  {
   "cell_type": "code",
   "execution_count": 43,
   "id": "664edca2-c3fa-43ef-95f1-511a324d2c4e",
   "metadata": {},
   "outputs": [
    {
     "data": {
      "text/plain": [
       "list"
      ]
     },
     "execution_count": 43,
     "metadata": {},
     "output_type": "execute_result"
    }
   ],
   "source": [
    "type(prices)"
   ]
  },
  {
   "cell_type": "code",
   "execution_count": 44,
   "id": "2f5a8fb7-bd82-4517-a340-2509db4664a2",
   "metadata": {},
   "outputs": [],
   "source": [
    "df_prices = pd.DataFrame(prices, columns=['eth/usdc','eth/wbtc', 'timestamp'])"
   ]
  },
  {
   "cell_type": "code",
   "execution_count": 45,
   "id": "e5d62761-2780-466d-9f4e-aabc87e11dd4",
   "metadata": {},
   "outputs": [
    {
     "data": {
      "text/html": [
       "<div>\n",
       "<style scoped>\n",
       "    .dataframe tbody tr th:only-of-type {\n",
       "        vertical-align: middle;\n",
       "    }\n",
       "\n",
       "    .dataframe tbody tr th {\n",
       "        vertical-align: top;\n",
       "    }\n",
       "\n",
       "    .dataframe thead th {\n",
       "        text-align: right;\n",
       "    }\n",
       "</style>\n",
       "<table border=\"1\" class=\"dataframe\">\n",
       "  <thead>\n",
       "    <tr style=\"text-align: right;\">\n",
       "      <th></th>\n",
       "      <th>eth/usdc</th>\n",
       "      <th>eth/wbtc</th>\n",
       "      <th>timestamp</th>\n",
       "    </tr>\n",
       "  </thead>\n",
       "  <tbody>\n",
       "    <tr>\n",
       "      <th>0</th>\n",
       "      <td>2366.997294</td>\n",
       "      <td>0.027595</td>\n",
       "      <td>1740592871</td>\n",
       "    </tr>\n",
       "    <tr>\n",
       "      <th>1</th>\n",
       "      <td>2366.997294</td>\n",
       "      <td>0.027595</td>\n",
       "      <td>1740592883</td>\n",
       "    </tr>\n",
       "    <tr>\n",
       "      <th>2</th>\n",
       "      <td>2366.997294</td>\n",
       "      <td>0.027595</td>\n",
       "      <td>1740592895</td>\n",
       "    </tr>\n",
       "    <tr>\n",
       "      <th>3</th>\n",
       "      <td>2367.046911</td>\n",
       "      <td>0.027595</td>\n",
       "      <td>1740592907</td>\n",
       "    </tr>\n",
       "    <tr>\n",
       "      <th>4</th>\n",
       "      <td>2367.046911</td>\n",
       "      <td>0.027595</td>\n",
       "      <td>1740592919</td>\n",
       "    </tr>\n",
       "    <tr>\n",
       "      <th>...</th>\n",
       "      <td>...</td>\n",
       "      <td>...</td>\n",
       "      <td>...</td>\n",
       "    </tr>\n",
       "    <tr>\n",
       "      <th>495</th>\n",
       "      <td>2284.565950</td>\n",
       "      <td>0.027202</td>\n",
       "      <td>1740598847</td>\n",
       "    </tr>\n",
       "    <tr>\n",
       "      <th>496</th>\n",
       "      <td>2284.565950</td>\n",
       "      <td>0.027202</td>\n",
       "      <td>1740598859</td>\n",
       "    </tr>\n",
       "    <tr>\n",
       "      <th>497</th>\n",
       "      <td>2284.565950</td>\n",
       "      <td>0.027202</td>\n",
       "      <td>1740598871</td>\n",
       "    </tr>\n",
       "    <tr>\n",
       "      <th>498</th>\n",
       "      <td>2284.565950</td>\n",
       "      <td>0.027202</td>\n",
       "      <td>1740598883</td>\n",
       "    </tr>\n",
       "    <tr>\n",
       "      <th>499</th>\n",
       "      <td>2284.565950</td>\n",
       "      <td>0.027222</td>\n",
       "      <td>1740598895</td>\n",
       "    </tr>\n",
       "  </tbody>\n",
       "</table>\n",
       "<p>500 rows × 3 columns</p>\n",
       "</div>"
      ],
      "text/plain": [
       "        eth/usdc  eth/wbtc   timestamp\n",
       "0    2366.997294  0.027595  1740592871\n",
       "1    2366.997294  0.027595  1740592883\n",
       "2    2366.997294  0.027595  1740592895\n",
       "3    2367.046911  0.027595  1740592907\n",
       "4    2367.046911  0.027595  1740592919\n",
       "..           ...       ...         ...\n",
       "495  2284.565950  0.027202  1740598847\n",
       "496  2284.565950  0.027202  1740598859\n",
       "497  2284.565950  0.027202  1740598871\n",
       "498  2284.565950  0.027202  1740598883\n",
       "499  2284.565950  0.027222  1740598895\n",
       "\n",
       "[500 rows x 3 columns]"
      ]
     },
     "execution_count": 45,
     "metadata": {},
     "output_type": "execute_result"
    }
   ],
   "source": [
    "df_prices"
   ]
  },
  {
   "cell_type": "markdown",
   "id": "5b72c06a-236c-4d7e-844c-6ae16f20c995",
   "metadata": {},
   "source": [
    "### Using time as dataframe index"
   ]
  },
  {
   "cell_type": "code",
   "execution_count": 46,
   "id": "2299c540-588f-4914-b3f1-a32e55cac059",
   "metadata": {},
   "outputs": [],
   "source": [
    "df_prices['Date'] = pd.to_datetime(df_prices['timestamp'], unit='s')"
   ]
  },
  {
   "cell_type": "code",
   "execution_count": 47,
   "id": "b2934bf2-5b5f-47f8-b98e-7e3a0fdb3ffb",
   "metadata": {},
   "outputs": [],
   "source": [
    "df_prices = df_prices.set_index('Date')"
   ]
  },
  {
   "cell_type": "code",
   "execution_count": 48,
   "id": "9d34a858-3568-48de-bbaf-d798cfe14399",
   "metadata": {},
   "outputs": [],
   "source": [
    "df_prices = df_prices.drop('timestamp', axis=1)"
   ]
  },
  {
   "cell_type": "code",
   "execution_count": 49,
   "id": "6c3b9275-e37a-494f-a0f2-9f34b8e13309",
   "metadata": {},
   "outputs": [
    {
     "data": {
      "text/html": [
       "<div>\n",
       "<style scoped>\n",
       "    .dataframe tbody tr th:only-of-type {\n",
       "        vertical-align: middle;\n",
       "    }\n",
       "\n",
       "    .dataframe tbody tr th {\n",
       "        vertical-align: top;\n",
       "    }\n",
       "\n",
       "    .dataframe thead th {\n",
       "        text-align: right;\n",
       "    }\n",
       "</style>\n",
       "<table border=\"1\" class=\"dataframe\">\n",
       "  <thead>\n",
       "    <tr style=\"text-align: right;\">\n",
       "      <th></th>\n",
       "      <th>eth/usdc</th>\n",
       "      <th>eth/wbtc</th>\n",
       "    </tr>\n",
       "    <tr>\n",
       "      <th>Date</th>\n",
       "      <th></th>\n",
       "      <th></th>\n",
       "    </tr>\n",
       "  </thead>\n",
       "  <tbody>\n",
       "    <tr>\n",
       "      <th>2025-02-26 18:01:11</th>\n",
       "      <td>2366.997294</td>\n",
       "      <td>0.027595</td>\n",
       "    </tr>\n",
       "    <tr>\n",
       "      <th>2025-02-26 18:01:23</th>\n",
       "      <td>2366.997294</td>\n",
       "      <td>0.027595</td>\n",
       "    </tr>\n",
       "    <tr>\n",
       "      <th>2025-02-26 18:01:35</th>\n",
       "      <td>2366.997294</td>\n",
       "      <td>0.027595</td>\n",
       "    </tr>\n",
       "    <tr>\n",
       "      <th>2025-02-26 18:01:47</th>\n",
       "      <td>2367.046911</td>\n",
       "      <td>0.027595</td>\n",
       "    </tr>\n",
       "    <tr>\n",
       "      <th>2025-02-26 18:01:59</th>\n",
       "      <td>2367.046911</td>\n",
       "      <td>0.027595</td>\n",
       "    </tr>\n",
       "  </tbody>\n",
       "</table>\n",
       "</div>"
      ],
      "text/plain": [
       "                        eth/usdc  eth/wbtc\n",
       "Date                                      \n",
       "2025-02-26 18:01:11  2366.997294  0.027595\n",
       "2025-02-26 18:01:23  2366.997294  0.027595\n",
       "2025-02-26 18:01:35  2366.997294  0.027595\n",
       "2025-02-26 18:01:47  2367.046911  0.027595\n",
       "2025-02-26 18:01:59  2367.046911  0.027595"
      ]
     },
     "execution_count": 49,
     "metadata": {},
     "output_type": "execute_result"
    }
   ],
   "source": [
    "df_prices.head()"
   ]
  },
  {
   "cell_type": "code",
   "execution_count": 50,
   "id": "3256cf94-98b3-430c-bd17-81ba342cf034",
   "metadata": {},
   "outputs": [
    {
     "data": {
      "image/png": "[encoded data removed]",
      "text/plain": [
       "<Figure size 1200x600 with 1 Axes>"
      ]
     },
     "metadata": {},
     "output_type": "display_data"
    }
   ],
   "source": [
    "plt.figure(figsize=(12, 6))\n",
    "df_prices['eth/usdc'].plot()\n",
    "# or with more customization:\n",
    "# df_prices['price'].plot(figsize=(12, 6), rot=45)\n",
    "plt.xlabel('Time')\n",
    "plt.ylabel('ETH/USDC')\n",
    "plt.title('ETH/USDC Prices: last 500 blocks')\n",
    "plt.tight_layout()\n",
    "plt.show()"
   ]
  },
  {
   "cell_type": "code",
   "execution_count": 51,
   "id": "a36dd7de-7c35-4eb0-a3ca-91dd300d9d63",
   "metadata": {},
   "outputs": [
    {
     "data": {
      "text/html": [
       "<div>\n",
       "<style scoped>\n",
       "    .dataframe tbody tr th:only-of-type {\n",
       "        vertical-align: middle;\n",
       "    }\n",
       "\n",
       "    .dataframe tbody tr th {\n",
       "        vertical-align: top;\n",
       "    }\n",
       "\n",
       "    .dataframe thead th {\n",
       "        text-align: right;\n",
       "    }\n",
       "</style>\n",
       "<table border=\"1\" class=\"dataframe\">\n",
       "  <thead>\n",
       "    <tr style=\"text-align: right;\">\n",
       "      <th></th>\n",
       "      <th>eth/usdc</th>\n",
       "      <th>eth/wbtc</th>\n",
       "    </tr>\n",
       "  </thead>\n",
       "  <tbody>\n",
       "    <tr>\n",
       "      <th>count</th>\n",
       "      <td>500.000000</td>\n",
       "      <td>500.000000</td>\n",
       "    </tr>\n",
       "    <tr>\n",
       "      <th>mean</th>\n",
       "      <td>2315.745578</td>\n",
       "      <td>0.027310</td>\n",
       "    </tr>\n",
       "    <tr>\n",
       "      <th>std</th>\n",
       "      <td>31.688774</td>\n",
       "      <td>0.000155</td>\n",
       "    </tr>\n",
       "    <tr>\n",
       "      <th>min</th>\n",
       "      <td>2259.556542</td>\n",
       "      <td>0.027048</td>\n",
       "    </tr>\n",
       "    <tr>\n",
       "      <th>25%</th>\n",
       "      <td>2288.618195</td>\n",
       "      <td>0.027227</td>\n",
       "    </tr>\n",
       "    <tr>\n",
       "      <th>50%</th>\n",
       "      <td>2304.391395</td>\n",
       "      <td>0.027279</td>\n",
       "    </tr>\n",
       "    <tr>\n",
       "      <th>75%</th>\n",
       "      <td>2348.043429</td>\n",
       "      <td>0.027390</td>\n",
       "    </tr>\n",
       "    <tr>\n",
       "      <th>max</th>\n",
       "      <td>2370.667628</td>\n",
       "      <td>0.027595</td>\n",
       "    </tr>\n",
       "  </tbody>\n",
       "</table>\n",
       "</div>"
      ],
      "text/plain": [
       "          eth/usdc    eth/wbtc\n",
       "count   500.000000  500.000000\n",
       "mean   2315.745578    0.027310\n",
       "std      31.688774    0.000155\n",
       "min    2259.556542    0.027048\n",
       "25%    2288.618195    0.027227\n",
       "50%    2304.391395    0.027279\n",
       "75%    2348.043429    0.027390\n",
       "max    2370.667628    0.027595"
      ]
     },
     "execution_count": 51,
     "metadata": {},
     "output_type": "execute_result"
    }
   ],
   "source": [
    "df_prices.describe()"
   ]
  },
  {
   "cell_type": "markdown",
   "id": "9bc69d4e-9e2e-4cb4-8740-f591378e81f1",
   "metadata": {},
   "source": [
    "### Check Volatility "
   ]
  },
  {
   "cell_type": "code",
   "execution_count": 52,
   "id": "25386ef2-d97d-4a59-ad62-845583dc20b5",
   "metadata": {},
   "outputs": [],
   "source": [
    "df_prices['eth/usd_block_change'] = df_prices['eth/usdc'].pct_change() * 100"
   ]
  },
  {
   "cell_type": "code",
   "execution_count": 53,
   "id": "1a1118e1-915a-4e27-95b7-f9e8b63a868e",
   "metadata": {},
   "outputs": [
    {
     "data": {
      "text/html": [
       "<div>\n",
       "<style scoped>\n",
       "    .dataframe tbody tr th:only-of-type {\n",
       "        vertical-align: middle;\n",
       "    }\n",
       "\n",
       "    .dataframe tbody tr th {\n",
       "        vertical-align: top;\n",
       "    }\n",
       "\n",
       "    .dataframe thead th {\n",
       "        text-align: right;\n",
       "    }\n",
       "</style>\n",
       "<table border=\"1\" class=\"dataframe\">\n",
       "  <thead>\n",
       "    <tr style=\"text-align: right;\">\n",
       "      <th></th>\n",
       "      <th>eth/usdc</th>\n",
       "      <th>eth/wbtc</th>\n",
       "      <th>eth/usd_block_change</th>\n",
       "    </tr>\n",
       "    <tr>\n",
       "      <th>Date</th>\n",
       "      <th></th>\n",
       "      <th></th>\n",
       "      <th></th>\n",
       "    </tr>\n",
       "  </thead>\n",
       "  <tbody>\n",
       "    <tr>\n",
       "      <th>2025-02-26 18:01:11</th>\n",
       "      <td>2366.997294</td>\n",
       "      <td>0.027595</td>\n",
       "      <td>NaN</td>\n",
       "    </tr>\n",
       "    <tr>\n",
       "      <th>2025-02-26 18:01:23</th>\n",
       "      <td>2366.997294</td>\n",
       "      <td>0.027595</td>\n",
       "      <td>0.000000</td>\n",
       "    </tr>\n",
       "    <tr>\n",
       "      <th>2025-02-26 18:01:35</th>\n",
       "      <td>2366.997294</td>\n",
       "      <td>0.027595</td>\n",
       "      <td>0.000000</td>\n",
       "    </tr>\n",
       "    <tr>\n",
       "      <th>2025-02-26 18:01:47</th>\n",
       "      <td>2367.046911</td>\n",
       "      <td>0.027595</td>\n",
       "      <td>0.002096</td>\n",
       "    </tr>\n",
       "    <tr>\n",
       "      <th>2025-02-26 18:01:59</th>\n",
       "      <td>2367.046911</td>\n",
       "      <td>0.027595</td>\n",
       "      <td>0.000000</td>\n",
       "    </tr>\n",
       "    <tr>\n",
       "      <th>2025-02-26 18:02:11</th>\n",
       "      <td>2367.046911</td>\n",
       "      <td>0.027595</td>\n",
       "      <td>0.000000</td>\n",
       "    </tr>\n",
       "    <tr>\n",
       "      <th>2025-02-26 18:02:23</th>\n",
       "      <td>2367.046911</td>\n",
       "      <td>0.027595</td>\n",
       "      <td>0.000000</td>\n",
       "    </tr>\n",
       "    <tr>\n",
       "      <th>2025-02-26 18:02:35</th>\n",
       "      <td>2367.046911</td>\n",
       "      <td>0.027595</td>\n",
       "      <td>0.000000</td>\n",
       "    </tr>\n",
       "    <tr>\n",
       "      <th>2025-02-26 18:02:47</th>\n",
       "      <td>2367.046911</td>\n",
       "      <td>0.027595</td>\n",
       "      <td>0.000000</td>\n",
       "    </tr>\n",
       "    <tr>\n",
       "      <th>2025-02-26 18:02:59</th>\n",
       "      <td>2367.046911</td>\n",
       "      <td>0.027595</td>\n",
       "      <td>0.000000</td>\n",
       "    </tr>\n",
       "  </tbody>\n",
       "</table>\n",
       "</div>"
      ],
      "text/plain": [
       "                        eth/usdc  eth/wbtc  eth/usd_block_change\n",
       "Date                                                            \n",
       "2025-02-26 18:01:11  2366.997294  0.027595                   NaN\n",
       "2025-02-26 18:01:23  2366.997294  0.027595              0.000000\n",
       "2025-02-26 18:01:35  2366.997294  0.027595              0.000000\n",
       "2025-02-26 18:01:47  2367.046911  0.027595              0.002096\n",
       "2025-02-26 18:01:59  2367.046911  0.027595              0.000000\n",
       "2025-02-26 18:02:11  2367.046911  0.027595              0.000000\n",
       "2025-02-26 18:02:23  2367.046911  0.027595              0.000000\n",
       "2025-02-26 18:02:35  2367.046911  0.027595              0.000000\n",
       "2025-02-26 18:02:47  2367.046911  0.027595              0.000000\n",
       "2025-02-26 18:02:59  2367.046911  0.027595              0.000000"
      ]
     },
     "execution_count": 53,
     "metadata": {},
     "output_type": "execute_result"
    }
   ],
   "source": [
    "df_prices.head(10)"
   ]
  },
  {
   "cell_type": "code",
   "execution_count": 54,
   "id": "bdf48bfa-4153-4152-9a0a-080570b2a5b9",
   "metadata": {},
   "outputs": [],
   "source": [
    "volatility = df_prices['eth/usd_block_change'].std()"
   ]
  },
  {
   "cell_type": "code",
   "execution_count": 55,
   "id": "5d1f52f6-4470-4ca4-94b4-4184d98becfa",
   "metadata": {},
   "outputs": [
    {
     "name": "stdout",
     "output_type": "stream",
     "text": [
      "Volatility: 0.10696876005710958%\n"
     ]
    }
   ],
   "source": [
    "print(f\"Volatility: {volatility}%\")"
   ]
  }
 ],
 "metadata": {
  "kernelspec": {
   "display_name": "Python 3 (ipykernel)",
   "language": "python",
   "name": "python3"
  },
  "language_info": {
   "codemirror_mode": {
    "name": "ipython",
    "version": 3
   },
   "file_extension": ".py",
   "mimetype": "text/x-python",
   "name": "python",
   "nbconvert_exporter": "python",
   "pygments_lexer": "ipython3",
   "version": "3.12.8"
  }
 },
 "nbformat": 4,
 "nbformat_minor": 5
}
