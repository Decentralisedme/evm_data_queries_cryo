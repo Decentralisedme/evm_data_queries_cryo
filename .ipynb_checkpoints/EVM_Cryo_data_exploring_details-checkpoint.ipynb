{
 "cells": [
  {
   "cell_type": "code",
   "execution_count": 1,
   "id": "e288d0a3-4ceb-4417-bf6a-f30c2665c8c2",
   "metadata": {},
   "outputs": [],
   "source": [
    "import cryo\n",
    "import polars as pl\n",
    "import binascii\n",
    "import web3\n",
    "import json\n",
    "from eth_abi import decode"
   ]
  },
  {
   "cell_type": "code",
   "execution_count": 48,
   "id": "e82331f5-4fdd-4a12-98f9-f414d54c4abc",
   "metadata": {},
   "outputs": [],
   "source": [
    "# The multical cantract address, but we also need ABI\n",
    "MULTICALL3_ADDRESS = '0xcA11bde05977b3631167028862bE2a173976CA11'\n",
    "MULTICALL3_ABI=json.loads('[{\"inputs\":[{\"internalType\":\"bool\",\"name\":\"requireSuccess\",\"type\":\"bool\"},{\"components\":[{\"internalType\":\"address\",\"name\":\"target\",\"type\":\"address\"},{\"internalType\":\"bytes\",\"name\":\"callData\",\"type\":\"bytes\"}],\"internalType\":\"struct Multicall3.Call[]\",\"name\":\"calls\",\"type\":\"tuple[]\"}],\"name\":\"tryAggregate\",\"outputs\":[{\"components\":[{\"internalType\":\"bool\",\"name\":\"success\",\"type\":\"bool\"},{\"internalType\":\"bytes\",\"name\":\"returnData\",\"type\":\"bytes\"}],\"internalType\":\"struct Multicall3.Result[]\",\"name\":\"returnData\",\"type\":\"tuple[]\"}],\"stateMutability\":\"payable\",\"type\":\"function\"}]')\n",
    "\n",
    "UNIV2_ETH_USDC= '0xB4e16d0168e52d35CaCD2c6185b44281Ec28C9Dc'\n",
    "UNIV3_WBTC_ETH = '0xCBCdF9626bC03E24f779434178A73a0B4bad62eD'"
   ]
  },
  {
   "cell_type": "code",
   "execution_count": 305,
   "id": "3137ff54-0cd6-41fc-bc60-c45ab5a68950",
   "metadata": {},
   "outputs": [],
   "source": [
    "# Functions\n",
    "def bytes_to_hexstr(b: any) -> str:\n",
    "    if isinstance(b,list):\n",
    "        return [bytes_to_hexstr(a) for a in b]\n",
    "    return '0x' + b.hex()\n",
    "\n",
    "def decode_outputdata_uniV2_price(b: bytes) -> list[float]:\n",
    "    aggregated_data_uniV2 = decode(['(bool,bytes)[]'], b)[0]\n",
    "\n",
    "    ethusdc_reserves_raw = aggregated_data_uniV2[0]\n",
    "    [eth_bal, usdc_bal, _] = decode(['uint112','uint112','uint32'], ethusdc_reserves_raw[1])\n",
    "\n",
    "    eth_usdc_price = (eth_bal / usdc_bal)*1e12\n",
    "    print(f\"ETH/USDC: {eth_usdc_price}\")\n",
    "\n",
    "\n",
    "def decode_outputdata_uniV2V3_price(b: bytes) -> list[float]:\n",
    "    aggregated_data_uniV2V3 = decode(['(bool,bytes)[]'], b)[0]\n",
    "\n",
    "    # UNI-V2\n",
    "    ethusdc_reserves_raw = aggregated_data_uniV2V3[0]\n",
    "    [eth_bal, usdc_bal, _] = decode(['uint112','uint112','uint32'], ethusdc_reserves_raw[1])\n",
    "\n",
    "    eth_usdc_price = (eth_bal / usdc_bal)*1e12\n",
    "    print(f\"ETH/USDC: {eth_usdc_price}\")\n",
    "\n",
    "    # UNI-V3\n",
    "    # slot0():\n",
    "    #  sqrtPriceX96 uint160, tick int24, observationIndex uint16, observationCardinality uint16, observationCardinalityNext uint16, feeProtocol uint8, unlocked bool\n",
    "    #  'uint160', 'int24', 'uint16', 'uint16', 'uint16', 'uint8', 'bool'\n",
    "\n",
    "    wbtc_eth_slot0_raw = aggregated_data_uniV2V3[1]\n",
    "    wbtc_eth_slot0_sqrt_ratioX96 = decode(['uint160', 'int24', 'uint16', 'uint16', 'uint16', 'uint8', 'bool'], wbtc_eth_slot0_raw[1])[0]\n",
    "    wbtc_eth_price = wbtc_eth_slot0_sqrt_ratioX96**2 / 2**192 /1e10\n",
    "    eth_wbtc_price = 1/wbtc_eth_price\n",
    "    print(f\"WBTC/ETH: { wbtc_eth_price}\")\n",
    "    print(f\"ETH/WBTC: { eth_wbtc_price}\")\n",
    "\n",
    "    # Timestamp\n",
    "    timestamp_raw = aggregate_calldata_uniV2_V3[-1]\n",
    "    timestamp = int(timestamp_raw[1].hex(),16)\n",
    "    \n",
    "\n",
    "    return [timestamp, eth_usdc_price, eth_wbtc_price]"
   ]
  },
  {
   "cell_type": "code",
   "execution_count": 277,
   "id": "720aa164-af91-4332-a48d-c43b2c4cb419",
   "metadata": {},
   "outputs": [],
   "source": [
    "# Function Signatures 4 bytes\n",
    "getBlocknumber_4b = '42cbb15c'\n",
    "getBloclTimestamp_4b= '0f28c97d'\n",
    "getReserves_4b = '0902f1ac'\n",
    "slot0_4b = '3850c7bd'"
   ]
  },
  {
   "cell_type": "code",
   "execution_count": 243,
   "id": "7fcf67f3-abd3-42a8-886d-ddfa7286a1a0",
   "metadata": {},
   "outputs": [],
   "source": [
    "txs = cryo.collect('transactions', blocks=['-10:21881984'], rpc ='https://eth.merkle.io')"
   ]
  },
  {
   "cell_type": "code",
   "execution_count": 244,
   "id": "f47f44e3-d72c-4cc5-966c-0440cab3a4d9",
   "metadata": {},
   "outputs": [
    {
     "data": {
      "text/plain": [
       "['0x17185afe19659c8a5f93a2a547058db9c660805f625400dcc89c015f0b405088',\n",
       " '0x5fbf92a74814561ad37de87b5e2c1fd590211af35c7d87e5785790dbceab1830',\n",
       " '0x72abd91c2ac8a5cf8706d663c2629acb28db1771f8363469b516a8eb509393f8',\n",
       " '0x93c047dc4368b039206159771a5165f3223c6b85d1e951c058fa3000338098cd',\n",
       " '0x1ac8af088ae8f77d094366408676245819caf9bcbba06a490887596764b1261b',\n",
       " '0xd46fe78a7aa9113b89ca90444b32b243a71cc3dfb809afa8c7016e9904782e8b',\n",
       " '0x0fca8e8943eefbad34ffea7f28a18f27b2897ec6a75cd068fc523b68c00618bf',\n",
       " '0x74ad3f7a7fc8caff74fabc5933cbd9ecd32d97a0f039ab0c488f7990a184f294',\n",
       " '0xf82048f49848fd81d37187adb7de887f2e0cb85f3d2c04a85455c38cb98ffd90',\n",
       " '0x6050315ae98f0eb328c6fae15c2759b4335d9fbc7883e463c410d3e710eeca01']"
      ]
     },
     "execution_count": 244,
     "metadata": {},
     "output_type": "execute_result"
    }
   ],
   "source": [
    "bytes_to_hexstr(txs['transaction_hash'].to_list())[:10]"
   ]
  },
  {
   "cell_type": "code",
   "execution_count": 245,
   "id": "525bdb8c-42e0-4cac-9a4c-11505657caf9",
   "metadata": {},
   "outputs": [],
   "source": [
    "# web3 instance, function from web3py\n",
    "w3 = web3.Web3()\n",
    "m3 = w3.eth.contract(address = MULTICALL3_ADDRESS, abi=MULTICALL3_ABI)"
   ]
  },
  {
   "cell_type": "markdown",
   "id": "a268231f-60d8-42ef-ac00-d9388fac7e87",
   "metadata": {},
   "source": [
    "### Get Block Number"
   ]
  },
  {
   "cell_type": "code",
   "execution_count": 246,
   "id": "25ef3197-fb66-45d9-aec8-567a87eac0da",
   "metadata": {},
   "outputs": [],
   "source": [
    "aggregate_calldata = [\n",
    "    [\n",
    "        MULTICALL3_ADDRESS,\n",
    "        f'0x{getBlocknumber_4b}',\n",
    "    ]\n",
    "]\n",
    "calldata = m3.encode_abi(\"tryAggregate\", args=[True, aggregate_calldata])"
   ]
  },
  {
   "cell_type": "code",
   "execution_count": 247,
   "id": "a7057008-1542-469c-8fa0-490ac34c8303",
   "metadata": {},
   "outputs": [
    {
     "data": {
      "text/plain": [
       "[['0xcA11bde05977b3631167028862bE2a173976CA11', '0x42cbb15c']]"
      ]
     },
     "execution_count": 247,
     "metadata": {},
     "output_type": "execute_result"
    }
   ],
   "source": [
    "# Args of the tryAggregate function\n",
    "aggregate_calldata"
   ]
  },
  {
   "cell_type": "code",
   "execution_count": 248,
   "id": "0b53d4e8-687e-4e7a-98bf-edaaa05f3468",
   "metadata": {},
   "outputs": [],
   "source": [
    "# calldata: this is the call data with info we want to get:\n",
    "# 0xbce38bd7 = tryAggregate(bool,(address,bytes)[])\n",
    "# aggregate_calldata = are the function arguments \n",
    "# address = Multicall_address, \n",
    "# bytes = Function Sign getblocknumber_4b = '42cbb15c'\n",
    "# if you see the output of call data info all there"
   ]
  },
  {
   "cell_type": "code",
   "execution_count": 249,
   "id": "bba87dd6-343b-4b7d-857b-82c87963a039",
   "metadata": {},
   "outputs": [
    {
     "data": {
      "text/plain": [
       "'0xbce38bd70000000000000000000000000000000000000000000000000000000000000001000000000000000000000000000000000000000000000000000000000000004000000000000000000000000000000000000000000000000000000000000000010000000000000000000000000000000000000000000000000000000000000020000000000000000000000000ca11bde05977b3631167028862be2a173976ca110000000000000000000000000000000000000000000000000000000000000040000000000000000000000000000000000000000000000000000000000000000442cbb15c00000000000000000000000000000000000000000000000000000000'"
      ]
     },
     "execution_count": 249,
     "metadata": {},
     "output_type": "execute_result"
    }
   ],
   "source": [
    "# This is the encoded data to use as calldata\n",
    "# 0xbce38bd7 = tryAggregate(bool,(address,bytes)[])\n",
    "# Multiclall Address + Block function signature\n",
    "calldata"
   ]
  },
  {
   "cell_type": "code",
   "execution_count": 250,
   "id": "916db73b-0a3c-4d36-9a3b-ea413a01c099",
   "metadata": {},
   "outputs": [],
   "source": [
    "cryo_kwargs = {\n",
    "    'rpc': 'https://eth.merkle.io',\n",
    "    'blocks': ['latest'], \n",
    "}\n",
    "            \n",
    "eth_call_df = cryo.collect(\n",
    "    'eth_calls',\n",
    "    to_address = [MULTICALL3_ADDRESS],\n",
    "    call_data=[calldata],\n",
    "     output_format=\"polars\",\n",
    "    **cryo_kwargs,\n",
    ")"
   ]
  },
  {
   "cell_type": "code",
   "execution_count": 251,
   "id": "f5806a50-1e89-4964-bafc-0b3de2b63291",
   "metadata": {},
   "outputs": [
    {
     "data": {
      "text/plain": [
       "b'\\x00\\x00\\x00\\x00\\x00\\x00\\x00\\x00\\x00\\x00\\x00\\x00\\x00\\x00\\x00\\x00\\x00\\x00\\x00\\x00\\x00\\x00\\x00\\x00\\x00\\x00\\x00\\x00\\x00\\x00\\x00 \\x00\\x00\\x00\\x00\\x00\\x00\\x00\\x00\\x00\\x00\\x00\\x00\\x00\\x00\\x00\\x00\\x00\\x00\\x00\\x00\\x00\\x00\\x00\\x00\\x00\\x00\\x00\\x00\\x00\\x00\\x00\\x01\\x00\\x00\\x00\\x00\\x00\\x00\\x00\\x00\\x00\\x00\\x00\\x00\\x00\\x00\\x00\\x00\\x00\\x00\\x00\\x00\\x00\\x00\\x00\\x00\\x00\\x00\\x00\\x00\\x00\\x00\\x00 \\x00\\x00\\x00\\x00\\x00\\x00\\x00\\x00\\x00\\x00\\x00\\x00\\x00\\x00\\x00\\x00\\x00\\x00\\x00\\x00\\x00\\x00\\x00\\x00\\x00\\x00\\x00\\x00\\x00\\x00\\x00\\x01\\x00\\x00\\x00\\x00\\x00\\x00\\x00\\x00\\x00\\x00\\x00\\x00\\x00\\x00\\x00\\x00\\x00\\x00\\x00\\x00\\x00\\x00\\x00\\x00\\x00\\x00\\x00\\x00\\x00\\x00\\x00@\\x00\\x00\\x00\\x00\\x00\\x00\\x00\\x00\\x00\\x00\\x00\\x00\\x00\\x00\\x00\\x00\\x00\\x00\\x00\\x00\\x00\\x00\\x00\\x00\\x00\\x00\\x00\\x00\\x00\\x00\\x00 \\x00\\x00\\x00\\x00\\x00\\x00\\x00\\x00\\x00\\x00\\x00\\x00\\x00\\x00\\x00\\x00\\x00\\x00\\x00\\x00\\x00\\x00\\x00\\x00\\x00\\x00\\x00\\x00\\x01Nl\\x9e'"
      ]
     },
     "execution_count": 251,
     "metadata": {},
     "output_type": "execute_result"
    }
   ],
   "source": [
    "eth_call_df['output_data'][0]"
   ]
  },
  {
   "cell_type": "code",
   "execution_count": 216,
   "id": "154b9997-95c8-487a-a9a5-d88c531576c5",
   "metadata": {},
   "outputs": [],
   "source": [
    "outdata = eth_call_df['output_data'][0]"
   ]
  },
  {
   "cell_type": "code",
   "execution_count": 252,
   "id": "706d4795-868b-48bb-955a-eed7136ac9b8",
   "metadata": {},
   "outputs": [
    {
     "name": "stdout",
     "output_type": "stream",
     "text": [
      "00000000000000000000000000000000000000000000000000000000000000200000000000000000000000000000000000000000000000000000000000000001000000000000000000000000000000000000000000000000000000000000002000000000000000000000000000000000000000000000000000000000000000010000000000000000000000000000000000000000000000000000000000000040000000000000000000000000000000000000000000000000000000000000002000000000000000000000000000000000000000000000000000000000014e6c9a\n"
     ]
    }
   ],
   "source": [
    "print(outdata.hex())"
   ]
  },
  {
   "cell_type": "code",
   "execution_count": 253,
   "id": "7bfa1c30-5825-4458-9162-d692c8065d7e",
   "metadata": {
    "scrolled": true
   },
   "outputs": [],
   "source": [
    "decoded_data =decode(['(bool,bytes)[]'], outdata)[0]"
   ]
  },
  {
   "cell_type": "code",
   "execution_count": 219,
   "id": "cfc2f706-f8bf-428f-abf9-6dcffec6ab1e",
   "metadata": {},
   "outputs": [],
   "source": [
    "# decoded_data[0]"
   ]
  },
  {
   "cell_type": "code",
   "execution_count": 220,
   "id": "f93b0288-71c7-4115-85ee-341bb8e275c6",
   "metadata": {},
   "outputs": [],
   "source": [
    "# this is boolean and list first is true (we set in arg above)\n",
    "# decoded_data[0][1]"
   ]
  },
  {
   "cell_type": "code",
   "execution_count": 254,
   "id": "715a72d4-d5dc-4c72-bc2e-2e217ba9cbbd",
   "metadata": {},
   "outputs": [
    {
     "data": {
      "text/plain": [
       "21916826"
      ]
     },
     "execution_count": 254,
     "metadata": {},
     "output_type": "execute_result"
    }
   ],
   "source": [
    "# 0x14df71c= 21886748\n",
    "#  we call it from block function\n",
    "int(decoded_data[0][1].hex(),16)"
   ]
  },
  {
   "cell_type": "markdown",
   "id": "6ba44e37-1867-4b5a-bce6-dc8fe2bfd95c",
   "metadata": {},
   "source": [
    "## From UNI-V2: USDC >> ETH/USDC price"
   ]
  },
  {
   "cell_type": "code",
   "execution_count": 255,
   "id": "42998108-10b3-40fe-9436-737e3967c72c",
   "metadata": {},
   "outputs": [],
   "source": [
    "# web3 instance, function from web3py\n",
    "# w3 = web3.Web3()\n",
    "# m3 = w3.eth.contract(address = MULTICALL3_ADDRESS, abi=MULTICALL3_ABI)\n",
    "\n",
    "aggregate_calldata_uniV2 = [\n",
    "    [\n",
    "        UNIV2_ETH_USDC,\n",
    "        f'0x{getReserves_4b}',\n",
    "    ]\n",
    "]\n",
    "calldata_uniV2 = m3.encode_abi(\"tryAggregate\", args=[False, aggregate_calldata_uniV2])"
   ]
  },
  {
   "cell_type": "code",
   "execution_count": 256,
   "id": "1b9c250a-3056-44aa-b851-b42b7ce8b200",
   "metadata": {},
   "outputs": [
    {
     "name": "stdout",
     "output_type": "stream",
     "text": [
      "0xbce38bd70000000000000000000000000000000000000000000000000000000000000000000000000000000000000000000000000000000000000000000000000000004000000000000000000000000000000000000000000000000000000000000000010000000000000000000000000000000000000000000000000000000000000020000000000000000000000000b4e16d0168e52d35cacd2c6185b44281ec28c9dc000000000000000000000000000000000000000000000000000000000000004000000000000000000000000000000000000000000000000000000000000000040902f1ac00000000000000000000000000000000000000000000000000000000\n"
     ]
    }
   ],
   "source": [
    "print(calldata_uniV2)"
   ]
  },
  {
   "cell_type": "code",
   "execution_count": 257,
   "id": "0d355ace-8972-46b0-b4ec-332031a630e4",
   "metadata": {},
   "outputs": [],
   "source": [
    "cryo_kwargs = {\n",
    "    'rpc': 'https://eth.merkle.io',\n",
    "    'blocks': ['latest'], \n",
    "}\n",
    "            \n",
    "eth_call_uniV2_df = cryo.collect(\n",
    "    'eth_calls',\n",
    "    to_address = [MULTICALL3_ADDRESS],\n",
    "    call_data=[calldata_uniV2],\n",
    "     output_format=\"polars\",\n",
    "    **cryo_kwargs,\n",
    ")"
   ]
  },
  {
   "cell_type": "markdown",
   "id": "a8796393-859c-4c1d-813e-94ff4b905870",
   "metadata": {},
   "source": [
    "#### From UNI-V2: USDC >> Reserves"
   ]
  },
  {
   "cell_type": "code",
   "execution_count": 258,
   "id": "27f2184d-c1e7-4ee8-8fc0-28f61f605791",
   "metadata": {},
   "outputs": [],
   "source": [
    "outdata_uniV2= eth_call_uniV2_df['output_data'][0]"
   ]
  },
  {
   "cell_type": "code",
   "execution_count": 259,
   "id": "7d33dfa7-5d5b-4404-93d6-3f21f9151443",
   "metadata": {},
   "outputs": [
    {
     "data": {
      "text/plain": [
       "'0000000000000000000000000000000000000000000000000000000000000020000000000000000000000000000000000000000000000000000000000000000100000000000000000000000000000000000000000000000000000000000000200000000000000000000000000000000000000000000000000000000000000001000000000000000000000000000000000000000000000000000000000000004000000000000000000000000000000000000000000000000000000000000000600000000000000000000000000000000000000000000000000000136e7f2a09bc0000000000000000000000000000000000000000000001b03b405e570156defb0000000000000000000000000000000000000000000000000000000067bc83f3'"
      ]
     },
     "execution_count": 259,
     "metadata": {},
     "output_type": "execute_result"
    }
   ],
   "source": [
    "#  0x will give in order 1-Hex USDC Reserve 2-Hex ETH Reserve 3-Timestamp\n",
    "outdata_uniV2.hex()"
   ]
  },
  {
   "cell_type": "code",
   "execution_count": 260,
   "id": "485f71a1-4fff-46f5-b9f3-b6a8fef30c03",
   "metadata": {},
   "outputs": [],
   "source": [
    "decoded_data_uniV2 = decode(['(bool,bytes)[]'], outdata_uniV2)[0]"
   ]
  },
  {
   "cell_type": "code",
   "execution_count": 261,
   "id": "60974521-1f1f-449c-8417-56f62e77adea",
   "metadata": {},
   "outputs": [
    {
     "data": {
      "text/plain": [
       "((True,\n",
       "  b'\\x00\\x00\\x00\\x00\\x00\\x00\\x00\\x00\\x00\\x00\\x00\\x00\\x00\\x00\\x00\\x00\\x00\\x00\\x00\\x00\\x00\\x00\\x00\\x00\\x00\\x00\\x13n\\x7f*\\t\\xbc\\x00\\x00\\x00\\x00\\x00\\x00\\x00\\x00\\x00\\x00\\x00\\x00\\x00\\x00\\x00\\x00\\x00\\x00\\x00\\x00\\x00\\x00\\x01\\xb0;@^W\\x01V\\xde\\xfb\\x00\\x00\\x00\\x00\\x00\\x00\\x00\\x00\\x00\\x00\\x00\\x00\\x00\\x00\\x00\\x00\\x00\\x00\\x00\\x00\\x00\\x00\\x00\\x00\\x00\\x00\\x00\\x00g\\xbc\\x83\\xf3'),)"
      ]
     },
     "execution_count": 261,
     "metadata": {},
     "output_type": "execute_result"
    }
   ],
   "source": [
    "decoded_data_uniV2 "
   ]
  },
  {
   "cell_type": "code",
   "execution_count": 262,
   "id": "935c1226-1339-4f69-a087-a7076749295b",
   "metadata": {},
   "outputs": [],
   "source": [
    "reserves_data_uniV2 = decode(['uint112','uint112','uint32'], decoded_data_uniV2[0][1])"
   ]
  },
  {
   "cell_type": "code",
   "execution_count": 263,
   "id": "1c0c21d6-d866-416d-ab94-3fe35b340f16",
   "metadata": {},
   "outputs": [
    {
     "data": {
      "text/plain": [
       "(21365300791740, 7973262956017051164411, 1740407795)"
      ]
     },
     "execution_count": 263,
     "metadata": {},
     "output_type": "execute_result"
    }
   ],
   "source": [
    "reserves_data_uniV2"
   ]
  },
  {
   "cell_type": "markdown",
   "id": "3462f093-520b-4b68-a262-ac7f4b12e192",
   "metadata": {},
   "source": [
    "#### From UNI-V2: USDC >> ETH/USDC price Def"
   ]
  },
  {
   "cell_type": "code",
   "execution_count": 264,
   "id": "d1b4c4e6-e678-4bce-ae57-892b52843151",
   "metadata": {},
   "outputs": [],
   "source": [
    "output_data_uniV2= eth_call_uniV2_df['output_data'][0]"
   ]
  },
  {
   "cell_type": "code",
   "execution_count": 265,
   "id": "2a61a095-d6f1-483e-98d8-b60d93708027",
   "metadata": {},
   "outputs": [
    {
     "name": "stdout",
     "output_type": "stream",
     "text": [
      "ETH/USDC: 2679.6182327859387\n"
     ]
    }
   ],
   "source": [
    "decode_outputdata_uniV2_price(output_data_uniV2)"
   ]
  },
  {
   "cell_type": "markdown",
   "id": "8b1b77f4-3fdf-489e-9f48-df1d94939f00",
   "metadata": {},
   "source": [
    "#### From UNI-V3: WBTC >> WBTC/ETH price Def"
   ]
  },
  {
   "cell_type": "markdown",
   "id": "8846a9ab-debb-453e-988f-e14b75490e1a",
   "metadata": {},
   "source": [
    "##### In this case we add the function we want to call to the previous one, so we call:\n",
    "- UNIV2_ETH_USDC\n",
    "- UNIV3_WBTC_ETH"
   ]
  },
  {
   "cell_type": "code",
   "execution_count": 306,
   "id": "9850c98a-b9b9-4396-bec0-bfdf81f64aeb",
   "metadata": {},
   "outputs": [],
   "source": [
    "# web3 instance, function from web3py: Done\n",
    "# Aggreagte call data for V2 and V3\n",
    "\n",
    "aggregate_calldata_uniV2_V3 = [\n",
    "    [\n",
    "        UNIV2_ETH_USDC,\n",
    "        f'0x{getReserves_4b}',\n",
    "    ],\n",
    "    [\n",
    "        UNIV3_WBTC_ETH,\n",
    "        f'0x{slot0_4b}',\n",
    "    ],\n",
    "    [\n",
    "        MULTICALL3_ADDRESS,\n",
    "        f'0x{getBlocknumber_4b}'\n",
    "    ]\n",
    "\n",
    "]\n",
    "calldata_uniV2_V3 = m3.encode_abi(\"tryAggregate\", args=[False, aggregate_calldata_uniV2_V3])"
   ]
  },
  {
   "cell_type": "code",
   "execution_count": 307,
   "id": "ca293957-f827-43b3-bc3c-ee410bba4697",
   "metadata": {},
   "outputs": [
    {
     "data": {
      "text/plain": [
       "[['0xB4e16d0168e52d35CaCD2c6185b44281Ec28C9Dc', '0x0902f1ac'],\n",
       " ['0xCBCdF9626bC03E24f779434178A73a0B4bad62eD', '0x3850c7bd'],\n",
       " ['0xcA11bde05977b3631167028862bE2a173976CA11', '0x42cbb15c']]"
      ]
     },
     "execution_count": 307,
     "metadata": {},
     "output_type": "execute_result"
    }
   ],
   "source": [
    "aggregate_calldata_uniV2_V3"
   ]
  },
  {
   "cell_type": "code",
   "execution_count": 308,
   "id": "8c9844a8-516a-4105-90e5-83d2bcbd9c9f",
   "metadata": {},
   "outputs": [
    {
     "name": "stdout",
     "output_type": "stream",
     "text": [
      "0xbce38bd7000000000000000000000000000000000000000000000000000000000000000000000000000000000000000000000000000000000000000000000000000000400000000000000000000000000000000000000000000000000000000000000003000000000000000000000000000000000000000000000000000000000000006000000000000000000000000000000000000000000000000000000000000000e00000000000000000000000000000000000000000000000000000000000000160000000000000000000000000b4e16d0168e52d35cacd2c6185b44281ec28c9dc000000000000000000000000000000000000000000000000000000000000004000000000000000000000000000000000000000000000000000000000000000040902f1ac00000000000000000000000000000000000000000000000000000000000000000000000000000000cbcdf9626bc03e24f779434178a73a0b4bad62ed000000000000000000000000000000000000000000000000000000000000004000000000000000000000000000000000000000000000000000000000000000043850c7bd00000000000000000000000000000000000000000000000000000000000000000000000000000000ca11bde05977b3631167028862be2a173976ca110000000000000000000000000000000000000000000000000000000000000040000000000000000000000000000000000000000000000000000000000000000442cbb15c00000000000000000000000000000000000000000000000000000000\n"
     ]
    }
   ],
   "source": [
    "print(calldata_uniV2_V3)"
   ]
  },
  {
   "cell_type": "code",
   "execution_count": 309,
   "id": "cea49dab-c9b0-4eab-af10-bf9c6d3b62a9",
   "metadata": {},
   "outputs": [],
   "source": [
    "cryo_kwargs = {\n",
    "    'rpc': 'https://eth.merkle.io',\n",
    "    'blocks': ['-100:latest'], \n",
    "}\n",
    "\n",
    "eth_call_uniV2_V3_df = cryo.collect(\n",
    "    'eth_calls',\n",
    "    to_address = [MULTICALL3_ADDRESS],\n",
    "    call_data=[calldata_uniV2_V3],\n",
    "     output_format=\"polars\",\n",
    "    **cryo_kwargs,\n",
    ")"
   ]
  },
  {
   "cell_type": "code",
   "execution_count": 310,
   "id": "29b3051a-fdf0-4faf-89c8-d390e7a9c72d",
   "metadata": {},
   "outputs": [
    {
     "data": {
      "text/html": [
       "<div><style>\n",
       ".dataframe > thead > tr,\n",
       ".dataframe > tbody > tr {\n",
       "  text-align: right;\n",
       "  white-space: pre-wrap;\n",
       "}\n",
       "</style>\n",
       "<small>shape: (100, 5)</small><table border=\"1\" class=\"dataframe\"><thead><tr><th>block_number</th><th>contract_address</th><th>call_data</th><th>output_data</th><th>chain_id</th></tr><tr><td>u32</td><td>binary</td><td>binary</td><td>binary</td><td>u64</td></tr></thead><tbody><tr><td>21917093</td><td>b&quot;\\xca\\x11\\xbd\\xe0Yw\\xb3c\\x11g\\x02\\x88b\\xbe*\\x179v\\xca\\x11&quot;</td><td>b&quot;\\xbc\\xe3\\x8b\\xd7\\x00\\x00\\x00\\x00\\x00\\x00\\x00\\x00\\x00\\x00\\x00\\x00\\x00\\x00\\x00\\x00\\x00\\x00\\x00\\x00\\x00\\x00\\x00\\x00\\x00\\x00\\x00\\x00\\x00\\x00\\x00\\x00\\x00\\x00\\x00\\x00\\x00\\x00\\x00\\x00\\x00\\x00\\x00\\x00\\x00\\x00\\x00\\x00\\x00\\x00\\x00\\x00\\x00\\x00\\x00\\x00&quot;…</td><td>b&quot;\\x00\\x00\\x00\\x00\\x00\\x00\\x00\\x00\\x00\\x00\\x00\\x00\\x00\\x00\\x00\\x00\\x00\\x00\\x00\\x00\\x00\\x00\\x00\\x00\\x00\\x00\\x00\\x00\\x00\\x00\\x00\\x20\\x00\\x00\\x00\\x00\\x00\\x00\\x00\\x00\\x00\\x00\\x00\\x00\\x00\\x00\\x00\\x00\\x00\\x00\\x00\\x00\\x00\\x00\\x00\\x00\\x00\\x00\\x00\\x00&quot;…</td><td>1</td></tr><tr><td>21917094</td><td>b&quot;\\xca\\x11\\xbd\\xe0Yw\\xb3c\\x11g\\x02\\x88b\\xbe*\\x179v\\xca\\x11&quot;</td><td>b&quot;\\xbc\\xe3\\x8b\\xd7\\x00\\x00\\x00\\x00\\x00\\x00\\x00\\x00\\x00\\x00\\x00\\x00\\x00\\x00\\x00\\x00\\x00\\x00\\x00\\x00\\x00\\x00\\x00\\x00\\x00\\x00\\x00\\x00\\x00\\x00\\x00\\x00\\x00\\x00\\x00\\x00\\x00\\x00\\x00\\x00\\x00\\x00\\x00\\x00\\x00\\x00\\x00\\x00\\x00\\x00\\x00\\x00\\x00\\x00\\x00\\x00&quot;…</td><td>b&quot;\\x00\\x00\\x00\\x00\\x00\\x00\\x00\\x00\\x00\\x00\\x00\\x00\\x00\\x00\\x00\\x00\\x00\\x00\\x00\\x00\\x00\\x00\\x00\\x00\\x00\\x00\\x00\\x00\\x00\\x00\\x00\\x20\\x00\\x00\\x00\\x00\\x00\\x00\\x00\\x00\\x00\\x00\\x00\\x00\\x00\\x00\\x00\\x00\\x00\\x00\\x00\\x00\\x00\\x00\\x00\\x00\\x00\\x00\\x00\\x00&quot;…</td><td>1</td></tr><tr><td>21917095</td><td>b&quot;\\xca\\x11\\xbd\\xe0Yw\\xb3c\\x11g\\x02\\x88b\\xbe*\\x179v\\xca\\x11&quot;</td><td>b&quot;\\xbc\\xe3\\x8b\\xd7\\x00\\x00\\x00\\x00\\x00\\x00\\x00\\x00\\x00\\x00\\x00\\x00\\x00\\x00\\x00\\x00\\x00\\x00\\x00\\x00\\x00\\x00\\x00\\x00\\x00\\x00\\x00\\x00\\x00\\x00\\x00\\x00\\x00\\x00\\x00\\x00\\x00\\x00\\x00\\x00\\x00\\x00\\x00\\x00\\x00\\x00\\x00\\x00\\x00\\x00\\x00\\x00\\x00\\x00\\x00\\x00&quot;…</td><td>b&quot;\\x00\\x00\\x00\\x00\\x00\\x00\\x00\\x00\\x00\\x00\\x00\\x00\\x00\\x00\\x00\\x00\\x00\\x00\\x00\\x00\\x00\\x00\\x00\\x00\\x00\\x00\\x00\\x00\\x00\\x00\\x00\\x20\\x00\\x00\\x00\\x00\\x00\\x00\\x00\\x00\\x00\\x00\\x00\\x00\\x00\\x00\\x00\\x00\\x00\\x00\\x00\\x00\\x00\\x00\\x00\\x00\\x00\\x00\\x00\\x00&quot;…</td><td>1</td></tr><tr><td>21917096</td><td>b&quot;\\xca\\x11\\xbd\\xe0Yw\\xb3c\\x11g\\x02\\x88b\\xbe*\\x179v\\xca\\x11&quot;</td><td>b&quot;\\xbc\\xe3\\x8b\\xd7\\x00\\x00\\x00\\x00\\x00\\x00\\x00\\x00\\x00\\x00\\x00\\x00\\x00\\x00\\x00\\x00\\x00\\x00\\x00\\x00\\x00\\x00\\x00\\x00\\x00\\x00\\x00\\x00\\x00\\x00\\x00\\x00\\x00\\x00\\x00\\x00\\x00\\x00\\x00\\x00\\x00\\x00\\x00\\x00\\x00\\x00\\x00\\x00\\x00\\x00\\x00\\x00\\x00\\x00\\x00\\x00&quot;…</td><td>b&quot;\\x00\\x00\\x00\\x00\\x00\\x00\\x00\\x00\\x00\\x00\\x00\\x00\\x00\\x00\\x00\\x00\\x00\\x00\\x00\\x00\\x00\\x00\\x00\\x00\\x00\\x00\\x00\\x00\\x00\\x00\\x00\\x20\\x00\\x00\\x00\\x00\\x00\\x00\\x00\\x00\\x00\\x00\\x00\\x00\\x00\\x00\\x00\\x00\\x00\\x00\\x00\\x00\\x00\\x00\\x00\\x00\\x00\\x00\\x00\\x00&quot;…</td><td>1</td></tr><tr><td>21917097</td><td>b&quot;\\xca\\x11\\xbd\\xe0Yw\\xb3c\\x11g\\x02\\x88b\\xbe*\\x179v\\xca\\x11&quot;</td><td>b&quot;\\xbc\\xe3\\x8b\\xd7\\x00\\x00\\x00\\x00\\x00\\x00\\x00\\x00\\x00\\x00\\x00\\x00\\x00\\x00\\x00\\x00\\x00\\x00\\x00\\x00\\x00\\x00\\x00\\x00\\x00\\x00\\x00\\x00\\x00\\x00\\x00\\x00\\x00\\x00\\x00\\x00\\x00\\x00\\x00\\x00\\x00\\x00\\x00\\x00\\x00\\x00\\x00\\x00\\x00\\x00\\x00\\x00\\x00\\x00\\x00\\x00&quot;…</td><td>b&quot;\\x00\\x00\\x00\\x00\\x00\\x00\\x00\\x00\\x00\\x00\\x00\\x00\\x00\\x00\\x00\\x00\\x00\\x00\\x00\\x00\\x00\\x00\\x00\\x00\\x00\\x00\\x00\\x00\\x00\\x00\\x00\\x20\\x00\\x00\\x00\\x00\\x00\\x00\\x00\\x00\\x00\\x00\\x00\\x00\\x00\\x00\\x00\\x00\\x00\\x00\\x00\\x00\\x00\\x00\\x00\\x00\\x00\\x00\\x00\\x00&quot;…</td><td>1</td></tr><tr><td>&hellip;</td><td>&hellip;</td><td>&hellip;</td><td>&hellip;</td><td>&hellip;</td></tr><tr><td>21917188</td><td>b&quot;\\xca\\x11\\xbd\\xe0Yw\\xb3c\\x11g\\x02\\x88b\\xbe*\\x179v\\xca\\x11&quot;</td><td>b&quot;\\xbc\\xe3\\x8b\\xd7\\x00\\x00\\x00\\x00\\x00\\x00\\x00\\x00\\x00\\x00\\x00\\x00\\x00\\x00\\x00\\x00\\x00\\x00\\x00\\x00\\x00\\x00\\x00\\x00\\x00\\x00\\x00\\x00\\x00\\x00\\x00\\x00\\x00\\x00\\x00\\x00\\x00\\x00\\x00\\x00\\x00\\x00\\x00\\x00\\x00\\x00\\x00\\x00\\x00\\x00\\x00\\x00\\x00\\x00\\x00\\x00&quot;…</td><td>b&quot;\\x00\\x00\\x00\\x00\\x00\\x00\\x00\\x00\\x00\\x00\\x00\\x00\\x00\\x00\\x00\\x00\\x00\\x00\\x00\\x00\\x00\\x00\\x00\\x00\\x00\\x00\\x00\\x00\\x00\\x00\\x00\\x20\\x00\\x00\\x00\\x00\\x00\\x00\\x00\\x00\\x00\\x00\\x00\\x00\\x00\\x00\\x00\\x00\\x00\\x00\\x00\\x00\\x00\\x00\\x00\\x00\\x00\\x00\\x00\\x00&quot;…</td><td>1</td></tr><tr><td>21917189</td><td>b&quot;\\xca\\x11\\xbd\\xe0Yw\\xb3c\\x11g\\x02\\x88b\\xbe*\\x179v\\xca\\x11&quot;</td><td>b&quot;\\xbc\\xe3\\x8b\\xd7\\x00\\x00\\x00\\x00\\x00\\x00\\x00\\x00\\x00\\x00\\x00\\x00\\x00\\x00\\x00\\x00\\x00\\x00\\x00\\x00\\x00\\x00\\x00\\x00\\x00\\x00\\x00\\x00\\x00\\x00\\x00\\x00\\x00\\x00\\x00\\x00\\x00\\x00\\x00\\x00\\x00\\x00\\x00\\x00\\x00\\x00\\x00\\x00\\x00\\x00\\x00\\x00\\x00\\x00\\x00\\x00&quot;…</td><td>b&quot;\\x00\\x00\\x00\\x00\\x00\\x00\\x00\\x00\\x00\\x00\\x00\\x00\\x00\\x00\\x00\\x00\\x00\\x00\\x00\\x00\\x00\\x00\\x00\\x00\\x00\\x00\\x00\\x00\\x00\\x00\\x00\\x20\\x00\\x00\\x00\\x00\\x00\\x00\\x00\\x00\\x00\\x00\\x00\\x00\\x00\\x00\\x00\\x00\\x00\\x00\\x00\\x00\\x00\\x00\\x00\\x00\\x00\\x00\\x00\\x00&quot;…</td><td>1</td></tr><tr><td>21917190</td><td>b&quot;\\xca\\x11\\xbd\\xe0Yw\\xb3c\\x11g\\x02\\x88b\\xbe*\\x179v\\xca\\x11&quot;</td><td>b&quot;\\xbc\\xe3\\x8b\\xd7\\x00\\x00\\x00\\x00\\x00\\x00\\x00\\x00\\x00\\x00\\x00\\x00\\x00\\x00\\x00\\x00\\x00\\x00\\x00\\x00\\x00\\x00\\x00\\x00\\x00\\x00\\x00\\x00\\x00\\x00\\x00\\x00\\x00\\x00\\x00\\x00\\x00\\x00\\x00\\x00\\x00\\x00\\x00\\x00\\x00\\x00\\x00\\x00\\x00\\x00\\x00\\x00\\x00\\x00\\x00\\x00&quot;…</td><td>b&quot;\\x00\\x00\\x00\\x00\\x00\\x00\\x00\\x00\\x00\\x00\\x00\\x00\\x00\\x00\\x00\\x00\\x00\\x00\\x00\\x00\\x00\\x00\\x00\\x00\\x00\\x00\\x00\\x00\\x00\\x00\\x00\\x20\\x00\\x00\\x00\\x00\\x00\\x00\\x00\\x00\\x00\\x00\\x00\\x00\\x00\\x00\\x00\\x00\\x00\\x00\\x00\\x00\\x00\\x00\\x00\\x00\\x00\\x00\\x00\\x00&quot;…</td><td>1</td></tr><tr><td>21917191</td><td>b&quot;\\xca\\x11\\xbd\\xe0Yw\\xb3c\\x11g\\x02\\x88b\\xbe*\\x179v\\xca\\x11&quot;</td><td>b&quot;\\xbc\\xe3\\x8b\\xd7\\x00\\x00\\x00\\x00\\x00\\x00\\x00\\x00\\x00\\x00\\x00\\x00\\x00\\x00\\x00\\x00\\x00\\x00\\x00\\x00\\x00\\x00\\x00\\x00\\x00\\x00\\x00\\x00\\x00\\x00\\x00\\x00\\x00\\x00\\x00\\x00\\x00\\x00\\x00\\x00\\x00\\x00\\x00\\x00\\x00\\x00\\x00\\x00\\x00\\x00\\x00\\x00\\x00\\x00\\x00\\x00&quot;…</td><td>b&quot;\\x00\\x00\\x00\\x00\\x00\\x00\\x00\\x00\\x00\\x00\\x00\\x00\\x00\\x00\\x00\\x00\\x00\\x00\\x00\\x00\\x00\\x00\\x00\\x00\\x00\\x00\\x00\\x00\\x00\\x00\\x00\\x20\\x00\\x00\\x00\\x00\\x00\\x00\\x00\\x00\\x00\\x00\\x00\\x00\\x00\\x00\\x00\\x00\\x00\\x00\\x00\\x00\\x00\\x00\\x00\\x00\\x00\\x00\\x00\\x00&quot;…</td><td>1</td></tr><tr><td>21917192</td><td>b&quot;\\xca\\x11\\xbd\\xe0Yw\\xb3c\\x11g\\x02\\x88b\\xbe*\\x179v\\xca\\x11&quot;</td><td>b&quot;\\xbc\\xe3\\x8b\\xd7\\x00\\x00\\x00\\x00\\x00\\x00\\x00\\x00\\x00\\x00\\x00\\x00\\x00\\x00\\x00\\x00\\x00\\x00\\x00\\x00\\x00\\x00\\x00\\x00\\x00\\x00\\x00\\x00\\x00\\x00\\x00\\x00\\x00\\x00\\x00\\x00\\x00\\x00\\x00\\x00\\x00\\x00\\x00\\x00\\x00\\x00\\x00\\x00\\x00\\x00\\x00\\x00\\x00\\x00\\x00\\x00&quot;…</td><td>b&quot;\\x00\\x00\\x00\\x00\\x00\\x00\\x00\\x00\\x00\\x00\\x00\\x00\\x00\\x00\\x00\\x00\\x00\\x00\\x00\\x00\\x00\\x00\\x00\\x00\\x00\\x00\\x00\\x00\\x00\\x00\\x00\\x20\\x00\\x00\\x00\\x00\\x00\\x00\\x00\\x00\\x00\\x00\\x00\\x00\\x00\\x00\\x00\\x00\\x00\\x00\\x00\\x00\\x00\\x00\\x00\\x00\\x00\\x00\\x00\\x00&quot;…</td><td>1</td></tr></tbody></table></div>"
      ],
      "text/plain": [
       "shape: (100, 5)\n",
       "┌──────────────┬────────────────────────┬───────────────────────┬───────────────────────┬──────────┐\n",
       "│ block_number ┆ contract_address       ┆ call_data             ┆ output_data           ┆ chain_id │\n",
       "│ ---          ┆ ---                    ┆ ---                   ┆ ---                   ┆ ---      │\n",
       "│ u32          ┆ binary                 ┆ binary                ┆ binary                ┆ u64      │\n",
       "╞══════════════╪════════════════════════╪═══════════════════════╪═══════════════════════╪══════════╡\n",
       "│ 21917093     ┆ b\"\\xca\\x11\\xbd\\xe0Yw\\x ┆ b\"\\xbc\\xe3\\x8b\\xd7\\x0 ┆ b\"\\x00\\x00\\x00\\x00\\x0 ┆ 1        │\n",
       "│              ┆ b3c\\x11g…              ┆ 0\\x00\\x00…            ┆ 0\\x00\\x00…            ┆          │\n",
       "│ 21917094     ┆ b\"\\xca\\x11\\xbd\\xe0Yw\\x ┆ b\"\\xbc\\xe3\\x8b\\xd7\\x0 ┆ b\"\\x00\\x00\\x00\\x00\\x0 ┆ 1        │\n",
       "│              ┆ b3c\\x11g…              ┆ 0\\x00\\x00…            ┆ 0\\x00\\x00…            ┆          │\n",
       "│ 21917095     ┆ b\"\\xca\\x11\\xbd\\xe0Yw\\x ┆ b\"\\xbc\\xe3\\x8b\\xd7\\x0 ┆ b\"\\x00\\x00\\x00\\x00\\x0 ┆ 1        │\n",
       "│              ┆ b3c\\x11g…              ┆ 0\\x00\\x00…            ┆ 0\\x00\\x00…            ┆          │\n",
       "│ 21917096     ┆ b\"\\xca\\x11\\xbd\\xe0Yw\\x ┆ b\"\\xbc\\xe3\\x8b\\xd7\\x0 ┆ b\"\\x00\\x00\\x00\\x00\\x0 ┆ 1        │\n",
       "│              ┆ b3c\\x11g…              ┆ 0\\x00\\x00…            ┆ 0\\x00\\x00…            ┆          │\n",
       "│ 21917097     ┆ b\"\\xca\\x11\\xbd\\xe0Yw\\x ┆ b\"\\xbc\\xe3\\x8b\\xd7\\x0 ┆ b\"\\x00\\x00\\x00\\x00\\x0 ┆ 1        │\n",
       "│              ┆ b3c\\x11g…              ┆ 0\\x00\\x00…            ┆ 0\\x00\\x00…            ┆          │\n",
       "│ …            ┆ …                      ┆ …                     ┆ …                     ┆ …        │\n",
       "│ 21917188     ┆ b\"\\xca\\x11\\xbd\\xe0Yw\\x ┆ b\"\\xbc\\xe3\\x8b\\xd7\\x0 ┆ b\"\\x00\\x00\\x00\\x00\\x0 ┆ 1        │\n",
       "│              ┆ b3c\\x11g…              ┆ 0\\x00\\x00…            ┆ 0\\x00\\x00…            ┆          │\n",
       "│ 21917189     ┆ b\"\\xca\\x11\\xbd\\xe0Yw\\x ┆ b\"\\xbc\\xe3\\x8b\\xd7\\x0 ┆ b\"\\x00\\x00\\x00\\x00\\x0 ┆ 1        │\n",
       "│              ┆ b3c\\x11g…              ┆ 0\\x00\\x00…            ┆ 0\\x00\\x00…            ┆          │\n",
       "│ 21917190     ┆ b\"\\xca\\x11\\xbd\\xe0Yw\\x ┆ b\"\\xbc\\xe3\\x8b\\xd7\\x0 ┆ b\"\\x00\\x00\\x00\\x00\\x0 ┆ 1        │\n",
       "│              ┆ b3c\\x11g…              ┆ 0\\x00\\x00…            ┆ 0\\x00\\x00…            ┆          │\n",
       "│ 21917191     ┆ b\"\\xca\\x11\\xbd\\xe0Yw\\x ┆ b\"\\xbc\\xe3\\x8b\\xd7\\x0 ┆ b\"\\x00\\x00\\x00\\x00\\x0 ┆ 1        │\n",
       "│              ┆ b3c\\x11g…              ┆ 0\\x00\\x00…            ┆ 0\\x00\\x00…            ┆          │\n",
       "│ 21917192     ┆ b\"\\xca\\x11\\xbd\\xe0Yw\\x ┆ b\"\\xbc\\xe3\\x8b\\xd7\\x0 ┆ b\"\\x00\\x00\\x00\\x00\\x0 ┆ 1        │\n",
       "│              ┆ b3c\\x11g…              ┆ 0\\x00\\x00…            ┆ 0\\x00\\x00…            ┆          │\n",
       "└──────────────┴────────────────────────┴───────────────────────┴───────────────────────┴──────────┘"
      ]
     },
     "execution_count": 310,
     "metadata": {},
     "output_type": "execute_result"
    }
   ],
   "source": [
    "eth_call_uniV2_V3_df"
   ]
  },
  {
   "cell_type": "code",
   "execution_count": 311,
   "id": "160ab835-44b6-4661-b3d0-dbcec71ac2e6",
   "metadata": {},
   "outputs": [],
   "source": [
    "outdata_uniV2V3 = eth_call_uniV2_V3_df['output_data'][0]"
   ]
  },
  {
   "cell_type": "code",
   "execution_count": 312,
   "id": "0964582c-2a4b-4460-994b-30fd52f6a9ad",
   "metadata": {},
   "outputs": [
    {
     "data": {
      "text/plain": [
       "'0000000000000000000000000000000000000000000000000000000000000020000000000000000000000000000000000000000000000000000000000000000300000000000000000000000000000000000000000000000000000000000000600000000000000000000000000000000000000000000000000000000000000120000000000000000000000000000000000000000000000000000000000000026000000000000000000000000000000000000000000000000000000000000000010000000000000000000000000000000000000000000000000000000000000040000000000000000000000000000000000000000000000000000000000000006000000000000000000000000000000000000000000000000000001360bafaacb50000000000000000000000000000000000000000000001b174acc23046d1c1b50000000000000000000000000000000000000000000000000000000067bc90bf0000000000000000000000000000000000000000000000000000000000000001000000000000000000000000000000000000000000000000000000000000004000000000000000000000000000000000000000000000000000000000000000e0000000000000000000000000000000000009176f1121082f4b829f9ecf767ba40000000000000000000000000000000000000000000000000000000000040eef000000000000000000000000000000000000000000000000000000000000004500000000000000000000000000000000000000000000000000000000000000c800000000000000000000000000000000000000000000000000000000000000c80000000000000000000000000000000000000000000000000000000000000000000000000000000000000000000000000000000000000000000000000000000100000000000000000000000000000000000000000000000000000000000000010000000000000000000000000000000000000000000000000000000000000040000000000000000000000000000000000000000000000000000000000000002000000000000000000000000000000000000000000000000000000000014e6da5'"
      ]
     },
     "execution_count": 312,
     "metadata": {},
     "output_type": "execute_result"
    }
   ],
   "source": [
    "outdata_uniV2V3.hex()"
   ]
  },
  {
   "cell_type": "code",
   "execution_count": 317,
   "id": "1cc1f065-6b6a-4f69-a622-45322c7c85e1",
   "metadata": {},
   "outputs": [
    {
     "name": "stdout",
     "output_type": "stream",
     "text": [
      "ETH/USDC: 2679.5098475744985\n",
      "WBTC/ETH: 35.66474041190923\n",
      "ETH/WBTC: 0.02803889747830825\n"
     ]
    },
    {
     "ename": "AttributeError",
     "evalue": "'str' object has no attribute 'hex'",
     "output_type": "error",
     "traceback": [
      "\u001b[0;31m---------------------------------------------------------------------------\u001b[0m",
      "\u001b[0;31mAttributeError\u001b[0m                            Traceback (most recent call last)",
      "Cell \u001b[0;32mIn[317], line 4\u001b[0m\n\u001b[1;32m      1\u001b[0m \u001b[38;5;66;03m# slot0():\u001b[39;00m\n\u001b[1;32m      2\u001b[0m \u001b[38;5;66;03m#  sqrtPriceX96 uint160, tick int24, observationIndex uint16, observationCardinality uint16, observationCardinalityNext uint16, feeProtocol uint8, unlocked bool\u001b[39;00m\n\u001b[1;32m      3\u001b[0m \u001b[38;5;66;03m#  'uint160', 'int24', 'uint16', 'uint16', 'uint16', 'uint8', 'bool'\u001b[39;00m\n\u001b[0;32m----> 4\u001b[0m \u001b[43mdecode_outputdata_uniV2V3_price\u001b[49m\u001b[43m(\u001b[49m\u001b[43moutput_data_V2V3\u001b[49m\u001b[43m)\u001b[49m\n",
      "Cell \u001b[0;32mIn[305], line 39\u001b[0m, in \u001b[0;36mdecode_outputdata_uniV2V3_price\u001b[0;34m(b)\u001b[0m\n\u001b[1;32m     37\u001b[0m \u001b[38;5;66;03m# Timestamp\u001b[39;00m\n\u001b[1;32m     38\u001b[0m timestamp_raw \u001b[38;5;241m=\u001b[39m aggregate_calldata_uniV2_V3[\u001b[38;5;241m-\u001b[39m\u001b[38;5;241m1\u001b[39m]\n\u001b[0;32m---> 39\u001b[0m timestamp \u001b[38;5;241m=\u001b[39m \u001b[38;5;28mint\u001b[39m(\u001b[43mtimestamp_raw\u001b[49m\u001b[43m[\u001b[49m\u001b[38;5;241;43m1\u001b[39;49m\u001b[43m]\u001b[49m\u001b[38;5;241;43m.\u001b[39;49m\u001b[43mhex\u001b[49m(),\u001b[38;5;241m16\u001b[39m)\n\u001b[1;32m     42\u001b[0m \u001b[38;5;28;01mreturn\u001b[39;00m [timestamp,eth_usdc_price, eth_wbtc_price]\n",
      "\u001b[0;31mAttributeError\u001b[0m: 'str' object has no attribute 'hex'"
     ]
    }
   ],
   "source": [
    "# slot0():\n",
    "#  sqrtPriceX96 uint160, tick int24, observationIndex uint16, observationCardinality uint16, observationCardinalityNext uint16, feeProtocol uint8, unlocked bool\n",
    "#  'uint160', 'int24', 'uint16', 'uint16', 'uint16', 'uint8', 'bool'\n",
    "decode_outputdata_uniV2V3_price(output_data_V2V3)"
   ]
  },
  {
   "cell_type": "code",
   "execution_count": 315,
   "id": "7dccd875-3063-4e76-94d7-166ed8b3f7e9",
   "metadata": {},
   "outputs": [
    {
     "name": "stdout",
     "output_type": "stream",
     "text": [
      "ETH/USDC: 2664.654972443845\n",
      "WBTC/ETH: 35.500512706236954\n",
      "ETH/WBTC: 0.028168607261390727\n"
     ]
    },
    {
     "ename": "AttributeError",
     "evalue": "'str' object has no attribute 'hex'",
     "output_type": "error",
     "traceback": [
      "\u001b[0;31m---------------------------------------------------------------------------\u001b[0m",
      "\u001b[0;31mAttributeError\u001b[0m                            Traceback (most recent call last)",
      "Cell \u001b[0;32mIn[315], line 1\u001b[0m\n\u001b[0;32m----> 1\u001b[0m prices \u001b[38;5;241m=\u001b[39m [\u001b[43mdecode_outputdata_uniV2V3_price\u001b[49m\u001b[43m(\u001b[49m\u001b[43mx\u001b[49m\u001b[43m)\u001b[49m \u001b[38;5;28;01mfor\u001b[39;00m x \u001b[38;5;129;01min\u001b[39;00m eth_call_uniV2_V3_df[\u001b[38;5;124m'\u001b[39m\u001b[38;5;124moutput_data\u001b[39m\u001b[38;5;124m'\u001b[39m]\u001b[38;5;241m.\u001b[39mto_list() ]\n",
      "Cell \u001b[0;32mIn[305], line 39\u001b[0m, in \u001b[0;36mdecode_outputdata_uniV2V3_price\u001b[0;34m(b)\u001b[0m\n\u001b[1;32m     37\u001b[0m \u001b[38;5;66;03m# Timestamp\u001b[39;00m\n\u001b[1;32m     38\u001b[0m timestamp_raw \u001b[38;5;241m=\u001b[39m aggregate_calldata_uniV2_V3[\u001b[38;5;241m-\u001b[39m\u001b[38;5;241m1\u001b[39m]\n\u001b[0;32m---> 39\u001b[0m timestamp \u001b[38;5;241m=\u001b[39m \u001b[38;5;28mint\u001b[39m(\u001b[43mtimestamp_raw\u001b[49m\u001b[43m[\u001b[49m\u001b[38;5;241;43m1\u001b[39;49m\u001b[43m]\u001b[49m\u001b[38;5;241;43m.\u001b[39;49m\u001b[43mhex\u001b[49m(),\u001b[38;5;241m16\u001b[39m)\n\u001b[1;32m     42\u001b[0m \u001b[38;5;28;01mreturn\u001b[39;00m [timestamp,eth_usdc_price, eth_wbtc_price]\n",
      "\u001b[0;31mAttributeError\u001b[0m: 'str' object has no attribute 'hex'"
     ]
    }
   ],
   "source": [
    "prices = [decode_outputdata_uniV2V3_price(x) for x in eth_call_uniV2_V3_df['output_data'].to_list() ]"
   ]
  },
  {
   "cell_type": "code",
   "execution_count": 316,
   "id": "fded1582-f448-48c4-bcbb-0d4612dec5b7",
   "metadata": {},
   "outputs": [
    {
     "data": {
      "text/plain": [
       "[[2659.747804897287, 0.02809722937513466],\n",
       " [2659.511548511592, 0.02809722937513466],\n",
       " [2659.511548511592, 0.02809722937513466],\n",
       " [2659.511548511592, 0.02809722937513466],\n",
       " [2659.511548511592, 0.02809722937513466],\n",
       " [2659.1919420547365, 0.02809722937513466],\n",
       " [2659.1919420547365, 0.02809722937513466],\n",
       " [2659.1919420547365, 0.02809722937513466],\n",
       " [2659.1919420547365, 0.02809722937513466],\n",
       " [2659.1919420547365, 0.02809722937513466],\n",
       " [2659.1919420547365, 0.028119636272485815],\n",
       " [2659.1919420547365, 0.028119757764745745],\n",
       " [2659.0733302937588, 0.028119757764745745],\n",
       " [2659.0733302937588, 0.028119757764745745],\n",
       " [2658.955684303096, 0.028119757764745745],\n",
       " [2661.179425976511, 0.028119757764745745],\n",
       " [2661.3443302774963, 0.028119757764745745],\n",
       " [2661.3443302774963, 0.028119757764745745],\n",
       " [2661.3443302774963, 0.028122460487830146],\n",
       " [2663.1314338144075, 0.028122460487830146],\n",
       " [2666.440659113978, 0.028138491307858293],\n",
       " [2666.440659113978, 0.028138491307858293],\n",
       " [2669.0466035012378, 0.028138491307858293],\n",
       " [2669.0466035012378, 0.028138491307858293],\n",
       " [2669.0466035012378, 0.028138491307858293],\n",
       " [2669.0466035012378, 0.028138491307858293],\n",
       " [2669.0466035012378, 0.028138491307858293],\n",
       " [2669.0466035012378, 0.028138491307858293],\n",
       " [2669.0466035012378, 0.028138491307858293],\n",
       " [2669.204817513675, 0.028138491307858293],\n",
       " [2669.1384288794966, 0.028138491307858293],\n",
       " [2669.4247219584868, 0.028138491307858293],\n",
       " [2669.4247219584868, 0.028138491307858293],\n",
       " [2668.7608650984807, 0.028138491307858293],\n",
       " [2668.7608650984807, 0.028138491307858293],\n",
       " [2668.0972559724987, 0.028138491307858293],\n",
       " [2668.0972559724987, 0.028138491307858293],\n",
       " [2668.0972559724987, 0.028138491307858293],\n",
       " [2667.4338944573483, 0.028138491307858293],\n",
       " [2667.4338944573483, 0.028138491307858293],\n",
       " [2668.157069391054, 0.028138491307858293],\n",
       " [2668.1437992948368, 0.028138491307858293],\n",
       " [2668.1437992948368, 0.028138491307858293],\n",
       " [2668.1437992948368, 0.028138491307858293],\n",
       " [2668.8936089875924, 0.028138491307858293],\n",
       " [2668.8936089875924, 0.028138491307858293],\n",
       " [2668.8936089875924, 0.028138491307858293],\n",
       " [2669.5514642879325, 0.028138491307858293],\n",
       " [2670.2638498649903, 0.028138491307858293],\n",
       " [2670.2638498649903, 0.028138491307858293],\n",
       " [2670.2638498649903, 0.028138491307858293],\n",
       " [2670.2638498649903, 0.028138491307858293],\n",
       " [2670.2638498649903, 0.028168607261390727],\n",
       " [2670.2638498649903, 0.028168607261390727],\n",
       " [2670.0973414774085, 0.028168607261390727],\n",
       " [2670.0973414774085, 0.028168607261390727],\n",
       " [2670.089366284008, 0.028168607261390727],\n",
       " [2670.089366284008, 0.028168607261390727],\n",
       " [2670.2143727209345, 0.028168607261390727],\n",
       " [2670.0836936526684, 0.028168607261390727],\n",
       " [2670.049686362465, 0.028168607261390727],\n",
       " [2670.049686362465, 0.028168607261390727],\n",
       " [2670.2371957066134, 0.028168607261390727],\n",
       " [2670.2371957066134, 0.028168607261390727],\n",
       " [2670.2371957066134, 0.028168607261390727],\n",
       " [2670.2371957066134, 0.028168607261390727],\n",
       " [2670.2729894532345, 0.028168607261390727],\n",
       " [2670.2729894532345, 0.028168607261390727],\n",
       " [2671.5232283016658, 0.028168607261390727],\n",
       " [2671.5232283016658, 0.028168607261390727],\n",
       " [2671.5232283016658, 0.028168607261390727],\n",
       " [2671.504573307386, 0.028168607261390727],\n",
       " [2671.504573307386, 0.028168607261390727],\n",
       " [2671.504573307386, 0.028168607261390727],\n",
       " [2671.504573307386, 0.028168607261390727],\n",
       " [2671.504573307386, 0.028168607261390727],\n",
       " [2671.4605405804646, 0.028168607261390727],\n",
       " [2671.4605405804646, 0.028168607261390727],\n",
       " [2671.4605405804646, 0.028168607261390727],\n",
       " [2670.8766600632102, 0.028168607261390727],\n",
       " [2670.8766600632102, 0.028168607261390727],\n",
       " [2670.8766600632102, 0.028168607261390727],\n",
       " [2670.4291217722043, 0.028168607261390727],\n",
       " [2670.4291217722043, 0.028168607261390727],\n",
       " [2670.4291217722043, 0.028168607261390727],\n",
       " [2670.4291217722043, 0.028168607261390727],\n",
       " [2670.433491604835, 0.028168607261390727],\n",
       " [2670.433491604835, 0.028168607261390727],\n",
       " [2670.855894486323, 0.028168607261390727],\n",
       " [2669.0474453612114, 0.028168607261390727],\n",
       " [2668.9720439774364, 0.028168607261390727],\n",
       " [2668.9720439774364, 0.028168607261390727],\n",
       " [2668.5950530746463, 0.028168607261390727],\n",
       " [2665.4977341754357, 0.028168607261390727],\n",
       " [2665.4977341754357, 0.028168607261390727],\n",
       " [2665.4977341754357, 0.028168607261390727],\n",
       " [2665.4921813946835, 0.028168607261390727],\n",
       " [2665.172981486402, 0.028168607261390727],\n",
       " [2665.057045813195, 0.028168607261390727],\n",
       " [2665.0543170037054, 0.028168607261390727]]"
      ]
     },
     "execution_count": 316,
     "metadata": {},
     "output_type": "execute_result"
    }
   ],
   "source": [
    "prices"
   ]
  },
  {
   "cell_type": "code",
   "execution_count": null,
   "id": "fbec9512-2be2-4cd7-bde5-567ce21fad03",
   "metadata": {},
   "outputs": [],
   "source": []
  }
 ],
 "metadata": {
  "kernelspec": {
   "display_name": "Python 3 (ipykernel)",
   "language": "python",
   "name": "python3"
  },
  "language_info": {
   "codemirror_mode": {
    "name": "ipython",
    "version": 3
   },
   "file_extension": ".py",
   "mimetype": "text/x-python",
   "name": "python",
   "nbconvert_exporter": "python",
   "pygments_lexer": "ipython3",
   "version": "3.12.8"
  }
 },
 "nbformat": 4,
 "nbformat_minor": 5
}
