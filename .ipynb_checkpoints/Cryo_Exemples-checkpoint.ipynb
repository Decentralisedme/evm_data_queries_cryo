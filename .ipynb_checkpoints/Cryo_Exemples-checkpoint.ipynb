{
 "cells": [
  {
   "cell_type": "code",
   "execution_count": 60,
   "id": "500dbc3b-0801-4d80-87c7-b81ba9a9ded4",
   "metadata": {},
   "outputs": [],
   "source": [
    "import cryo\n",
    "import polars as pl\n",
    "import binascii\n",
    "import web3\n",
    "import json\n",
    "from eth_abi import decode\n",
    "import seaborn as sns\n",
    "import matplotlib.pyplot as plt\n",
    "from datetime import datetime\n",
    "import pandas as pd"
   ]
  },
  {
   "cell_type": "code",
   "execution_count": 61,
   "id": "80d0d77b-6ee0-4396-a043-a5a43a95cdef",
   "metadata": {},
   "outputs": [],
   "source": [
    "# Functions\n",
    "def bytes_to_hexstr(b: any) -> str:\n",
    "    if isinstance(b,list):\n",
    "        return [bytes_to_hexstr(a) for a in b]\n",
    "    return '0x' + b.hex()"
   ]
  },
  {
   "cell_type": "code",
   "execution_count": 62,
   "id": "313651a5-f0d2-4d3f-8d8d-6b837f3745ae",
   "metadata": {},
   "outputs": [],
   "source": [
    "# Function Signatures 4 bytes\n",
    "getBlocknumber_4b = '42cbb15c'"
   ]
  },
  {
   "cell_type": "code",
   "execution_count": 90,
   "id": "bc8c1613-5f1b-4716-b6bd-131c6d061fc5",
   "metadata": {},
   "outputs": [],
   "source": [
    "txs = cryo.collect('transactions', blocks=['latest'], rpc ='https://eth.merkle.io')"
   ]
  },
  {
   "cell_type": "code",
   "execution_count": 91,
   "id": "62322335-1832-4b97-ba42-b449c1f24d76",
   "metadata": {},
   "outputs": [
    {
     "data": {
      "text/html": [
       "<div><style>\n",
       ".dataframe > thead > tr,\n",
       ".dataframe > tbody > tr {\n",
       "  text-align: right;\n",
       "  white-space: pre-wrap;\n",
       "}\n",
       "</style>\n",
       "<small>shape: (5, 21)</small><table border=\"1\" class=\"dataframe\"><thead><tr><th>block_number</th><th>transaction_index</th><th>transaction_hash</th><th>nonce</th><th>from_address</th><th>to_address</th><th>value_binary</th><th>value_string</th><th>value_f64</th><th>input</th><th>gas_limit</th><th>gas_used</th><th>gas_price</th><th>transaction_type</th><th>max_priority_fee_per_gas</th><th>max_fee_per_gas</th><th>success</th><th>n_input_bytes</th><th>n_input_zero_bytes</th><th>n_input_nonzero_bytes</th><th>chain_id</th></tr><tr><td>u32</td><td>u64</td><td>binary</td><td>u64</td><td>binary</td><td>binary</td><td>binary</td><td>str</td><td>f64</td><td>binary</td><td>u64</td><td>u64</td><td>u64</td><td>u32</td><td>u64</td><td>u64</td><td>bool</td><td>u32</td><td>u32</td><td>u32</td><td>u64</td></tr></thead><tbody><tr><td>21945502</td><td>0</td><td>b&quot;h\\xab\\xb4\\xc9rj\\xf0\\xa4\\x18\\x81]\\xb9+Z{\\x9d\\x8d\\x0e\\xd5&quot;\\xfa~B\\xc34\\xae\\xa5\\xa2\\xa8\\x15\\x8d\\xb9&quot;</td><td>784</td><td>b&quot;\\x0cRA~\\xa6~\\xfe\\xd1H\\x1de\\x20\\xaaD(A\\xafZ\\xd9\\x8e&quot;</td><td>b&quot;\\x80\\xa6Lm\\x7f\\x12\\xc4{|f\\xc5\\xb4\\xe2\\x0er\\xbc\\x1f\\xcd]\\x9e&quot;</td><td>b&quot;\\x00\\x00\\x00\\x00\\x00\\x00\\x00\\x00\\x00\\x00\\x00\\x00\\x00\\x00\\x00\\x00\\x00\\x00\\x00\\x00\\x00\\x00\\x00\\x00\\x00\\xb1\\xa2\\xbc.\\xc5\\x00\\x00&quot;</td><td>&quot;50000000000000000&quot;</td><td>5.0000e16</td><td>b&quot;\\x08\\x88\\x90\\xdc\\x00\\x00\\x00\\x00\\x00\\x00\\x00\\x00\\x00\\x00\\x00\\x00\\x00\\x00\\x00\\x00\\x00\\x00\\x00\\x00\\x00\\x00\\x00\\x00\\x00\\x00uT\\x9f\\xb5&lt;\\xe6\\x00\\x00\\x00\\x00\\x00\\x00\\x00\\x00\\x00\\x00\\x00\\x00\\x00\\x00\\x00\\x00\\x00\\x00\\x00\\x00\\x00\\x00\\x00\\x00&quot;…</td><td>333015</td><td>195296</td><td>17391286973</td><td>2</td><td>15000000000</td><td>18042696454</td><td>true</td><td>260</td><td>164</td><td>96</td><td>1</td></tr><tr><td>21945502</td><td>1</td><td>b&quot;)M.^C\\xee\\x9f\\x83\\xeb\\x8b\\xed\\xdb\\xf7\\x00&#x27;\\xadK\\x03Fa\\xd8\\xb7\\xae\\xc3\\xf1Q\\xe2\\x0c\\xef1\\x83]&quot;</td><td>4270735</td><td>b&quot;\\xae/\\xc4\\x83R{\\x8e\\xf9\\x9e\\xb5\\xd9\\xb4Hu\\xf0\\x05\\xba\\x1f\\xae\\x13&quot;</td><td>b&quot;\\x1f/\\x10\\xd1\\xc4\\x07w\\xae\\x1d\\xa7BE\\e\\x82\\x8f\\xf3m\\xf3\\x87&quot;</td><td>b&quot;\\x00\\x00\\x00\\x00\\x00\\x00\\x00\\x00\\x00\\x00\\x00\\x00\\x00\\x00\\x00\\x00\\x00\\x00\\x00\\x00\\x00\\x00\\x00\\x00\\x00\\x00\\x00\\x00\\x00\\x00\\x00\\xef&quot;</td><td>&quot;239&quot;</td><td>239.0</td><td>b&quot;+\\xa6\\\\x95\\xd4\\xb1\\xc32\\x1c\\xf8\\x98\\xd2YI\\xf4\\x1dP\\xbe-\\xb5\\xbc\\x1d[7zB\\x20@\\xd1o\\xc0$j\\xd3\\x16\\x0c\\xcc\\x09\\xb8\\xd0\\xd3\\xa2\\xcd(\\xael/\\xa0\\xb8i\\x91\\xc6!\\x8b6\\xc1\\xd1\\x9dJ.&quot;…</td><td>783804</td><td>548663</td><td>5186251918</td><td>2</td><td>5186251917</td><td>5186251918</td><td>true</td><td>639</td><td>133</td><td>506</td><td>1</td></tr><tr><td>21945502</td><td>2</td><td>b&quot;e\\x83\\xb8%\\xfd\\xba7E&gt;T\\x0bI\\xa6\\xc0\\xc8\\x18\\x80\\x13\\xf0\\xe4\\xec\\xb6\\x94\\xdc?D\\x9b\\xb9\\x07\\xfd\\x0cM&quot;</td><td>46</td><td>b&quot;\\x00H\\xb6\\x036+\\xa20i*\\xfe\\xe6=\\xee\\x15#\\xe1[Oq&quot;</td><td>b&quot;\\x80\\xa6Lm\\x7f\\x12\\xc4{|f\\xc5\\xb4\\xe2\\x0er\\xbc\\x1f\\xcd]\\x9e&quot;</td><td>b&quot;\\x00\\x00\\x00\\x00\\x00\\x00\\x00\\x00\\x00\\x00\\x00\\x00\\x00\\x00\\x00\\x00\\x00\\x00\\x00\\x00\\x00\\x00\\x00\\x00\\x00\\x00\\x00\\x00\\x00\\x00\\x00\\x00&quot;</td><td>&quot;0&quot;</td><td>0.0</td><td>b&quot;=\\x0e&gt;\\xc5\\x00\\x00\\x00\\x00\\x00\\x00\\x00\\x00\\x00\\x00\\x00\\x00\\x00\\x00\\x00\\x00\\x00\\x00\\x00\\x00\\x00\\x00\\x00\\x00\\x00\\x00)%\\xf5\\xd2\\xef7\\x00\\x00\\x00\\x00\\x00\\x00\\x00\\x00\\x00\\x00\\x00\\x00\\x00\\x00\\x00\\x00\\x00\\x00\\x00\\x00\\x00\\x00\\x00\\x00&quot;…</td><td>552482</td><td>245757</td><td>3991286973</td><td>2</td><td>1600000000</td><td>4642696454</td><td>true</td><td>292</td><td>190</td><td>102</td><td>1</td></tr><tr><td>21945502</td><td>3</td><td>b&quot;\\xdd\\xc8\\x9b\\x06\\xc8Q#&quot;\\xfdo\\x91_\\x80\\x16\\xcf\\x10\\xe1\\x94\\xbd\\xcb\\x01\\xb9&lt;\\x82k\\x1fXU\\x0a\\xfc\\x11\\xef&quot;</td><td>303</td><td>b&quot;\\xce\\xc4\\x97\\x80\\x01\\x03&lt;\\xe3z\\x1e&#x27;\\xc6\\xa0\\xd8\\xaa\\x14\\x9a\\x85Gw&quot;</td><td>b&quot;\\xbc\\xf5\\x9e\\xe0\\xb7C\\x12\\xa3\\xfaJ\\x9f\\xd2X\\xad\\xca\\x0a\\x1ca\\xa5\\xaa&quot;</td><td>b&quot;\\x00\\x00\\x00\\x00\\x00\\x00\\x00\\x00\\x00\\x00\\x00\\x00\\x00\\x00\\x00\\x00\\x00\\x00\\x00\\x00\\x00\\x00\\x00\\x00\\x00\\x00\\x00\\x00\\x00\\x00\\x00\\x00&quot;</td><td>&quot;0&quot;</td><td>0.0</td><td>b&quot;\\x09^\\xa7\\xb3\\x00\\x00\\x00\\x00\\x00\\x00\\x00\\x00\\x00\\x00\\x00\\x00\\x80\\xa6Lm\\x7f\\x12\\xc4{|f\\xc5\\xb4\\xe2\\x0er\\xbc\\x1f\\xcd]\\x9e\\xff\\xff\\xff\\xff\\xff\\xff\\xff\\xff\\xff\\xff\\xff\\xff\\xff\\xff\\xff\\xff\\xff\\xff\\xff\\xff\\xff\\xff\\xff\\xff&quot;…</td><td>56352</td><td>46577</td><td>5391286973</td><td>2</td><td>3000000000</td><td>6432828194</td><td>true</td><td>68</td><td>12</td><td>56</td><td>1</td></tr><tr><td>21945502</td><td>4</td><td>b&quot;3)\\x1e\\x84Mi\\x04\\xde\\x9a\\xf8\\x1b{\\xf4\\x07\\x0dSs4\\x11H\\x07Z\\\\xe5\\x15\\xe4\\x02\\xce!\\xfbo\\x97&quot;</td><td>227449</td><td>b&quot;\\xfc\\x99(\\xf6Y\\x0d\\x857R\\x82K\\x0b@:j\\xe3g\\x85\\xe55&quot;</td><td>b&quot;\\x00\\x00\\x00\\x00\\x00\\x9eP\\xa7\\xdd\\xb7\\xa7\\xb0\\xe2\\xeef\\x04\\xfd\\x12\\x0eI&quot;</td><td>b&quot;\\x00\\x00\\x00\\x00\\x00\\x00\\x00\\x00\\x00\\x00\\x00\\x00\\x00\\x00\\x00\\x00\\x00\\x00\\x00\\x00\\x00\\x00\\x00\\x00\\x00\\x00\\x00\\x00\\x00\\x00\\x00\\x00&quot;</td><td>&quot;0&quot;</td><td>0.0</td><td>b&quot;\\x9e!j\\x04\\x85\\x05\\x19\\x08\\x11\\xb8\\x15\\xef\\xb8\\xf5\\x81\\x19J\\xe7\\x90\\x06\\xd2N\\x0d\\x81Kv\\x97\\xf6,\\xde\\x00\\x00\\x00\\x00\\x00\\x00|\\xc2\\xe5^\\x00\\x00\\x00\\x00\\x04?\\xa3\\x00D\\x00\\x00\\x00\\x00\\x00\\x00\\x00\\x00\\x00\\x00\\x00&quot;…</td><td>930415</td><td>651291</td><td>6715096218</td><td>2</td><td>4323809245</td><td>7432482309</td><td>true</td><td>713</td><td>388</td><td>325</td><td>1</td></tr></tbody></table></div>"
      ],
      "text/plain": [
       "shape: (5, 21)\n",
       "┌────────────┬────────────┬───────────┬─────────┬───┬───────────┬───────────┬───────────┬──────────┐\n",
       "│ block_numb ┆ transactio ┆ transacti ┆ nonce   ┆ … ┆ n_input_b ┆ n_input_z ┆ n_input_n ┆ chain_id │\n",
       "│ er         ┆ n_index    ┆ on_hash   ┆ ---     ┆   ┆ ytes      ┆ ero_bytes ┆ onzero_by ┆ ---      │\n",
       "│ ---        ┆ ---        ┆ ---       ┆ u64     ┆   ┆ ---       ┆ ---       ┆ tes       ┆ u64      │\n",
       "│ u32        ┆ u64        ┆ binary    ┆         ┆   ┆ u32       ┆ u32       ┆ ---       ┆          │\n",
       "│            ┆            ┆           ┆         ┆   ┆           ┆           ┆ u32       ┆          │\n",
       "╞════════════╪════════════╪═══════════╪═════════╪═══╪═══════════╪═══════════╪═══════════╪══════════╡\n",
       "│ 21945502   ┆ 0          ┆ b\"h\\xab\\x ┆ 784     ┆ … ┆ 260       ┆ 164       ┆ 96        ┆ 1        │\n",
       "│            ┆            ┆ b4\\xc9rj\\ ┆         ┆   ┆           ┆           ┆           ┆          │\n",
       "│            ┆            ┆ xf0\\xa4\\x ┆         ┆   ┆           ┆           ┆           ┆          │\n",
       "│            ┆            ┆ 18\\…      ┆         ┆   ┆           ┆           ┆           ┆          │\n",
       "│ 21945502   ┆ 1          ┆ b\")M.^C\\x ┆ 4270735 ┆ … ┆ 639       ┆ 133       ┆ 506       ┆ 1        │\n",
       "│            ┆            ┆ ee\\x9f\\x8 ┆         ┆   ┆           ┆           ┆           ┆          │\n",
       "│            ┆            ┆ 3\\xeb\\x8b ┆         ┆   ┆           ┆           ┆           ┆          │\n",
       "│            ┆            ┆ \\xe…      ┆         ┆   ┆           ┆           ┆           ┆          │\n",
       "│ 21945502   ┆ 2          ┆ b\"e\\x83\\x ┆ 46      ┆ … ┆ 292       ┆ 190       ┆ 102       ┆ 1        │\n",
       "│            ┆            ┆ b8%\\xfd\\x ┆         ┆   ┆           ┆           ┆           ┆          │\n",
       "│            ┆            ┆ ba7E>T\\x0 ┆         ┆   ┆           ┆           ┆           ┆          │\n",
       "│            ┆            ┆ bI\\…      ┆         ┆   ┆           ┆           ┆           ┆          │\n",
       "│ 21945502   ┆ 3          ┆ b\"\\xdd\\xc ┆ 303     ┆ … ┆ 68        ┆ 12        ┆ 56        ┆ 1        │\n",
       "│            ┆            ┆ 8\\x9b\\x06 ┆         ┆   ┆           ┆           ┆           ┆          │\n",
       "│            ┆            ┆ \\xc8Q#\"\\x ┆         ┆   ┆           ┆           ┆           ┆          │\n",
       "│            ┆            ┆ fdo…      ┆         ┆   ┆           ┆           ┆           ┆          │\n",
       "│ 21945502   ┆ 4          ┆ b\"3)\\x1e\\ ┆ 227449  ┆ … ┆ 713       ┆ 388       ┆ 325       ┆ 1        │\n",
       "│            ┆            ┆ x84Mi\\x04 ┆         ┆   ┆           ┆           ┆           ┆          │\n",
       "│            ┆            ┆ \\xde\\x9a\\ ┆         ┆   ┆           ┆           ┆           ┆          │\n",
       "│            ┆            ┆ xf8…      ┆         ┆   ┆           ┆           ┆           ┆          │\n",
       "└────────────┴────────────┴───────────┴─────────┴───┴───────────┴───────────┴───────────┴──────────┘"
      ]
     },
     "execution_count": 91,
     "metadata": {},
     "output_type": "execute_result"
    }
   ],
   "source": [
    "txs.head()"
   ]
  },
  {
   "cell_type": "markdown",
   "id": "c65b52b3-c922-48f1-8404-e5e6e6ae3a6b",
   "metadata": {},
   "source": [
    "## Balance"
   ]
  },
  {
   "cell_type": "code",
   "execution_count": null,
   "id": "c4ef4e4a-6153-4612-8b04-7d8c55a313c3",
   "metadata": {},
   "outputs": [],
   "source": []
  },
  {
   "cell_type": "code",
   "execution_count": 92,
   "id": "35c9c5d3-0184-4a6c-baa1-3e9b4c11fa7d",
   "metadata": {},
   "outputs": [],
   "source": [
    "# ERC20s\n",
    "USDT_ADDR =\"0xdac17f958d2ee523a2206206994597c13d831ec7\"\n",
    "USDC_ADDR=\"0xa0b86991c6218b36c1d19d4a2e9eb0ce3606eb48\" \n",
    "# WALLET = Binance 18\n",
    "RANDOM_WALLET=\"0xf70da97812CB96acDF810712Aa562db8dfA3dbEF\" \n",
    "# block \n",
    "BLOCKS=\"21922375\"\n"
   ]
  },
  {
   "cell_type": "code",
   "execution_count": 93,
   "id": "6d60d6ec-1e9e-4cf8-addc-203c1b2b0017",
   "metadata": {},
   "outputs": [],
   "source": [
    "usdc_balance = cryo.collect('erc20_balances', blocks=[BLOCKS], contract=['0xa0b86991c6218b36c1d19d4a2e9eb0ce3606eb48'], address=['0xf70da97812CB96acDF810712Aa562db8dfA3dbEF'], rpc='https://eth.merkle.io')"
   ]
  },
  {
   "cell_type": "code",
   "execution_count": 94,
   "id": "04dd2dd8-7c6c-4de3-ab99-a6763beaf9ce",
   "metadata": {},
   "outputs": [
    {
     "data": {
      "text/html": [
       "<div><style>\n",
       ".dataframe > thead > tr,\n",
       ".dataframe > tbody > tr {\n",
       "  text-align: right;\n",
       "  white-space: pre-wrap;\n",
       "}\n",
       "</style>\n",
       "<small>shape: (1, 7)</small><table border=\"1\" class=\"dataframe\"><thead><tr><th>block_number</th><th>erc20</th><th>address</th><th>balance_binary</th><th>balance_string</th><th>balance_f64</th><th>chain_id</th></tr><tr><td>u32</td><td>binary</td><td>binary</td><td>binary</td><td>str</td><td>f64</td><td>u64</td></tr></thead><tbody><tr><td>21945504</td><td>b&quot;\\xa0\\xb8i\\x91\\xc6!\\x8b6\\xc1\\xd1\\x9dJ.\\x9e\\xb0\\xce6\\x06\\xebH&quot;</td><td>b&quot;\\xf7\\x0d\\xa9x\\x12\\xcb\\x96\\xac\\xdf\\x81\\x07\\x12\\xaaV-\\xb8\\xdf\\xa3\\xdb\\xef&quot;</td><td>b&quot;\\x00\\x00\\x00\\x00\\x00\\x00\\x00\\x00\\x00\\x00\\x00\\x00\\x00\\x00\\x00\\x00\\x00\\x00\\x00\\x00\\x00\\x00\\x00\\x00\\x00\\x00\\x00:\\x86\\xfa\\xc9\\x8d&quot;</td><td>&quot;251372685709&quot;</td><td>2.5137e11</td><td>1</td></tr></tbody></table></div>"
      ],
      "text/plain": [
       "shape: (1, 7)\n",
       "┌──────────────┬──────────────┬──────────────┬──────────────┬─────────────┬─────────────┬──────────┐\n",
       "│ block_number ┆ erc20        ┆ address      ┆ balance_bina ┆ balance_str ┆ balance_f64 ┆ chain_id │\n",
       "│ ---          ┆ ---          ┆ ---          ┆ ry           ┆ ing         ┆ ---         ┆ ---      │\n",
       "│ u32          ┆ binary       ┆ binary       ┆ ---          ┆ ---         ┆ f64         ┆ u64      │\n",
       "│              ┆              ┆              ┆ binary       ┆ str         ┆             ┆          │\n",
       "╞══════════════╪══════════════╪══════════════╪══════════════╪═════════════╪═════════════╪══════════╡\n",
       "│ 21945504     ┆ b\"\\xa0\\xb8i\\ ┆ b\"\\xf7\\x0d\\x ┆ b\"\\x00\\x00\\x ┆ 25137268570 ┆ 2.5137e11   ┆ 1        │\n",
       "│              ┆ x91\\xc6!\\x8b ┆ a9x\\x12\\xcb\\ ┆ 00\\x00\\x00\\x ┆ 9           ┆             ┆          │\n",
       "│              ┆ 6\\xc1\\…      ┆ x96\\xa…      ┆ 00\\x00…      ┆             ┆             ┆          │\n",
       "└──────────────┴──────────────┴──────────────┴──────────────┴─────────────┴─────────────┴──────────┘"
      ]
     },
     "execution_count": 94,
     "metadata": {},
     "output_type": "execute_result"
    }
   ],
   "source": [
    "usdc_balance"
   ]
  },
  {
   "cell_type": "code",
   "execution_count": 95,
   "id": "e858e41a-d3ba-4f8f-b388-92af3a6f1844",
   "metadata": {},
   "outputs": [],
   "source": [
    "output_addr=usdc_balance['erc20'][0]"
   ]
  },
  {
   "cell_type": "code",
   "execution_count": 96,
   "id": "501c6e3e-9193-4bf3-95fa-86a9b63db82a",
   "metadata": {},
   "outputs": [
    {
     "data": {
      "text/plain": [
       "'a0b86991c6218b36c1d19d4a2e9eb0ce3606eb48'"
      ]
     },
     "execution_count": 96,
     "metadata": {},
     "output_type": "execute_result"
    }
   ],
   "source": [
    "output_addr.hex()"
   ]
  },
  {
   "cell_type": "code",
   "execution_count": 97,
   "id": "3b93fb52-1a8c-4204-b85f-7f34edac77db",
   "metadata": {},
   "outputs": [
    {
     "data": {
      "text/plain": [
       "'f70da97812cb96acdf810712aa562db8dfa3dbef'"
      ]
     },
     "execution_count": 97,
     "metadata": {},
     "output_type": "execute_result"
    }
   ],
   "source": [
    "usdc_balance['address'][0].hex()"
   ]
  },
  {
   "cell_type": "code",
   "execution_count": 98,
   "id": "f63c87bf-b93b-47b5-8c0b-011346d6dab7",
   "metadata": {},
   "outputs": [
    {
     "data": {
      "text/plain": [
       "b'\\x00\\x00\\x00\\x00\\x00\\x00\\x00\\x00\\x00\\x00\\x00\\x00\\x00\\x00\\x00\\x00\\x00\\x00\\x00\\x00\\x00\\x00\\x00\\x00\\x00\\x00\\x00:\\x86\\xfa\\xc9\\x8d'"
      ]
     },
     "execution_count": 98,
     "metadata": {},
     "output_type": "execute_result"
    }
   ],
   "source": [
    "usdc_balance['balance_binary'][0]"
   ]
  },
  {
   "cell_type": "code",
   "execution_count": 99,
   "id": "94359eba-9544-464e-8664-1005a3036d05",
   "metadata": {},
   "outputs": [],
   "source": [
    "balance= usdc_balance['balance_binary'][0]"
   ]
  },
  {
   "cell_type": "code",
   "execution_count": 101,
   "id": "209fd1fe-2c89-4adc-9407-bdf712a9d939",
   "metadata": {},
   "outputs": [
    {
     "data": {
      "text/plain": [
       "251372685709"
      ]
     },
     "execution_count": 101,
     "metadata": {},
     "output_type": "execute_result"
    }
   ],
   "source": [
    "int((balance).hex(),16)"
   ]
  },
  {
   "cell_type": "code",
   "execution_count": 102,
   "id": "28f603db-ed75-4e1e-a312-1cf153eb953c",
   "metadata": {},
   "outputs": [
    {
     "data": {
      "text/plain": [
       "'251372685709'"
      ]
     },
     "execution_count": 102,
     "metadata": {},
     "output_type": "execute_result"
    }
   ],
   "source": [
    "usdc_balance['balance_string'][0]"
   ]
  },
  {
   "cell_type": "code",
   "execution_count": 103,
   "id": "f487558e-2b55-403f-b07b-30df50ec9274",
   "metadata": {},
   "outputs": [],
   "source": [
    "balance_raw = decode(['uint256'], usdc_balance['balance_binary'][0])"
   ]
  },
  {
   "cell_type": "code",
   "execution_count": 104,
   "id": "cc72c6d6-8b18-48d6-ae56-9f10642b347c",
   "metadata": {},
   "outputs": [
    {
     "data": {
      "text/plain": [
       "(251372685709,)"
      ]
     },
     "execution_count": 104,
     "metadata": {},
     "output_type": "execute_result"
    }
   ],
   "source": [
    "balance_raw"
   ]
  },
  {
   "cell_type": "code",
   "execution_count": 105,
   "id": "88719c24-f313-46d6-8a79-c74ea19ad75c",
   "metadata": {},
   "outputs": [
    {
     "data": {
      "text/plain": [
       "251372.685709"
      ]
     },
     "execution_count": 105,
     "metadata": {},
     "output_type": "execute_result"
    }
   ],
   "source": [
    " balance_raw[0] / 10**6"
   ]
  },
  {
   "cell_type": "code",
   "execution_count": 106,
   "id": "32b2ff22-4dfb-412e-af06-993572de0efe",
   "metadata": {},
   "outputs": [],
   "source": [
    "# BLOCKS=\"21922375\" >> usdc 472,885.333888"
   ]
  },
  {
   "cell_type": "markdown",
   "id": "096969bf-58fb-4d7d-8088-f1c601d4e09c",
   "metadata": {},
   "source": [
    "## Aave Pools Data"
   ]
  },
  {
   "cell_type": "code",
   "execution_count": 107,
   "id": "03383f7f-88be-4453-844d-d1444592e85c",
   "metadata": {},
   "outputs": [],
   "source": [
    "#  AAVE\n",
    "# https://etherscan.io/address/0x87870bca3f3fd6335c3f4ce8392d69350b4fa4e2#readProxyContract"
   ]
  },
  {
   "cell_type": "code",
   "execution_count": 108,
   "id": "d14a9afb-803a-43d4-8eea-9634df0308b3",
   "metadata": {},
   "outputs": [],
   "source": [
    "AAVE_V3 ='0x87870Bca3F3fD6335C3F4ce8392D69350B4fA4E2' \n",
    "WETH_ADDR= '0xC02aaA39b223FE8D0A0e5C4F27eAD9083C756Cc2'"
   ]
  },
  {
   "cell_type": "code",
   "execution_count": null,
   "id": "6615c0fb-d8c3-4f57-a74a-809c2a3f1c8c",
   "metadata": {},
   "outputs": [],
   "source": [
    "MULTICALL3_ADDRESS = '0xcA11bde05977b3631167028862bE2a173976CA11'\n",
    "MULTICALL3_ABI=json.loads('[{\"inputs\":[{\"internalType\":\"bool\",\"name\":\"requireSuccess\",\"type\":\"bool\"},{\"components\":[{\"internalType\":\"address\",\"name\":\"target\",\"type\":\"address\"},{\"internalType\":\"bytes\",\"name\":\"callData\",\"type\":\"bytes\"}],\"internalType\":\"struct Multicall3.Call[]\",\"name\":\"calls\",\"type\":\"tuple[]\"}],\"name\":\"tryAggregate\",\"outputs\":[{\"components\":[{\"internalType\":\"bool\",\"name\":\"success\",\"type\":\"bool\"},{\"internalType\":\"bytes\",\"name\":\"returnData\",\"type\":\"bytes\"}],\"internalType\":\"struct Multicall3.Result[]\",\"name\":\"returnData\",\"type\":\"tuple[]\"}],\"stateMutability\":\"payable\",\"type\":\"function\"}]')\n",
    "\n",
    "UNIV2_ETH_USDC= '0xB4e16d0168e52d35CaCD2c6185b44281Ec28C9Dc'\n",
    "UNIV3_WBTC_ETH = '0xCBCdF9626bC03E24f779434178A73a0B4bad62eD'"
   ]
  },
  {
   "cell_type": "code",
   "execution_count": 111,
   "id": "fb81327b-d14f-4b93-81ef-5fa4e04858c2",
   "metadata": {},
   "outputs": [],
   "source": [
    "AAVE_POOL_PROVIDER_ADDRESS = \"0x2f39d218133AFaB8F2B819B1066c7E434Ad94E9e\"\n",
    "AAVE_POOL_DATA_PROVIDER = \"0x7B4EB56E7CD4b454BA8ff71E4518426369a138a3\"\n",
    "RATE_STRATEGY_V2= \"0x9ec6F08190DeA04A54f8Afc53Db96134e5E3FdFB\"\n",
    "DAI_ADDRESS = \"0x6b175474e89094c44da98b954eedeac495271d0f\"  # DAI on Ethereum Mainnet"
   ]
  },
  {
   "cell_type": "code",
   "execution_count": 181,
   "id": "aa267162-c4c5-467c-bc2e-396d6146b774",
   "metadata": {},
   "outputs": [],
   "source": [
    "# AAVE_POOL_DATA_PROVIDER_ABI = json.loads('[{\"inputs\":[{\"internalType\":\"address\",\"name\":\"asset\",\"type\":\"address\"}],\"name\":\"getReserveData\",\"outputs\":[{\"internalType\":\"uint256\",\"name\":\"unbacked\",\"type\":\"uint256\"},{\"internalType\":\"uint256\",\"name\":\"accruedToTreasuryScaled\",\"type\":\"uint256\"},{\"internalType\":\"uint256\",\"name\":\"totalAToken\",\"type\":\"uint256\"},{\"internalType\":\"uint256\",\"name\":\"totalStableDebt\",\"type\":\"uint256\"},{\"internalType\":\"uint256\",\"name\":\"totalVariableDebt\",\"type\":\"uint256\"},{\"internalType\":\"uint256\",\"name\":\"liquidityRate\",\"type\":\"uint256\"},{\"internalType\":\"uint256\",\"name\":\"variableBorrowRate\",\"type\":\"uint256\"},{\"internalType\":\"uint256\",\"name\":\"stableBorrowRate\",\"type\":\"uint256\"},{\"internalType\":\"uint256\",\"name\":\"averageStableBorrowRate\",\"type\":\"uint256\"},{\"internalType\":\"uint256\",\"name\":\"liquidityIndex\",\"type\":\"uint256\"},{\"internalType\":\"uint256\",\"name\":\"variableBorrowIndex\",\"type\":\"uint256\"},{\"internalType\":\"uint40\",\"name\":\"lastUpdateTimestamp\",\"type\":\"uint40\"}],\"stateMutability\":\"view\",\"type\":\"function\"},{\"inputs\":[{\"internalType\":\"address\",\"name\":\"asset\",\"type\":\"address\"}],\"name\":\"getReserveTokensAddresses\",\"outputs\":[{\"internalType\":\"address\",\"name\":\"aTokenAddress\",\"type\":\"address\"},{\"internalType\":\"address\",\"name\":\"stableDebtTokenAddress\",\"type\":\"address\"},{\"internalType\":\"address\",\"name\":\"variableDebtTokenAddress\",\"type\":\"address\"}],\"stateMutability\":\"view\",\"type\":\"function\"},{\"inputs\":[],\"name\":\"getAllReservesTokens\",\"outputs\":[{\"components\":[{\"internalType\":\"string\",\"name\":\"symbol\",\"type\":\"string\"},{\"internalType\":\"address\",\"name\":\"tokenAddress\",\"type\":\"address\"}],\"internalType\":\"struct IPoolDataProvider.TokenData[]\",\"name\":\"\",\"type\":\"tuple[]\"}],\"stateMutability\":\"view\",\"type\":\"function\"}]')\n"
   ]
  },
  {
   "cell_type": "code",
   "execution_count": 116,
   "id": "46b7c887-af26-43eb-9a35-361f87be8f44",
   "metadata": {},
   "outputs": [],
   "source": [
    "# Funct Sig\n",
    "getAllReservesTokens_4b='b316ff89'\n",
    "getReserveData_4b='35ea6a75'\n",
    "getReserveTokensAddresses_4b='d2493b6c'"
   ]
  },
  {
   "cell_type": "code",
   "execution_count": 165,
   "id": "e04b74c1-f890-4d46-8e88-e5bbfcc4a52a",
   "metadata": {},
   "outputs": [],
   "source": [
    "# getReserveData(address) method Response ]\n",
    "#   unbacked   uint256 :  0\n",
    "#   accruedToTreasuryScaled   uint256 :  23618787780361774928\n",
    "#   totalAToken   uint256 :  2039801843604753838311618\n",
    "#   totalStableDebt   uint256 :  0\n",
    "#   totalVariableDebt   uint256 :  1764755511852628454833269\n",
    "#   liquidityRate   uint256 :  19086348066645041248157072\n",
    "#   variableBorrowRate   uint256 :  25954495065727705440586566\n",
    "#   stableBorrowRate   uint256 :  0\n",
    "#   averageStableBorrowRate   uint256 :  0\n",
    "#   liquidityIndex   uint256 :  1040724217363078276332975414\n",
    "#   variableBorrowIndex   uint256 :  1064692592486700566822429320\n",
    "#   lastUpdateTimestamp   uint40 :  1740762059\n",
    "\n",
    "output_types = ['int256', 'uint256', 'uint256', 'uint256', 'uint256', 'uint256', 'uint256', 'uint256', 'uint256', 'uint256', 'uint256', 'uint40']"
   ]
  },
  {
   "cell_type": "code",
   "execution_count": 121,
   "id": "b25d61dd-efd0-462e-90ce-9b0af8a01ce2",
   "metadata": {},
   "outputs": [],
   "source": [
    "# web3 instance, function from web3py\n",
    "w3 = web3.Web3()\n",
    "m3 = w3.eth.contract(address = AAVE_POOL_DATA_PROVIDER, abi=AAVE_POOL_DATA_PROVIDER_ABI)"
   ]
  },
  {
   "cell_type": "code",
   "execution_count": 179,
   "id": "28f35bda-89cc-403a-8b36-98edaf505953",
   "metadata": {},
   "outputs": [],
   "source": [
    "addresses = [\n",
    "    ['0x6B175474E89094C44Da98b954EedeAC495271d0F'],  # DAI\n",
    "    ['0xC02aaA39b223FE8D0A0e5C4F27eAD9083C756Cc2'],  # WETH\n",
    "    ['0xA0b86991c6218b36c1d19D4a2e9Eb0cE3606eB48']   # USDC\n",
    "]\n"
   ]
  },
  {
   "cell_type": "code",
   "execution_count": null,
   "id": "ba379366-9f91-456b-b888-f3e10492ecd2",
   "metadata": {},
   "outputs": [],
   "source": []
  },
  {
   "cell_type": "code",
   "execution_count": 180,
   "id": "de403579-952e-4b4b-826a-b139c06a2905",
   "metadata": {},
   "outputs": [
    {
     "ename": "MismatchedABI",
     "evalue": "\nABI Not Found!\nFound 1 element(s) named `getReserveData` that accept 1 argument(s).\nThe provided arguments are not valid.\nProvided argument types: ((address),(address),(address))\nProvided keyword argument types: {}\n\nTried to find a matching ABI element named `getReserveData`, but encountered the following problems:\nSignature: getReserveData(address), type: function\nArgument 1 value `[['0x6B175474E89094C44Da98b954EedeAC495271d0F'], ['0xC02aaA39b223FE8D0A0e5C4F27eAD9083C756Cc2'], ['0xA0b86991c6218b36c1d19D4a2e9Eb0cE3606eB48']]` is not compatible with type `address`.\n",
     "output_type": "error",
     "traceback": [
      "\u001b[0;31m---------------------------------------------------------------------------\u001b[0m",
      "\u001b[0;31mMismatchedABI\u001b[0m                             Traceback (most recent call last)",
      "Cell \u001b[0;32mIn[180], line 1\u001b[0m\n\u001b[0;32m----> 1\u001b[0m calldata \u001b[38;5;241m=\u001b[39m \u001b[43mm3\u001b[49m\u001b[38;5;241;43m.\u001b[39;49m\u001b[43mencode_abi\u001b[49m\u001b[43m(\u001b[49m\u001b[38;5;124;43m\"\u001b[39;49m\u001b[38;5;124;43mgetReserveData\u001b[39;49m\u001b[38;5;124;43m\"\u001b[39;49m\u001b[43m,\u001b[49m\u001b[43m \u001b[49m\u001b[43margs\u001b[49m\u001b[38;5;241;43m=\u001b[39;49m\u001b[43m[\u001b[49m\u001b[43maddresses\u001b[49m\u001b[43m]\u001b[49m\u001b[43m)\u001b[49m\n",
      "File \u001b[0;32m~/cryo_evm/evm_data_queries_cryo/.venv/lib/python3.12/site-packages/eth_utils/decorators.py:29\u001b[0m, in \u001b[0;36mcombomethod.__get__.<locals>._wrapper\u001b[0;34m(*args, **kwargs)\u001b[0m\n\u001b[1;32m     26\u001b[0m \u001b[38;5;129m@functools\u001b[39m\u001b[38;5;241m.\u001b[39mwraps(\u001b[38;5;28mself\u001b[39m\u001b[38;5;241m.\u001b[39mmethod)\n\u001b[1;32m     27\u001b[0m \u001b[38;5;28;01mdef\u001b[39;00m\u001b[38;5;250m \u001b[39m\u001b[38;5;21m_wrapper\u001b[39m(\u001b[38;5;241m*\u001b[39margs: Any, \u001b[38;5;241m*\u001b[39m\u001b[38;5;241m*\u001b[39mkwargs: Any) \u001b[38;5;241m-\u001b[39m\u001b[38;5;241m>\u001b[39m Any:\n\u001b[1;32m     28\u001b[0m     \u001b[38;5;28;01mif\u001b[39;00m obj \u001b[38;5;129;01mis\u001b[39;00m \u001b[38;5;129;01mnot\u001b[39;00m \u001b[38;5;28;01mNone\u001b[39;00m:\n\u001b[0;32m---> 29\u001b[0m         \u001b[38;5;28;01mreturn\u001b[39;00m \u001b[38;5;28;43mself\u001b[39;49m\u001b[38;5;241;43m.\u001b[39;49m\u001b[43mmethod\u001b[49m\u001b[43m(\u001b[49m\u001b[43mobj\u001b[49m\u001b[43m,\u001b[49m\u001b[43m \u001b[49m\u001b[38;5;241;43m*\u001b[39;49m\u001b[43margs\u001b[49m\u001b[43m,\u001b[49m\u001b[43m \u001b[49m\u001b[38;5;241;43m*\u001b[39;49m\u001b[38;5;241;43m*\u001b[39;49m\u001b[43mkwargs\u001b[49m\u001b[43m)\u001b[49m\n\u001b[1;32m     30\u001b[0m     \u001b[38;5;28;01melse\u001b[39;00m:\n\u001b[1;32m     31\u001b[0m         \u001b[38;5;28;01mreturn\u001b[39;00m \u001b[38;5;28mself\u001b[39m\u001b[38;5;241m.\u001b[39mmethod(objtype, \u001b[38;5;241m*\u001b[39margs, \u001b[38;5;241m*\u001b[39m\u001b[38;5;241m*\u001b[39mkwargs)\n",
      "File \u001b[0;32m~/cryo_evm/evm_data_queries_cryo/.venv/lib/python3.12/site-packages/web3/contract/base_contract.py:1047\u001b[0m, in \u001b[0;36mBaseContract.encode_abi\u001b[0;34m(cls, abi_element_identifier, args, kwargs, data)\u001b[0m\n\u001b[1;32m   1044\u001b[0m args \u001b[38;5;241m=\u001b[39m args \u001b[38;5;129;01mor\u001b[39;00m \u001b[38;5;28mtuple\u001b[39m()\n\u001b[1;32m   1045\u001b[0m kwargs \u001b[38;5;241m=\u001b[39m kwargs \u001b[38;5;129;01mor\u001b[39;00m {}\n\u001b[0;32m-> 1047\u001b[0m element_info \u001b[38;5;241m=\u001b[39m \u001b[43mget_abi_element_info\u001b[49m\u001b[43m(\u001b[49m\n\u001b[1;32m   1048\u001b[0m \u001b[43m    \u001b[49m\u001b[38;5;28;43mcls\u001b[39;49m\u001b[38;5;241;43m.\u001b[39;49m\u001b[43mabi\u001b[49m\u001b[43m,\u001b[49m\n\u001b[1;32m   1049\u001b[0m \u001b[43m    \u001b[49m\u001b[43mabi_element_identifier\u001b[49m\u001b[43m,\u001b[49m\n\u001b[1;32m   1050\u001b[0m \u001b[43m    \u001b[49m\u001b[38;5;241;43m*\u001b[39;49m\u001b[43margs\u001b[49m\u001b[43m,\u001b[49m\n\u001b[1;32m   1051\u001b[0m \u001b[43m    \u001b[49m\u001b[43mabi_codec\u001b[49m\u001b[38;5;241;43m=\u001b[39;49m\u001b[38;5;28;43mcls\u001b[39;49m\u001b[38;5;241;43m.\u001b[39;49m\u001b[43mw3\u001b[49m\u001b[38;5;241;43m.\u001b[39;49m\u001b[43mcodec\u001b[49m\u001b[43m,\u001b[49m\n\u001b[1;32m   1052\u001b[0m \u001b[43m    \u001b[49m\u001b[38;5;241;43m*\u001b[39;49m\u001b[38;5;241;43m*\u001b[39;49m\u001b[43mkwargs\u001b[49m\u001b[43m,\u001b[49m\n\u001b[1;32m   1053\u001b[0m \u001b[43m\u001b[49m\u001b[43m)\u001b[49m\n\u001b[1;32m   1055\u001b[0m \u001b[38;5;28;01mif\u001b[39;00m data \u001b[38;5;129;01mis\u001b[39;00m \u001b[38;5;28;01mNone\u001b[39;00m:\n\u001b[1;32m   1056\u001b[0m     data \u001b[38;5;241m=\u001b[39m element_info[\u001b[38;5;124m\"\u001b[39m\u001b[38;5;124mselector\u001b[39m\u001b[38;5;124m\"\u001b[39m]\n",
      "File \u001b[0;32m~/cryo_evm/evm_data_queries_cryo/.venv/lib/python3.12/site-packages/web3/utils/abi.py:509\u001b[0m, in \u001b[0;36mget_abi_element_info\u001b[0;34m(abi, abi_element_identifier, abi_codec, *args, **kwargs)\u001b[0m\n\u001b[1;32m    454\u001b[0m \u001b[38;5;28;01mdef\u001b[39;00m\u001b[38;5;250m \u001b[39m\u001b[38;5;21mget_abi_element_info\u001b[39m(\n\u001b[1;32m    455\u001b[0m     abi: ABI,\n\u001b[1;32m    456\u001b[0m     abi_element_identifier: ABIElementIdentifier,\n\u001b[0;32m   (...)\u001b[0m\n\u001b[1;32m    459\u001b[0m     \u001b[38;5;241m*\u001b[39m\u001b[38;5;241m*\u001b[39mkwargs: Optional[Dict[\u001b[38;5;28mstr\u001b[39m, Any]],\n\u001b[1;32m    460\u001b[0m ) \u001b[38;5;241m-\u001b[39m\u001b[38;5;241m>\u001b[39m ABIElementInfo:\n\u001b[1;32m    461\u001b[0m \u001b[38;5;250m    \u001b[39m\u001b[38;5;124;03m\"\"\"\u001b[39;00m\n\u001b[1;32m    462\u001b[0m \u001b[38;5;124;03m    Information about the function ABI, selector and input arguments.\u001b[39;00m\n\u001b[1;32m    463\u001b[0m \n\u001b[0;32m   (...)\u001b[0m\n\u001b[1;32m    507\u001b[0m \u001b[38;5;124;03m        (7, 3)\u001b[39;00m\n\u001b[1;32m    508\u001b[0m \u001b[38;5;124;03m    \"\"\"\u001b[39;00m\n\u001b[0;32m--> 509\u001b[0m     fn_abi \u001b[38;5;241m=\u001b[39m \u001b[43mget_abi_element\u001b[49m\u001b[43m(\u001b[49m\n\u001b[1;32m    510\u001b[0m \u001b[43m        \u001b[49m\u001b[43mabi\u001b[49m\u001b[43m,\u001b[49m\u001b[43m \u001b[49m\u001b[43mabi_element_identifier\u001b[49m\u001b[43m,\u001b[49m\u001b[43m \u001b[49m\u001b[38;5;241;43m*\u001b[39;49m\u001b[43margs\u001b[49m\u001b[43m,\u001b[49m\u001b[43m \u001b[49m\u001b[43mabi_codec\u001b[49m\u001b[38;5;241;43m=\u001b[39;49m\u001b[43mabi_codec\u001b[49m\u001b[43m,\u001b[49m\u001b[43m \u001b[49m\u001b[38;5;241;43m*\u001b[39;49m\u001b[38;5;241;43m*\u001b[39;49m\u001b[43mkwargs\u001b[49m\n\u001b[1;32m    511\u001b[0m \u001b[43m    \u001b[49m\u001b[43m)\u001b[49m\n\u001b[1;32m    512\u001b[0m     fn_selector \u001b[38;5;241m=\u001b[39m encode_hex(function_abi_to_4byte_selector(fn_abi))\n\u001b[1;32m    513\u001b[0m     fn_inputs: Tuple[Any, \u001b[38;5;241m.\u001b[39m\u001b[38;5;241m.\u001b[39m\u001b[38;5;241m.\u001b[39m] \u001b[38;5;241m=\u001b[39m \u001b[38;5;28mtuple\u001b[39m()\n",
      "File \u001b[0;32m~/cryo_evm/evm_data_queries_cryo/.venv/lib/python3.12/site-packages/web3/utils/abi.py:617\u001b[0m, in \u001b[0;36mget_abi_element\u001b[0;34m(abi, abi_element_identifier, abi_codec, *args, **kwargs)\u001b[0m\n\u001b[1;32m    606\u001b[0m \u001b[38;5;28;01mif\u001b[39;00m num_matches \u001b[38;5;241m!=\u001b[39m \u001b[38;5;241m1\u001b[39m:\n\u001b[1;32m    607\u001b[0m     error_diagnosis \u001b[38;5;241m=\u001b[39m _mismatched_abi_error_diagnosis(\n\u001b[1;32m    608\u001b[0m         abi_element_identifier,\n\u001b[1;32m    609\u001b[0m         abi,\n\u001b[0;32m   (...)\u001b[0m\n\u001b[1;32m    614\u001b[0m         \u001b[38;5;241m*\u001b[39m\u001b[38;5;241m*\u001b[39mkwargs,\n\u001b[1;32m    615\u001b[0m     )\n\u001b[0;32m--> 617\u001b[0m     \u001b[38;5;28;01mraise\u001b[39;00m MismatchedABI(error_diagnosis)\n\u001b[1;32m    619\u001b[0m \u001b[38;5;28;01mreturn\u001b[39;00m abi_element_matches[\u001b[38;5;241m0\u001b[39m]\n",
      "\u001b[0;31mMismatchedABI\u001b[0m: \nABI Not Found!\nFound 1 element(s) named `getReserveData` that accept 1 argument(s).\nThe provided arguments are not valid.\nProvided argument types: ((address),(address),(address))\nProvided keyword argument types: {}\n\nTried to find a matching ABI element named `getReserveData`, but encountered the following problems:\nSignature: getReserveData(address), type: function\nArgument 1 value `[['0x6B175474E89094C44Da98b954EedeAC495271d0F'], ['0xC02aaA39b223FE8D0A0e5C4F27eAD9083C756Cc2'], ['0xA0b86991c6218b36c1d19D4a2e9Eb0cE3606eB48']]` is not compatible with type `address`.\n"
     ]
    }
   ],
   "source": [
    "calldata = m3.encode_abi(\"getReserveData\", args=[addresses])"
   ]
  },
  {
   "cell_type": "code",
   "execution_count": 128,
   "id": "9b6cef00-306f-46f5-b7ed-aa72544991ac",
   "metadata": {},
   "outputs": [
    {
     "data": {
      "text/plain": [
       "'0x35ea6a75000000000000000000000000c02aaa39b223fe8d0a0e5c4f27ead9083c756cc2'"
      ]
     },
     "execution_count": 128,
     "metadata": {},
     "output_type": "execute_result"
    }
   ],
   "source": []
  },
  {
   "cell_type": "code",
   "execution_count": 129,
   "id": "6f6b788d-08ea-490a-8c14-ace474d0e13f",
   "metadata": {},
   "outputs": [],
   "source": [
    "cryo_kwargs = {\n",
    "    'rpc': 'https://eth.merkle.io',\n",
    "    'blocks': ['latest'], \n",
    "}\n",
    "            \n",
    "eth_call_df = cryo.collect(\n",
    "    'eth_calls',\n",
    "    to_address = [AAVE_POOL_DATA_PROVIDER],\n",
    "    call_data=[calldata],\n",
    "     output_format=\"polars\",\n",
    "    **cryo_kwargs,\n",
    ")"
   ]
  },
  {
   "cell_type": "code",
   "execution_count": 130,
   "id": "20319f5e-5b01-436a-8091-f32063aeebb7",
   "metadata": {},
   "outputs": [
    {
     "data": {
      "text/html": [
       "<div><style>\n",
       ".dataframe > thead > tr,\n",
       ".dataframe > tbody > tr {\n",
       "  text-align: right;\n",
       "  white-space: pre-wrap;\n",
       "}\n",
       "</style>\n",
       "<small>shape: (1, 5)</small><table border=\"1\" class=\"dataframe\"><thead><tr><th>block_number</th><th>contract_address</th><th>call_data</th><th>output_data</th><th>chain_id</th></tr><tr><td>u32</td><td>binary</td><td>binary</td><td>binary</td><td>u64</td></tr></thead><tbody><tr><td>21946569</td><td>b&quot;{N\\xb5n|\\xd4\\xb4T\\xba\\x8f\\xf7\\x1eE\\x18Bci\\xa18\\xa3&quot;</td><td>b&quot;5\\xeaju\\x00\\x00\\x00\\x00\\x00\\x00\\x00\\x00\\x00\\x00\\x00\\x00\\xc0*\\xaa9\\xb2#\\xfe\\x8d\\x0a\\x0e\\O&#x27;\\xea\\xd9\\x08&lt;ul\\xc2&quot;</td><td>b&quot;\\x00\\x00\\x00\\x00\\x00\\x00\\x00\\x00\\x00\\x00\\x00\\x00\\x00\\x00\\x00\\x00\\x00\\x00\\x00\\x00\\x00\\x00\\x00\\x00\\x00\\x00\\x00\\x00\\x00\\x00\\x00\\x00\\x00\\x00\\x00\\x00\\x00\\x00\\x00\\x00\\x00\\x00\\x00\\x00\\x00\\x00\\x00\\x00\\x00\\x00\\x00\\x00\\x00\\x00\\x00\\x01T\\x8d\\xe6Q&quot;…</td><td>1</td></tr></tbody></table></div>"
      ],
      "text/plain": [
       "shape: (1, 5)\n",
       "┌──────────────┬────────────────────────┬───────────────────────┬───────────────────────┬──────────┐\n",
       "│ block_number ┆ contract_address       ┆ call_data             ┆ output_data           ┆ chain_id │\n",
       "│ ---          ┆ ---                    ┆ ---                   ┆ ---                   ┆ ---      │\n",
       "│ u32          ┆ binary                 ┆ binary                ┆ binary                ┆ u64      │\n",
       "╞══════════════╪════════════════════════╪═══════════════════════╪═══════════════════════╪══════════╡\n",
       "│ 21946569     ┆ b\"{N\\xb5n|\\xd4\\xb4T\\xb ┆ b\"5\\xeaju\\x00\\x00\\x00 ┆ b\"\\x00\\x00\\x00\\x00\\x0 ┆ 1        │\n",
       "│              ┆ a\\x8f\\xf…              ┆ \\x00\\x00\\…            ┆ 0\\x00\\x00…            ┆          │\n",
       "└──────────────┴────────────────────────┴───────────────────────┴───────────────────────┴──────────┘"
      ]
     },
     "execution_count": 130,
     "metadata": {},
     "output_type": "execute_result"
    }
   ],
   "source": [
    "eth_call_df"
   ]
  },
  {
   "cell_type": "code",
   "execution_count": 161,
   "id": "b6c6e3f9-70d4-495e-8224-dda4c8d043cf",
   "metadata": {},
   "outputs": [
    {
     "data": {
      "text/plain": [
       "b'\\x00\\x00\\x00\\x00\\x00\\x00\\x00\\x00\\x00\\x00\\x00\\x00\\x00\\x00\\x00\\x00\\x00\\x00\\x00\\x00\\x00\\x00\\x00\\x00\\x00\\x00\\x00\\x00\\x00\\x00\\x00\\x00\\x00\\x00\\x00\\x00\\x00\\x00\\x00\\x00\\x00\\x00\\x00\\x00\\x00\\x00\\x00\\x00\\x00\\x00\\x00\\x00\\x00\\x00\\x00\\x01T\\x8d\\xe6Qo\\xb1\\x82\\x12\\x00\\x00\\x00\\x00\\x00\\x00\\x00\\x00\\x00\\x00\\x00\\x00\\x00\\x00\\x00\\x00\\x00\\x00\\x00\\x00\\x00\\x01\\xb3\\x1a\\xcdX\\xbd\\xbd\\xb9\\x1e\\xf3w\\x00\\x00\\x00\\x00\\x00\\x00\\x00\\x00\\x00\\x00\\x00\\x00\\x00\\x00\\x00\\x00\\x00\\x00\\x00\\x00\\x00\\x00\\x00\\x00\\x00\\x00\\x00\\x00\\x00\\x00\\x00\\x00\\x00\\x00\\x00\\x00\\x00\\x00\\x00\\x00\\x00\\x00\\x00\\x00\\x00\\x00\\x00\\x00\\x00\\x00\\x00\\x00\\x00\\x01u\\xb6FDJ/\\x05R\\xa1\\n\\x00\\x00\\x00\\x00\\x00\\x00\\x00\\x00\\x00\\x00\\x00\\x00\\x00\\x00\\x00\\x00\\x00\\x00\\x00\\x00\\x00\\x0f\\x8fk\\xe7\\xe7:p\\xf6E\\xb1>\\x00\\x00\\x00\\x00\\x00\\x00\\x00\\x00\\x00\\x00\\x00\\x00\\x00\\x00\\x00\\x00\\x00\\x00\\x00\\x00\\x00\\x15PP\\xb2~\\x18}\\xd7\\x0c\\xab\\x9f\\x00\\x00\\x00\\x00\\x00\\x00\\x00\\x00\\x00\\x00\\x00\\x00\\x00\\x00\\x00\\x00\\x00\\x00\\x00\\x00\\x00\\x00\\x00\\x00\\x00\\x00\\x00\\x00\\x00\\x00\\x00\\x00\\x00\\x00\\x00\\x00\\x00\\x00\\x00\\x00\\x00\\x00\\x00\\x00\\x00\\x00\\x00\\x00\\x00\\x00\\x00\\x00\\x00\\x00\\x00\\x00\\x00\\x00\\x00\\x00\\x00\\x00\\x00\\x00\\x00\\x00\\x00\\x00\\x00\\x00\\x00\\x00\\x00\\x00\\x00\\x00\\x00\\x00\\x00\\x00\\x00\\x00\\x00\\x00\\x03\\\\\\xde\\x83}DwF\\x95\\xf3c\\x94\\x00\\x00\\x00\\x00\\x00\\x00\\x00\\x00\\x00\\x00\\x00\\x00\\x00\\x00\\x00\\x00\\x00\\x00\\x00\\x00\\x03p\\xb2>\\x03|Dw\\x8b\\xdc:\\xce\\x00\\x00\\x00\\x00\\x00\\x00\\x00\\x00\\x00\\x00\\x00\\x00\\x00\\x00\\x00\\x00\\x00\\x00\\x00\\x00\\x00\\x00\\x00\\x00\\x00\\x00\\x00\\x00g\\xc1\\xfd\\x17'"
      ]
     },
     "execution_count": 161,
     "metadata": {},
     "output_type": "execute_result"
    }
   ],
   "source": [
    "eth_call_df['output_data'][0]"
   ]
  },
  {
   "cell_type": "code",
   "execution_count": 135,
   "id": "5fb66601-3a0f-4dd7-9e5a-fa2abfaacccc",
   "metadata": {},
   "outputs": [
    {
     "data": {
      "text/plain": [
       "'0000000000000000000000000000000000000000000000000000000000000000000000000000000000000000000000000000000000000001548de6516fb1821200000000000000000000000000000000000000000001b31acd58bdbdb91ef37700000000000000000000000000000000000000000000000000000000000000000000000000000000000000000000000000000000000175b646444a2f0552a10a0000000000000000000000000000000000000000000f8f6be7e73a70f645b13e000000000000000000000000000000000000000000155050b27e187dd70cab9f000000000000000000000000000000000000000000000000000000000000000000000000000000000000000000000000000000000000000000000000000000000000000000000000000000000000000000000000035cde837d44774695f3639400000000000000000000000000000000000000000370b23e037c44778bdc3ace0000000000000000000000000000000000000000000000000000000067c1fd17'"
      ]
     },
     "execution_count": 135,
     "metadata": {},
     "output_type": "execute_result"
    }
   ],
   "source": [
    "(eth_call_df['output_data'][0]).hex()"
   ]
  },
  {
   "cell_type": "code",
   "execution_count": 153,
   "id": "d490369f-c51d-4f61-8769-68111a1c9f3c",
   "metadata": {},
   "outputs": [],
   "source": [
    "calldata = eth_call_df['output_data'][0]"
   ]
  },
  {
   "cell_type": "code",
   "execution_count": 156,
   "id": "26d1bcb6-add5-4a43-acf7-a97af4faaa1d",
   "metadata": {},
   "outputs": [
    {
     "data": {
      "text/plain": [
       "'0000000000000000000000000000000000000000000000000000000000000000000000000000000000000000000000000000000000000001548de6516fb1821200000000000000000000000000000000000000000001b31acd58bdbdb91ef37700000000000000000000000000000000000000000000000000000000000000000000000000000000000000000000000000000000000175b646444a2f0552a10a0000000000000000000000000000000000000000000f8f6be7e73a70f645b13e000000000000000000000000000000000000000000155050b27e187dd70cab9f000000000000000000000000000000000000000000000000000000000000000000000000000000000000000000000000000000000000000000000000000000000000000000000000000000000000000000000000035cde837d44774695f3639400000000000000000000000000000000000000000370b23e037c44778bdc3ace0000000000000000000000000000000000000000000000000000000067c1fd17'"
      ]
     },
     "execution_count": 156,
     "metadata": {},
     "output_type": "execute_result"
    }
   ],
   "source": [
    "calldata.hex()"
   ]
  },
  {
   "cell_type": "code",
   "execution_count": 168,
   "id": "9b874c7a-679e-4e9f-b90f-73d2464ff2b2",
   "metadata": {},
   "outputs": [],
   "source": [
    "decoded_data = decode(output_types , calldata)"
   ]
  },
  {
   "cell_type": "code",
   "execution_count": 169,
   "id": "be6bd17e-cf33-4919-98f0-60096fd153ae",
   "metadata": {},
   "outputs": [
    {
     "data": {
      "text/plain": [
       "(0,\n",
       " 24539523182052344338,\n",
       " 2054723832179410394346359,\n",
       " 0,\n",
       " 1764805068785239687602442,\n",
       " 18811176213274883032199486,\n",
       " 25766720131807195624680351,\n",
       " 0,\n",
       " 0,\n",
       " 1040726995777722505640502164,\n",
       " 1064696446444108000045841102,\n",
       " 1740766487)"
      ]
     },
     "execution_count": 169,
     "metadata": {},
     "output_type": "execute_result"
    }
   ],
   "source": [
    "decoded_data"
   ]
  },
  {
   "cell_type": "code",
   "execution_count": null,
   "id": "14468094-1249-4228-bd12-a1c13812afd4",
   "metadata": {},
   "outputs": [],
   "source": []
  }
 ],
 "metadata": {
  "kernelspec": {
   "display_name": "Python 3 (ipykernel)",
   "language": "python",
   "name": "python3"
  },
  "language_info": {
   "codemirror_mode": {
    "name": "ipython",
    "version": 3
   },
   "file_extension": ".py",
   "mimetype": "text/x-python",
   "name": "python",
   "nbconvert_exporter": "python",
   "pygments_lexer": "ipython3",
   "version": "3.12.8"
  }
 },
 "nbformat": 4,
 "nbformat_minor": 5
}
