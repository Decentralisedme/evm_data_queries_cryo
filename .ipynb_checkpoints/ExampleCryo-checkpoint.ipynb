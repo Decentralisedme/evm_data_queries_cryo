{
 "cells": [
  {
   "cell_type": "code",
   "execution_count": 1,
   "id": "a62d7ba0-e692-431c-9da6-cb1561fe9807",
   "metadata": {},
   "outputs": [],
   "source": [
    "import cryo\n",
    "import polars as pl\n",
    "import binascii\n",
    "import web3\n",
    "import json\n",
    "from eth_abi import decode\n",
    "import seaborn as sns\n",
    "import matplotlib.pyplot as plt\n",
    "from datetime import datetime\n",
    "import pandas as pd"
   ]
  },
  {
   "cell_type": "code",
   "execution_count": 2,
   "id": "36738fd4-25cb-44db-a29e-ab5d8dacb73e",
   "metadata": {},
   "outputs": [],
   "source": [
    "# Functions\n",
    "def bytes_to_hexstr(b: any) -> str:\n",
    "    if isinstance(b,list):\n",
    "        return [bytes_to_hexstr(a) for a in b]\n",
    "    return '0x' + b.hex()"
   ]
  },
  {
   "cell_type": "code",
   "execution_count": 3,
   "id": "ceed3b5c-ba7d-4362-b428-831fd6b3fc47",
   "metadata": {},
   "outputs": [],
   "source": [
    "# Function Signatures 4 bytes\n",
    "getBlocknumber_4b = '42cbb15c'"
   ]
  },
  {
   "cell_type": "code",
   "execution_count": 4,
   "id": "b4b8ea19-29ab-4705-b014-e85ff5da0725",
   "metadata": {},
   "outputs": [],
   "source": [
    "txs = cryo.collect('transactions', blocks=['latest'], rpc ='https://eth.merkle.io')"
   ]
  },
  {
   "cell_type": "code",
   "execution_count": 5,
   "id": "1cd4c981-3395-4e2e-94e9-055f3ed26d92",
   "metadata": {},
   "outputs": [
    {
     "data": {
      "text/html": [
       "<div><style>\n",
       ".dataframe > thead > tr,\n",
       ".dataframe > tbody > tr {\n",
       "  text-align: right;\n",
       "  white-space: pre-wrap;\n",
       "}\n",
       "</style>\n",
       "<small>shape: (5, 21)</small><table border=\"1\" class=\"dataframe\"><thead><tr><th>block_number</th><th>transaction_index</th><th>transaction_hash</th><th>nonce</th><th>from_address</th><th>to_address</th><th>value_binary</th><th>value_string</th><th>value_f64</th><th>input</th><th>gas_limit</th><th>gas_used</th><th>gas_price</th><th>transaction_type</th><th>max_priority_fee_per_gas</th><th>max_fee_per_gas</th><th>success</th><th>n_input_bytes</th><th>n_input_zero_bytes</th><th>n_input_nonzero_bytes</th><th>chain_id</th></tr><tr><td>u32</td><td>u64</td><td>binary</td><td>u64</td><td>binary</td><td>binary</td><td>binary</td><td>str</td><td>f64</td><td>binary</td><td>u64</td><td>u64</td><td>u64</td><td>u32</td><td>u64</td><td>u64</td><td>bool</td><td>u32</td><td>u32</td><td>u32</td><td>u64</td></tr></thead><tbody><tr><td>22491156</td><td>0</td><td>b&quot;\\xa7H\\x8c\\x86\\x0fS&amp;g\\x8a\\xdbbA\\x84K\\x1d\\xee5\\x9fm\\xb0\\xb5m\\xc2\\xb20R\\xde\\x85\\xfd\\x8d0\\x9c&quot;</td><td>180</td><td>b&quot;KndIs[\\x1c\\x0b\\x15\\xf8\\xb9\\x0f\\x1d5\\x8c\\x9d\\xe7um\\xe5&quot;</td><td>b&quot;\\x80\\xa6Lm\\x7f\\x12\\xc4{|f\\xc5\\xb4\\xe2\\x0er\\xbc\\x1f\\xcd]\\x9e&quot;</td><td>b&quot;\\x00\\x00\\x00\\x00\\x00\\x00\\x00\\x00\\x00\\x00\\x00\\x00\\x00\\x00\\x00\\x00\\x00\\x00\\x00\\x00\\x00\\x00\\x00\\x00\\x00\\x00\\x00\\x00\\x00\\x00\\x00\\x00&quot;</td><td>&quot;0&quot;</td><td>0.0</td><td>b&quot;=\\x0e&gt;\\xc5\\x00\\x00\\x00\\x00\\x00\\x00\\x00\\x00\\x00\\x00\\x00\\x00\\x00\\x00\\x00\\x00\\x00\\x00\\x00\\x00\\x00\\x00\\x00\\x00K\\xa8\\xe0\\x0a\\xa6~z\\xb7\\x00\\x00\\x00\\x00\\x00\\x00\\x00\\x00\\x00\\x00\\x00\\x00\\x00\\x00\\x00\\x00\\x00\\x00\\x00\\x00\\x00\\x00\\x00\\x00&quot;…</td><td>574645</td><td>264356</td><td>12173156807</td><td>2</td><td>10000000000</td><td>12842461398</td><td>true</td><td>292</td><td>187</td><td>105</td><td>1</td></tr><tr><td>22491156</td><td>1</td><td>b&quot;\\xf6\\x88&gt;\\x0e\\xb6B\\xb4\\x86\\x81\\xdc&amp;\\xb1\\x07\\x02\\xa3\\x94ry\\x836\\xe8z\\x99\\xa5E}[PI\\xbaqt&quot;</td><td>490</td><td>b&quot;&gt;^l\\x85Vt\\x9e\\xc8\\x19\\\\xb1!9\\xa0/H\\xeb\\x90f\\xd3&quot;</td><td>b&quot;\\x80\\xa6Lm\\x7f\\x12\\xc4{|f\\xc5\\xb4\\xe2\\x0er\\xbc\\x1f\\xcd]\\x9e&quot;</td><td>b&quot;\\x00\\x00\\x00\\x00\\x00\\x00\\x00\\x00\\x00\\x00\\x00\\x00\\x00\\x00\\x00\\x00\\x00\\x00\\x00\\x00\\x00\\x00\\x00\\x00\\x00\\x00\\x00\\x00\\x00\\x00\\x00\\x00&quot;</td><td>&quot;0&quot;</td><td>0.0</td><td>b&quot;=\\x0e&gt;\\xc5\\x00\\x00\\x00\\x00\\x00\\x00\\x00\\x00\\x00\\x00\\x00\\x00\\x00\\x00\\x00\\x00\\x00\\x00\\x00\\x00\\x00\\x00\\x00\\x00\\x00\\x00$6\\xa8\\xff\\xe2\\x9a\\x00\\x00\\x00\\x00\\x00\\x00\\x00\\x00\\x00\\x00\\x00\\x00\\x00\\x00\\x00\\x00\\x00\\x00\\x00\\x00\\x00\\x00\\x00\\x00&quot;…</td><td>321255</td><td>161021</td><td>8173156807</td><td>2</td><td>6000000000</td><td>8842461398</td><td>true</td><td>292</td><td>189</td><td>103</td><td>1</td></tr><tr><td>22491156</td><td>2</td><td>b&quot;\\x8aM\\xc0\\xc9\\x07i\\xb8`\\x83\\x91\\xb7\\x8c\\xe4,H(ZG\\xac\\xb7I2\\xc7%\\xf4\\xe0\\x9fu~\\xe6\\x0be&quot;</td><td>378</td><td>b&quot;\\x94\\xc1\\xa3\\x136\\x8f^\\xe8n\\xaf&gt;\\xa6dbmh\\x08e\\x85\\xcd&quot;</td><td>b&quot;\\x80\\xa6Lm\\x7f\\x12\\xc4{|f\\xc5\\xb4\\xe2\\x0er\\xbc\\x1f\\xcd]\\x9e&quot;</td><td>b&quot;\\x00\\x00\\x00\\x00\\x00\\x00\\x00\\x00\\x00\\x00\\x00\\x00\\x00\\x00\\x00\\x00\\x00\\x00\\x00\\x00\\x00\\x00\\x00\\x00\\x00\\x00\\x00\\x00\\x00\\x00\\x00\\x00&quot;</td><td>&quot;0&quot;</td><td>0.0</td><td>b&quot;=\\x0e&gt;\\xc5\\x00\\x00\\x00\\x00\\x00\\x00\\x00\\x00\\x00\\x00\\x00\\x00\\x00\\x00\\x00\\x00\\x00\\x00\\x00\\x00\\x00\\x00\\x00\\x00\\x00\\x04_h62J\\x85\\x00\\x00\\x00\\x00\\x00\\x00\\x00\\x00\\x00\\x00\\x00\\x00\\x00\\x00\\x00\\x00\\x00\\x00\\x00\\x00\\x00\\x00\\x00\\x00&quot;…</td><td>327142</td><td>164430</td><td>5173156807</td><td>2</td><td>3000000000</td><td>5842461398</td><td>true</td><td>292</td><td>188</td><td>104</td><td>1</td></tr><tr><td>22491156</td><td>3</td><td>b&quot;\\xc0\\xa1\\x1bq\\x1c0\\xf6\\xe9\\xae\\xaaW\\x80Y\\x83\\x8f\\x04\\xbf\\x9b\\x1ew\\xa4\\xf5aN*J\\xc6h\\xaaO\\xddf&quot;</td><td>44</td><td>b&quot;\\x98\\xc02\\x96n\\x9a\\xc6V\\xebw~\\x94U\\x98\\x024\\\\xc5\\x89\\x94&quot;</td><td>b&quot;\\xb0\\x99\\x971\\xf7\\xc2X\\x18De\\x8a\\x9d,\\xed\\x1b\\xe0\\x07{s\\x97&quot;</td><td>b&quot;\\x00\\x00\\x00\\x00\\x00\\x00\\x00\\x00\\x00\\x00\\x00\\x00\\x00\\x00\\x00\\x00\\x00\\x00\\x00\\x00\\x00\\x00\\x00\\x00\\x00#\\x86\\xf2o\\xc1\\x00\\x00&quot;</td><td>&quot;10000000000000000&quot;</td><td>1.0000e16</td><td>b&quot;&quot;</td><td>21000</td><td>21000</td><td>3673156807</td><td>2</td><td>1500000000</td><td>5842461398</td><td>true</td><td>0</td><td>0</td><td>0</td><td>1</td></tr><tr><td>22491156</td><td>4</td><td>b&quot;\\xad@L\\xeb\\xc8\\x9cU\\xab\\x9c\\xcd\\x80\\xc9u8\\xce\\xd4n\\xc9\\x1b&quot;\\xe4\\x94\\xaf/\\xb2\\x8e\\x92g\\x7fc\\x1c\\xae&quot;</td><td>11</td><td>b&quot;\\x8a\\x0d\\x13xM+\\xeaK\\xd6l\\xef\\x8c\\x1d0\\xa7\\xfe\\xd8g\\x13\\x15&quot;</td><td>b&quot;:\\x10\\xdc\\x1a\\x14]\\xa5\\x00\\xd5\\xfb\\xa3\\x8b\\x9e\\xc4\\x9c\\x8f\\xf1\\x1a\\x98\\x1f&quot;</td><td>b&quot;\\x00\\x00\\x00\\x00\\x00\\x00\\x00\\x00\\x00\\x00\\x00\\x00\\x00\\x00\\x00\\x00\\x00\\x00\\x00\\x00\\x00\\x00\\x00\\x00\\x00\\xb50:\\xd3\\x8b\\x80\\x00&quot;</td><td>&quot;51000000000000000&quot;</td><td>5.1000e16</td><td>b&quot;\\x09\\xc1\\x82\\xc3\\x00\\x00\\x00\\x00\\x00\\x00\\x00\\x00\\x00\\x00\\x00\\x00\\x00\\x00\\x00\\x00\\x00\\x00\\x00\\x00\\x00\\x00\\x00\\x00\\x00\\x00\\x00\\x00\\x00\\x00\\x00\\x80\\x00\\x00\\x00\\x00\\x00\\x00\\x00\\x00\\x00\\x00\\x00\\x00\\x00\\x00\\x00\\x00\\x00\\x00\\x00\\x00\\x00\\x00\\x00\\x00&quot;…</td><td>355595</td><td>222365</td><td>2173156807</td><td>2</td><td>0</td><td>2173156807</td><td>true</td><td>516</td><td>432</td><td>84</td><td>1</td></tr></tbody></table></div>"
      ],
      "text/plain": [
       "shape: (5, 21)\n",
       "┌────────────┬────────────┬────────────┬───────┬───┬────────────┬───────────┬───────────┬──────────┐\n",
       "│ block_numb ┆ transactio ┆ transactio ┆ nonce ┆ … ┆ n_input_by ┆ n_input_z ┆ n_input_n ┆ chain_id │\n",
       "│ er         ┆ n_index    ┆ n_hash     ┆ ---   ┆   ┆ tes        ┆ ero_bytes ┆ onzero_by ┆ ---      │\n",
       "│ ---        ┆ ---        ┆ ---        ┆ u64   ┆   ┆ ---        ┆ ---       ┆ tes       ┆ u64      │\n",
       "│ u32        ┆ u64        ┆ binary     ┆       ┆   ┆ u32        ┆ u32       ┆ ---       ┆          │\n",
       "│            ┆            ┆            ┆       ┆   ┆            ┆           ┆ u32       ┆          │\n",
       "╞════════════╪════════════╪════════════╪═══════╪═══╪════════════╪═══════════╪═══════════╪══════════╡\n",
       "│ 22491156   ┆ 0          ┆ b\"\\xa7H\\x8 ┆ 180   ┆ … ┆ 292        ┆ 187       ┆ 105       ┆ 1        │\n",
       "│            ┆            ┆ c\\x86\\x0fS ┆       ┆   ┆            ┆           ┆           ┆          │\n",
       "│            ┆            ┆ &g\\x8a\\xdb ┆       ┆   ┆            ┆           ┆           ┆          │\n",
       "│            ┆            ┆ …          ┆       ┆   ┆            ┆           ┆           ┆          │\n",
       "│ 22491156   ┆ 1          ┆ b\"\\xf6\\x88 ┆ 490   ┆ … ┆ 292        ┆ 189       ┆ 103       ┆ 1        │\n",
       "│            ┆            ┆ >\\x0e\\xb6B ┆       ┆   ┆            ┆           ┆           ┆          │\n",
       "│            ┆            ┆ \\xb4\\x86\\x ┆       ┆   ┆            ┆           ┆           ┆          │\n",
       "│            ┆            ┆ …          ┆       ┆   ┆            ┆           ┆           ┆          │\n",
       "│ 22491156   ┆ 2          ┆ b\"\\x8aM\\xc ┆ 378   ┆ … ┆ 292        ┆ 188       ┆ 104       ┆ 1        │\n",
       "│            ┆            ┆ 0\\xc9\\x07i ┆       ┆   ┆            ┆           ┆           ┆          │\n",
       "│            ┆            ┆ \\xb8`\\x83\\ ┆       ┆   ┆            ┆           ┆           ┆          │\n",
       "│            ┆            ┆ …          ┆       ┆   ┆            ┆           ┆           ┆          │\n",
       "│ 22491156   ┆ 3          ┆ b\"\\xc0\\xa1 ┆ 44    ┆ … ┆ 0          ┆ 0         ┆ 0         ┆ 1        │\n",
       "│            ┆            ┆ \\x1bq\\x1c0 ┆       ┆   ┆            ┆           ┆           ┆          │\n",
       "│            ┆            ┆ \\xf6\\xe9\\x ┆       ┆   ┆            ┆           ┆           ┆          │\n",
       "│            ┆            ┆ …          ┆       ┆   ┆            ┆           ┆           ┆          │\n",
       "│ 22491156   ┆ 4          ┆ b\"\\xad@L\\x ┆ 11    ┆ … ┆ 516        ┆ 432       ┆ 84        ┆ 1        │\n",
       "│            ┆            ┆ eb\\xc8\\x9c ┆       ┆   ┆            ┆           ┆           ┆          │\n",
       "│            ┆            ┆ U\\xab\\x9c\\ ┆       ┆   ┆            ┆           ┆           ┆          │\n",
       "│            ┆            ┆ …          ┆       ┆   ┆            ┆           ┆           ┆          │\n",
       "└────────────┴────────────┴────────────┴───────┴───┴────────────┴───────────┴───────────┴──────────┘"
      ]
     },
     "execution_count": 5,
     "metadata": {},
     "output_type": "execute_result"
    }
   ],
   "source": [
    "txs.head()"
   ]
  },
  {
   "cell_type": "code",
   "execution_count": null,
   "id": "6e4f4a7d-c391-42c4-911d-a8fa392fcc1c",
   "metadata": {},
   "outputs": [],
   "source": []
  }
 ],
 "metadata": {
  "kernelspec": {
   "display_name": "Python 3 (ipykernel)",
   "language": "python",
   "name": "python3"
  },
  "language_info": {
   "codemirror_mode": {
    "name": "ipython",
    "version": 3
   },
   "file_extension": ".py",
   "mimetype": "text/x-python",
   "name": "python",
   "nbconvert_exporter": "python",
   "pygments_lexer": "ipython3",
   "version": "3.12.8"
  }
 },
 "nbformat": 4,
 "nbformat_minor": 5
}
