{
 "cells": [
  {
   "cell_type": "code",
   "execution_count": 1,
   "id": "0b1a7ef6-9e08-415a-8313-07dbbd836910",
   "metadata": {},
   "outputs": [],
   "source": [
    "import cryo\n",
    "import polars as pl\n",
    "import binascii\n",
    "import web3\n",
    "import json\n",
    "from eth_abi import decode\n",
    "import seaborn as sns\n",
    "import matplotlib.pyplot as plt\n",
    "from datetime import datetime\n",
    "import pandas as pd"
   ]
  },
  {
   "cell_type": "code",
   "execution_count": 2,
   "id": "22326b42-8e1e-4da7-98da-d4ffe745026c",
   "metadata": {},
   "outputs": [],
   "source": [
    "# The multical cantract address, but we also need ABI\n",
    "MULTICALL3_ADDRESS = '0xcA11bde05977b3631167028862bE2a173976CA11'\n",
    "MULTICALL3_ABI=json.loads('[{\"inputs\":[{\"internalType\":\"bool\",\"name\":\"requireSuccess\",\"type\":\"bool\"},{\"components\":[{\"internalType\":\"address\",\"name\":\"target\",\"type\":\"address\"},{\"internalType\":\"bytes\",\"name\":\"callData\",\"type\":\"bytes\"}],\"internalType\":\"struct Multicall3.Call[]\",\"name\":\"calls\",\"type\":\"tuple[]\"}],\"name\":\"tryAggregate\",\"outputs\":[{\"components\":[{\"internalType\":\"bool\",\"name\":\"success\",\"type\":\"bool\"},{\"internalType\":\"bytes\",\"name\":\"returnData\",\"type\":\"bytes\"}],\"internalType\":\"struct Multicall3.Result[]\",\"name\":\"returnData\",\"type\":\"tuple[]\"}],\"stateMutability\":\"payable\",\"type\":\"function\"}]')\n",
    "\n",
    "UNIV2_ETH_USDC= '0xB4e16d0168e52d35CaCD2c6185b44281Ec28C9Dc'\n",
    "UNIV3_USDC_ETH='0x88e6A0c2dDD26FEEb64F039a2c41296FcB3f5640'\n",
    "UNIV3_WBTC_ETH = '0xCBCdF9626bC03E24f779434178A73a0B4bad62eD'"
   ]
  },
  {
   "cell_type": "code",
   "execution_count": 3,
   "id": "708a4243-8add-4ef7-9198-3aaedca7d17d",
   "metadata": {},
   "outputs": [],
   "source": [
    "# Function Signatures 4 bytes\n",
    "getBlocknumber_4b = '42cbb15c'\n",
    "getBloclTimestamp_4b= '0f28c97d'\n",
    "getReserves_4b = '0902f1ac'\n",
    "slot0_4b = '3850c7bd'"
   ]
  },
  {
   "cell_type": "code",
   "execution_count": 4,
   "id": "15722085-3f64-4155-9f14-a00d0fbf7f08",
   "metadata": {},
   "outputs": [],
   "source": [
    "# Functions\n",
    "def bytes_to_hexstr(b: any) -> str:\n",
    "    if isinstance(b,list):\n",
    "        return [bytes_to_hexstr(a) for a in b]\n",
    "    return '0x' + b.hex()\n",
    "\n",
    "def decode_outputdata_uniV2_price(b: bytes) -> list[float]:\n",
    "    aggregated_data_uniV2 = decode(['(bool,bytes)[]'], b)[0]\n",
    "\n",
    "    ethusdc_reserves_raw = aggregated_data_uniV2[0]\n",
    "    [eth_bal, usdc_bal, _] = decode(['uint112','uint112','uint32'], ethusdc_reserves_raw[1])\n",
    "\n",
    "    eth_usdc_price = (eth_bal / usdc_bal)*1e12\n",
    "    print(f\"ETH/USDC: {eth_usdc_price}\")\n",
    "\n",
    "\n",
    "def decode_outputdata_uniV2V3_price(b: bytes) -> list[float]:\n",
    "    aggregated_data_uniV2V3 = decode(['(bool,bytes)[]'], b)[0]\n",
    "\n",
    "    # UNI-V2\n",
    "    ethusdc_reserves_raw = aggregated_data_uniV2V3[0]\n",
    "    [eth_bal, usdc_bal, time ] = decode(['uint112','uint112','uint32'], ethusdc_reserves_raw[1])\n",
    "\n",
    "    eth_usdc_price = (eth_bal / usdc_bal)*1e12\n",
    "    # print(f\"ETH/USDC: {eth_usdc_price}\")\n",
    "\n",
    "    # UNI-V3\n",
    "    # slot0():\n",
    "    # sqrtPriceX96 uint160, tick int24, observationIndex uint16, observationCardinality uint16, observationCardinalityNext uint16, feeProtocol uint8, unlocked bool\n",
    "    # 'uint160', 'int24', 'uint16', 'uint16', 'uint16', 'uint8', 'bool'\n",
    "\n",
    "    usdc_eth_slot0_raw = aggregated_data_uniV2V3[1]\n",
    "    usdc_eth_slot0_sqrt_ratioX96 = decode(['uint160', 'int24', 'uint16', 'uint16', 'uint16', 'uint8', 'bool'], usdc_eth_slot0_raw[1])[0]\n",
    "    usdc_eth_price = usdc_eth_slot0_sqrt_ratioX96**2 / 2**192 /1e12\n",
    "    eth_usdc_price_v3 = 1/usdc_eth_price\n",
    "    # print(f\"WBTC/ETH: { wbtc_eth_price}\")\n",
    "    # print(f\"ETH/WBTC: { eth_wbtc_price}\")\n",
    "\n",
    "    # Timestamp\n",
    "    timestamp_raw = aggregated_data_uniV2V3[-1]\n",
    "    timestamp = int(timestamp_raw[1].hex(),16)\n",
    "    \n",
    "    return [eth_usdc_price, eth_usdc_price_v3, timestamp]"
   ]
  },
  {
   "cell_type": "code",
   "execution_count": 5,
   "id": "0faa1c81-d119-45ae-a261-4851237df94d",
   "metadata": {},
   "outputs": [],
   "source": [
    "# web3 instance, function from web3py\n",
    "w3 = web3.Web3()\n",
    "m3 = w3.eth.contract(address = MULTICALL3_ADDRESS, abi=MULTICALL3_ABI)"
   ]
  },
  {
   "cell_type": "code",
   "execution_count": 22,
   "id": "4fd50bdb-bc59-4ffe-a59a-0900019459a1",
   "metadata": {},
   "outputs": [],
   "source": [
    "# Arguments fro the tryAggregate Fuunction\n",
    "aggregate_calldata = [\n",
    "    [\n",
    "        MULTICALL3_ADDRESS,\n",
    "        f'0x{getBloclTimestamp_4b}'\n",
    "    ],\n",
    "    [\n",
    "        UNIV2_ETH_USDC,\n",
    "        f'0x{getReserves_4b}',\n",
    "    ],\n",
    "    [\n",
    "        UNIV3_USDC_ETH,\n",
    "        f'0x{slot0_4b}',\n",
    "    ]\n",
    "]"
   ]
  },
  {
   "cell_type": "code",
   "execution_count": 23,
   "id": "b82350dd-0722-4f4c-ab25-e78883cf8c09",
   "metadata": {},
   "outputs": [
    {
     "data": {
      "text/plain": [
       "[['0xcA11bde05977b3631167028862bE2a173976CA11', '0x0f28c97d'],\n",
       " ['0xB4e16d0168e52d35CaCD2c6185b44281Ec28C9Dc', '0x0902f1ac'],\n",
       " ['0x88e6A0c2dDD26FEEb64F039a2c41296FcB3f5640', '0x3850c7bd']]"
      ]
     },
     "execution_count": 23,
     "metadata": {},
     "output_type": "execute_result"
    }
   ],
   "source": [
    "aggregate_calldata"
   ]
  },
  {
   "cell_type": "code",
   "execution_count": 8,
   "id": "10e6e76d-5bcb-400d-b835-c7300324b40f",
   "metadata": {},
   "outputs": [],
   "source": [
    "# Generate calldate (the input) via m3 Multicall3 encode ABIfor cryo \n",
    "calldata = m3.encode_abi(\"tryAggregate\", args=[False, aggregate_calldata])"
   ]
  },
  {
   "cell_type": "code",
   "execution_count": 9,
   "id": "47aff47e-0246-40b5-88a9-dfcb7d6cad74",
   "metadata": {},
   "outputs": [],
   "source": [
    "#  Call data passed to cryo collect \n",
    "cryo_kwargs = {\n",
    "    'rpc': 'https://eth.merkle.io',\n",
    "    'blocks': ['-5:latest'], \n",
    "}\n",
    "            \n",
    "eth_call_uni_df = cryo.collect(\n",
    "    'eth_calls',\n",
    "    to_address = [MULTICALL3_ADDRESS],\n",
    "    call_data=[calldata],\n",
    "     output_format=\"polars\",\n",
    "    **cryo_kwargs,\n",
    ")"
   ]
  },
  {
   "cell_type": "code",
   "execution_count": 10,
   "id": "8a585b4c-0a6c-423b-9794-cce8f785aaaa",
   "metadata": {},
   "outputs": [
    {
     "data": {
      "text/plain": [
       "'000000000000000000000000000000000000000000000000000000000000002000000000000000000000000000000000000000000000000000000000000000020000000000000000000000000000000000000000000000000000000000000040000000000000000000000000000000000000000000000000000000000000010000000000000000000000000000000000000000000000000000000000000000010000000000000000000000000000000000000000000000000000000000000040000000000000000000000000000000000000000000000000000000000000006000000000000000000000000000000000000000000000000000000a8c19b630f00000000000000000000000000000000000000000000001020dc62ca2d8b0aee70000000000000000000000000000000000000000000000000000000067bf392f0000000000000000000000000000000000000000000000000000000000000001000000000000000000000000000000000000000000000000000000000000004000000000000000000000000000000000000000000000000000000000000000e00000000000000000000000000000000000004f40a011a055c4df4a969a5f280800000000000000000000000000000000000000000000000000000000000306de000000000000000000000000000000000000000000000000000000000000022000000000000000000000000000000000000000000000000000000000000002d300000000000000000000000000000000000000000000000000000000000002d300000000000000000000000000000000000000000000000000000000000000000000000000000000000000000000000000000000000000000000000000000001'"
      ]
     },
     "execution_count": 10,
     "metadata": {},
     "output_type": "execute_result"
    }
   ],
   "source": [
    "#  We can get Hex format to undestand the data\n",
    "eth_call_uni_df['output_data'][0].hex()"
   ]
  },
  {
   "cell_type": "code",
   "execution_count": 13,
   "id": "5e7e0a5d-e7e3-46e1-8ad8-e0557084da17",
   "metadata": {},
   "outputs": [],
   "source": [
    "output_data=eth_call_uni_df['output_data'][0]"
   ]
  },
  {
   "cell_type": "code",
   "execution_count": 14,
   "id": "3abf485f-7a7b-4ed5-98dc-b0e572bfd97f",
   "metadata": {},
   "outputs": [],
   "source": [
    "aggregated_data_uniV2V3 = decode(['(bool,bytes)[]'], output_data)[0]"
   ]
  },
  {
   "cell_type": "code",
   "execution_count": 16,
   "id": "bcd560db-5b9c-481b-8bab-feccc8938d58",
   "metadata": {},
   "outputs": [
    {
     "data": {
      "text/plain": [
       "((True,\n",
       "  b'\\x00\\x00\\x00\\x00\\x00\\x00\\x00\\x00\\x00\\x00\\x00\\x00\\x00\\x00\\x00\\x00\\x00\\x00\\x00\\x00\\x00\\x00\\x00\\x00\\x00\\x00\\n\\x8c\\x19\\xb60\\xf0\\x00\\x00\\x00\\x00\\x00\\x00\\x00\\x00\\x00\\x00\\x00\\x00\\x00\\x00\\x00\\x00\\x00\\x00\\x00\\x00\\x00\\x00\\x01\\x02\\r\\xc6,\\xa2\\xd8\\xb0\\xae\\xe7\\x00\\x00\\x00\\x00\\x00\\x00\\x00\\x00\\x00\\x00\\x00\\x00\\x00\\x00\\x00\\x00\\x00\\x00\\x00\\x00\\x00\\x00\\x00\\x00\\x00\\x00\\x00\\x00g\\xbf9/'),\n",
       " (True,\n",
       "  b'\\x00\\x00\\x00\\x00\\x00\\x00\\x00\\x00\\x00\\x00\\x00\\x00\\x00\\x00\\x00\\x00\\x00\\x00O@\\xa0\\x11\\xa0U\\xc4\\xdfJ\\x96\\x9a_(\\x08\\x00\\x00\\x00\\x00\\x00\\x00\\x00\\x00\\x00\\x00\\x00\\x00\\x00\\x00\\x00\\x00\\x00\\x00\\x00\\x00\\x00\\x00\\x00\\x00\\x00\\x00\\x00\\x00\\x00\\x03\\x06\\xde\\x00\\x00\\x00\\x00\\x00\\x00\\x00\\x00\\x00\\x00\\x00\\x00\\x00\\x00\\x00\\x00\\x00\\x00\\x00\\x00\\x00\\x00\\x00\\x00\\x00\\x00\\x00\\x00\\x00\\x00\\x02 \\x00\\x00\\x00\\x00\\x00\\x00\\x00\\x00\\x00\\x00\\x00\\x00\\x00\\x00\\x00\\x00\\x00\\x00\\x00\\x00\\x00\\x00\\x00\\x00\\x00\\x00\\x00\\x00\\x00\\x00\\x02\\xd3\\x00\\x00\\x00\\x00\\x00\\x00\\x00\\x00\\x00\\x00\\x00\\x00\\x00\\x00\\x00\\x00\\x00\\x00\\x00\\x00\\x00\\x00\\x00\\x00\\x00\\x00\\x00\\x00\\x00\\x00\\x02\\xd3\\x00\\x00\\x00\\x00\\x00\\x00\\x00\\x00\\x00\\x00\\x00\\x00\\x00\\x00\\x00\\x00\\x00\\x00\\x00\\x00\\x00\\x00\\x00\\x00\\x00\\x00\\x00\\x00\\x00\\x00\\x00\\x00\\x00\\x00\\x00\\x00\\x00\\x00\\x00\\x00\\x00\\x00\\x00\\x00\\x00\\x00\\x00\\x00\\x00\\x00\\x00\\x00\\x00\\x00\\x00\\x00\\x00\\x00\\x00\\x00\\x00\\x00\\x00\\x01'))"
      ]
     },
     "execution_count": 16,
     "metadata": {},
     "output_type": "execute_result"
    }
   ],
   "source": [
    "aggregated_data_uniV2V3"
   ]
  },
  {
   "cell_type": "code",
   "execution_count": 17,
   "id": "c89b0254-8203-482a-afb6-2c28862d88df",
   "metadata": {},
   "outputs": [
    {
     "data": {
      "text/plain": [
       "[2436.1823385582743, 2429.376121176615]"
      ]
     },
     "execution_count": 17,
     "metadata": {},
     "output_type": "execute_result"
    }
   ],
   "source": [
    "decode_outputdata_uniV2V3_price(output_data)"
   ]
  },
  {
   "cell_type": "code",
   "execution_count": 18,
   "id": "3db4c076-9fb5-4aa3-b71c-05d754b72c44",
   "metadata": {},
   "outputs": [],
   "source": [
    "prices = [decode_outputdata_uniV2V3_price(x) for x in eth_call_uni_df['output_data'].to_list()]"
   ]
  },
  {
   "cell_type": "code",
   "execution_count": 19,
   "id": "d445d6bf-1726-407e-ac5b-83a745fccbd2",
   "metadata": {},
   "outputs": [
    {
     "data": {
      "text/plain": [
       "[[2436.1823385582743, 2429.376121176615],\n",
       " [2436.1823385582743, 2429.5446768935135],\n",
       " [2436.1823385582743, 2429.5446768935135],\n",
       " [2436.1823385582743, 2429.5446768935135],\n",
       " [2436.0552755799076, 2429.544768725439]]"
      ]
     },
     "execution_count": 19,
     "metadata": {},
     "output_type": "execute_result"
    }
   ],
   "source": [
    "prices"
   ]
  },
  {
   "cell_type": "code",
   "execution_count": 20,
   "id": "c5bb64ce-a9a3-416c-8573-1c69c42a207d",
   "metadata": {},
   "outputs": [],
   "source": [
    "usdc_eth_slot0_raw = aggregated_data_uniV2V3[1]"
   ]
  },
  {
   "cell_type": "code",
   "execution_count": 21,
   "id": "9d413ce4-9c24-46ce-92c0-0c9e47d0cfc1",
   "metadata": {},
   "outputs": [
    {
     "data": {
      "text/plain": [
       "(True,\n",
       " b'\\x00\\x00\\x00\\x00\\x00\\x00\\x00\\x00\\x00\\x00\\x00\\x00\\x00\\x00\\x00\\x00\\x00\\x00O@\\xa0\\x11\\xa0U\\xc4\\xdfJ\\x96\\x9a_(\\x08\\x00\\x00\\x00\\x00\\x00\\x00\\x00\\x00\\x00\\x00\\x00\\x00\\x00\\x00\\x00\\x00\\x00\\x00\\x00\\x00\\x00\\x00\\x00\\x00\\x00\\x00\\x00\\x00\\x00\\x03\\x06\\xde\\x00\\x00\\x00\\x00\\x00\\x00\\x00\\x00\\x00\\x00\\x00\\x00\\x00\\x00\\x00\\x00\\x00\\x00\\x00\\x00\\x00\\x00\\x00\\x00\\x00\\x00\\x00\\x00\\x00\\x00\\x02 \\x00\\x00\\x00\\x00\\x00\\x00\\x00\\x00\\x00\\x00\\x00\\x00\\x00\\x00\\x00\\x00\\x00\\x00\\x00\\x00\\x00\\x00\\x00\\x00\\x00\\x00\\x00\\x00\\x00\\x00\\x02\\xd3\\x00\\x00\\x00\\x00\\x00\\x00\\x00\\x00\\x00\\x00\\x00\\x00\\x00\\x00\\x00\\x00\\x00\\x00\\x00\\x00\\x00\\x00\\x00\\x00\\x00\\x00\\x00\\x00\\x00\\x00\\x02\\xd3\\x00\\x00\\x00\\x00\\x00\\x00\\x00\\x00\\x00\\x00\\x00\\x00\\x00\\x00\\x00\\x00\\x00\\x00\\x00\\x00\\x00\\x00\\x00\\x00\\x00\\x00\\x00\\x00\\x00\\x00\\x00\\x00\\x00\\x00\\x00\\x00\\x00\\x00\\x00\\x00\\x00\\x00\\x00\\x00\\x00\\x00\\x00\\x00\\x00\\x00\\x00\\x00\\x00\\x00\\x00\\x00\\x00\\x00\\x00\\x00\\x00\\x00\\x00\\x01')"
      ]
     },
     "execution_count": 21,
     "metadata": {},
     "output_type": "execute_result"
    }
   ],
   "source": [
    "usdc_eth_slot0_raw"
   ]
  },
  {
   "cell_type": "code",
   "execution_count": 203,
   "id": "462ac1cc-4954-4228-adc8-25f12de215d4",
   "metadata": {},
   "outputs": [],
   "source": [
    "usdc_eth_slot0_sqrt_ratioX96 = decode(['uint160', 'int24', 'uint16', 'uint16', 'uint16', 'uint8', 'bool'], usdc_eth_slot0_raw[1])[0]"
   ]
  },
  {
   "cell_type": "code",
   "execution_count": 204,
   "id": "2139ef89-0781-47f9-b36d-aa8025ab2f7e",
   "metadata": {},
   "outputs": [
    {
     "data": {
      "text/plain": [
       "1605764876648026409135139173124367"
      ]
     },
     "execution_count": 204,
     "metadata": {},
     "output_type": "execute_result"
    }
   ],
   "source": [
    "usdc_eth_slot0_sqrt_ratioX96"
   ]
  },
  {
   "cell_type": "code",
   "execution_count": 205,
   "id": "9524a8d5-48e8-4ee6-9552-b1e6fdae32ab",
   "metadata": {},
   "outputs": [],
   "source": [
    "usdc_eth_price = (usdc_eth_slot0_sqrt_ratioX96**2 / 2**192)/1e12"
   ]
  },
  {
   "cell_type": "code",
   "execution_count": 206,
   "id": "b75cbc88-5733-41f0-a5ae-f36303dbb452",
   "metadata": {},
   "outputs": [
    {
     "data": {
      "text/plain": [
       "0.0004107756967742713"
      ]
     },
     "execution_count": 206,
     "metadata": {},
     "output_type": "execute_result"
    }
   ],
   "source": [
    "usdc_eth_price"
   ]
  },
  {
   "cell_type": "code",
   "execution_count": 207,
   "id": "f4fd319e-2dc2-433a-a42e-eafb8d4b95f5",
   "metadata": {},
   "outputs": [
    {
     "data": {
      "text/plain": [
       "2434.4186081425314"
      ]
     },
     "execution_count": 207,
     "metadata": {},
     "output_type": "execute_result"
    }
   ],
   "source": [
    "1/usdc_eth_price"
   ]
  },
  {
   "cell_type": "code",
   "execution_count": 208,
   "id": "92de2b11-92e8-4c2a-bb3d-f2c7ca790779",
   "metadata": {},
   "outputs": [],
   "source": [
    "# To get them we will used binary format\n",
    "decoded_data = decode(['(bool,bytes)[]'], output_data)[0]"
   ]
  },
  {
   "cell_type": "code",
   "execution_count": 209,
   "id": "1386e473-1b8f-4da7-8e95-86d907caa1cd",
   "metadata": {},
   "outputs": [
    {
     "data": {
      "text/plain": [
       "(11676567161113, 4726825701020660918420, 1740570683)"
      ]
     },
     "execution_count": 209,
     "metadata": {},
     "output_type": "execute_result"
    }
   ],
   "source": [
    "reserves_data_uniV2"
   ]
  },
  {
   "cell_type": "code",
   "execution_count": 210,
   "id": "7d2b30bf-3854-4f27-89ee-94628e6e9dfa",
   "metadata": {},
   "outputs": [
    {
     "name": "stdout",
     "output_type": "stream",
     "text": [
      "Reserves univ2: 11676567161113 4726825701020660918420 1740570683\n"
     ]
    }
   ],
   "source": [
    "#  Arg of tryAggregate was get reserve: the eth_call output are the vaue of getReserves() in UNIV2\n",
    "print(\"Reserves univ2:\",int('a9ea9a34919',16),int('1003de253484b43e894', 16),int('67bf003b', 16))"
   ]
  },
  {
   "cell_type": "code",
   "execution_count": 211,
   "id": "7a7b82de-3e4b-4c5c-9965-6b2f44c695f6",
   "metadata": {},
   "outputs": [
    {
     "name": "stdout",
     "output_type": "stream",
     "text": [
      "ETH/USDC: 2429.380063025579\n"
     ]
    }
   ],
   "source": [
    "#  Call the function with data on reserves we get the price\n",
    "decode_outputdata_uniV2_price(output_data)"
   ]
  },
  {
   "cell_type": "code",
   "execution_count": null,
   "id": "a30afe71-c060-4774-a509-75f680add4b0",
   "metadata": {},
   "outputs": [],
   "source": []
  },
  {
   "cell_type": "code",
   "execution_count": null,
   "id": "10db4cbc-e1c5-4f62-b120-3aa3f5af900b",
   "metadata": {},
   "outputs": [],
   "source": []
  },
  {
   "cell_type": "code",
   "execution_count": null,
   "id": "68c78395-0fc2-4022-bfb4-987a8b22d726",
   "metadata": {},
   "outputs": [],
   "source": []
  }
 ],
 "metadata": {
  "kernelspec": {
   "display_name": "Python 3 (ipykernel)",
   "language": "python",
   "name": "python3"
  },
  "language_info": {
   "codemirror_mode": {
    "name": "ipython",
    "version": 3
   },
   "file_extension": ".py",
   "mimetype": "text/x-python",
   "name": "python",
   "nbconvert_exporter": "python",
   "pygments_lexer": "ipython3",
   "version": "3.12.8"
  }
 },
 "nbformat": 4,
 "nbformat_minor": 5
}
