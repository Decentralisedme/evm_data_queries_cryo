{
 "cells": [
  {
   "cell_type": "code",
   "execution_count": 68,
   "id": "0b1a7ef6-9e08-415a-8313-07dbbd836910",
   "metadata": {},
   "outputs": [],
   "source": [
    "import cryo\n",
    "import polars as pl\n",
    "import binascii\n",
    "import web3\n",
    "import json\n",
    "from eth_abi import decode\n",
    "import seaborn as sns\n",
    "import matplotlib.pyplot as plt\n",
    "from datetime import datetime\n",
    "import pandas as pd"
   ]
  },
  {
   "cell_type": "code",
   "execution_count": 120,
   "id": "22326b42-8e1e-4da7-98da-d4ffe745026c",
   "metadata": {},
   "outputs": [],
   "source": [
    "# The multical cantract address, but we also need ABI\n",
    "MULTICALL3_ADDRESS = '0xcA11bde05977b3631167028862bE2a173976CA11'\n",
    "MULTICALL3_ABI=json.loads('[{\"inputs\":[{\"internalType\":\"bool\",\"name\":\"requireSuccess\",\"type\":\"bool\"},{\"components\":[{\"internalType\":\"address\",\"name\":\"target\",\"type\":\"address\"},{\"internalType\":\"bytes\",\"name\":\"callData\",\"type\":\"bytes\"}],\"internalType\":\"struct Multicall3.Call[]\",\"name\":\"calls\",\"type\":\"tuple[]\"}],\"name\":\"tryAggregate\",\"outputs\":[{\"components\":[{\"internalType\":\"bool\",\"name\":\"success\",\"type\":\"bool\"},{\"internalType\":\"bytes\",\"name\":\"returnData\",\"type\":\"bytes\"}],\"internalType\":\"struct Multicall3.Result[]\",\"name\":\"returnData\",\"type\":\"tuple[]\"}],\"stateMutability\":\"payable\",\"type\":\"function\"}]')\n",
    "\n",
    "UNIV2_ETH_USDC= '0xB4e16d0168e52d35CaCD2c6185b44281Ec28C9Dc'\n",
    "SUSHIV2_USDC_ETH='0x397FF1542f962076d0BFE58eA045FfA2d347ACa0'\n",
    "UNIV3_USDC_ETH='0x88e6A0c2dDD26FEEb64F039a2c41296FcB3f5640'\n",
    "UNIV3_WBTC_ETH = '0xCBCdF9626bC03E24f779434178A73a0B4bad62eD'"
   ]
  },
  {
   "cell_type": "code",
   "execution_count": 70,
   "id": "708a4243-8add-4ef7-9198-3aaedca7d17d",
   "metadata": {},
   "outputs": [],
   "source": [
    "# Function Signatures 4 bytes\n",
    "getBlocknumber_4b = '42cbb15c'\n",
    "getBloclTimestamp_4b= '0f28c97d'\n",
    "getReserves_4b = '0902f1ac'\n",
    "slot0_4b = '3850c7bd'"
   ]
  },
  {
   "cell_type": "code",
   "execution_count": 154,
   "id": "15722085-3f64-4155-9f14-a00d0fbf7f08",
   "metadata": {},
   "outputs": [],
   "source": [
    "# Functions\n",
    "def bytes_to_hexstr(b: any) -> str:\n",
    "    if isinstance(b,list):\n",
    "        return [bytes_to_hexstr(a) for a in b]\n",
    "    return '0x' + b.hex()\n",
    "\n",
    "def decode_outputdata_uniV2V3_price(b: bytes) -> list[float]:\n",
    "    aggregated_data_uniV2V3 = decode(['(bool,bytes)[]'], b)[0]\n",
    "\n",
    "    # UNI-V2\n",
    "    ethusdc_reserves_raw = aggregated_data_uniV2V3[0]\n",
    "    [eth_bal, usdc_bal, time ] = decode(['uint112','uint112','uint32'], ethusdc_reserves_raw[1])\n",
    "\n",
    "    eth_usdc_price_v2 = (eth_bal / usdc_bal)*1e12\n",
    "    # print(f\"ETH/USDC: {eth_usdc_price}\")\n",
    "\n",
    "    # SUSHI-V2\n",
    "    ethusdc_reserves_raw = aggregated_data_uniV2V3[0]\n",
    "    [eth_bal, usdc_bal, time ] = decode(['uint112','uint112','uint32'], ethusdc_reserves_raw[1])\n",
    "\n",
    "    eth_usdc_price_sushi = (eth_bal / usdc_bal)*1e12\n",
    "\n",
    "    # UNI-V3\n",
    "    # slot0():\n",
    "    # sqrtPriceX96 uint160, tick int24, observationIndex uint16, observationCardinality uint16, observationCardinalityNext uint16, feeProtocol uint8, unlocked bool\n",
    "    # 'uint160', 'int24', 'uint16', 'uint16', 'uint16', 'uint8', 'bool'\n",
    "\n",
    "    usdc_eth_slot0_raw = aggregated_data_uniV2V3[1]\n",
    "    usdc_eth_slot0_sqrt_ratioX96 = decode(['uint160', 'int24', 'uint16', 'uint16', 'uint16', 'uint8', 'bool'], usdc_eth_slot0_raw[1])[0]\n",
    "    usdc_eth_price = usdc_eth_slot0_sqrt_ratioX96**2 / 2**192 /1e12\n",
    "    eth_usdc_price_v3 = 1/usdc_eth_price\n",
    "    # print(f\"WBTC/ETH: { wbtc_eth_price}\")\n",
    "    # print(f\"ETH/WBTC: { eth_wbtc_price}\")\n",
    "\n",
    "    # Timestamp\n",
    "    timestamp_raw = aggregated_data_uniV2V3[-1]\n",
    "    timestamp = int(timestamp_raw[1].hex(),16)\n",
    "    \n",
    "    return [eth_usdc_price_v2, eth_usdc_price_v3, eth_usdc_price_sushi, timestamp]"
   ]
  },
  {
   "cell_type": "code",
   "execution_count": 131,
   "id": "0faa1c81-d119-45ae-a261-4851237df94d",
   "metadata": {},
   "outputs": [],
   "source": [
    "# web3 instance, function from web3py\n",
    "w3 = web3.Web3()\n",
    "m3 = w3.eth.contract(address = MULTICALL3_ADDRESS, abi=MULTICALL3_ABI)"
   ]
  },
  {
   "cell_type": "code",
   "execution_count": 132,
   "id": "4fd50bdb-bc59-4ffe-a59a-0900019459a1",
   "metadata": {},
   "outputs": [],
   "source": [
    "# Arguments fro the tryAggregate Fuunction\n",
    "aggregate_calldata = [\n",
    "    [\n",
    "        UNIV2_ETH_USDC,\n",
    "        f'0x{getReserves_4b}',\n",
    "    ],\n",
    "    [\n",
    "        UNIV3_USDC_ETH,\n",
    "        f'0x{slot0_4b}',\n",
    "    ],\n",
    "    [\n",
    "        SUSHIV2_USDC_ETH,\n",
    "        f'0x{getReserves_4b}',\n",
    "    ],\n",
    "    [\n",
    "        MULTICALL3_ADDRESS,\n",
    "        f'0x{getBloclTimestamp_4b}'\n",
    "    ],\n",
    "]"
   ]
  },
  {
   "cell_type": "code",
   "execution_count": 133,
   "id": "b82350dd-0722-4f4c-ab25-e78883cf8c09",
   "metadata": {},
   "outputs": [
    {
     "data": {
      "text/plain": [
       "[['0xB4e16d0168e52d35CaCD2c6185b44281Ec28C9Dc', '0x0902f1ac'],\n",
       " ['0x88e6A0c2dDD26FEEb64F039a2c41296FcB3f5640', '0x3850c7bd'],\n",
       " ['0x397FF1542f962076d0BFE58eA045FfA2d347ACa0', '0x0902f1ac'],\n",
       " ['0xcA11bde05977b3631167028862bE2a173976CA11', '0x0f28c97d']]"
      ]
     },
     "execution_count": 133,
     "metadata": {},
     "output_type": "execute_result"
    }
   ],
   "source": [
    "aggregate_calldata"
   ]
  },
  {
   "cell_type": "code",
   "execution_count": 134,
   "id": "10e6e76d-5bcb-400d-b835-c7300324b40f",
   "metadata": {},
   "outputs": [],
   "source": [
    "# Generate calldate (the input) via m3 Multicall3 encode ABIfor cryo \n",
    "calldata = m3.encode_abi(\"tryAggregate\", args=[False, aggregate_calldata])"
   ]
  },
  {
   "cell_type": "code",
   "execution_count": 135,
   "id": "47aff47e-0246-40b5-88a9-dfcb7d6cad74",
   "metadata": {},
   "outputs": [],
   "source": [
    "#  Call data passed to cryo collect \n",
    "cryo_kwargs = {\n",
    "    'rpc': 'https://eth.merkle.io',\n",
    "    'blocks': ['-1000:latest'], \n",
    "}\n",
    "            \n",
    "eth_call_uni_df = cryo.collect(\n",
    "    'eth_calls',\n",
    "    to_address = [MULTICALL3_ADDRESS],\n",
    "    call_data=[calldata],\n",
    "     output_format=\"polars\",\n",
    "    **cryo_kwargs,\n",
    ")"
   ]
  },
  {
   "cell_type": "code",
   "execution_count": 136,
   "id": "8a585b4c-0a6c-423b-9794-cce8f785aaaa",
   "metadata": {},
   "outputs": [
    {
     "data": {
      "text/plain": [
       "'00000000000000000000000000000000000000000000000000000000000000200000000000000000000000000000000000000000000000000000000000000004000000000000000000000000000000000000000000000000000000000000008000000000000000000000000000000000000000000000000000000000000001400000000000000000000000000000000000000000000000000000000000000280000000000000000000000000000000000000000000000000000000000000034000000000000000000000000000000000000000000000000000000000000000010000000000000000000000000000000000000000000000000000000000000040000000000000000000000000000000000000000000000000000000000000006000000000000000000000000000000000000000000000000000000a6ff929ba53000000000000000000000000000000000000000000000104be591ff161fe38760000000000000000000000000000000000000000000000000000000067bf22070000000000000000000000000000000000000000000000000000000000000001000000000000000000000000000000000000000000000000000000000000004000000000000000000000000000000000000000000000000000000000000000e00000000000000000000000000000000000004ff7a5c82112ad6b2de202034af8000000000000000000000000000000000000000000000000000000000003079100000000000000000000000000000000000000000000000000000000000000ec00000000000000000000000000000000000000000000000000000000000002d300000000000000000000000000000000000000000000000000000000000002d300000000000000000000000000000000000000000000000000000000000000000000000000000000000000000000000000000000000000000000000000000001000000000000000000000000000000000000000000000000000000000000000100000000000000000000000000000000000000000000000000000000000000400000000000000000000000000000000000000000000000000000000000000060000000000000000000000000000000000000000000000000000002d52dacd2ec000000000000000000000000000000000000000000000046ae3fbff1b7c57afc0000000000000000000000000000000000000000000000000000000067bf21cb0000000000000000000000000000000000000000000000000000000000000001000000000000000000000000000000000000000000000000000000000000004000000000000000000000000000000000000000000000000000000000000000200000000000000000000000000000000000000000000000000000000067bf224f'"
      ]
     },
     "execution_count": 136,
     "metadata": {},
     "output_type": "execute_result"
    }
   ],
   "source": [
    "#  We can get Hex format to undestand the data\n",
    "eth_call_uni_df['output_data'][0].hex()"
   ]
  },
  {
   "cell_type": "code",
   "execution_count": 137,
   "id": "5e7e0a5d-e7e3-46e1-8ad8-e0557084da17",
   "metadata": {},
   "outputs": [],
   "source": [
    "output_data=eth_call_uni_df['output_data'][0]"
   ]
  },
  {
   "cell_type": "code",
   "execution_count": 138,
   "id": "3abf485f-7a7b-4ed5-98dc-b0e572bfd97f",
   "metadata": {},
   "outputs": [],
   "source": [
    "# It returns binary output\n",
    "aggregated_data_uniV2V3 = decode(['(bool,bytes)[]'], output_data)[0]"
   ]
  },
  {
   "cell_type": "code",
   "execution_count": 139,
   "id": "c89b0254-8203-482a-afb6-2c28862d88df",
   "metadata": {},
   "outputs": [
    {
     "data": {
      "text/plain": [
       "[2385.9354056673096, 2386.1316794956897, 2385.9354056673096, 1740579407]"
      ]
     },
     "execution_count": 139,
     "metadata": {},
     "output_type": "execute_result"
    }
   ],
   "source": [
    "decode_outputdata_uniV2V3_price(output_data)"
   ]
  },
  {
   "cell_type": "code",
   "execution_count": 140,
   "id": "3db4c076-9fb5-4aa3-b71c-05d754b72c44",
   "metadata": {},
   "outputs": [],
   "source": [
    "prices = [decode_outputdata_uniV2V3_price(x) for x in eth_call_uni_df['output_data'].to_list()]"
   ]
  },
  {
   "cell_type": "markdown",
   "id": "72b88dc3-aa47-47e9-b726-5b0a6bae054f",
   "metadata": {},
   "source": [
    "### Prices list to dataframe  and Time as DF index"
   ]
  },
  {
   "cell_type": "code",
   "execution_count": 155,
   "id": "ec01997b-f677-4bfd-bf53-dbd2c529eddb",
   "metadata": {},
   "outputs": [],
   "source": [
    "df_prices = pd.DataFrame(prices, columns=['eth/usdc uniV2','eth/usdc uniV3', 'eth/usdc sushiV2','timestamp'])"
   ]
  },
  {
   "cell_type": "code",
   "execution_count": 156,
   "id": "3b14b329-891a-46cc-a677-5bcb8108076a",
   "metadata": {},
   "outputs": [],
   "source": [
    "df_prices['Date'] = pd.to_datetime(df_prices['timestamp'], unit='s')"
   ]
  },
  {
   "cell_type": "code",
   "execution_count": 157,
   "id": "28c28d44-213e-49eb-a81b-5d57f6010eca",
   "metadata": {},
   "outputs": [],
   "source": [
    "df_prices = df_prices.set_index('Date')"
   ]
  },
  {
   "cell_type": "code",
   "execution_count": 158,
   "id": "7288514f-5079-435b-ba68-8b4f7782ade4",
   "metadata": {},
   "outputs": [],
   "source": [
    "df_prices = df_prices.drop('timestamp', axis=1)"
   ]
  },
  {
   "cell_type": "code",
   "execution_count": 159,
   "id": "3be006d4-556d-4830-9caa-b1321ae38ed8",
   "metadata": {},
   "outputs": [
    {
     "data": {
      "text/html": [
       "<div>\n",
       "<style scoped>\n",
       "    .dataframe tbody tr th:only-of-type {\n",
       "        vertical-align: middle;\n",
       "    }\n",
       "\n",
       "    .dataframe tbody tr th {\n",
       "        vertical-align: top;\n",
       "    }\n",
       "\n",
       "    .dataframe thead th {\n",
       "        text-align: right;\n",
       "    }\n",
       "</style>\n",
       "<table border=\"1\" class=\"dataframe\">\n",
       "  <thead>\n",
       "    <tr style=\"text-align: right;\">\n",
       "      <th></th>\n",
       "      <th>eth/usdc uniV2</th>\n",
       "      <th>eth/usdc uniV3</th>\n",
       "      <th>eth/usdc sushiV2</th>\n",
       "    </tr>\n",
       "    <tr>\n",
       "      <th>Date</th>\n",
       "      <th></th>\n",
       "      <th></th>\n",
       "      <th></th>\n",
       "    </tr>\n",
       "  </thead>\n",
       "  <tbody>\n",
       "    <tr>\n",
       "      <th>2025-02-26 14:16:47</th>\n",
       "      <td>2385.935406</td>\n",
       "      <td>2386.131679</td>\n",
       "      <td>2385.935406</td>\n",
       "    </tr>\n",
       "    <tr>\n",
       "      <th>2025-02-26 14:16:59</th>\n",
       "      <td>2386.130434</td>\n",
       "      <td>2386.117192</td>\n",
       "      <td>2386.130434</td>\n",
       "    </tr>\n",
       "    <tr>\n",
       "      <th>2025-02-26 14:17:11</th>\n",
       "      <td>2386.130434</td>\n",
       "      <td>2385.419546</td>\n",
       "      <td>2386.130434</td>\n",
       "    </tr>\n",
       "    <tr>\n",
       "      <th>2025-02-26 14:17:23</th>\n",
       "      <td>2386.130434</td>\n",
       "      <td>2388.059524</td>\n",
       "      <td>2386.130434</td>\n",
       "    </tr>\n",
       "    <tr>\n",
       "      <th>2025-02-26 14:17:35</th>\n",
       "      <td>2386.130434</td>\n",
       "      <td>2389.141117</td>\n",
       "      <td>2386.130434</td>\n",
       "    </tr>\n",
       "  </tbody>\n",
       "</table>\n",
       "</div>"
      ],
      "text/plain": [
       "                     eth/usdc uniV2  eth/usdc uniV3  eth/usdc sushiV2\n",
       "Date                                                                 \n",
       "2025-02-26 14:16:47     2385.935406     2386.131679       2385.935406\n",
       "2025-02-26 14:16:59     2386.130434     2386.117192       2386.130434\n",
       "2025-02-26 14:17:11     2386.130434     2385.419546       2386.130434\n",
       "2025-02-26 14:17:23     2386.130434     2388.059524       2386.130434\n",
       "2025-02-26 14:17:35     2386.130434     2389.141117       2386.130434"
      ]
     },
     "execution_count": 159,
     "metadata": {},
     "output_type": "execute_result"
    }
   ],
   "source": [
    "df_prices.head()"
   ]
  },
  {
   "cell_type": "code",
   "execution_count": 151,
   "id": "ff45b216-3b84-4045-9275-e02e6d10a439",
   "metadata": {},
   "outputs": [
    {
     "data": {
      "image/png": "[encoded data removed]",
      "text/plain": [
       "<Figure size 1200x600 with 1 Axes>"
      ]
     },
     "metadata": {},
     "output_type": "display_data"
    }
   ],
   "source": [
    "plt.figure(figsize=(12, 6))\n",
    "\n",
    "# Plot both price series\n",
    "df_prices['eth/usdc uniV2'].plot(label='ETH/USDC UniV2', color='blue')\n",
    "df_prices['eth/usdc uniV3'].plot(label='ETH/USDC UniV3', color='red', linestyle='--')\n",
    "df_prices['eth/usdc SushiV2'].plot(label='ETH/USDC SushiV3', color='black', linestyle='--')\n",
    "\n",
    "# Add labels and title\n",
    "plt.xlabel('Time')\n",
    "plt.ylabel('Price (USDC)')\n",
    "plt.title('ETH/USDC Prices Comparison: Uniswap V2 vs V3 vs Sushi V2')\n",
    "plt.legend()\n",
    "plt.grid(True, alpha=0.3)  # Add a light grid\n",
    "plt.tight_layout()\n",
    "\n",
    "# Format x-axis to show time better\n",
    "plt.gcf().autofmt_xdate()  # Auto-format the date labels\n",
    "\n",
    "plt.show()"
   ]
  },
  {
   "cell_type": "code",
   "execution_count": 152,
   "id": "453de8f2-8cbc-47ef-9068-f56bece189dc",
   "metadata": {},
   "outputs": [
    {
     "data": {
      "text/html": [
       "<div>\n",
       "<style scoped>\n",
       "    .dataframe tbody tr th:only-of-type {\n",
       "        vertical-align: middle;\n",
       "    }\n",
       "\n",
       "    .dataframe tbody tr th {\n",
       "        vertical-align: top;\n",
       "    }\n",
       "\n",
       "    .dataframe thead th {\n",
       "        text-align: right;\n",
       "    }\n",
       "</style>\n",
       "<table border=\"1\" class=\"dataframe\">\n",
       "  <thead>\n",
       "    <tr style=\"text-align: right;\">\n",
       "      <th></th>\n",
       "      <th>eth/usdc uniV2</th>\n",
       "      <th>eth/usdc uniV3</th>\n",
       "      <th>eth/usdc SushiV2</th>\n",
       "    </tr>\n",
       "  </thead>\n",
       "  <tbody>\n",
       "    <tr>\n",
       "      <th>count</th>\n",
       "      <td>1000.000000</td>\n",
       "      <td>1000.000000</td>\n",
       "      <td>1000.000000</td>\n",
       "    </tr>\n",
       "    <tr>\n",
       "      <th>mean</th>\n",
       "      <td>2411.140894</td>\n",
       "      <td>2411.403491</td>\n",
       "      <td>2411.140894</td>\n",
       "    </tr>\n",
       "    <tr>\n",
       "      <th>std</th>\n",
       "      <td>22.114063</td>\n",
       "      <td>21.469629</td>\n",
       "      <td>22.114063</td>\n",
       "    </tr>\n",
       "    <tr>\n",
       "      <th>min</th>\n",
       "      <td>2370.787276</td>\n",
       "      <td>2369.230983</td>\n",
       "      <td>2370.787276</td>\n",
       "    </tr>\n",
       "    <tr>\n",
       "      <th>25%</th>\n",
       "      <td>2393.288708</td>\n",
       "      <td>2395.588342</td>\n",
       "      <td>2393.288708</td>\n",
       "    </tr>\n",
       "    <tr>\n",
       "      <th>50%</th>\n",
       "      <td>2401.469088</td>\n",
       "      <td>2403.491327</td>\n",
       "      <td>2401.469088</td>\n",
       "    </tr>\n",
       "    <tr>\n",
       "      <th>75%</th>\n",
       "      <td>2433.831949</td>\n",
       "      <td>2431.741454</td>\n",
       "      <td>2433.831949</td>\n",
       "    </tr>\n",
       "    <tr>\n",
       "      <th>max</th>\n",
       "      <td>2450.697452</td>\n",
       "      <td>2456.725214</td>\n",
       "      <td>2450.697452</td>\n",
       "    </tr>\n",
       "  </tbody>\n",
       "</table>\n",
       "</div>"
      ],
      "text/plain": [
       "       eth/usdc uniV2  eth/usdc uniV3  eth/usdc SushiV2\n",
       "count     1000.000000     1000.000000       1000.000000\n",
       "mean      2411.140894     2411.403491       2411.140894\n",
       "std         22.114063       21.469629         22.114063\n",
       "min       2370.787276     2369.230983       2370.787276\n",
       "25%       2393.288708     2395.588342       2393.288708\n",
       "50%       2401.469088     2403.491327       2401.469088\n",
       "75%       2433.831949     2431.741454       2433.831949\n",
       "max       2450.697452     2456.725214       2450.697452"
      ]
     },
     "execution_count": 152,
     "metadata": {},
     "output_type": "execute_result"
    }
   ],
   "source": [
    "df_prices.describe()"
   ]
  },
  {
   "cell_type": "markdown",
   "id": "e893e179-2bee-493e-b672-7323ab8e26ac",
   "metadata": {},
   "source": [
    "### Check Volatility "
   ]
  },
  {
   "cell_type": "code",
   "execution_count": 177,
   "id": "33f8a565-ae7d-4abb-8e57-dff2651fcfe4",
   "metadata": {},
   "outputs": [],
   "source": [
    "#  Calc The changes and add columns\n",
    "df_prices['vol_eth/usdc uniV2'] = df_prices['eth/usdc uniV2'].pct_change().abs() * 100\n",
    "df_prices['vol_eth/usdc uniV3'] = df_prices['eth/usdc uniV3'].pct_change().abs() * 100\n",
    "df_prices['vol_eth/usdc sushiV2'] = df_prices['eth/usdc sushiV2'].pct_change().abs() * 100"
   ]
  },
  {
   "cell_type": "code",
   "execution_count": 178,
   "id": "8ced272c-a543-4b99-a5af-ab64f02bf07c",
   "metadata": {},
   "outputs": [
    {
     "data": {
      "text/html": [
       "<div>\n",
       "<style scoped>\n",
       "    .dataframe tbody tr th:only-of-type {\n",
       "        vertical-align: middle;\n",
       "    }\n",
       "\n",
       "    .dataframe tbody tr th {\n",
       "        vertical-align: top;\n",
       "    }\n",
       "\n",
       "    .dataframe thead th {\n",
       "        text-align: right;\n",
       "    }\n",
       "</style>\n",
       "<table border=\"1\" class=\"dataframe\">\n",
       "  <thead>\n",
       "    <tr style=\"text-align: right;\">\n",
       "      <th></th>\n",
       "      <th>eth/usdc uniV2</th>\n",
       "      <th>eth/usdc uniV3</th>\n",
       "      <th>eth/usdc sushiV2</th>\n",
       "      <th>vol_eth/usdc uniV2</th>\n",
       "      <th>vol_eth/usdc uniV3</th>\n",
       "      <th>vol_eth/usdc sushiV2</th>\n",
       "    </tr>\n",
       "    <tr>\n",
       "      <th>Date</th>\n",
       "      <th></th>\n",
       "      <th></th>\n",
       "      <th></th>\n",
       "      <th></th>\n",
       "      <th></th>\n",
       "      <th></th>\n",
       "    </tr>\n",
       "  </thead>\n",
       "  <tbody>\n",
       "    <tr>\n",
       "      <th>2025-02-26 14:16:47</th>\n",
       "      <td>2385.935406</td>\n",
       "      <td>2386.131679</td>\n",
       "      <td>2385.935406</td>\n",
       "      <td>NaN</td>\n",
       "      <td>NaN</td>\n",
       "      <td>NaN</td>\n",
       "    </tr>\n",
       "    <tr>\n",
       "      <th>2025-02-26 14:16:59</th>\n",
       "      <td>2386.130434</td>\n",
       "      <td>2386.117192</td>\n",
       "      <td>2386.130434</td>\n",
       "      <td>0.008174</td>\n",
       "      <td>0.000607</td>\n",
       "      <td>0.008174</td>\n",
       "    </tr>\n",
       "    <tr>\n",
       "      <th>2025-02-26 14:17:11</th>\n",
       "      <td>2386.130434</td>\n",
       "      <td>2385.419546</td>\n",
       "      <td>2386.130434</td>\n",
       "      <td>0.000000</td>\n",
       "      <td>0.029238</td>\n",
       "      <td>0.000000</td>\n",
       "    </tr>\n",
       "    <tr>\n",
       "      <th>2025-02-26 14:17:23</th>\n",
       "      <td>2386.130434</td>\n",
       "      <td>2388.059524</td>\n",
       "      <td>2386.130434</td>\n",
       "      <td>0.000000</td>\n",
       "      <td>0.110671</td>\n",
       "      <td>0.000000</td>\n",
       "    </tr>\n",
       "    <tr>\n",
       "      <th>2025-02-26 14:17:35</th>\n",
       "      <td>2386.130434</td>\n",
       "      <td>2389.141117</td>\n",
       "      <td>2386.130434</td>\n",
       "      <td>0.000000</td>\n",
       "      <td>0.045292</td>\n",
       "      <td>0.000000</td>\n",
       "    </tr>\n",
       "  </tbody>\n",
       "</table>\n",
       "</div>"
      ],
      "text/plain": [
       "                     eth/usdc uniV2  eth/usdc uniV3  eth/usdc sushiV2  \\\n",
       "Date                                                                    \n",
       "2025-02-26 14:16:47     2385.935406     2386.131679       2385.935406   \n",
       "2025-02-26 14:16:59     2386.130434     2386.117192       2386.130434   \n",
       "2025-02-26 14:17:11     2386.130434     2385.419546       2386.130434   \n",
       "2025-02-26 14:17:23     2386.130434     2388.059524       2386.130434   \n",
       "2025-02-26 14:17:35     2386.130434     2389.141117       2386.130434   \n",
       "\n",
       "                     vol_eth/usdc uniV2  vol_eth/usdc uniV3  \\\n",
       "Date                                                          \n",
       "2025-02-26 14:16:47                 NaN                 NaN   \n",
       "2025-02-26 14:16:59            0.008174            0.000607   \n",
       "2025-02-26 14:17:11            0.000000            0.029238   \n",
       "2025-02-26 14:17:23            0.000000            0.110671   \n",
       "2025-02-26 14:17:35            0.000000            0.045292   \n",
       "\n",
       "                     vol_eth/usdc sushiV2  \n",
       "Date                                       \n",
       "2025-02-26 14:16:47                   NaN  \n",
       "2025-02-26 14:16:59              0.008174  \n",
       "2025-02-26 14:17:11              0.000000  \n",
       "2025-02-26 14:17:23              0.000000  \n",
       "2025-02-26 14:17:35              0.000000  "
      ]
     },
     "execution_count": 178,
     "metadata": {},
     "output_type": "execute_result"
    }
   ],
   "source": [
    "df_prices.head()"
   ]
  },
  {
   "cell_type": "code",
   "execution_count": 179,
   "id": "6d9c72c8-1abb-429a-994d-862bb2d3423e",
   "metadata": {},
   "outputs": [],
   "source": [
    "vol_eth_usdc_uniV2= df_prices['vol_eth/usdc uniV2'].std()\n",
    "vol_eth_usdc_uniV3= df_prices['vol_eth/usdc uniV3'].std()\n",
    "vol_eth_usdc_sushiV2= df_prices['vol_eth/usdc sushiV2'].std()"
   ]
  },
  {
   "cell_type": "code",
   "execution_count": 181,
   "id": "886d69c5-37b5-42f7-aed0-f18262b7326d",
   "metadata": {},
   "outputs": [
    {
     "name": "stdout",
     "output_type": "stream",
     "text": [
      "ETH/USDC UniV2: 0.0410%\n",
      "ETH/USDC UniV3: 0.0492%\n",
      "ETH/USDC SushiV2: 0.0410%\n"
     ]
    }
   ],
   "source": [
    "print(f\"ETH/USDC UniV2: {vol_eth_usdc_uniV2:.4f}%\")\n",
    "print(f\"ETH/USDC UniV3: {vol_eth_usdc_uniV3:.4f}%\")\n",
    "print(f\"ETH/USDC SushiV2: {vol_eth_usdc_sushiV2:.4f}%\")"
   ]
  },
  {
   "cell_type": "markdown",
   "id": "9ce23f2c-d213-482c-a6f3-573c568ecffc",
   "metadata": {},
   "source": [
    "## Test UniV3 Prices"
   ]
  },
  {
   "cell_type": "code",
   "execution_count": 50,
   "id": "c5bb64ce-a9a3-416c-8573-1c69c42a207d",
   "metadata": {},
   "outputs": [],
   "source": [
    "usdc_eth_slot0_raw = aggregated_data_uniV2V3[1]"
   ]
  },
  {
   "cell_type": "code",
   "execution_count": 51,
   "id": "9d413ce4-9c24-46ce-92c0-0c9e47d0cfc1",
   "metadata": {},
   "outputs": [
    {
     "data": {
      "text/plain": [
       "(True,\n",
       " b'\\x00\\x00\\x00\\x00\\x00\\x00\\x00\\x00\\x00\\x00\\x00\\x00\\x00\\x00\\x00\\x00\\x00\\x00O\\xab\\x15\\x91\\xfb\\x84\\xef\\xb3\\xb0r,\\xf4\\xb9\\x94\\x00\\x00\\x00\\x00\\x00\\x00\\x00\\x00\\x00\\x00\\x00\\x00\\x00\\x00\\x00\\x00\\x00\\x00\\x00\\x00\\x00\\x00\\x00\\x00\\x00\\x00\\x00\\x00\\x00\\x03\\x07F\\x00\\x00\\x00\\x00\\x00\\x00\\x00\\x00\\x00\\x00\\x00\\x00\\x00\\x00\\x00\\x00\\x00\\x00\\x00\\x00\\x00\\x00\\x00\\x00\\x00\\x00\\x00\\x00\\x00\\x00\\x02\\xa0\\x00\\x00\\x00\\x00\\x00\\x00\\x00\\x00\\x00\\x00\\x00\\x00\\x00\\x00\\x00\\x00\\x00\\x00\\x00\\x00\\x00\\x00\\x00\\x00\\x00\\x00\\x00\\x00\\x00\\x00\\x02\\xd3\\x00\\x00\\x00\\x00\\x00\\x00\\x00\\x00\\x00\\x00\\x00\\x00\\x00\\x00\\x00\\x00\\x00\\x00\\x00\\x00\\x00\\x00\\x00\\x00\\x00\\x00\\x00\\x00\\x00\\x00\\x02\\xd3\\x00\\x00\\x00\\x00\\x00\\x00\\x00\\x00\\x00\\x00\\x00\\x00\\x00\\x00\\x00\\x00\\x00\\x00\\x00\\x00\\x00\\x00\\x00\\x00\\x00\\x00\\x00\\x00\\x00\\x00\\x00\\x00\\x00\\x00\\x00\\x00\\x00\\x00\\x00\\x00\\x00\\x00\\x00\\x00\\x00\\x00\\x00\\x00\\x00\\x00\\x00\\x00\\x00\\x00\\x00\\x00\\x00\\x00\\x00\\x00\\x00\\x00\\x00\\x01')"
      ]
     },
     "execution_count": 51,
     "metadata": {},
     "output_type": "execute_result"
    }
   ],
   "source": [
    "usdc_eth_slot0_raw"
   ]
  },
  {
   "cell_type": "code",
   "execution_count": 52,
   "id": "462ac1cc-4954-4228-adc8-25f12de215d4",
   "metadata": {},
   "outputs": [],
   "source": [
    "usdc_eth_slot0_sqrt_ratioX96 = decode(['uint160', 'int24', 'uint16', 'uint16', 'uint16', 'uint8', 'bool'], usdc_eth_slot0_raw[1])[0]"
   ]
  },
  {
   "cell_type": "code",
   "execution_count": 53,
   "id": "2139ef89-0781-47f9-b36d-aa8025ab2f7e",
   "metadata": {},
   "outputs": [
    {
     "data": {
      "text/plain": [
       "1615865050145637487349013352331668"
      ]
     },
     "execution_count": 53,
     "metadata": {},
     "output_type": "execute_result"
    }
   ],
   "source": [
    "usdc_eth_slot0_sqrt_ratioX96"
   ]
  },
  {
   "cell_type": "code",
   "execution_count": 54,
   "id": "9524a8d5-48e8-4ee6-9552-b1e6fdae32ab",
   "metadata": {},
   "outputs": [],
   "source": [
    "usdc_eth_price = (usdc_eth_slot0_sqrt_ratioX96**2 / 2**192)/1e12"
   ]
  },
  {
   "cell_type": "code",
   "execution_count": 55,
   "id": "b75cbc88-5733-41f0-a5ae-f36303dbb452",
   "metadata": {},
   "outputs": [
    {
     "data": {
      "text/plain": [
       "0.00041595946192217004"
      ]
     },
     "execution_count": 55,
     "metadata": {},
     "output_type": "execute_result"
    }
   ],
   "source": [
    "usdc_eth_price"
   ]
  },
  {
   "cell_type": "code",
   "execution_count": 56,
   "id": "f4fd319e-2dc2-433a-a42e-eafb8d4b95f5",
   "metadata": {},
   "outputs": [
    {
     "data": {
      "text/plain": [
       "2404.080424998505"
      ]
     },
     "execution_count": 56,
     "metadata": {},
     "output_type": "execute_result"
    }
   ],
   "source": [
    "1/usdc_eth_price"
   ]
  },
  {
   "cell_type": "markdown",
   "id": "f6993812-bbb3-41c2-a44f-5a63c77ffc24",
   "metadata": {},
   "source": [
    "## Test UniV2 Prices"
   ]
  },
  {
   "cell_type": "code",
   "execution_count": 208,
   "id": "92de2b11-92e8-4c2a-bb3d-f2c7ca790779",
   "metadata": {},
   "outputs": [],
   "source": [
    "# To get them we will used binary format\n",
    "decoded_data = decode(['(bool,bytes)[]'], output_data)[0]"
   ]
  },
  {
   "cell_type": "code",
   "execution_count": 209,
   "id": "1386e473-1b8f-4da7-8e95-86d907caa1cd",
   "metadata": {},
   "outputs": [
    {
     "data": {
      "text/plain": [
       "(11676567161113, 4726825701020660918420, 1740570683)"
      ]
     },
     "execution_count": 209,
     "metadata": {},
     "output_type": "execute_result"
    }
   ],
   "source": [
    "reserves_data_uniV2"
   ]
  },
  {
   "cell_type": "code",
   "execution_count": 210,
   "id": "7d2b30bf-3854-4f27-89ee-94628e6e9dfa",
   "metadata": {},
   "outputs": [
    {
     "name": "stdout",
     "output_type": "stream",
     "text": [
      "Reserves univ2: 11676567161113 4726825701020660918420 1740570683\n"
     ]
    }
   ],
   "source": [
    "#  Arg of tryAggregate was get reserve: the eth_call output are the vaue of getReserves() in UNIV2\n",
    "print(\"Reserves univ2:\",int('a9ea9a34919',16),int('1003de253484b43e894', 16),int('67bf003b', 16))"
   ]
  },
  {
   "cell_type": "code",
   "execution_count": 211,
   "id": "7a7b82de-3e4b-4c5c-9965-6b2f44c695f6",
   "metadata": {},
   "outputs": [
    {
     "name": "stdout",
     "output_type": "stream",
     "text": [
      "ETH/USDC: 2429.380063025579\n"
     ]
    }
   ],
   "source": [
    "#  Call the function with data on reserves we get the price\n",
    "decode_outputdata_uniV2_price(output_data)"
   ]
  }
 ],
 "metadata": {
  "kernelspec": {
   "display_name": "Python 3 (ipykernel)",
   "language": "python",
   "name": "python3"
  },
  "language_info": {
   "codemirror_mode": {
    "name": "ipython",
    "version": 3
   },
   "file_extension": ".py",
   "mimetype": "text/x-python",
   "name": "python",
   "nbconvert_exporter": "python",
   "pygments_lexer": "ipython3",
   "version": "3.12.8"
  }
 },
 "nbformat": 4,
 "nbformat_minor": 5
}
