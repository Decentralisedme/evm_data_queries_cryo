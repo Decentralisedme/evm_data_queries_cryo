{
 "cells": [
  {
   "cell_type": "code",
   "execution_count": 1,
   "id": "b98493b7-f212-4cf8-8ed1-4288a8f20693",
   "metadata": {},
   "outputs": [],
   "source": [
    "import cryo\n",
    "import polars as pl\n",
    "import binascii\n",
    "import web3\n",
    "import json\n",
    "from eth_abi import decode\n",
    "import seaborn as sns\n",
    "import matplotlib.pyplot as plt\n",
    "from datetime import datetime\n",
    "import pandas as pd"
   ]
  },
  {
   "cell_type": "code",
   "execution_count": 2,
   "id": "191b0c0e-8b7a-4001-aaec-2f02611f5f1e",
   "metadata": {},
   "outputs": [],
   "source": [
    "MULTICALL3_ADDRESS = '0xcA11bde05977b3631167028862bE2a173976CA11'\n",
    "AAVE_POOL_DATA_PROVIDER_ADDRESS = \"0x7B4EB56E7CD4b454BA8ff71E4518426369a138a3\"\n",
    "RATE_STRATEGY_V2= \"0x9ec6F08190DeA04A54f8Afc53Db96134e5E3FdFB\"\n",
    "DAI_ADDRESS = \"0x6b175474e89094c44da98b954eedeac495271d0f\"  # DAI on Ethereum Mainnet\n",
    "WETH_ADDRESS = '0xC02aaA39b223FE8D0A0e5C4F27eAD9083C756Cc2'  # WETH\n",
    "USDC_ADDRESS = '0xA0b86991c6218b36c1d19D4a2e9Eb0cE3606eB48'   # USDC"
   ]
  },
  {
   "cell_type": "code",
   "execution_count": 3,
   "id": "3e54851d-7e72-4d60-8d48-35102d0b383b",
   "metadata": {},
   "outputs": [],
   "source": [
    "MULTICALL3_ABI=json.loads('[{\"inputs\":[{\"internalType\":\"bool\",\"name\":\"requireSuccess\",\"type\":\"bool\"},{\"components\":[{\"internalType\":\"address\",\"name\":\"target\",\"type\":\"address\"},{\"internalType\":\"bytes\",\"name\":\"callData\",\"type\":\"bytes\"}],\"internalType\":\"struct Multicall3.Call[]\",\"name\":\"calls\",\"type\":\"tuple[]\"}],\"name\":\"tryAggregate\",\"outputs\":[{\"components\":[{\"internalType\":\"bool\",\"name\":\"success\",\"type\":\"bool\"},{\"internalType\":\"bytes\",\"name\":\"returnData\",\"type\":\"bytes\"}],\"internalType\":\"struct Multicall3.Result[]\",\"name\":\"returnData\",\"type\":\"tuple[]\"}],\"stateMutability\":\"payable\",\"type\":\"function\"}]')\n",
    "AAVE_POOL_DATA_PROVIDER_ABI = json.loads('[{\"inputs\":[{\"internalType\":\"address\",\"name\":\"asset\",\"type\":\"address\"}],\"name\":\"getReserveData\",\"outputs\":[{\"internalType\":\"uint256\",\"name\":\"unbacked\",\"type\":\"uint256\"},{\"internalType\":\"uint256\",\"name\":\"accruedToTreasuryScaled\",\"type\":\"uint256\"},{\"internalType\":\"uint256\",\"name\":\"totalAToken\",\"type\":\"uint256\"},{\"internalType\":\"uint256\",\"name\":\"totalStableDebt\",\"type\":\"uint256\"},{\"internalType\":\"uint256\",\"name\":\"totalVariableDebt\",\"type\":\"uint256\"},{\"internalType\":\"uint256\",\"name\":\"liquidityRate\",\"type\":\"uint256\"},{\"internalType\":\"uint256\",\"name\":\"variableBorrowRate\",\"type\":\"uint256\"},{\"internalType\":\"uint256\",\"name\":\"stableBorrowRate\",\"type\":\"uint256\"},{\"internalType\":\"uint256\",\"name\":\"averageStableBorrowRate\",\"type\":\"uint256\"},{\"internalType\":\"uint256\",\"name\":\"liquidityIndex\",\"type\":\"uint256\"},{\"internalType\":\"uint256\",\"name\":\"variableBorrowIndex\",\"type\":\"uint256\"},{\"internalType\":\"uint40\",\"name\":\"lastUpdateTimestamp\",\"type\":\"uint40\"}],\"stateMutability\":\"view\",\"type\":\"function\"},{\"inputs\":[{\"internalType\":\"address\",\"name\":\"asset\",\"type\":\"address\"}],\"name\":\"getReserveTokensAddresses\",\"outputs\":[{\"internalType\":\"address\",\"name\":\"aTokenAddress\",\"type\":\"address\"},{\"internalType\":\"address\",\"name\":\"stableDebtTokenAddress\",\"type\":\"address\"},{\"internalType\":\"address\",\"name\":\"variableDebtTokenAddress\",\"type\":\"address\"}],\"stateMutability\":\"view\",\"type\":\"function\"},{\"inputs\":[],\"name\":\"getAllReservesTokens\",\"outputs\":[{\"components\":[{\"internalType\":\"string\",\"name\":\"symbol\",\"type\":\"string\"},{\"internalType\":\"address\",\"name\":\"tokenAddress\",\"type\":\"address\"}],\"internalType\":\"struct IPoolDataProvider.TokenData[]\",\"name\":\"\",\"type\":\"tuple[]\"}],\"stateMutability\":\"view\",\"type\":\"function\"}]')\n",
    "RATE_STRATEGY_V2_ABI = json.loads('[{\"inputs\":[{\"internalType\":\"address\",\"name\":\"reserve\",\"type\":\"address\"}],\"name\":\"getInterestRateData\",\"outputs\":[{\"components\":[{\"internalType\":\"uint256\",\"name\":\"optimalUsageRatio\",\"type\":\"uint256\"},{\"internalType\":\"uint256\",\"name\":\"baseVariableBorrowRate\",\"type\":\"uint256\"},{\"internalType\":\"uint256\",\"name\":\"variableRateSlope1\",\"type\":\"uint256\"},{\"internalType\":\"uint256\",\"name\":\"variableRateSlope2\",\"type\":\"uint256\"}],\"internalType\":\"struct IDefaultInterestRateStrategyV2.InterestRateDataRay\",\"name\":\"\",\"type\":\"tuple\"}],\"stateMutability\":\"view\",\"type\":\"function\"} ]')"
   ]
  },
  {
   "cell_type": "code",
   "execution_count": 4,
   "id": "9cafd649-ac85-4589-96f6-272dd53d96de",
   "metadata": {},
   "outputs": [],
   "source": [
    "# Funct Sig 4 Bytes\n",
    "getAllReservesTokens_4b='b316ff89'\n",
    "getReserveData_4b='35ea6a75'\n",
    "getReserveTokensAddresses_4b='d2493b6c'\n",
    "getIntRateData_4b='131e889c'"
   ]
  },
  {
   "cell_type": "code",
   "execution_count": 5,
   "id": "27267ad1-0ee9-4acf-a26e-b9fbd9f9940c",
   "metadata": {},
   "outputs": [],
   "source": [
    "# web3 instance, function from web3py\n",
    "w3 = web3.Web3()\n",
    "a3 = w3.eth.contract(address = AAVE_POOL_DATA_PROVIDER_ADDRESS, abi=AAVE_POOL_DATA_PROVIDER_ABI)\n",
    "m3 = w3.eth.contract(address = MULTICALL3_ADDRESS, abi=MULTICALL3_ABI)"
   ]
  },
  {
   "cell_type": "code",
   "execution_count": 38,
   "id": "b35b91e3-e80e-4322-a584-c04baa981527",
   "metadata": {},
   "outputs": [],
   "source": [
    "tokens = [\n",
    "    '0xC02aaA39b223FE8D0A0e5C4F27eAD9083C756Cc2',  # WETH\n",
    "    '0x6B175474E89094C44Da98b954EedeAC495271d0F',  # DAI\n",
    "    '0xA0b86991c6218b36c1d19D4a2e9Eb0cE3606eB48'   # USDC\n",
    "]"
   ]
  },
  {
   "cell_type": "code",
   "execution_count": 7,
   "id": "b9b20983-e0b2-46f4-9db7-138d2f8e7828",
   "metadata": {},
   "outputs": [],
   "source": [
    "calls = []\n",
    "for token in tokens:\n",
    "    # Encode the call to getReserveData for this token\n",
    "    calldata = a3.encode_abi(\"getReserveData\", args=[token])\n",
    "    calls.append([AAVE_POOL_DATA_PROVIDER_ADDRESS, calldata])"
   ]
  },
  {
   "cell_type": "code",
   "execution_count": 8,
   "id": "68db7a1f-1999-42f5-a00b-50daea739335",
   "metadata": {},
   "outputs": [],
   "source": [
    "calldata_aave_pool = m3.encode_abi(\"tryAggregate\", args=[False, calls])"
   ]
  },
  {
   "cell_type": "code",
   "execution_count": 9,
   "id": "8da852a4-87de-4bc2-ae67-0cdb02990b50",
   "metadata": {},
   "outputs": [],
   "source": [
    "cryo_kwargs = {\n",
    "    'rpc': 'https://eth.merkle.io',\n",
    "    'blocks': ['latest'], \n",
    "}\n",
    "            \n",
    "eth_call_df = cryo.collect(\n",
    "    'eth_calls',\n",
    "    to_address = [MULTICALL3_ADDRESS],\n",
    "    call_data=[calldata_aave_pool],\n",
    "     output_format=\"polars\",\n",
    "    **cryo_kwargs,\n",
    ")"
   ]
  },
  {
   "cell_type": "code",
   "execution_count": 10,
   "id": "71758330-91cb-48c5-a0ad-882e6b5dfb0e",
   "metadata": {},
   "outputs": [],
   "source": [
    "calldata = eth_call_df['output_data'][0]\n",
    "decoded_data = decode(['(bool,bytes)[]'] , calldata)[0]"
   ]
  },
  {
   "cell_type": "markdown",
   "id": "be7c42b7-54f9-473c-9024-0c27a5e5f4f6",
   "metadata": {},
   "source": [
    "### decoded_data: \n",
    "((True,  b'\\x00\\x00\\x00\\x00\\x00\\x00\\x00\\x00\\x00\\x00\\x00\\x00\\x00\\x00\\x00\\x00\\x00\\x00\\x00\\x00\\x00\\x00\\x00\\x00\\x00\\x00\\x00\\x00\\x00\\x00\\x00\\x00\\x00\\x00\\x00\\x00\\x00\\x00\\x00\\x00\\x00\\x00\\x00\\x00\\x00\\x00\\x00\\x00\\x00\\x00\\x00\\x00\\x00\\x00\\x00\\x01\\x8e\\xc3\\xa7\\xb0[K\\xb1\\x91\\x00\\x00\\x00\\x00\\x00\\x00\\x00\\x00\\x00\\x00\\x00\\x00\\x00\\x00\\x00\\x00\\x00\\x00\\x00\\x00\\x00\\x01\\xd2\\x19\\x1c\\xcaO\\xb6\\xb7R\\xf2\\xff\\x00\\x00\\x00\\x00\\x00\\x00\\x00\\x00\\x00\\x00\\x00\\x00\\x00\\x00\\x00\\x00\\x00\\x00\\x00\\x00\\x00\\x00\\x00\\x00\\x00\\x00\\x00\\x00\\x00\\x00\\x00\\x00\\x00\\x00\\x00\\x00\\x00\\x00\\x00\\x00\\x00\\x00\\x00\\x00\\x00\\x00\\x00\\x00\\x00\\x00\\x00\\x00\\x00\\x01\\x93H\\x90\\xe8T\\xf8U\\xd6>\\xf3\\x00\\x00\\x00\\x00\\x00\\x00\\x00\\x00\\x00\\x00\\x00\\x00\\x00\\x00\\x00\\x00\\x00\\x00\\x00\\x00\\x00\\x0f\\xca[\\xcd\\xac\\xda+\\xac[\\xa6\\xdd\\x00\\x00\\x00\\x00\\x00\\x00\\x00\\x00\\x00\\x00\\x00\\x00\\x00\\x00\\x00\\x00\\x00\\x00\\x00\\x00\\x00\\x15x\\x88\\x1f\\xc6\\xbd\\xb0,\\xa4\\xc2\\x08\\x00\\x00\\x00\\x00\\x00\\x00\\x00\\x00\\x00\\x00\\x00\\x00\\x00\\x00\\x00\\x00\\x00\\x00\\x00\\x00\\x00\\x00\\x00\\x00\\x00\\x00\\x00\\x00\\x00\\x00\\x00\\x00\\x00\\x00\\x00\\x00\\x00\\x00\\x00\\x00\\x00\\x00\\x00\\x00\\x00\\x00\\x00\\x00\\x00\\x00\\x00\\x00\\x00\\x00\\x00\\x00\\x00\\x00\\x00\\x00\\x00\\x00\\x00\\x00\\x00\\x00\\x00\\x00\\x00\\x00\\x00\\x00\\x00\\x00\\x00\\x00\\x00\\x00\\x00\\x00\\x00\\x00\\x00\\x00\\x03]\\xf0M\\\\4\\xe5\\x0f\\xbb\\xab\\xb0\\xab\\x00\\x00\\x00\\x00\\x00\\x00\\x00\\x00\\x00\\x00\\x00\\x00\\x00\\x00\\x00\\x00\\x00\\x00\\x00\\x00\\x03r#\\xf2]U\\xa6\\xc3\\x92LZh\\x00\\x00\\x00\\x00\\x00\\x00\\x00\\x00\\x00\\x00\\x00\\x00\\x00\\x00\\x00\\x00\\x00\\x00\\x00\\x00\\x00\\x00\\x00\\x00\\x00\\x00\\x00\\x00g\\xdd\\xc7['),\n",
    " (True,\n",
    "  b'\\x00\\x00\\x00\\x00\\x00\\x00\\x00\\x00\\x00\\x00\\x00\\x00\\x00\\x00\\x00\\x00\\x00\\x00\\x00\\x00\\x00\\x00\\x00\\x00\\x00\\x00\\x00\\x00\\x00\\x00\\x00\\x00\\x00\\x00\\x00\\x00\\x00\\x00\\x00\\x00\\x00\\x00\\x00\\x00\\x00\\x00\\x00\\x00\\x00\\x00\\x00\\x00\\x00\\x00\\x019S{%\\xc3\\xc0\\x91FN\\x00\\x00\\x00\\x00\\x00\\x00\\x00\\x00\\x00\\x00\\x00\\x00\\x00\\x00\\x00\\x00\\x00\\x00\\x00\\x00\\x00\\x8cl\\x04UWDv\\xb6\\xaf\\x9ef\\x00\\x00\\x00\\x00\\x00\\x00\\x00\\x00\\x00\\x00\\x00\\x00\\x00\\x00\\x00\\x00\\x00\\x00\\x00\\x00\\x00\\x00\\x00\\x00\\x00\\x00\\x00\\x00\\x00\\x00\\x00\\x00\\x00\\x00\\x00\\x00\\x00\\x00\\x00\\x00\\x00\\x00\\x00\\x00\\x00\\x00\\x00\\x00\\x00\\x00\\x00\\x00\\x00h\\xd1\\x07\\x03\\xcb+\\xf6\\xd3w&\\xac\\x00\\x00\\x00\\x00\\x00\\x00\\x00\\x00\\x00\\x00\\x00\\x00\\x00\\x00\\x00\\x00\\x00\\x00\\x00\\x00\\x00\\x18kt\\x18.$&\\xedl\\x97\\x9f\\x00\\x00\\x00\\x00\\x00\\x00\\x00\\x00\\x00\\x00\\x00\\x00\\x00\\x00\\x00\\x00\\x00\\x00\\x00\\x00\\x00+\\x9f)j\\x16\\xa8\\x9a\\x99T\\x95G\\x00\\x00\\x00\\x00\\x00\\x00\\x00\\x00\\x00\\x00\\x00\\x00\\x00\\x00\\x00\\x00\\x00\\x00\\x00\\x00\\x00\\x00\\x00\\x00\\x00\\x00\\x00\\x00\\x00\\x00\\x00\\x00\\x00\\x00\\x00\\x00\\x00\\x00\\x00\\x00\\x00\\x00\\x00\\x00\\x00\\x00\\x00\\x00\\x00\\x00\\x00\\x00\\x00\\x00\\x00\\x00\\x00\\x00\\x00\\x00\\x00\\x00\\x00\\x00\\x00\\x00\\x00\\x00\\x00\\x00\\x00\\x00\\x00\\x00\\x00\\x00\\x00\\x00\\x00\\x00\\x00\\x00\\x00\\x00\\x03\\x9f3&g\\xd9\\x04s\\xf7i\\xc2\\t\\x00\\x00\\x00\\x00\\x00\\x00\\x00\\x00\\x00\\x00\\x00\\x00\\x00\\x00\\x00\\x00\\x00\\x00\\x00\\x00\\x03\\xce\\x04\\xbaCo\\x1bc\\xd4\\xa0\\xe0\\xf6\\x00\\x00\\x00\\x00\\x00\\x00\\x00\\x00\\x00\\x00\\x00\\x00\\x00\\x00\\x00\\x00\\x00\\x00\\x00\\x00\\x00\\x00\\x00\\x00\\x00\\x00\\x00\\x00g\\xdd\\xb9\\xcf'),\n",
    " (True,\n",
    "  b\"\\x00\\x00\\x00\\x00\\x00\\x00\\x00\\x00\\x00\\x00\\x00\\x00\\x00\\x00\\x00\\x00\\x00\\x00\\x00\\x00\\x00\\x00\\x00\\x00\\x00\\x00\\x00\\x00\\x00\\x00\\x00\\x00\\x00\\x00\\x00\\x00\\x00\\x00\\x00\\x00\\x00\\x00\\x00\\x00\\x00\\x00\\x00\\x00\\x00\\x00\\x00\\x00\\x00\\x00\\x00\\x00\\x00\\x00\\x00\\x06\\xeel>\\xaf\\x00\\x00\\x00\\x00\\x00\\x00\\x00\\x00\\x00\\x00\\x00\\x00\\x00\\x00\\x00\\x00\\x00\\x00\\x00\\x00\\x00\\x00\\x00\\x00\\x00\\t\\xe3\\x1d\\rE.\\xdf\\x00\\x00\\x00\\x00\\x00\\x00\\x00\\x00\\x00\\x00\\x00\\x00\\x00\\x00\\x00\\x00\\x00\\x00\\x00\\x00\\x00\\x00\\x00\\x00\\x00\\x00\\x00\\x00\\x00\\x00\\x00\\x00\\x00\\x00\\x00\\x00\\x00\\x00\\x00\\x00\\x00\\x00\\x00\\x00\\x00\\x00\\x00\\x00\\x00\\x00\\x00\\x00\\x00\\x00\\x00\\x00\\x00\\x06\\xde\\xa0\\xcdi\\xe8\\xc7\\x00\\x00\\x00\\x00\\x00\\x00\\x00\\x00\\x00\\x00\\x00\\x00\\x00\\x00\\x00\\x00\\x00\\x00\\x00\\x00\\x00\\x19d#\\xa5!`'k\\x11Ay\\x00\\x00\\x00\\x00\\x00\\x00\\x00\\x00\\x00\\x00\\x00\\x00\\x00\\x00\\x00\\x00\\x00\\x00\\x00\\x00\\x00(\\x9a\\xf6\\xd7\\t\\x19\\xe9\\x82\\xfc\\xd2,\\x00\\x00\\x00\\x00\\x00\\x00\\x00\\x00\\x00\\x00\\x00\\x00\\x00\\x00\\x00\\x00\\x00\\x00\\x00\\x00\\x00\\x00\\x00\\x00\\x00\\x00\\x00\\x00\\x00\\x00\\x00\\x00\\x00\\x00\\x00\\x00\\x00\\x00\\x00\\x00\\x00\\x00\\x00\\x00\\x00\\x00\\x00\\x00\\x00\\x00\\x00\\x00\\x00\\x00\\x00\\x00\\x00\\x00\\x00\\x00\\x00\\x00\\x00\\x00\\x00\\x00\\x00\\x00\\x00\\x00\\x00\\x00\\x00\\x00\\x00\\x00\\x00\\x00\\x00\\x00\\x00\\x00\\x00\\x00\\x03\\xa1\\xcf\\xc6Dv\\x86\\xcf^\\xab\\x8d\\xe9\\x00\\x00\\x00\\x00\\x00\\x00\\x00\\x00\\x00\\x00\\x00\\x00\\x00\\x00\\x00\\x00\\x00\\x00\\x00\\x00\\x03\\xc2A\\x8a\\x85s\\x99\\xf0\\xd9\\xa4\\x8f\\xd9\\x00\\x00\\x00\\x00\\x00\\x00\\x00\\x00\\x00\\x00\\x00\\x00\\x00\\x00\\x00\\x00\\x00\\x00\\x00\\x00\\x00\\x00\\x00\\x00\\x00\\x00\\x00\\x00g\\xdd\\xc7+\"))"
   ]
  },
  {
   "cell_type": "code",
   "execution_count": 14,
   "id": "f91ce72a-c19c-4eb2-9913-19ebe5d8866a",
   "metadata": {},
   "outputs": [],
   "source": [
    "token_data = {\n",
    "    'WETH_POOL': [],\n",
    "    'DAI_POOL': [],\n",
    "    'USDC_POOL': []\n",
    "}"
   ]
  },
  {
   "cell_type": "markdown",
   "id": "7b8a112d-a1d6-487d-bc5f-2e87d7a96a4e",
   "metadata": {},
   "source": [
    "####  WETH Pools Data"
   ]
  },
  {
   "cell_type": "code",
   "execution_count": 15,
   "id": "dfb7f795-c7eb-4f3f-8467-e12773379ff6",
   "metadata": {},
   "outputs": [],
   "source": [
    "weth_reserve_data = decoded_data[0]\n",
    "weth_data = decode(['int256', 'uint256', 'uint256', 'uint256', 'uint256', 'uint256', 'uint256', 'uint256', 'uint256', 'uint256', 'uint256', 'uint40'],weth_reserve_data[1])\n",
    "token_data['WETH_POOL'] = list(weth_data)"
   ]
  },
  {
   "cell_type": "markdown",
   "id": "e50da593-fb28-4ade-8dea-7ffb6b02fd08",
   "metadata": {},
   "source": [
    "####  DAI Pools Data"
   ]
  },
  {
   "cell_type": "code",
   "execution_count": 18,
   "id": "8fdbcb3f-570f-40cc-9e61-b30a1216fa61",
   "metadata": {},
   "outputs": [],
   "source": [
    "dai_reserve_data = decoded_data[1]\n",
    "dai_data=decode(['int256', 'uint256', 'uint256', 'uint256', 'uint256', 'uint256', 'uint256', 'uint256', 'uint256', 'uint256', 'uint256', 'uint40'],dai_reserve_data[1])\n",
    "token_data['DAI_POOL'] = list(dai_data)"
   ]
  },
  {
   "cell_type": "markdown",
   "id": "2b634033-9348-4ab3-8b38-456bf283e1cb",
   "metadata": {},
   "source": [
    "####  USDC Pools Data"
   ]
  },
  {
   "cell_type": "code",
   "execution_count": 19,
   "id": "74eb62b8-ad34-488b-aae7-fb24157dd3b6",
   "metadata": {},
   "outputs": [],
   "source": [
    "usdc_reserve_data = decoded_data[2]\n",
    "usdc_data=decode(['int256', 'uint256', 'uint256', 'uint256', 'uint256', 'uint256', 'uint256', 'uint256', 'uint256', 'uint256', 'uint256', 'uint40'],usdc_reserve_data[1])\n",
    "token_data['USDC_POOL'] = list(usdc_data)"
   ]
  },
  {
   "cell_type": "markdown",
   "id": "6a0bb37e-b635-4c2c-ac2b-d2e136fd6649",
   "metadata": {},
   "source": [
    "#### token_data\n",
    "{'WETH_POOL': [0,\n",
    "  28733994423441666449,\n",
    "  2201086024177321944216319,\n",
    "  0,\n",
    "  1904452299858935736057587,\n",
    "  19089498797930168402552541,\n",
    "  25956637236771619518857736,\n",
    "  0,\n",
    "  0,\n",
    "  1042019925687565315922964651,\n",
    "  1066442326564534184835832424,\n",
    "  1742587739],\n",
    " 'DAI_POOL': [0,\n",
    "  5779846338321052681806,\n",
    "  169759710262633393839644262,\n",
    "  0,\n",
    "  126715389235410247481763500,\n",
    "  29521654449100557988435871,\n",
    "  52735430475195149651842375,\n",
    "  0,\n",
    "  0,\n",
    "  1120915783932679549792928265,\n",
    "  1177516073724110643260350710,\n",
    "  1742584271],\n",
    " 'USDC_POOL': [0,\n",
    "  29769875119,\n",
    "  2782988706590431,\n",
    "  0,\n",
    "  1933632082667719,\n",
    "  30696039673592686629175673,\n",
    "  49088830616933708561437228,\n",
    "  0,\n",
    "  0,\n",
    "  1124073273672549781388103145,\n",
    "  1163296147557540854013136857,\n",
    "  1742587691]}"
   ]
  },
  {
   "cell_type": "markdown",
   "id": "ae8983ca-00ed-4a1d-8575-f195fc74f751",
   "metadata": {},
   "source": [
    "### Aave Pool DataFrame"
   ]
  },
  {
   "cell_type": "code",
   "execution_count": 22,
   "id": "da492933-2f06-4e26-bd69-9301666a52ea",
   "metadata": {},
   "outputs": [],
   "source": [
    "field_names = [\n",
    "    'unbacked', 'accruedToTreasuryScaled', 'totalAToken', 'totalStableDebt', \n",
    "    'totalVariableDebt', 'liquidityRate', 'variableBorrowRate', 'stableBorrowRate', \n",
    "    'averageStableBorrowRate', 'liquidityIndex', 'variableBorrowIndex', 'lastUpdateTimestamp'\n",
    "]"
   ]
  },
  {
   "cell_type": "code",
   "execution_count": 23,
   "id": "162c3320-0bc7-4a31-86ff-9b9932dee226",
   "metadata": {},
   "outputs": [],
   "source": [
    "aave_pooldata_df = pd.DataFrame(token_data, index=field_names)"
   ]
  },
  {
   "cell_type": "code",
   "execution_count": 24,
   "id": "b124c4f7-13da-4163-aa60-b97be78a2ae8",
   "metadata": {},
   "outputs": [],
   "source": [
    "# Convert token amounts - DAI and WETH (18 decimals)\n",
    "aave_pooldata_df.loc['totalAToken', 'WETH_POOL'] = aave_pooldata_df.loc['totalAToken', 'WETH_POOL'] / 1e18\n",
    "aave_pooldata_df.loc['totalAToken', 'DAI_POOL'] = aave_pooldata_df.loc['totalAToken', 'DAI_POOL'] / 1e18\n",
    "aave_pooldata_df.loc['totalVariableDebt', 'WETH_POOL'] = aave_pooldata_df.loc['totalVariableDebt', 'WETH_POOL'] / 1e18\n",
    "aave_pooldata_df.loc['totalVariableDebt', 'DAI_POOL'] = aave_pooldata_df.loc['totalVariableDebt', 'DAI_POOL'] / 1e18\n",
    "# Convert token amounts - USDC (6 decimals)\n",
    "aave_pooldata_df.loc['totalAToken', 'USDC_POOL'] = aave_pooldata_df.loc['totalAToken', 'USDC_POOL'] / 1e6\n",
    "aave_pooldata_df.loc['totalVariableDebt', 'USDC_POOL'] = aave_pooldata_df.loc['totalVariableDebt', 'USDC_POOL'] / 1e6\n",
    "# Convert interest rates from ray (10^27) to percentages\n",
    "aave_pooldata_df.loc['liquidityRate'] = (aave_pooldata_df.loc['liquidityRate'] / 1e27)\n",
    "aave_pooldata_df.loc['variableBorrowRate'] = (aave_pooldata_df.loc['variableBorrowRate'] / 1e27)"
   ]
  },
  {
   "cell_type": "code",
   "execution_count": 26,
   "id": "3a23b7fc-364b-4fe8-8d61-060e4253b003",
   "metadata": {},
   "outputs": [],
   "source": [
    "# Format timestamps (this does convert to strings, but that's probably what you want for timestamps)\n",
    "from datetime import datetime\n",
    "aave_pooldata_df.loc['lastUpdateTimestamp'] = aave_pooldata_df.loc['lastUpdateTimestamp'].apply(\n",
    "    lambda x: datetime.fromtimestamp(int(x)).strftime('%Y-%m-%d %H:%M:%S')\n",
    ")"
   ]
  },
  {
   "cell_type": "code",
   "execution_count": 32,
   "id": "a2ce5505-175b-4293-8c06-de03351f1236",
   "metadata": {},
   "outputs": [],
   "source": [
    "def display_formatted_df(aave_pooldata_df):\n",
    "    # Make a copy to avoid modifying the original\n",
    "    display_df = aave_pooldata_df.copy()\n",
    "    \n",
    "    # Format token amounts with commas and 2 decimal places\n",
    "    display_df.loc['totalAToken'] = display_df.loc['totalAToken'].apply(lambda x: f\"{x:,.2f}\")\n",
    "    display_df.loc['totalVariableDebt'] = display_df.loc['totalVariableDebt'].apply(lambda x: f\"{x:,.2f}\")\n",
    "    \n",
    "    return display_df"
   ]
  },
  {
   "cell_type": "code",
   "execution_count": 33,
   "id": "657345f5-3343-452e-9d79-7fcb50439a38",
   "metadata": {},
   "outputs": [
    {
     "data": {
      "text/html": [
       "<div>\n",
       "<style scoped>\n",
       "    .dataframe tbody tr th:only-of-type {\n",
       "        vertical-align: middle;\n",
       "    }\n",
       "\n",
       "    .dataframe tbody tr th {\n",
       "        vertical-align: top;\n",
       "    }\n",
       "\n",
       "    .dataframe thead th {\n",
       "        text-align: right;\n",
       "    }\n",
       "</style>\n",
       "<table border=\"1\" class=\"dataframe\">\n",
       "  <thead>\n",
       "    <tr style=\"text-align: right;\">\n",
       "      <th></th>\n",
       "      <th>WETH_POOL</th>\n",
       "      <th>DAI_POOL</th>\n",
       "      <th>USDC_POOL</th>\n",
       "    </tr>\n",
       "  </thead>\n",
       "  <tbody>\n",
       "    <tr>\n",
       "      <th>unbacked</th>\n",
       "      <td>0</td>\n",
       "      <td>0</td>\n",
       "      <td>0</td>\n",
       "    </tr>\n",
       "    <tr>\n",
       "      <th>accruedToTreasuryScaled</th>\n",
       "      <td>28733994423441666449</td>\n",
       "      <td>5779846338321052681806</td>\n",
       "      <td>29769875119</td>\n",
       "    </tr>\n",
       "    <tr>\n",
       "      <th>totalAToken</th>\n",
       "      <td>2,201,086.02</td>\n",
       "      <td>169,759,710.26</td>\n",
       "      <td>2,782,988,706.59</td>\n",
       "    </tr>\n",
       "    <tr>\n",
       "      <th>totalStableDebt</th>\n",
       "      <td>0</td>\n",
       "      <td>0</td>\n",
       "      <td>0</td>\n",
       "    </tr>\n",
       "    <tr>\n",
       "      <th>totalVariableDebt</th>\n",
       "      <td>1,904,452.30</td>\n",
       "      <td>126,715,389.24</td>\n",
       "      <td>1,933,632,082.67</td>\n",
       "    </tr>\n",
       "    <tr>\n",
       "      <th>liquidityRate</th>\n",
       "      <td>0.019089</td>\n",
       "      <td>0.029522</td>\n",
       "      <td>0.030696</td>\n",
       "    </tr>\n",
       "    <tr>\n",
       "      <th>variableBorrowRate</th>\n",
       "      <td>0.025957</td>\n",
       "      <td>0.052735</td>\n",
       "      <td>0.049089</td>\n",
       "    </tr>\n",
       "    <tr>\n",
       "      <th>stableBorrowRate</th>\n",
       "      <td>0</td>\n",
       "      <td>0</td>\n",
       "      <td>0</td>\n",
       "    </tr>\n",
       "    <tr>\n",
       "      <th>averageStableBorrowRate</th>\n",
       "      <td>0</td>\n",
       "      <td>0</td>\n",
       "      <td>0</td>\n",
       "    </tr>\n",
       "    <tr>\n",
       "      <th>liquidityIndex</th>\n",
       "      <td>1042019925687565315922964651</td>\n",
       "      <td>1120915783932679549792928265</td>\n",
       "      <td>1124073273672549781388103145</td>\n",
       "    </tr>\n",
       "    <tr>\n",
       "      <th>variableBorrowIndex</th>\n",
       "      <td>1066442326564534184835832424</td>\n",
       "      <td>1177516073724110643260350710</td>\n",
       "      <td>1163296147557540854013136857</td>\n",
       "    </tr>\n",
       "    <tr>\n",
       "      <th>lastUpdateTimestamp</th>\n",
       "      <td>2025-03-21 20:08:59</td>\n",
       "      <td>2025-03-21 19:11:11</td>\n",
       "      <td>2025-03-21 20:08:11</td>\n",
       "    </tr>\n",
       "  </tbody>\n",
       "</table>\n",
       "</div>"
      ],
      "text/plain": [
       "                                            WETH_POOL  \\\n",
       "unbacked                                            0   \n",
       "accruedToTreasuryScaled          28733994423441666449   \n",
       "totalAToken                              2,201,086.02   \n",
       "totalStableDebt                                     0   \n",
       "totalVariableDebt                        1,904,452.30   \n",
       "liquidityRate                                0.019089   \n",
       "variableBorrowRate                           0.025957   \n",
       "stableBorrowRate                                    0   \n",
       "averageStableBorrowRate                             0   \n",
       "liquidityIndex           1042019925687565315922964651   \n",
       "variableBorrowIndex      1066442326564534184835832424   \n",
       "lastUpdateTimestamp               2025-03-21 20:08:59   \n",
       "\n",
       "                                             DAI_POOL  \\\n",
       "unbacked                                            0   \n",
       "accruedToTreasuryScaled        5779846338321052681806   \n",
       "totalAToken                            169,759,710.26   \n",
       "totalStableDebt                                     0   \n",
       "totalVariableDebt                      126,715,389.24   \n",
       "liquidityRate                                0.029522   \n",
       "variableBorrowRate                           0.052735   \n",
       "stableBorrowRate                                    0   \n",
       "averageStableBorrowRate                             0   \n",
       "liquidityIndex           1120915783932679549792928265   \n",
       "variableBorrowIndex      1177516073724110643260350710   \n",
       "lastUpdateTimestamp               2025-03-21 19:11:11   \n",
       "\n",
       "                                            USDC_POOL  \n",
       "unbacked                                            0  \n",
       "accruedToTreasuryScaled                   29769875119  \n",
       "totalAToken                          2,782,988,706.59  \n",
       "totalStableDebt                                     0  \n",
       "totalVariableDebt                    1,933,632,082.67  \n",
       "liquidityRate                                0.030696  \n",
       "variableBorrowRate                           0.049089  \n",
       "stableBorrowRate                                    0  \n",
       "averageStableBorrowRate                             0  \n",
       "liquidityIndex           1124073273672549781388103145  \n",
       "variableBorrowIndex      1163296147557540854013136857  \n",
       "lastUpdateTimestamp               2025-03-21 20:08:11  "
      ]
     },
     "execution_count": 33,
     "metadata": {},
     "output_type": "execute_result"
    }
   ],
   "source": [
    "display_formatted_df(aave_pooldata_df)"
   ]
  },
  {
   "cell_type": "code",
   "execution_count": 35,
   "id": "0a653a19-cb0a-4557-9586-5f357731d4e5",
   "metadata": {},
   "outputs": [
    {
     "data": {
      "text/plain": [
       "WETH_POOL    0.025957\n",
       "DAI_POOL     0.052735\n",
       "USDC_POOL    0.049089\n",
       "Name: variableBorrowRate, dtype: object"
      ]
     },
     "execution_count": 35,
     "metadata": {},
     "output_type": "execute_result"
    }
   ],
   "source": [
    "aave_pooldata_df.loc['variableBorrowRate']"
   ]
  },
  {
   "cell_type": "markdown",
   "id": "e90b4582-f1e3-4501-9d7b-d4919647a184",
   "metadata": {},
   "source": [
    "### Aave InterestRate Strategy"
   ]
  },
  {
   "cell_type": "code",
   "execution_count": 40,
   "id": "457bdc92-47aa-418a-a8d8-09cc3475c186",
   "metadata": {},
   "outputs": [],
   "source": [
    "a3_2 = w3.eth.contract(address = RATE_STRATEGY_V2, abi=RATE_STRATEGY_V2_ABI)"
   ]
  },
  {
   "cell_type": "code",
   "execution_count": 41,
   "id": "3eaf9291-a8c0-4622-a3f2-668bcd2fb158",
   "metadata": {},
   "outputs": [],
   "source": [
    "calls = []\n",
    "for token in tokens:\n",
    "    # Encode the call to getReserveData for this token\n",
    "    calldata = a3_2.encode_abi(\"getInterestRateData\", args=[token])\n",
    "    calls.append([RATE_STRATEGY_V2, calldata])"
   ]
  },
  {
   "cell_type": "code",
   "execution_count": 43,
   "id": "c8f5ba4e-1dc7-4363-b39d-6a344da37834",
   "metadata": {},
   "outputs": [],
   "source": [
    "calldata_strategy = m3.encode_abi(\"tryAggregate\", args=[False, calls])"
   ]
  },
  {
   "cell_type": "code",
   "execution_count": 47,
   "id": "2af442e3-29cf-4aa0-a3f1-9b88dae0c6d0",
   "metadata": {},
   "outputs": [],
   "source": [
    "cryo_kwargs = {\n",
    "    'rpc': 'https://eth.merkle.io',\n",
    "    'blocks': ['latest'], \n",
    "}\n",
    "            \n",
    "eth_call_strategy_df = cryo.collect(\n",
    "    'eth_calls',\n",
    "    to_address = [MULTICALL3_ADDRESS],\n",
    "    call_data=[calldata_strategy],\n",
    "     output_format=\"polars\",\n",
    "    **cryo_kwargs,\n",
    ")"
   ]
  },
  {
   "cell_type": "code",
   "execution_count": 49,
   "id": "3c661276-f788-40fd-b55f-d409e8b0396d",
   "metadata": {},
   "outputs": [],
   "source": [
    "strategy_calldata = eth_call_strategy_df['output_data'][0]\n",
    "strategy_decoded_data = decode(['(bool,bytes)[]'] , strategy_calldata)[0]"
   ]
  },
  {
   "cell_type": "code",
   "execution_count": 51,
   "id": "8972248f-6123-4a0f-a856-9001156f3959",
   "metadata": {},
   "outputs": [],
   "source": [
    "token_strategy_data = {\n",
    "    'WETH_STRATEGY': [],\n",
    "    'DAI_STRATEGY': [],\n",
    "    'USDC_STRATEGY': []\n",
    "}"
   ]
  },
  {
   "cell_type": "code",
   "execution_count": 60,
   "id": "ca0d6b26-f8b7-445a-86ad-a4ab5ca4d40c",
   "metadata": {},
   "outputs": [
    {
     "data": {
      "text/plain": [
       "(True,\n",
       " b'\\x00\\x00\\x00\\x00\\x00\\x00\\x00\\x00\\x00\\x00\\x00\\x00\\x00\\x00\\x00\\x00\\x00\\x00\\x00\\x00\\x02\\xe8vi\\xc3\\x08sj\\x04\\x00\\x00\\x00\\x00\\x00\\x00\\x00\\x00\\x00\\x00\\x00\\x00\\x00\\x00\\x00\\x00\\x00\\x00\\x00\\x00\\x00\\x00\\x00\\x00\\x00\\x00\\x00\\x00\\x00\\x00\\x00\\x00\\x00\\x00\\x00\\x00\\x00\\x00\\x00\\x00\\x00\\x00\\x00\\x00\\x00\\x00\\x00\\x00\\x00\\x00\\x00\\x00\\x00\\x00\\x00\\x00\\x16Ux\\xee\\xcf\\x9d\\x0f\\xfb\\x00\\x00\\x00\\x00\\x00\\x00\\x00\\x00\\x00\\x00\\x00\\x00\\x00\\x00\\x00\\x00\\x00\\x00\\x00\\x00\\x00\\x00\\x00\\x02\\x95\\xbe\\x96\\xe6@f\\x97 \\x00\\x00\\x00')"
      ]
     },
     "execution_count": 60,
     "metadata": {},
     "output_type": "execute_result"
    }
   ],
   "source": [
    "weth_strategy_data = strategy_decoded_data[0]\n",
    "weth_strategy_data\n",
    "# decode(['uint16', 'uint32', 'uint32', 'uint32'],weth_strategy_data[1])"
   ]
  },
  {
   "cell_type": "code",
   "execution_count": 61,
   "id": "befe7ccd-9d24-48d9-9c4b-49ef2a3439ab",
   "metadata": {},
   "outputs": [],
   "source": [
    "weth_strategy_data = strategy_decoded_data[0]\n",
    "weth_strategy = decode(['uint256', 'uint256', 'uint256', 'uint256'],weth_strategy_data[1])\n",
    "token_strategy_data['WETH_STRATEGY'] = list(weth_strategy)"
   ]
  },
  {
   "cell_type": "code",
   "execution_count": 63,
   "id": "d10915cf-5cd6-4710-8107-03827c6def29",
   "metadata": {},
   "outputs": [],
   "source": [
    "dai_strategy_data = strategy_decoded_data[1]\n",
    "dai_strategy = decode(['uint256', 'uint256', 'uint256', 'uint256'],dai_strategy_data[1])\n",
    "token_strategy_data['DAI_STRATEGY'] = list(dai_strategy)"
   ]
  },
  {
   "cell_type": "code",
   "execution_count": 64,
   "id": "d0825d93-2cb1-452a-a1d2-6a7eed504bdf",
   "metadata": {},
   "outputs": [],
   "source": [
    "usdc_strategy_data = strategy_decoded_data[2]\n",
    "usdc_strategy = decode(['uint256', 'uint256', 'uint256', 'uint256'],usdc_strategy_data[1])\n",
    "token_strategy_data['USDC_STRATEGY'] = list(usdc_strategy)"
   ]
  },
  {
   "cell_type": "code",
   "execution_count": 67,
   "id": "1a99d720-93ac-4ebf-a5b1-6be71f4d1f1b",
   "metadata": {},
   "outputs": [],
   "source": [
    "strategy_field_names = ['optimalUsageRatio', 'baseVariableBorrowRate','variableRateSlope1','variableRateSlope2']\n",
    "aave_strategy_df = pd.DataFrame(token_strategy_data, index=strategy_field_names)"
   ]
  },
  {
   "cell_type": "code",
   "execution_count": 71,
   "id": "da09403b-59d3-4bc4-ac76-d0b723f8607b",
   "metadata": {},
   "outputs": [],
   "source": [
    "aave_strategy_decimal_df = aave_strategy_df.map(lambda x: x / 1e27)"
   ]
  },
  {
   "cell_type": "code",
   "execution_count": 72,
   "id": "df556ad3-058f-4246-a279-b062d89af944",
   "metadata": {},
   "outputs": [
    {
     "data": {
      "text/html": [
       "<div>\n",
       "<style scoped>\n",
       "    .dataframe tbody tr th:only-of-type {\n",
       "        vertical-align: middle;\n",
       "    }\n",
       "\n",
       "    .dataframe tbody tr th {\n",
       "        vertical-align: top;\n",
       "    }\n",
       "\n",
       "    .dataframe thead th {\n",
       "        text-align: right;\n",
       "    }\n",
       "</style>\n",
       "<table border=\"1\" class=\"dataframe\">\n",
       "  <thead>\n",
       "    <tr style=\"text-align: right;\">\n",
       "      <th></th>\n",
       "      <th>WETH_STRATEGY</th>\n",
       "      <th>DAI_STRATEGY</th>\n",
       "      <th>USDC_STRATEGY</th>\n",
       "    </tr>\n",
       "  </thead>\n",
       "  <tbody>\n",
       "    <tr>\n",
       "      <th>optimalUsageRatio</th>\n",
       "      <td>0.900</td>\n",
       "      <td>0.920</td>\n",
       "      <td>0.920</td>\n",
       "    </tr>\n",
       "    <tr>\n",
       "      <th>baseVariableBorrowRate</th>\n",
       "      <td>0.000</td>\n",
       "      <td>0.000</td>\n",
       "      <td>0.000</td>\n",
       "    </tr>\n",
       "    <tr>\n",
       "      <th>variableRateSlope1</th>\n",
       "      <td>0.027</td>\n",
       "      <td>0.065</td>\n",
       "      <td>0.065</td>\n",
       "    </tr>\n",
       "    <tr>\n",
       "      <th>variableRateSlope2</th>\n",
       "      <td>0.800</td>\n",
       "      <td>0.350</td>\n",
       "      <td>0.350</td>\n",
       "    </tr>\n",
       "  </tbody>\n",
       "</table>\n",
       "</div>"
      ],
      "text/plain": [
       "                        WETH_STRATEGY  DAI_STRATEGY  USDC_STRATEGY\n",
       "optimalUsageRatio               0.900         0.920          0.920\n",
       "baseVariableBorrowRate          0.000         0.000          0.000\n",
       "variableRateSlope1              0.027         0.065          0.065\n",
       "variableRateSlope2              0.800         0.350          0.350"
      ]
     },
     "execution_count": 72,
     "metadata": {},
     "output_type": "execute_result"
    }
   ],
   "source": [
    "aave_strategy_decimal_df"
   ]
  },
  {
   "cell_type": "markdown",
   "id": "023ecc4f-6f5a-40ec-9aee-fafa8f960141",
   "metadata": {},
   "source": [
    "### Aave InterestRate Calculation"
   ]
  },
  {
   "cell_type": "code",
   "execution_count": null,
   "id": "955adb48-3312-4d79-9d94-431282bce868",
   "metadata": {},
   "outputs": [],
   "source": []
  }
 ],
 "metadata": {
  "kernelspec": {
   "display_name": "Python 3 (ipykernel)",
   "language": "python",
   "name": "python3"
  },
  "language_info": {
   "codemirror_mode": {
    "name": "ipython",
    "version": 3
   },
   "file_extension": ".py",
   "mimetype": "text/x-python",
   "name": "python",
   "nbconvert_exporter": "python",
   "pygments_lexer": "ipython3",
   "version": "3.12.8"
  }
 },
 "nbformat": 4,
 "nbformat_minor": 5
}
