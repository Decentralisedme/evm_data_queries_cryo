{
 "cells": [
  {
   "cell_type": "code",
   "execution_count": 1,
   "id": "500dbc3b-0801-4d80-87c7-b81ba9a9ded4",
   "metadata": {},
   "outputs": [],
   "source": [
    "import cryo\n",
    "import polars as pl\n",
    "import binascii\n",
    "import web3\n",
    "import json\n",
    "from eth_abi import decode\n",
    "import seaborn as sns\n",
    "import matplotlib.pyplot as plt\n",
    "from datetime import datetime\n",
    "import pandas as pd"
   ]
  },
  {
   "cell_type": "code",
   "execution_count": 2,
   "id": "80d0d77b-6ee0-4396-a043-a5a43a95cdef",
   "metadata": {},
   "outputs": [],
   "source": [
    "# Functions\n",
    "def bytes_to_hexstr(b: any) -> str:\n",
    "    if isinstance(b,list):\n",
    "        return [bytes_to_hexstr(a) for a in b]\n",
    "    return '0x' + b.hex()"
   ]
  },
  {
   "cell_type": "code",
   "execution_count": 3,
   "id": "313651a5-f0d2-4d3f-8d8d-6b837f3745ae",
   "metadata": {},
   "outputs": [],
   "source": [
    "# Function Signatures 4 bytes\n",
    "getBlocknumber_4b = '42cbb15c'"
   ]
  },
  {
   "cell_type": "code",
   "execution_count": 4,
   "id": "bc8c1613-5f1b-4716-b6bd-131c6d061fc5",
   "metadata": {},
   "outputs": [],
   "source": [
    "txs = cryo.collect('transactions', blocks=['latest'], rpc ='https://eth.merkle.io')"
   ]
  },
  {
   "cell_type": "code",
   "execution_count": 5,
   "id": "62322335-1832-4b97-ba42-b449c1f24d76",
   "metadata": {},
   "outputs": [
    {
     "data": {
      "text/html": [
       "<div><style>\n",
       ".dataframe > thead > tr,\n",
       ".dataframe > tbody > tr {\n",
       "  text-align: right;\n",
       "  white-space: pre-wrap;\n",
       "}\n",
       "</style>\n",
       "<small>shape: (5, 21)</small><table border=\"1\" class=\"dataframe\"><thead><tr><th>block_number</th><th>transaction_index</th><th>transaction_hash</th><th>nonce</th><th>from_address</th><th>to_address</th><th>value_binary</th><th>value_string</th><th>value_f64</th><th>input</th><th>gas_limit</th><th>gas_used</th><th>gas_price</th><th>transaction_type</th><th>max_priority_fee_per_gas</th><th>max_fee_per_gas</th><th>success</th><th>n_input_bytes</th><th>n_input_zero_bytes</th><th>n_input_nonzero_bytes</th><th>chain_id</th></tr><tr><td>u32</td><td>u64</td><td>binary</td><td>u64</td><td>binary</td><td>binary</td><td>binary</td><td>str</td><td>f64</td><td>binary</td><td>u64</td><td>u64</td><td>u64</td><td>u32</td><td>u64</td><td>u64</td><td>bool</td><td>u32</td><td>u32</td><td>u32</td><td>u64</td></tr></thead><tbody><tr><td>22491261</td><td>0</td><td>b&quot;\\xf2\\x9eUg\\x96&#x27;\\xb1&quot;\\x9d\\xb9l\\xde\\xaf\\xe0S\\x10Oy\\xea\\x9cb\\x08!2\\xc0\\xe9\\xf7&#x27;\\x0c\\xe57\\xc5&quot;</td><td>717</td><td>b&quot;\\xc0^\\xf5\\xe1\\xfd\\x01Bg\\xf6o\\xa2K&amp;\\x0f6\\x1a\\xf7\\xd7\\x91&quot;&quot;</td><td>b&quot;:\\x10\\xdc\\x1a\\x14]\\xa5\\x00\\xd5\\xfb\\xa3\\x8b\\x9e\\xc4\\x9c\\x8f\\xf1\\x1a\\x98\\x1f&quot;</td><td>b&quot;\\x00\\x00\\x00\\x00\\x00\\x00\\x00\\x00\\x00\\x00\\x00\\x00\\x00\\x00\\x00\\x00\\x00\\x00\\x00\\x00\\x00\\x00\\x00\\x00\\x00\\x00\\x00\\x00\\x00\\x00\\x00\\x00&quot;</td><td>&quot;0&quot;</td><td>0.0</td><td>b&quot;:W\\x12\\x99\\x00\\x00\\x00\\x00\\x00\\x00\\x00\\x00\\x00\\x00\\x00\\x00\\x00\\x00\\x00\\x00\\x00\\x00\\x00\\x00\\x00\\x00\\x00\\x00\\x00\\x00\\x00\\x00\\x00\\x00\\x00\\x80\\x00\\x00\\x00\\x00\\x00\\x00\\x00\\x00\\x00\\x00\\x00\\x00\\x00\\x00\\x00\\x00\\x00\\x00\\x00\\x00\\x00\\x00\\x00\\x00&quot;…</td><td>360783</td><td>188123</td><td>20577764919</td><td>2</td><td>19000000000</td><td>20577764919</td><td>true</td><td>388</td><td>312</td><td>76</td><td>1</td></tr><tr><td>22491261</td><td>1</td><td>b&quot;\\x8f^4I\\xd3\\x9c\\xa1\\xab\\xa9c\\xc7\\x9b\\xff\\x8dP\\xb9L\\xa9\\xf5\\x87\\xa6a\\x82C\\xe5\\x1bZn\\x92\\xee^\\xb0&quot;</td><td>50</td><td>b&quot;\\xa3\\x0e\\x01R\\x10Y\\xaa\\x92(\\xc1\\xd3N\\x93\\xac\\xbf\\x04\\x19F\\x10=&quot;</td><td>b&quot;\\xda\\xc1\\x7f\\x95\\x8d.\\xe5#\\xa2\\x20b\\x06\\x99E\\x97\\xc1=\\x83\\x1e\\xc7&quot;</td><td>b&quot;\\x00\\x00\\x00\\x00\\x00\\x00\\x00\\x00\\x00\\x00\\x00\\x00\\x00\\x00\\x00\\x00\\x00\\x00\\x00\\x00\\x00\\x00\\x00\\x00\\x00\\x00\\x00\\x00\\x00\\x00\\x00\\x00&quot;</td><td>&quot;0&quot;</td><td>0.0</td><td>b&quot;\\xa9\\x05\\x9c\\xbb\\x00\\x00\\x00\\x00\\x00\\x00\\x00\\x00\\x00\\x00\\x00\\x00\\x96B\\xb2&gt;\\xd1\\xe0\\x1d\\xf1\\x09+\\x92d\\x10Q\\x88\\x1a2/]N\\x00\\x00\\x00\\x00\\x00\\x00\\x00\\x00\\x00\\x00\\x00\\x00\\x00\\x00\\x00\\x00\\x00\\x00\\x00\\x00\\x00\\x00\\x00\\x00&quot;…</td><td>69355</td><td>41309</td><td>7820319851</td><td>0</td><td>null</td><td>null</td><td>true</td><td>68</td><td>40</td><td>28</td><td>1</td></tr><tr><td>22491261</td><td>2</td><td>b&quot;\\x7f\\x9a\\x09\\xd1\\xa56\\x9dj\\x98&#x27;\\xa9\\xa9\\x12\\xc8:\\xbf\\x8azL\\xb7V\\x1a\\x85\\x11S\\xa5\\xef\\xdbe\\x1b(F&quot;</td><td>13</td><td>b&quot;$\\x064\\xdc\\x88X$|\\xc3\\xe7&lt;\\x13\\xca\\xc3:`\\xdb\\x18/\\xc3&quot;</td><td>b&quot;\\xda\\xc1\\x7f\\x95\\x8d.\\xe5#\\xa2\\x20b\\x06\\x99E\\x97\\xc1=\\x83\\x1e\\xc7&quot;</td><td>b&quot;\\x00\\x00\\x00\\x00\\x00\\x00\\x00\\x00\\x00\\x00\\x00\\x00\\x00\\x00\\x00\\x00\\x00\\x00\\x00\\x00\\x00\\x00\\x00\\x00\\x00\\x00\\x00\\x00\\x00\\x00\\x00\\x00&quot;</td><td>&quot;0&quot;</td><td>0.0</td><td>b&quot;\\xa9\\x05\\x9c\\xbb\\x00\\x00\\x00\\x00\\x00\\x00\\x00\\x00\\x00\\x00\\x00\\x00\\x96B\\xb2&gt;\\xd1\\xe0\\x1d\\xf1\\x09+\\x92d\\x10Q\\x88\\x1a2/]N\\x00\\x00\\x00\\x00\\x00\\x00\\x00\\x00\\x00\\x00\\x00\\x00\\x00\\x00\\x00\\x00\\x00\\x00\\x00\\x00\\x00\\x00\\x00\\x00&quot;…</td><td>69355</td><td>41309</td><td>7820319851</td><td>0</td><td>null</td><td>null</td><td>true</td><td>68</td><td>40</td><td>28</td><td>1</td></tr><tr><td>22491261</td><td>3</td><td>b&quot;c\\x01_\\xe0n3\\xee\\xd1\\xf0\\xba&quot;-\\xa8\\x9b\\xe7f\\x1d9]\\x7f\\xec\\x93\\xcdEni\\xf1\\x11\\xfeB?\\x8a&quot;</td><td>6</td><td>b&quot;\\xf0.\\x14t\\xaf\\xfeE\\xcd\\x83\\xa7\\xd0\\xf1\\xd7o!\\xe3S\\xa6ep&quot;</td><td>b&quot;\\xda\\xc1\\x7f\\x95\\x8d.\\xe5#\\xa2\\x20b\\x06\\x99E\\x97\\xc1=\\x83\\x1e\\xc7&quot;</td><td>b&quot;\\x00\\x00\\x00\\x00\\x00\\x00\\x00\\x00\\x00\\x00\\x00\\x00\\x00\\x00\\x00\\x00\\x00\\x00\\x00\\x00\\x00\\x00\\x00\\x00\\x00\\x00\\x00\\x00\\x00\\x00\\x00\\x00&quot;</td><td>&quot;0&quot;</td><td>0.0</td><td>b&quot;\\xa9\\x05\\x9c\\xbb\\x00\\x00\\x00\\x00\\x00\\x00\\x00\\x00\\x00\\x00\\x00\\x00\\x96B\\xb2&gt;\\xd1\\xe0\\x1d\\xf1\\x09+\\x92d\\x10Q\\x88\\x1a2/]N\\x00\\x00\\x00\\x00\\x00\\x00\\x00\\x00\\x00\\x00\\x00\\x00\\x00\\x00\\x00\\x00\\x00\\x00\\x00\\x00\\x00\\x00\\x00\\x00&quot;…</td><td>69355</td><td>41321</td><td>7820319851</td><td>0</td><td>null</td><td>null</td><td>true</td><td>68</td><td>39</td><td>29</td><td>1</td></tr><tr><td>22491261</td><td>4</td><td>b&quot;N\\xfa\\x18\\x7f\\x02\\xb1)\\xd5\\xe9\\xf9&gt;4g\\xf7\\xb9q\\x02^f\\x80B\\x01\\xc4\\x8cW\\x8f{\\xe0\\xe2\\xa6f\\x10&quot;</td><td>101</td><td>b&quot;\\x16\\x80\\xcf\\x85\\xbc\\x02\\x80\\x9ca{\\x09e0w\\xfaf\\xe9u\\xf7/&quot;</td><td>b&quot;i\\xffVE\\xe5+&amp;@9\\x9br6\\xbd\\xb5\\xaf\\xbd\\x14\\xbcF\\x09&quot;</td><td>b&quot;\\x00\\x00\\x00\\x00\\x00\\x00\\x00\\x00\\x00\\x00\\x00\\x00\\x00\\x00\\x00\\x00\\x00\\x00\\x00\\x00\\x00\\x00\\x00\\x00\\x00ub\\x13\\xedH\\x84\\x00&quot;</td><td>&quot;33040410000000000&quot;</td><td>3.3040e16</td><td>b&quot;&quot;</td><td>21000</td><td>21000</td><td>7000000000</td><td>2</td><td>7000000000</td><td>7000000000</td><td>true</td><td>0</td><td>0</td><td>0</td><td>1</td></tr></tbody></table></div>"
      ],
      "text/plain": [
       "shape: (5, 21)\n",
       "┌────────────┬────────────┬────────────┬───────┬───┬────────────┬───────────┬───────────┬──────────┐\n",
       "│ block_numb ┆ transactio ┆ transactio ┆ nonce ┆ … ┆ n_input_by ┆ n_input_z ┆ n_input_n ┆ chain_id │\n",
       "│ er         ┆ n_index    ┆ n_hash     ┆ ---   ┆   ┆ tes        ┆ ero_bytes ┆ onzero_by ┆ ---      │\n",
       "│ ---        ┆ ---        ┆ ---        ┆ u64   ┆   ┆ ---        ┆ ---       ┆ tes       ┆ u64      │\n",
       "│ u32        ┆ u64        ┆ binary     ┆       ┆   ┆ u32        ┆ u32       ┆ ---       ┆          │\n",
       "│            ┆            ┆            ┆       ┆   ┆            ┆           ┆ u32       ┆          │\n",
       "╞════════════╪════════════╪════════════╪═══════╪═══╪════════════╪═══════════╪═══════════╪══════════╡\n",
       "│ 22491261   ┆ 0          ┆ b\"\\xf2\\x9e ┆ 717   ┆ … ┆ 388        ┆ 312       ┆ 76        ┆ 1        │\n",
       "│            ┆            ┆ Ug\\x96'\\xb ┆       ┆   ┆            ┆           ┆           ┆          │\n",
       "│            ┆            ┆ 1\"\\x9d\\xb9 ┆       ┆   ┆            ┆           ┆           ┆          │\n",
       "│            ┆            ┆ …          ┆       ┆   ┆            ┆           ┆           ┆          │\n",
       "│ 22491261   ┆ 1          ┆ b\"\\x8f^4I\\ ┆ 50    ┆ … ┆ 68         ┆ 40        ┆ 28        ┆ 1        │\n",
       "│            ┆            ┆ xd3\\x9c\\xa ┆       ┆   ┆            ┆           ┆           ┆          │\n",
       "│            ┆            ┆ 1\\xab\\xa9c ┆       ┆   ┆            ┆           ┆           ┆          │\n",
       "│            ┆            ┆ …          ┆       ┆   ┆            ┆           ┆           ┆          │\n",
       "│ 22491261   ┆ 2          ┆ b\"\\x7f\\x9a ┆ 13    ┆ … ┆ 68         ┆ 40        ┆ 28        ┆ 1        │\n",
       "│            ┆            ┆ \\x09\\xd1\\x ┆       ┆   ┆            ┆           ┆           ┆          │\n",
       "│            ┆            ┆ a56\\x9dj\\x ┆       ┆   ┆            ┆           ┆           ┆          │\n",
       "│            ┆            ┆ …          ┆       ┆   ┆            ┆           ┆           ┆          │\n",
       "│ 22491261   ┆ 3          ┆ b\"c\\x01_\\x ┆ 6     ┆ … ┆ 68         ┆ 39        ┆ 29        ┆ 1        │\n",
       "│            ┆            ┆ e0n3\\xee\\x ┆       ┆   ┆            ┆           ┆           ┆          │\n",
       "│            ┆            ┆ d1\\xf0\\xba ┆       ┆   ┆            ┆           ┆           ┆          │\n",
       "│            ┆            ┆ …          ┆       ┆   ┆            ┆           ┆           ┆          │\n",
       "│ 22491261   ┆ 4          ┆ b\"N\\xfa\\x1 ┆ 101   ┆ … ┆ 0          ┆ 0         ┆ 0         ┆ 1        │\n",
       "│            ┆            ┆ 8\\x7f\\x02\\ ┆       ┆   ┆            ┆           ┆           ┆          │\n",
       "│            ┆            ┆ xb1)\\xd5\\x ┆       ┆   ┆            ┆           ┆           ┆          │\n",
       "│            ┆            ┆ …          ┆       ┆   ┆            ┆           ┆           ┆          │\n",
       "└────────────┴────────────┴────────────┴───────┴───┴────────────┴───────────┴───────────┴──────────┘"
      ]
     },
     "execution_count": 5,
     "metadata": {},
     "output_type": "execute_result"
    }
   ],
   "source": [
    "txs.head()"
   ]
  },
  {
   "cell_type": "markdown",
   "id": "c65b52b3-c922-48f1-8404-e5e6e6ae3a6b",
   "metadata": {},
   "source": [
    "## Balance"
   ]
  },
  {
   "cell_type": "code",
   "execution_count": 11,
   "id": "35c9c5d3-0184-4a6c-baa1-3e9b4c11fa7d",
   "metadata": {},
   "outputs": [],
   "source": [
    "# ERC20s\n",
    "USDT_ADDR =\"0xdac17f958d2ee523a2206206994597c13d831ec7\"\n",
    "USDC_ADDR=\"0xa0b86991c6218b36c1d19d4a2e9eb0ce3606eb48\" \n",
    "# WALLET = Binance 18\n",
    "RANDOM_WALLET=\"0xf70da97812CB96acDF810712Aa562db8dfA3dbEF\" \n",
    "# block \n",
    "BLOCKS=\"21922375\"\n"
   ]
  },
  {
   "cell_type": "code",
   "execution_count": 12,
   "id": "6d60d6ec-1e9e-4cf8-addc-203c1b2b0017",
   "metadata": {},
   "outputs": [],
   "source": [
    "usdc_balance = cryo.collect('erc20_balances', blocks=[BLOCKS], contract=['0xa0b86991c6218b36c1d19d4a2e9eb0ce3606eb48'], address=['0xf70da97812CB96acDF810712Aa562db8dfA3dbEF'], rpc='https://eth.merkle.io')"
   ]
  },
  {
   "cell_type": "code",
   "execution_count": 13,
   "id": "04dd2dd8-7c6c-4de3-ab99-a6763beaf9ce",
   "metadata": {},
   "outputs": [],
   "source": [
    "usdc_balance"
   ]
  },
  {
   "cell_type": "code",
   "execution_count": 14,
   "id": "e858e41a-d3ba-4f8f-b388-92af3a6f1844",
   "metadata": {},
   "outputs": [],
   "source": [
    "output_addr=usdc_balance['erc20'][0]"
   ]
  },
  {
   "cell_type": "code",
   "execution_count": 15,
   "id": "501c6e3e-9193-4bf3-95fa-86a9b63db82a",
   "metadata": {},
   "outputs": [],
   "source": [
    "output_addr.hex()"
   ]
  },
  {
   "cell_type": "code",
   "execution_count": 16,
   "id": "3b93fb52-1a8c-4204-b85f-7f34edac77db",
   "metadata": {},
   "outputs": [],
   "source": [
    "usdc_balance['address'][0].hex()"
   ]
  },
  {
   "cell_type": "code",
   "execution_count": 17,
   "id": "f63c87bf-b93b-47b5-8c0b-011346d6dab7",
   "metadata": {},
   "outputs": [],
   "source": [
    "usdc_balance['balance_binary'][0]"
   ]
  },
  {
   "cell_type": "code",
   "execution_count": 18,
   "id": "94359eba-9544-464e-8664-1005a3036d05",
   "metadata": {},
   "outputs": [],
   "source": [
    "balance= usdc_balance['balance_binary'][0]"
   ]
  },
  {
   "cell_type": "code",
   "execution_count": 19,
   "id": "209fd1fe-2c89-4adc-9407-bdf712a9d939",
   "metadata": {},
   "outputs": [],
   "source": [
    "int((balance).hex(),16)"
   ]
  },
  {
   "cell_type": "code",
   "execution_count": 20,
   "id": "28f603db-ed75-4e1e-a312-1cf153eb953c",
   "metadata": {},
   "outputs": [],
   "source": [
    "usdc_balance['balance_string'][0]"
   ]
  },
  {
   "cell_type": "code",
   "execution_count": 21,
   "id": "f487558e-2b55-403f-b07b-30df50ec9274",
   "metadata": {},
   "outputs": [],
   "source": [
    "balance_raw = decode(['uint256'], usdc_balance['balance_binary'][0])"
   ]
  },
  {
   "cell_type": "code",
   "execution_count": 22,
   "id": "cc72c6d6-8b18-48d6-ae56-9f10642b347c",
   "metadata": {},
   "outputs": [],
   "source": [
    "balance_raw"
   ]
  },
  {
   "cell_type": "code",
   "execution_count": 23,
   "id": "88719c24-f313-46d6-8a79-c74ea19ad75c",
   "metadata": {},
   "outputs": [],
   "source": [
    " balance_raw[0] / 10**6"
   ]
  },
  {
   "cell_type": "code",
   "execution_count": 215,
   "id": "32b2ff22-4dfb-412e-af06-993572de0efe",
   "metadata": {},
   "outputs": [],
   "source": [
    "# BLOCKS=\"21922375\" >> usdc 472,885.333888"
   ]
  },
  {
   "cell_type": "markdown",
   "id": "096969bf-58fb-4d7d-8088-f1c601d4e09c",
   "metadata": {},
   "source": [
    "## Aave Pools Data"
   ]
  },
  {
   "cell_type": "code",
   "execution_count": 216,
   "id": "03383f7f-88be-4453-844d-d1444592e85c",
   "metadata": {},
   "outputs": [],
   "source": [
    "#  AAVE\n",
    "# https://etherscan.io/address/0x87870bca3f3fd6335c3f4ce8392d69350b4fa4e2#readProxyContract"
   ]
  },
  {
   "cell_type": "code",
   "execution_count": 24,
   "id": "6615c0fb-d8c3-4f57-a74a-809c2a3f1c8c",
   "metadata": {},
   "outputs": [],
   "source": [
    "MULTICALL3_ADDRESS = '0xcA11bde05977b3631167028862bE2a173976CA11'\n",
    "MULTICALL3_ABI=json.loads('[{\"inputs\":[{\"internalType\":\"bool\",\"name\":\"requireSuccess\",\"type\":\"bool\"},{\"components\":[{\"internalType\":\"address\",\"name\":\"target\",\"type\":\"address\"},{\"internalType\":\"bytes\",\"name\":\"callData\",\"type\":\"bytes\"}],\"internalType\":\"struct Multicall3.Call[]\",\"name\":\"calls\",\"type\":\"tuple[]\"}],\"name\":\"tryAggregate\",\"outputs\":[{\"components\":[{\"internalType\":\"bool\",\"name\":\"success\",\"type\":\"bool\"},{\"internalType\":\"bytes\",\"name\":\"returnData\",\"type\":\"bytes\"}],\"internalType\":\"struct Multicall3.Result[]\",\"name\":\"returnData\",\"type\":\"tuple[]\"}],\"stateMutability\":\"payable\",\"type\":\"function\"}]')"
   ]
  },
  {
   "cell_type": "code",
   "execution_count": 25,
   "id": "fb81327b-d14f-4b93-81ef-5fa4e04858c2",
   "metadata": {},
   "outputs": [],
   "source": [
    "AAVE_POOL_PROVIDER_ADDRESS = \"0x2f39d218133AFaB8F2B819B1066c7E434Ad94E9e\"\n",
    "AAVE_POOL_DATA_PROVIDER_ADDRESS = \"0x7B4EB56E7CD4b454BA8ff71E4518426369a138a3\"\n",
    "RATE_STRATEGY_V2= \"0x9ec6F08190DeA04A54f8Afc53Db96134e5E3FdFB\"\n",
    "DAI_ADDRESS = \"0x6b175474e89094c44da98b954eedeac495271d0f\"  # DAI on Ethereum Mainnet\n",
    "WETH_ADDRESS = '0xC02aaA39b223FE8D0A0e5C4F27eAD9083C756Cc2'  # WETH\n",
    "USDC_ADDRESS = '0xA0b86991c6218b36c1d19D4a2e9Eb0cE3606eB48'   # USDC"
   ]
  },
  {
   "cell_type": "code",
   "execution_count": 26,
   "id": "aa267162-c4c5-467c-bc2e-396d6146b774",
   "metadata": {},
   "outputs": [],
   "source": [
    "AAVE_POOL_DATA_PROVIDER_ABI = json.loads('[{\"inputs\":[{\"internalType\":\"address\",\"name\":\"asset\",\"type\":\"address\"}],\"name\":\"getReserveData\",\"outputs\":[{\"internalType\":\"uint256\",\"name\":\"unbacked\",\"type\":\"uint256\"},{\"internalType\":\"uint256\",\"name\":\"accruedToTreasuryScaled\",\"type\":\"uint256\"},{\"internalType\":\"uint256\",\"name\":\"totalAToken\",\"type\":\"uint256\"},{\"internalType\":\"uint256\",\"name\":\"totalStableDebt\",\"type\":\"uint256\"},{\"internalType\":\"uint256\",\"name\":\"totalVariableDebt\",\"type\":\"uint256\"},{\"internalType\":\"uint256\",\"name\":\"liquidityRate\",\"type\":\"uint256\"},{\"internalType\":\"uint256\",\"name\":\"variableBorrowRate\",\"type\":\"uint256\"},{\"internalType\":\"uint256\",\"name\":\"stableBorrowRate\",\"type\":\"uint256\"},{\"internalType\":\"uint256\",\"name\":\"averageStableBorrowRate\",\"type\":\"uint256\"},{\"internalType\":\"uint256\",\"name\":\"liquidityIndex\",\"type\":\"uint256\"},{\"internalType\":\"uint256\",\"name\":\"variableBorrowIndex\",\"type\":\"uint256\"},{\"internalType\":\"uint40\",\"name\":\"lastUpdateTimestamp\",\"type\":\"uint40\"}],\"stateMutability\":\"view\",\"type\":\"function\"},{\"inputs\":[{\"internalType\":\"address\",\"name\":\"asset\",\"type\":\"address\"}],\"name\":\"getReserveTokensAddresses\",\"outputs\":[{\"internalType\":\"address\",\"name\":\"aTokenAddress\",\"type\":\"address\"},{\"internalType\":\"address\",\"name\":\"stableDebtTokenAddress\",\"type\":\"address\"},{\"internalType\":\"address\",\"name\":\"variableDebtTokenAddress\",\"type\":\"address\"}],\"stateMutability\":\"view\",\"type\":\"function\"},{\"inputs\":[],\"name\":\"getAllReservesTokens\",\"outputs\":[{\"components\":[{\"internalType\":\"string\",\"name\":\"symbol\",\"type\":\"string\"},{\"internalType\":\"address\",\"name\":\"tokenAddress\",\"type\":\"address\"}],\"internalType\":\"struct IPoolDataProvider.TokenData[]\",\"name\":\"\",\"type\":\"tuple[]\"}],\"stateMutability\":\"view\",\"type\":\"function\"}]')\n"
   ]
  },
  {
   "cell_type": "code",
   "execution_count": 27,
   "id": "46b7c887-af26-43eb-9a35-361f87be8f44",
   "metadata": {},
   "outputs": [],
   "source": [
    "# Funct Sig\n",
    "getAllReservesTokens_4b='b316ff89'\n",
    "getReserveData_4b='35ea6a75'\n",
    "getReserveTokensAddresses_4b='d2493b6c'"
   ]
  },
  {
   "cell_type": "code",
   "execution_count": 28,
   "id": "e04b74c1-f890-4d46-8e88-e5bbfcc4a52a",
   "metadata": {},
   "outputs": [],
   "source": [
    "# getReserveData(address) method Response ]\n",
    "#   unbacked   uint256 :  0\n",
    "#   accruedToTreasuryScaled   uint256 :  23618787780361774928\n",
    "#   totalAToken   uint256 :  2039801843604753838311618\n",
    "#   totalStableDebt   uint256 :  0\n",
    "#   totalVariableDebt   uint256 :  1764755511852628454833269\n",
    "#   liquidityRate   uint256 :  19086348066645041248157072\n",
    "#   variableBorrowRate   uint256 :  25954495065727705440586566\n",
    "#   stableBorrowRate   uint256 :  0\n",
    "#   averageStableBorrowRate   uint256 :  0\n",
    "#   liquidityIndex   uint256 :  1040724217363078276332975414\n",
    "#   variableBorrowIndex   uint256 :  1064692592486700566822429320\n",
    "#   lastUpdateTimestamp   uint40 :  1740762059\n",
    "\n",
    "# unbacked, accruedToTreasuryScaled, totalAToken, totalStableDebt, totalVariableDebt, liquidityRate,variableBorrowRate,stableBorrowRate,averageStableBorrowRate,liquidityIndex,variableBorrowIndex,lastUpdateTimestamp\n",
    "\n",
    "# output_types = ['int256', 'uint256', 'uint256', 'uint256', 'uint256', 'uint256', 'uint256', 'uint256', 'uint256', 'uint256', 'uint256', 'uint40']"
   ]
  },
  {
   "cell_type": "code",
   "execution_count": 29,
   "id": "b25d61dd-efd0-462e-90ce-9b0af8a01ce2",
   "metadata": {},
   "outputs": [],
   "source": [
    "# web3 instance, function from web3py\n",
    "w3 = web3.Web3()\n",
    "a3 = w3.eth.contract(address = AAVE_POOL_DATA_PROVIDER_ADDRESS, abi=AAVE_POOL_DATA_PROVIDER_ABI)\n",
    "m3 = w3.eth.contract(address = MULTICALL3_ADDRESS, abi=MULTICALL3_ABI)"
   ]
  },
  {
   "cell_type": "code",
   "execution_count": 30,
   "id": "28f35bda-89cc-403a-8b36-98edaf505953",
   "metadata": {},
   "outputs": [],
   "source": [
    "tokens = [\n",
    "    '0x6B175474E89094C44Da98b954EedeAC495271d0F',  # DAI\n",
    "    '0xC02aaA39b223FE8D0A0e5C4F27eAD9083C756Cc2',  # WETH\n",
    "    '0xA0b86991c6218b36c1d19D4a2e9Eb0cE3606eB48'   # USDC\n",
    "]"
   ]
  },
  {
   "cell_type": "code",
   "execution_count": 31,
   "id": "e7e60ba9-7257-4620-a0cf-2881dc38cdc1",
   "metadata": {},
   "outputs": [],
   "source": [
    "calls = []\n",
    "for token in tokens:\n",
    "    # Encode the call to getReserveData for this token\n",
    "    calldata = a3.encode_abi(\"getReserveData\", args=[token])\n",
    "    calls.append([AAVE_POOL_DATA_PROVIDER_ADDRESS, calldata])"
   ]
  },
  {
   "cell_type": "code",
   "execution_count": 32,
   "id": "3b23ef9d-66dc-45a6-add9-c072cad486c0",
   "metadata": {},
   "outputs": [],
   "source": [
    "calls"
   ]
  },
  {
   "cell_type": "code",
   "execution_count": 33,
   "id": "f0ad1451-f2ca-41a2-8db0-458987b74782",
   "metadata": {},
   "outputs": [],
   "source": [
    "# result = m3.functions.tryAggregate(False, calls).call()\n",
    "calldata_aave_pool = m3.encode_abi(\"tryAggregate\", args=[False, calls])"
   ]
  },
  {
   "cell_type": "code",
   "execution_count": 34,
   "id": "6f6b788d-08ea-490a-8c14-ace474d0e13f",
   "metadata": {},
   "outputs": [],
   "source": [
    "cryo_kwargs = {\n",
    "    'rpc': 'https://eth.merkle.io',\n",
    "    'blocks': ['latest'], \n",
    "}\n",
    "            \n",
    "eth_call_df = cryo.collect(\n",
    "    'eth_calls',\n",
    "    to_address = [MULTICALL3_ADDRESS],\n",
    "    call_data=[calldata_aave_pool],\n",
    "     output_format=\"polars\",\n",
    "    **cryo_kwargs,\n",
    ")"
   ]
  },
  {
   "cell_type": "code",
   "execution_count": 35,
   "id": "d490369f-c51d-4f61-8769-68111a1c9f3c",
   "metadata": {},
   "outputs": [],
   "source": [
    "calldata = eth_call_df['output_data'][0]"
   ]
  },
  {
   "cell_type": "code",
   "execution_count": 36,
   "id": "9b874c7a-679e-4e9f-b90f-73d2464ff2b2",
   "metadata": {},
   "outputs": [],
   "source": [
    "decoded_data = decode(['(bool,bytes)[]'] , calldata)[0]"
   ]
  },
  {
   "cell_type": "code",
   "execution_count": 37,
   "id": "be6bd17e-cf33-4919-98f0-60096fd153ae",
   "metadata": {},
   "outputs": [],
   "source": [
    "decoded_data"
   ]
  },
  {
   "cell_type": "code",
   "execution_count": 38,
   "id": "18cf95cc-2a35-48c2-8ecb-c45c382148e4",
   "metadata": {},
   "outputs": [],
   "source": [
    "token_data = {\n",
    "    'DAI_RESERVE_DATA': [],\n",
    "    'WETH_RESERVE_DATA': [],\n",
    "    'USDC_RESERVE_DATA': []\n",
    "}"
   ]
  },
  {
   "cell_type": "markdown",
   "id": "4bea1078-628d-468a-b10b-142714f657fd",
   "metadata": {},
   "source": [
    "#### DAI Pools Data"
   ]
  },
  {
   "cell_type": "code",
   "execution_count": 39,
   "id": "14468094-1249-4228-bd12-a1c13812afd4",
   "metadata": {},
   "outputs": [],
   "source": [
    "dai_reserve_data = decoded_data[0]"
   ]
  },
  {
   "cell_type": "code",
   "execution_count": 40,
   "id": "85631b62-394f-4c81-b784-d15595535d0c",
   "metadata": {},
   "outputs": [],
   "source": [
    "data_dai=decode(['int256', 'uint256', 'uint256', 'uint256', 'uint256', 'uint256', 'uint256', 'uint256', 'uint256', 'uint256', 'uint256', 'uint40'],dai_reserve_data[1])"
   ]
  },
  {
   "cell_type": "code",
   "execution_count": 41,
   "id": "37c357ca-cd86-402a-954b-62f44d9e01b2",
   "metadata": {},
   "outputs": [],
   "source": [
    "token_data['DAI_RESERVE_DATA'] = list(data_dai)"
   ]
  },
  {
   "cell_type": "code",
   "execution_count": 42,
   "id": "832522dc-d562-466f-a208-c79338daf9dc",
   "metadata": {},
   "outputs": [],
   "source": [
    "token_data"
   ]
  },
  {
   "cell_type": "code",
   "execution_count": 236,
   "id": "b9ffc9bb-4754-4856-8127-c9a9b0a101a6",
   "metadata": {},
   "outputs": [],
   "source": [
    "# [unbacked, accruedToTreasuryScaled, totalAToken, totalStableDebt, totalVariableDebt, liquidityRate,variableBorrowRate,stableBorrowRate,averageStableBorrowRate,liquidityIndex,variableBorrowIndex,lastUpdateTimestamp\n",
    "# ]=decode(['int256', 'uint256', 'uint256', 'uint256', 'uint256', 'uint256', 'uint256', 'uint256', 'uint256', 'uint256', 'uint256', 'uint40'],dai_reserve_data[1])"
   ]
  },
  {
   "cell_type": "markdown",
   "id": "2d7a5094-4c6a-4e1e-bcc1-4403bb079828",
   "metadata": {},
   "source": [
    "####  WETH Pools Data"
   ]
  },
  {
   "cell_type": "code",
   "execution_count": 43,
   "id": "12311116-ea82-418c-a6d2-2ab201a49a0e",
   "metadata": {},
   "outputs": [],
   "source": [
    "weth_reserve_data = decoded_data[1]"
   ]
  },
  {
   "cell_type": "code",
   "execution_count": 44,
   "id": "aea95842-8ebb-4e4e-a360-709468df42dc",
   "metadata": {},
   "outputs": [],
   "source": [
    "data_weth=decode(['int256', 'uint256', 'uint256', 'uint256', 'uint256', 'uint256', 'uint256', 'uint256', 'uint256', 'uint256', 'uint256', 'uint40'],weth_reserve_data[1])"
   ]
  },
  {
   "cell_type": "code",
   "execution_count": 45,
   "id": "046d7d6a-7ff6-462d-a536-5b65eb0d96b4",
   "metadata": {},
   "outputs": [],
   "source": [
    "token_data['WETH_RESERVE_DATA'] = list(data_weth)"
   ]
  },
  {
   "cell_type": "code",
   "execution_count": 240,
   "id": "654ec92b-fbf1-4221-9c50-17696724afb1",
   "metadata": {},
   "outputs": [],
   "source": [
    "# [unbacked, accruedToTreasuryScaled, totalAToken, totalStableDebt, totalVariableDebt, liquidityRate,variableBorrowRate,stableBorrowRate,averageStableBorrowRate,liquidityIndex,variableBorrowIndex,lastUpdateTimestamp\n",
    "# ]=decode(['int256', 'uint256', 'uint256', 'uint256', 'uint256', 'uint256', 'uint256', 'uint256', 'uint256', 'uint256', 'uint256', 'uint40'],weth_reserve_data[1])"
   ]
  },
  {
   "cell_type": "code",
   "execution_count": 46,
   "id": "7fb75b7d-5896-458b-a148-0138345b2f50",
   "metadata": {},
   "outputs": [],
   "source": [
    "token_data"
   ]
  },
  {
   "cell_type": "markdown",
   "id": "3f86a9af-0066-4cd0-a834-d7b1c9b870f3",
   "metadata": {},
   "source": [
    "####  USDC Pools Data"
   ]
  },
  {
   "cell_type": "code",
   "execution_count": 47,
   "id": "4b417a52-93d9-4252-8d12-78346f4e5f68",
   "metadata": {},
   "outputs": [],
   "source": [
    "usdc_reserve_data = decoded_data[2]"
   ]
  },
  {
   "cell_type": "code",
   "execution_count": 48,
   "id": "9c5a375a-c140-4701-964e-ea18da88cb90",
   "metadata": {},
   "outputs": [],
   "source": [
    "data_usdc=decode(['int256', 'uint256', 'uint256', 'uint256', 'uint256', 'uint256', 'uint256', 'uint256', 'uint256', 'uint256', 'uint256', 'uint40'],usdc_reserve_data[1])"
   ]
  },
  {
   "cell_type": "code",
   "execution_count": 49,
   "id": "ce01c52c-8782-419d-9b31-fdb14a74c7c6",
   "metadata": {},
   "outputs": [],
   "source": [
    "token_data['USDC_RESERVE_DATA'] = list(data_usdc)"
   ]
  },
  {
   "cell_type": "code",
   "execution_count": 245,
   "id": "f51e67ed-5479-406c-acee-e98e4345a3da",
   "metadata": {},
   "outputs": [],
   "source": [
    "# [unbacked, accruedToTreasuryScaled, totalAToken, totalStableDebt, totalVariableDebt, liquidityRate,variableBorrowRate,stableBorrowRate,averageStableBorrowRate,liquidityIndex,variableBorrowIndex,lastUpdateTimestamp\n",
    "# ]=decode(['int256', 'uint256', 'uint256', 'uint256', 'uint256', 'uint256', 'uint256', 'uint256', 'uint256', 'uint256', 'uint256', 'uint40'],usdc_reserve_data[1])"
   ]
  },
  {
   "cell_type": "code",
   "execution_count": 50,
   "id": "99272d56-4454-409e-8347-5cc44c158451",
   "metadata": {},
   "outputs": [],
   "source": [
    "token_data"
   ]
  },
  {
   "cell_type": "markdown",
   "id": "623a33b4-0309-407e-a8a6-1422590d7751",
   "metadata": {},
   "source": [
    "### Aave Pool Data"
   ]
  },
  {
   "cell_type": "code",
   "execution_count": 51,
   "id": "73237ca1-975e-41f5-888c-ad138ca55582",
   "metadata": {},
   "outputs": [],
   "source": [
    "field_names = [\n",
    "    'unbacked', 'accruedToTreasuryScaled', 'totalAToken', 'totalStableDebt', \n",
    "    'totalVariableDebt', 'liquidityRate', 'variableBorrowRate', 'stableBorrowRate', \n",
    "    'averageStableBorrowRate', 'liquidityIndex', 'variableBorrowIndex', 'lastUpdateTimestamp'\n",
    "]"
   ]
  },
  {
   "cell_type": "code",
   "execution_count": 52,
   "id": "9d1b3da8-7c0c-4b73-8134-7de60823e8de",
   "metadata": {},
   "outputs": [],
   "source": [
    "df = pd.DataFrame(token_data, index=field_names)"
   ]
  },
  {
   "cell_type": "code",
   "execution_count": 53,
   "id": "b1cdffe7-1e27-4ad8-ba41-a06da8dbe323",
   "metadata": {},
   "outputs": [],
   "source": [
    "# Convert token amounts - DAI and WETH (18 decimals)\n",
    "df.loc['totalAToken', 'DAI_RESERVE_DATA'] = df.loc['totalAToken', 'DAI_RESERVE_DATA'] / 1e18\n",
    "df.loc['totalAToken', 'WETH_RESERVE_DATA'] = df.loc['totalAToken', 'WETH_RESERVE_DATA'] / 1e18\n",
    "df.loc['totalVariableDebt', 'DAI_RESERVE_DATA'] = df.loc['totalVariableDebt', 'DAI_RESERVE_DATA'] / 1e18\n",
    "df.loc['totalVariableDebt', 'WETH_RESERVE_DATA'] = df.loc['totalVariableDebt', 'WETH_RESERVE_DATA'] / 1e18\n",
    "# Convert token amounts - USDC (6 decimals)\n",
    "df.loc['totalAToken', 'USDC_RESERVE_DATA'] = df.loc['totalAToken', 'USDC_RESERVE_DATA'] / 1e6\n",
    "df.loc['totalVariableDebt', 'USDC_RESERVE_DATA'] = df.loc['totalVariableDebt', 'USDC_RESERVE_DATA'] / 1e6"
   ]
  },
  {
   "cell_type": "code",
   "execution_count": 54,
   "id": "08bdae59-1833-4433-81bb-593b4eeaabcb",
   "metadata": {},
   "outputs": [],
   "source": [
    "# Convert interest rates from ray (10^27) to percentages\n",
    "df.loc['liquidityRate'] = (df.loc['liquidityRate'] / 1e27)\n",
    "df.loc['variableBorrowRate'] = (df.loc['variableBorrowRate'] / 1e27)"
   ]
  },
  {
   "cell_type": "code",
   "execution_count": 55,
   "id": "0fec56e6-bdd4-4dbe-8bd1-03af8bd512f2",
   "metadata": {},
   "outputs": [],
   "source": [
    "# Format timestamps (this does convert to strings, but that's probably what you want for timestamps)\n",
    "from datetime import datetime\n",
    "df.loc['lastUpdateTimestamp'] = df.loc['lastUpdateTimestamp'].apply(\n",
    "    lambda x: datetime.fromtimestamp(int(x)).strftime('%Y-%m-%d %H:%M:%S')\n",
    ")"
   ]
  },
  {
   "cell_type": "code",
   "execution_count": 56,
   "id": "2879c05b-8501-4bc6-96c5-95882e7726a0",
   "metadata": {},
   "outputs": [],
   "source": [
    "df.loc['variableBorrowRate']"
   ]
  },
  {
   "cell_type": "code",
   "execution_count": 131,
   "id": "d0241b14-8b26-44c1-9e80-fc55e28e04ed",
   "metadata": {},
   "outputs": [],
   "source": [
    "# pd.set_option('display.float_format', '{:,.4f}'.format)"
   ]
  },
  {
   "cell_type": "code",
   "execution_count": 57,
   "id": "12f5ac6d-0e63-48b7-80d0-f8c643f36945",
   "metadata": {},
   "outputs": [],
   "source": [
    "df"
   ]
  },
  {
   "cell_type": "code",
   "execution_count": 58,
   "id": "e0bea66a-2ac0-4623-b23f-813e0661ab6f",
   "metadata": {},
   "outputs": [],
   "source": [
    "def display_formatted_df(df):\n",
    "    # Make a copy to avoid modifying the original\n",
    "    display_df = df.copy()\n",
    "    \n",
    "    # Format token amounts with commas and 2 decimal places\n",
    "    display_df.loc['totalAToken'] = display_df.loc['totalAToken'].apply(lambda x: f\"{x:,.2f}\")\n",
    "    display_df.loc['totalVariableDebt'] = display_df.loc['totalVariableDebt'].apply(lambda x: f\"{x:,.2f}\")\n",
    "    \n",
    "    return display_df"
   ]
  },
  {
   "cell_type": "code",
   "execution_count": 59,
   "id": "ff3fecf1-358d-4877-965c-912ab0aee831",
   "metadata": {},
   "outputs": [],
   "source": [
    "display_formatted_df(df)"
   ]
  },
  {
   "cell_type": "code",
   "execution_count": null,
   "id": "7f7b47c3-b691-44f7-b048-f3275d3ef9ac",
   "metadata": {},
   "outputs": [],
   "source": []
  },
  {
   "cell_type": "code",
   "execution_count": 60,
   "id": "51568717-f225-4e61-82a0-9ef0c87cabe0",
   "metadata": {},
   "outputs": [],
   "source": [
    "aave_pools_df = display_formatted_df(df).copy()"
   ]
  },
  {
   "cell_type": "code",
   "execution_count": 62,
   "id": "303664d1-bab1-4f88-b6db-800289e576fb",
   "metadata": {},
   "outputs": [],
   "source": [
    "aave_pools_df = df.rename(columns={\n",
    "    'DAI_RESERVE_DATA': 'DAI_POOL',\n",
    "    'WETH_RESERVE_DATA': 'WETH_POOL',\n",
    "    'USDC_RESERVE_DATA': 'USDC_POOL'\n",
    "})"
   ]
  },
  {
   "cell_type": "code",
   "execution_count": 63,
   "id": "7f476071-ef87-4120-8127-cbd6b022041b",
   "metadata": {},
   "outputs": [],
   "source": [
    "aave_pools_df "
   ]
  },
  {
   "cell_type": "markdown",
   "id": "5f60489b-ec2f-43e3-a254-7ccd6f83c6b4",
   "metadata": {},
   "source": [
    "### Aave Interest Strategy"
   ]
  },
  {
   "cell_type": "code",
   "execution_count": 132,
   "id": "3ffd9a52-4bc6-45d4-ac31-a02eb833db2a",
   "metadata": {},
   "outputs": [],
   "source": [
    "# Utilization Rate = = TotalBorrowed / TotalSupply \n",
    "Uti_Rate =df.loc['totalVariableDebt', 'DAI_RESERVE_DATA']/df.loc['totalAToken', 'DAI_RESERVE_DATA']"
   ]
  },
  {
   "cell_type": "code",
   "execution_count": 133,
   "id": "c133bc7e-1cfe-4924-9b6e-5ae15cd26f06",
   "metadata": {},
   "outputs": [],
   "source": [
    "w3_2 = web3.HTTPProvider(\"https://eth.merkle.io\")"
   ]
  },
  {
   "cell_type": "code",
   "execution_count": 134,
   "id": "0fa818ed-3e98-4bb4-b746-c3b391596bb8",
   "metadata": {},
   "outputs": [],
   "source": [
    "DAI_ADDRESS = w3.to_checksum_address(\"0x6B175474E89094C44Da98b954EedeAC495271d0F\")"
   ]
  },
  {
   "cell_type": "code",
   "execution_count": 135,
   "id": "0d88522b-8bb6-4378-97ad-318907b50918",
   "metadata": {},
   "outputs": [],
   "source": [
    "print(w3_2.is_connected())  # Should return Tru"
   ]
  },
  {
   "cell_type": "code",
   "execution_count": 136,
   "id": "ac25b1f3-0c44-4bc4-a65f-f1a3aec82bfc",
   "metadata": {},
   "outputs": [],
   "source": [
    "RATE_STRATEGY_V2_ABI = json.loads('[{\"inputs\":[{\"internalType\":\"address\",\"name\":\"reserve\",\"type\":\"address\"}],\"name\":\"getInterestRateData\",\"outputs\":[{\"components\":[{\"internalType\":\"uint256\",\"name\":\"optimalUsageRatio\",\"type\":\"uint256\"},{\"internalType\":\"uint256\",\"name\":\"baseVariableBorrowRate\",\"type\":\"uint256\"},{\"internalType\":\"uint256\",\"name\":\"variableRateSlope1\",\"type\":\"uint256\"},{\"internalType\":\"uint256\",\"name\":\"variableRateSlope2\",\"type\":\"uint256\"}],\"internalType\":\"struct IDefaultInterestRateStrategyV2.InterestRateDataRay\",\"name\":\"\",\"type\":\"tuple\"}],\"stateMutability\":\"view\",\"type\":\"function\"} ]')"
   ]
  },
  {
   "cell_type": "code",
   "execution_count": 137,
   "id": "30c3f1db-c5a7-4f73-8e50-68f55b3b5b9d",
   "metadata": {},
   "outputs": [],
   "source": [
    "getIntRateData_4b = '131e889c'"
   ]
  },
  {
   "cell_type": "code",
   "execution_count": 138,
   "id": "b0e56c7c-7e47-4553-9206-4aff70d18bc4",
   "metadata": {},
   "outputs": [],
   "source": [
    "dai_param = DAI_ADDRESS[2:] if DAI_ADDRESS.startswith('0x') else DAI_ADDRESS\n",
    "padded_dai = dai_param.lower().zfill(64)"
   ]
  },
  {
   "cell_type": "code",
   "execution_count": 139,
   "id": "0dc233b4-3bb2-4988-993b-72b5ba3c0e89",
   "metadata": {},
   "outputs": [],
   "source": [
    "calldata = \"0x\" + getIntRateData_4b + padded_dai"
   ]
  },
  {
   "cell_type": "code",
   "execution_count": 141,
   "id": "c498711a-defc-449f-97c7-0e22b324a3a4",
   "metadata": {},
   "outputs": [],
   "source": [
    "result =w3.eth.call({\n",
    "    'to': RATE_STRATEGY_V2,\n",
    "    'data': calldata\n",
    "})"
   ]
  },
  {
   "cell_type": "code",
   "execution_count": 142,
   "id": "b88d1d2e-f9e8-41a2-b89d-6542d17762d2",
   "metadata": {},
   "outputs": [],
   "source": [
    "result"
   ]
  },
  {
   "cell_type": "code",
   "execution_count": 143,
   "id": "fa7f8e58-a554-4750-865e-52a40070ff09",
   "metadata": {},
   "outputs": [],
   "source": [
    "decoded_data = decode(['uint256', 'uint256', 'uint256', 'uint256'], result)"
   ]
  },
  {
   "cell_type": "code",
   "execution_count": 144,
   "id": "ecd61a54-7f88-4c30-8fd6-579b5a8aced2",
   "metadata": {},
   "outputs": [],
   "source": [
    "optimalUsageRatio = decoded_data[0] / 1e25  # Convert to percentage\n",
    "baseVariableBorrowRate = decoded_data[1] / 1e27\n",
    "variableRateSlope1 = decoded_data[2] / 1e27\n",
    "variableRateSlope2 = decoded_data[3] / 1e27"
   ]
  },
  {
   "cell_type": "code",
   "execution_count": 146,
   "id": "13cc9d0c-ace3-4f29-bdc4-cd3488fb2efa",
   "metadata": {},
   "outputs": [],
   "source": [
    "print(f\"optimalUsageRatio: {optimalUsageRatio:.2f}%\")\n",
    "print(f\"baseVariableBorrowRate: {baseVariableBorrowRate:.6f}\")\n",
    "print(f\"variableRateSlope1: {variableRateSlope1:.6f}\")\n",
    "print(f\"variableRateSlope2: {variableRateSlope2:.6f}\")"
   ]
  },
  {
   "cell_type": "code",
   "execution_count": 147,
   "id": "4e3ae546-ba5d-482d-b68b-3060d72790d1",
   "metadata": {},
   "outputs": [],
   "source": [
    "# IntRate  = Slop1 * Uti / OptUti\n",
    "Int_Rate = variableRateSlope1*Uti_Rate/optimalUsageRatio"
   ]
  },
  {
   "cell_type": "code",
   "execution_count": 148,
   "id": "9d1ddcc0-efc8-47fc-ac98-ec29cd4f09da",
   "metadata": {},
   "outputs": [],
   "source": [
    "Int_Rate"
   ]
  },
  {
   "cell_type": "code",
   "execution_count": 149,
   "id": "45366d44-c1e7-4983-bc7e-3eef006ee069",
   "metadata": {},
   "outputs": [],
   "source": [
    "Uti_Rate"
   ]
  },
  {
   "cell_type": "code",
   "execution_count": 1,
   "id": "841da403-9d59-4ad6-892b-2da40e0fd90c",
   "metadata": {},
   "outputs": [],
   "source": [
    "# # Load the contract\n",
    "# contract = w3.eth.contract(address=RATE_STRATEGY_V2, abi=RATE_STRATEGY_V2_ABI)\n",
    "\n",
    "# # Call the function\n",
    "# interest_rate_data = contract.functions.getInterestRateData(DAI_ADDRESS).call()"
   ]
  },
  {
   "cell_type": "code",
   "execution_count": 42,
   "id": "e180ef34-fbda-4bd8-abe0-4e6e590ffe5a",
   "metadata": {},
   "outputs": [],
   "source": [
    "# Convert token amounts - DAI and WETH (18 decimals)\n",
    "# df.loc['totalAToken', 'DAI_RESERVE_DATA'] = df.loc['totalAToken', 'DAI_RESERVE_DATA'] / 1e18"
   ]
  },
  {
   "cell_type": "code",
   "execution_count": 2,
   "id": "c1cf7b09-9f60-45be-8659-bd90ad70c9d0",
   "metadata": {},
   "outputs": [],
   "source": [
    "# # Apply the unit conversions with different decimals per token\n",
    "# # For DAI and WETH (18 decimals)\n",
    "# readable_df.loc['totalAToken', 'DAI_RESERVE_DATA'] = readable_df.loc['totalAToken', 'DAI_RESERVE_DATA'] / 1e18\n",
    "# readable_df.loc['totalAToken', 'WETH_RESERVE_DATA'] = readable_df.loc['totalAToken', 'WETH_RESERVE_DATA'] / 1e18\n",
    "# readable_df.loc['totalVariableDebt', 'DAI_RESERVE_DATA'] = readable_df.loc['totalVariableDebt', 'DAI_RESERVE_DATA'] / 1e18\n",
    "# readable_df.loc['totalVariableDebt', 'WETH_RESERVE_DATA'] = readable_df.loc['totalVariableDebt', 'WETH_RESERVE_DATA'] / 1e18\n",
    "\n",
    "# # For USDC (6 decimals)\n",
    "# readable_df.loc['totalAToken', 'USDC_RESERVE_DATA'] = readable_df.loc['totalAToken', 'USDC_RESERVE_DATA'] / 1e6\n",
    "# readable_df.loc['totalVariableDebt', 'USDC_RESERVE_DATA'] = readable_df.loc['totalVariableDebt', 'USDC_RESERVE_DATA'] / 1e6\n",
    "\n",
    "# # Convert rates from ray (10^27) to percentage for all tokens (as numeric values)\n",
    "# readable_df.loc['liquidityRate'] = readable_df.loc['liquidityRate'] / 1e27 * 100\n",
    "# readable_df.loc['variableBorrowRate'] = readable_df.loc['variableBorrowRate'] / 1e27 * 100\n",
    "\n",
    "# # Convert timestamp to datetime but keep the original values for calculations if needed\n",
    "# from datetime import datetime\n",
    "# timestamp_values = readable_df.loc['lastUpdateTimestamp'].copy()\n",
    "# readable_df.loc['lastUpdateTimestamp'] = readable_df.loc['lastUpdateTimestamp'].apply(\n",
    "#     lambda x: datetime.fromtimestamp(int(x)).strftime('%Y-%m-%d %H:%M:%S')\n",
    "# )\n"
   ]
  },
  {
   "cell_type": "code",
   "execution_count": null,
   "id": "4a41ce14-955d-463e-877c-8e19b94b47c2",
   "metadata": {},
   "outputs": [],
   "source": []
  },
  {
   "cell_type": "code",
   "execution_count": null,
   "id": "30d8b216-8dd0-418f-8b57-593bf7b6d791",
   "metadata": {},
   "outputs": [],
   "source": []
  },
  {
   "cell_type": "code",
   "execution_count": 55,
   "id": "97c2a23a-6c91-44b9-a8ab-406448bc6be1",
   "metadata": {},
   "outputs": [],
   "source": [
    "readable_df.loc['totalAToken', 'DAI_RESERVE_DATA'] = readable_df.loc['totalAToken', 'DAI_RESERVE_DATA'] / 1e18\n",
    "readable_df.loc['totalAToken', 'WETH_RESERVE_DATA'] = readable_df.loc['totalAToken', 'WETH_RESERVE_DATA'] / 1e18\n",
    "readable_df.loc['totalVariableDebt', 'DAI_RESERVE_DATA'] = readable_df.loc['totalVariableDebt', 'DAI_RESERVE_DATA'] / 1e18\n",
    "readable_df.loc['totalVariableDebt', 'WETH_RESERVE_DATA'] = readable_df.loc['totalVariableDebt', 'WETH_RESERVE_DATA'] / 1e18"
   ]
  },
  {
   "cell_type": "code",
   "execution_count": 56,
   "id": "54bc90f1-691c-40c0-b883-3e0ec21a5fa3",
   "metadata": {},
   "outputs": [],
   "source": [
    "readable_df.loc['totalAToken', 'USDC_RESERVE_DATA'] = readable_df.loc['totalAToken', 'USDC_RESERVE_DATA'] / 1e6\n",
    "readable_df.loc['totalVariableDebt', 'USDC_RESERVE_DATA'] = readable_df.loc['totalVariableDebt', 'USDC_RESERVE_DATA'] / 1e6"
   ]
  },
  {
   "cell_type": "code",
   "execution_count": 57,
   "id": "e428625c-8575-4779-94ec-277364bbe901",
   "metadata": {},
   "outputs": [],
   "source": [
    "readable_df.loc['totalAToken'] = readable_df.loc['totalAToken'].apply(lambda x: f\"{float(x):,.4f}\" if isinstance(x, (int, float, str)) else x)\n",
    "readable_df.loc['totalVariableDebt'] = readable_df.loc['totalVariableDebt'].apply(lambda x: f\"{float(x):,.4f}\" if isinstance(x, (int, float, str)) else x)\n"
   ]
  },
  {
   "cell_type": "code",
   "execution_count": 58,
   "id": "3d5eda96-ff19-4136-b791-3980be8fd0d3",
   "metadata": {},
   "outputs": [],
   "source": [
    "# Convert rates from ray (10^27) to percentage for all tokens\n",
    "readable_df.loc['liquidityRate'] = readable_df.loc['liquidityRate'] / 1e27 * 100\n",
    "readable_df.loc['variableBorrowRate'] = readable_df.loc['variableBorrowRate'] / 1e27 * 100"
   ]
  },
  {
   "cell_type": "code",
   "execution_count": 59,
   "id": "3fa2834d-3029-4dce-ab1b-fe7a4eaab19a",
   "metadata": {},
   "outputs": [],
   "source": [
    "# Format the rate fields with 4 decimal places and add % sign\n",
    "readable_df.loc['liquidityRate'] = readable_df.loc['liquidityRate'].apply(lambda x: f\"{float(x):.4f}%\" if isinstance(x, (int, float, str)) else x)\n",
    "readable_df.loc['variableBorrowRate'] = readable_df.loc['variableBorrowRate'].apply(lambda x: f\"{float(x):.4f}%\" if isinstance(x, (int, float, str)) else x)"
   ]
  },
  {
   "cell_type": "code",
   "execution_count": 402,
   "id": "ea8fe22f-341d-4583-bed3-1af7a430a9d4",
   "metadata": {},
   "outputs": [],
   "source": [
    "# readable_df.loc['totalAToken'] = df.loc['totalAToken'].apply(lambda x: f\"{x:,.4f}\")\n",
    "# readable_df.loc['totalVariableDebt'] = df.loc['totalVariableDebt'].apply(lambda x: f\"{x:,.4f}\")\n",
    "# readable_df.loc['liquidityRate'] = df.loc['liquidityRate'].apply(lambda x: f\"{x:.4f}%\")\n",
    "# readable_df.loc['variableBorrowRate'] = df.loc['variableBorrowRate'].apply(lambda x: f\"{x:.4f}%\")"
   ]
  },
  {
   "cell_type": "code",
   "execution_count": null,
   "id": "cfa52d1a-6286-4d21-b52e-3f057e92be06",
   "metadata": {},
   "outputs": [],
   "source": []
  },
  {
   "cell_type": "code",
   "execution_count": null,
   "id": "8964b84e-51ee-4c17-a409-784f7d3827fe",
   "metadata": {},
   "outputs": [],
   "source": []
  },
  {
   "cell_type": "code",
   "execution_count": 62,
   "id": "1fbc4ce5-6173-4674-91cc-b9292ecdb5af",
   "metadata": {},
   "outputs": [],
   "source": []
  },
  {
   "cell_type": "code",
   "execution_count": null,
   "id": "293da5d1-a066-48c8-87f2-9a476159c7e7",
   "metadata": {},
   "outputs": [],
   "source": []
  },
  {
   "cell_type": "code",
   "execution_count": null,
   "id": "aea95c34-60c1-4871-a629-08063841d486",
   "metadata": {},
   "outputs": [],
   "source": []
  },
  {
   "cell_type": "code",
   "execution_count": null,
   "id": "4d201059-47fc-4eb7-a882-d331d1c64e50",
   "metadata": {},
   "outputs": [],
   "source": []
  },
  {
   "cell_type": "code",
   "execution_count": 75,
   "id": "2ad294e3-1ba8-4857-96c2-427fd5c4a5b2",
   "metadata": {},
   "outputs": [],
   "source": []
  },
  {
   "cell_type": "code",
   "execution_count": null,
   "id": "222d8ea5-a3a1-49ee-9da2-97423fc54b50",
   "metadata": {},
   "outputs": [],
   "source": []
  },
  {
   "cell_type": "code",
   "execution_count": null,
   "id": "f60172cc-e654-4402-99bc-8dc9298a3ed6",
   "metadata": {},
   "outputs": [],
   "source": []
  },
  {
   "cell_type": "code",
   "execution_count": null,
   "id": "fc69df4c-75bd-4b94-8961-229ab6776f95",
   "metadata": {},
   "outputs": [],
   "source": []
  }
 ],
 "metadata": {
  "kernelspec": {
   "display_name": "Python 3 (ipykernel)",
   "language": "python",
   "name": "python3"
  },
  "language_info": {
   "codemirror_mode": {
    "name": "ipython",
    "version": 3
   },
   "file_extension": ".py",
   "mimetype": "text/x-python",
   "name": "python",
   "nbconvert_exporter": "python",
   "pygments_lexer": "ipython3",
   "version": "3.12.8"
  }
 },
 "nbformat": 4,
 "nbformat_minor": 5
}
