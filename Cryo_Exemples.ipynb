{
 "cells": [
  {
   "cell_type": "code",
   "execution_count": 1,
   "id": "500dbc3b-0801-4d80-87c7-b81ba9a9ded4",
   "metadata": {},
   "outputs": [],
   "source": [
    "import cryo\n",
    "import polars as pl\n",
    "import binascii\n",
    "import web3\n",
    "import json\n",
    "from eth_abi import decode\n",
    "import seaborn as sns\n",
    "import matplotlib.pyplot as plt\n",
    "from datetime import datetime\n",
    "import pandas as pd"
   ]
  },
  {
   "cell_type": "code",
   "execution_count": 2,
   "id": "80d0d77b-6ee0-4396-a043-a5a43a95cdef",
   "metadata": {},
   "outputs": [],
   "source": [
    "# Functions\n",
    "def bytes_to_hexstr(b: any) -> str:\n",
    "    if isinstance(b,list):\n",
    "        return [bytes_to_hexstr(a) for a in b]\n",
    "    return '0x' + b.hex()"
   ]
  },
  {
   "cell_type": "code",
   "execution_count": 3,
   "id": "313651a5-f0d2-4d3f-8d8d-6b837f3745ae",
   "metadata": {},
   "outputs": [],
   "source": [
    "# Function Signatures 4 bytes\n",
    "getBlocknumber_4b = '42cbb15c'"
   ]
  },
  {
   "cell_type": "code",
   "execution_count": 4,
   "id": "bc8c1613-5f1b-4716-b6bd-131c6d061fc5",
   "metadata": {},
   "outputs": [],
   "source": [
    "txs = cryo.collect('transactions', blocks=['latest'], rpc ='https://eth.merkle.io')"
   ]
  },
  {
   "cell_type": "code",
   "execution_count": 5,
   "id": "62322335-1832-4b97-ba42-b449c1f24d76",
   "metadata": {},
   "outputs": [
    {
     "data": {
      "text/html": [
       "<div><style>\n",
       ".dataframe > thead > tr,\n",
       ".dataframe > tbody > tr {\n",
       "  text-align: right;\n",
       "  white-space: pre-wrap;\n",
       "}\n",
       "</style>\n",
       "<small>shape: (5, 21)</small><table border=\"1\" class=\"dataframe\"><thead><tr><th>block_number</th><th>transaction_index</th><th>transaction_hash</th><th>nonce</th><th>from_address</th><th>to_address</th><th>value_binary</th><th>value_string</th><th>value_f64</th><th>input</th><th>gas_limit</th><th>gas_used</th><th>gas_price</th><th>transaction_type</th><th>max_priority_fee_per_gas</th><th>max_fee_per_gas</th><th>success</th><th>n_input_bytes</th><th>n_input_zero_bytes</th><th>n_input_nonzero_bytes</th><th>chain_id</th></tr><tr><td>u32</td><td>u64</td><td>binary</td><td>u64</td><td>binary</td><td>binary</td><td>binary</td><td>str</td><td>f64</td><td>binary</td><td>u64</td><td>u64</td><td>u64</td><td>u32</td><td>u64</td><td>u64</td><td>bool</td><td>u32</td><td>u32</td><td>u32</td><td>u64</td></tr></thead><tbody><tr><td>22089468</td><td>0</td><td>b&quot;\\xae\\x1a:\\x05\\xb1\\xae\\x05\\xd9\\x0aW\\xf0\\x1f\\xa8\\x20+\\xa6\\xbf\\xd1LX\\x08_\\x01.\\x0b\\x0aWY2W*\\x9d&quot;</td><td>7799</td><td>b&quot;\\xbdx5\\x13U-\\xc7\\xb6\\x88\\x14\\xbb{}\\x10\\\\x19\\xa0\\xf4\\xd3A&quot;</td><td>b&quot;\\xef\\xf6\\xcb\\x8baI\\x99\\xd10\\xe57u\\x1e\\xe9\\x97$\\xd0\\x1a\\xa1g&quot;</td><td>b&quot;\\x00\\x00\\x00\\x00\\x00\\x00\\x00\\x00\\x00\\x00\\x00\\x00\\x00\\x00\\x00\\x00\\x00\\x00\\x00\\x00\\x00\\x00\\x00\\x00\\x00\\x00\\x00\\x00\\x00\\x002\\x84&quot;</td><td>&quot;12932&quot;</td><td>12932.0</td><td>b&quot;\\xa9\\x0b\\xc6\\xeb\\x00\\x00\\x00\\x00\\x00\\x00\\x00\\x00\\x00\\x00\\x00\\x00\\x00\\x00\\x00\\x00\\x00\\x00\\x00\\x00\\x00\\x00\\x00\\x00\\x00\\x00\\x00\\x00g\\xdcKc\\x00\\x00\\x00\\x00\\x00\\x00\\x00\\x00\\x00\\x00\\x00\\x00M\\xd2d\\x82s\\x8b\\xe6\\xc0l1Fz&quot;…</td><td>151692</td><td>93117</td><td>22109456838</td><td>2</td><td>20932553059</td><td>22262321339</td><td>true</td><td>260</td><td>174</td><td>86</td><td>1</td></tr><tr><td>22089468</td><td>1</td><td>b&quot;Z\\x15\\x0e\\xa7\\xa84v\\x93\\x86T\\xef\\xe77\\xda\\xde\\xc1g\\x09Y]\\x1eL\\xc6\\x91\\x10Op\\x94\\xe3\\x96\\xcfQ&quot;</td><td>6777</td><td>b&quot;)-\\xa0\\xbf\\xf7/\\x03\\x83\\xa78&amp;\\x91\\x92\\xfd\\x01R\\x9b\\xa0T3&quot;</td><td>b&quot;\\xef\\xf6\\xcb\\x8baI\\x99\\xd10\\xe57u\\x1e\\xe9\\x97$\\xd0\\x1a\\xa1g&quot;</td><td>b&quot;\\x00\\x00\\x00\\x00\\x00\\x00\\x00\\x00\\x00\\x00\\x00\\x00\\x00\\x00\\x00\\x00\\x00\\x00\\x00\\x00\\x00\\x00\\x00\\x00\\x00\\x00\\x00\\x00\\x00\\x001L&quot;</td><td>&quot;12620&quot;</td><td>12620.0</td><td>b&quot;\\x00\\x00\\x00\\x00\\x00\\x00\\x00\\x00\\x00\\x00\\x00\\x00\\x00\\x00\\x00\\x00\\x00\\x00\\x00\\x00\\x00\\x00\\x00\\x00\\x00\\x00\\x00\\x00\\x00\\x00\\x00\\x00g\\xdcKc\\x00\\x00\\x00\\x00\\x00\\x00\\x00\\x00\\x00\\x00\\x00\\x00IXd\\xca\\xd6\\xcf`\\xe9~\\xfc\\xd3\\xf1&quot;…</td><td>168119</td><td>104068</td><td>3423630352</td><td>2</td><td>2246726573</td><td>3576494853</td><td>true</td><td>260</td><td>171</td><td>89</td><td>1</td></tr><tr><td>22089468</td><td>2</td><td>b&quot;\\x8e\\xc6\\xb6e\\x85]\\x954\\xbcM\\x1b=\\xc5\\x95\\xf2~]\\xd4\\x96sUHS\\x8aO7S~\\xcdT\\x8d\\x01&quot;</td><td>8618</td><td>b&quot;\\x9d~ad{`\\xb4\\xc238\\xed\\x95\\x97\\x88\\xc7,\\xd7b\\x1f\\xd4&quot;</td><td>b&quot;\\xef\\xf6\\xcb\\x8baI\\x99\\xd10\\xe57u\\x1e\\xe9\\x97$\\xd0\\x1a\\xa1g&quot;</td><td>b&quot;\\x00\\x00\\x00\\x00\\x00\\x00\\x00\\x00\\x00\\x00\\x00\\x00\\x00\\x00\\x00\\x00\\x00\\x00\\x00\\x00\\x00\\x00\\x00\\x00\\x00\\x00\\x00\\x00\\x00\\x0026&quot;</td><td>&quot;12854&quot;</td><td>12854.0</td><td>b&quot;\\x00\\x00\\x00\\x00\\x00\\x00\\x00\\x00\\x00\\x00\\x00\\x00\\x00\\x00\\x00\\x00\\x00\\x00\\x00\\x00\\x00\\x00\\x00\\x00\\x00\\x00\\x00\\x00\\x00\\x00\\x00\\x00g\\xdcKc\\x00\\x00\\x00\\x00\\x00\\x00\\x00\\x00\\x00\\x00\\x00\\x00}\\xf7\\xc8O/\\x9d\\xce\\xf3\\xc0\\x81&gt;S&quot;…</td><td>217818</td><td>137201</td><td>2085129170</td><td>2</td><td>908225391</td><td>2237993671</td><td>true</td><td>260</td><td>175</td><td>85</td><td>1</td></tr><tr><td>22089468</td><td>3</td><td>b&quot;\\x0b\\xa0Y\\xc3}\\xea\\x91_\\xa1I\\x83\\x15W\\x05\\xf7j\\x8d\\x09k\\x03\\x8d\\x8e\\x1a$\\x9c\\xe1\\xd3\\x93\\xe4\\xd6\\xd1x&quot;</td><td>1507</td><td>b&quot;r~\\xe9\\xa0M&amp;\\x05hI\\xe2\\x98\\x10Tt\\x9biw\\x8c_1&quot;</td><td>b&quot;S\\xb5\\x9f\\xb7\\x90cg\\xc8\\xd4KiJ/\\x82\\xfe\\xddI\\x11E\\x8c&quot;</td><td>b&quot;\\x00\\x00\\x00\\x00\\x00\\x00\\x00\\x00\\x00\\x00\\x00\\x00\\x00\\x00\\x00\\x00\\x00\\x00\\x00\\x00\\x00\\x00\\x00\\x00\\x00\\x07Z\\xa7n\\xaf`\\x00&quot;</td><td>&quot;2070000000000000&quot;</td><td>2.0700e15</td><td>b&quot;B\\xb5O\\xee\\x00\\x00\\x00\\x00\\x00\\x00\\x00\\x00\\x00\\x00\\x00\\x00\\x00\\x00\\x00\\x00\\x00\\x00\\x00\\x00\\x00\\x00\\x00\\x00\\x00\\x00\\x00\\x00\\x00\\x00\\x00\\x80\\x00\\x00\\x00\\x00\\x00\\x00\\x00\\x00\\x00\\x00\\x00\\x00\\x00\\x00\\x00\\x00\\x00\\x00\\x00\\x00\\x00\\x00\\x00\\x00&quot;…</td><td>410192</td><td>281396</td><td>1676903779</td><td>2</td><td>500000000</td><td>2329140042</td><td>true</td><td>1508</td><td>1334</td><td>174</td><td>1</td></tr><tr><td>22089468</td><td>4</td><td>b&quot;\\x14r\\xf5\\x8d\\xfb\\x89\\xb6pL\\xb2\\xeb\\x82i\\xaf\\xd26\\xba\\xbfWH&lt;V\\xc9A\\xcf@=\\xeb7\\xba\\x0d\\xa9&quot;</td><td>15</td><td>b&quot;\\x9f\\x89\\xa68\\xd9\\x9cSJ\\xd8D&#x27;&quot;\\xaa\\x90\\xed\\x93/)\\x8c\\xe9&quot;</td><td>b&quot;f\\xa9\\x89&lt;\\xc0}\\x91\\xd9VD\\xae\\xdd\\x05\\xd0?\\x95\\xe1\\xdb\\xa8\\xaf&quot;</td><td>b&quot;\\x00\\x00\\x00\\x00\\x00\\x00\\x00\\x00\\x00\\x00\\x00\\x00\\x00\\x00\\x00\\x00\\x00\\x00\\x00\\x00\\x00\\x00\\x00\\x00\\x00#\\x86\\xf2o\\xc1\\x00\\x00&quot;</td><td>&quot;10000000000000000&quot;</td><td>1.0000e16</td><td>b&quot;5\\x93VL\\x00\\x00\\x00\\x00\\x00\\x00\\x00\\x00\\x00\\x00\\x00\\x00\\x00\\x00\\x00\\x00\\x00\\x00\\x00\\x00\\x00\\x00\\x00\\x00\\x00\\x00\\x00\\x00\\x00\\x00\\x00`\\x00\\x00\\x00\\x00\\x00\\x00\\x00\\x00\\x00\\x00\\x00\\x00\\x00\\x00\\x00\\x00\\x00\\x00\\x00\\x00\\x00\\x00\\x00\\x00&quot;…</td><td>232914</td><td>160074</td><td>3176903779</td><td>2</td><td>2000000000</td><td>3526894338</td><td>true</td><td>965</td><td>797</td><td>168</td><td>1</td></tr></tbody></table></div>"
      ],
      "text/plain": [
       "shape: (5, 21)\n",
       "┌────────────┬────────────┬────────────┬───────┬───┬────────────┬───────────┬───────────┬──────────┐\n",
       "│ block_numb ┆ transactio ┆ transactio ┆ nonce ┆ … ┆ n_input_by ┆ n_input_z ┆ n_input_n ┆ chain_id │\n",
       "│ er         ┆ n_index    ┆ n_hash     ┆ ---   ┆   ┆ tes        ┆ ero_bytes ┆ onzero_by ┆ ---      │\n",
       "│ ---        ┆ ---        ┆ ---        ┆ u64   ┆   ┆ ---        ┆ ---       ┆ tes       ┆ u64      │\n",
       "│ u32        ┆ u64        ┆ binary     ┆       ┆   ┆ u32        ┆ u32       ┆ ---       ┆          │\n",
       "│            ┆            ┆            ┆       ┆   ┆            ┆           ┆ u32       ┆          │\n",
       "╞════════════╪════════════╪════════════╪═══════╪═══╪════════════╪═══════════╪═══════════╪══════════╡\n",
       "│ 22089468   ┆ 0          ┆ b\"\\xae\\x1a ┆ 7799  ┆ … ┆ 260        ┆ 174       ┆ 86        ┆ 1        │\n",
       "│            ┆            ┆ :\\x05\\xb1\\ ┆       ┆   ┆            ┆           ┆           ┆          │\n",
       "│            ┆            ┆ xae\\x05\\xd ┆       ┆   ┆            ┆           ┆           ┆          │\n",
       "│            ┆            ┆ …          ┆       ┆   ┆            ┆           ┆           ┆          │\n",
       "│ 22089468   ┆ 1          ┆ b\"Z\\x15\\x0 ┆ 6777  ┆ … ┆ 260        ┆ 171       ┆ 89        ┆ 1        │\n",
       "│            ┆            ┆ e\\xa7\\xa84 ┆       ┆   ┆            ┆           ┆           ┆          │\n",
       "│            ┆            ┆ v\\x93\\x86T ┆       ┆   ┆            ┆           ┆           ┆          │\n",
       "│            ┆            ┆ …          ┆       ┆   ┆            ┆           ┆           ┆          │\n",
       "│ 22089468   ┆ 2          ┆ b\"\\x8e\\xc6 ┆ 8618  ┆ … ┆ 260        ┆ 175       ┆ 85        ┆ 1        │\n",
       "│            ┆            ┆ \\xb6e\\x85] ┆       ┆   ┆            ┆           ┆           ┆          │\n",
       "│            ┆            ┆ \\x954\\xbcM ┆       ┆   ┆            ┆           ┆           ┆          │\n",
       "│            ┆            ┆ …          ┆       ┆   ┆            ┆           ┆           ┆          │\n",
       "│ 22089468   ┆ 3          ┆ b\"\\x0b\\xa0 ┆ 1507  ┆ … ┆ 1508       ┆ 1334      ┆ 174       ┆ 1        │\n",
       "│            ┆            ┆ Y\\xc3}\\xea ┆       ┆   ┆            ┆           ┆           ┆          │\n",
       "│            ┆            ┆ \\x91_\\xa1I ┆       ┆   ┆            ┆           ┆           ┆          │\n",
       "│            ┆            ┆ …          ┆       ┆   ┆            ┆           ┆           ┆          │\n",
       "│ 22089468   ┆ 4          ┆ b\"\\x14r\\xf ┆ 15    ┆ … ┆ 965        ┆ 797       ┆ 168       ┆ 1        │\n",
       "│            ┆            ┆ 5\\x8d\\xfb\\ ┆       ┆   ┆            ┆           ┆           ┆          │\n",
       "│            ┆            ┆ x89\\xb6pL\\ ┆       ┆   ┆            ┆           ┆           ┆          │\n",
       "│            ┆            ┆ …          ┆       ┆   ┆            ┆           ┆           ┆          │\n",
       "└────────────┴────────────┴────────────┴───────┴───┴────────────┴───────────┴───────────┴──────────┘"
      ]
     },
     "execution_count": 5,
     "metadata": {},
     "output_type": "execute_result"
    }
   ],
   "source": [
    "txs.head()"
   ]
  },
  {
   "cell_type": "markdown",
   "id": "c65b52b3-c922-48f1-8404-e5e6e6ae3a6b",
   "metadata": {},
   "source": [
    "## Balance"
   ]
  },
  {
   "cell_type": "code",
   "execution_count": 202,
   "id": "35c9c5d3-0184-4a6c-baa1-3e9b4c11fa7d",
   "metadata": {},
   "outputs": [],
   "source": [
    "# ERC20s\n",
    "USDT_ADDR =\"0xdac17f958d2ee523a2206206994597c13d831ec7\"\n",
    "USDC_ADDR=\"0xa0b86991c6218b36c1d19d4a2e9eb0ce3606eb48\" \n",
    "# WALLET = Binance 18\n",
    "RANDOM_WALLET=\"0xf70da97812CB96acDF810712Aa562db8dfA3dbEF\" \n",
    "# block \n",
    "BLOCKS=\"21922375\"\n"
   ]
  },
  {
   "cell_type": "code",
   "execution_count": 203,
   "id": "6d60d6ec-1e9e-4cf8-addc-203c1b2b0017",
   "metadata": {},
   "outputs": [],
   "source": [
    "usdc_balance = cryo.collect('erc20_balances', blocks=[BLOCKS], contract=['0xa0b86991c6218b36c1d19d4a2e9eb0ce3606eb48'], address=['0xf70da97812CB96acDF810712Aa562db8dfA3dbEF'], rpc='https://eth.merkle.io')"
   ]
  },
  {
   "cell_type": "code",
   "execution_count": 204,
   "id": "04dd2dd8-7c6c-4de3-ab99-a6763beaf9ce",
   "metadata": {},
   "outputs": [
    {
     "data": {
      "text/html": [
       "<div><style>\n",
       ".dataframe > thead > tr,\n",
       ".dataframe > tbody > tr {\n",
       "  text-align: right;\n",
       "  white-space: pre-wrap;\n",
       "}\n",
       "</style>\n",
       "<small>shape: (1, 7)</small><table border=\"1\" class=\"dataframe\"><thead><tr><th>block_number</th><th>erc20</th><th>address</th><th>balance_binary</th><th>balance_string</th><th>balance_f64</th><th>chain_id</th></tr><tr><td>u32</td><td>binary</td><td>binary</td><td>binary</td><td>str</td><td>f64</td><td>u64</td></tr></thead><tbody><tr><td>21922375</td><td>b&quot;\\xa0\\xb8i\\x91\\xc6!\\x8b6\\xc1\\xd1\\x9dJ.\\x9e\\xb0\\xce6\\x06\\xebH&quot;</td><td>b&quot;\\xf7\\x0d\\xa9x\\x12\\xcb\\x96\\xac\\xdf\\x81\\x07\\x12\\xaaV-\\xb8\\xdf\\xa3\\xdb\\xef&quot;</td><td>b&quot;\\x00\\x00\\x00\\x00\\x00\\x00\\x00\\x00\\x00\\x00\\x00\\x00\\x00\\x00\\x00\\x00\\x00\\x00\\x00\\x00\\x00\\x00\\x00\\x00\\x00\\x00\\x00n\\x1a)\\x8f\\x80&quot;</td><td>&quot;472885333888&quot;</td><td>4.7289e11</td><td>1</td></tr></tbody></table></div>"
      ],
      "text/plain": [
       "shape: (1, 7)\n",
       "┌──────────────┬──────────────┬──────────────┬──────────────┬─────────────┬─────────────┬──────────┐\n",
       "│ block_number ┆ erc20        ┆ address      ┆ balance_bina ┆ balance_str ┆ balance_f64 ┆ chain_id │\n",
       "│ ---          ┆ ---          ┆ ---          ┆ ry           ┆ ing         ┆ ---         ┆ ---      │\n",
       "│ u32          ┆ binary       ┆ binary       ┆ ---          ┆ ---         ┆ f64         ┆ u64      │\n",
       "│              ┆              ┆              ┆ binary       ┆ str         ┆             ┆          │\n",
       "╞══════════════╪══════════════╪══════════════╪══════════════╪═════════════╪═════════════╪══════════╡\n",
       "│ 21922375     ┆ b\"\\xa0\\xb8i\\ ┆ b\"\\xf7\\x0d\\x ┆ b\"\\x00\\x00\\x ┆ 47288533388 ┆ 4.7289e11   ┆ 1        │\n",
       "│              ┆ x91\\xc6!\\x8b ┆ a9x\\x12\\xcb\\ ┆ 00\\x00\\x00\\x ┆ 8           ┆             ┆          │\n",
       "│              ┆ 6\\xc1\\…      ┆ x96\\xa…      ┆ 00\\x00…      ┆             ┆             ┆          │\n",
       "└──────────────┴──────────────┴──────────────┴──────────────┴─────────────┴─────────────┴──────────┘"
      ]
     },
     "execution_count": 204,
     "metadata": {},
     "output_type": "execute_result"
    }
   ],
   "source": [
    "usdc_balance"
   ]
  },
  {
   "cell_type": "code",
   "execution_count": 205,
   "id": "e858e41a-d3ba-4f8f-b388-92af3a6f1844",
   "metadata": {},
   "outputs": [],
   "source": [
    "output_addr=usdc_balance['erc20'][0]"
   ]
  },
  {
   "cell_type": "code",
   "execution_count": 206,
   "id": "501c6e3e-9193-4bf3-95fa-86a9b63db82a",
   "metadata": {},
   "outputs": [
    {
     "data": {
      "text/plain": [
       "'a0b86991c6218b36c1d19d4a2e9eb0ce3606eb48'"
      ]
     },
     "execution_count": 206,
     "metadata": {},
     "output_type": "execute_result"
    }
   ],
   "source": [
    "output_addr.hex()"
   ]
  },
  {
   "cell_type": "code",
   "execution_count": 207,
   "id": "3b93fb52-1a8c-4204-b85f-7f34edac77db",
   "metadata": {},
   "outputs": [
    {
     "data": {
      "text/plain": [
       "'f70da97812cb96acdf810712aa562db8dfa3dbef'"
      ]
     },
     "execution_count": 207,
     "metadata": {},
     "output_type": "execute_result"
    }
   ],
   "source": [
    "usdc_balance['address'][0].hex()"
   ]
  },
  {
   "cell_type": "code",
   "execution_count": 208,
   "id": "f63c87bf-b93b-47b5-8c0b-011346d6dab7",
   "metadata": {},
   "outputs": [
    {
     "data": {
      "text/plain": [
       "b'\\x00\\x00\\x00\\x00\\x00\\x00\\x00\\x00\\x00\\x00\\x00\\x00\\x00\\x00\\x00\\x00\\x00\\x00\\x00\\x00\\x00\\x00\\x00\\x00\\x00\\x00\\x00n\\x1a)\\x8f\\x80'"
      ]
     },
     "execution_count": 208,
     "metadata": {},
     "output_type": "execute_result"
    }
   ],
   "source": [
    "usdc_balance['balance_binary'][0]"
   ]
  },
  {
   "cell_type": "code",
   "execution_count": 209,
   "id": "94359eba-9544-464e-8664-1005a3036d05",
   "metadata": {},
   "outputs": [],
   "source": [
    "balance= usdc_balance['balance_binary'][0]"
   ]
  },
  {
   "cell_type": "code",
   "execution_count": 210,
   "id": "209fd1fe-2c89-4adc-9407-bdf712a9d939",
   "metadata": {},
   "outputs": [
    {
     "data": {
      "text/plain": [
       "472885333888"
      ]
     },
     "execution_count": 210,
     "metadata": {},
     "output_type": "execute_result"
    }
   ],
   "source": [
    "int((balance).hex(),16)"
   ]
  },
  {
   "cell_type": "code",
   "execution_count": 211,
   "id": "28f603db-ed75-4e1e-a312-1cf153eb953c",
   "metadata": {},
   "outputs": [
    {
     "data": {
      "text/plain": [
       "'472885333888'"
      ]
     },
     "execution_count": 211,
     "metadata": {},
     "output_type": "execute_result"
    }
   ],
   "source": [
    "usdc_balance['balance_string'][0]"
   ]
  },
  {
   "cell_type": "code",
   "execution_count": 212,
   "id": "f487558e-2b55-403f-b07b-30df50ec9274",
   "metadata": {},
   "outputs": [],
   "source": [
    "balance_raw = decode(['uint256'], usdc_balance['balance_binary'][0])"
   ]
  },
  {
   "cell_type": "code",
   "execution_count": 213,
   "id": "cc72c6d6-8b18-48d6-ae56-9f10642b347c",
   "metadata": {},
   "outputs": [
    {
     "data": {
      "text/plain": [
       "(472885333888,)"
      ]
     },
     "execution_count": 213,
     "metadata": {},
     "output_type": "execute_result"
    }
   ],
   "source": [
    "balance_raw"
   ]
  },
  {
   "cell_type": "code",
   "execution_count": 214,
   "id": "88719c24-f313-46d6-8a79-c74ea19ad75c",
   "metadata": {},
   "outputs": [
    {
     "data": {
      "text/plain": [
       "472885.333888"
      ]
     },
     "execution_count": 214,
     "metadata": {},
     "output_type": "execute_result"
    }
   ],
   "source": [
    " balance_raw[0] / 10**6"
   ]
  },
  {
   "cell_type": "code",
   "execution_count": 215,
   "id": "32b2ff22-4dfb-412e-af06-993572de0efe",
   "metadata": {},
   "outputs": [],
   "source": [
    "# BLOCKS=\"21922375\" >> usdc 472,885.333888"
   ]
  },
  {
   "cell_type": "markdown",
   "id": "096969bf-58fb-4d7d-8088-f1c601d4e09c",
   "metadata": {},
   "source": [
    "## Aave Pools Data"
   ]
  },
  {
   "cell_type": "code",
   "execution_count": 216,
   "id": "03383f7f-88be-4453-844d-d1444592e85c",
   "metadata": {},
   "outputs": [],
   "source": [
    "#  AAVE\n",
    "# https://etherscan.io/address/0x87870bca3f3fd6335c3f4ce8392d69350b4fa4e2#readProxyContract"
   ]
  },
  {
   "cell_type": "code",
   "execution_count": 6,
   "id": "6615c0fb-d8c3-4f57-a74a-809c2a3f1c8c",
   "metadata": {},
   "outputs": [],
   "source": [
    "MULTICALL3_ADDRESS = '0xcA11bde05977b3631167028862bE2a173976CA11'\n",
    "MULTICALL3_ABI=json.loads('[{\"inputs\":[{\"internalType\":\"bool\",\"name\":\"requireSuccess\",\"type\":\"bool\"},{\"components\":[{\"internalType\":\"address\",\"name\":\"target\",\"type\":\"address\"},{\"internalType\":\"bytes\",\"name\":\"callData\",\"type\":\"bytes\"}],\"internalType\":\"struct Multicall3.Call[]\",\"name\":\"calls\",\"type\":\"tuple[]\"}],\"name\":\"tryAggregate\",\"outputs\":[{\"components\":[{\"internalType\":\"bool\",\"name\":\"success\",\"type\":\"bool\"},{\"internalType\":\"bytes\",\"name\":\"returnData\",\"type\":\"bytes\"}],\"internalType\":\"struct Multicall3.Result[]\",\"name\":\"returnData\",\"type\":\"tuple[]\"}],\"stateMutability\":\"payable\",\"type\":\"function\"}]')"
   ]
  },
  {
   "cell_type": "code",
   "execution_count": 7,
   "id": "fb81327b-d14f-4b93-81ef-5fa4e04858c2",
   "metadata": {},
   "outputs": [],
   "source": [
    "AAVE_POOL_PROVIDER_ADDRESS = \"0x2f39d218133AFaB8F2B819B1066c7E434Ad94E9e\"\n",
    "AAVE_POOL_DATA_PROVIDER_ADDRESS = \"0x7B4EB56E7CD4b454BA8ff71E4518426369a138a3\"\n",
    "RATE_STRATEGY_V2= \"0x9ec6F08190DeA04A54f8Afc53Db96134e5E3FdFB\"\n",
    "DAI_ADDRESS = \"0x6b175474e89094c44da98b954eedeac495271d0f\"  # DAI on Ethereum Mainnet\n",
    "WETH_ADDRESS = '0xC02aaA39b223FE8D0A0e5C4F27eAD9083C756Cc2'  # WETH\n",
    "USDC_ADDRESS = '0xA0b86991c6218b36c1d19D4a2e9Eb0cE3606eB48'   # USDC"
   ]
  },
  {
   "cell_type": "code",
   "execution_count": 8,
   "id": "aa267162-c4c5-467c-bc2e-396d6146b774",
   "metadata": {},
   "outputs": [],
   "source": [
    "AAVE_POOL_DATA_PROVIDER_ABI = json.loads('[{\"inputs\":[{\"internalType\":\"address\",\"name\":\"asset\",\"type\":\"address\"}],\"name\":\"getReserveData\",\"outputs\":[{\"internalType\":\"uint256\",\"name\":\"unbacked\",\"type\":\"uint256\"},{\"internalType\":\"uint256\",\"name\":\"accruedToTreasuryScaled\",\"type\":\"uint256\"},{\"internalType\":\"uint256\",\"name\":\"totalAToken\",\"type\":\"uint256\"},{\"internalType\":\"uint256\",\"name\":\"totalStableDebt\",\"type\":\"uint256\"},{\"internalType\":\"uint256\",\"name\":\"totalVariableDebt\",\"type\":\"uint256\"},{\"internalType\":\"uint256\",\"name\":\"liquidityRate\",\"type\":\"uint256\"},{\"internalType\":\"uint256\",\"name\":\"variableBorrowRate\",\"type\":\"uint256\"},{\"internalType\":\"uint256\",\"name\":\"stableBorrowRate\",\"type\":\"uint256\"},{\"internalType\":\"uint256\",\"name\":\"averageStableBorrowRate\",\"type\":\"uint256\"},{\"internalType\":\"uint256\",\"name\":\"liquidityIndex\",\"type\":\"uint256\"},{\"internalType\":\"uint256\",\"name\":\"variableBorrowIndex\",\"type\":\"uint256\"},{\"internalType\":\"uint40\",\"name\":\"lastUpdateTimestamp\",\"type\":\"uint40\"}],\"stateMutability\":\"view\",\"type\":\"function\"},{\"inputs\":[{\"internalType\":\"address\",\"name\":\"asset\",\"type\":\"address\"}],\"name\":\"getReserveTokensAddresses\",\"outputs\":[{\"internalType\":\"address\",\"name\":\"aTokenAddress\",\"type\":\"address\"},{\"internalType\":\"address\",\"name\":\"stableDebtTokenAddress\",\"type\":\"address\"},{\"internalType\":\"address\",\"name\":\"variableDebtTokenAddress\",\"type\":\"address\"}],\"stateMutability\":\"view\",\"type\":\"function\"},{\"inputs\":[],\"name\":\"getAllReservesTokens\",\"outputs\":[{\"components\":[{\"internalType\":\"string\",\"name\":\"symbol\",\"type\":\"string\"},{\"internalType\":\"address\",\"name\":\"tokenAddress\",\"type\":\"address\"}],\"internalType\":\"struct IPoolDataProvider.TokenData[]\",\"name\":\"\",\"type\":\"tuple[]\"}],\"stateMutability\":\"view\",\"type\":\"function\"}]')\n"
   ]
  },
  {
   "cell_type": "code",
   "execution_count": 9,
   "id": "46b7c887-af26-43eb-9a35-361f87be8f44",
   "metadata": {},
   "outputs": [],
   "source": [
    "# Funct Sig\n",
    "getAllReservesTokens_4b='b316ff89'\n",
    "getReserveData_4b='35ea6a75'\n",
    "getReserveTokensAddresses_4b='d2493b6c'"
   ]
  },
  {
   "cell_type": "code",
   "execution_count": 221,
   "id": "e04b74c1-f890-4d46-8e88-e5bbfcc4a52a",
   "metadata": {},
   "outputs": [],
   "source": [
    "# getReserveData(address) method Response ]\n",
    "#   unbacked   uint256 :  0\n",
    "#   accruedToTreasuryScaled   uint256 :  23618787780361774928\n",
    "#   totalAToken   uint256 :  2039801843604753838311618\n",
    "#   totalStableDebt   uint256 :  0\n",
    "#   totalVariableDebt   uint256 :  1764755511852628454833269\n",
    "#   liquidityRate   uint256 :  19086348066645041248157072\n",
    "#   variableBorrowRate   uint256 :  25954495065727705440586566\n",
    "#   stableBorrowRate   uint256 :  0\n",
    "#   averageStableBorrowRate   uint256 :  0\n",
    "#   liquidityIndex   uint256 :  1040724217363078276332975414\n",
    "#   variableBorrowIndex   uint256 :  1064692592486700566822429320\n",
    "#   lastUpdateTimestamp   uint40 :  1740762059\n",
    "\n",
    "# unbacked, accruedToTreasuryScaled, totalAToken, totalStableDebt, totalVariableDebt, liquidityRate,variableBorrowRate,stableBorrowRate,averageStableBorrowRate,liquidityIndex,variableBorrowIndex,lastUpdateTimestamp\n",
    "\n",
    "# output_types = ['int256', 'uint256', 'uint256', 'uint256', 'uint256', 'uint256', 'uint256', 'uint256', 'uint256', 'uint256', 'uint256', 'uint40']"
   ]
  },
  {
   "cell_type": "code",
   "execution_count": 10,
   "id": "b25d61dd-efd0-462e-90ce-9b0af8a01ce2",
   "metadata": {},
   "outputs": [],
   "source": [
    "# web3 instance, function from web3py\n",
    "w3 = web3.Web3()\n",
    "a3 = w3.eth.contract(address = AAVE_POOL_DATA_PROVIDER_ADDRESS, abi=AAVE_POOL_DATA_PROVIDER_ABI)\n",
    "m3 = w3.eth.contract(address = MULTICALL3_ADDRESS, abi=MULTICALL3_ABI)"
   ]
  },
  {
   "cell_type": "code",
   "execution_count": 11,
   "id": "28f35bda-89cc-403a-8b36-98edaf505953",
   "metadata": {},
   "outputs": [],
   "source": [
    "tokens = [\n",
    "    '0x6B175474E89094C44Da98b954EedeAC495271d0F',  # DAI\n",
    "    '0xC02aaA39b223FE8D0A0e5C4F27eAD9083C756Cc2',  # WETH\n",
    "    '0xA0b86991c6218b36c1d19D4a2e9Eb0cE3606eB48'   # USDC\n",
    "]"
   ]
  },
  {
   "cell_type": "code",
   "execution_count": 12,
   "id": "e7e60ba9-7257-4620-a0cf-2881dc38cdc1",
   "metadata": {},
   "outputs": [],
   "source": [
    "calls = []\n",
    "for token in tokens:\n",
    "    # Encode the call to getReserveData for this token\n",
    "    calldata = a3.encode_abi(\"getReserveData\", args=[token])\n",
    "    calls.append([AAVE_POOL_DATA_PROVIDER_ADDRESS, calldata])"
   ]
  },
  {
   "cell_type": "code",
   "execution_count": 13,
   "id": "3b23ef9d-66dc-45a6-add9-c072cad486c0",
   "metadata": {},
   "outputs": [
    {
     "data": {
      "text/plain": [
       "[['0x7B4EB56E7CD4b454BA8ff71E4518426369a138a3',\n",
       "  '0x35ea6a750000000000000000000000006b175474e89094c44da98b954eedeac495271d0f'],\n",
       " ['0x7B4EB56E7CD4b454BA8ff71E4518426369a138a3',\n",
       "  '0x35ea6a75000000000000000000000000c02aaa39b223fe8d0a0e5c4f27ead9083c756cc2'],\n",
       " ['0x7B4EB56E7CD4b454BA8ff71E4518426369a138a3',\n",
       "  '0x35ea6a75000000000000000000000000a0b86991c6218b36c1d19d4a2e9eb0ce3606eb48']]"
      ]
     },
     "execution_count": 13,
     "metadata": {},
     "output_type": "execute_result"
    }
   ],
   "source": [
    "calls"
   ]
  },
  {
   "cell_type": "code",
   "execution_count": 14,
   "id": "f0ad1451-f2ca-41a2-8db0-458987b74782",
   "metadata": {},
   "outputs": [],
   "source": [
    "# result = m3.functions.tryAggregate(False, calls).call()\n",
    "calldata_aave_pool = m3.encode_abi(\"tryAggregate\", args=[False, calls])"
   ]
  },
  {
   "cell_type": "code",
   "execution_count": 15,
   "id": "6f6b788d-08ea-490a-8c14-ace474d0e13f",
   "metadata": {},
   "outputs": [],
   "source": [
    "cryo_kwargs = {\n",
    "    'rpc': 'https://eth.merkle.io',\n",
    "    'blocks': ['latest'], \n",
    "}\n",
    "            \n",
    "eth_call_df = cryo.collect(\n",
    "    'eth_calls',\n",
    "    to_address = [MULTICALL3_ADDRESS],\n",
    "    call_data=[calldata_aave_pool],\n",
    "     output_format=\"polars\",\n",
    "    **cryo_kwargs,\n",
    ")"
   ]
  },
  {
   "cell_type": "code",
   "execution_count": 16,
   "id": "d490369f-c51d-4f61-8769-68111a1c9f3c",
   "metadata": {},
   "outputs": [],
   "source": [
    "calldata = eth_call_df['output_data'][0]"
   ]
  },
  {
   "cell_type": "code",
   "execution_count": 17,
   "id": "9b874c7a-679e-4e9f-b90f-73d2464ff2b2",
   "metadata": {},
   "outputs": [],
   "source": [
    "decoded_data = decode(['(bool,bytes)[]'] , calldata)[0]"
   ]
  },
  {
   "cell_type": "code",
   "execution_count": 18,
   "id": "be6bd17e-cf33-4919-98f0-60096fd153ae",
   "metadata": {},
   "outputs": [
    {
     "data": {
      "text/plain": [
       "((True,\n",
       "  b'\\x00\\x00\\x00\\x00\\x00\\x00\\x00\\x00\\x00\\x00\\x00\\x00\\x00\\x00\\x00\\x00\\x00\\x00\\x00\\x00\\x00\\x00\\x00\\x00\\x00\\x00\\x00\\x00\\x00\\x00\\x00\\x00\\x00\\x00\\x00\\x00\\x00\\x00\\x00\\x00\\x00\\x00\\x00\\x00\\x00\\x00\\x00\\x00\\x00\\x00\\x00\\x00\\x00\\x00\\x00Ro\\xd1\\x8e~\\xf5-\\xa4\\x8b\\x00\\x00\\x00\\x00\\x00\\x00\\x00\\x00\\x00\\x00\\x00\\x00\\x00\\x00\\x00\\x00\\x00\\x00\\x00\\x00\\x00\\x8b\\x96`\\xe4\\xd5\\x02\\xa9o\\xc4|\\x0c\\x00\\x00\\x00\\x00\\x00\\x00\\x00\\x00\\x00\\x00\\x00\\x00\\x00\\x00\\x00\\x00\\x00\\x00\\x00\\x00\\x00\\x00\\x00\\x00\\x00\\x00\\x00\\x00\\x00\\x00\\x00\\x00\\x00\\x00\\x00\\x00\\x00\\x00\\x00\\x00\\x00\\x00\\x00\\x00\\x00\\x00\\x00\\x00\\x00\\x00\\x00\\x00\\x00h\\xe8.\\xec\\rF\\xb11\\xa0\\xf3\\xf0\\x00\\x00\\x00\\x00\\x00\\x00\\x00\\x00\\x00\\x00\\x00\\x00\\x00\\x00\\x00\\x00\\x00\\x00\\x00\\x00\\x00\\x18\\xc1\\xbc\\xaa&\\xdb\\x837\\r\\xe7t\\x00\\x00\\x00\\x00\\x00\\x00\\x00\\x00\\x00\\x00\\x00\\x00\\x00\\x00\\x00\\x00\\x00\\x00\\x00\\x00\\x00+\\xeb\\xf6\\x8c\\x86\\x91\\xff\\xbb\\x82c\"\\x00\\x00\\x00\\x00\\x00\\x00\\x00\\x00\\x00\\x00\\x00\\x00\\x00\\x00\\x00\\x00\\x00\\x00\\x00\\x00\\x00\\x00\\x00\\x00\\x00\\x00\\x00\\x00\\x00\\x00\\x00\\x00\\x00\\x00\\x00\\x00\\x00\\x00\\x00\\x00\\x00\\x00\\x00\\x00\\x00\\x00\\x00\\x00\\x00\\x00\\x00\\x00\\x00\\x00\\x00\\x00\\x00\\x00\\x00\\x00\\x00\\x00\\x00\\x00\\x00\\x00\\x00\\x00\\x00\\x00\\x00\\x00\\x00\\x00\\x00\\x00\\x00\\x00\\x00\\x00\\x00\\x00\\x00\\x00\\x03\\x9f\\x1f\\x17\\t\\x947\\xe4\\xf8\\xde3)\\x00\\x00\\x00\\x00\\x00\\x00\\x00\\x00\\x00\\x00\\x00\\x00\\x00\\x00\\x00\\x00\\x00\\x00\\x00\\x00\\x03\\xcd\\xdeZ\\xe5w2!zU\\xe4\\xeb\\x00\\x00\\x00\\x00\\x00\\x00\\x00\\x00\\x00\\x00\\x00\\x00\\x00\\x00\\x00\\x00\\x00\\x00\\x00\\x00\\x00\\x00\\x00\\x00\\x00\\x00\\x00\\x00g\\xdcK?'),\n",
       " (True,\n",
       "  b'\\x00\\x00\\x00\\x00\\x00\\x00\\x00\\x00\\x00\\x00\\x00\\x00\\x00\\x00\\x00\\x00\\x00\\x00\\x00\\x00\\x00\\x00\\x00\\x00\\x00\\x00\\x00\\x00\\x00\\x00\\x00\\x00\\x00\\x00\\x00\\x00\\x00\\x00\\x00\\x00\\x00\\x00\\x00\\x00\\x00\\x00\\x00\\x00\\x00\\x00\\x00\\x00\\x00\\x00\\x00\\x00\\\\\\x97(Y\\x94\\xd4\\x07_\\x00\\x00\\x00\\x00\\x00\\x00\\x00\\x00\\x00\\x00\\x00\\x00\\x00\\x00\\x00\\x00\\x00\\x00\\x00\\x00\\x00\\x01\\xcc\\xf2\\x99\\x9d\\x0e:*\\x8a\\xd5]\\x00\\x00\\x00\\x00\\x00\\x00\\x00\\x00\\x00\\x00\\x00\\x00\\x00\\x00\\x00\\x00\\x00\\x00\\x00\\x00\\x00\\x00\\x00\\x00\\x00\\x00\\x00\\x00\\x00\\x00\\x00\\x00\\x00\\x00\\x00\\x00\\x00\\x00\\x00\\x00\\x00\\x00\\x00\\x00\\x00\\x00\\x00\\x00\\x00\\x00\\x00\\x00\\x00\\x01\\x91\\xc2&g\\t\\xbe\\xd7\\xa9\\x95{\\x00\\x00\\x00\\x00\\x00\\x00\\x00\\x00\\x00\\x00\\x00\\x00\\x00\\x00\\x00\\x00\\x00\\x00\\x00\\x00\\x00\\x10\\x06\\x15-s\\x8e\\x88\\xa4\\xd0f-\\x00\\x00\\x00\\x00\\x00\\x00\\x00\\x00\\x00\\x00\\x00\\x00\\x00\\x00\\x00\\x00\\x00\\x00\\x00\\x00\\x00\\x15\\xa0\\xfc\\xc0\\x13\\xa0\\x94\\x07T\\xfc9\\x00\\x00\\x00\\x00\\x00\\x00\\x00\\x00\\x00\\x00\\x00\\x00\\x00\\x00\\x00\\x00\\x00\\x00\\x00\\x00\\x00\\x00\\x00\\x00\\x00\\x00\\x00\\x00\\x00\\x00\\x00\\x00\\x00\\x00\\x00\\x00\\x00\\x00\\x00\\x00\\x00\\x00\\x00\\x00\\x00\\x00\\x00\\x00\\x00\\x00\\x00\\x00\\x00\\x00\\x00\\x00\\x00\\x00\\x00\\x00\\x00\\x00\\x00\\x00\\x00\\x00\\x00\\x00\\x00\\x00\\x00\\x00\\x00\\x00\\x00\\x00\\x00\\x00\\x00\\x00\\x00\\x00\\x00\\x00\\x03]\\xe3#\\x0c\\xa6/\\xa5\\x9b\\xd9(\\x1d\\x00\\x00\\x00\\x00\\x00\\x00\\x00\\x00\\x00\\x00\\x00\\x00\\x00\\x00\\x00\\x00\\x00\\x00\\x00\\x00\\x03r\\x11\\xc0\\x81+\\xceQ\\xd7\\xcc\\x13\\x0f\\x00\\x00\\x00\\x00\\x00\\x00\\x00\\x00\\x00\\x00\\x00\\x00\\x00\\x00\\x00\\x00\\x00\\x00\\x00\\x00\\x00\\x00\\x00\\x00\\x00\\x00\\x00\\x00g\\xdcKW'),\n",
       " (True,\n",
       "  b\"\\x00\\x00\\x00\\x00\\x00\\x00\\x00\\x00\\x00\\x00\\x00\\x00\\x00\\x00\\x00\\x00\\x00\\x00\\x00\\x00\\x00\\x00\\x00\\x00\\x00\\x00\\x00\\x00\\x00\\x00\\x00\\x00\\x00\\x00\\x00\\x00\\x00\\x00\\x00\\x00\\x00\\x00\\x00\\x00\\x00\\x00\\x00\\x00\\x00\\x00\\x00\\x00\\x00\\x00\\x00\\x00\\x00\\x00\\x00\\x01x\\x92\\xbf\\x8c\\x00\\x00\\x00\\x00\\x00\\x00\\x00\\x00\\x00\\x00\\x00\\x00\\x00\\x00\\x00\\x00\\x00\\x00\\x00\\x00\\x00\\x00\\x00\\x00\\x00\\n\\r7\\xf1\\x14\\xfb\\xe9\\x00\\x00\\x00\\x00\\x00\\x00\\x00\\x00\\x00\\x00\\x00\\x00\\x00\\x00\\x00\\x00\\x00\\x00\\x00\\x00\\x00\\x00\\x00\\x00\\x00\\x00\\x00\\x00\\x00\\x00\\x00\\x00\\x00\\x00\\x00\\x00\\x00\\x00\\x00\\x00\\x00\\x00\\x00\\x00\\x00\\x00\\x00\\x00\\x00\\x00\\x00\\x00\\x00\\x00\\x00\\x00\\x00\\x06<n\\x98Sw\\x88\\x00\\x00\\x00\\x00\\x00\\x00\\x00\\x00\\x00\\x00\\x00\\x00\\x00\\x00\\x00\\x00\\x00\\x00\\x00\\x00\\x00\\x14>\\xab\\xb3L\\xc6\\x99\\xa1\\x12\\x07M\\x00\\x00\\x00\\x00\\x00\\x00\\x00\\x00\\x00\\x00\\x00\\x00\\x00\\x00\\x00\\x00\\x00\\x00\\x00\\x00\\x00$A\\xef\\x1b\\x8b\\x7fw}\\xf3\\x9e\\xce\\x00\\x00\\x00\\x00\\x00\\x00\\x00\\x00\\x00\\x00\\x00\\x00\\x00\\x00\\x00\\x00\\x00\\x00\\x00\\x00\\x00\\x00\\x00\\x00\\x00\\x00\\x00\\x00\\x00\\x00\\x00\\x00\\x00\\x00\\x00\\x00\\x00\\x00\\x00\\x00\\x00\\x00\\x00\\x00\\x00\\x00\\x00\\x00\\x00\\x00\\x00\\x00\\x00\\x00\\x00\\x00\\x00\\x00\\x00\\x00\\x00\\x00\\x00\\x00\\x00\\x00\\x00\\x00\\x00\\x00\\x00\\x00\\x00\\x00\\x00\\x00\\x00\\x00\\x00\\x00\\x00\\x00\\x00\\x00\\x03\\xa1\\xbb\\x9c\\xce\\xd2\\xd6j\\xd7\\xd8\\xd5g\\x00\\x00\\x00\\x00\\x00\\x00\\x00\\x00\\x00\\x00\\x00\\x00\\x00\\x00\\x00\\x00\\x00\\x00\\x00\\x00\\x03\\xc2\\x1eO\\x92\\xc9\\x16\\xf7m'\\xf6\\xad\\x00\\x00\\x00\\x00\\x00\\x00\\x00\\x00\\x00\\x00\\x00\\x00\\x00\\x00\\x00\\x00\\x00\\x00\\x00\\x00\\x00\\x00\\x00\\x00\\x00\\x00\\x00\\x00g\\xdcK\\x0f\"))"
      ]
     },
     "execution_count": 18,
     "metadata": {},
     "output_type": "execute_result"
    }
   ],
   "source": [
    "decoded_data"
   ]
  },
  {
   "cell_type": "code",
   "execution_count": 19,
   "id": "18cf95cc-2a35-48c2-8ecb-c45c382148e4",
   "metadata": {},
   "outputs": [],
   "source": [
    "token_data = {\n",
    "    'DAI_RESERVE_DATA': [],\n",
    "    'WETH_RESERVE_DATA': [],\n",
    "    'USDC_RESERVE_DATA': []\n",
    "}"
   ]
  },
  {
   "cell_type": "markdown",
   "id": "4bea1078-628d-468a-b10b-142714f657fd",
   "metadata": {},
   "source": [
    "#### DAI Pools Data"
   ]
  },
  {
   "cell_type": "code",
   "execution_count": 20,
   "id": "14468094-1249-4228-bd12-a1c13812afd4",
   "metadata": {},
   "outputs": [],
   "source": [
    "dai_reserve_data = decoded_data[0]"
   ]
  },
  {
   "cell_type": "code",
   "execution_count": 21,
   "id": "85631b62-394f-4c81-b784-d15595535d0c",
   "metadata": {},
   "outputs": [],
   "source": [
    "data_dai=decode(['int256', 'uint256', 'uint256', 'uint256', 'uint256', 'uint256', 'uint256', 'uint256', 'uint256', 'uint256', 'uint256', 'uint40'],dai_reserve_data[1])"
   ]
  },
  {
   "cell_type": "code",
   "execution_count": 22,
   "id": "37c357ca-cd86-402a-954b-62f44d9e01b2",
   "metadata": {},
   "outputs": [],
   "source": [
    "token_data['DAI_RESERVE_DATA'] = list(data_dai)"
   ]
  },
  {
   "cell_type": "code",
   "execution_count": 23,
   "id": "832522dc-d562-466f-a208-c79338daf9dc",
   "metadata": {},
   "outputs": [
    {
     "data": {
      "text/plain": [
       "{'DAI_RESERVE_DATA': [0,\n",
       "  1520690391928456193163,\n",
       "  168750831275383515617983500,\n",
       "  0,\n",
       "  126824739823503677002413040,\n",
       "  29929116650559191288506228,\n",
       "  53098114391886893424993058,\n",
       "  0,\n",
       "  0,\n",
       "  1120821053109081998735848233,\n",
       "  1177334864585937558368019691,\n",
       "  1742490431],\n",
       " 'WETH_RESERVE_DATA': [],\n",
       " 'USDC_RESERVE_DATA': []}"
      ]
     },
     "execution_count": 23,
     "metadata": {},
     "output_type": "execute_result"
    }
   ],
   "source": [
    "token_data"
   ]
  },
  {
   "cell_type": "code",
   "execution_count": 236,
   "id": "b9ffc9bb-4754-4856-8127-c9a9b0a101a6",
   "metadata": {},
   "outputs": [],
   "source": [
    "# [unbacked, accruedToTreasuryScaled, totalAToken, totalStableDebt, totalVariableDebt, liquidityRate,variableBorrowRate,stableBorrowRate,averageStableBorrowRate,liquidityIndex,variableBorrowIndex,lastUpdateTimestamp\n",
    "# ]=decode(['int256', 'uint256', 'uint256', 'uint256', 'uint256', 'uint256', 'uint256', 'uint256', 'uint256', 'uint256', 'uint256', 'uint40'],dai_reserve_data[1])"
   ]
  },
  {
   "cell_type": "markdown",
   "id": "2d7a5094-4c6a-4e1e-bcc1-4403bb079828",
   "metadata": {},
   "source": [
    "####  WETH Pools Data"
   ]
  },
  {
   "cell_type": "code",
   "execution_count": 24,
   "id": "12311116-ea82-418c-a6d2-2ab201a49a0e",
   "metadata": {},
   "outputs": [],
   "source": [
    "weth_reserve_data = decoded_data[1]"
   ]
  },
  {
   "cell_type": "code",
   "execution_count": 25,
   "id": "aea95842-8ebb-4e4e-a360-709468df42dc",
   "metadata": {},
   "outputs": [],
   "source": [
    "data_weth=decode(['int256', 'uint256', 'uint256', 'uint256', 'uint256', 'uint256', 'uint256', 'uint256', 'uint256', 'uint256', 'uint256', 'uint40'],weth_reserve_data[1])"
   ]
  },
  {
   "cell_type": "code",
   "execution_count": 26,
   "id": "046d7d6a-7ff6-462d-a536-5b65eb0d96b4",
   "metadata": {},
   "outputs": [],
   "source": [
    "token_data['WETH_RESERVE_DATA'] = list(data_weth)"
   ]
  },
  {
   "cell_type": "code",
   "execution_count": 240,
   "id": "654ec92b-fbf1-4221-9c50-17696724afb1",
   "metadata": {},
   "outputs": [],
   "source": [
    "# [unbacked, accruedToTreasuryScaled, totalAToken, totalStableDebt, totalVariableDebt, liquidityRate,variableBorrowRate,stableBorrowRate,averageStableBorrowRate,liquidityIndex,variableBorrowIndex,lastUpdateTimestamp\n",
    "# ]=decode(['int256', 'uint256', 'uint256', 'uint256', 'uint256', 'uint256', 'uint256', 'uint256', 'uint256', 'uint256', 'uint256', 'uint40'],weth_reserve_data[1])"
   ]
  },
  {
   "cell_type": "code",
   "execution_count": 28,
   "id": "7fb75b7d-5896-458b-a148-0138345b2f50",
   "metadata": {},
   "outputs": [
    {
     "data": {
      "text/plain": [
       "{'DAI_RESERVE_DATA': [0,\n",
       "  1520690391928456193163,\n",
       "  168750831275383515617983500,\n",
       "  0,\n",
       "  126824739823503677002413040,\n",
       "  29929116650559191288506228,\n",
       "  53098114391886893424993058,\n",
       "  0,\n",
       "  0,\n",
       "  1120821053109081998735848233,\n",
       "  1177334864585937558368019691,\n",
       "  1742490431],\n",
       " 'WETH_RESERVE_DATA': [0,\n",
       "  6671845738186803039,\n",
       "  2176763763204976640972125,\n",
       "  0,\n",
       "  1897250395172238692816251,\n",
       "  19371537969474904127465005,\n",
       "  26147683269255568188308537,\n",
       "  0,\n",
       "  0,\n",
       "  1041957754427318071639746589,\n",
       "  1066356404212933774092800783,\n",
       "  1742490455],\n",
       " 'USDC_RESERVE_DATA': []}"
      ]
     },
     "execution_count": 28,
     "metadata": {},
     "output_type": "execute_result"
    }
   ],
   "source": [
    "token_data"
   ]
  },
  {
   "cell_type": "markdown",
   "id": "3f86a9af-0066-4cd0-a834-d7b1c9b870f3",
   "metadata": {},
   "source": [
    "####  USDC Pools Data"
   ]
  },
  {
   "cell_type": "code",
   "execution_count": 29,
   "id": "4b417a52-93d9-4252-8d12-78346f4e5f68",
   "metadata": {},
   "outputs": [],
   "source": [
    "usdc_reserve_data = decoded_data[2]"
   ]
  },
  {
   "cell_type": "code",
   "execution_count": 30,
   "id": "9c5a375a-c140-4701-964e-ea18da88cb90",
   "metadata": {},
   "outputs": [],
   "source": [
    "data_usdc=decode(['int256', 'uint256', 'uint256', 'uint256', 'uint256', 'uint256', 'uint256', 'uint256', 'uint256', 'uint256', 'uint256', 'uint40'],usdc_reserve_data[1])"
   ]
  },
  {
   "cell_type": "code",
   "execution_count": 31,
   "id": "ce01c52c-8782-419d-9b31-fdb14a74c7c6",
   "metadata": {},
   "outputs": [],
   "source": [
    "token_data['USDC_RESERVE_DATA'] = list(data_usdc)"
   ]
  },
  {
   "cell_type": "code",
   "execution_count": 245,
   "id": "f51e67ed-5479-406c-acee-e98e4345a3da",
   "metadata": {},
   "outputs": [],
   "source": [
    "# [unbacked, accruedToTreasuryScaled, totalAToken, totalStableDebt, totalVariableDebt, liquidityRate,variableBorrowRate,stableBorrowRate,averageStableBorrowRate,liquidityIndex,variableBorrowIndex,lastUpdateTimestamp\n",
    "# ]=decode(['int256', 'uint256', 'uint256', 'uint256', 'uint256', 'uint256', 'uint256', 'uint256', 'uint256', 'uint256', 'uint256', 'uint40'],usdc_reserve_data[1])"
   ]
  },
  {
   "cell_type": "code",
   "execution_count": 32,
   "id": "99272d56-4454-409e-8347-5cc44c158451",
   "metadata": {},
   "outputs": [
    {
     "data": {
      "text/plain": [
       "{'DAI_RESERVE_DATA': [0,\n",
       "  1520690391928456193163,\n",
       "  168750831275383515617983500,\n",
       "  0,\n",
       "  126824739823503677002413040,\n",
       "  29929116650559191288506228,\n",
       "  53098114391886893424993058,\n",
       "  0,\n",
       "  0,\n",
       "  1120821053109081998735848233,\n",
       "  1177334864585937558368019691,\n",
       "  1742490431],\n",
       " 'WETH_RESERVE_DATA': [0,\n",
       "  6671845738186803039,\n",
       "  2176763763204976640972125,\n",
       "  0,\n",
       "  1897250395172238692816251,\n",
       "  19371537969474904127465005,\n",
       "  26147683269255568188308537,\n",
       "  0,\n",
       "  0,\n",
       "  1041957754427318071639746589,\n",
       "  1066356404212933774092800783,\n",
       "  1742490455],\n",
       " 'USDC_RESERVE_DATA': [0,\n",
       "  6317850508,\n",
       "  2829283686153193,\n",
       "  0,\n",
       "  1755295559939976,\n",
       "  24474470427386899984418637,\n",
       "  43832694084167005788937934,\n",
       "  0,\n",
       "  0,\n",
       "  1123978061549572496945632615,\n",
       "  1163129777333551630278719149,\n",
       "  1742490383]}"
      ]
     },
     "execution_count": 32,
     "metadata": {},
     "output_type": "execute_result"
    }
   ],
   "source": [
    "token_data"
   ]
  },
  {
   "cell_type": "markdown",
   "id": "623a33b4-0309-407e-a8a6-1422590d7751",
   "metadata": {},
   "source": [
    "### Aave Pool Data"
   ]
  },
  {
   "cell_type": "code",
   "execution_count": 33,
   "id": "73237ca1-975e-41f5-888c-ad138ca55582",
   "metadata": {},
   "outputs": [],
   "source": [
    "field_names = [\n",
    "    'unbacked', 'accruedToTreasuryScaled', 'totalAToken', 'totalStableDebt', \n",
    "    'totalVariableDebt', 'liquidityRate', 'variableBorrowRate', 'stableBorrowRate', \n",
    "    'averageStableBorrowRate', 'liquidityIndex', 'variableBorrowIndex', 'lastUpdateTimestamp'\n",
    "]"
   ]
  },
  {
   "cell_type": "code",
   "execution_count": 34,
   "id": "9d1b3da8-7c0c-4b73-8134-7de60823e8de",
   "metadata": {},
   "outputs": [],
   "source": [
    "df = pd.DataFrame(token_data, index=field_names)"
   ]
  },
  {
   "cell_type": "code",
   "execution_count": 35,
   "id": "b1cdffe7-1e27-4ad8-ba41-a06da8dbe323",
   "metadata": {},
   "outputs": [],
   "source": [
    "# Convert token amounts - DAI and WETH (18 decimals)\n",
    "df.loc['totalAToken', 'DAI_RESERVE_DATA'] = df.loc['totalAToken', 'DAI_RESERVE_DATA'] / 1e18\n",
    "df.loc['totalAToken', 'WETH_RESERVE_DATA'] = df.loc['totalAToken', 'WETH_RESERVE_DATA'] / 1e18\n",
    "df.loc['totalVariableDebt', 'DAI_RESERVE_DATA'] = df.loc['totalVariableDebt', 'DAI_RESERVE_DATA'] / 1e18\n",
    "df.loc['totalVariableDebt', 'WETH_RESERVE_DATA'] = df.loc['totalVariableDebt', 'WETH_RESERVE_DATA'] / 1e18\n",
    "# Convert token amounts - USDC (6 decimals)\n",
    "df.loc['totalAToken', 'USDC_RESERVE_DATA'] = df.loc['totalAToken', 'USDC_RESERVE_DATA'] / 1e6\n",
    "df.loc['totalVariableDebt', 'USDC_RESERVE_DATA'] = df.loc['totalVariableDebt', 'USDC_RESERVE_DATA'] / 1e6"
   ]
  },
  {
   "cell_type": "code",
   "execution_count": 36,
   "id": "08bdae59-1833-4433-81bb-593b4eeaabcb",
   "metadata": {},
   "outputs": [],
   "source": [
    "# Convert interest rates from ray (10^27) to percentages\n",
    "df.loc['liquidityRate'] = (df.loc['liquidityRate'] / 1e27)\n",
    "df.loc['variableBorrowRate'] = (df.loc['variableBorrowRate'] / 1e27)"
   ]
  },
  {
   "cell_type": "code",
   "execution_count": 37,
   "id": "0fec56e6-bdd4-4dbe-8bd1-03af8bd512f2",
   "metadata": {},
   "outputs": [],
   "source": [
    "# Format timestamps (this does convert to strings, but that's probably what you want for timestamps)\n",
    "from datetime import datetime\n",
    "df.loc['lastUpdateTimestamp'] = df.loc['lastUpdateTimestamp'].apply(\n",
    "    lambda x: datetime.fromtimestamp(int(x)).strftime('%Y-%m-%d %H:%M:%S')\n",
    ")"
   ]
  },
  {
   "cell_type": "code",
   "execution_count": 38,
   "id": "2879c05b-8501-4bc6-96c5-95882e7726a0",
   "metadata": {},
   "outputs": [
    {
     "data": {
      "text/plain": [
       "DAI_RESERVE_DATA     0.053098\n",
       "WETH_RESERVE_DATA    0.026148\n",
       "USDC_RESERVE_DATA    0.043833\n",
       "Name: variableBorrowRate, dtype: object"
      ]
     },
     "execution_count": 38,
     "metadata": {},
     "output_type": "execute_result"
    }
   ],
   "source": [
    "df.loc['variableBorrowRate']"
   ]
  },
  {
   "cell_type": "code",
   "execution_count": 131,
   "id": "d0241b14-8b26-44c1-9e80-fc55e28e04ed",
   "metadata": {},
   "outputs": [],
   "source": [
    "# pd.set_option('display.float_format', '{:,.4f}'.format)"
   ]
  },
  {
   "cell_type": "code",
   "execution_count": 39,
   "id": "12f5ac6d-0e63-48b7-80d0-f8c643f36945",
   "metadata": {},
   "outputs": [
    {
     "data": {
      "text/html": [
       "<div>\n",
       "<style scoped>\n",
       "    .dataframe tbody tr th:only-of-type {\n",
       "        vertical-align: middle;\n",
       "    }\n",
       "\n",
       "    .dataframe tbody tr th {\n",
       "        vertical-align: top;\n",
       "    }\n",
       "\n",
       "    .dataframe thead th {\n",
       "        text-align: right;\n",
       "    }\n",
       "</style>\n",
       "<table border=\"1\" class=\"dataframe\">\n",
       "  <thead>\n",
       "    <tr style=\"text-align: right;\">\n",
       "      <th></th>\n",
       "      <th>DAI_RESERVE_DATA</th>\n",
       "      <th>WETH_RESERVE_DATA</th>\n",
       "      <th>USDC_RESERVE_DATA</th>\n",
       "    </tr>\n",
       "  </thead>\n",
       "  <tbody>\n",
       "    <tr>\n",
       "      <th>unbacked</th>\n",
       "      <td>0</td>\n",
       "      <td>0</td>\n",
       "      <td>0</td>\n",
       "    </tr>\n",
       "    <tr>\n",
       "      <th>accruedToTreasuryScaled</th>\n",
       "      <td>1520690391928456193163</td>\n",
       "      <td>6671845738186803039</td>\n",
       "      <td>6317850508</td>\n",
       "    </tr>\n",
       "    <tr>\n",
       "      <th>totalAToken</th>\n",
       "      <td>168750831.275384</td>\n",
       "      <td>2176763.763205</td>\n",
       "      <td>2829283686.153193</td>\n",
       "    </tr>\n",
       "    <tr>\n",
       "      <th>totalStableDebt</th>\n",
       "      <td>0</td>\n",
       "      <td>0</td>\n",
       "      <td>0</td>\n",
       "    </tr>\n",
       "    <tr>\n",
       "      <th>totalVariableDebt</th>\n",
       "      <td>126824739.823504</td>\n",
       "      <td>1897250.395172</td>\n",
       "      <td>1755295559.939976</td>\n",
       "    </tr>\n",
       "    <tr>\n",
       "      <th>liquidityRate</th>\n",
       "      <td>0.029929</td>\n",
       "      <td>0.019372</td>\n",
       "      <td>0.024474</td>\n",
       "    </tr>\n",
       "    <tr>\n",
       "      <th>variableBorrowRate</th>\n",
       "      <td>0.053098</td>\n",
       "      <td>0.026148</td>\n",
       "      <td>0.043833</td>\n",
       "    </tr>\n",
       "    <tr>\n",
       "      <th>stableBorrowRate</th>\n",
       "      <td>0</td>\n",
       "      <td>0</td>\n",
       "      <td>0</td>\n",
       "    </tr>\n",
       "    <tr>\n",
       "      <th>averageStableBorrowRate</th>\n",
       "      <td>0</td>\n",
       "      <td>0</td>\n",
       "      <td>0</td>\n",
       "    </tr>\n",
       "    <tr>\n",
       "      <th>liquidityIndex</th>\n",
       "      <td>1120821053109081998735848233</td>\n",
       "      <td>1041957754427318071639746589</td>\n",
       "      <td>1123978061549572496945632615</td>\n",
       "    </tr>\n",
       "    <tr>\n",
       "      <th>variableBorrowIndex</th>\n",
       "      <td>1177334864585937558368019691</td>\n",
       "      <td>1066356404212933774092800783</td>\n",
       "      <td>1163129777333551630278719149</td>\n",
       "    </tr>\n",
       "    <tr>\n",
       "      <th>lastUpdateTimestamp</th>\n",
       "      <td>2025-03-20 17:07:11</td>\n",
       "      <td>2025-03-20 17:07:35</td>\n",
       "      <td>2025-03-20 17:06:23</td>\n",
       "    </tr>\n",
       "  </tbody>\n",
       "</table>\n",
       "</div>"
      ],
      "text/plain": [
       "                                     DAI_RESERVE_DATA  \\\n",
       "unbacked                                            0   \n",
       "accruedToTreasuryScaled        1520690391928456193163   \n",
       "totalAToken                          168750831.275384   \n",
       "totalStableDebt                                     0   \n",
       "totalVariableDebt                    126824739.823504   \n",
       "liquidityRate                                0.029929   \n",
       "variableBorrowRate                           0.053098   \n",
       "stableBorrowRate                                    0   \n",
       "averageStableBorrowRate                             0   \n",
       "liquidityIndex           1120821053109081998735848233   \n",
       "variableBorrowIndex      1177334864585937558368019691   \n",
       "lastUpdateTimestamp               2025-03-20 17:07:11   \n",
       "\n",
       "                                    WETH_RESERVE_DATA  \\\n",
       "unbacked                                            0   \n",
       "accruedToTreasuryScaled           6671845738186803039   \n",
       "totalAToken                            2176763.763205   \n",
       "totalStableDebt                                     0   \n",
       "totalVariableDebt                      1897250.395172   \n",
       "liquidityRate                                0.019372   \n",
       "variableBorrowRate                           0.026148   \n",
       "stableBorrowRate                                    0   \n",
       "averageStableBorrowRate                             0   \n",
       "liquidityIndex           1041957754427318071639746589   \n",
       "variableBorrowIndex      1066356404212933774092800783   \n",
       "lastUpdateTimestamp               2025-03-20 17:07:35   \n",
       "\n",
       "                                    USDC_RESERVE_DATA  \n",
       "unbacked                                            0  \n",
       "accruedToTreasuryScaled                    6317850508  \n",
       "totalAToken                         2829283686.153193  \n",
       "totalStableDebt                                     0  \n",
       "totalVariableDebt                   1755295559.939976  \n",
       "liquidityRate                                0.024474  \n",
       "variableBorrowRate                           0.043833  \n",
       "stableBorrowRate                                    0  \n",
       "averageStableBorrowRate                             0  \n",
       "liquidityIndex           1123978061549572496945632615  \n",
       "variableBorrowIndex      1163129777333551630278719149  \n",
       "lastUpdateTimestamp               2025-03-20 17:06:23  "
      ]
     },
     "execution_count": 39,
     "metadata": {},
     "output_type": "execute_result"
    }
   ],
   "source": [
    "df"
   ]
  },
  {
   "cell_type": "code",
   "execution_count": 44,
   "id": "e0bea66a-2ac0-4623-b23f-813e0661ab6f",
   "metadata": {},
   "outputs": [],
   "source": [
    "def display_formatted_df(df):\n",
    "    # Make a copy to avoid modifying the original\n",
    "    display_df = df.copy()\n",
    "    \n",
    "    # Format token amounts with commas and 2 decimal places\n",
    "    display_df.loc['totalAToken'] = display_df.loc['totalAToken'].apply(lambda x: f\"{x:,.2f}\")\n",
    "    display_df.loc['totalVariableDebt'] = display_df.loc['totalVariableDebt'].apply(lambda x: f\"{x:,.2f}\")\n",
    "    \n",
    "    return display_df"
   ]
  },
  {
   "cell_type": "code",
   "execution_count": 46,
   "id": "ff3fecf1-358d-4877-965c-912ab0aee831",
   "metadata": {},
   "outputs": [
    {
     "data": {
      "text/html": [
       "<div>\n",
       "<style scoped>\n",
       "    .dataframe tbody tr th:only-of-type {\n",
       "        vertical-align: middle;\n",
       "    }\n",
       "\n",
       "    .dataframe tbody tr th {\n",
       "        vertical-align: top;\n",
       "    }\n",
       "\n",
       "    .dataframe thead th {\n",
       "        text-align: right;\n",
       "    }\n",
       "</style>\n",
       "<table border=\"1\" class=\"dataframe\">\n",
       "  <thead>\n",
       "    <tr style=\"text-align: right;\">\n",
       "      <th></th>\n",
       "      <th>DAI_RESERVE_DATA</th>\n",
       "      <th>WETH_RESERVE_DATA</th>\n",
       "      <th>USDC_RESERVE_DATA</th>\n",
       "    </tr>\n",
       "  </thead>\n",
       "  <tbody>\n",
       "    <tr>\n",
       "      <th>unbacked</th>\n",
       "      <td>0</td>\n",
       "      <td>0</td>\n",
       "      <td>0</td>\n",
       "    </tr>\n",
       "    <tr>\n",
       "      <th>accruedToTreasuryScaled</th>\n",
       "      <td>1520690391928456193163</td>\n",
       "      <td>6671845738186803039</td>\n",
       "      <td>6317850508</td>\n",
       "    </tr>\n",
       "    <tr>\n",
       "      <th>totalAToken</th>\n",
       "      <td>168,750,831.28</td>\n",
       "      <td>2,176,763.76</td>\n",
       "      <td>2,829,283,686.15</td>\n",
       "    </tr>\n",
       "    <tr>\n",
       "      <th>totalStableDebt</th>\n",
       "      <td>0</td>\n",
       "      <td>0</td>\n",
       "      <td>0</td>\n",
       "    </tr>\n",
       "    <tr>\n",
       "      <th>totalVariableDebt</th>\n",
       "      <td>126,824,739.82</td>\n",
       "      <td>1,897,250.40</td>\n",
       "      <td>1,755,295,559.94</td>\n",
       "    </tr>\n",
       "    <tr>\n",
       "      <th>liquidityRate</th>\n",
       "      <td>0.029929</td>\n",
       "      <td>0.019372</td>\n",
       "      <td>0.024474</td>\n",
       "    </tr>\n",
       "    <tr>\n",
       "      <th>variableBorrowRate</th>\n",
       "      <td>0.053098</td>\n",
       "      <td>0.026148</td>\n",
       "      <td>0.043833</td>\n",
       "    </tr>\n",
       "    <tr>\n",
       "      <th>stableBorrowRate</th>\n",
       "      <td>0</td>\n",
       "      <td>0</td>\n",
       "      <td>0</td>\n",
       "    </tr>\n",
       "    <tr>\n",
       "      <th>averageStableBorrowRate</th>\n",
       "      <td>0</td>\n",
       "      <td>0</td>\n",
       "      <td>0</td>\n",
       "    </tr>\n",
       "    <tr>\n",
       "      <th>liquidityIndex</th>\n",
       "      <td>1120821053109081998735848233</td>\n",
       "      <td>1041957754427318071639746589</td>\n",
       "      <td>1123978061549572496945632615</td>\n",
       "    </tr>\n",
       "    <tr>\n",
       "      <th>variableBorrowIndex</th>\n",
       "      <td>1177334864585937558368019691</td>\n",
       "      <td>1066356404212933774092800783</td>\n",
       "      <td>1163129777333551630278719149</td>\n",
       "    </tr>\n",
       "    <tr>\n",
       "      <th>lastUpdateTimestamp</th>\n",
       "      <td>2025-03-20 17:07:11</td>\n",
       "      <td>2025-03-20 17:07:35</td>\n",
       "      <td>2025-03-20 17:06:23</td>\n",
       "    </tr>\n",
       "  </tbody>\n",
       "</table>\n",
       "</div>"
      ],
      "text/plain": [
       "                                     DAI_RESERVE_DATA  \\\n",
       "unbacked                                            0   \n",
       "accruedToTreasuryScaled        1520690391928456193163   \n",
       "totalAToken                            168,750,831.28   \n",
       "totalStableDebt                                     0   \n",
       "totalVariableDebt                      126,824,739.82   \n",
       "liquidityRate                                0.029929   \n",
       "variableBorrowRate                           0.053098   \n",
       "stableBorrowRate                                    0   \n",
       "averageStableBorrowRate                             0   \n",
       "liquidityIndex           1120821053109081998735848233   \n",
       "variableBorrowIndex      1177334864585937558368019691   \n",
       "lastUpdateTimestamp               2025-03-20 17:07:11   \n",
       "\n",
       "                                    WETH_RESERVE_DATA  \\\n",
       "unbacked                                            0   \n",
       "accruedToTreasuryScaled           6671845738186803039   \n",
       "totalAToken                              2,176,763.76   \n",
       "totalStableDebt                                     0   \n",
       "totalVariableDebt                        1,897,250.40   \n",
       "liquidityRate                                0.019372   \n",
       "variableBorrowRate                           0.026148   \n",
       "stableBorrowRate                                    0   \n",
       "averageStableBorrowRate                             0   \n",
       "liquidityIndex           1041957754427318071639746589   \n",
       "variableBorrowIndex      1066356404212933774092800783   \n",
       "lastUpdateTimestamp               2025-03-20 17:07:35   \n",
       "\n",
       "                                    USDC_RESERVE_DATA  \n",
       "unbacked                                            0  \n",
       "accruedToTreasuryScaled                    6317850508  \n",
       "totalAToken                          2,829,283,686.15  \n",
       "totalStableDebt                                     0  \n",
       "totalVariableDebt                    1,755,295,559.94  \n",
       "liquidityRate                                0.024474  \n",
       "variableBorrowRate                           0.043833  \n",
       "stableBorrowRate                                    0  \n",
       "averageStableBorrowRate                             0  \n",
       "liquidityIndex           1123978061549572496945632615  \n",
       "variableBorrowIndex      1163129777333551630278719149  \n",
       "lastUpdateTimestamp               2025-03-20 17:06:23  "
      ]
     },
     "execution_count": 46,
     "metadata": {},
     "output_type": "execute_result"
    }
   ],
   "source": [
    "display_formatted_df(df)"
   ]
  },
  {
   "cell_type": "code",
   "execution_count": null,
   "id": "1415aca1-65cd-4c11-aaab-1914c658aa2d",
   "metadata": {},
   "outputs": [],
   "source": [
    "# Utilization Rate = = TotalBorrowed / TotalSupply\n",
    "TotBorrow = "
   ]
  },
  {
   "cell_type": "code",
   "execution_count": 49,
   "id": "3ffd9a52-4bc6-45d4-ac31-a02eb833db2a",
   "metadata": {},
   "outputs": [
    {
     "data": {
      "text/plain": [
       "0.7515503115746974"
      ]
     },
     "execution_count": 49,
     "metadata": {},
     "output_type": "execute_result"
    }
   ],
   "source": [
    "df.loc['totalVariableDebt', 'DAI_RESERVE_DATA']/df.loc['totalAToken', 'DAI_RESERVE_DATA']"
   ]
  },
  {
   "cell_type": "code",
   "execution_count": 51,
   "id": "c133bc7e-1cfe-4924-9b6e-5ae15cd26f06",
   "metadata": {},
   "outputs": [],
   "source": [
    "# getInterestRateData(address).varaibleRateSlope1\n",
    "# RATE_STRATEGY_V2.getInterestRateData(DAI_ADDRESS)"
   ]
  },
  {
   "cell_type": "code",
   "execution_count": 61,
   "id": "0fa818ed-3e98-4bb4-b746-c3b391596bb8",
   "metadata": {},
   "outputs": [],
   "source": [
    "DAI_ADDRESS = w3.to_checksum_address(\"0x6B175474E89094C44Da98b954EedeAC495271d0F\")"
   ]
  },
  {
   "cell_type": "code",
   "execution_count": 63,
   "id": "0d88522b-8bb6-4378-97ad-318907b50918",
   "metadata": {},
   "outputs": [
    {
     "name": "stdout",
     "output_type": "stream",
     "text": [
      "False\n"
     ]
    }
   ],
   "source": [
    "print(w3.is_connected())  # Should return Tru"
   ]
  },
  {
   "cell_type": "code",
   "execution_count": 52,
   "id": "ac25b1f3-0c44-4bc4-a65f-f1a3aec82bfc",
   "metadata": {},
   "outputs": [],
   "source": [
    "RATE_STRATEGY_V2_ABI = json.loads('[{\"inputs\":[{\"internalType\":\"address\",\"name\":\"reserve\",\"type\":\"address\"}],\"name\":\"getInterestRateData\",\"outputs\":[{\"components\":[{\"internalType\":\"uint256\",\"name\":\"optimalUsageRatio\",\"type\":\"uint256\"},{\"internalType\":\"uint256\",\"name\":\"baseVariableBorrowRate\",\"type\":\"uint256\"},{\"internalType\":\"uint256\",\"name\":\"variableRateSlope1\",\"type\":\"uint256\"},{\"internalType\":\"uint256\",\"name\":\"variableRateSlope2\",\"type\":\"uint256\"}],\"internalType\":\"struct IDefaultInterestRateStrategyV2.InterestRateDataRay\",\"name\":\"\",\"type\":\"tuple\"}],\"stateMutability\":\"view\",\"type\":\"function\"} ]')"
   ]
  },
  {
   "cell_type": "code",
   "execution_count": 62,
   "id": "841da403-9d59-4ad6-892b-2da40e0fd90c",
   "metadata": {},
   "outputs": [
    {
     "ename": "CannotHandleRequest",
     "evalue": "Could not discover provider while making request: method:eth_chainId\nparams:()\n",
     "output_type": "error",
     "traceback": [
      "\u001b[0;31m---------------------------------------------------------------------------\u001b[0m",
      "\u001b[0;31mCannotHandleRequest\u001b[0m                       Traceback (most recent call last)",
      "Cell \u001b[0;32mIn[62], line 5\u001b[0m\n\u001b[1;32m      2\u001b[0m contract \u001b[38;5;241m=\u001b[39m w3\u001b[38;5;241m.\u001b[39meth\u001b[38;5;241m.\u001b[39mcontract(address\u001b[38;5;241m=\u001b[39mRATE_STRATEGY_V2, abi\u001b[38;5;241m=\u001b[39mRATE_STRATEGY_V2_ABI)\n\u001b[1;32m      4\u001b[0m \u001b[38;5;66;03m# Call the function\u001b[39;00m\n\u001b[0;32m----> 5\u001b[0m interest_rate_data \u001b[38;5;241m=\u001b[39m \u001b[43mcontract\u001b[49m\u001b[38;5;241;43m.\u001b[39;49m\u001b[43mfunctions\u001b[49m\u001b[38;5;241;43m.\u001b[39;49m\u001b[43mgetInterestRateData\u001b[49m\u001b[43m(\u001b[49m\u001b[43mDAI_ADDRESS\u001b[49m\u001b[43m)\u001b[49m\u001b[38;5;241;43m.\u001b[39;49m\u001b[43mcall\u001b[49m\u001b[43m(\u001b[49m\u001b[43m)\u001b[49m\n",
      "File \u001b[0;32m~/cryo_evm/evm_data_queries_cryo/.venv/lib/python3.12/site-packages/web3/contract/contract.py:291\u001b[0m, in \u001b[0;36mContractFunction.call\u001b[0;34m(self, transaction, block_identifier, state_override, ccip_read_enabled)\u001b[0m\n\u001b[1;32m    287\u001b[0m block_id \u001b[38;5;241m=\u001b[39m parse_block_identifier(\u001b[38;5;28mself\u001b[39m\u001b[38;5;241m.\u001b[39mw3, block_identifier)\n\u001b[1;32m    289\u001b[0m abi_element_identifier \u001b[38;5;241m=\u001b[39m abi_to_signature(\u001b[38;5;28mself\u001b[39m\u001b[38;5;241m.\u001b[39mabi)\n\u001b[0;32m--> 291\u001b[0m \u001b[38;5;28;01mreturn\u001b[39;00m \u001b[43mcall_contract_function\u001b[49m\u001b[43m(\u001b[49m\n\u001b[1;32m    292\u001b[0m \u001b[43m    \u001b[49m\u001b[38;5;28;43mself\u001b[39;49m\u001b[38;5;241;43m.\u001b[39;49m\u001b[43mw3\u001b[49m\u001b[43m,\u001b[49m\n\u001b[1;32m    293\u001b[0m \u001b[43m    \u001b[49m\u001b[38;5;28;43mself\u001b[39;49m\u001b[38;5;241;43m.\u001b[39;49m\u001b[43maddress\u001b[49m\u001b[43m,\u001b[49m\n\u001b[1;32m    294\u001b[0m \u001b[43m    \u001b[49m\u001b[38;5;28;43mself\u001b[39;49m\u001b[38;5;241;43m.\u001b[39;49m\u001b[43m_return_data_normalizers\u001b[49m\u001b[43m,\u001b[49m\n\u001b[1;32m    295\u001b[0m \u001b[43m    \u001b[49m\u001b[43mabi_element_identifier\u001b[49m\u001b[43m,\u001b[49m\n\u001b[1;32m    296\u001b[0m \u001b[43m    \u001b[49m\u001b[43mcall_transaction\u001b[49m\u001b[43m,\u001b[49m\n\u001b[1;32m    297\u001b[0m \u001b[43m    \u001b[49m\u001b[43mblock_id\u001b[49m\u001b[43m,\u001b[49m\n\u001b[1;32m    298\u001b[0m \u001b[43m    \u001b[49m\u001b[38;5;28;43mself\u001b[39;49m\u001b[38;5;241;43m.\u001b[39;49m\u001b[43mcontract_abi\u001b[49m\u001b[43m,\u001b[49m\n\u001b[1;32m    299\u001b[0m \u001b[43m    \u001b[49m\u001b[38;5;28;43mself\u001b[39;49m\u001b[38;5;241;43m.\u001b[39;49m\u001b[43mabi\u001b[49m\u001b[43m,\u001b[49m\n\u001b[1;32m    300\u001b[0m \u001b[43m    \u001b[49m\u001b[43mstate_override\u001b[49m\u001b[43m,\u001b[49m\n\u001b[1;32m    301\u001b[0m \u001b[43m    \u001b[49m\u001b[43mccip_read_enabled\u001b[49m\u001b[43m,\u001b[49m\n\u001b[1;32m    302\u001b[0m \u001b[43m    \u001b[49m\u001b[38;5;28;43mself\u001b[39;49m\u001b[38;5;241;43m.\u001b[39;49m\u001b[43mdecode_tuples\u001b[49m\u001b[43m,\u001b[49m\n\u001b[1;32m    303\u001b[0m \u001b[43m    \u001b[49m\u001b[38;5;241;43m*\u001b[39;49m\u001b[38;5;28;43mself\u001b[39;49m\u001b[38;5;241;43m.\u001b[39;49m\u001b[43margs\u001b[49m\u001b[43m \u001b[49m\u001b[38;5;129;43;01mor\u001b[39;49;00m\u001b[43m \u001b[49m\u001b[43m(\u001b[49m\u001b[43m)\u001b[49m\u001b[43m,\u001b[49m\n\u001b[1;32m    304\u001b[0m \u001b[43m    \u001b[49m\u001b[38;5;241;43m*\u001b[39;49m\u001b[38;5;241;43m*\u001b[39;49m\u001b[38;5;28;43mself\u001b[39;49m\u001b[38;5;241;43m.\u001b[39;49m\u001b[43mkwargs\u001b[49m\u001b[43m \u001b[49m\u001b[38;5;129;43;01mor\u001b[39;49;00m\u001b[43m \u001b[49m\u001b[43m{\u001b[49m\u001b[43m}\u001b[49m\u001b[43m,\u001b[49m\n\u001b[1;32m    305\u001b[0m \u001b[43m\u001b[49m\u001b[43m)\u001b[49m\n",
      "File \u001b[0;32m~/cryo_evm/evm_data_queries_cryo/.venv/lib/python3.12/site-packages/web3/contract/utils.py:154\u001b[0m, in \u001b[0;36mcall_contract_function\u001b[0;34m(w3, address, normalizers, abi_element_identifier, transaction, block_id, contract_abi, abi_callable, state_override, ccip_read_enabled, decode_tuples, *args, **kwargs)\u001b[0m\n\u001b[1;32m    139\u001b[0m \u001b[38;5;250m\u001b[39m\u001b[38;5;124;03m\"\"\"\u001b[39;00m\n\u001b[1;32m    140\u001b[0m \u001b[38;5;124;03mHelper function for interacting with a contract function using the\u001b[39;00m\n\u001b[1;32m    141\u001b[0m \u001b[38;5;124;03m`eth_call` API.\u001b[39;00m\n\u001b[1;32m    142\u001b[0m \u001b[38;5;124;03m\"\"\"\u001b[39;00m\n\u001b[1;32m    143\u001b[0m call_transaction \u001b[38;5;241m=\u001b[39m prepare_transaction(\n\u001b[1;32m    144\u001b[0m     address,\n\u001b[1;32m    145\u001b[0m     w3,\n\u001b[0;32m   (...)\u001b[0m\n\u001b[1;32m    151\u001b[0m     fn_kwargs\u001b[38;5;241m=\u001b[39mkwargs,\n\u001b[1;32m    152\u001b[0m )\n\u001b[0;32m--> 154\u001b[0m return_data \u001b[38;5;241m=\u001b[39m \u001b[43mw3\u001b[49m\u001b[38;5;241;43m.\u001b[39;49m\u001b[43meth\u001b[49m\u001b[38;5;241;43m.\u001b[39;49m\u001b[43mcall\u001b[49m\u001b[43m(\u001b[49m\n\u001b[1;32m    155\u001b[0m \u001b[43m    \u001b[49m\u001b[43mcall_transaction\u001b[49m\u001b[43m,\u001b[49m\n\u001b[1;32m    156\u001b[0m \u001b[43m    \u001b[49m\u001b[43mblock_identifier\u001b[49m\u001b[38;5;241;43m=\u001b[39;49m\u001b[43mblock_id\u001b[49m\u001b[43m,\u001b[49m\n\u001b[1;32m    157\u001b[0m \u001b[43m    \u001b[49m\u001b[43mstate_override\u001b[49m\u001b[38;5;241;43m=\u001b[39;49m\u001b[43mstate_override\u001b[49m\u001b[43m,\u001b[49m\n\u001b[1;32m    158\u001b[0m \u001b[43m    \u001b[49m\u001b[43mccip_read_enabled\u001b[49m\u001b[38;5;241;43m=\u001b[39;49m\u001b[43mccip_read_enabled\u001b[49m\u001b[43m,\u001b[49m\n\u001b[1;32m    159\u001b[0m \u001b[43m\u001b[49m\u001b[43m)\u001b[49m\n\u001b[1;32m    161\u001b[0m \u001b[38;5;28;01mif\u001b[39;00m abi_callable \u001b[38;5;129;01mis\u001b[39;00m \u001b[38;5;28;01mNone\u001b[39;00m:\n\u001b[1;32m    162\u001b[0m     abi_callable \u001b[38;5;241m=\u001b[39m cast(\n\u001b[1;32m    163\u001b[0m         ABIFunction,\n\u001b[1;32m    164\u001b[0m         get_abi_element(\n\u001b[0;32m   (...)\u001b[0m\n\u001b[1;32m    170\u001b[0m         ),\n\u001b[1;32m    171\u001b[0m     )\n",
      "File \u001b[0;32m~/cryo_evm/evm_data_queries_cryo/.venv/lib/python3.12/site-packages/web3/eth/eth.py:244\u001b[0m, in \u001b[0;36mEth.call\u001b[0;34m(self, transaction, block_identifier, state_override, ccip_read_enabled)\u001b[0m\n\u001b[1;32m    234\u001b[0m ccip_read_enabled_on_provider \u001b[38;5;241m=\u001b[39m \u001b[38;5;28mself\u001b[39m\u001b[38;5;241m.\u001b[39mw3\u001b[38;5;241m.\u001b[39mprovider\u001b[38;5;241m.\u001b[39mglobal_ccip_read_enabled\n\u001b[1;32m    235\u001b[0m \u001b[38;5;28;01mif\u001b[39;00m (\n\u001b[1;32m    236\u001b[0m     \u001b[38;5;66;03m# default conditions:\u001b[39;00m\n\u001b[1;32m    237\u001b[0m     ccip_read_enabled_on_provider\n\u001b[0;32m   (...)\u001b[0m\n\u001b[1;32m    242\u001b[0m     \u001b[38;5;129;01mand\u001b[39;00m ccip_read_enabled \u001b[38;5;129;01mis\u001b[39;00m \u001b[38;5;28;01mTrue\u001b[39;00m\n\u001b[1;32m    243\u001b[0m ):\n\u001b[0;32m--> 244\u001b[0m     \u001b[38;5;28;01mreturn\u001b[39;00m \u001b[38;5;28;43mself\u001b[39;49m\u001b[38;5;241;43m.\u001b[39;49m\u001b[43m_durin_call\u001b[49m\u001b[43m(\u001b[49m\u001b[43mtransaction\u001b[49m\u001b[43m,\u001b[49m\u001b[43m \u001b[49m\u001b[43mblock_identifier\u001b[49m\u001b[43m,\u001b[49m\u001b[43m \u001b[49m\u001b[43mstate_override\u001b[49m\u001b[43m)\u001b[49m\n\u001b[1;32m    246\u001b[0m \u001b[38;5;28;01mreturn\u001b[39;00m \u001b[38;5;28mself\u001b[39m\u001b[38;5;241m.\u001b[39m_call(transaction, block_identifier, state_override)\n",
      "File \u001b[0;32m~/cryo_evm/evm_data_queries_cryo/.venv/lib/python3.12/site-packages/web3/eth/eth.py:263\u001b[0m, in \u001b[0;36mEth._durin_call\u001b[0;34m(self, transaction, block_identifier, state_override)\u001b[0m\n\u001b[1;32m    261\u001b[0m \u001b[38;5;28;01mfor\u001b[39;00m _ \u001b[38;5;129;01min\u001b[39;00m \u001b[38;5;28mrange\u001b[39m(max_redirects):\n\u001b[1;32m    262\u001b[0m     \u001b[38;5;28;01mtry\u001b[39;00m:\n\u001b[0;32m--> 263\u001b[0m         \u001b[38;5;28;01mreturn\u001b[39;00m \u001b[38;5;28;43mself\u001b[39;49m\u001b[38;5;241;43m.\u001b[39;49m\u001b[43m_call\u001b[49m\u001b[43m(\u001b[49m\u001b[43mtransaction\u001b[49m\u001b[43m,\u001b[49m\u001b[43m \u001b[49m\u001b[43mblock_identifier\u001b[49m\u001b[43m,\u001b[49m\u001b[43m \u001b[49m\u001b[43mstate_override\u001b[49m\u001b[43m)\u001b[49m\n\u001b[1;32m    264\u001b[0m     \u001b[38;5;28;01mexcept\u001b[39;00m OffchainLookup \u001b[38;5;28;01mas\u001b[39;00m offchain_lookup:\n\u001b[1;32m    265\u001b[0m         durin_calldata \u001b[38;5;241m=\u001b[39m handle_offchain_lookup(\n\u001b[1;32m    266\u001b[0m             offchain_lookup\u001b[38;5;241m.\u001b[39mpayload,\n\u001b[1;32m    267\u001b[0m             transaction,\n\u001b[1;32m    268\u001b[0m         )\n",
      "File \u001b[0;32m~/cryo_evm/evm_data_queries_cryo/.venv/lib/python3.12/site-packages/web3/module.py:112\u001b[0m, in \u001b[0;36mretrieve_blocking_method_call_fn.<locals>.caller\u001b[0;34m(*args, **kwargs)\u001b[0m\n\u001b[1;32m    105\u001b[0m     \u001b[38;5;28;01mreturn\u001b[39;00m LogFilter(eth_module\u001b[38;5;241m=\u001b[39mmodule, filter_id\u001b[38;5;241m=\u001b[39merr\u001b[38;5;241m.\u001b[39mfilter_id)\n\u001b[1;32m    107\u001b[0m (\n\u001b[1;32m    108\u001b[0m     result_formatters,\n\u001b[1;32m    109\u001b[0m     error_formatters,\n\u001b[1;32m    110\u001b[0m     null_result_formatters,\n\u001b[1;32m    111\u001b[0m ) \u001b[38;5;241m=\u001b[39m response_formatters\n\u001b[0;32m--> 112\u001b[0m result \u001b[38;5;241m=\u001b[39m \u001b[43mw3\u001b[49m\u001b[38;5;241;43m.\u001b[39;49m\u001b[43mmanager\u001b[49m\u001b[38;5;241;43m.\u001b[39;49m\u001b[43mrequest_blocking\u001b[49m\u001b[43m(\u001b[49m\n\u001b[1;32m    113\u001b[0m \u001b[43m    \u001b[49m\u001b[43mmethod_str\u001b[49m\u001b[43m,\u001b[49m\u001b[43m \u001b[49m\u001b[43mparams\u001b[49m\u001b[43m,\u001b[49m\u001b[43m \u001b[49m\u001b[43merror_formatters\u001b[49m\u001b[43m,\u001b[49m\u001b[43m \u001b[49m\u001b[43mnull_result_formatters\u001b[49m\n\u001b[1;32m    114\u001b[0m \u001b[43m\u001b[49m\u001b[43m)\u001b[49m\n\u001b[1;32m    115\u001b[0m \u001b[38;5;28;01mreturn\u001b[39;00m apply_result_formatters(result_formatters, result)\n",
      "File \u001b[0;32m~/cryo_evm/evm_data_queries_cryo/.venv/lib/python3.12/site-packages/web3/manager.py:424\u001b[0m, in \u001b[0;36mRequestManager.request_blocking\u001b[0;34m(self, method, params, error_formatters, null_result_formatters)\u001b[0m\n\u001b[1;32m    414\u001b[0m \u001b[38;5;28;01mdef\u001b[39;00m\u001b[38;5;250m \u001b[39m\u001b[38;5;21mrequest_blocking\u001b[39m(\n\u001b[1;32m    415\u001b[0m     \u001b[38;5;28mself\u001b[39m,\n\u001b[1;32m    416\u001b[0m     method: Union[RPCEndpoint, Callable[\u001b[38;5;241m.\u001b[39m\u001b[38;5;241m.\u001b[39m\u001b[38;5;241m.\u001b[39m, RPCEndpoint]],\n\u001b[0;32m   (...)\u001b[0m\n\u001b[1;32m    419\u001b[0m     null_result_formatters: Optional[Callable[\u001b[38;5;241m.\u001b[39m\u001b[38;5;241m.\u001b[39m\u001b[38;5;241m.\u001b[39m, Any]] \u001b[38;5;241m=\u001b[39m \u001b[38;5;28;01mNone\u001b[39;00m,\n\u001b[1;32m    420\u001b[0m ) \u001b[38;5;241m-\u001b[39m\u001b[38;5;241m>\u001b[39m Any:\n\u001b[1;32m    421\u001b[0m \u001b[38;5;250m    \u001b[39m\u001b[38;5;124;03m\"\"\"\u001b[39;00m\n\u001b[1;32m    422\u001b[0m \u001b[38;5;124;03m    Make a synchronous request using the provider\u001b[39;00m\n\u001b[1;32m    423\u001b[0m \u001b[38;5;124;03m    \"\"\"\u001b[39;00m\n\u001b[0;32m--> 424\u001b[0m     response \u001b[38;5;241m=\u001b[39m \u001b[38;5;28;43mself\u001b[39;49m\u001b[38;5;241;43m.\u001b[39;49m\u001b[43m_make_request\u001b[49m\u001b[43m(\u001b[49m\u001b[43mmethod\u001b[49m\u001b[43m,\u001b[49m\u001b[43m \u001b[49m\u001b[43mparams\u001b[49m\u001b[43m)\u001b[49m\n\u001b[1;32m    425\u001b[0m     \u001b[38;5;28;01mreturn\u001b[39;00m \u001b[38;5;28mself\u001b[39m\u001b[38;5;241m.\u001b[39mformatted_response(\n\u001b[1;32m    426\u001b[0m         response, params, error_formatters, null_result_formatters\n\u001b[1;32m    427\u001b[0m     )\n",
      "File \u001b[0;32m~/cryo_evm/evm_data_queries_cryo/.venv/lib/python3.12/site-packages/web3/manager.py:356\u001b[0m, in \u001b[0;36mRequestManager._make_request\u001b[0;34m(self, method, params)\u001b[0m\n\u001b[1;32m    352\u001b[0m request_func \u001b[38;5;241m=\u001b[39m provider\u001b[38;5;241m.\u001b[39mrequest_func(\n\u001b[1;32m    353\u001b[0m     cast(\u001b[38;5;124m\"\u001b[39m\u001b[38;5;124mWeb3\u001b[39m\u001b[38;5;124m\"\u001b[39m, \u001b[38;5;28mself\u001b[39m\u001b[38;5;241m.\u001b[39mw3), cast(\u001b[38;5;124m\"\u001b[39m\u001b[38;5;124mMiddlewareOnion\u001b[39m\u001b[38;5;124m\"\u001b[39m, \u001b[38;5;28mself\u001b[39m\u001b[38;5;241m.\u001b[39mmiddleware_onion)\n\u001b[1;32m    354\u001b[0m )\n\u001b[1;32m    355\u001b[0m \u001b[38;5;28mself\u001b[39m\u001b[38;5;241m.\u001b[39mlogger\u001b[38;5;241m.\u001b[39mdebug(\u001b[38;5;124mf\u001b[39m\u001b[38;5;124m\"\u001b[39m\u001b[38;5;124mMaking request. Method: \u001b[39m\u001b[38;5;132;01m{\u001b[39;00mmethod\u001b[38;5;132;01m}\u001b[39;00m\u001b[38;5;124m\"\u001b[39m)\n\u001b[0;32m--> 356\u001b[0m \u001b[38;5;28;01mreturn\u001b[39;00m \u001b[43mrequest_func\u001b[49m\u001b[43m(\u001b[49m\u001b[43mmethod\u001b[49m\u001b[43m,\u001b[49m\u001b[43m \u001b[49m\u001b[43mparams\u001b[49m\u001b[43m)\u001b[49m\n",
      "File \u001b[0;32m~/cryo_evm/evm_data_queries_cryo/.venv/lib/python3.12/site-packages/web3/middleware/base.py:56\u001b[0m, in \u001b[0;36mWeb3Middleware.wrap_make_request.<locals>.middleware\u001b[0;34m(method, params)\u001b[0m\n\u001b[1;32m     54\u001b[0m \u001b[38;5;28;01mdef\u001b[39;00m\u001b[38;5;250m \u001b[39m\u001b[38;5;21mmiddleware\u001b[39m(method: \u001b[38;5;124m\"\u001b[39m\u001b[38;5;124mRPCEndpoint\u001b[39m\u001b[38;5;124m\"\u001b[39m, params: Any) \u001b[38;5;241m-\u001b[39m\u001b[38;5;241m>\u001b[39m \u001b[38;5;124m\"\u001b[39m\u001b[38;5;124mRPCResponse\u001b[39m\u001b[38;5;124m\"\u001b[39m:\n\u001b[1;32m     55\u001b[0m     method, params \u001b[38;5;241m=\u001b[39m \u001b[38;5;28mself\u001b[39m\u001b[38;5;241m.\u001b[39mrequest_processor(method, params)\n\u001b[0;32m---> 56\u001b[0m     \u001b[38;5;28;01mreturn\u001b[39;00m \u001b[38;5;28mself\u001b[39m\u001b[38;5;241m.\u001b[39mresponse_processor(method, \u001b[43mmake_request\u001b[49m\u001b[43m(\u001b[49m\u001b[43mmethod\u001b[49m\u001b[43m,\u001b[49m\u001b[43m \u001b[49m\u001b[43mparams\u001b[49m\u001b[43m)\u001b[49m)\n",
      "File \u001b[0;32m~/cryo_evm/evm_data_queries_cryo/.venv/lib/python3.12/site-packages/web3/middleware/base.py:56\u001b[0m, in \u001b[0;36mWeb3Middleware.wrap_make_request.<locals>.middleware\u001b[0;34m(method, params)\u001b[0m\n\u001b[1;32m     54\u001b[0m \u001b[38;5;28;01mdef\u001b[39;00m\u001b[38;5;250m \u001b[39m\u001b[38;5;21mmiddleware\u001b[39m(method: \u001b[38;5;124m\"\u001b[39m\u001b[38;5;124mRPCEndpoint\u001b[39m\u001b[38;5;124m\"\u001b[39m, params: Any) \u001b[38;5;241m-\u001b[39m\u001b[38;5;241m>\u001b[39m \u001b[38;5;124m\"\u001b[39m\u001b[38;5;124mRPCResponse\u001b[39m\u001b[38;5;124m\"\u001b[39m:\n\u001b[1;32m     55\u001b[0m     method, params \u001b[38;5;241m=\u001b[39m \u001b[38;5;28mself\u001b[39m\u001b[38;5;241m.\u001b[39mrequest_processor(method, params)\n\u001b[0;32m---> 56\u001b[0m     \u001b[38;5;28;01mreturn\u001b[39;00m \u001b[38;5;28mself\u001b[39m\u001b[38;5;241m.\u001b[39mresponse_processor(method, \u001b[43mmake_request\u001b[49m\u001b[43m(\u001b[49m\u001b[43mmethod\u001b[49m\u001b[43m,\u001b[49m\u001b[43m \u001b[49m\u001b[43mparams\u001b[49m\u001b[43m)\u001b[49m)\n",
      "File \u001b[0;32m~/cryo_evm/evm_data_queries_cryo/.venv/lib/python3.12/site-packages/web3/middleware/base.py:56\u001b[0m, in \u001b[0;36mWeb3Middleware.wrap_make_request.<locals>.middleware\u001b[0;34m(method, params)\u001b[0m\n\u001b[1;32m     54\u001b[0m \u001b[38;5;28;01mdef\u001b[39;00m\u001b[38;5;250m \u001b[39m\u001b[38;5;21mmiddleware\u001b[39m(method: \u001b[38;5;124m\"\u001b[39m\u001b[38;5;124mRPCEndpoint\u001b[39m\u001b[38;5;124m\"\u001b[39m, params: Any) \u001b[38;5;241m-\u001b[39m\u001b[38;5;241m>\u001b[39m \u001b[38;5;124m\"\u001b[39m\u001b[38;5;124mRPCResponse\u001b[39m\u001b[38;5;124m\"\u001b[39m:\n\u001b[1;32m     55\u001b[0m     method, params \u001b[38;5;241m=\u001b[39m \u001b[38;5;28mself\u001b[39m\u001b[38;5;241m.\u001b[39mrequest_processor(method, params)\n\u001b[0;32m---> 56\u001b[0m     \u001b[38;5;28;01mreturn\u001b[39;00m \u001b[38;5;28mself\u001b[39m\u001b[38;5;241m.\u001b[39mresponse_processor(method, \u001b[43mmake_request\u001b[49m\u001b[43m(\u001b[49m\u001b[43mmethod\u001b[49m\u001b[43m,\u001b[49m\u001b[43m \u001b[49m\u001b[43mparams\u001b[49m\u001b[43m)\u001b[49m)\n",
      "File \u001b[0;32m~/cryo_evm/evm_data_queries_cryo/.venv/lib/python3.12/site-packages/web3/middleware/base.py:55\u001b[0m, in \u001b[0;36mWeb3Middleware.wrap_make_request.<locals>.middleware\u001b[0;34m(method, params)\u001b[0m\n\u001b[1;32m     54\u001b[0m \u001b[38;5;28;01mdef\u001b[39;00m\u001b[38;5;250m \u001b[39m\u001b[38;5;21mmiddleware\u001b[39m(method: \u001b[38;5;124m\"\u001b[39m\u001b[38;5;124mRPCEndpoint\u001b[39m\u001b[38;5;124m\"\u001b[39m, params: Any) \u001b[38;5;241m-\u001b[39m\u001b[38;5;241m>\u001b[39m \u001b[38;5;124m\"\u001b[39m\u001b[38;5;124mRPCResponse\u001b[39m\u001b[38;5;124m\"\u001b[39m:\n\u001b[0;32m---> 55\u001b[0m     method, params \u001b[38;5;241m=\u001b[39m \u001b[38;5;28;43mself\u001b[39;49m\u001b[38;5;241;43m.\u001b[39;49m\u001b[43mrequest_processor\u001b[49m\u001b[43m(\u001b[49m\u001b[43mmethod\u001b[49m\u001b[43m,\u001b[49m\u001b[43m \u001b[49m\u001b[43mparams\u001b[49m\u001b[43m)\u001b[49m\n\u001b[1;32m     56\u001b[0m     \u001b[38;5;28;01mreturn\u001b[39;00m \u001b[38;5;28mself\u001b[39m\u001b[38;5;241m.\u001b[39mresponse_processor(method, make_request(method, params))\n",
      "File \u001b[0;32m~/cryo_evm/evm_data_queries_cryo/.venv/lib/python3.12/site-packages/web3/middleware/formatting.py:150\u001b[0m, in \u001b[0;36mFormattingMiddlewareBuilder.request_processor\u001b[0;34m(self, method, params)\u001b[0m\n\u001b[1;32m    146\u001b[0m \u001b[38;5;28;01mdef\u001b[39;00m\u001b[38;5;250m \u001b[39m\u001b[38;5;21mrequest_processor\u001b[39m(\u001b[38;5;28mself\u001b[39m, method: \u001b[38;5;124m\"\u001b[39m\u001b[38;5;124mRPCEndpoint\u001b[39m\u001b[38;5;124m\"\u001b[39m, params: Any) \u001b[38;5;241m-\u001b[39m\u001b[38;5;241m>\u001b[39m Any:\n\u001b[1;32m    147\u001b[0m     \u001b[38;5;28;01mif\u001b[39;00m \u001b[38;5;28mself\u001b[39m\u001b[38;5;241m.\u001b[39msync_formatters_builder \u001b[38;5;129;01mis\u001b[39;00m \u001b[38;5;129;01mnot\u001b[39;00m \u001b[38;5;28;01mNone\u001b[39;00m:\n\u001b[1;32m    148\u001b[0m         formatters \u001b[38;5;241m=\u001b[39m merge(\n\u001b[1;32m    149\u001b[0m             FORMATTER_DEFAULTS,\n\u001b[0;32m--> 150\u001b[0m             \u001b[38;5;28;43mself\u001b[39;49m\u001b[38;5;241;43m.\u001b[39;49m\u001b[43msync_formatters_builder\u001b[49m\u001b[43m(\u001b[49m\u001b[43mcast\u001b[49m\u001b[43m(\u001b[49m\u001b[38;5;124;43m\"\u001b[39;49m\u001b[38;5;124;43mWeb3\u001b[39;49m\u001b[38;5;124;43m\"\u001b[39;49m\u001b[43m,\u001b[49m\u001b[43m \u001b[49m\u001b[38;5;28;43mself\u001b[39;49m\u001b[38;5;241;43m.\u001b[39;49m\u001b[43m_w3\u001b[49m\u001b[43m)\u001b[49m\u001b[43m,\u001b[49m\u001b[43m \u001b[49m\u001b[43mmethod\u001b[49m\u001b[43m)\u001b[49m,\n\u001b[1;32m    151\u001b[0m         )\n\u001b[1;32m    152\u001b[0m         \u001b[38;5;28mself\u001b[39m\u001b[38;5;241m.\u001b[39mrequest_formatters \u001b[38;5;241m=\u001b[39m formatters\u001b[38;5;241m.\u001b[39mpop(\u001b[38;5;124m\"\u001b[39m\u001b[38;5;124mrequest_formatters\u001b[39m\u001b[38;5;124m\"\u001b[39m)\n\u001b[1;32m    154\u001b[0m     \u001b[38;5;28;01mif\u001b[39;00m method \u001b[38;5;129;01min\u001b[39;00m \u001b[38;5;28mself\u001b[39m\u001b[38;5;241m.\u001b[39mrequest_formatters:\n",
      "File \u001b[0;32m~/cryo_evm/evm_data_queries_cryo/.venv/lib/python3.12/site-packages/web3/middleware/validation.py:141\u001b[0m, in \u001b[0;36mbuild_method_validators\u001b[0;34m(w3, method)\u001b[0m\n\u001b[1;32m    139\u001b[0m request_formatters \u001b[38;5;241m=\u001b[39m {}\n\u001b[1;32m    140\u001b[0m \u001b[38;5;28;01mif\u001b[39;00m RPCEndpoint(method) \u001b[38;5;129;01min\u001b[39;00m METHODS_TO_VALIDATE:\n\u001b[0;32m--> 141\u001b[0m     w3_chain_id \u001b[38;5;241m=\u001b[39m \u001b[43mw3\u001b[49m\u001b[38;5;241;43m.\u001b[39;49m\u001b[43meth\u001b[49m\u001b[38;5;241;43m.\u001b[39;49m\u001b[43mchain_id\u001b[49m\n\u001b[1;32m    142\u001b[0m     \u001b[38;5;28;01mfor\u001b[39;00m method \u001b[38;5;129;01min\u001b[39;00m METHODS_TO_VALIDATE:\n\u001b[1;32m    143\u001b[0m         request_formatters[method] \u001b[38;5;241m=\u001b[39m _chain_id_validator(w3_chain_id)\n",
      "File \u001b[0;32m~/cryo_evm/evm_data_queries_cryo/.venv/lib/python3.12/site-packages/web3/eth/eth.py:153\u001b[0m, in \u001b[0;36mEth.chain_id\u001b[0;34m(self)\u001b[0m\n\u001b[1;32m    151\u001b[0m \u001b[38;5;129m@property\u001b[39m\n\u001b[1;32m    152\u001b[0m \u001b[38;5;28;01mdef\u001b[39;00m\u001b[38;5;250m \u001b[39m\u001b[38;5;21mchain_id\u001b[39m(\u001b[38;5;28mself\u001b[39m) \u001b[38;5;241m-\u001b[39m\u001b[38;5;241m>\u001b[39m \u001b[38;5;28mint\u001b[39m:\n\u001b[0;32m--> 153\u001b[0m     \u001b[38;5;28;01mreturn\u001b[39;00m \u001b[38;5;28;43mself\u001b[39;49m\u001b[38;5;241;43m.\u001b[39;49m\u001b[43m_chain_id\u001b[49m\u001b[43m(\u001b[49m\u001b[43m)\u001b[49m\n",
      "File \u001b[0;32m~/cryo_evm/evm_data_queries_cryo/.venv/lib/python3.12/site-packages/web3/module.py:112\u001b[0m, in \u001b[0;36mretrieve_blocking_method_call_fn.<locals>.caller\u001b[0;34m(*args, **kwargs)\u001b[0m\n\u001b[1;32m    105\u001b[0m     \u001b[38;5;28;01mreturn\u001b[39;00m LogFilter(eth_module\u001b[38;5;241m=\u001b[39mmodule, filter_id\u001b[38;5;241m=\u001b[39merr\u001b[38;5;241m.\u001b[39mfilter_id)\n\u001b[1;32m    107\u001b[0m (\n\u001b[1;32m    108\u001b[0m     result_formatters,\n\u001b[1;32m    109\u001b[0m     error_formatters,\n\u001b[1;32m    110\u001b[0m     null_result_formatters,\n\u001b[1;32m    111\u001b[0m ) \u001b[38;5;241m=\u001b[39m response_formatters\n\u001b[0;32m--> 112\u001b[0m result \u001b[38;5;241m=\u001b[39m \u001b[43mw3\u001b[49m\u001b[38;5;241;43m.\u001b[39;49m\u001b[43mmanager\u001b[49m\u001b[38;5;241;43m.\u001b[39;49m\u001b[43mrequest_blocking\u001b[49m\u001b[43m(\u001b[49m\n\u001b[1;32m    113\u001b[0m \u001b[43m    \u001b[49m\u001b[43mmethod_str\u001b[49m\u001b[43m,\u001b[49m\u001b[43m \u001b[49m\u001b[43mparams\u001b[49m\u001b[43m,\u001b[49m\u001b[43m \u001b[49m\u001b[43merror_formatters\u001b[49m\u001b[43m,\u001b[49m\u001b[43m \u001b[49m\u001b[43mnull_result_formatters\u001b[49m\n\u001b[1;32m    114\u001b[0m \u001b[43m\u001b[49m\u001b[43m)\u001b[49m\n\u001b[1;32m    115\u001b[0m \u001b[38;5;28;01mreturn\u001b[39;00m apply_result_formatters(result_formatters, result)\n",
      "File \u001b[0;32m~/cryo_evm/evm_data_queries_cryo/.venv/lib/python3.12/site-packages/web3/manager.py:424\u001b[0m, in \u001b[0;36mRequestManager.request_blocking\u001b[0;34m(self, method, params, error_formatters, null_result_formatters)\u001b[0m\n\u001b[1;32m    414\u001b[0m \u001b[38;5;28;01mdef\u001b[39;00m\u001b[38;5;250m \u001b[39m\u001b[38;5;21mrequest_blocking\u001b[39m(\n\u001b[1;32m    415\u001b[0m     \u001b[38;5;28mself\u001b[39m,\n\u001b[1;32m    416\u001b[0m     method: Union[RPCEndpoint, Callable[\u001b[38;5;241m.\u001b[39m\u001b[38;5;241m.\u001b[39m\u001b[38;5;241m.\u001b[39m, RPCEndpoint]],\n\u001b[0;32m   (...)\u001b[0m\n\u001b[1;32m    419\u001b[0m     null_result_formatters: Optional[Callable[\u001b[38;5;241m.\u001b[39m\u001b[38;5;241m.\u001b[39m\u001b[38;5;241m.\u001b[39m, Any]] \u001b[38;5;241m=\u001b[39m \u001b[38;5;28;01mNone\u001b[39;00m,\n\u001b[1;32m    420\u001b[0m ) \u001b[38;5;241m-\u001b[39m\u001b[38;5;241m>\u001b[39m Any:\n\u001b[1;32m    421\u001b[0m \u001b[38;5;250m    \u001b[39m\u001b[38;5;124;03m\"\"\"\u001b[39;00m\n\u001b[1;32m    422\u001b[0m \u001b[38;5;124;03m    Make a synchronous request using the provider\u001b[39;00m\n\u001b[1;32m    423\u001b[0m \u001b[38;5;124;03m    \"\"\"\u001b[39;00m\n\u001b[0;32m--> 424\u001b[0m     response \u001b[38;5;241m=\u001b[39m \u001b[38;5;28;43mself\u001b[39;49m\u001b[38;5;241;43m.\u001b[39;49m\u001b[43m_make_request\u001b[49m\u001b[43m(\u001b[49m\u001b[43mmethod\u001b[49m\u001b[43m,\u001b[49m\u001b[43m \u001b[49m\u001b[43mparams\u001b[49m\u001b[43m)\u001b[49m\n\u001b[1;32m    425\u001b[0m     \u001b[38;5;28;01mreturn\u001b[39;00m \u001b[38;5;28mself\u001b[39m\u001b[38;5;241m.\u001b[39mformatted_response(\n\u001b[1;32m    426\u001b[0m         response, params, error_formatters, null_result_formatters\n\u001b[1;32m    427\u001b[0m     )\n",
      "File \u001b[0;32m~/cryo_evm/evm_data_queries_cryo/.venv/lib/python3.12/site-packages/web3/manager.py:356\u001b[0m, in \u001b[0;36mRequestManager._make_request\u001b[0;34m(self, method, params)\u001b[0m\n\u001b[1;32m    352\u001b[0m request_func \u001b[38;5;241m=\u001b[39m provider\u001b[38;5;241m.\u001b[39mrequest_func(\n\u001b[1;32m    353\u001b[0m     cast(\u001b[38;5;124m\"\u001b[39m\u001b[38;5;124mWeb3\u001b[39m\u001b[38;5;124m\"\u001b[39m, \u001b[38;5;28mself\u001b[39m\u001b[38;5;241m.\u001b[39mw3), cast(\u001b[38;5;124m\"\u001b[39m\u001b[38;5;124mMiddlewareOnion\u001b[39m\u001b[38;5;124m\"\u001b[39m, \u001b[38;5;28mself\u001b[39m\u001b[38;5;241m.\u001b[39mmiddleware_onion)\n\u001b[1;32m    354\u001b[0m )\n\u001b[1;32m    355\u001b[0m \u001b[38;5;28mself\u001b[39m\u001b[38;5;241m.\u001b[39mlogger\u001b[38;5;241m.\u001b[39mdebug(\u001b[38;5;124mf\u001b[39m\u001b[38;5;124m\"\u001b[39m\u001b[38;5;124mMaking request. Method: \u001b[39m\u001b[38;5;132;01m{\u001b[39;00mmethod\u001b[38;5;132;01m}\u001b[39;00m\u001b[38;5;124m\"\u001b[39m)\n\u001b[0;32m--> 356\u001b[0m \u001b[38;5;28;01mreturn\u001b[39;00m \u001b[43mrequest_func\u001b[49m\u001b[43m(\u001b[49m\u001b[43mmethod\u001b[49m\u001b[43m,\u001b[49m\u001b[43m \u001b[49m\u001b[43mparams\u001b[49m\u001b[43m)\u001b[49m\n",
      "File \u001b[0;32m~/cryo_evm/evm_data_queries_cryo/.venv/lib/python3.12/site-packages/web3/middleware/base.py:56\u001b[0m, in \u001b[0;36mWeb3Middleware.wrap_make_request.<locals>.middleware\u001b[0;34m(method, params)\u001b[0m\n\u001b[1;32m     54\u001b[0m \u001b[38;5;28;01mdef\u001b[39;00m\u001b[38;5;250m \u001b[39m\u001b[38;5;21mmiddleware\u001b[39m(method: \u001b[38;5;124m\"\u001b[39m\u001b[38;5;124mRPCEndpoint\u001b[39m\u001b[38;5;124m\"\u001b[39m, params: Any) \u001b[38;5;241m-\u001b[39m\u001b[38;5;241m>\u001b[39m \u001b[38;5;124m\"\u001b[39m\u001b[38;5;124mRPCResponse\u001b[39m\u001b[38;5;124m\"\u001b[39m:\n\u001b[1;32m     55\u001b[0m     method, params \u001b[38;5;241m=\u001b[39m \u001b[38;5;28mself\u001b[39m\u001b[38;5;241m.\u001b[39mrequest_processor(method, params)\n\u001b[0;32m---> 56\u001b[0m     \u001b[38;5;28;01mreturn\u001b[39;00m \u001b[38;5;28mself\u001b[39m\u001b[38;5;241m.\u001b[39mresponse_processor(method, \u001b[43mmake_request\u001b[49m\u001b[43m(\u001b[49m\u001b[43mmethod\u001b[49m\u001b[43m,\u001b[49m\u001b[43m \u001b[49m\u001b[43mparams\u001b[49m\u001b[43m)\u001b[49m)\n",
      "File \u001b[0;32m~/cryo_evm/evm_data_queries_cryo/.venv/lib/python3.12/site-packages/web3/middleware/base.py:56\u001b[0m, in \u001b[0;36mWeb3Middleware.wrap_make_request.<locals>.middleware\u001b[0;34m(method, params)\u001b[0m\n\u001b[1;32m     54\u001b[0m \u001b[38;5;28;01mdef\u001b[39;00m\u001b[38;5;250m \u001b[39m\u001b[38;5;21mmiddleware\u001b[39m(method: \u001b[38;5;124m\"\u001b[39m\u001b[38;5;124mRPCEndpoint\u001b[39m\u001b[38;5;124m\"\u001b[39m, params: Any) \u001b[38;5;241m-\u001b[39m\u001b[38;5;241m>\u001b[39m \u001b[38;5;124m\"\u001b[39m\u001b[38;5;124mRPCResponse\u001b[39m\u001b[38;5;124m\"\u001b[39m:\n\u001b[1;32m     55\u001b[0m     method, params \u001b[38;5;241m=\u001b[39m \u001b[38;5;28mself\u001b[39m\u001b[38;5;241m.\u001b[39mrequest_processor(method, params)\n\u001b[0;32m---> 56\u001b[0m     \u001b[38;5;28;01mreturn\u001b[39;00m \u001b[38;5;28mself\u001b[39m\u001b[38;5;241m.\u001b[39mresponse_processor(method, \u001b[43mmake_request\u001b[49m\u001b[43m(\u001b[49m\u001b[43mmethod\u001b[49m\u001b[43m,\u001b[49m\u001b[43m \u001b[49m\u001b[43mparams\u001b[49m\u001b[43m)\u001b[49m)\n",
      "    \u001b[0;31m[... skipping similar frames: Web3Middleware.wrap_make_request.<locals>.middleware at line 56 (2 times)]\u001b[0m\n",
      "File \u001b[0;32m~/cryo_evm/evm_data_queries_cryo/.venv/lib/python3.12/site-packages/web3/middleware/base.py:56\u001b[0m, in \u001b[0;36mWeb3Middleware.wrap_make_request.<locals>.middleware\u001b[0;34m(method, params)\u001b[0m\n\u001b[1;32m     54\u001b[0m \u001b[38;5;28;01mdef\u001b[39;00m\u001b[38;5;250m \u001b[39m\u001b[38;5;21mmiddleware\u001b[39m(method: \u001b[38;5;124m\"\u001b[39m\u001b[38;5;124mRPCEndpoint\u001b[39m\u001b[38;5;124m\"\u001b[39m, params: Any) \u001b[38;5;241m-\u001b[39m\u001b[38;5;241m>\u001b[39m \u001b[38;5;124m\"\u001b[39m\u001b[38;5;124mRPCResponse\u001b[39m\u001b[38;5;124m\"\u001b[39m:\n\u001b[1;32m     55\u001b[0m     method, params \u001b[38;5;241m=\u001b[39m \u001b[38;5;28mself\u001b[39m\u001b[38;5;241m.\u001b[39mrequest_processor(method, params)\n\u001b[0;32m---> 56\u001b[0m     \u001b[38;5;28;01mreturn\u001b[39;00m \u001b[38;5;28mself\u001b[39m\u001b[38;5;241m.\u001b[39mresponse_processor(method, \u001b[43mmake_request\u001b[49m\u001b[43m(\u001b[49m\u001b[43mmethod\u001b[49m\u001b[43m,\u001b[49m\u001b[43m \u001b[49m\u001b[43mparams\u001b[49m\u001b[43m)\u001b[49m)\n",
      "File \u001b[0;32m~/cryo_evm/evm_data_queries_cryo/.venv/lib/python3.12/site-packages/web3/providers/auto.py:93\u001b[0m, in \u001b[0;36mAutoProvider.make_request\u001b[0;34m(self, method, params)\u001b[0m\n\u001b[1;32m     91\u001b[0m \u001b[38;5;28;01mdef\u001b[39;00m\u001b[38;5;250m \u001b[39m\u001b[38;5;21mmake_request\u001b[39m(\u001b[38;5;28mself\u001b[39m, method: RPCEndpoint, params: Any) \u001b[38;5;241m-\u001b[39m\u001b[38;5;241m>\u001b[39m RPCResponse:\n\u001b[1;32m     92\u001b[0m     \u001b[38;5;28;01mtry\u001b[39;00m:\n\u001b[0;32m---> 93\u001b[0m         \u001b[38;5;28;01mreturn\u001b[39;00m \u001b[38;5;28;43mself\u001b[39;49m\u001b[38;5;241;43m.\u001b[39;49m\u001b[43m_proxy_request\u001b[49m\u001b[43m(\u001b[49m\u001b[43mmethod\u001b[49m\u001b[43m,\u001b[49m\u001b[43m \u001b[49m\u001b[43mparams\u001b[49m\u001b[43m)\u001b[49m\n\u001b[1;32m     94\u001b[0m     \u001b[38;5;28;01mexcept\u001b[39;00m \u001b[38;5;167;01mOSError\u001b[39;00m:\n\u001b[1;32m     95\u001b[0m         \u001b[38;5;28;01mreturn\u001b[39;00m \u001b[38;5;28mself\u001b[39m\u001b[38;5;241m.\u001b[39m_proxy_request(method, params, use_cache\u001b[38;5;241m=\u001b[39m\u001b[38;5;28;01mFalse\u001b[39;00m)\n",
      "File \u001b[0;32m~/cryo_evm/evm_data_queries_cryo/.venv/lib/python3.12/site-packages/web3/providers/auto.py:106\u001b[0m, in \u001b[0;36mAutoProvider._proxy_request\u001b[0;34m(self, method, params, use_cache)\u001b[0m\n\u001b[1;32m    104\u001b[0m provider \u001b[38;5;241m=\u001b[39m \u001b[38;5;28mself\u001b[39m\u001b[38;5;241m.\u001b[39m_get_active_provider(use_cache)\n\u001b[1;32m    105\u001b[0m \u001b[38;5;28;01mif\u001b[39;00m provider \u001b[38;5;129;01mis\u001b[39;00m \u001b[38;5;28;01mNone\u001b[39;00m:\n\u001b[0;32m--> 106\u001b[0m     \u001b[38;5;28;01mraise\u001b[39;00m CannotHandleRequest(\n\u001b[1;32m    107\u001b[0m         \u001b[38;5;124m\"\u001b[39m\u001b[38;5;124mCould not discover provider while making request: \u001b[39m\u001b[38;5;124m\"\u001b[39m\n\u001b[1;32m    108\u001b[0m         \u001b[38;5;124mf\u001b[39m\u001b[38;5;124m\"\u001b[39m\u001b[38;5;124mmethod:\u001b[39m\u001b[38;5;132;01m{\u001b[39;00mmethod\u001b[38;5;132;01m}\u001b[39;00m\u001b[38;5;130;01m\\n\u001b[39;00m\u001b[38;5;124mparams:\u001b[39m\u001b[38;5;132;01m{\u001b[39;00mparams\u001b[38;5;132;01m}\u001b[39;00m\u001b[38;5;130;01m\\n\u001b[39;00m\u001b[38;5;124m\"\u001b[39m\n\u001b[1;32m    109\u001b[0m     )\n\u001b[1;32m    111\u001b[0m \u001b[38;5;28;01mreturn\u001b[39;00m provider\u001b[38;5;241m.\u001b[39mmake_request(method, params)\n",
      "\u001b[0;31mCannotHandleRequest\u001b[0m: Could not discover provider while making request: method:eth_chainId\nparams:()\n"
     ]
    }
   ],
   "source": [
    "# Load the contract\n",
    "contract = w3.eth.contract(address=RATE_STRATEGY_V2, abi=RATE_STRATEGY_V2_ABI)\n",
    "\n",
    "# Call the function\n",
    "interest_rate_data = contract.functions.getInterestRateData(DAI_ADDRESS).call()"
   ]
  },
  {
   "cell_type": "code",
   "execution_count": null,
   "id": "da0d848c-a1b9-43f7-a8a0-57860a676c9e",
   "metadata": {},
   "outputs": [],
   "source": []
  },
  {
   "cell_type": "code",
   "execution_count": 42,
   "id": "e180ef34-fbda-4bd8-abe0-4e6e590ffe5a",
   "metadata": {},
   "outputs": [],
   "source": [
    "# Convert token amounts - DAI and WETH (18 decimals)\n",
    "# df.loc['totalAToken', 'DAI_RESERVE_DATA'] = df.loc['totalAToken', 'DAI_RESERVE_DATA'] / 1e18"
   ]
  },
  {
   "cell_type": "code",
   "execution_count": 43,
   "id": "c1cf7b09-9f60-45be-8659-bd90ad70c9d0",
   "metadata": {},
   "outputs": [
    {
     "ename": "ValueError",
     "evalue": "invalid literal for int() with base 10: '2025-03-20 17:07:11'",
     "output_type": "error",
     "traceback": [
      "\u001b[0;31m---------------------------------------------------------------------------\u001b[0m",
      "\u001b[0;31mValueError\u001b[0m                                Traceback (most recent call last)",
      "Cell \u001b[0;32mIn[43], line 19\u001b[0m\n\u001b[1;32m     17\u001b[0m \u001b[38;5;28;01mfrom\u001b[39;00m\u001b[38;5;250m \u001b[39m\u001b[38;5;21;01mdatetime\u001b[39;00m\u001b[38;5;250m \u001b[39m\u001b[38;5;28;01mimport\u001b[39;00m datetime\n\u001b[1;32m     18\u001b[0m timestamp_values \u001b[38;5;241m=\u001b[39m readable_df\u001b[38;5;241m.\u001b[39mloc[\u001b[38;5;124m'\u001b[39m\u001b[38;5;124mlastUpdateTimestamp\u001b[39m\u001b[38;5;124m'\u001b[39m]\u001b[38;5;241m.\u001b[39mcopy()\n\u001b[0;32m---> 19\u001b[0m readable_df\u001b[38;5;241m.\u001b[39mloc[\u001b[38;5;124m'\u001b[39m\u001b[38;5;124mlastUpdateTimestamp\u001b[39m\u001b[38;5;124m'\u001b[39m] \u001b[38;5;241m=\u001b[39m \u001b[43mreadable_df\u001b[49m\u001b[38;5;241;43m.\u001b[39;49m\u001b[43mloc\u001b[49m\u001b[43m[\u001b[49m\u001b[38;5;124;43m'\u001b[39;49m\u001b[38;5;124;43mlastUpdateTimestamp\u001b[39;49m\u001b[38;5;124;43m'\u001b[39;49m\u001b[43m]\u001b[49m\u001b[38;5;241;43m.\u001b[39;49m\u001b[43mapply\u001b[49m\u001b[43m(\u001b[49m\n\u001b[1;32m     20\u001b[0m \u001b[43m    \u001b[49m\u001b[38;5;28;43;01mlambda\u001b[39;49;00m\u001b[43m \u001b[49m\u001b[43mx\u001b[49m\u001b[43m:\u001b[49m\u001b[43m \u001b[49m\u001b[43mdatetime\u001b[49m\u001b[38;5;241;43m.\u001b[39;49m\u001b[43mfromtimestamp\u001b[49m\u001b[43m(\u001b[49m\u001b[38;5;28;43mint\u001b[39;49m\u001b[43m(\u001b[49m\u001b[43mx\u001b[49m\u001b[43m)\u001b[49m\u001b[43m)\u001b[49m\u001b[38;5;241;43m.\u001b[39;49m\u001b[43mstrftime\u001b[49m\u001b[43m(\u001b[49m\u001b[38;5;124;43m'\u001b[39;49m\u001b[38;5;124;43m%\u001b[39;49m\u001b[38;5;124;43mY-\u001b[39;49m\u001b[38;5;124;43m%\u001b[39;49m\u001b[38;5;124;43mm-\u001b[39;49m\u001b[38;5;132;43;01m%d\u001b[39;49;00m\u001b[38;5;124;43m \u001b[39;49m\u001b[38;5;124;43m%\u001b[39;49m\u001b[38;5;124;43mH:\u001b[39;49m\u001b[38;5;124;43m%\u001b[39;49m\u001b[38;5;124;43mM:\u001b[39;49m\u001b[38;5;124;43m%\u001b[39;49m\u001b[38;5;124;43mS\u001b[39;49m\u001b[38;5;124;43m'\u001b[39;49m\u001b[43m)\u001b[49m\n\u001b[1;32m     21\u001b[0m \u001b[43m)\u001b[49m\n",
      "File \u001b[0;32m~/cryo_evm/evm_data_queries_cryo/.venv/lib/python3.12/site-packages/pandas/core/series.py:4924\u001b[0m, in \u001b[0;36mSeries.apply\u001b[0;34m(self, func, convert_dtype, args, by_row, **kwargs)\u001b[0m\n\u001b[1;32m   4789\u001b[0m \u001b[38;5;28;01mdef\u001b[39;00m\u001b[38;5;250m \u001b[39m\u001b[38;5;21mapply\u001b[39m(\n\u001b[1;32m   4790\u001b[0m     \u001b[38;5;28mself\u001b[39m,\n\u001b[1;32m   4791\u001b[0m     func: AggFuncType,\n\u001b[0;32m   (...)\u001b[0m\n\u001b[1;32m   4796\u001b[0m     \u001b[38;5;241m*\u001b[39m\u001b[38;5;241m*\u001b[39mkwargs,\n\u001b[1;32m   4797\u001b[0m ) \u001b[38;5;241m-\u001b[39m\u001b[38;5;241m>\u001b[39m DataFrame \u001b[38;5;241m|\u001b[39m Series:\n\u001b[1;32m   4798\u001b[0m \u001b[38;5;250m    \u001b[39m\u001b[38;5;124;03m\"\"\"\u001b[39;00m\n\u001b[1;32m   4799\u001b[0m \u001b[38;5;124;03m    Invoke function on values of Series.\u001b[39;00m\n\u001b[1;32m   4800\u001b[0m \n\u001b[0;32m   (...)\u001b[0m\n\u001b[1;32m   4915\u001b[0m \u001b[38;5;124;03m    dtype: float64\u001b[39;00m\n\u001b[1;32m   4916\u001b[0m \u001b[38;5;124;03m    \"\"\"\u001b[39;00m\n\u001b[1;32m   4917\u001b[0m     \u001b[38;5;28;01mreturn\u001b[39;00m \u001b[43mSeriesApply\u001b[49m\u001b[43m(\u001b[49m\n\u001b[1;32m   4918\u001b[0m \u001b[43m        \u001b[49m\u001b[38;5;28;43mself\u001b[39;49m\u001b[43m,\u001b[49m\n\u001b[1;32m   4919\u001b[0m \u001b[43m        \u001b[49m\u001b[43mfunc\u001b[49m\u001b[43m,\u001b[49m\n\u001b[1;32m   4920\u001b[0m \u001b[43m        \u001b[49m\u001b[43mconvert_dtype\u001b[49m\u001b[38;5;241;43m=\u001b[39;49m\u001b[43mconvert_dtype\u001b[49m\u001b[43m,\u001b[49m\n\u001b[1;32m   4921\u001b[0m \u001b[43m        \u001b[49m\u001b[43mby_row\u001b[49m\u001b[38;5;241;43m=\u001b[39;49m\u001b[43mby_row\u001b[49m\u001b[43m,\u001b[49m\n\u001b[1;32m   4922\u001b[0m \u001b[43m        \u001b[49m\u001b[43margs\u001b[49m\u001b[38;5;241;43m=\u001b[39;49m\u001b[43margs\u001b[49m\u001b[43m,\u001b[49m\n\u001b[1;32m   4923\u001b[0m \u001b[43m        \u001b[49m\u001b[43mkwargs\u001b[49m\u001b[38;5;241;43m=\u001b[39;49m\u001b[43mkwargs\u001b[49m\u001b[43m,\u001b[49m\n\u001b[0;32m-> 4924\u001b[0m \u001b[43m    \u001b[49m\u001b[43m)\u001b[49m\u001b[38;5;241;43m.\u001b[39;49m\u001b[43mapply\u001b[49m\u001b[43m(\u001b[49m\u001b[43m)\u001b[49m\n",
      "File \u001b[0;32m~/cryo_evm/evm_data_queries_cryo/.venv/lib/python3.12/site-packages/pandas/core/apply.py:1427\u001b[0m, in \u001b[0;36mSeriesApply.apply\u001b[0;34m(self)\u001b[0m\n\u001b[1;32m   1424\u001b[0m     \u001b[38;5;28;01mreturn\u001b[39;00m \u001b[38;5;28mself\u001b[39m\u001b[38;5;241m.\u001b[39mapply_compat()\n\u001b[1;32m   1426\u001b[0m \u001b[38;5;66;03m# self.func is Callable\u001b[39;00m\n\u001b[0;32m-> 1427\u001b[0m \u001b[38;5;28;01mreturn\u001b[39;00m \u001b[38;5;28;43mself\u001b[39;49m\u001b[38;5;241;43m.\u001b[39;49m\u001b[43mapply_standard\u001b[49m\u001b[43m(\u001b[49m\u001b[43m)\u001b[49m\n",
      "File \u001b[0;32m~/cryo_evm/evm_data_queries_cryo/.venv/lib/python3.12/site-packages/pandas/core/apply.py:1507\u001b[0m, in \u001b[0;36mSeriesApply.apply_standard\u001b[0;34m(self)\u001b[0m\n\u001b[1;32m   1501\u001b[0m \u001b[38;5;66;03m# row-wise access\u001b[39;00m\n\u001b[1;32m   1502\u001b[0m \u001b[38;5;66;03m# apply doesn't have a `na_action` keyword and for backward compat reasons\u001b[39;00m\n\u001b[1;32m   1503\u001b[0m \u001b[38;5;66;03m# we need to give `na_action=\"ignore\"` for categorical data.\u001b[39;00m\n\u001b[1;32m   1504\u001b[0m \u001b[38;5;66;03m# TODO: remove the `na_action=\"ignore\"` when that default has been changed in\u001b[39;00m\n\u001b[1;32m   1505\u001b[0m \u001b[38;5;66;03m#  Categorical (GH51645).\u001b[39;00m\n\u001b[1;32m   1506\u001b[0m action \u001b[38;5;241m=\u001b[39m \u001b[38;5;124m\"\u001b[39m\u001b[38;5;124mignore\u001b[39m\u001b[38;5;124m\"\u001b[39m \u001b[38;5;28;01mif\u001b[39;00m \u001b[38;5;28misinstance\u001b[39m(obj\u001b[38;5;241m.\u001b[39mdtype, CategoricalDtype) \u001b[38;5;28;01melse\u001b[39;00m \u001b[38;5;28;01mNone\u001b[39;00m\n\u001b[0;32m-> 1507\u001b[0m mapped \u001b[38;5;241m=\u001b[39m \u001b[43mobj\u001b[49m\u001b[38;5;241;43m.\u001b[39;49m\u001b[43m_map_values\u001b[49m\u001b[43m(\u001b[49m\n\u001b[1;32m   1508\u001b[0m \u001b[43m    \u001b[49m\u001b[43mmapper\u001b[49m\u001b[38;5;241;43m=\u001b[39;49m\u001b[43mcurried\u001b[49m\u001b[43m,\u001b[49m\u001b[43m \u001b[49m\u001b[43mna_action\u001b[49m\u001b[38;5;241;43m=\u001b[39;49m\u001b[43maction\u001b[49m\u001b[43m,\u001b[49m\u001b[43m \u001b[49m\u001b[43mconvert\u001b[49m\u001b[38;5;241;43m=\u001b[39;49m\u001b[38;5;28;43mself\u001b[39;49m\u001b[38;5;241;43m.\u001b[39;49m\u001b[43mconvert_dtype\u001b[49m\n\u001b[1;32m   1509\u001b[0m \u001b[43m\u001b[49m\u001b[43m)\u001b[49m\n\u001b[1;32m   1511\u001b[0m \u001b[38;5;28;01mif\u001b[39;00m \u001b[38;5;28mlen\u001b[39m(mapped) \u001b[38;5;129;01mand\u001b[39;00m \u001b[38;5;28misinstance\u001b[39m(mapped[\u001b[38;5;241m0\u001b[39m], ABCSeries):\n\u001b[1;32m   1512\u001b[0m     \u001b[38;5;66;03m# GH#43986 Need to do list(mapped) in order to get treated as nested\u001b[39;00m\n\u001b[1;32m   1513\u001b[0m     \u001b[38;5;66;03m#  See also GH#25959 regarding EA support\u001b[39;00m\n\u001b[1;32m   1514\u001b[0m     \u001b[38;5;28;01mreturn\u001b[39;00m obj\u001b[38;5;241m.\u001b[39m_constructor_expanddim(\u001b[38;5;28mlist\u001b[39m(mapped), index\u001b[38;5;241m=\u001b[39mobj\u001b[38;5;241m.\u001b[39mindex)\n",
      "File \u001b[0;32m~/cryo_evm/evm_data_queries_cryo/.venv/lib/python3.12/site-packages/pandas/core/base.py:921\u001b[0m, in \u001b[0;36mIndexOpsMixin._map_values\u001b[0;34m(self, mapper, na_action, convert)\u001b[0m\n\u001b[1;32m    918\u001b[0m \u001b[38;5;28;01mif\u001b[39;00m \u001b[38;5;28misinstance\u001b[39m(arr, ExtensionArray):\n\u001b[1;32m    919\u001b[0m     \u001b[38;5;28;01mreturn\u001b[39;00m arr\u001b[38;5;241m.\u001b[39mmap(mapper, na_action\u001b[38;5;241m=\u001b[39mna_action)\n\u001b[0;32m--> 921\u001b[0m \u001b[38;5;28;01mreturn\u001b[39;00m \u001b[43malgorithms\u001b[49m\u001b[38;5;241;43m.\u001b[39;49m\u001b[43mmap_array\u001b[49m\u001b[43m(\u001b[49m\u001b[43marr\u001b[49m\u001b[43m,\u001b[49m\u001b[43m \u001b[49m\u001b[43mmapper\u001b[49m\u001b[43m,\u001b[49m\u001b[43m \u001b[49m\u001b[43mna_action\u001b[49m\u001b[38;5;241;43m=\u001b[39;49m\u001b[43mna_action\u001b[49m\u001b[43m,\u001b[49m\u001b[43m \u001b[49m\u001b[43mconvert\u001b[49m\u001b[38;5;241;43m=\u001b[39;49m\u001b[43mconvert\u001b[49m\u001b[43m)\u001b[49m\n",
      "File \u001b[0;32m~/cryo_evm/evm_data_queries_cryo/.venv/lib/python3.12/site-packages/pandas/core/algorithms.py:1743\u001b[0m, in \u001b[0;36mmap_array\u001b[0;34m(arr, mapper, na_action, convert)\u001b[0m\n\u001b[1;32m   1741\u001b[0m values \u001b[38;5;241m=\u001b[39m arr\u001b[38;5;241m.\u001b[39mastype(\u001b[38;5;28mobject\u001b[39m, copy\u001b[38;5;241m=\u001b[39m\u001b[38;5;28;01mFalse\u001b[39;00m)\n\u001b[1;32m   1742\u001b[0m \u001b[38;5;28;01mif\u001b[39;00m na_action \u001b[38;5;129;01mis\u001b[39;00m \u001b[38;5;28;01mNone\u001b[39;00m:\n\u001b[0;32m-> 1743\u001b[0m     \u001b[38;5;28;01mreturn\u001b[39;00m \u001b[43mlib\u001b[49m\u001b[38;5;241;43m.\u001b[39;49m\u001b[43mmap_infer\u001b[49m\u001b[43m(\u001b[49m\u001b[43mvalues\u001b[49m\u001b[43m,\u001b[49m\u001b[43m \u001b[49m\u001b[43mmapper\u001b[49m\u001b[43m,\u001b[49m\u001b[43m \u001b[49m\u001b[43mconvert\u001b[49m\u001b[38;5;241;43m=\u001b[39;49m\u001b[43mconvert\u001b[49m\u001b[43m)\u001b[49m\n\u001b[1;32m   1744\u001b[0m \u001b[38;5;28;01melse\u001b[39;00m:\n\u001b[1;32m   1745\u001b[0m     \u001b[38;5;28;01mreturn\u001b[39;00m lib\u001b[38;5;241m.\u001b[39mmap_infer_mask(\n\u001b[1;32m   1746\u001b[0m         values, mapper, mask\u001b[38;5;241m=\u001b[39misna(values)\u001b[38;5;241m.\u001b[39mview(np\u001b[38;5;241m.\u001b[39muint8), convert\u001b[38;5;241m=\u001b[39mconvert\n\u001b[1;32m   1747\u001b[0m     )\n",
      "File \u001b[0;32mlib.pyx:2972\u001b[0m, in \u001b[0;36mpandas._libs.lib.map_infer\u001b[0;34m()\u001b[0m\n",
      "Cell \u001b[0;32mIn[43], line 20\u001b[0m, in \u001b[0;36m<lambda>\u001b[0;34m(x)\u001b[0m\n\u001b[1;32m     17\u001b[0m \u001b[38;5;28;01mfrom\u001b[39;00m\u001b[38;5;250m \u001b[39m\u001b[38;5;21;01mdatetime\u001b[39;00m\u001b[38;5;250m \u001b[39m\u001b[38;5;28;01mimport\u001b[39;00m datetime\n\u001b[1;32m     18\u001b[0m timestamp_values \u001b[38;5;241m=\u001b[39m readable_df\u001b[38;5;241m.\u001b[39mloc[\u001b[38;5;124m'\u001b[39m\u001b[38;5;124mlastUpdateTimestamp\u001b[39m\u001b[38;5;124m'\u001b[39m]\u001b[38;5;241m.\u001b[39mcopy()\n\u001b[1;32m     19\u001b[0m readable_df\u001b[38;5;241m.\u001b[39mloc[\u001b[38;5;124m'\u001b[39m\u001b[38;5;124mlastUpdateTimestamp\u001b[39m\u001b[38;5;124m'\u001b[39m] \u001b[38;5;241m=\u001b[39m readable_df\u001b[38;5;241m.\u001b[39mloc[\u001b[38;5;124m'\u001b[39m\u001b[38;5;124mlastUpdateTimestamp\u001b[39m\u001b[38;5;124m'\u001b[39m]\u001b[38;5;241m.\u001b[39mapply(\n\u001b[0;32m---> 20\u001b[0m     \u001b[38;5;28;01mlambda\u001b[39;00m x: datetime\u001b[38;5;241m.\u001b[39mfromtimestamp(\u001b[38;5;28;43mint\u001b[39;49m\u001b[43m(\u001b[49m\u001b[43mx\u001b[49m\u001b[43m)\u001b[49m)\u001b[38;5;241m.\u001b[39mstrftime(\u001b[38;5;124m'\u001b[39m\u001b[38;5;124m%\u001b[39m\u001b[38;5;124mY-\u001b[39m\u001b[38;5;124m%\u001b[39m\u001b[38;5;124mm-\u001b[39m\u001b[38;5;132;01m%d\u001b[39;00m\u001b[38;5;124m \u001b[39m\u001b[38;5;124m%\u001b[39m\u001b[38;5;124mH:\u001b[39m\u001b[38;5;124m%\u001b[39m\u001b[38;5;124mM:\u001b[39m\u001b[38;5;124m%\u001b[39m\u001b[38;5;124mS\u001b[39m\u001b[38;5;124m'\u001b[39m)\n\u001b[1;32m     21\u001b[0m )\n",
      "\u001b[0;31mValueError\u001b[0m: invalid literal for int() with base 10: '2025-03-20 17:07:11'"
     ]
    }
   ],
   "source": [
    "# Apply the unit conversions with different decimals per token\n",
    "# For DAI and WETH (18 decimals)\n",
    "readable_df.loc['totalAToken', 'DAI_RESERVE_DATA'] = readable_df.loc['totalAToken', 'DAI_RESERVE_DATA'] / 1e18\n",
    "readable_df.loc['totalAToken', 'WETH_RESERVE_DATA'] = readable_df.loc['totalAToken', 'WETH_RESERVE_DATA'] / 1e18\n",
    "readable_df.loc['totalVariableDebt', 'DAI_RESERVE_DATA'] = readable_df.loc['totalVariableDebt', 'DAI_RESERVE_DATA'] / 1e18\n",
    "readable_df.loc['totalVariableDebt', 'WETH_RESERVE_DATA'] = readable_df.loc['totalVariableDebt', 'WETH_RESERVE_DATA'] / 1e18\n",
    "\n",
    "# For USDC (6 decimals)\n",
    "readable_df.loc['totalAToken', 'USDC_RESERVE_DATA'] = readable_df.loc['totalAToken', 'USDC_RESERVE_DATA'] / 1e6\n",
    "readable_df.loc['totalVariableDebt', 'USDC_RESERVE_DATA'] = readable_df.loc['totalVariableDebt', 'USDC_RESERVE_DATA'] / 1e6\n",
    "\n",
    "# Convert rates from ray (10^27) to percentage for all tokens (as numeric values)\n",
    "readable_df.loc['liquidityRate'] = readable_df.loc['liquidityRate'] / 1e27 * 100\n",
    "readable_df.loc['variableBorrowRate'] = readable_df.loc['variableBorrowRate'] / 1e27 * 100\n",
    "\n",
    "# Convert timestamp to datetime but keep the original values for calculations if needed\n",
    "from datetime import datetime\n",
    "timestamp_values = readable_df.loc['lastUpdateTimestamp'].copy()\n",
    "readable_df.loc['lastUpdateTimestamp'] = readable_df.loc['lastUpdateTimestamp'].apply(\n",
    "    lambda x: datetime.fromtimestamp(int(x)).strftime('%Y-%m-%d %H:%M:%S')\n",
    ")\n"
   ]
  },
  {
   "cell_type": "code",
   "execution_count": 53,
   "id": "4a41ce14-955d-463e-877c-8e19b94b47c2",
   "metadata": {},
   "outputs": [],
   "source": [
    "readable_df.loc['lastUpdateTimestamp'] = readable_df.loc['lastUpdateTimestamp'].apply(\n",
    "    lambda x: datetime.fromtimestamp(x).strftime('%Y-%m-%d %H:%M:%S')\n",
    ")"
   ]
  },
  {
   "cell_type": "code",
   "execution_count": 54,
   "id": "30d8b216-8dd0-418f-8b57-593bf7b6d791",
   "metadata": {},
   "outputs": [
    {
     "data": {
      "text/html": [
       "<div>\n",
       "<style scoped>\n",
       "    .dataframe tbody tr th:only-of-type {\n",
       "        vertical-align: middle;\n",
       "    }\n",
       "\n",
       "    .dataframe tbody tr th {\n",
       "        vertical-align: top;\n",
       "    }\n",
       "\n",
       "    .dataframe thead th {\n",
       "        text-align: right;\n",
       "    }\n",
       "</style>\n",
       "<table border=\"1\" class=\"dataframe\">\n",
       "  <thead>\n",
       "    <tr style=\"text-align: right;\">\n",
       "      <th></th>\n",
       "      <th>DAI_RESERVE_DATA</th>\n",
       "      <th>WETH_RESERVE_DATA</th>\n",
       "      <th>USDC_RESERVE_DATA</th>\n",
       "    </tr>\n",
       "  </thead>\n",
       "  <tbody>\n",
       "    <tr>\n",
       "      <th>unbacked</th>\n",
       "      <td>0</td>\n",
       "      <td>0</td>\n",
       "      <td>0</td>\n",
       "    </tr>\n",
       "    <tr>\n",
       "      <th>accruedToTreasuryScaled</th>\n",
       "      <td>1272631322734850943859</td>\n",
       "      <td>5527230188022745360</td>\n",
       "      <td>5239782724</td>\n",
       "    </tr>\n",
       "    <tr>\n",
       "      <th>totalAToken</th>\n",
       "      <td>168749992958756623159816609</td>\n",
       "      <td>2176891299909195728593931</td>\n",
       "      <td>2829884560059423</td>\n",
       "    </tr>\n",
       "    <tr>\n",
       "      <th>totalStableDebt</th>\n",
       "      <td>0</td>\n",
       "      <td>0</td>\n",
       "      <td>0</td>\n",
       "    </tr>\n",
       "    <tr>\n",
       "      <th>totalVariableDebt</th>\n",
       "      <td>126825046777808676903510963</td>\n",
       "      <td>1898468140944825244961765</td>\n",
       "      <td>1752279879182154</td>\n",
       "    </tr>\n",
       "    <tr>\n",
       "      <th>liquidityRate</th>\n",
       "      <td>29929652764255528955771044</td>\n",
       "      <td>19394162087811683453066052</td>\n",
       "      <td>24380113945504062751438188</td>\n",
       "    </tr>\n",
       "    <tr>\n",
       "      <th>variableBorrowRate</th>\n",
       "      <td>53098589957204005475672965</td>\n",
       "      <td>26162947820225160659630962</td>\n",
       "      <td>43748118346190638871715653</td>\n",
       "    </tr>\n",
       "    <tr>\n",
       "      <th>stableBorrowRate</th>\n",
       "      <td>0</td>\n",
       "      <td>0</td>\n",
       "      <td>0</td>\n",
       "    </tr>\n",
       "    <tr>\n",
       "      <th>averageStableBorrowRate</th>\n",
       "      <td>0</td>\n",
       "      <td>0</td>\n",
       "      <td>0</td>\n",
       "    </tr>\n",
       "    <tr>\n",
       "      <th>liquidityIndex</th>\n",
       "      <td>1120815513262587206006570762</td>\n",
       "      <td>1041954506011921037712383387</td>\n",
       "      <td>1123973729543179762214097964</td>\n",
       "    </tr>\n",
       "    <tr>\n",
       "      <th>variableBorrowIndex</th>\n",
       "      <td>1177324540684755168805267276</td>\n",
       "      <td>1066351936585885396720670276</td>\n",
       "      <td>1163121737559964028630316565</td>\n",
       "    </tr>\n",
       "    <tr>\n",
       "      <th>lastUpdateTimestamp</th>\n",
       "      <td>2025-03-20 15:40:23</td>\n",
       "      <td>2025-03-20 15:43:23</td>\n",
       "      <td>2025-03-20 15:43:23</td>\n",
       "    </tr>\n",
       "  </tbody>\n",
       "</table>\n",
       "</div>"
      ],
      "text/plain": [
       "                                     DAI_RESERVE_DATA  \\\n",
       "unbacked                                            0   \n",
       "accruedToTreasuryScaled        1272631322734850943859   \n",
       "totalAToken               168749992958756623159816609   \n",
       "totalStableDebt                                     0   \n",
       "totalVariableDebt         126825046777808676903510963   \n",
       "liquidityRate              29929652764255528955771044   \n",
       "variableBorrowRate         53098589957204005475672965   \n",
       "stableBorrowRate                                    0   \n",
       "averageStableBorrowRate                             0   \n",
       "liquidityIndex           1120815513262587206006570762   \n",
       "variableBorrowIndex      1177324540684755168805267276   \n",
       "lastUpdateTimestamp               2025-03-20 15:40:23   \n",
       "\n",
       "                                    WETH_RESERVE_DATA  \\\n",
       "unbacked                                            0   \n",
       "accruedToTreasuryScaled           5527230188022745360   \n",
       "totalAToken                 2176891299909195728593931   \n",
       "totalStableDebt                                     0   \n",
       "totalVariableDebt           1898468140944825244961765   \n",
       "liquidityRate              19394162087811683453066052   \n",
       "variableBorrowRate         26162947820225160659630962   \n",
       "stableBorrowRate                                    0   \n",
       "averageStableBorrowRate                             0   \n",
       "liquidityIndex           1041954506011921037712383387   \n",
       "variableBorrowIndex      1066351936585885396720670276   \n",
       "lastUpdateTimestamp               2025-03-20 15:43:23   \n",
       "\n",
       "                                    USDC_RESERVE_DATA  \n",
       "unbacked                                            0  \n",
       "accruedToTreasuryScaled                    5239782724  \n",
       "totalAToken                          2829884560059423  \n",
       "totalStableDebt                                     0  \n",
       "totalVariableDebt                    1752279879182154  \n",
       "liquidityRate              24380113945504062751438188  \n",
       "variableBorrowRate         43748118346190638871715653  \n",
       "stableBorrowRate                                    0  \n",
       "averageStableBorrowRate                             0  \n",
       "liquidityIndex           1123973729543179762214097964  \n",
       "variableBorrowIndex      1163121737559964028630316565  \n",
       "lastUpdateTimestamp               2025-03-20 15:43:23  "
      ]
     },
     "execution_count": 54,
     "metadata": {},
     "output_type": "execute_result"
    }
   ],
   "source": [
    "readable_df"
   ]
  },
  {
   "cell_type": "code",
   "execution_count": 55,
   "id": "97c2a23a-6c91-44b9-a8ab-406448bc6be1",
   "metadata": {},
   "outputs": [],
   "source": [
    "readable_df.loc['totalAToken', 'DAI_RESERVE_DATA'] = readable_df.loc['totalAToken', 'DAI_RESERVE_DATA'] / 1e18\n",
    "readable_df.loc['totalAToken', 'WETH_RESERVE_DATA'] = readable_df.loc['totalAToken', 'WETH_RESERVE_DATA'] / 1e18\n",
    "readable_df.loc['totalVariableDebt', 'DAI_RESERVE_DATA'] = readable_df.loc['totalVariableDebt', 'DAI_RESERVE_DATA'] / 1e18\n",
    "readable_df.loc['totalVariableDebt', 'WETH_RESERVE_DATA'] = readable_df.loc['totalVariableDebt', 'WETH_RESERVE_DATA'] / 1e18"
   ]
  },
  {
   "cell_type": "code",
   "execution_count": 56,
   "id": "54bc90f1-691c-40c0-b883-3e0ec21a5fa3",
   "metadata": {},
   "outputs": [],
   "source": [
    "readable_df.loc['totalAToken', 'USDC_RESERVE_DATA'] = readable_df.loc['totalAToken', 'USDC_RESERVE_DATA'] / 1e6\n",
    "readable_df.loc['totalVariableDebt', 'USDC_RESERVE_DATA'] = readable_df.loc['totalVariableDebt', 'USDC_RESERVE_DATA'] / 1e6"
   ]
  },
  {
   "cell_type": "code",
   "execution_count": 57,
   "id": "e428625c-8575-4779-94ec-277364bbe901",
   "metadata": {},
   "outputs": [],
   "source": [
    "readable_df.loc['totalAToken'] = readable_df.loc['totalAToken'].apply(lambda x: f\"{float(x):,.4f}\" if isinstance(x, (int, float, str)) else x)\n",
    "readable_df.loc['totalVariableDebt'] = readable_df.loc['totalVariableDebt'].apply(lambda x: f\"{float(x):,.4f}\" if isinstance(x, (int, float, str)) else x)\n"
   ]
  },
  {
   "cell_type": "code",
   "execution_count": 58,
   "id": "3d5eda96-ff19-4136-b791-3980be8fd0d3",
   "metadata": {},
   "outputs": [],
   "source": [
    "# Convert rates from ray (10^27) to percentage for all tokens\n",
    "readable_df.loc['liquidityRate'] = readable_df.loc['liquidityRate'] / 1e27 * 100\n",
    "readable_df.loc['variableBorrowRate'] = readable_df.loc['variableBorrowRate'] / 1e27 * 100"
   ]
  },
  {
   "cell_type": "code",
   "execution_count": 59,
   "id": "3fa2834d-3029-4dce-ab1b-fe7a4eaab19a",
   "metadata": {},
   "outputs": [],
   "source": [
    "# Format the rate fields with 4 decimal places and add % sign\n",
    "readable_df.loc['liquidityRate'] = readable_df.loc['liquidityRate'].apply(lambda x: f\"{float(x):.4f}%\" if isinstance(x, (int, float, str)) else x)\n",
    "readable_df.loc['variableBorrowRate'] = readable_df.loc['variableBorrowRate'].apply(lambda x: f\"{float(x):.4f}%\" if isinstance(x, (int, float, str)) else x)"
   ]
  },
  {
   "cell_type": "code",
   "execution_count": 402,
   "id": "ea8fe22f-341d-4583-bed3-1af7a430a9d4",
   "metadata": {},
   "outputs": [],
   "source": [
    "# readable_df.loc['totalAToken'] = df.loc['totalAToken'].apply(lambda x: f\"{x:,.4f}\")\n",
    "# readable_df.loc['totalVariableDebt'] = df.loc['totalVariableDebt'].apply(lambda x: f\"{x:,.4f}\")\n",
    "# readable_df.loc['liquidityRate'] = df.loc['liquidityRate'].apply(lambda x: f\"{x:.4f}%\")\n",
    "# readable_df.loc['variableBorrowRate'] = df.loc['variableBorrowRate'].apply(lambda x: f\"{x:.4f}%\")"
   ]
  },
  {
   "cell_type": "code",
   "execution_count": 60,
   "id": "cfa52d1a-6286-4d21-b52e-3f057e92be06",
   "metadata": {},
   "outputs": [
    {
     "data": {
      "text/html": [
       "<div>\n",
       "<style scoped>\n",
       "    .dataframe tbody tr th:only-of-type {\n",
       "        vertical-align: middle;\n",
       "    }\n",
       "\n",
       "    .dataframe tbody tr th {\n",
       "        vertical-align: top;\n",
       "    }\n",
       "\n",
       "    .dataframe thead th {\n",
       "        text-align: right;\n",
       "    }\n",
       "</style>\n",
       "<table border=\"1\" class=\"dataframe\">\n",
       "  <thead>\n",
       "    <tr style=\"text-align: right;\">\n",
       "      <th></th>\n",
       "      <th>DAI_RESERVE_DATA</th>\n",
       "      <th>WETH_RESERVE_DATA</th>\n",
       "      <th>USDC_RESERVE_DATA</th>\n",
       "    </tr>\n",
       "  </thead>\n",
       "  <tbody>\n",
       "    <tr>\n",
       "      <th>unbacked</th>\n",
       "      <td>0</td>\n",
       "      <td>0</td>\n",
       "      <td>0</td>\n",
       "    </tr>\n",
       "    <tr>\n",
       "      <th>accruedToTreasuryScaled</th>\n",
       "      <td>1272631322734850943859</td>\n",
       "      <td>5527230188022745360</td>\n",
       "      <td>5239782724</td>\n",
       "    </tr>\n",
       "    <tr>\n",
       "      <th>totalAToken</th>\n",
       "      <td>168,749,992.9588</td>\n",
       "      <td>2,176,891.2999</td>\n",
       "      <td>2,829,884,560.0594</td>\n",
       "    </tr>\n",
       "    <tr>\n",
       "      <th>totalStableDebt</th>\n",
       "      <td>0</td>\n",
       "      <td>0</td>\n",
       "      <td>0</td>\n",
       "    </tr>\n",
       "    <tr>\n",
       "      <th>totalVariableDebt</th>\n",
       "      <td>126,825,046.7778</td>\n",
       "      <td>1,898,468.1409</td>\n",
       "      <td>1,752,279,879.1822</td>\n",
       "    </tr>\n",
       "    <tr>\n",
       "      <th>liquidityRate</th>\n",
       "      <td>2.9930%</td>\n",
       "      <td>1.9394%</td>\n",
       "      <td>2.4380%</td>\n",
       "    </tr>\n",
       "    <tr>\n",
       "      <th>variableBorrowRate</th>\n",
       "      <td>5.3099%</td>\n",
       "      <td>2.6163%</td>\n",
       "      <td>4.3748%</td>\n",
       "    </tr>\n",
       "    <tr>\n",
       "      <th>stableBorrowRate</th>\n",
       "      <td>0</td>\n",
       "      <td>0</td>\n",
       "      <td>0</td>\n",
       "    </tr>\n",
       "    <tr>\n",
       "      <th>averageStableBorrowRate</th>\n",
       "      <td>0</td>\n",
       "      <td>0</td>\n",
       "      <td>0</td>\n",
       "    </tr>\n",
       "    <tr>\n",
       "      <th>liquidityIndex</th>\n",
       "      <td>1120815513262587206006570762</td>\n",
       "      <td>1041954506011921037712383387</td>\n",
       "      <td>1123973729543179762214097964</td>\n",
       "    </tr>\n",
       "    <tr>\n",
       "      <th>variableBorrowIndex</th>\n",
       "      <td>1177324540684755168805267276</td>\n",
       "      <td>1066351936585885396720670276</td>\n",
       "      <td>1163121737559964028630316565</td>\n",
       "    </tr>\n",
       "    <tr>\n",
       "      <th>lastUpdateTimestamp</th>\n",
       "      <td>2025-03-20 15:40:23</td>\n",
       "      <td>2025-03-20 15:43:23</td>\n",
       "      <td>2025-03-20 15:43:23</td>\n",
       "    </tr>\n",
       "  </tbody>\n",
       "</table>\n",
       "</div>"
      ],
      "text/plain": [
       "                                     DAI_RESERVE_DATA  \\\n",
       "unbacked                                            0   \n",
       "accruedToTreasuryScaled        1272631322734850943859   \n",
       "totalAToken                          168,749,992.9588   \n",
       "totalStableDebt                                     0   \n",
       "totalVariableDebt                    126,825,046.7778   \n",
       "liquidityRate                                 2.9930%   \n",
       "variableBorrowRate                            5.3099%   \n",
       "stableBorrowRate                                    0   \n",
       "averageStableBorrowRate                             0   \n",
       "liquidityIndex           1120815513262587206006570762   \n",
       "variableBorrowIndex      1177324540684755168805267276   \n",
       "lastUpdateTimestamp               2025-03-20 15:40:23   \n",
       "\n",
       "                                    WETH_RESERVE_DATA  \\\n",
       "unbacked                                            0   \n",
       "accruedToTreasuryScaled           5527230188022745360   \n",
       "totalAToken                            2,176,891.2999   \n",
       "totalStableDebt                                     0   \n",
       "totalVariableDebt                      1,898,468.1409   \n",
       "liquidityRate                                 1.9394%   \n",
       "variableBorrowRate                            2.6163%   \n",
       "stableBorrowRate                                    0   \n",
       "averageStableBorrowRate                             0   \n",
       "liquidityIndex           1041954506011921037712383387   \n",
       "variableBorrowIndex      1066351936585885396720670276   \n",
       "lastUpdateTimestamp               2025-03-20 15:43:23   \n",
       "\n",
       "                                    USDC_RESERVE_DATA  \n",
       "unbacked                                            0  \n",
       "accruedToTreasuryScaled                    5239782724  \n",
       "totalAToken                        2,829,884,560.0594  \n",
       "totalStableDebt                                     0  \n",
       "totalVariableDebt                  1,752,279,879.1822  \n",
       "liquidityRate                                 2.4380%  \n",
       "variableBorrowRate                            4.3748%  \n",
       "stableBorrowRate                                    0  \n",
       "averageStableBorrowRate                             0  \n",
       "liquidityIndex           1123973729543179762214097964  \n",
       "variableBorrowIndex      1163121737559964028630316565  \n",
       "lastUpdateTimestamp               2025-03-20 15:43:23  "
      ]
     },
     "execution_count": 60,
     "metadata": {},
     "output_type": "execute_result"
    }
   ],
   "source": [
    "readable_df"
   ]
  },
  {
   "cell_type": "code",
   "execution_count": 61,
   "id": "8964b84e-51ee-4c17-a409-784f7d3827fe",
   "metadata": {},
   "outputs": [
    {
     "data": {
      "text/html": [
       "<div>\n",
       "<style scoped>\n",
       "    .dataframe tbody tr th:only-of-type {\n",
       "        vertical-align: middle;\n",
       "    }\n",
       "\n",
       "    .dataframe tbody tr th {\n",
       "        vertical-align: top;\n",
       "    }\n",
       "\n",
       "    .dataframe thead th {\n",
       "        text-align: right;\n",
       "    }\n",
       "</style>\n",
       "<table border=\"1\" class=\"dataframe\">\n",
       "  <thead>\n",
       "    <tr style=\"text-align: right;\">\n",
       "      <th></th>\n",
       "      <th>DAI_RESERVE_DATA</th>\n",
       "      <th>WETH_RESERVE_DATA</th>\n",
       "      <th>USDC_RESERVE_DATA</th>\n",
       "    </tr>\n",
       "  </thead>\n",
       "  <tbody>\n",
       "    <tr>\n",
       "      <th>unbacked</th>\n",
       "      <td>0</td>\n",
       "      <td>0</td>\n",
       "      <td>0</td>\n",
       "    </tr>\n",
       "    <tr>\n",
       "      <th>accruedToTreasuryScaled</th>\n",
       "      <td>1272631322734850943859</td>\n",
       "      <td>5527230188022745360</td>\n",
       "      <td>5239782724</td>\n",
       "    </tr>\n",
       "    <tr>\n",
       "      <th>totalAToken</th>\n",
       "      <td>168,749,992.9588</td>\n",
       "      <td>2,176,891.2999</td>\n",
       "      <td>2,829,884,560.0594</td>\n",
       "    </tr>\n",
       "    <tr>\n",
       "      <th>totalStableDebt</th>\n",
       "      <td>0</td>\n",
       "      <td>0</td>\n",
       "      <td>0</td>\n",
       "    </tr>\n",
       "    <tr>\n",
       "      <th>totalVariableDebt</th>\n",
       "      <td>126,825,046.7778</td>\n",
       "      <td>1,898,468.1409</td>\n",
       "      <td>1,752,279,879.1822</td>\n",
       "    </tr>\n",
       "    <tr>\n",
       "      <th>liquidityRate</th>\n",
       "      <td>2.9930%</td>\n",
       "      <td>1.9394%</td>\n",
       "      <td>2.4380%</td>\n",
       "    </tr>\n",
       "    <tr>\n",
       "      <th>variableBorrowRate</th>\n",
       "      <td>5.3099%</td>\n",
       "      <td>2.6163%</td>\n",
       "      <td>4.3748%</td>\n",
       "    </tr>\n",
       "    <tr>\n",
       "      <th>stableBorrowRate</th>\n",
       "      <td>0</td>\n",
       "      <td>0</td>\n",
       "      <td>0</td>\n",
       "    </tr>\n",
       "    <tr>\n",
       "      <th>averageStableBorrowRate</th>\n",
       "      <td>0</td>\n",
       "      <td>0</td>\n",
       "      <td>0</td>\n",
       "    </tr>\n",
       "    <tr>\n",
       "      <th>liquidityIndex</th>\n",
       "      <td>1120815513262587206006570762</td>\n",
       "      <td>1041954506011921037712383387</td>\n",
       "      <td>1123973729543179762214097964</td>\n",
       "    </tr>\n",
       "    <tr>\n",
       "      <th>variableBorrowIndex</th>\n",
       "      <td>1177324540684755168805267276</td>\n",
       "      <td>1066351936585885396720670276</td>\n",
       "      <td>1163121737559964028630316565</td>\n",
       "    </tr>\n",
       "    <tr>\n",
       "      <th>lastUpdateTimestamp</th>\n",
       "      <td>2025-03-20 15:40:23</td>\n",
       "      <td>2025-03-20 15:43:23</td>\n",
       "      <td>2025-03-20 15:43:23</td>\n",
       "    </tr>\n",
       "  </tbody>\n",
       "</table>\n",
       "</div>"
      ],
      "text/plain": [
       "                                     DAI_RESERVE_DATA  \\\n",
       "unbacked                                            0   \n",
       "accruedToTreasuryScaled        1272631322734850943859   \n",
       "totalAToken                          168,749,992.9588   \n",
       "totalStableDebt                                     0   \n",
       "totalVariableDebt                    126,825,046.7778   \n",
       "liquidityRate                                 2.9930%   \n",
       "variableBorrowRate                            5.3099%   \n",
       "stableBorrowRate                                    0   \n",
       "averageStableBorrowRate                             0   \n",
       "liquidityIndex           1120815513262587206006570762   \n",
       "variableBorrowIndex      1177324540684755168805267276   \n",
       "lastUpdateTimestamp               2025-03-20 15:40:23   \n",
       "\n",
       "                                    WETH_RESERVE_DATA  \\\n",
       "unbacked                                            0   \n",
       "accruedToTreasuryScaled           5527230188022745360   \n",
       "totalAToken                            2,176,891.2999   \n",
       "totalStableDebt                                     0   \n",
       "totalVariableDebt                      1,898,468.1409   \n",
       "liquidityRate                                 1.9394%   \n",
       "variableBorrowRate                            2.6163%   \n",
       "stableBorrowRate                                    0   \n",
       "averageStableBorrowRate                             0   \n",
       "liquidityIndex           1041954506011921037712383387   \n",
       "variableBorrowIndex      1066351936585885396720670276   \n",
       "lastUpdateTimestamp               2025-03-20 15:43:23   \n",
       "\n",
       "                                    USDC_RESERVE_DATA  \n",
       "unbacked                                            0  \n",
       "accruedToTreasuryScaled                    5239782724  \n",
       "totalAToken                        2,829,884,560.0594  \n",
       "totalStableDebt                                     0  \n",
       "totalVariableDebt                  1,752,279,879.1822  \n",
       "liquidityRate                                 2.4380%  \n",
       "variableBorrowRate                            4.3748%  \n",
       "stableBorrowRate                                    0  \n",
       "averageStableBorrowRate                             0  \n",
       "liquidityIndex           1123973729543179762214097964  \n",
       "variableBorrowIndex      1163121737559964028630316565  \n",
       "lastUpdateTimestamp               2025-03-20 15:43:23  "
      ]
     },
     "execution_count": 61,
     "metadata": {},
     "output_type": "execute_result"
    }
   ],
   "source": [
    "df"
   ]
  },
  {
   "cell_type": "code",
   "execution_count": 62,
   "id": "1fbc4ce5-6173-4674-91cc-b9292ecdb5af",
   "metadata": {},
   "outputs": [],
   "source": [
    "readable_df = df.rename(columns={\n",
    "    'DAI_RESERVE_DATA': 'DAI_POOL',\n",
    "    'WETH_RESERVE_DATA': 'WETH_POOL',\n",
    "    'USDC_RESERVE_DATA': 'USDC_POOL'\n",
    "})"
   ]
  },
  {
   "cell_type": "code",
   "execution_count": 63,
   "id": "293da5d1-a066-48c8-87f2-9a476159c7e7",
   "metadata": {},
   "outputs": [
    {
     "data": {
      "text/html": [
       "<div>\n",
       "<style scoped>\n",
       "    .dataframe tbody tr th:only-of-type {\n",
       "        vertical-align: middle;\n",
       "    }\n",
       "\n",
       "    .dataframe tbody tr th {\n",
       "        vertical-align: top;\n",
       "    }\n",
       "\n",
       "    .dataframe thead th {\n",
       "        text-align: right;\n",
       "    }\n",
       "</style>\n",
       "<table border=\"1\" class=\"dataframe\">\n",
       "  <thead>\n",
       "    <tr style=\"text-align: right;\">\n",
       "      <th></th>\n",
       "      <th>DAI_POOL</th>\n",
       "      <th>WETH_POOL</th>\n",
       "      <th>USDC_POOL</th>\n",
       "    </tr>\n",
       "  </thead>\n",
       "  <tbody>\n",
       "    <tr>\n",
       "      <th>unbacked</th>\n",
       "      <td>0</td>\n",
       "      <td>0</td>\n",
       "      <td>0</td>\n",
       "    </tr>\n",
       "    <tr>\n",
       "      <th>accruedToTreasuryScaled</th>\n",
       "      <td>1272631322734850943859</td>\n",
       "      <td>5527230188022745360</td>\n",
       "      <td>5239782724</td>\n",
       "    </tr>\n",
       "    <tr>\n",
       "      <th>totalAToken</th>\n",
       "      <td>168,749,992.9588</td>\n",
       "      <td>2,176,891.2999</td>\n",
       "      <td>2,829,884,560.0594</td>\n",
       "    </tr>\n",
       "    <tr>\n",
       "      <th>totalStableDebt</th>\n",
       "      <td>0</td>\n",
       "      <td>0</td>\n",
       "      <td>0</td>\n",
       "    </tr>\n",
       "    <tr>\n",
       "      <th>totalVariableDebt</th>\n",
       "      <td>126,825,046.7778</td>\n",
       "      <td>1,898,468.1409</td>\n",
       "      <td>1,752,279,879.1822</td>\n",
       "    </tr>\n",
       "    <tr>\n",
       "      <th>liquidityRate</th>\n",
       "      <td>2.9930%</td>\n",
       "      <td>1.9394%</td>\n",
       "      <td>2.4380%</td>\n",
       "    </tr>\n",
       "    <tr>\n",
       "      <th>variableBorrowRate</th>\n",
       "      <td>5.3099%</td>\n",
       "      <td>2.6163%</td>\n",
       "      <td>4.3748%</td>\n",
       "    </tr>\n",
       "    <tr>\n",
       "      <th>stableBorrowRate</th>\n",
       "      <td>0</td>\n",
       "      <td>0</td>\n",
       "      <td>0</td>\n",
       "    </tr>\n",
       "    <tr>\n",
       "      <th>averageStableBorrowRate</th>\n",
       "      <td>0</td>\n",
       "      <td>0</td>\n",
       "      <td>0</td>\n",
       "    </tr>\n",
       "    <tr>\n",
       "      <th>liquidityIndex</th>\n",
       "      <td>1120815513262587206006570762</td>\n",
       "      <td>1041954506011921037712383387</td>\n",
       "      <td>1123973729543179762214097964</td>\n",
       "    </tr>\n",
       "    <tr>\n",
       "      <th>variableBorrowIndex</th>\n",
       "      <td>1177324540684755168805267276</td>\n",
       "      <td>1066351936585885396720670276</td>\n",
       "      <td>1163121737559964028630316565</td>\n",
       "    </tr>\n",
       "    <tr>\n",
       "      <th>lastUpdateTimestamp</th>\n",
       "      <td>2025-03-20 15:40:23</td>\n",
       "      <td>2025-03-20 15:43:23</td>\n",
       "      <td>2025-03-20 15:43:23</td>\n",
       "    </tr>\n",
       "  </tbody>\n",
       "</table>\n",
       "</div>"
      ],
      "text/plain": [
       "                                             DAI_POOL  \\\n",
       "unbacked                                            0   \n",
       "accruedToTreasuryScaled        1272631322734850943859   \n",
       "totalAToken                          168,749,992.9588   \n",
       "totalStableDebt                                     0   \n",
       "totalVariableDebt                    126,825,046.7778   \n",
       "liquidityRate                                 2.9930%   \n",
       "variableBorrowRate                            5.3099%   \n",
       "stableBorrowRate                                    0   \n",
       "averageStableBorrowRate                             0   \n",
       "liquidityIndex           1120815513262587206006570762   \n",
       "variableBorrowIndex      1177324540684755168805267276   \n",
       "lastUpdateTimestamp               2025-03-20 15:40:23   \n",
       "\n",
       "                                            WETH_POOL  \\\n",
       "unbacked                                            0   \n",
       "accruedToTreasuryScaled           5527230188022745360   \n",
       "totalAToken                            2,176,891.2999   \n",
       "totalStableDebt                                     0   \n",
       "totalVariableDebt                      1,898,468.1409   \n",
       "liquidityRate                                 1.9394%   \n",
       "variableBorrowRate                            2.6163%   \n",
       "stableBorrowRate                                    0   \n",
       "averageStableBorrowRate                             0   \n",
       "liquidityIndex           1041954506011921037712383387   \n",
       "variableBorrowIndex      1066351936585885396720670276   \n",
       "lastUpdateTimestamp               2025-03-20 15:43:23   \n",
       "\n",
       "                                            USDC_POOL  \n",
       "unbacked                                            0  \n",
       "accruedToTreasuryScaled                    5239782724  \n",
       "totalAToken                        2,829,884,560.0594  \n",
       "totalStableDebt                                     0  \n",
       "totalVariableDebt                  1,752,279,879.1822  \n",
       "liquidityRate                                 2.4380%  \n",
       "variableBorrowRate                            4.3748%  \n",
       "stableBorrowRate                                    0  \n",
       "averageStableBorrowRate                             0  \n",
       "liquidityIndex           1123973729543179762214097964  \n",
       "variableBorrowIndex      1163121737559964028630316565  \n",
       "lastUpdateTimestamp               2025-03-20 15:43:23  "
      ]
     },
     "execution_count": 63,
     "metadata": {},
     "output_type": "execute_result"
    }
   ],
   "source": [
    "readable_df"
   ]
  },
  {
   "cell_type": "code",
   "execution_count": 65,
   "id": "aea95c34-60c1-4871-a629-08063841d486",
   "metadata": {},
   "outputs": [
    {
     "data": {
      "text/plain": [
       "'1,752,279,879.1822'"
      ]
     },
     "execution_count": 65,
     "metadata": {},
     "output_type": "execute_result"
    }
   ],
   "source": [
    "readable_df.loc['totalVariableDebt', 'USDC_POOL']"
   ]
  },
  {
   "cell_type": "code",
   "execution_count": 74,
   "id": "4d201059-47fc-4eb7-a882-d331d1c64e50",
   "metadata": {},
   "outputs": [],
   "source": [
    "aave_pools_df = readable_df.copy()"
   ]
  },
  {
   "cell_type": "code",
   "execution_count": 75,
   "id": "2ad294e3-1ba8-4857-96c2-427fd5c4a5b2",
   "metadata": {},
   "outputs": [],
   "source": [
    "aave_pools_df.loc['liquidityRate'] = df.loc['liquidityRate'].apply(\n",
    "    lambda x: float(x.replace('%', '')) if isinstance(x, str) else x\n",
    ")\n",
    "aave_pools_df.loc['variableBorrowRate'] = df.loc['variableBorrowRate'].apply(\n",
    "    lambda x: float(x.replace('%', '')) if isinstance(x, str) else x\n",
    ")"
   ]
  },
  {
   "cell_type": "code",
   "execution_count": 72,
   "id": "222d8ea5-a3a1-49ee-9da2-97423fc54b50",
   "metadata": {},
   "outputs": [],
   "source": [
    "aave_pools_df.loc['variableBorrowRate'] = df.loc['variableBorrowRate'].apply(\n",
    "    lambda x: float(x.replace('%', '')) if isinstance(x, str) else x\n",
    ")"
   ]
  },
  {
   "cell_type": "code",
   "execution_count": 76,
   "id": "f60172cc-e654-4402-99bc-8dc9298a3ed6",
   "metadata": {},
   "outputs": [
    {
     "data": {
      "text/html": [
       "<div>\n",
       "<style scoped>\n",
       "    .dataframe tbody tr th:only-of-type {\n",
       "        vertical-align: middle;\n",
       "    }\n",
       "\n",
       "    .dataframe tbody tr th {\n",
       "        vertical-align: top;\n",
       "    }\n",
       "\n",
       "    .dataframe thead th {\n",
       "        text-align: right;\n",
       "    }\n",
       "</style>\n",
       "<table border=\"1\" class=\"dataframe\">\n",
       "  <thead>\n",
       "    <tr style=\"text-align: right;\">\n",
       "      <th></th>\n",
       "      <th>DAI_POOL</th>\n",
       "      <th>WETH_POOL</th>\n",
       "      <th>USDC_POOL</th>\n",
       "    </tr>\n",
       "  </thead>\n",
       "  <tbody>\n",
       "    <tr>\n",
       "      <th>unbacked</th>\n",
       "      <td>0</td>\n",
       "      <td>0</td>\n",
       "      <td>0</td>\n",
       "    </tr>\n",
       "    <tr>\n",
       "      <th>accruedToTreasuryScaled</th>\n",
       "      <td>1272631322734850943859</td>\n",
       "      <td>5527230188022745360</td>\n",
       "      <td>5239782724</td>\n",
       "    </tr>\n",
       "    <tr>\n",
       "      <th>totalAToken</th>\n",
       "      <td>168,749,992.9588</td>\n",
       "      <td>2,176,891.2999</td>\n",
       "      <td>2,829,884,560.0594</td>\n",
       "    </tr>\n",
       "    <tr>\n",
       "      <th>totalStableDebt</th>\n",
       "      <td>0</td>\n",
       "      <td>0</td>\n",
       "      <td>0</td>\n",
       "    </tr>\n",
       "    <tr>\n",
       "      <th>totalVariableDebt</th>\n",
       "      <td>126,825,046.7778</td>\n",
       "      <td>1,898,468.1409</td>\n",
       "      <td>1,752,279,879.1822</td>\n",
       "    </tr>\n",
       "    <tr>\n",
       "      <th>liquidityRate</th>\n",
       "      <td>NaN</td>\n",
       "      <td>NaN</td>\n",
       "      <td>NaN</td>\n",
       "    </tr>\n",
       "    <tr>\n",
       "      <th>variableBorrowRate</th>\n",
       "      <td>NaN</td>\n",
       "      <td>NaN</td>\n",
       "      <td>NaN</td>\n",
       "    </tr>\n",
       "    <tr>\n",
       "      <th>stableBorrowRate</th>\n",
       "      <td>0</td>\n",
       "      <td>0</td>\n",
       "      <td>0</td>\n",
       "    </tr>\n",
       "    <tr>\n",
       "      <th>averageStableBorrowRate</th>\n",
       "      <td>0</td>\n",
       "      <td>0</td>\n",
       "      <td>0</td>\n",
       "    </tr>\n",
       "    <tr>\n",
       "      <th>liquidityIndex</th>\n",
       "      <td>1120815513262587206006570762</td>\n",
       "      <td>1041954506011921037712383387</td>\n",
       "      <td>1123973729543179762214097964</td>\n",
       "    </tr>\n",
       "    <tr>\n",
       "      <th>variableBorrowIndex</th>\n",
       "      <td>1177324540684755168805267276</td>\n",
       "      <td>1066351936585885396720670276</td>\n",
       "      <td>1163121737559964028630316565</td>\n",
       "    </tr>\n",
       "    <tr>\n",
       "      <th>lastUpdateTimestamp</th>\n",
       "      <td>2025-03-20 15:40:23</td>\n",
       "      <td>2025-03-20 15:43:23</td>\n",
       "      <td>2025-03-20 15:43:23</td>\n",
       "    </tr>\n",
       "  </tbody>\n",
       "</table>\n",
       "</div>"
      ],
      "text/plain": [
       "                                             DAI_POOL  \\\n",
       "unbacked                                            0   \n",
       "accruedToTreasuryScaled        1272631322734850943859   \n",
       "totalAToken                          168,749,992.9588   \n",
       "totalStableDebt                                     0   \n",
       "totalVariableDebt                    126,825,046.7778   \n",
       "liquidityRate                                     NaN   \n",
       "variableBorrowRate                                NaN   \n",
       "stableBorrowRate                                    0   \n",
       "averageStableBorrowRate                             0   \n",
       "liquidityIndex           1120815513262587206006570762   \n",
       "variableBorrowIndex      1177324540684755168805267276   \n",
       "lastUpdateTimestamp               2025-03-20 15:40:23   \n",
       "\n",
       "                                            WETH_POOL  \\\n",
       "unbacked                                            0   \n",
       "accruedToTreasuryScaled           5527230188022745360   \n",
       "totalAToken                            2,176,891.2999   \n",
       "totalStableDebt                                     0   \n",
       "totalVariableDebt                      1,898,468.1409   \n",
       "liquidityRate                                     NaN   \n",
       "variableBorrowRate                                NaN   \n",
       "stableBorrowRate                                    0   \n",
       "averageStableBorrowRate                             0   \n",
       "liquidityIndex           1041954506011921037712383387   \n",
       "variableBorrowIndex      1066351936585885396720670276   \n",
       "lastUpdateTimestamp               2025-03-20 15:43:23   \n",
       "\n",
       "                                            USDC_POOL  \n",
       "unbacked                                            0  \n",
       "accruedToTreasuryScaled                    5239782724  \n",
       "totalAToken                        2,829,884,560.0594  \n",
       "totalStableDebt                                     0  \n",
       "totalVariableDebt                  1,752,279,879.1822  \n",
       "liquidityRate                                     NaN  \n",
       "variableBorrowRate                                NaN  \n",
       "stableBorrowRate                                    0  \n",
       "averageStableBorrowRate                             0  \n",
       "liquidityIndex           1123973729543179762214097964  \n",
       "variableBorrowIndex      1163121737559964028630316565  \n",
       "lastUpdateTimestamp               2025-03-20 15:43:23  "
      ]
     },
     "execution_count": 76,
     "metadata": {},
     "output_type": "execute_result"
    }
   ],
   "source": [
    "aave_pools_df"
   ]
  },
  {
   "cell_type": "code",
   "execution_count": null,
   "id": "fc69df4c-75bd-4b94-8961-229ab6776f95",
   "metadata": {},
   "outputs": [],
   "source": []
  }
 ],
 "metadata": {
  "kernelspec": {
   "display_name": "Python 3 (ipykernel)",
   "language": "python",
   "name": "python3"
  },
  "language_info": {
   "codemirror_mode": {
    "name": "ipython",
    "version": 3
   },
   "file_extension": ".py",
   "mimetype": "text/x-python",
   "name": "python",
   "nbconvert_exporter": "python",
   "pygments_lexer": "ipython3",
   "version": "3.12.8"
  }
 },
 "nbformat": 4,
 "nbformat_minor": 5
}
