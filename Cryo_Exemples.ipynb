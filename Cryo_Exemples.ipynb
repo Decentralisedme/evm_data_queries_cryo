{
 "cells": [
  {
   "cell_type": "code",
   "execution_count": 1,
   "id": "500dbc3b-0801-4d80-87c7-b81ba9a9ded4",
   "metadata": {},
   "outputs": [],
   "source": [
    "import cryo\n",
    "import polars as pl\n",
    "import binascii\n",
    "import web3\n",
    "import json\n",
    "from eth_abi import decode\n",
    "import seaborn as sns\n",
    "import matplotlib.pyplot as plt\n",
    "from datetime import datetime\n",
    "import pandas as pd"
   ]
  },
  {
   "cell_type": "code",
   "execution_count": 2,
   "id": "80d0d77b-6ee0-4396-a043-a5a43a95cdef",
   "metadata": {},
   "outputs": [],
   "source": [
    "# Functions\n",
    "def bytes_to_hexstr(b: any) -> str:\n",
    "    if isinstance(b,list):\n",
    "        return [bytes_to_hexstr(a) for a in b]\n",
    "    return '0x' + b.hex()"
   ]
  },
  {
   "cell_type": "code",
   "execution_count": 3,
   "id": "313651a5-f0d2-4d3f-8d8d-6b837f3745ae",
   "metadata": {},
   "outputs": [],
   "source": [
    "# Function Signatures 4 bytes\n",
    "getBlocknumber_4b = '42cbb15c'"
   ]
  },
  {
   "cell_type": "code",
   "execution_count": 4,
   "id": "bc8c1613-5f1b-4716-b6bd-131c6d061fc5",
   "metadata": {},
   "outputs": [],
   "source": [
    "txs = cryo.collect('transactions', blocks=['latest'], rpc ='https://eth.merkle.io')"
   ]
  },
  {
   "cell_type": "code",
   "execution_count": 5,
   "id": "62322335-1832-4b97-ba42-b449c1f24d76",
   "metadata": {},
   "outputs": [
    {
     "data": {
      "text/html": [
       "<div><style>\n",
       ".dataframe > thead > tr,\n",
       ".dataframe > tbody > tr {\n",
       "  text-align: right;\n",
       "  white-space: pre-wrap;\n",
       "}\n",
       "</style>\n",
       "<small>shape: (5, 21)</small><table border=\"1\" class=\"dataframe\"><thead><tr><th>block_number</th><th>transaction_index</th><th>transaction_hash</th><th>nonce</th><th>from_address</th><th>to_address</th><th>value_binary</th><th>value_string</th><th>value_f64</th><th>input</th><th>gas_limit</th><th>gas_used</th><th>gas_price</th><th>transaction_type</th><th>max_priority_fee_per_gas</th><th>max_fee_per_gas</th><th>success</th><th>n_input_bytes</th><th>n_input_zero_bytes</th><th>n_input_nonzero_bytes</th><th>chain_id</th></tr><tr><td>u32</td><td>u64</td><td>binary</td><td>u64</td><td>binary</td><td>binary</td><td>binary</td><td>str</td><td>f64</td><td>binary</td><td>u64</td><td>u64</td><td>u64</td><td>u32</td><td>u64</td><td>u64</td><td>bool</td><td>u32</td><td>u32</td><td>u32</td><td>u64</td></tr></thead><tbody><tr><td>22018587</td><td>0</td><td>b&quot;\\xea`\\x19\\x982U\\xe0\\xd1\\xc3x]\\xe7\\xdc\\xb1\\x85\\xdb\\x9c7\\xd9\\x1b\\x9e\\xb3d\\x01L\\x01rp\\x0eA\\xee\\xbc&quot;</td><td>886717</td><td>b&quot;\\x93y;\\xd1\\xf3\\xe3Z\\x0e\\xfd\\x09\\x8c0\\xe4\\x86\\xa8`\\xa0\\xefuQ&quot;</td><td>b&quot;h\\xd3\\xa9s\\xe7&#x27;.\\xb3\\x88\\x02*\\e\\x18\\xd9\\xb2\\xa2\\xe6o\\xbf&quot;</td><td>b&quot;\\x00\\x00\\x00\\x00\\x00\\x00\\x00\\x00\\x00\\x00\\x00\\x00\\x00\\x00\\x00\\x00\\x00\\x00\\x00\\x00\\x00\\x00\\x00\\x00\\x00\\x00\\x00\\x00\\x01O\\xfa\\x1b&quot;</td><td>&quot;22018587&quot;</td><td>2.2018587e7</td><td>b&quot;\\xa0\\x00\\x00\\x00\\x00\\x00\\x00\\x00\\x00\\x00\\x00\\x00\\x00\\x00\\x00\\x00Nh\\xcc\\xd3\\xe8\\x9fQ\\xc3\\x07L\\xa5\\x07+\\xba\\xc7s\\x96\\x0d\\xfa6\\x00\\x00\\x00\\x00\\x00\\x00\\x00\\x00\\x00\\x00\\x00\\x00\\x00\\x00\\x00\\x00\\x00\\x00\\x00\\x00\\x00\\x00\\x00\\x00&quot;…</td><td>305818</td><td>152762</td><td>861209480320</td><td>2</td><td>838277245009</td><td>861209480320</td><td>true</td><td>164</td><td>109</td><td>55</td><td>1</td></tr><tr><td>22018587</td><td>1</td><td>b&quot;\\x13\\xcd\\x80g\\x7f\\xf4\\xa3\\xf1\\x83\\x1d\\xcd)\\xda\\x9bI\\x1bqk\\x98}`\\xf0-\\x84\\x8d\\xaf.\\xbe\\x7fv\\xb2J&quot;</td><td>886718</td><td>b&quot;\\x93y;\\xd1\\xf3\\xe3Z\\x0e\\xfd\\x09\\x8c0\\xe4\\x86\\xa8`\\xa0\\xefuQ&quot;</td><td>b&quot;h\\xd3\\xa9s\\xe7&#x27;.\\xb3\\x88\\x02*\\e\\x18\\xd9\\xb2\\xa2\\xe6o\\xbf&quot;</td><td>b&quot;\\x00\\x00\\x00\\x00\\x00\\x00\\x00\\x00\\x00\\x00\\x00\\x00\\x00\\x00\\x00\\x00\\x00\\x00\\x00\\x00\\x00\\x00\\x00\\x00\\x00\\x00\\x00\\x00\\x01O\\xfa\\x1b&quot;</td><td>&quot;22018587&quot;</td><td>2.2018587e7</td><td>b&quot;\\xa0\\x00\\x00\\x00\\x00\\x00\\x00\\x00\\x00\\x00\\x00\\x00\\x00\\x00\\x00\\x00\\x88\\xe6\\xa0\\xc2\\xdd\\xd2o\\xee\\xb6O\\x03\\x9a,A)o\\xcb?V@\\x00\\x00\\x00\\x00\\x00\\x00\\x00\\x00\\x00\\x00\\x00\\x00\\x00\\x00\\x00\\x00\\x00\\x00\\x00\\x00\\x00\\x00\\x00\\x00&quot;…</td><td>367018</td><td>177808</td><td>953554052673</td><td>2</td><td>930621817362</td><td>953554052673</td><td>true</td><td>164</td><td>108</td><td>56</td><td>1</td></tr><tr><td>22018587</td><td>2</td><td>b&quot;\\x97\\x93P:\\x83\\xc9ZD+9\\xbb\\xd6{ic0y4W\\xacX\\x13\\xff\\xd8\\x92\\xfe!\\x87\\xb4\\xb8\\xd1\\xd3&quot;</td><td>886719</td><td>b&quot;\\x93y;\\xd1\\xf3\\xe3Z\\x0e\\xfd\\x09\\x8c0\\xe4\\x86\\xa8`\\xa0\\xefuQ&quot;</td><td>b&quot;h\\xd3\\xa9s\\xe7&#x27;.\\xb3\\x88\\x02*\\e\\x18\\xd9\\xb2\\xa2\\xe6o\\xbf&quot;</td><td>b&quot;\\x00\\x00\\x00\\x00\\x00\\x00\\x00\\x00\\x00\\x00\\x00\\x00\\x00\\x00\\x00\\x00\\x00\\x00\\x00\\x00\\x00\\x00\\x00\\x00\\x00\\x00\\x00\\x00\\x01O\\xfa\\x1b&quot;</td><td>&quot;22018587&quot;</td><td>2.2018587e7</td><td>b&quot;\\x00\\x00\\x00i\\x00\\x00\\x00\\x00\\x00\\x00\\x00\\x00\\x00\\x00\\x00\\x00R\\xc7{\\x0c\\xb8&#x27;\\xaf\\xba\\xd0&quot;\\xe6\\xd6\\xca\\xf2\\xc4DR\\xed\\xbc9\\x00\\x00\\x00\\x00\\x00\\x00\\x00\\x00\\x00\\x00\\x00\\x00\\x00\\x00\\x00\\x00\\x00\\x00\\x00\\x00\\x00\\x00\\x00\\x00&quot;…</td><td>223330</td><td>131181</td><td>119873898486</td><td>2</td><td>96941663175</td><td>119873898486</td><td>true</td><td>164</td><td>109</td><td>55</td><td>1</td></tr><tr><td>22018587</td><td>3</td><td>b&quot;&amp;\\x8f\\xed)C\\x89\\x89$\\xdaS\\x9dz\\xc2\\xe0:\\x88\\xa2\\xb6\\xe6\\xaa\\x93Y\\xfb=\\xbfVF\\xc3M\\xe0Zk&quot;</td><td>886720</td><td>b&quot;\\x93y;\\xd1\\xf3\\xe3Z\\x0e\\xfd\\x09\\x8c0\\xe4\\x86\\xa8`\\xa0\\xefuQ&quot;</td><td>b&quot;h\\xd3\\xa9s\\xe7&#x27;.\\xb3\\x88\\x02*\\e\\x18\\xd9\\xb2\\xa2\\xe6o\\xbf&quot;</td><td>b&quot;\\x00\\x00\\x00\\x00\\x00\\x00\\x00\\x00\\x00\\x00\\x00\\x00\\x00\\x00\\x00\\x00\\x00\\x00\\x00\\x00\\x00\\x00\\x00\\x00\\x00\\x00\\x00\\x00\\x01O\\xfa\\x1b&quot;</td><td>&quot;22018587&quot;</td><td>2.2018587e7</td><td>b&quot;\\x00\\x00\\x00i\\x00\\x00\\x00\\x00\\x00\\x00\\x00\\x00\\x00\\x00\\x00\\x00%d~\\x01\\xbd\\x09g\\xc1\\xb9Y\\x9f\\xa3R\\x199\\x87\\x1d\\x1d\\x08\\x88\\x00\\x00\\x00\\x00\\x00\\x00\\x00\\x00\\x00\\x00\\x00\\x00\\x00\\x00\\x00\\x00\\x00\\x00\\x00\\x00\\x00\\x00\\x00\\x00&quot;…</td><td>160256</td><td>99692</td><td>77351902499</td><td>2</td><td>54419667188</td><td>77351902499</td><td>true</td><td>164</td><td>105</td><td>59</td><td>1</td></tr><tr><td>22018587</td><td>4</td><td>b&quot;a\\xec?DmG\\xfdk3\\xbf}\\x8a\\xf9\\xe5\\xf8\\x05\\xc9sdF\\xab\\xfcb(]\\xb5\\xddN[\\xc2\\xf2\\xd5&quot;</td><td>886721</td><td>b&quot;\\x93y;\\xd1\\xf3\\xe3Z\\x0e\\xfd\\x09\\x8c0\\xe4\\x86\\xa8`\\xa0\\xefuQ&quot;</td><td>b&quot;h\\xd3\\xa9s\\xe7&#x27;.\\xb3\\x88\\x02*\\e\\x18\\xd9\\xb2\\xa2\\xe6o\\xbf&quot;</td><td>b&quot;\\x00\\x00\\x00\\x00\\x00\\x00\\x00\\x00\\x00\\x00\\x00\\x00\\x00\\x00\\x00\\x00\\x00\\x00\\x00\\x00\\x00\\x00\\x00\\x00\\x00\\x00\\x00\\x00\\x01O\\xfa\\x1b&quot;</td><td>&quot;22018587&quot;</td><td>2.2018587e7</td><td>b&quot;\\xa0\\x00\\x00\\x00\\x00\\x00\\x00\\x00\\x00\\x00\\x00\\x00\\x00\\x00\\x00\\x00\\x11\\xb8\\x15\\xef\\xb8\\xf5\\x81\\x19J\\xe7\\x90\\x06\\xd2N\\x0d\\x81Kv\\x97\\xf6\\x00\\x00\\x00\\x00\\x00\\x00\\x00\\x00\\x00\\x00\\x00\\x00\\x00\\x00\\x00\\x00\\x00\\x00\\x00\\x00\\x00\\x00\\x00\\x00&quot;…</td><td>365858</td><td>176589</td><td>161464414207</td><td>2</td><td>138532178896</td><td>161464414207</td><td>true</td><td>164</td><td>109</td><td>55</td><td>1</td></tr></tbody></table></div>"
      ],
      "text/plain": [
       "shape: (5, 21)\n",
       "┌────────────┬────────────┬────────────┬────────┬───┬───────────┬───────────┬───────────┬──────────┐\n",
       "│ block_numb ┆ transactio ┆ transactio ┆ nonce  ┆ … ┆ n_input_b ┆ n_input_z ┆ n_input_n ┆ chain_id │\n",
       "│ er         ┆ n_index    ┆ n_hash     ┆ ---    ┆   ┆ ytes      ┆ ero_bytes ┆ onzero_by ┆ ---      │\n",
       "│ ---        ┆ ---        ┆ ---        ┆ u64    ┆   ┆ ---       ┆ ---       ┆ tes       ┆ u64      │\n",
       "│ u32        ┆ u64        ┆ binary     ┆        ┆   ┆ u32       ┆ u32       ┆ ---       ┆          │\n",
       "│            ┆            ┆            ┆        ┆   ┆           ┆           ┆ u32       ┆          │\n",
       "╞════════════╪════════════╪════════════╪════════╪═══╪═══════════╪═══════════╪═══════════╪══════════╡\n",
       "│ 22018587   ┆ 0          ┆ b\"\\xea`\\x1 ┆ 886717 ┆ … ┆ 164       ┆ 109       ┆ 55        ┆ 1        │\n",
       "│            ┆            ┆ 9\\x982U\\xe ┆        ┆   ┆           ┆           ┆           ┆          │\n",
       "│            ┆            ┆ 0\\xd1\\xc3x ┆        ┆   ┆           ┆           ┆           ┆          │\n",
       "│            ┆            ┆ …          ┆        ┆   ┆           ┆           ┆           ┆          │\n",
       "│ 22018587   ┆ 1          ┆ b\"\\x13\\xcd ┆ 886718 ┆ … ┆ 164       ┆ 108       ┆ 56        ┆ 1        │\n",
       "│            ┆            ┆ \\x80g\\x7f\\ ┆        ┆   ┆           ┆           ┆           ┆          │\n",
       "│            ┆            ┆ xf4\\xa3\\xf ┆        ┆   ┆           ┆           ┆           ┆          │\n",
       "│            ┆            ┆ …          ┆        ┆   ┆           ┆           ┆           ┆          │\n",
       "│ 22018587   ┆ 2          ┆ b\"\\x97\\x93 ┆ 886719 ┆ … ┆ 164       ┆ 109       ┆ 55        ┆ 1        │\n",
       "│            ┆            ┆ P:\\x83\\xc9 ┆        ┆   ┆           ┆           ┆           ┆          │\n",
       "│            ┆            ┆ ZD+9\\xbb\\x ┆        ┆   ┆           ┆           ┆           ┆          │\n",
       "│            ┆            ┆ …          ┆        ┆   ┆           ┆           ┆           ┆          │\n",
       "│ 22018587   ┆ 3          ┆ b\"&\\x8f\\xe ┆ 886720 ┆ … ┆ 164       ┆ 105       ┆ 59        ┆ 1        │\n",
       "│            ┆            ┆ d)C\\x89\\x8 ┆        ┆   ┆           ┆           ┆           ┆          │\n",
       "│            ┆            ┆ 9$\\xdaS\\x9 ┆        ┆   ┆           ┆           ┆           ┆          │\n",
       "│            ┆            ┆ …          ┆        ┆   ┆           ┆           ┆           ┆          │\n",
       "│ 22018587   ┆ 4          ┆ b\"a\\xec?Dm ┆ 886721 ┆ … ┆ 164       ┆ 109       ┆ 55        ┆ 1        │\n",
       "│            ┆            ┆ G\\xfdk3\\xb ┆        ┆   ┆           ┆           ┆           ┆          │\n",
       "│            ┆            ┆ f}\\x8a\\xf9 ┆        ┆   ┆           ┆           ┆           ┆          │\n",
       "│            ┆            ┆ …          ┆        ┆   ┆           ┆           ┆           ┆          │\n",
       "└────────────┴────────────┴────────────┴────────┴───┴───────────┴───────────┴───────────┴──────────┘"
      ]
     },
     "execution_count": 5,
     "metadata": {},
     "output_type": "execute_result"
    }
   ],
   "source": [
    "txs.head()"
   ]
  },
  {
   "cell_type": "markdown",
   "id": "c65b52b3-c922-48f1-8404-e5e6e6ae3a6b",
   "metadata": {},
   "source": [
    "## Balance"
   ]
  },
  {
   "cell_type": "code",
   "execution_count": 6,
   "id": "35c9c5d3-0184-4a6c-baa1-3e9b4c11fa7d",
   "metadata": {},
   "outputs": [],
   "source": [
    "# ERC20s\n",
    "USDT_ADDR =\"0xdac17f958d2ee523a2206206994597c13d831ec7\"\n",
    "USDC_ADDR=\"0xa0b86991c6218b36c1d19d4a2e9eb0ce3606eb48\" \n",
    "# WALLET = Binance 18\n",
    "RANDOM_WALLET=\"0xf70da97812CB96acDF810712Aa562db8dfA3dbEF\" \n",
    "# block \n",
    "BLOCKS=\"21922375\"\n"
   ]
  },
  {
   "cell_type": "code",
   "execution_count": 7,
   "id": "6d60d6ec-1e9e-4cf8-addc-203c1b2b0017",
   "metadata": {},
   "outputs": [],
   "source": [
    "usdc_balance = cryo.collect('erc20_balances', blocks=[BLOCKS], contract=['0xa0b86991c6218b36c1d19d4a2e9eb0ce3606eb48'], address=['0xf70da97812CB96acDF810712Aa562db8dfA3dbEF'], rpc='https://eth.merkle.io')"
   ]
  },
  {
   "cell_type": "code",
   "execution_count": 8,
   "id": "04dd2dd8-7c6c-4de3-ab99-a6763beaf9ce",
   "metadata": {},
   "outputs": [
    {
     "data": {
      "text/html": [
       "<div><style>\n",
       ".dataframe > thead > tr,\n",
       ".dataframe > tbody > tr {\n",
       "  text-align: right;\n",
       "  white-space: pre-wrap;\n",
       "}\n",
       "</style>\n",
       "<small>shape: (1, 7)</small><table border=\"1\" class=\"dataframe\"><thead><tr><th>block_number</th><th>erc20</th><th>address</th><th>balance_binary</th><th>balance_string</th><th>balance_f64</th><th>chain_id</th></tr><tr><td>u32</td><td>binary</td><td>binary</td><td>binary</td><td>str</td><td>f64</td><td>u64</td></tr></thead><tbody><tr><td>21922375</td><td>b&quot;\\xa0\\xb8i\\x91\\xc6!\\x8b6\\xc1\\xd1\\x9dJ.\\x9e\\xb0\\xce6\\x06\\xebH&quot;</td><td>b&quot;\\xf7\\x0d\\xa9x\\x12\\xcb\\x96\\xac\\xdf\\x81\\x07\\x12\\xaaV-\\xb8\\xdf\\xa3\\xdb\\xef&quot;</td><td>b&quot;\\x00\\x00\\x00\\x00\\x00\\x00\\x00\\x00\\x00\\x00\\x00\\x00\\x00\\x00\\x00\\x00\\x00\\x00\\x00\\x00\\x00\\x00\\x00\\x00\\x00\\x00\\x00n\\x1a)\\x8f\\x80&quot;</td><td>&quot;472885333888&quot;</td><td>4.7289e11</td><td>1</td></tr></tbody></table></div>"
      ],
      "text/plain": [
       "shape: (1, 7)\n",
       "┌──────────────┬──────────────┬──────────────┬──────────────┬─────────────┬─────────────┬──────────┐\n",
       "│ block_number ┆ erc20        ┆ address      ┆ balance_bina ┆ balance_str ┆ balance_f64 ┆ chain_id │\n",
       "│ ---          ┆ ---          ┆ ---          ┆ ry           ┆ ing         ┆ ---         ┆ ---      │\n",
       "│ u32          ┆ binary       ┆ binary       ┆ ---          ┆ ---         ┆ f64         ┆ u64      │\n",
       "│              ┆              ┆              ┆ binary       ┆ str         ┆             ┆          │\n",
       "╞══════════════╪══════════════╪══════════════╪══════════════╪═════════════╪═════════════╪══════════╡\n",
       "│ 21922375     ┆ b\"\\xa0\\xb8i\\ ┆ b\"\\xf7\\x0d\\x ┆ b\"\\x00\\x00\\x ┆ 47288533388 ┆ 4.7289e11   ┆ 1        │\n",
       "│              ┆ x91\\xc6!\\x8b ┆ a9x\\x12\\xcb\\ ┆ 00\\x00\\x00\\x ┆ 8           ┆             ┆          │\n",
       "│              ┆ 6\\xc1\\…      ┆ x96\\xa…      ┆ 00\\x00…      ┆             ┆             ┆          │\n",
       "└──────────────┴──────────────┴──────────────┴──────────────┴─────────────┴─────────────┴──────────┘"
      ]
     },
     "execution_count": 8,
     "metadata": {},
     "output_type": "execute_result"
    }
   ],
   "source": [
    "usdc_balance"
   ]
  },
  {
   "cell_type": "code",
   "execution_count": 9,
   "id": "e858e41a-d3ba-4f8f-b388-92af3a6f1844",
   "metadata": {},
   "outputs": [],
   "source": [
    "output_addr=usdc_balance['erc20'][0]"
   ]
  },
  {
   "cell_type": "code",
   "execution_count": 10,
   "id": "501c6e3e-9193-4bf3-95fa-86a9b63db82a",
   "metadata": {},
   "outputs": [
    {
     "data": {
      "text/plain": [
       "'a0b86991c6218b36c1d19d4a2e9eb0ce3606eb48'"
      ]
     },
     "execution_count": 10,
     "metadata": {},
     "output_type": "execute_result"
    }
   ],
   "source": [
    "output_addr.hex()"
   ]
  },
  {
   "cell_type": "code",
   "execution_count": 11,
   "id": "3b93fb52-1a8c-4204-b85f-7f34edac77db",
   "metadata": {},
   "outputs": [
    {
     "data": {
      "text/plain": [
       "'f70da97812cb96acdf810712aa562db8dfa3dbef'"
      ]
     },
     "execution_count": 11,
     "metadata": {},
     "output_type": "execute_result"
    }
   ],
   "source": [
    "usdc_balance['address'][0].hex()"
   ]
  },
  {
   "cell_type": "code",
   "execution_count": 12,
   "id": "f63c87bf-b93b-47b5-8c0b-011346d6dab7",
   "metadata": {},
   "outputs": [
    {
     "data": {
      "text/plain": [
       "b'\\x00\\x00\\x00\\x00\\x00\\x00\\x00\\x00\\x00\\x00\\x00\\x00\\x00\\x00\\x00\\x00\\x00\\x00\\x00\\x00\\x00\\x00\\x00\\x00\\x00\\x00\\x00n\\x1a)\\x8f\\x80'"
      ]
     },
     "execution_count": 12,
     "metadata": {},
     "output_type": "execute_result"
    }
   ],
   "source": [
    "usdc_balance['balance_binary'][0]"
   ]
  },
  {
   "cell_type": "code",
   "execution_count": 13,
   "id": "94359eba-9544-464e-8664-1005a3036d05",
   "metadata": {},
   "outputs": [],
   "source": [
    "balance= usdc_balance['balance_binary'][0]"
   ]
  },
  {
   "cell_type": "code",
   "execution_count": 14,
   "id": "209fd1fe-2c89-4adc-9407-bdf712a9d939",
   "metadata": {},
   "outputs": [
    {
     "data": {
      "text/plain": [
       "472885333888"
      ]
     },
     "execution_count": 14,
     "metadata": {},
     "output_type": "execute_result"
    }
   ],
   "source": [
    "int((balance).hex(),16)"
   ]
  },
  {
   "cell_type": "code",
   "execution_count": 15,
   "id": "28f603db-ed75-4e1e-a312-1cf153eb953c",
   "metadata": {},
   "outputs": [
    {
     "data": {
      "text/plain": [
       "'472885333888'"
      ]
     },
     "execution_count": 15,
     "metadata": {},
     "output_type": "execute_result"
    }
   ],
   "source": [
    "usdc_balance['balance_string'][0]"
   ]
  },
  {
   "cell_type": "code",
   "execution_count": 16,
   "id": "f487558e-2b55-403f-b07b-30df50ec9274",
   "metadata": {},
   "outputs": [],
   "source": [
    "balance_raw = decode(['uint256'], usdc_balance['balance_binary'][0])"
   ]
  },
  {
   "cell_type": "code",
   "execution_count": 17,
   "id": "cc72c6d6-8b18-48d6-ae56-9f10642b347c",
   "metadata": {},
   "outputs": [
    {
     "data": {
      "text/plain": [
       "(472885333888,)"
      ]
     },
     "execution_count": 17,
     "metadata": {},
     "output_type": "execute_result"
    }
   ],
   "source": [
    "balance_raw"
   ]
  },
  {
   "cell_type": "code",
   "execution_count": 18,
   "id": "88719c24-f313-46d6-8a79-c74ea19ad75c",
   "metadata": {},
   "outputs": [
    {
     "data": {
      "text/plain": [
       "472885.333888"
      ]
     },
     "execution_count": 18,
     "metadata": {},
     "output_type": "execute_result"
    }
   ],
   "source": [
    " balance_raw[0] / 10**6"
   ]
  },
  {
   "cell_type": "code",
   "execution_count": 19,
   "id": "32b2ff22-4dfb-412e-af06-993572de0efe",
   "metadata": {},
   "outputs": [],
   "source": [
    "# BLOCKS=\"21922375\" >> usdc 472,885.333888"
   ]
  },
  {
   "cell_type": "markdown",
   "id": "096969bf-58fb-4d7d-8088-f1c601d4e09c",
   "metadata": {},
   "source": [
    "## Aave Pools Data"
   ]
  },
  {
   "cell_type": "code",
   "execution_count": 107,
   "id": "03383f7f-88be-4453-844d-d1444592e85c",
   "metadata": {},
   "outputs": [],
   "source": [
    "#  AAVE\n",
    "# https://etherscan.io/address/0x87870bca3f3fd6335c3f4ce8392d69350b4fa4e2#readProxyContract"
   ]
  },
  {
   "cell_type": "code",
   "execution_count": 60,
   "id": "6615c0fb-d8c3-4f57-a74a-809c2a3f1c8c",
   "metadata": {},
   "outputs": [],
   "source": [
    "MULTICALL3_ADDRESS = '0xcA11bde05977b3631167028862bE2a173976CA11'\n",
    "MULTICALL3_ABI=json.loads('[{\"inputs\":[{\"internalType\":\"bool\",\"name\":\"requireSuccess\",\"type\":\"bool\"},{\"components\":[{\"internalType\":\"address\",\"name\":\"target\",\"type\":\"address\"},{\"internalType\":\"bytes\",\"name\":\"callData\",\"type\":\"bytes\"}],\"internalType\":\"struct Multicall3.Call[]\",\"name\":\"calls\",\"type\":\"tuple[]\"}],\"name\":\"tryAggregate\",\"outputs\":[{\"components\":[{\"internalType\":\"bool\",\"name\":\"success\",\"type\":\"bool\"},{\"internalType\":\"bytes\",\"name\":\"returnData\",\"type\":\"bytes\"}],\"internalType\":\"struct Multicall3.Result[]\",\"name\":\"returnData\",\"type\":\"tuple[]\"}],\"stateMutability\":\"payable\",\"type\":\"function\"}]')"
   ]
  },
  {
   "cell_type": "code",
   "execution_count": 61,
   "id": "fb81327b-d14f-4b93-81ef-5fa4e04858c2",
   "metadata": {},
   "outputs": [],
   "source": [
    "AAVE_POOL_PROVIDER_ADDRESS = \"0x2f39d218133AFaB8F2B819B1066c7E434Ad94E9e\"\n",
    "AAVE_POOL_DATA_PROVIDER_ADDRESS = \"0x7B4EB56E7CD4b454BA8ff71E4518426369a138a3\"\n",
    "RATE_STRATEGY_V2= \"0x9ec6F08190DeA04A54f8Afc53Db96134e5E3FdFB\"\n",
    "DAI_ADDRESS = \"0x6b175474e89094c44da98b954eedeac495271d0f\"  # DAI on Ethereum Mainnet\n",
    "WETH_ADDRESS = '0xC02aaA39b223FE8D0A0e5C4F27eAD9083C756Cc2'  # WETH\n",
    "USDC_ADDRESS = '0xA0b86991c6218b36c1d19D4a2e9Eb0cE3606eB48'   # USDC"
   ]
  },
  {
   "cell_type": "code",
   "execution_count": 62,
   "id": "aa267162-c4c5-467c-bc2e-396d6146b774",
   "metadata": {},
   "outputs": [],
   "source": [
    "AAVE_POOL_DATA_PROVIDER_ABI = json.loads('[{\"inputs\":[{\"internalType\":\"address\",\"name\":\"asset\",\"type\":\"address\"}],\"name\":\"getReserveData\",\"outputs\":[{\"internalType\":\"uint256\",\"name\":\"unbacked\",\"type\":\"uint256\"},{\"internalType\":\"uint256\",\"name\":\"accruedToTreasuryScaled\",\"type\":\"uint256\"},{\"internalType\":\"uint256\",\"name\":\"totalAToken\",\"type\":\"uint256\"},{\"internalType\":\"uint256\",\"name\":\"totalStableDebt\",\"type\":\"uint256\"},{\"internalType\":\"uint256\",\"name\":\"totalVariableDebt\",\"type\":\"uint256\"},{\"internalType\":\"uint256\",\"name\":\"liquidityRate\",\"type\":\"uint256\"},{\"internalType\":\"uint256\",\"name\":\"variableBorrowRate\",\"type\":\"uint256\"},{\"internalType\":\"uint256\",\"name\":\"stableBorrowRate\",\"type\":\"uint256\"},{\"internalType\":\"uint256\",\"name\":\"averageStableBorrowRate\",\"type\":\"uint256\"},{\"internalType\":\"uint256\",\"name\":\"liquidityIndex\",\"type\":\"uint256\"},{\"internalType\":\"uint256\",\"name\":\"variableBorrowIndex\",\"type\":\"uint256\"},{\"internalType\":\"uint40\",\"name\":\"lastUpdateTimestamp\",\"type\":\"uint40\"}],\"stateMutability\":\"view\",\"type\":\"function\"},{\"inputs\":[{\"internalType\":\"address\",\"name\":\"asset\",\"type\":\"address\"}],\"name\":\"getReserveTokensAddresses\",\"outputs\":[{\"internalType\":\"address\",\"name\":\"aTokenAddress\",\"type\":\"address\"},{\"internalType\":\"address\",\"name\":\"stableDebtTokenAddress\",\"type\":\"address\"},{\"internalType\":\"address\",\"name\":\"variableDebtTokenAddress\",\"type\":\"address\"}],\"stateMutability\":\"view\",\"type\":\"function\"},{\"inputs\":[],\"name\":\"getAllReservesTokens\",\"outputs\":[{\"components\":[{\"internalType\":\"string\",\"name\":\"symbol\",\"type\":\"string\"},{\"internalType\":\"address\",\"name\":\"tokenAddress\",\"type\":\"address\"}],\"internalType\":\"struct IPoolDataProvider.TokenData[]\",\"name\":\"\",\"type\":\"tuple[]\"}],\"stateMutability\":\"view\",\"type\":\"function\"}]')\n"
   ]
  },
  {
   "cell_type": "code",
   "execution_count": 63,
   "id": "46b7c887-af26-43eb-9a35-361f87be8f44",
   "metadata": {},
   "outputs": [],
   "source": [
    "# Funct Sig\n",
    "getAllReservesTokens_4b='b316ff89'\n",
    "getReserveData_4b='35ea6a75'\n",
    "getReserveTokensAddresses_4b='d2493b6c'"
   ]
  },
  {
   "cell_type": "code",
   "execution_count": 300,
   "id": "e04b74c1-f890-4d46-8e88-e5bbfcc4a52a",
   "metadata": {},
   "outputs": [],
   "source": [
    "# getReserveData(address) method Response ]\n",
    "#   unbacked   uint256 :  0\n",
    "#   accruedToTreasuryScaled   uint256 :  23618787780361774928\n",
    "#   totalAToken   uint256 :  2039801843604753838311618\n",
    "#   totalStableDebt   uint256 :  0\n",
    "#   totalVariableDebt   uint256 :  1764755511852628454833269\n",
    "#   liquidityRate   uint256 :  19086348066645041248157072\n",
    "#   variableBorrowRate   uint256 :  25954495065727705440586566\n",
    "#   stableBorrowRate   uint256 :  0\n",
    "#   averageStableBorrowRate   uint256 :  0\n",
    "#   liquidityIndex   uint256 :  1040724217363078276332975414\n",
    "#   variableBorrowIndex   uint256 :  1064692592486700566822429320\n",
    "#   lastUpdateTimestamp   uint40 :  1740762059\n",
    "\n",
    "# unbacked, accruedToTreasuryScaled, totalAToken, totalStableDebt, totalVariableDebt, liquidityRate,variableBorrowRate,stableBorrowRate,averageStableBorrowRate,liquidityIndex,variableBorrowIndex,lastUpdateTimestamp\n",
    "\n",
    "# output_types = ['int256', 'uint256', 'uint256', 'uint256', 'uint256', 'uint256', 'uint256', 'uint256', 'uint256', 'uint256', 'uint256', 'uint40']"
   ]
  },
  {
   "cell_type": "code",
   "execution_count": 64,
   "id": "b25d61dd-efd0-462e-90ce-9b0af8a01ce2",
   "metadata": {},
   "outputs": [],
   "source": [
    "# web3 instance, function from web3py\n",
    "w3 = web3.Web3()\n",
    "a3 = w3.eth.contract(address = AAVE_POOL_DATA_PROVIDER_ADDRESS, abi=AAVE_POOL_DATA_PROVIDER_ABI)\n",
    "m3 = w3.eth.contract(address = MULTICALL3_ADDRESS, abi=MULTICALL3_ABI)"
   ]
  },
  {
   "cell_type": "code",
   "execution_count": 65,
   "id": "28f35bda-89cc-403a-8b36-98edaf505953",
   "metadata": {},
   "outputs": [],
   "source": [
    "tokens = [\n",
    "    '0x6B175474E89094C44Da98b954EedeAC495271d0F',  # DAI\n",
    "    '0xC02aaA39b223FE8D0A0e5C4F27eAD9083C756Cc2',  # WETH\n",
    "    '0xA0b86991c6218b36c1d19D4a2e9Eb0cE3606eB48'   # USDC\n",
    "]"
   ]
  },
  {
   "cell_type": "code",
   "execution_count": 66,
   "id": "e7e60ba9-7257-4620-a0cf-2881dc38cdc1",
   "metadata": {},
   "outputs": [],
   "source": [
    "calls = []\n",
    "for token in tokens:\n",
    "    # Encode the call to getReserveData for this token\n",
    "    calldata = a3.encode_abi(\"getReserveData\", args=[token])\n",
    "    calls.append([AAVE_POOL_DATA_PROVIDER_ADDRESS, calldata])"
   ]
  },
  {
   "cell_type": "code",
   "execution_count": 67,
   "id": "3b23ef9d-66dc-45a6-add9-c072cad486c0",
   "metadata": {},
   "outputs": [
    {
     "data": {
      "text/plain": [
       "[['0x7B4EB56E7CD4b454BA8ff71E4518426369a138a3',\n",
       "  '0x35ea6a750000000000000000000000006b175474e89094c44da98b954eedeac495271d0f'],\n",
       " ['0x7B4EB56E7CD4b454BA8ff71E4518426369a138a3',\n",
       "  '0x35ea6a75000000000000000000000000c02aaa39b223fe8d0a0e5c4f27ead9083c756cc2'],\n",
       " ['0x7B4EB56E7CD4b454BA8ff71E4518426369a138a3',\n",
       "  '0x35ea6a75000000000000000000000000a0b86991c6218b36c1d19d4a2e9eb0ce3606eb48']]"
      ]
     },
     "execution_count": 67,
     "metadata": {},
     "output_type": "execute_result"
    }
   ],
   "source": [
    "calls"
   ]
  },
  {
   "cell_type": "code",
   "execution_count": 68,
   "id": "f0ad1451-f2ca-41a2-8db0-458987b74782",
   "metadata": {},
   "outputs": [],
   "source": [
    "# result = m3.functions.tryAggregate(False, calls).call()\n",
    "calldata_aave_pool = m3.encode_abi(\"tryAggregate\", args=[False, calls])"
   ]
  },
  {
   "cell_type": "code",
   "execution_count": 69,
   "id": "6f6b788d-08ea-490a-8c14-ace474d0e13f",
   "metadata": {},
   "outputs": [],
   "source": [
    "cryo_kwargs = {\n",
    "    'rpc': 'https://eth.merkle.io',\n",
    "    'blocks': ['latest'], \n",
    "}\n",
    "            \n",
    "eth_call_df = cryo.collect(\n",
    "    'eth_calls',\n",
    "    to_address = [MULTICALL3_ADDRESS],\n",
    "    call_data=[calldata_aave_pool],\n",
    "     output_format=\"polars\",\n",
    "    **cryo_kwargs,\n",
    ")"
   ]
  },
  {
   "cell_type": "code",
   "execution_count": 70,
   "id": "d490369f-c51d-4f61-8769-68111a1c9f3c",
   "metadata": {},
   "outputs": [],
   "source": [
    "calldata = eth_call_df['output_data'][0]"
   ]
  },
  {
   "cell_type": "code",
   "execution_count": 71,
   "id": "9b874c7a-679e-4e9f-b90f-73d2464ff2b2",
   "metadata": {},
   "outputs": [],
   "source": [
    "decoded_data = decode(['(bool,bytes)[]'] , calldata)[0]"
   ]
  },
  {
   "cell_type": "code",
   "execution_count": 72,
   "id": "be6bd17e-cf33-4919-98f0-60096fd153ae",
   "metadata": {},
   "outputs": [
    {
     "data": {
      "text/plain": [
       "((True,\n",
       "  b'\\x00\\x00\\x00\\x00\\x00\\x00\\x00\\x00\\x00\\x00\\x00\\x00\\x00\\x00\\x00\\x00\\x00\\x00\\x00\\x00\\x00\\x00\\x00\\x00\\x00\\x00\\x00\\x00\\x00\\x00\\x00\\x00\\x00\\x00\\x00\\x00\\x00\\x00\\x00\\x00\\x00\\x00\\x00\\x00\\x00\\x00\\x00\\x00\\x00\\x00\\x00\\x00\\x00\\x00\\x01\\xccD\\xb5v\\x16#\\xa5C\\xe4\\x00\\x00\\x00\\x00\\x00\\x00\\x00\\x00\\x00\\x00\\x00\\x00\\x00\\x00\\x00\\x00\\x00\\x00\\x00\\x00\\x00\\x8cM\\xe6[\\xe9\\x8c^T\\xaav\\xec\\x00\\x00\\x00\\x00\\x00\\x00\\x00\\x00\\x00\\x00\\x00\\x00\\x00\\x00\\x00\\x00\\x00\\x00\\x00\\x00\\x00\\x00\\x00\\x00\\x00\\x00\\x00\\x00\\x00\\x00\\x00\\x00\\x00\\x00\\x00\\x00\\x00\\x00\\x00\\x00\\x00\\x00\\x00\\x00\\x00\\x00\\x00\\x00\\x00\\x00\\x00\\x00\\x00d\\xcaK\\xdf*\\xf4\\xc7\\xc5\\xdd\\xc7g\\x00\\x00\\x00\\x00\\x00\\x00\\x00\\x00\\x00\\x00\\x00\\x00\\x00\\x00\\x00\\x00\\x00\\x00\\x00\\x00\\x00\\x1d\\x93o\\xf2\\xa4\\xe00\\x05[\\xe2)\\x00\\x00\\x00\\x00\\x00\\x00\\x00\\x00\\x00\\x00\\x00\\x00\\x00\\x00\\x00\\x00\\x00\\x00\\x00\\x00\\x006\\xe5\\xd0\\xc2\\x96\\xec^\\xfdE#r\\x00\\x00\\x00\\x00\\x00\\x00\\x00\\x00\\x00\\x00\\x00\\x00\\x00\\x00\\x00\\x00\\x00\\x00\\x00\\x00\\x00\\x00\\x00\\x00\\x00\\x00\\x00\\x00\\x00\\x00\\x00\\x00\\x00\\x00\\x00\\x00\\x00\\x00\\x00\\x00\\x00\\x00\\x00\\x00\\x00\\x00\\x00\\x00\\x00\\x00\\x00\\x00\\x00\\x00\\x00\\x00\\x00\\x00\\x00\\x00\\x00\\x00\\x00\\x00\\x00\\x00\\x00\\x00\\x00\\x00\\x00\\x00\\x00\\x00\\x00\\x00\\x00\\x00\\x00\\x00\\x00\\x00\\x00\\x00\\x03\\x9e>\\xc6\\x9f\\x1e\\x18\\x95\\x95\\x89\\xcb\\xd5\\x00\\x00\\x00\\x00\\x00\\x00\\x00\\x00\\x00\\x00\\x00\\x00\\x00\\x00\\x00\\x00\\x00\\x00\\x00\\x00\\x03\\xcc.\\xefe\\xe2\\xfe\\xb3\\x0f\\xf8&/\\x00\\x00\\x00\\x00\\x00\\x00\\x00\\x00\\x00\\x00\\x00\\x00\\x00\\x00\\x00\\x00\\x00\\x00\\x00\\x00\\x00\\x00\\x00\\x00\\x00\\x00\\x00\\x00g\\xcfM\\x17'),\n",
       " (True,\n",
       "  b'\\x00\\x00\\x00\\x00\\x00\\x00\\x00\\x00\\x00\\x00\\x00\\x00\\x00\\x00\\x00\\x00\\x00\\x00\\x00\\x00\\x00\\x00\\x00\\x00\\x00\\x00\\x00\\x00\\x00\\x00\\x00\\x00\\x00\\x00\\x00\\x00\\x00\\x00\\x00\\x00\\x00\\x00\\x00\\x00\\x00\\x00\\x00\\x00\\x00\\x00\\x00\\x00\\x00\\x00\\x00\\x01\\x9e\\xd9k\\x01l\\xd7\\xc5\"\\x00\\x00\\x00\\x00\\x00\\x00\\x00\\x00\\x00\\x00\\x00\\x00\\x00\\x00\\x00\\x00\\x00\\x00\\x00\\x00\\x00\\x01\\xb4\\x1dkg\\xfa>(\\xae\\x8aX\\x00\\x00\\x00\\x00\\x00\\x00\\x00\\x00\\x00\\x00\\x00\\x00\\x00\\x00\\x00\\x00\\x00\\x00\\x00\\x00\\x00\\x00\\x00\\x00\\x00\\x00\\x00\\x00\\x00\\x00\\x00\\x00\\x00\\x00\\x00\\x00\\x00\\x00\\x00\\x00\\x00\\x00\\x00\\x00\\x00\\x00\\x00\\x00\\x00\\x00\\x00\\x00\\x00\\x01\\x89\\xb9\\x1bQ\\xe2\\x15\\x8eGu\\xef\\x00\\x00\\x00\\x00\\x00\\x00\\x00\\x00\\x00\\x00\\x00\\x00\\x00\\x00\\x00\\x00\\x00\\x00\\x00\\x00\\x00\\x1fE\\'\\xa2\\x1ayn\\xc5\\x8d\\xe5\\x0b\\x00\\x00\\x00\\x00\\x00\\x00\\x00\\x00\\x00\\x00\\x00\\x00\\x00\\x00\\x00\\x00\\x00\\x00\\x00\\x00\\x00(\\xbf\\xff=WC\\x1e\\x82\\xc9\\x8e\\x18\\x00\\x00\\x00\\x00\\x00\\x00\\x00\\x00\\x00\\x00\\x00\\x00\\x00\\x00\\x00\\x00\\x00\\x00\\x00\\x00\\x00\\x00\\x00\\x00\\x00\\x00\\x00\\x00\\x00\\x00\\x00\\x00\\x00\\x00\\x00\\x00\\x00\\x00\\x00\\x00\\x00\\x00\\x00\\x00\\x00\\x00\\x00\\x00\\x00\\x00\\x00\\x00\\x00\\x00\\x00\\x00\\x00\\x00\\x00\\x00\\x00\\x00\\x00\\x00\\x00\\x00\\x00\\x00\\x00\\x00\\x00\\x00\\x00\\x00\\x00\\x00\\x00\\x00\\x00\\x00\\x00\\x00\\x00\\x00\\x03]U\\x9c\\xa7\\x910\\x1a\\r\\'\\xd0\\xe5\\x00\\x00\\x00\\x00\\x00\\x00\\x00\\x00\\x00\\x00\\x00\\x00\\x00\\x00\\x00\\x00\\x00\\x00\\x00\\x00\\x03qT\\xa0\\x95\\x105R\\xad>S\\x1c\\x00\\x00\\x00\\x00\\x00\\x00\\x00\\x00\\x00\\x00\\x00\\x00\\x00\\x00\\x00\\x00\\x00\\x00\\x00\\x00\\x00\\x00\\x00\\x00\\x00\\x00\\x00\\x00g\\xcfNs'),\n",
       " (True,\n",
       "  b'\\x00\\x00\\x00\\x00\\x00\\x00\\x00\\x00\\x00\\x00\\x00\\x00\\x00\\x00\\x00\\x00\\x00\\x00\\x00\\x00\\x00\\x00\\x00\\x00\\x00\\x00\\x00\\x00\\x00\\x00\\x00\\x00\\x00\\x00\\x00\\x00\\x00\\x00\\x00\\x00\\x00\\x00\\x00\\x00\\x00\\x00\\x00\\x00\\x00\\x00\\x00\\x00\\x00\\x00\\x00\\x00\\x00\\x00\\x00\\x08\\xf1\\x9d\\x8a\\xa4\\x00\\x00\\x00\\x00\\x00\\x00\\x00\\x00\\x00\\x00\\x00\\x00\\x00\\x00\\x00\\x00\\x00\\x00\\x00\\x00\\x00\\x00\\x00\\x00\\x00\\nz\\xb3M\\x84(%\\x00\\x00\\x00\\x00\\x00\\x00\\x00\\x00\\x00\\x00\\x00\\x00\\x00\\x00\\x00\\x00\\x00\\x00\\x00\\x00\\x00\\x00\\x00\\x00\\x00\\x00\\x00\\x00\\x00\\x00\\x00\\x00\\x00\\x00\\x00\\x00\\x00\\x00\\x00\\x00\\x00\\x00\\x00\\x00\\x00\\x00\\x00\\x00\\x00\\x00\\x00\\x00\\x00\\x00\\x00\\x00\\x00\\x05\\xe4\\xab8\\xa3\\xef\\xf4\\x00\\x00\\x00\\x00\\x00\\x00\\x00\\x00\\x00\\x00\\x00\\x00\\x00\\x00\\x00\\x00\\x00\\x00\\x00\\x00\\x00\\x15\\xc0\\x9569\\x8a\\x88\\xe4Z:\\xa1\\x00\\x00\\x00\\x00\\x00\\x00\\x00\\x00\\x00\\x00\\x00\\x00\\x00\\x00\\x00\\x00\\x00\\x00\\x00\\x00\\x00*\\xfabJ\\r\\x96Uy\\x10W\\xf1\\x00\\x00\\x00\\x00\\x00\\x00\\x00\\x00\\x00\\x00\\x00\\x00\\x00\\x00\\x00\\x00\\x00\\x00\\x00\\x00\\x00\\x00\\x00\\x00\\x00\\x00\\x00\\x00\\x00\\x00\\x00\\x00\\x00\\x00\\x00\\x00\\x00\\x00\\x00\\x00\\x00\\x00\\x00\\x00\\x00\\x00\\x00\\x00\\x00\\x00\\x00\\x00\\x00\\x00\\x00\\x00\\x00\\x00\\x00\\x00\\x00\\x00\\x00\\x00\\x00\\x00\\x00\\x00\\x00\\x00\\x00\\x00\\x00\\x00\\x00\\x00\\x00\\x00\\x00\\x00\\x00\\x00\\x00\\x00\\x03\\xa1\\x11\\x12\\xee\\xc5#=\\xd6\\x19\\x10{\\x00\\x00\\x00\\x00\\x00\\x00\\x00\\x00\\x00\\x00\\x00\\x00\\x00\\x00\\x00\\x00\\x00\\x00\\x00\\x00\\x03\\xc0\\xcb\\xc7}\\xa7\\xe1\\x00\\xeax9]\\x00\\x00\\x00\\x00\\x00\\x00\\x00\\x00\\x00\\x00\\x00\\x00\\x00\\x00\\x00\\x00\\x00\\x00\\x00\\x00\\x00\\x00\\x00\\x00\\x00\\x00\\x00\\x00g\\xcfNs'))"
      ]
     },
     "execution_count": 72,
     "metadata": {},
     "output_type": "execute_result"
    }
   ],
   "source": [
    "decoded_data"
   ]
  },
  {
   "cell_type": "code",
   "execution_count": 73,
   "id": "18cf95cc-2a35-48c2-8ecb-c45c382148e4",
   "metadata": {},
   "outputs": [],
   "source": [
    "token_data = {\n",
    "    'DAI_RESERVE_DATA': [],\n",
    "    'WETH_RESERVE_DATA': [],\n",
    "    'USDC_RESERVE_DATA': []\n",
    "}"
   ]
  },
  {
   "cell_type": "markdown",
   "id": "4bea1078-628d-468a-b10b-142714f657fd",
   "metadata": {},
   "source": [
    "#### DAI Pools Data"
   ]
  },
  {
   "cell_type": "code",
   "execution_count": 74,
   "id": "14468094-1249-4228-bd12-a1c13812afd4",
   "metadata": {},
   "outputs": [],
   "source": [
    "dai_reserve_data = decoded_data[0]"
   ]
  },
  {
   "cell_type": "code",
   "execution_count": 75,
   "id": "85631b62-394f-4c81-b784-d15595535d0c",
   "metadata": {},
   "outputs": [],
   "source": [
    "data_dai=decode(['int256', 'uint256', 'uint256', 'uint256', 'uint256', 'uint256', 'uint256', 'uint256', 'uint256', 'uint256', 'uint256', 'uint40'],dai_reserve_data[1])"
   ]
  },
  {
   "cell_type": "code",
   "execution_count": 76,
   "id": "37c357ca-cd86-402a-954b-62f44d9e01b2",
   "metadata": {},
   "outputs": [],
   "source": [
    "token_data['DAI_RESERVE_DATA'] = list(data_dai)"
   ]
  },
  {
   "cell_type": "code",
   "execution_count": 77,
   "id": "832522dc-d562-466f-a208-c79338daf9dc",
   "metadata": {},
   "outputs": [
    {
     "data": {
      "text/plain": [
       "{'DAI_RESERVE_DATA': [0,\n",
       "  8490453267109216863204,\n",
       "  169617486339345064137488108,\n",
       "  0,\n",
       "  121847899577742672355247975,\n",
       "  35755101714744415885189673,\n",
       "  66367267128188838359671666,\n",
       "  0,\n",
       "  0,\n",
       "  1119761759606039860342279125,\n",
       "  1175297541637175565664921135,\n",
       "  1741638935],\n",
       " 'WETH_RESERVE_DATA': [],\n",
       " 'USDC_RESERVE_DATA': []}"
      ]
     },
     "execution_count": 77,
     "metadata": {},
     "output_type": "execute_result"
    }
   ],
   "source": [
    "token_data"
   ]
  },
  {
   "cell_type": "code",
   "execution_count": 78,
   "id": "b9ffc9bb-4754-4856-8127-c9a9b0a101a6",
   "metadata": {},
   "outputs": [],
   "source": [
    "# [unbacked, accruedToTreasuryScaled, totalAToken, totalStableDebt, totalVariableDebt, liquidityRate,variableBorrowRate,stableBorrowRate,averageStableBorrowRate,liquidityIndex,variableBorrowIndex,lastUpdateTimestamp\n",
    "# ]=decode(['int256', 'uint256', 'uint256', 'uint256', 'uint256', 'uint256', 'uint256', 'uint256', 'uint256', 'uint256', 'uint256', 'uint40'],dai_reserve_data[1])"
   ]
  },
  {
   "cell_type": "markdown",
   "id": "2d7a5094-4c6a-4e1e-bcc1-4403bb079828",
   "metadata": {},
   "source": [
    "####  WETH Pools Data"
   ]
  },
  {
   "cell_type": "code",
   "execution_count": 79,
   "id": "12311116-ea82-418c-a6d2-2ab201a49a0e",
   "metadata": {},
   "outputs": [],
   "source": [
    "weth_reserve_data = decoded_data[1]"
   ]
  },
  {
   "cell_type": "code",
   "execution_count": 80,
   "id": "aea95842-8ebb-4e4e-a360-709468df42dc",
   "metadata": {},
   "outputs": [],
   "source": [
    "data_weth=decode(['int256', 'uint256', 'uint256', 'uint256', 'uint256', 'uint256', 'uint256', 'uint256', 'uint256', 'uint256', 'uint256', 'uint40'],weth_reserve_data[1])"
   ]
  },
  {
   "cell_type": "code",
   "execution_count": 81,
   "id": "046d7d6a-7ff6-462d-a536-5b65eb0d96b4",
   "metadata": {},
   "outputs": [],
   "source": [
    "token_data['WETH_RESERVE_DATA'] = list(data_weth)"
   ]
  },
  {
   "cell_type": "code",
   "execution_count": 82,
   "id": "654ec92b-fbf1-4221-9c50-17696724afb1",
   "metadata": {},
   "outputs": [],
   "source": [
    "# [unbacked, accruedToTreasuryScaled, totalAToken, totalStableDebt, totalVariableDebt, liquidityRate,variableBorrowRate,stableBorrowRate,averageStableBorrowRate,liquidityIndex,variableBorrowIndex,lastUpdateTimestamp\n",
    "# ]=decode(['int256', 'uint256', 'uint256', 'uint256', 'uint256', 'uint256', 'uint256', 'uint256', 'uint256', 'uint256', 'uint256', 'uint40'],weth_reserve_data[1])"
   ]
  },
  {
   "cell_type": "code",
   "execution_count": 83,
   "id": "7fb75b7d-5896-458b-a148-0138345b2f50",
   "metadata": {},
   "outputs": [
    {
     "data": {
      "text/plain": [
       "{'DAI_RESERVE_DATA': [0,\n",
       "  8490453267109216863204,\n",
       "  169617486339345064137488108,\n",
       "  0,\n",
       "  121847899577742672355247975,\n",
       "  35755101714744415885189673,\n",
       "  66367267128188838359671666,\n",
       "  0,\n",
       "  0,\n",
       "  1119761759606039860342279125,\n",
       "  1175297541637175565664921135,\n",
       "  1741638935],\n",
       " 'WETH_RESERVE_DATA': [0,\n",
       "  29893041655513597218,\n",
       "  2059494481538932427098712,\n",
       "  0,\n",
       "  1859304644024501182887407,\n",
       "  37803274799172484814726411,\n",
       "  49263713122627422769483288,\n",
       "  0,\n",
       "  0,\n",
       "  1041289421605800102360240357,\n",
       "  1065463288085244887131116316,\n",
       "  1741639283],\n",
       " 'USDC_RESERVE_DATA': []}"
      ]
     },
     "execution_count": 83,
     "metadata": {},
     "output_type": "execute_result"
    }
   ],
   "source": [
    "token_data"
   ]
  },
  {
   "cell_type": "markdown",
   "id": "3f86a9af-0066-4cd0-a834-d7b1c9b870f3",
   "metadata": {},
   "source": [
    "####  USDC Pools Data"
   ]
  },
  {
   "cell_type": "code",
   "execution_count": 84,
   "id": "4b417a52-93d9-4252-8d12-78346f4e5f68",
   "metadata": {},
   "outputs": [],
   "source": [
    "usdc_reserve_data = decoded_data[2]"
   ]
  },
  {
   "cell_type": "code",
   "execution_count": 85,
   "id": "9c5a375a-c140-4701-964e-ea18da88cb90",
   "metadata": {},
   "outputs": [],
   "source": [
    "data_usdc=decode(['int256', 'uint256', 'uint256', 'uint256', 'uint256', 'uint256', 'uint256', 'uint256', 'uint256', 'uint256', 'uint256', 'uint40'],usdc_reserve_data[1])"
   ]
  },
  {
   "cell_type": "code",
   "execution_count": 86,
   "id": "ce01c52c-8782-419d-9b31-fdb14a74c7c6",
   "metadata": {},
   "outputs": [],
   "source": [
    "token_data['USDC_RESERVE_DATA'] = list(data_usdc)"
   ]
  },
  {
   "cell_type": "code",
   "execution_count": 87,
   "id": "f51e67ed-5479-406c-acee-e98e4345a3da",
   "metadata": {},
   "outputs": [],
   "source": [
    "# [unbacked, accruedToTreasuryScaled, totalAToken, totalStableDebt, totalVariableDebt, liquidityRate,variableBorrowRate,stableBorrowRate,averageStableBorrowRate,liquidityIndex,variableBorrowIndex,lastUpdateTimestamp\n",
    "# ]=decode(['int256', 'uint256', 'uint256', 'uint256', 'uint256', 'uint256', 'uint256', 'uint256', 'uint256', 'uint256', 'uint256', 'uint40'],usdc_reserve_data[1])"
   ]
  },
  {
   "cell_type": "code",
   "execution_count": 88,
   "id": "99272d56-4454-409e-8347-5cc44c158451",
   "metadata": {},
   "outputs": [
    {
     "data": {
      "text/plain": [
       "{'DAI_RESERVE_DATA': [0,\n",
       "  8490453267109216863204,\n",
       "  169617486339345064137488108,\n",
       "  0,\n",
       "  121847899577742672355247975,\n",
       "  35755101714744415885189673,\n",
       "  66367267128188838359671666,\n",
       "  0,\n",
       "  0,\n",
       "  1119761759606039860342279125,\n",
       "  1175297541637175565664921135,\n",
       "  1741638935],\n",
       " 'WETH_RESERVE_DATA': [0,\n",
       "  29893041655513597218,\n",
       "  2059494481538932427098712,\n",
       "  0,\n",
       "  1859304644024501182887407,\n",
       "  37803274799172484814726411,\n",
       "  49263713122627422769483288,\n",
       "  0,\n",
       "  0,\n",
       "  1041289421605800102360240357,\n",
       "  1065463288085244887131116316,\n",
       "  1741639283],\n",
       " 'USDC_RESERVE_DATA': [0,\n",
       "  38413372068,\n",
       "  2949660285347877,\n",
       "  0,\n",
       "  1658798924361716,\n",
       "  26296889048791639544969889,\n",
       "  51957289161537487528548337,\n",
       "  0,\n",
       "  0,\n",
       "  1123172715898789313973391483,\n",
       "  1161531107182590183798749533,\n",
       "  1741639283]}"
      ]
     },
     "execution_count": 88,
     "metadata": {},
     "output_type": "execute_result"
    }
   ],
   "source": [
    "token_data"
   ]
  },
  {
   "cell_type": "markdown",
   "id": "623a33b4-0309-407e-a8a6-1422590d7751",
   "metadata": {},
   "source": [
    "### Aave Pool Data"
   ]
  },
  {
   "cell_type": "code",
   "execution_count": 89,
   "id": "73237ca1-975e-41f5-888c-ad138ca55582",
   "metadata": {},
   "outputs": [],
   "source": [
    "field_names = [\n",
    "    'unbacked', 'accruedToTreasuryScaled', 'totalAToken', 'totalStableDebt', \n",
    "    'totalVariableDebt', 'liquidityRate', 'variableBorrowRate', 'stableBorrowRate', \n",
    "    'averageStableBorrowRate', 'liquidityIndex', 'variableBorrowIndex', 'lastUpdateTimestamp'\n",
    "]"
   ]
  },
  {
   "cell_type": "code",
   "execution_count": 90,
   "id": "9d1b3da8-7c0c-4b73-8134-7de60823e8de",
   "metadata": {},
   "outputs": [],
   "source": [
    "df = pd.DataFrame(token_data, index=field_names)"
   ]
  },
  {
   "cell_type": "code",
   "execution_count": 91,
   "id": "ff3fecf1-358d-4877-965c-912ab0aee831",
   "metadata": {},
   "outputs": [
    {
     "data": {
      "text/html": [
       "<div>\n",
       "<style scoped>\n",
       "    .dataframe tbody tr th:only-of-type {\n",
       "        vertical-align: middle;\n",
       "    }\n",
       "\n",
       "    .dataframe tbody tr th {\n",
       "        vertical-align: top;\n",
       "    }\n",
       "\n",
       "    .dataframe thead th {\n",
       "        text-align: right;\n",
       "    }\n",
       "</style>\n",
       "<table border=\"1\" class=\"dataframe\">\n",
       "  <thead>\n",
       "    <tr style=\"text-align: right;\">\n",
       "      <th></th>\n",
       "      <th>DAI_RESERVE_DATA</th>\n",
       "      <th>WETH_RESERVE_DATA</th>\n",
       "      <th>USDC_RESERVE_DATA</th>\n",
       "    </tr>\n",
       "  </thead>\n",
       "  <tbody>\n",
       "    <tr>\n",
       "      <th>unbacked</th>\n",
       "      <td>0</td>\n",
       "      <td>0</td>\n",
       "      <td>0</td>\n",
       "    </tr>\n",
       "    <tr>\n",
       "      <th>accruedToTreasuryScaled</th>\n",
       "      <td>8490453267109216863204</td>\n",
       "      <td>29893041655513597218</td>\n",
       "      <td>38413372068</td>\n",
       "    </tr>\n",
       "    <tr>\n",
       "      <th>totalAToken</th>\n",
       "      <td>169617486339345064137488108</td>\n",
       "      <td>2059494481538932427098712</td>\n",
       "      <td>2949660285347877</td>\n",
       "    </tr>\n",
       "    <tr>\n",
       "      <th>totalStableDebt</th>\n",
       "      <td>0</td>\n",
       "      <td>0</td>\n",
       "      <td>0</td>\n",
       "    </tr>\n",
       "    <tr>\n",
       "      <th>totalVariableDebt</th>\n",
       "      <td>121847899577742672355247975</td>\n",
       "      <td>1859304644024501182887407</td>\n",
       "      <td>1658798924361716</td>\n",
       "    </tr>\n",
       "    <tr>\n",
       "      <th>liquidityRate</th>\n",
       "      <td>35755101714744415885189673</td>\n",
       "      <td>37803274799172484814726411</td>\n",
       "      <td>26296889048791639544969889</td>\n",
       "    </tr>\n",
       "    <tr>\n",
       "      <th>variableBorrowRate</th>\n",
       "      <td>66367267128188838359671666</td>\n",
       "      <td>49263713122627422769483288</td>\n",
       "      <td>51957289161537487528548337</td>\n",
       "    </tr>\n",
       "    <tr>\n",
       "      <th>stableBorrowRate</th>\n",
       "      <td>0</td>\n",
       "      <td>0</td>\n",
       "      <td>0</td>\n",
       "    </tr>\n",
       "    <tr>\n",
       "      <th>averageStableBorrowRate</th>\n",
       "      <td>0</td>\n",
       "      <td>0</td>\n",
       "      <td>0</td>\n",
       "    </tr>\n",
       "    <tr>\n",
       "      <th>liquidityIndex</th>\n",
       "      <td>1119761759606039860342279125</td>\n",
       "      <td>1041289421605800102360240357</td>\n",
       "      <td>1123172715898789313973391483</td>\n",
       "    </tr>\n",
       "    <tr>\n",
       "      <th>variableBorrowIndex</th>\n",
       "      <td>1175297541637175565664921135</td>\n",
       "      <td>1065463288085244887131116316</td>\n",
       "      <td>1161531107182590183798749533</td>\n",
       "    </tr>\n",
       "    <tr>\n",
       "      <th>lastUpdateTimestamp</th>\n",
       "      <td>1741638935</td>\n",
       "      <td>1741639283</td>\n",
       "      <td>1741639283</td>\n",
       "    </tr>\n",
       "  </tbody>\n",
       "</table>\n",
       "</div>"
      ],
      "text/plain": [
       "                                     DAI_RESERVE_DATA  \\\n",
       "unbacked                                            0   \n",
       "accruedToTreasuryScaled        8490453267109216863204   \n",
       "totalAToken               169617486339345064137488108   \n",
       "totalStableDebt                                     0   \n",
       "totalVariableDebt         121847899577742672355247975   \n",
       "liquidityRate              35755101714744415885189673   \n",
       "variableBorrowRate         66367267128188838359671666   \n",
       "stableBorrowRate                                    0   \n",
       "averageStableBorrowRate                             0   \n",
       "liquidityIndex           1119761759606039860342279125   \n",
       "variableBorrowIndex      1175297541637175565664921135   \n",
       "lastUpdateTimestamp                        1741638935   \n",
       "\n",
       "                                    WETH_RESERVE_DATA  \\\n",
       "unbacked                                            0   \n",
       "accruedToTreasuryScaled          29893041655513597218   \n",
       "totalAToken                 2059494481538932427098712   \n",
       "totalStableDebt                                     0   \n",
       "totalVariableDebt           1859304644024501182887407   \n",
       "liquidityRate              37803274799172484814726411   \n",
       "variableBorrowRate         49263713122627422769483288   \n",
       "stableBorrowRate                                    0   \n",
       "averageStableBorrowRate                             0   \n",
       "liquidityIndex           1041289421605800102360240357   \n",
       "variableBorrowIndex      1065463288085244887131116316   \n",
       "lastUpdateTimestamp                        1741639283   \n",
       "\n",
       "                                    USDC_RESERVE_DATA  \n",
       "unbacked                                            0  \n",
       "accruedToTreasuryScaled                   38413372068  \n",
       "totalAToken                          2949660285347877  \n",
       "totalStableDebt                                     0  \n",
       "totalVariableDebt                    1658798924361716  \n",
       "liquidityRate              26296889048791639544969889  \n",
       "variableBorrowRate         51957289161537487528548337  \n",
       "stableBorrowRate                                    0  \n",
       "averageStableBorrowRate                             0  \n",
       "liquidityIndex           1123172715898789313973391483  \n",
       "variableBorrowIndex      1161531107182590183798749533  \n",
       "lastUpdateTimestamp                        1741639283  "
      ]
     },
     "execution_count": 91,
     "metadata": {},
     "output_type": "execute_result"
    }
   ],
   "source": [
    "df"
   ]
  },
  {
   "cell_type": "code",
   "execution_count": 92,
   "id": "c133bc7e-1cfe-4924-9b6e-5ae15cd26f06",
   "metadata": {},
   "outputs": [],
   "source": [
    "readable_df = df"
   ]
  },
  {
   "cell_type": "code",
   "execution_count": 93,
   "id": "4a41ce14-955d-463e-877c-8e19b94b47c2",
   "metadata": {},
   "outputs": [],
   "source": [
    "readable_df.loc['lastUpdateTimestamp'] = readable_df.loc['lastUpdateTimestamp'].apply(\n",
    "    lambda x: datetime.fromtimestamp(x).strftime('%Y-%m-%d %H:%M:%S')\n",
    ")"
   ]
  },
  {
   "cell_type": "code",
   "execution_count": 94,
   "id": "30d8b216-8dd0-418f-8b57-593bf7b6d791",
   "metadata": {},
   "outputs": [
    {
     "data": {
      "text/html": [
       "<div>\n",
       "<style scoped>\n",
       "    .dataframe tbody tr th:only-of-type {\n",
       "        vertical-align: middle;\n",
       "    }\n",
       "\n",
       "    .dataframe tbody tr th {\n",
       "        vertical-align: top;\n",
       "    }\n",
       "\n",
       "    .dataframe thead th {\n",
       "        text-align: right;\n",
       "    }\n",
       "</style>\n",
       "<table border=\"1\" class=\"dataframe\">\n",
       "  <thead>\n",
       "    <tr style=\"text-align: right;\">\n",
       "      <th></th>\n",
       "      <th>DAI_RESERVE_DATA</th>\n",
       "      <th>WETH_RESERVE_DATA</th>\n",
       "      <th>USDC_RESERVE_DATA</th>\n",
       "    </tr>\n",
       "  </thead>\n",
       "  <tbody>\n",
       "    <tr>\n",
       "      <th>unbacked</th>\n",
       "      <td>0</td>\n",
       "      <td>0</td>\n",
       "      <td>0</td>\n",
       "    </tr>\n",
       "    <tr>\n",
       "      <th>accruedToTreasuryScaled</th>\n",
       "      <td>8490453267109216863204</td>\n",
       "      <td>29893041655513597218</td>\n",
       "      <td>38413372068</td>\n",
       "    </tr>\n",
       "    <tr>\n",
       "      <th>totalAToken</th>\n",
       "      <td>169617486339345064137488108</td>\n",
       "      <td>2059494481538932427098712</td>\n",
       "      <td>2949660285347877</td>\n",
       "    </tr>\n",
       "    <tr>\n",
       "      <th>totalStableDebt</th>\n",
       "      <td>0</td>\n",
       "      <td>0</td>\n",
       "      <td>0</td>\n",
       "    </tr>\n",
       "    <tr>\n",
       "      <th>totalVariableDebt</th>\n",
       "      <td>121847899577742672355247975</td>\n",
       "      <td>1859304644024501182887407</td>\n",
       "      <td>1658798924361716</td>\n",
       "    </tr>\n",
       "    <tr>\n",
       "      <th>liquidityRate</th>\n",
       "      <td>35755101714744415885189673</td>\n",
       "      <td>37803274799172484814726411</td>\n",
       "      <td>26296889048791639544969889</td>\n",
       "    </tr>\n",
       "    <tr>\n",
       "      <th>variableBorrowRate</th>\n",
       "      <td>66367267128188838359671666</td>\n",
       "      <td>49263713122627422769483288</td>\n",
       "      <td>51957289161537487528548337</td>\n",
       "    </tr>\n",
       "    <tr>\n",
       "      <th>stableBorrowRate</th>\n",
       "      <td>0</td>\n",
       "      <td>0</td>\n",
       "      <td>0</td>\n",
       "    </tr>\n",
       "    <tr>\n",
       "      <th>averageStableBorrowRate</th>\n",
       "      <td>0</td>\n",
       "      <td>0</td>\n",
       "      <td>0</td>\n",
       "    </tr>\n",
       "    <tr>\n",
       "      <th>liquidityIndex</th>\n",
       "      <td>1119761759606039860342279125</td>\n",
       "      <td>1041289421605800102360240357</td>\n",
       "      <td>1123172715898789313973391483</td>\n",
       "    </tr>\n",
       "    <tr>\n",
       "      <th>variableBorrowIndex</th>\n",
       "      <td>1175297541637175565664921135</td>\n",
       "      <td>1065463288085244887131116316</td>\n",
       "      <td>1161531107182590183798749533</td>\n",
       "    </tr>\n",
       "    <tr>\n",
       "      <th>lastUpdateTimestamp</th>\n",
       "      <td>2025-03-10 20:35:35</td>\n",
       "      <td>2025-03-10 20:41:23</td>\n",
       "      <td>2025-03-10 20:41:23</td>\n",
       "    </tr>\n",
       "  </tbody>\n",
       "</table>\n",
       "</div>"
      ],
      "text/plain": [
       "                                     DAI_RESERVE_DATA  \\\n",
       "unbacked                                            0   \n",
       "accruedToTreasuryScaled        8490453267109216863204   \n",
       "totalAToken               169617486339345064137488108   \n",
       "totalStableDebt                                     0   \n",
       "totalVariableDebt         121847899577742672355247975   \n",
       "liquidityRate              35755101714744415885189673   \n",
       "variableBorrowRate         66367267128188838359671666   \n",
       "stableBorrowRate                                    0   \n",
       "averageStableBorrowRate                             0   \n",
       "liquidityIndex           1119761759606039860342279125   \n",
       "variableBorrowIndex      1175297541637175565664921135   \n",
       "lastUpdateTimestamp               2025-03-10 20:35:35   \n",
       "\n",
       "                                    WETH_RESERVE_DATA  \\\n",
       "unbacked                                            0   \n",
       "accruedToTreasuryScaled          29893041655513597218   \n",
       "totalAToken                 2059494481538932427098712   \n",
       "totalStableDebt                                     0   \n",
       "totalVariableDebt           1859304644024501182887407   \n",
       "liquidityRate              37803274799172484814726411   \n",
       "variableBorrowRate         49263713122627422769483288   \n",
       "stableBorrowRate                                    0   \n",
       "averageStableBorrowRate                             0   \n",
       "liquidityIndex           1041289421605800102360240357   \n",
       "variableBorrowIndex      1065463288085244887131116316   \n",
       "lastUpdateTimestamp               2025-03-10 20:41:23   \n",
       "\n",
       "                                    USDC_RESERVE_DATA  \n",
       "unbacked                                            0  \n",
       "accruedToTreasuryScaled                   38413372068  \n",
       "totalAToken                          2949660285347877  \n",
       "totalStableDebt                                     0  \n",
       "totalVariableDebt                    1658798924361716  \n",
       "liquidityRate              26296889048791639544969889  \n",
       "variableBorrowRate         51957289161537487528548337  \n",
       "stableBorrowRate                                    0  \n",
       "averageStableBorrowRate                             0  \n",
       "liquidityIndex           1123172715898789313973391483  \n",
       "variableBorrowIndex      1161531107182590183798749533  \n",
       "lastUpdateTimestamp               2025-03-10 20:41:23  "
      ]
     },
     "execution_count": 94,
     "metadata": {},
     "output_type": "execute_result"
    }
   ],
   "source": [
    "readable_df"
   ]
  },
  {
   "cell_type": "code",
   "execution_count": 95,
   "id": "97c2a23a-6c91-44b9-a8ab-406448bc6be1",
   "metadata": {},
   "outputs": [],
   "source": [
    "readable_df.loc['totalAToken', 'DAI_RESERVE_DATA'] = readable_df.loc['totalAToken', 'DAI_RESERVE_DATA'] / 1e18\n",
    "readable_df.loc['totalAToken', 'WETH_RESERVE_DATA'] = readable_df.loc['totalAToken', 'WETH_RESERVE_DATA'] / 1e18\n",
    "readable_df.loc['totalVariableDebt', 'DAI_RESERVE_DATA'] = readable_df.loc['totalVariableDebt', 'DAI_RESERVE_DATA'] / 1e18\n",
    "readable_df.loc['totalVariableDebt', 'WETH_RESERVE_DATA'] = readable_df.loc['totalVariableDebt', 'WETH_RESERVE_DATA'] / 1e18"
   ]
  },
  {
   "cell_type": "code",
   "execution_count": 96,
   "id": "54bc90f1-691c-40c0-b883-3e0ec21a5fa3",
   "metadata": {},
   "outputs": [],
   "source": [
    "readable_df.loc['totalAToken', 'USDC_RESERVE_DATA'] = readable_df.loc['totalAToken', 'USDC_RESERVE_DATA'] / 1e6\n",
    "readable_df.loc['totalVariableDebt', 'USDC_RESERVE_DATA'] = readable_df.loc['totalVariableDebt', 'USDC_RESERVE_DATA'] / 1e6"
   ]
  },
  {
   "cell_type": "code",
   "execution_count": 97,
   "id": "e428625c-8575-4779-94ec-277364bbe901",
   "metadata": {},
   "outputs": [],
   "source": [
    "readable_df.loc['totalAToken'] = readable_df.loc['totalAToken'].apply(lambda x: f\"{float(x):,.4f}\" if isinstance(x, (int, float, str)) else x)\n",
    "readable_df.loc['totalVariableDebt'] = readable_df.loc['totalVariableDebt'].apply(lambda x: f\"{float(x):,.4f}\" if isinstance(x, (int, float, str)) else x)\n"
   ]
  },
  {
   "cell_type": "code",
   "execution_count": 98,
   "id": "3d5eda96-ff19-4136-b791-3980be8fd0d3",
   "metadata": {},
   "outputs": [],
   "source": [
    "# Convert rates from ray (10^27) to percentage for all tokens\n",
    "readable_df.loc['liquidityRate'] = readable_df.loc['liquidityRate'] / 1e27 * 100\n",
    "readable_df.loc['variableBorrowRate'] = readable_df.loc['variableBorrowRate'] / 1e27 * 100"
   ]
  },
  {
   "cell_type": "code",
   "execution_count": 99,
   "id": "3fa2834d-3029-4dce-ab1b-fe7a4eaab19a",
   "metadata": {},
   "outputs": [],
   "source": [
    "# Format the rate fields with 4 decimal places and add % sign\n",
    "readable_df.loc['liquidityRate'] = readable_df.loc['liquidityRate'].apply(lambda x: f\"{float(x):.4f}%\" if isinstance(x, (int, float, str)) else x)\n",
    "readable_df.loc['variableBorrowRate'] = readable_df.loc['variableBorrowRate'].apply(lambda x: f\"{float(x):.4f}%\" if isinstance(x, (int, float, str)) else x)"
   ]
  },
  {
   "cell_type": "code",
   "execution_count": 402,
   "id": "ea8fe22f-341d-4583-bed3-1af7a430a9d4",
   "metadata": {},
   "outputs": [],
   "source": [
    "# readable_df.loc['totalAToken'] = df.loc['totalAToken'].apply(lambda x: f\"{x:,.4f}\")\n",
    "# readable_df.loc['totalVariableDebt'] = df.loc['totalVariableDebt'].apply(lambda x: f\"{x:,.4f}\")\n",
    "# readable_df.loc['liquidityRate'] = df.loc['liquidityRate'].apply(lambda x: f\"{x:.4f}%\")\n",
    "# readable_df.loc['variableBorrowRate'] = df.loc['variableBorrowRate'].apply(lambda x: f\"{x:.4f}%\")"
   ]
  },
  {
   "cell_type": "code",
   "execution_count": 100,
   "id": "cfa52d1a-6286-4d21-b52e-3f057e92be06",
   "metadata": {},
   "outputs": [
    {
     "data": {
      "text/html": [
       "<div>\n",
       "<style scoped>\n",
       "    .dataframe tbody tr th:only-of-type {\n",
       "        vertical-align: middle;\n",
       "    }\n",
       "\n",
       "    .dataframe tbody tr th {\n",
       "        vertical-align: top;\n",
       "    }\n",
       "\n",
       "    .dataframe thead th {\n",
       "        text-align: right;\n",
       "    }\n",
       "</style>\n",
       "<table border=\"1\" class=\"dataframe\">\n",
       "  <thead>\n",
       "    <tr style=\"text-align: right;\">\n",
       "      <th></th>\n",
       "      <th>DAI_RESERVE_DATA</th>\n",
       "      <th>WETH_RESERVE_DATA</th>\n",
       "      <th>USDC_RESERVE_DATA</th>\n",
       "    </tr>\n",
       "  </thead>\n",
       "  <tbody>\n",
       "    <tr>\n",
       "      <th>unbacked</th>\n",
       "      <td>0</td>\n",
       "      <td>0</td>\n",
       "      <td>0</td>\n",
       "    </tr>\n",
       "    <tr>\n",
       "      <th>accruedToTreasuryScaled</th>\n",
       "      <td>8490453267109216863204</td>\n",
       "      <td>29893041655513597218</td>\n",
       "      <td>38413372068</td>\n",
       "    </tr>\n",
       "    <tr>\n",
       "      <th>totalAToken</th>\n",
       "      <td>169,617,486.3393</td>\n",
       "      <td>2,059,494.4815</td>\n",
       "      <td>2,949,660,285.3479</td>\n",
       "    </tr>\n",
       "    <tr>\n",
       "      <th>totalStableDebt</th>\n",
       "      <td>0</td>\n",
       "      <td>0</td>\n",
       "      <td>0</td>\n",
       "    </tr>\n",
       "    <tr>\n",
       "      <th>totalVariableDebt</th>\n",
       "      <td>121,847,899.5777</td>\n",
       "      <td>1,859,304.6440</td>\n",
       "      <td>1,658,798,924.3617</td>\n",
       "    </tr>\n",
       "    <tr>\n",
       "      <th>liquidityRate</th>\n",
       "      <td>3.5755%</td>\n",
       "      <td>3.7803%</td>\n",
       "      <td>2.6297%</td>\n",
       "    </tr>\n",
       "    <tr>\n",
       "      <th>variableBorrowRate</th>\n",
       "      <td>6.6367%</td>\n",
       "      <td>4.9264%</td>\n",
       "      <td>5.1957%</td>\n",
       "    </tr>\n",
       "    <tr>\n",
       "      <th>stableBorrowRate</th>\n",
       "      <td>0</td>\n",
       "      <td>0</td>\n",
       "      <td>0</td>\n",
       "    </tr>\n",
       "    <tr>\n",
       "      <th>averageStableBorrowRate</th>\n",
       "      <td>0</td>\n",
       "      <td>0</td>\n",
       "      <td>0</td>\n",
       "    </tr>\n",
       "    <tr>\n",
       "      <th>liquidityIndex</th>\n",
       "      <td>1119761759606039860342279125</td>\n",
       "      <td>1041289421605800102360240357</td>\n",
       "      <td>1123172715898789313973391483</td>\n",
       "    </tr>\n",
       "    <tr>\n",
       "      <th>variableBorrowIndex</th>\n",
       "      <td>1175297541637175565664921135</td>\n",
       "      <td>1065463288085244887131116316</td>\n",
       "      <td>1161531107182590183798749533</td>\n",
       "    </tr>\n",
       "    <tr>\n",
       "      <th>lastUpdateTimestamp</th>\n",
       "      <td>2025-03-10 20:35:35</td>\n",
       "      <td>2025-03-10 20:41:23</td>\n",
       "      <td>2025-03-10 20:41:23</td>\n",
       "    </tr>\n",
       "  </tbody>\n",
       "</table>\n",
       "</div>"
      ],
      "text/plain": [
       "                                     DAI_RESERVE_DATA  \\\n",
       "unbacked                                            0   \n",
       "accruedToTreasuryScaled        8490453267109216863204   \n",
       "totalAToken                          169,617,486.3393   \n",
       "totalStableDebt                                     0   \n",
       "totalVariableDebt                    121,847,899.5777   \n",
       "liquidityRate                                 3.5755%   \n",
       "variableBorrowRate                            6.6367%   \n",
       "stableBorrowRate                                    0   \n",
       "averageStableBorrowRate                             0   \n",
       "liquidityIndex           1119761759606039860342279125   \n",
       "variableBorrowIndex      1175297541637175565664921135   \n",
       "lastUpdateTimestamp               2025-03-10 20:35:35   \n",
       "\n",
       "                                    WETH_RESERVE_DATA  \\\n",
       "unbacked                                            0   \n",
       "accruedToTreasuryScaled          29893041655513597218   \n",
       "totalAToken                            2,059,494.4815   \n",
       "totalStableDebt                                     0   \n",
       "totalVariableDebt                      1,859,304.6440   \n",
       "liquidityRate                                 3.7803%   \n",
       "variableBorrowRate                            4.9264%   \n",
       "stableBorrowRate                                    0   \n",
       "averageStableBorrowRate                             0   \n",
       "liquidityIndex           1041289421605800102360240357   \n",
       "variableBorrowIndex      1065463288085244887131116316   \n",
       "lastUpdateTimestamp               2025-03-10 20:41:23   \n",
       "\n",
       "                                    USDC_RESERVE_DATA  \n",
       "unbacked                                            0  \n",
       "accruedToTreasuryScaled                   38413372068  \n",
       "totalAToken                        2,949,660,285.3479  \n",
       "totalStableDebt                                     0  \n",
       "totalVariableDebt                  1,658,798,924.3617  \n",
       "liquidityRate                                 2.6297%  \n",
       "variableBorrowRate                            5.1957%  \n",
       "stableBorrowRate                                    0  \n",
       "averageStableBorrowRate                             0  \n",
       "liquidityIndex           1123172715898789313973391483  \n",
       "variableBorrowIndex      1161531107182590183798749533  \n",
       "lastUpdateTimestamp               2025-03-10 20:41:23  "
      ]
     },
     "execution_count": 100,
     "metadata": {},
     "output_type": "execute_result"
    }
   ],
   "source": [
    "readable_df"
   ]
  },
  {
   "cell_type": "code",
   "execution_count": 59,
   "id": "8964b84e-51ee-4c17-a409-784f7d3827fe",
   "metadata": {},
   "outputs": [
    {
     "data": {
      "text/html": [
       "<div>\n",
       "<style scoped>\n",
       "    .dataframe tbody tr th:only-of-type {\n",
       "        vertical-align: middle;\n",
       "    }\n",
       "\n",
       "    .dataframe tbody tr th {\n",
       "        vertical-align: top;\n",
       "    }\n",
       "\n",
       "    .dataframe thead th {\n",
       "        text-align: right;\n",
       "    }\n",
       "</style>\n",
       "<table border=\"1\" class=\"dataframe\">\n",
       "  <thead>\n",
       "    <tr style=\"text-align: right;\">\n",
       "      <th></th>\n",
       "      <th>DAI_RESERVE_DATA</th>\n",
       "      <th>WETH_RESERVE_DATA</th>\n",
       "      <th>USDC_RESERVE_DATA</th>\n",
       "    </tr>\n",
       "  </thead>\n",
       "  <tbody>\n",
       "    <tr>\n",
       "      <th>unbacked</th>\n",
       "      <td>0</td>\n",
       "      <td>0</td>\n",
       "      <td>0</td>\n",
       "    </tr>\n",
       "    <tr>\n",
       "      <th>accruedToTreasuryScaled</th>\n",
       "      <td>8264682939905964535187</td>\n",
       "      <td>28086699020048129266</td>\n",
       "      <td>37421718113</td>\n",
       "    </tr>\n",
       "    <tr>\n",
       "      <th>totalAToken</th>\n",
       "      <td>169,620,759.4482</td>\n",
       "      <td>2,065,362.9894</td>\n",
       "      <td>2,942,226,109.6963</td>\n",
       "    </tr>\n",
       "    <tr>\n",
       "      <th>totalStableDebt</th>\n",
       "      <td>0</td>\n",
       "      <td>0</td>\n",
       "      <td>0</td>\n",
       "    </tr>\n",
       "    <tr>\n",
       "      <th>totalVariableDebt</th>\n",
       "      <td>121,397,888.8033</td>\n",
       "      <td>1,862,977.4122</td>\n",
       "      <td>1,663,523,858.5996</td>\n",
       "    </tr>\n",
       "    <tr>\n",
       "      <th>liquidityRate</th>\n",
       "      <td>3.7578%</td>\n",
       "      <td>3.2949%</td>\n",
       "      <td>2.8144%</td>\n",
       "    </tr>\n",
       "    <tr>\n",
       "      <th>variableBorrowRate</th>\n",
       "      <td>7.0010%</td>\n",
       "      <td>4.2975%</td>\n",
       "      <td>5.5310%</td>\n",
       "    </tr>\n",
       "    <tr>\n",
       "      <th>stableBorrowRate</th>\n",
       "      <td>0</td>\n",
       "      <td>0</td>\n",
       "      <td>0</td>\n",
       "    </tr>\n",
       "    <tr>\n",
       "      <th>averageStableBorrowRate</th>\n",
       "      <td>0</td>\n",
       "      <td>0</td>\n",
       "      <td>0</td>\n",
       "    </tr>\n",
       "    <tr>\n",
       "      <th>liquidityIndex</th>\n",
       "      <td>1119756753014401535780706695</td>\n",
       "      <td>1041283877456323856619372431</td>\n",
       "      <td>1123168856004783924142674086</td>\n",
       "    </tr>\n",
       "    <tr>\n",
       "      <th>variableBorrowIndex</th>\n",
       "      <td>1175287773479429789449377377</td>\n",
       "      <td>1065456110983137100866101885</td>\n",
       "      <td>1161523314084281511027204658</td>\n",
       "    </tr>\n",
       "    <tr>\n",
       "      <th>lastUpdateTimestamp</th>\n",
       "      <td>2025-03-10 19:32:59</td>\n",
       "      <td>2025-03-10 19:36:47</td>\n",
       "      <td>2025-03-10 19:36:47</td>\n",
       "    </tr>\n",
       "  </tbody>\n",
       "</table>\n",
       "</div>"
      ],
      "text/plain": [
       "                                     DAI_RESERVE_DATA  \\\n",
       "unbacked                                            0   \n",
       "accruedToTreasuryScaled        8264682939905964535187   \n",
       "totalAToken                          169,620,759.4482   \n",
       "totalStableDebt                                     0   \n",
       "totalVariableDebt                    121,397,888.8033   \n",
       "liquidityRate                                 3.7578%   \n",
       "variableBorrowRate                            7.0010%   \n",
       "stableBorrowRate                                    0   \n",
       "averageStableBorrowRate                             0   \n",
       "liquidityIndex           1119756753014401535780706695   \n",
       "variableBorrowIndex      1175287773479429789449377377   \n",
       "lastUpdateTimestamp               2025-03-10 19:32:59   \n",
       "\n",
       "                                    WETH_RESERVE_DATA  \\\n",
       "unbacked                                            0   \n",
       "accruedToTreasuryScaled          28086699020048129266   \n",
       "totalAToken                            2,065,362.9894   \n",
       "totalStableDebt                                     0   \n",
       "totalVariableDebt                      1,862,977.4122   \n",
       "liquidityRate                                 3.2949%   \n",
       "variableBorrowRate                            4.2975%   \n",
       "stableBorrowRate                                    0   \n",
       "averageStableBorrowRate                             0   \n",
       "liquidityIndex           1041283877456323856619372431   \n",
       "variableBorrowIndex      1065456110983137100866101885   \n",
       "lastUpdateTimestamp               2025-03-10 19:36:47   \n",
       "\n",
       "                                    USDC_RESERVE_DATA  \n",
       "unbacked                                            0  \n",
       "accruedToTreasuryScaled                   37421718113  \n",
       "totalAToken                        2,942,226,109.6963  \n",
       "totalStableDebt                                     0  \n",
       "totalVariableDebt                  1,663,523,858.5996  \n",
       "liquidityRate                                 2.8144%  \n",
       "variableBorrowRate                            5.5310%  \n",
       "stableBorrowRate                                    0  \n",
       "averageStableBorrowRate                             0  \n",
       "liquidityIndex           1123168856004783924142674086  \n",
       "variableBorrowIndex      1161523314084281511027204658  \n",
       "lastUpdateTimestamp               2025-03-10 19:36:47  "
      ]
     },
     "execution_count": 59,
     "metadata": {},
     "output_type": "execute_result"
    }
   ],
   "source": [
    "df"
   ]
  },
  {
   "cell_type": "code",
   "execution_count": null,
   "id": "1fbc4ce5-6173-4674-91cc-b9292ecdb5af",
   "metadata": {},
   "outputs": [],
   "source": []
  }
 ],
 "metadata": {
  "kernelspec": {
   "display_name": "Python 3 (ipykernel)",
   "language": "python",
   "name": "python3"
  },
  "language_info": {
   "codemirror_mode": {
    "name": "ipython",
    "version": 3
   },
   "file_extension": ".py",
   "mimetype": "text/x-python",
   "name": "python",
   "nbconvert_exporter": "python",
   "pygments_lexer": "ipython3",
   "version": "3.12.8"
  }
 },
 "nbformat": 4,
 "nbformat_minor": 5
}
