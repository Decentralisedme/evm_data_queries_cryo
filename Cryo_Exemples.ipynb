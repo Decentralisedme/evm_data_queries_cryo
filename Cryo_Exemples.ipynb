{
 "cells": [
  {
   "cell_type": "code",
   "execution_count": 6,
   "id": "500dbc3b-0801-4d80-87c7-b81ba9a9ded4",
   "metadata": {},
   "outputs": [],
   "source": [
    "import cryo\n",
    "import polars as pl\n",
    "import binascii\n",
    "import web3\n",
    "import json\n",
    "from eth_abi import decode\n",
    "import seaborn as sns\n",
    "import matplotlib.pyplot as plt\n",
    "from datetime import datetime\n",
    "import pandas as pd"
   ]
  },
  {
   "cell_type": "code",
   "execution_count": 7,
   "id": "80d0d77b-6ee0-4396-a043-a5a43a95cdef",
   "metadata": {},
   "outputs": [],
   "source": [
    "# Functions\n",
    "def bytes_to_hexstr(b: any) -> str:\n",
    "    if isinstance(b,list):\n",
    "        return [bytes_to_hexstr(a) for a in b]\n",
    "    return '0x' + b.hex()"
   ]
  },
  {
   "cell_type": "code",
   "execution_count": 8,
   "id": "313651a5-f0d2-4d3f-8d8d-6b837f3745ae",
   "metadata": {},
   "outputs": [],
   "source": [
    "# Function Signatures 4 bytes\n",
    "getBlocknumber_4b = '42cbb15c'"
   ]
  },
  {
   "cell_type": "code",
   "execution_count": 9,
   "id": "bc8c1613-5f1b-4716-b6bd-131c6d061fc5",
   "metadata": {},
   "outputs": [],
   "source": [
    "txs = cryo.collect('transactions', blocks=['latest'], rpc ='https://eth.merkle.io')"
   ]
  },
  {
   "cell_type": "code",
   "execution_count": 10,
   "id": "62322335-1832-4b97-ba42-b449c1f24d76",
   "metadata": {},
   "outputs": [
    {
     "data": {
      "text/html": [
       "<div><style>\n",
       ".dataframe > thead > tr,\n",
       ".dataframe > tbody > tr {\n",
       "  text-align: right;\n",
       "  white-space: pre-wrap;\n",
       "}\n",
       "</style>\n",
       "<small>shape: (5, 21)</small><table border=\"1\" class=\"dataframe\"><thead><tr><th>block_number</th><th>transaction_index</th><th>transaction_hash</th><th>nonce</th><th>from_address</th><th>to_address</th><th>value_binary</th><th>value_string</th><th>value_f64</th><th>input</th><th>gas_limit</th><th>gas_used</th><th>gas_price</th><th>transaction_type</th><th>max_priority_fee_per_gas</th><th>max_fee_per_gas</th><th>success</th><th>n_input_bytes</th><th>n_input_zero_bytes</th><th>n_input_nonzero_bytes</th><th>chain_id</th></tr><tr><td>u32</td><td>u64</td><td>binary</td><td>u64</td><td>binary</td><td>binary</td><td>binary</td><td>str</td><td>f64</td><td>binary</td><td>u64</td><td>u64</td><td>u64</td><td>u32</td><td>u64</td><td>u64</td><td>bool</td><td>u32</td><td>u32</td><td>u32</td><td>u64</td></tr></thead><tbody><tr><td>22096963</td><td>0</td><td>b&quot;\\xacsb\\xd0`dq\\xff\\xbc\\x1a!\\xc7e\\xeeM\\x88\\x8b\\xd6\\xf1g\\x1a\\x20\\x07\\x0c\\x87\\xa0\\xd4\\xb42g\\x15\\xa2&quot;</td><td>174</td><td>b&quot;\\xc2\\xe8b\\x83\\x1d\\xbd\\x9c\\x9ey\\x20k\\xde\\xf1\\xc8\\xf3\\xc8\\xad\\x83\\xe4[&quot;</td><td>b&quot;\\x13\\xe4\\xb8\\xcf\\xfepM=\\xe6\\xf1\\x9eR\\xb2\\x01\\xd9,!\\xec\\x18\\xbd&quot;</td><td>b&quot;\\x00\\x00\\x00\\x00\\x00\\x00\\x00\\x00\\x00\\x00\\x00\\x00\\x00\\x00\\x00\\x00\\x00\\x00\\x00\\x00\\x00\\x00\\x00\\x00\\x00\\x00\\x00\\x00\\x00\\x00\\x00\\x00&quot;</td><td>&quot;0&quot;</td><td>0.0</td><td>b&quot;\\xa9\\x05\\x9c\\xbb\\x00\\x00\\x00\\x00\\x00\\x00\\x00\\x00\\x00\\x00\\x00\\x00&lt;\\xc96\\xb7\\x95\\xa1\\x88\\xf0\\xe2F\\xcb\\xb2\\xd7L[\\xd1\\x90\\xae\\xcf\\x18\\x00\\x00\\x00\\x00\\x00\\x00\\x00\\x00\\x00\\x00\\x00\\x00\\x00\\x00\\x00\\x00\\x00\\x00\\x00\\x00\\x00\\x00\\x01\\x19&quot;…</td><td>72972</td><td>43708</td><td>6472354848</td><td>0</td><td>null</td><td>null</td><td>true</td><td>68</td><td>36</td><td>32</td><td>1</td></tr><tr><td>22096963</td><td>1</td><td>b&quot;\\x9f3\\x92\\xcb%:&lt;u\\xe1\\x95\\xb2\\xeaV{t7\\x9aW\\x12\\x95d\\x10|[=\\xe6\\x98W_\\xa5\\xa44&quot;</td><td>0</td><td>b&quot;a\\xc9\\x16G6GK\\x03\\x86\\xea\\x8b\\x15{,\\xe7\\xb1\\xd3{\\x18\\xe1&quot;</td><td>b&quot;\\xc0*\\xaa9\\xb2#\\xfe\\x8d\\x0a\\x0e\\O&#x27;\\xea\\xd9\\x08&lt;ul\\xc2&quot;</td><td>b&quot;\\x00\\x00\\x00\\x00\\x00\\x00\\x00\\x00\\x00\\x00\\x00\\x00\\x00\\x00\\x00\\x00\\x00\\x00\\x00\\x00\\x00\\x00\\x00\\x00\\x00\\x00\\x00\\x00\\x00\\x00\\x00\\x00&quot;</td><td>&quot;0&quot;</td><td>0.0</td><td>b&quot;\\xa9\\x05\\x9c\\xbb\\x00\\x00\\x00\\x00\\x00\\x00\\x00\\x00\\x00\\x00\\x00\\x0027\\x9b6Y\\x96\\x13\\xc2\\x1a\\xf7\\x13\\x93\\xd0\\x0e\\xcaR\\xbc\\xba\\xc2&#x27;\\x00\\x00\\x00\\x00\\x00\\x00\\x00\\x00\\x00\\x00\\x00\\x00\\x00\\x00\\x00\\x00\\x00\\x00\\x00\\x00\\x00\\x00\\x00\\x00&quot;…</td><td>131000</td><td>51606</td><td>10000000000</td><td>0</td><td>null</td><td>null</td><td>true</td><td>68</td><td>37</td><td>31</td><td>1</td></tr><tr><td>22096963</td><td>2</td><td>b&quot;)\\xc9s4f\\x88\\x98W\\x11p\\x88\\xb8=\\x1d\\x87\\x01i\\x9c\\xf8\\xd5\\xbdWZe?\\xfc\\xd4\\xe8\\xf1\\xaf\\xb3t&quot;</td><td>28</td><td>b&quot;&amp;\\x89\\xbe2\\x10\\x90J\\xe3\\xd0VfYOC\\x141\\xc7\\xe1\\x93\\xe3&quot;</td><td>b&quot;\\xfb\\x18&gt;\\xb4R\\xce\\xe2X\\xc7\\xe4)a\\x0c\\xb7\\xd9\\xe2\\xa5\\xfah\\xff&quot;</td><td>b&quot;\\x00\\x00\\x00\\x00\\x00\\x00\\x00\\x00\\x00\\x00\\x00\\x00\\x00\\x00\\x00\\x00\\x00\\x00\\x00\\x00\\x00\\x00\\x00\\x00\\x01#\\x0e\\xdb\\xf2\\xcb\\x1c\\xa8&quot;</td><td>&quot;81925556056825000&quot;</td><td>8.1926e16</td><td>b&quot;&quot;</td><td>21000</td><td>21000</td><td>3406903792</td><td>2</td><td>3000000000</td><td>3534264388</td><td>true</td><td>0</td><td>0</td><td>0</td><td>1</td></tr><tr><td>22096963</td><td>3</td><td>b&quot;\\xd6b\\x19&#x27;\\xb2\\x04J\\x9c*\\xb2MVD\\x89x}\\xf0\\xc1\\x1fb\\xd5y\\xacRF\\xdc\\xa8\\xa3\\x09}V\\xa0&quot;</td><td>0</td><td>b&quot;\\xeb&lt;y\\x0e]\\x1eSj\\x8bx\\xfdW\\x9cps\\xf5t\\x12Z\\x9f&quot;</td><td>b&quot;\\xce\\x9d\\x96\\x89\\xa7\\xf9\\xc7\\x13\\xb22\\x03\\xb1w\\xa3\\xf6\\x9c\\xebK^&amp;&quot;</td><td>b&quot;\\x00\\x00\\x00\\x00\\x00\\x00\\x00\\x00\\x00\\x00\\x00\\x00\\x00\\x00\\x00\\x00\\x00\\x00\\x00\\x00\\x00\\x00\\x00\\x00\\x01\\xbc(k\\xf3Z\\x06n&quot;</td><td>&quot;125019333768906350&quot;</td><td>1.2502e17</td><td>b&quot;&quot;</td><td>21000</td><td>21000</td><td>3406903792</td><td>2</td><td>3000000000</td><td>3534264388</td><td>true</td><td>0</td><td>0</td><td>0</td><td>1</td></tr><tr><td>22096963</td><td>4</td><td>b&quot;\\x99\\xa4\\x10\\xff#\\x09&#x27;f\\xda\\xa9r\\xe9\\x86a\\xa0\\xdc\\x7fZ\\xbf\\xe7\\x0a^U\\xee\\x97|\\x86\\x9a\\x84y4\\xfb&quot;</td><td>0</td><td>b&quot;\\xbaX&gt;u\\x11-\\x16\\xfc\\xb6.\\x9d!\\xc0\\x1aR\\xec.\\x9f&amp;\\xa5&quot;</td><td>b&quot;,\\xc3\\x94\\x1d~z?\\xa5\\xd5]u\\xb2WH\\xe4\\x97\\xe4\\xf8&lt;F&quot;</td><td>b&quot;\\x00\\x00\\x00\\x00\\x00\\x00\\x00\\x00\\x00\\x00\\x00\\x00\\x00\\x00\\x00\\x00\\x00\\x00\\x00\\x00\\x00\\x00\\x00\\x00\\x04\\x0f&quot;J\\xf0L@\\xa8&quot;</td><td>&quot;292490206056825000&quot;</td><td>2.9249e17</td><td>b&quot;&quot;</td><td>21000</td><td>21000</td><td>3406903792</td><td>2</td><td>3000000000</td><td>3534264388</td><td>true</td><td>0</td><td>0</td><td>0</td><td>1</td></tr></tbody></table></div>"
      ],
      "text/plain": [
       "shape: (5, 21)\n",
       "┌────────────┬────────────┬────────────┬───────┬───┬────────────┬───────────┬───────────┬──────────┐\n",
       "│ block_numb ┆ transactio ┆ transactio ┆ nonce ┆ … ┆ n_input_by ┆ n_input_z ┆ n_input_n ┆ chain_id │\n",
       "│ er         ┆ n_index    ┆ n_hash     ┆ ---   ┆   ┆ tes        ┆ ero_bytes ┆ onzero_by ┆ ---      │\n",
       "│ ---        ┆ ---        ┆ ---        ┆ u64   ┆   ┆ ---        ┆ ---       ┆ tes       ┆ u64      │\n",
       "│ u32        ┆ u64        ┆ binary     ┆       ┆   ┆ u32        ┆ u32       ┆ ---       ┆          │\n",
       "│            ┆            ┆            ┆       ┆   ┆            ┆           ┆ u32       ┆          │\n",
       "╞════════════╪════════════╪════════════╪═══════╪═══╪════════════╪═══════════╪═══════════╪══════════╡\n",
       "│ 22096963   ┆ 0          ┆ b\"\\xacsb\\x ┆ 174   ┆ … ┆ 68         ┆ 36        ┆ 32        ┆ 1        │\n",
       "│            ┆            ┆ d0`dq\\xff\\ ┆       ┆   ┆            ┆           ┆           ┆          │\n",
       "│            ┆            ┆ xbc\\x1a!\\x ┆       ┆   ┆            ┆           ┆           ┆          │\n",
       "│            ┆            ┆ …          ┆       ┆   ┆            ┆           ┆           ┆          │\n",
       "│ 22096963   ┆ 1          ┆ b\"\\x9f3\\x9 ┆ 0     ┆ … ┆ 68         ┆ 37        ┆ 31        ┆ 1        │\n",
       "│            ┆            ┆ 2\\xcb%:<u\\ ┆       ┆   ┆            ┆           ┆           ┆          │\n",
       "│            ┆            ┆ xe1\\x95\\xb ┆       ┆   ┆            ┆           ┆           ┆          │\n",
       "│            ┆            ┆ …          ┆       ┆   ┆            ┆           ┆           ┆          │\n",
       "│ 22096963   ┆ 2          ┆ b\")\\xc9s4f ┆ 28    ┆ … ┆ 0          ┆ 0         ┆ 0         ┆ 1        │\n",
       "│            ┆            ┆ \\x88\\x98W\\ ┆       ┆   ┆            ┆           ┆           ┆          │\n",
       "│            ┆            ┆ x11p\\x88\\x ┆       ┆   ┆            ┆           ┆           ┆          │\n",
       "│            ┆            ┆ …          ┆       ┆   ┆            ┆           ┆           ┆          │\n",
       "│ 22096963   ┆ 3          ┆ b\"\\xd6b\\x1 ┆ 0     ┆ … ┆ 0          ┆ 0         ┆ 0         ┆ 1        │\n",
       "│            ┆            ┆ 9'\\xb2\\x04 ┆       ┆   ┆            ┆           ┆           ┆          │\n",
       "│            ┆            ┆ J\\x9c*\\xb2 ┆       ┆   ┆            ┆           ┆           ┆          │\n",
       "│            ┆            ┆ …          ┆       ┆   ┆            ┆           ┆           ┆          │\n",
       "│ 22096963   ┆ 4          ┆ b\"\\x99\\xa4 ┆ 0     ┆ … ┆ 0          ┆ 0         ┆ 0         ┆ 1        │\n",
       "│            ┆            ┆ \\x10\\xff#\\ ┆       ┆   ┆            ┆           ┆           ┆          │\n",
       "│            ┆            ┆ x09'f\\xda\\ ┆       ┆   ┆            ┆           ┆           ┆          │\n",
       "│            ┆            ┆ …          ┆       ┆   ┆            ┆           ┆           ┆          │\n",
       "└────────────┴────────────┴────────────┴───────┴───┴────────────┴───────────┴───────────┴──────────┘"
      ]
     },
     "execution_count": 10,
     "metadata": {},
     "output_type": "execute_result"
    }
   ],
   "source": [
    "txs.head()"
   ]
  },
  {
   "cell_type": "markdown",
   "id": "c65b52b3-c922-48f1-8404-e5e6e6ae3a6b",
   "metadata": {},
   "source": [
    "## Balance"
   ]
  },
  {
   "cell_type": "code",
   "execution_count": 11,
   "id": "35c9c5d3-0184-4a6c-baa1-3e9b4c11fa7d",
   "metadata": {},
   "outputs": [],
   "source": [
    "# ERC20s\n",
    "USDT_ADDR =\"0xdac17f958d2ee523a2206206994597c13d831ec7\"\n",
    "USDC_ADDR=\"0xa0b86991c6218b36c1d19d4a2e9eb0ce3606eb48\" \n",
    "# WALLET = Binance 18\n",
    "RANDOM_WALLET=\"0xf70da97812CB96acDF810712Aa562db8dfA3dbEF\" \n",
    "# block \n",
    "BLOCKS=\"21922375\"\n"
   ]
  },
  {
   "cell_type": "code",
   "execution_count": 12,
   "id": "6d60d6ec-1e9e-4cf8-addc-203c1b2b0017",
   "metadata": {},
   "outputs": [],
   "source": [
    "usdc_balance = cryo.collect('erc20_balances', blocks=[BLOCKS], contract=['0xa0b86991c6218b36c1d19d4a2e9eb0ce3606eb48'], address=['0xf70da97812CB96acDF810712Aa562db8dfA3dbEF'], rpc='https://eth.merkle.io')"
   ]
  },
  {
   "cell_type": "code",
   "execution_count": 13,
   "id": "04dd2dd8-7c6c-4de3-ab99-a6763beaf9ce",
   "metadata": {},
   "outputs": [
    {
     "data": {
      "text/html": [
       "<div><style>\n",
       ".dataframe > thead > tr,\n",
       ".dataframe > tbody > tr {\n",
       "  text-align: right;\n",
       "  white-space: pre-wrap;\n",
       "}\n",
       "</style>\n",
       "<small>shape: (1, 7)</small><table border=\"1\" class=\"dataframe\"><thead><tr><th>block_number</th><th>erc20</th><th>address</th><th>balance_binary</th><th>balance_string</th><th>balance_f64</th><th>chain_id</th></tr><tr><td>u32</td><td>binary</td><td>binary</td><td>binary</td><td>str</td><td>f64</td><td>u64</td></tr></thead><tbody><tr><td>21922375</td><td>b&quot;\\xa0\\xb8i\\x91\\xc6!\\x8b6\\xc1\\xd1\\x9dJ.\\x9e\\xb0\\xce6\\x06\\xebH&quot;</td><td>b&quot;\\xf7\\x0d\\xa9x\\x12\\xcb\\x96\\xac\\xdf\\x81\\x07\\x12\\xaaV-\\xb8\\xdf\\xa3\\xdb\\xef&quot;</td><td>b&quot;\\x00\\x00\\x00\\x00\\x00\\x00\\x00\\x00\\x00\\x00\\x00\\x00\\x00\\x00\\x00\\x00\\x00\\x00\\x00\\x00\\x00\\x00\\x00\\x00\\x00\\x00\\x00n\\x1a)\\x8f\\x80&quot;</td><td>&quot;472885333888&quot;</td><td>4.7289e11</td><td>1</td></tr></tbody></table></div>"
      ],
      "text/plain": [
       "shape: (1, 7)\n",
       "┌──────────────┬──────────────┬──────────────┬──────────────┬─────────────┬─────────────┬──────────┐\n",
       "│ block_number ┆ erc20        ┆ address      ┆ balance_bina ┆ balance_str ┆ balance_f64 ┆ chain_id │\n",
       "│ ---          ┆ ---          ┆ ---          ┆ ry           ┆ ing         ┆ ---         ┆ ---      │\n",
       "│ u32          ┆ binary       ┆ binary       ┆ ---          ┆ ---         ┆ f64         ┆ u64      │\n",
       "│              ┆              ┆              ┆ binary       ┆ str         ┆             ┆          │\n",
       "╞══════════════╪══════════════╪══════════════╪══════════════╪═════════════╪═════════════╪══════════╡\n",
       "│ 21922375     ┆ b\"\\xa0\\xb8i\\ ┆ b\"\\xf7\\x0d\\x ┆ b\"\\x00\\x00\\x ┆ 47288533388 ┆ 4.7289e11   ┆ 1        │\n",
       "│              ┆ x91\\xc6!\\x8b ┆ a9x\\x12\\xcb\\ ┆ 00\\x00\\x00\\x ┆ 8           ┆             ┆          │\n",
       "│              ┆ 6\\xc1\\…      ┆ x96\\xa…      ┆ 00\\x00…      ┆             ┆             ┆          │\n",
       "└──────────────┴──────────────┴──────────────┴──────────────┴─────────────┴─────────────┴──────────┘"
      ]
     },
     "execution_count": 13,
     "metadata": {},
     "output_type": "execute_result"
    }
   ],
   "source": [
    "usdc_balance"
   ]
  },
  {
   "cell_type": "code",
   "execution_count": 14,
   "id": "e858e41a-d3ba-4f8f-b388-92af3a6f1844",
   "metadata": {},
   "outputs": [],
   "source": [
    "output_addr=usdc_balance['erc20'][0]"
   ]
  },
  {
   "cell_type": "code",
   "execution_count": 15,
   "id": "501c6e3e-9193-4bf3-95fa-86a9b63db82a",
   "metadata": {},
   "outputs": [
    {
     "data": {
      "text/plain": [
       "'a0b86991c6218b36c1d19d4a2e9eb0ce3606eb48'"
      ]
     },
     "execution_count": 15,
     "metadata": {},
     "output_type": "execute_result"
    }
   ],
   "source": [
    "output_addr.hex()"
   ]
  },
  {
   "cell_type": "code",
   "execution_count": 16,
   "id": "3b93fb52-1a8c-4204-b85f-7f34edac77db",
   "metadata": {},
   "outputs": [
    {
     "data": {
      "text/plain": [
       "'f70da97812cb96acdf810712aa562db8dfa3dbef'"
      ]
     },
     "execution_count": 16,
     "metadata": {},
     "output_type": "execute_result"
    }
   ],
   "source": [
    "usdc_balance['address'][0].hex()"
   ]
  },
  {
   "cell_type": "code",
   "execution_count": 17,
   "id": "f63c87bf-b93b-47b5-8c0b-011346d6dab7",
   "metadata": {},
   "outputs": [
    {
     "data": {
      "text/plain": [
       "b'\\x00\\x00\\x00\\x00\\x00\\x00\\x00\\x00\\x00\\x00\\x00\\x00\\x00\\x00\\x00\\x00\\x00\\x00\\x00\\x00\\x00\\x00\\x00\\x00\\x00\\x00\\x00n\\x1a)\\x8f\\x80'"
      ]
     },
     "execution_count": 17,
     "metadata": {},
     "output_type": "execute_result"
    }
   ],
   "source": [
    "usdc_balance['balance_binary'][0]"
   ]
  },
  {
   "cell_type": "code",
   "execution_count": 18,
   "id": "94359eba-9544-464e-8664-1005a3036d05",
   "metadata": {},
   "outputs": [],
   "source": [
    "balance= usdc_balance['balance_binary'][0]"
   ]
  },
  {
   "cell_type": "code",
   "execution_count": 19,
   "id": "209fd1fe-2c89-4adc-9407-bdf712a9d939",
   "metadata": {},
   "outputs": [
    {
     "data": {
      "text/plain": [
       "472885333888"
      ]
     },
     "execution_count": 19,
     "metadata": {},
     "output_type": "execute_result"
    }
   ],
   "source": [
    "int((balance).hex(),16)"
   ]
  },
  {
   "cell_type": "code",
   "execution_count": 20,
   "id": "28f603db-ed75-4e1e-a312-1cf153eb953c",
   "metadata": {},
   "outputs": [
    {
     "data": {
      "text/plain": [
       "'472885333888'"
      ]
     },
     "execution_count": 20,
     "metadata": {},
     "output_type": "execute_result"
    }
   ],
   "source": [
    "usdc_balance['balance_string'][0]"
   ]
  },
  {
   "cell_type": "code",
   "execution_count": 21,
   "id": "f487558e-2b55-403f-b07b-30df50ec9274",
   "metadata": {},
   "outputs": [],
   "source": [
    "balance_raw = decode(['uint256'], usdc_balance['balance_binary'][0])"
   ]
  },
  {
   "cell_type": "code",
   "execution_count": 22,
   "id": "cc72c6d6-8b18-48d6-ae56-9f10642b347c",
   "metadata": {},
   "outputs": [
    {
     "data": {
      "text/plain": [
       "(472885333888,)"
      ]
     },
     "execution_count": 22,
     "metadata": {},
     "output_type": "execute_result"
    }
   ],
   "source": [
    "balance_raw"
   ]
  },
  {
   "cell_type": "code",
   "execution_count": 23,
   "id": "88719c24-f313-46d6-8a79-c74ea19ad75c",
   "metadata": {},
   "outputs": [
    {
     "data": {
      "text/plain": [
       "472885.333888"
      ]
     },
     "execution_count": 23,
     "metadata": {},
     "output_type": "execute_result"
    }
   ],
   "source": [
    " balance_raw[0] / 10**6"
   ]
  },
  {
   "cell_type": "code",
   "execution_count": 215,
   "id": "32b2ff22-4dfb-412e-af06-993572de0efe",
   "metadata": {},
   "outputs": [],
   "source": [
    "# BLOCKS=\"21922375\" >> usdc 472,885.333888"
   ]
  },
  {
   "cell_type": "markdown",
   "id": "096969bf-58fb-4d7d-8088-f1c601d4e09c",
   "metadata": {},
   "source": [
    "## Aave Pools Data"
   ]
  },
  {
   "cell_type": "code",
   "execution_count": 216,
   "id": "03383f7f-88be-4453-844d-d1444592e85c",
   "metadata": {},
   "outputs": [],
   "source": [
    "#  AAVE\n",
    "# https://etherscan.io/address/0x87870bca3f3fd6335c3f4ce8392d69350b4fa4e2#readProxyContract"
   ]
  },
  {
   "cell_type": "code",
   "execution_count": 24,
   "id": "6615c0fb-d8c3-4f57-a74a-809c2a3f1c8c",
   "metadata": {},
   "outputs": [],
   "source": [
    "MULTICALL3_ADDRESS = '0xcA11bde05977b3631167028862bE2a173976CA11'\n",
    "MULTICALL3_ABI=json.loads('[{\"inputs\":[{\"internalType\":\"bool\",\"name\":\"requireSuccess\",\"type\":\"bool\"},{\"components\":[{\"internalType\":\"address\",\"name\":\"target\",\"type\":\"address\"},{\"internalType\":\"bytes\",\"name\":\"callData\",\"type\":\"bytes\"}],\"internalType\":\"struct Multicall3.Call[]\",\"name\":\"calls\",\"type\":\"tuple[]\"}],\"name\":\"tryAggregate\",\"outputs\":[{\"components\":[{\"internalType\":\"bool\",\"name\":\"success\",\"type\":\"bool\"},{\"internalType\":\"bytes\",\"name\":\"returnData\",\"type\":\"bytes\"}],\"internalType\":\"struct Multicall3.Result[]\",\"name\":\"returnData\",\"type\":\"tuple[]\"}],\"stateMutability\":\"payable\",\"type\":\"function\"}]')"
   ]
  },
  {
   "cell_type": "code",
   "execution_count": 25,
   "id": "fb81327b-d14f-4b93-81ef-5fa4e04858c2",
   "metadata": {},
   "outputs": [],
   "source": [
    "AAVE_POOL_PROVIDER_ADDRESS = \"0x2f39d218133AFaB8F2B819B1066c7E434Ad94E9e\"\n",
    "AAVE_POOL_DATA_PROVIDER_ADDRESS = \"0x7B4EB56E7CD4b454BA8ff71E4518426369a138a3\"\n",
    "RATE_STRATEGY_V2= \"0x9ec6F08190DeA04A54f8Afc53Db96134e5E3FdFB\"\n",
    "DAI_ADDRESS = \"0x6b175474e89094c44da98b954eedeac495271d0f\"  # DAI on Ethereum Mainnet\n",
    "WETH_ADDRESS = '0xC02aaA39b223FE8D0A0e5C4F27eAD9083C756Cc2'  # WETH\n",
    "USDC_ADDRESS = '0xA0b86991c6218b36c1d19D4a2e9Eb0cE3606eB48'   # USDC"
   ]
  },
  {
   "cell_type": "code",
   "execution_count": 26,
   "id": "aa267162-c4c5-467c-bc2e-396d6146b774",
   "metadata": {},
   "outputs": [],
   "source": [
    "AAVE_POOL_DATA_PROVIDER_ABI = json.loads('[{\"inputs\":[{\"internalType\":\"address\",\"name\":\"asset\",\"type\":\"address\"}],\"name\":\"getReserveData\",\"outputs\":[{\"internalType\":\"uint256\",\"name\":\"unbacked\",\"type\":\"uint256\"},{\"internalType\":\"uint256\",\"name\":\"accruedToTreasuryScaled\",\"type\":\"uint256\"},{\"internalType\":\"uint256\",\"name\":\"totalAToken\",\"type\":\"uint256\"},{\"internalType\":\"uint256\",\"name\":\"totalStableDebt\",\"type\":\"uint256\"},{\"internalType\":\"uint256\",\"name\":\"totalVariableDebt\",\"type\":\"uint256\"},{\"internalType\":\"uint256\",\"name\":\"liquidityRate\",\"type\":\"uint256\"},{\"internalType\":\"uint256\",\"name\":\"variableBorrowRate\",\"type\":\"uint256\"},{\"internalType\":\"uint256\",\"name\":\"stableBorrowRate\",\"type\":\"uint256\"},{\"internalType\":\"uint256\",\"name\":\"averageStableBorrowRate\",\"type\":\"uint256\"},{\"internalType\":\"uint256\",\"name\":\"liquidityIndex\",\"type\":\"uint256\"},{\"internalType\":\"uint256\",\"name\":\"variableBorrowIndex\",\"type\":\"uint256\"},{\"internalType\":\"uint40\",\"name\":\"lastUpdateTimestamp\",\"type\":\"uint40\"}],\"stateMutability\":\"view\",\"type\":\"function\"},{\"inputs\":[{\"internalType\":\"address\",\"name\":\"asset\",\"type\":\"address\"}],\"name\":\"getReserveTokensAddresses\",\"outputs\":[{\"internalType\":\"address\",\"name\":\"aTokenAddress\",\"type\":\"address\"},{\"internalType\":\"address\",\"name\":\"stableDebtTokenAddress\",\"type\":\"address\"},{\"internalType\":\"address\",\"name\":\"variableDebtTokenAddress\",\"type\":\"address\"}],\"stateMutability\":\"view\",\"type\":\"function\"},{\"inputs\":[],\"name\":\"getAllReservesTokens\",\"outputs\":[{\"components\":[{\"internalType\":\"string\",\"name\":\"symbol\",\"type\":\"string\"},{\"internalType\":\"address\",\"name\":\"tokenAddress\",\"type\":\"address\"}],\"internalType\":\"struct IPoolDataProvider.TokenData[]\",\"name\":\"\",\"type\":\"tuple[]\"}],\"stateMutability\":\"view\",\"type\":\"function\"}]')\n"
   ]
  },
  {
   "cell_type": "code",
   "execution_count": 27,
   "id": "46b7c887-af26-43eb-9a35-361f87be8f44",
   "metadata": {},
   "outputs": [],
   "source": [
    "# Funct Sig\n",
    "getAllReservesTokens_4b='b316ff89'\n",
    "getReserveData_4b='35ea6a75'\n",
    "getReserveTokensAddresses_4b='d2493b6c'"
   ]
  },
  {
   "cell_type": "code",
   "execution_count": 28,
   "id": "e04b74c1-f890-4d46-8e88-e5bbfcc4a52a",
   "metadata": {},
   "outputs": [],
   "source": [
    "# getReserveData(address) method Response ]\n",
    "#   unbacked   uint256 :  0\n",
    "#   accruedToTreasuryScaled   uint256 :  23618787780361774928\n",
    "#   totalAToken   uint256 :  2039801843604753838311618\n",
    "#   totalStableDebt   uint256 :  0\n",
    "#   totalVariableDebt   uint256 :  1764755511852628454833269\n",
    "#   liquidityRate   uint256 :  19086348066645041248157072\n",
    "#   variableBorrowRate   uint256 :  25954495065727705440586566\n",
    "#   stableBorrowRate   uint256 :  0\n",
    "#   averageStableBorrowRate   uint256 :  0\n",
    "#   liquidityIndex   uint256 :  1040724217363078276332975414\n",
    "#   variableBorrowIndex   uint256 :  1064692592486700566822429320\n",
    "#   lastUpdateTimestamp   uint40 :  1740762059\n",
    "\n",
    "# unbacked, accruedToTreasuryScaled, totalAToken, totalStableDebt, totalVariableDebt, liquidityRate,variableBorrowRate,stableBorrowRate,averageStableBorrowRate,liquidityIndex,variableBorrowIndex,lastUpdateTimestamp\n",
    "\n",
    "# output_types = ['int256', 'uint256', 'uint256', 'uint256', 'uint256', 'uint256', 'uint256', 'uint256', 'uint256', 'uint256', 'uint256', 'uint40']"
   ]
  },
  {
   "cell_type": "code",
   "execution_count": 29,
   "id": "b25d61dd-efd0-462e-90ce-9b0af8a01ce2",
   "metadata": {},
   "outputs": [],
   "source": [
    "# web3 instance, function from web3py\n",
    "w3 = web3.Web3()\n",
    "a3 = w3.eth.contract(address = AAVE_POOL_DATA_PROVIDER_ADDRESS, abi=AAVE_POOL_DATA_PROVIDER_ABI)\n",
    "m3 = w3.eth.contract(address = MULTICALL3_ADDRESS, abi=MULTICALL3_ABI)"
   ]
  },
  {
   "cell_type": "code",
   "execution_count": 30,
   "id": "28f35bda-89cc-403a-8b36-98edaf505953",
   "metadata": {},
   "outputs": [],
   "source": [
    "tokens = [\n",
    "    '0x6B175474E89094C44Da98b954EedeAC495271d0F',  # DAI\n",
    "    '0xC02aaA39b223FE8D0A0e5C4F27eAD9083C756Cc2',  # WETH\n",
    "    '0xA0b86991c6218b36c1d19D4a2e9Eb0cE3606eB48'   # USDC\n",
    "]"
   ]
  },
  {
   "cell_type": "code",
   "execution_count": 31,
   "id": "e7e60ba9-7257-4620-a0cf-2881dc38cdc1",
   "metadata": {},
   "outputs": [],
   "source": [
    "calls = []\n",
    "for token in tokens:\n",
    "    # Encode the call to getReserveData for this token\n",
    "    calldata = a3.encode_abi(\"getReserveData\", args=[token])\n",
    "    calls.append([AAVE_POOL_DATA_PROVIDER_ADDRESS, calldata])"
   ]
  },
  {
   "cell_type": "code",
   "execution_count": 32,
   "id": "3b23ef9d-66dc-45a6-add9-c072cad486c0",
   "metadata": {},
   "outputs": [
    {
     "data": {
      "text/plain": [
       "[['0x7B4EB56E7CD4b454BA8ff71E4518426369a138a3',\n",
       "  '0x35ea6a750000000000000000000000006b175474e89094c44da98b954eedeac495271d0f'],\n",
       " ['0x7B4EB56E7CD4b454BA8ff71E4518426369a138a3',\n",
       "  '0x35ea6a75000000000000000000000000c02aaa39b223fe8d0a0e5c4f27ead9083c756cc2'],\n",
       " ['0x7B4EB56E7CD4b454BA8ff71E4518426369a138a3',\n",
       "  '0x35ea6a75000000000000000000000000a0b86991c6218b36c1d19d4a2e9eb0ce3606eb48']]"
      ]
     },
     "execution_count": 32,
     "metadata": {},
     "output_type": "execute_result"
    }
   ],
   "source": [
    "calls"
   ]
  },
  {
   "cell_type": "code",
   "execution_count": 33,
   "id": "f0ad1451-f2ca-41a2-8db0-458987b74782",
   "metadata": {},
   "outputs": [],
   "source": [
    "# result = m3.functions.tryAggregate(False, calls).call()\n",
    "calldata_aave_pool = m3.encode_abi(\"tryAggregate\", args=[False, calls])"
   ]
  },
  {
   "cell_type": "code",
   "execution_count": 34,
   "id": "6f6b788d-08ea-490a-8c14-ace474d0e13f",
   "metadata": {},
   "outputs": [],
   "source": [
    "cryo_kwargs = {\n",
    "    'rpc': 'https://eth.merkle.io',\n",
    "    'blocks': ['latest'], \n",
    "}\n",
    "            \n",
    "eth_call_df = cryo.collect(\n",
    "    'eth_calls',\n",
    "    to_address = [MULTICALL3_ADDRESS],\n",
    "    call_data=[calldata_aave_pool],\n",
    "     output_format=\"polars\",\n",
    "    **cryo_kwargs,\n",
    ")"
   ]
  },
  {
   "cell_type": "code",
   "execution_count": 35,
   "id": "d490369f-c51d-4f61-8769-68111a1c9f3c",
   "metadata": {},
   "outputs": [],
   "source": [
    "calldata = eth_call_df['output_data'][0]"
   ]
  },
  {
   "cell_type": "code",
   "execution_count": 36,
   "id": "9b874c7a-679e-4e9f-b90f-73d2464ff2b2",
   "metadata": {},
   "outputs": [],
   "source": [
    "decoded_data = decode(['(bool,bytes)[]'] , calldata)[0]"
   ]
  },
  {
   "cell_type": "code",
   "execution_count": 37,
   "id": "be6bd17e-cf33-4919-98f0-60096fd153ae",
   "metadata": {},
   "outputs": [
    {
     "data": {
      "text/plain": [
       "((True,\n",
       "  b'\\x00\\x00\\x00\\x00\\x00\\x00\\x00\\x00\\x00\\x00\\x00\\x00\\x00\\x00\\x00\\x00\\x00\\x00\\x00\\x00\\x00\\x00\\x00\\x00\\x00\\x00\\x00\\x00\\x00\\x00\\x00\\x00\\x00\\x00\\x00\\x00\\x00\\x00\\x00\\x00\\x00\\x00\\x00\\x00\\x00\\x00\\x00\\x00\\x00\\x00\\x00\\x00\\x00\\x00\\x01(9\\'{\\x16\\xc13M\\x06\\x00\\x00\\x00\\x00\\x00\\x00\\x00\\x00\\x00\\x00\\x00\\x00\\x00\\x00\\x00\\x00\\x00\\x00\\x00\\x00\\x00\\x8ck\\xc9p\\xbe\\xe3\\xb4\\xa5Gd\\xf5\\x00\\x00\\x00\\x00\\x00\\x00\\x00\\x00\\x00\\x00\\x00\\x00\\x00\\x00\\x00\\x00\\x00\\x00\\x00\\x00\\x00\\x00\\x00\\x00\\x00\\x00\\x00\\x00\\x00\\x00\\x00\\x00\\x00\\x00\\x00\\x00\\x00\\x00\\x00\\x00\\x00\\x00\\x00\\x00\\x00\\x00\\x00\\x00\\x00\\x00\\x00\\x00\\x00h\\xd0\\xb8f\\xb2\\xa7\\xc9U,\\xe5\\x0b\\x00\\x00\\x00\\x00\\x00\\x00\\x00\\x00\\x00\\x00\\x00\\x00\\x00\\x00\\x00\\x00\\x00\\x00\\x00\\x00\\x00\\x18kk\\x02\\xc3\\xcf\\x0fL\\x14\\xcd+\\x00\\x00\\x00\\x00\\x00\\x00\\x00\\x00\\x00\\x00\\x00\\x00\\x00\\x00\\x00\\x00\\x00\\x00\\x00\\x00\\x00+\\x9f!M\\x1b\\x0b\\xd4\\xc7uo\\x15\\x00\\x00\\x00\\x00\\x00\\x00\\x00\\x00\\x00\\x00\\x00\\x00\\x00\\x00\\x00\\x00\\x00\\x00\\x00\\x00\\x00\\x00\\x00\\x00\\x00\\x00\\x00\\x00\\x00\\x00\\x00\\x00\\x00\\x00\\x00\\x00\\x00\\x00\\x00\\x00\\x00\\x00\\x00\\x00\\x00\\x00\\x00\\x00\\x00\\x00\\x00\\x00\\x00\\x00\\x00\\x00\\x00\\x00\\x00\\x00\\x00\\x00\\x00\\x00\\x00\\x00\\x00\\x00\\x00\\x00\\x00\\x00\\x00\\x00\\x00\\x00\\x00\\x00\\x00\\x00\\x00\\x00\\x00\\x00\\x03\\x9f1\\xab\\x18w=K\\x15\"B\\x8b\\x00\\x00\\x00\\x00\\x00\\x00\\x00\\x00\\x00\\x00\\x00\\x00\\x00\\x00\\x00\\x00\\x00\\x00\\x00\\x00\\x03\\xce\\x01\\xf1\\xab\\xe9\\xc4\\xd6\\xc3\\xc6\\xfe\\xe5\\x00\\x00\\x00\\x00\\x00\\x00\\x00\\x00\\x00\\x00\\x00\\x00\\x00\\x00\\x00\\x00\\x00\\x00\\x00\\x00\\x00\\x00\\x00\\x00\\x00\\x00\\x00\\x00g\\xdd\\x9f\\xb3'),\n",
       " (True,\n",
       "  b'\\x00\\x00\\x00\\x00\\x00\\x00\\x00\\x00\\x00\\x00\\x00\\x00\\x00\\x00\\x00\\x00\\x00\\x00\\x00\\x00\\x00\\x00\\x00\\x00\\x00\\x00\\x00\\x00\\x00\\x00\\x00\\x00\\x00\\x00\\x00\\x00\\x00\\x00\\x00\\x00\\x00\\x00\\x00\\x00\\x00\\x00\\x00\\x00\\x00\\x00\\x00\\x00\\x00\\x00\\x00\\x01y#\\xce^\\xa3\\xcbK\\xa2\\x00\\x00\\x00\\x00\\x00\\x00\\x00\\x00\\x00\\x00\\x00\\x00\\x00\\x00\\x00\\x00\\x00\\x00\\x00\\x00\\x00\\x01\\xd2\\xd0,dm\\r1\\x93\\\\l\\x00\\x00\\x00\\x00\\x00\\x00\\x00\\x00\\x00\\x00\\x00\\x00\\x00\\x00\\x00\\x00\\x00\\x00\\x00\\x00\\x00\\x00\\x00\\x00\\x00\\x00\\x00\\x00\\x00\\x00\\x00\\x00\\x00\\x00\\x00\\x00\\x00\\x00\\x00\\x00\\x00\\x00\\x00\\x00\\x00\\x00\\x00\\x00\\x00\\x00\\x00\\x00\\x00\\x01\\x93Z\\xb6\\xbe\\x19r\\xc8\\xc3\\xb8\\x08\\x00\\x00\\x00\\x00\\x00\\x00\\x00\\x00\\x00\\x00\\x00\\x00\\x00\\x00\\x00\\x00\\x00\\x00\\x00\\x00\\x00\\x0f\\xbfh\\x13\\x18w\\xe4\\xca\\xe8DB\\x00\\x00\\x00\\x00\\x00\\x00\\x00\\x00\\x00\\x00\\x00\\x00\\x00\\x00\\x00\\x00\\x00\\x00\\x00\\x00\\x00\\x15q\\x14\\xab6\\xff\\xdaL\\xe3~\\x11\\x00\\x00\\x00\\x00\\x00\\x00\\x00\\x00\\x00\\x00\\x00\\x00\\x00\\x00\\x00\\x00\\x00\\x00\\x00\\x00\\x00\\x00\\x00\\x00\\x00\\x00\\x00\\x00\\x00\\x00\\x00\\x00\\x00\\x00\\x00\\x00\\x00\\x00\\x00\\x00\\x00\\x00\\x00\\x00\\x00\\x00\\x00\\x00\\x00\\x00\\x00\\x00\\x00\\x00\\x00\\x00\\x00\\x00\\x00\\x00\\x00\\x00\\x00\\x00\\x00\\x00\\x00\\x00\\x00\\x00\\x00\\x00\\x00\\x00\\x00\\x00\\x00\\x00\\x00\\x00\\x00\\x00\\x00\\x00\\x03]\\xefaf\\x0b\\x8e\\xc2\\x02\\x89\\xae\\x85\\x00\\x00\\x00\\x00\\x00\\x00\\x00\\x00\\x00\\x00\\x00\\x00\\x00\\x00\\x00\\x00\\x00\\x00\\x00\\x00\\x03r\"\\xa9\\xc9\\xd9\\xd2\\xda\\xaa\\xb1\\x8e\\x07\\x00\\x00\\x00\\x00\\x00\\x00\\x00\\x00\\x00\\x00\\x00\\x00\\x00\\x00\\x00\\x00\\x00\\x00\\x00\\x00\\x00\\x00\\x00\\x00\\x00\\x00\\x00\\x00g\\xdd\\xac['),\n",
       " (True,\n",
       "  b'\\x00\\x00\\x00\\x00\\x00\\x00\\x00\\x00\\x00\\x00\\x00\\x00\\x00\\x00\\x00\\x00\\x00\\x00\\x00\\x00\\x00\\x00\\x00\\x00\\x00\\x00\\x00\\x00\\x00\\x00\\x00\\x00\\x00\\x00\\x00\\x00\\x00\\x00\\x00\\x00\\x00\\x00\\x00\\x00\\x00\\x00\\x00\\x00\\x00\\x00\\x00\\x00\\x00\\x00\\x00\\x00\\x00\\x00\\x00\\x06\\x81SA\\x15\\x00\\x00\\x00\\x00\\x00\\x00\\x00\\x00\\x00\\x00\\x00\\x00\\x00\\x00\\x00\\x00\\x00\\x00\\x00\\x00\\x00\\x00\\x00\\x00\\x00\\t\\xe4\"\\xf3\\xbb\\xe8x\\x00\\x00\\x00\\x00\\x00\\x00\\x00\\x00\\x00\\x00\\x00\\x00\\x00\\x00\\x00\\x00\\x00\\x00\\x00\\x00\\x00\\x00\\x00\\x00\\x00\\x00\\x00\\x00\\x00\\x00\\x00\\x00\\x00\\x00\\x00\\x00\\x00\\x00\\x00\\x00\\x00\\x00\\x00\\x00\\x00\\x00\\x00\\x00\\x00\\x00\\x00\\x00\\x00\\x00\\x00\\x00\\x00\\x06\\xe7\\x85\\x91(\\xea\\xd5\\x00\\x00\\x00\\x00\\x00\\x00\\x00\\x00\\x00\\x00\\x00\\x00\\x00\\x00\\x00\\x00\\x00\\x00\\x00\\x00\\x00\\x19\\xa0\\xc1R\\xcd\\x83\\nc\\x82\\x17\\xc3\\x00\\x00\\x00\\x00\\x00\\x00\\x00\\x00\\x00\\x00\\x00\\x00\\x00\\x00\\x00\\x00\\x00\\x00\\x00\\x00\\x00(\\xcbQ\\xe9\\xc0\\xf1Ca\\xacn\\xa7\\x00\\x00\\x00\\x00\\x00\\x00\\x00\\x00\\x00\\x00\\x00\\x00\\x00\\x00\\x00\\x00\\x00\\x00\\x00\\x00\\x00\\x00\\x00\\x00\\x00\\x00\\x00\\x00\\x00\\x00\\x00\\x00\\x00\\x00\\x00\\x00\\x00\\x00\\x00\\x00\\x00\\x00\\x00\\x00\\x00\\x00\\x00\\x00\\x00\\x00\\x00\\x00\\x00\\x00\\x00\\x00\\x00\\x00\\x00\\x00\\x00\\x00\\x00\\x00\\x00\\x00\\x00\\x00\\x00\\x00\\x00\\x00\\x00\\x00\\x00\\x00\\x00\\x00\\x00\\x00\\x00\\x00\\x00\\x00\\x03\\xa1\\xce0\\x8e\\xe8\\xc7\\xe2\\x07\\xdfRg\\x00\\x00\\x00\\x00\\x00\\x00\\x00\\x00\\x00\\x00\\x00\\x00\\x00\\x00\\x00\\x00\\x00\\x00\\x00\\x00\\x03\\xc2>\\xed\\xb7\\x89\\xe0\\x1e\\xa9\\xf9\\xcb\\x10\\x00\\x00\\x00\\x00\\x00\\x00\\x00\\x00\\x00\\x00\\x00\\x00\\x00\\x00\\x00\\x00\\x00\\x00\\x00\\x00\\x00\\x00\\x00\\x00\\x00\\x00\\x00\\x00g\\xdd\\xac\\xa3'))"
      ]
     },
     "execution_count": 37,
     "metadata": {},
     "output_type": "execute_result"
    }
   ],
   "source": [
    "decoded_data"
   ]
  },
  {
   "cell_type": "code",
   "execution_count": 38,
   "id": "18cf95cc-2a35-48c2-8ecb-c45c382148e4",
   "metadata": {},
   "outputs": [],
   "source": [
    "token_data = {\n",
    "    'DAI_RESERVE_DATA': [],\n",
    "    'WETH_RESERVE_DATA': [],\n",
    "    'USDC_RESERVE_DATA': []\n",
    "}"
   ]
  },
  {
   "cell_type": "markdown",
   "id": "4bea1078-628d-468a-b10b-142714f657fd",
   "metadata": {},
   "source": [
    "#### DAI Pools Data"
   ]
  },
  {
   "cell_type": "code",
   "execution_count": 39,
   "id": "14468094-1249-4228-bd12-a1c13812afd4",
   "metadata": {},
   "outputs": [],
   "source": [
    "dai_reserve_data = decoded_data[0]"
   ]
  },
  {
   "cell_type": "code",
   "execution_count": 40,
   "id": "85631b62-394f-4c81-b784-d15595535d0c",
   "metadata": {},
   "outputs": [],
   "source": [
    "data_dai=decode(['int256', 'uint256', 'uint256', 'uint256', 'uint256', 'uint256', 'uint256', 'uint256', 'uint256', 'uint256', 'uint256', 'uint40'],dai_reserve_data[1])"
   ]
  },
  {
   "cell_type": "code",
   "execution_count": 41,
   "id": "37c357ca-cd86-402a-954b-62f44d9e01b2",
   "metadata": {},
   "outputs": [],
   "source": [
    "token_data['DAI_RESERVE_DATA'] = list(data_dai)"
   ]
  },
  {
   "cell_type": "code",
   "execution_count": 42,
   "id": "832522dc-d562-466f-a208-c79338daf9dc",
   "metadata": {},
   "outputs": [
    {
     "data": {
      "text/plain": [
       "{'DAI_RESERVE_DATA': [0,\n",
       "  5464354641539941747974,\n",
       "  169758623879455094946096373,\n",
       "  0,\n",
       "  126713939069429503813805323,\n",
       "  29521486885264512295161131,\n",
       "  52735280812807334315519765,\n",
       "  0,\n",
       "  0,\n",
       "  1120908786896603633726669451,\n",
       "  1177502928724102126556872421,\n",
       "  1742577587],\n",
       " 'WETH_RESERVE_DATA': [],\n",
       " 'USDC_RESERVE_DATA': []}"
      ]
     },
     "execution_count": 42,
     "metadata": {},
     "output_type": "execute_result"
    }
   ],
   "source": [
    "token_data"
   ]
  },
  {
   "cell_type": "code",
   "execution_count": 236,
   "id": "b9ffc9bb-4754-4856-8127-c9a9b0a101a6",
   "metadata": {},
   "outputs": [],
   "source": [
    "# [unbacked, accruedToTreasuryScaled, totalAToken, totalStableDebt, totalVariableDebt, liquidityRate,variableBorrowRate,stableBorrowRate,averageStableBorrowRate,liquidityIndex,variableBorrowIndex,lastUpdateTimestamp\n",
    "# ]=decode(['int256', 'uint256', 'uint256', 'uint256', 'uint256', 'uint256', 'uint256', 'uint256', 'uint256', 'uint256', 'uint256', 'uint40'],dai_reserve_data[1])"
   ]
  },
  {
   "cell_type": "markdown",
   "id": "2d7a5094-4c6a-4e1e-bcc1-4403bb079828",
   "metadata": {},
   "source": [
    "####  WETH Pools Data"
   ]
  },
  {
   "cell_type": "code",
   "execution_count": 43,
   "id": "12311116-ea82-418c-a6d2-2ab201a49a0e",
   "metadata": {},
   "outputs": [],
   "source": [
    "weth_reserve_data = decoded_data[1]"
   ]
  },
  {
   "cell_type": "code",
   "execution_count": 44,
   "id": "aea95842-8ebb-4e4e-a360-709468df42dc",
   "metadata": {},
   "outputs": [],
   "source": [
    "data_weth=decode(['int256', 'uint256', 'uint256', 'uint256', 'uint256', 'uint256', 'uint256', 'uint256', 'uint256', 'uint256', 'uint256', 'uint40'],weth_reserve_data[1])"
   ]
  },
  {
   "cell_type": "code",
   "execution_count": 45,
   "id": "046d7d6a-7ff6-462d-a536-5b65eb0d96b4",
   "metadata": {},
   "outputs": [],
   "source": [
    "token_data['WETH_RESERVE_DATA'] = list(data_weth)"
   ]
  },
  {
   "cell_type": "code",
   "execution_count": 240,
   "id": "654ec92b-fbf1-4221-9c50-17696724afb1",
   "metadata": {},
   "outputs": [],
   "source": [
    "# [unbacked, accruedToTreasuryScaled, totalAToken, totalStableDebt, totalVariableDebt, liquidityRate,variableBorrowRate,stableBorrowRate,averageStableBorrowRate,liquidityIndex,variableBorrowIndex,lastUpdateTimestamp\n",
    "# ]=decode(['int256', 'uint256', 'uint256', 'uint256', 'uint256', 'uint256', 'uint256', 'uint256', 'uint256', 'uint256', 'uint256', 'uint40'],weth_reserve_data[1])"
   ]
  },
  {
   "cell_type": "code",
   "execution_count": 46,
   "id": "7fb75b7d-5896-458b-a148-0138345b2f50",
   "metadata": {},
   "outputs": [
    {
     "data": {
      "text/plain": [
       "{'DAI_RESERVE_DATA': [0,\n",
       "  5464354641539941747974,\n",
       "  169758623879455094946096373,\n",
       "  0,\n",
       "  126713939069429503813805323,\n",
       "  29521486885264512295161131,\n",
       "  52735280812807334315519765,\n",
       "  0,\n",
       "  0,\n",
       "  1120908786896603633726669451,\n",
       "  1177502928724102126556872421,\n",
       "  1742577587],\n",
       " 'WETH_RESERVE_DATA': [0,\n",
       "  27175791482353961890,\n",
       "  2204462902586125029956716,\n",
       "  0,\n",
       "  1904787067553442143909896,\n",
       "  19037779129812716351931458,\n",
       "  25921450896682499054992913,\n",
       "  0,\n",
       "  0,\n",
       "  1042015572964904494984441477,\n",
       "  1066436265405157265120529927,\n",
       "  1742580827],\n",
       " 'USDC_RESERVE_DATA': []}"
      ]
     },
     "execution_count": 46,
     "metadata": {},
     "output_type": "execute_result"
    }
   ],
   "source": [
    "token_data"
   ]
  },
  {
   "cell_type": "markdown",
   "id": "3f86a9af-0066-4cd0-a834-d7b1c9b870f3",
   "metadata": {},
   "source": [
    "####  USDC Pools Data"
   ]
  },
  {
   "cell_type": "code",
   "execution_count": 47,
   "id": "4b417a52-93d9-4252-8d12-78346f4e5f68",
   "metadata": {},
   "outputs": [],
   "source": [
    "usdc_reserve_data = decoded_data[2]"
   ]
  },
  {
   "cell_type": "code",
   "execution_count": 48,
   "id": "9c5a375a-c140-4701-964e-ea18da88cb90",
   "metadata": {},
   "outputs": [],
   "source": [
    "data_usdc=decode(['int256', 'uint256', 'uint256', 'uint256', 'uint256', 'uint256', 'uint256', 'uint256', 'uint256', 'uint256', 'uint256', 'uint40'],usdc_reserve_data[1])"
   ]
  },
  {
   "cell_type": "code",
   "execution_count": 49,
   "id": "ce01c52c-8782-419d-9b31-fdb14a74c7c6",
   "metadata": {},
   "outputs": [],
   "source": [
    "token_data['USDC_RESERVE_DATA'] = list(data_usdc)"
   ]
  },
  {
   "cell_type": "code",
   "execution_count": 245,
   "id": "f51e67ed-5479-406c-acee-e98e4345a3da",
   "metadata": {},
   "outputs": [],
   "source": [
    "# [unbacked, accruedToTreasuryScaled, totalAToken, totalStableDebt, totalVariableDebt, liquidityRate,variableBorrowRate,stableBorrowRate,averageStableBorrowRate,liquidityIndex,variableBorrowIndex,lastUpdateTimestamp\n",
    "# ]=decode(['int256', 'uint256', 'uint256', 'uint256', 'uint256', 'uint256', 'uint256', 'uint256', 'uint256', 'uint256', 'uint256', 'uint40'],usdc_reserve_data[1])"
   ]
  },
  {
   "cell_type": "code",
   "execution_count": 50,
   "id": "99272d56-4454-409e-8347-5cc44c158451",
   "metadata": {},
   "outputs": [
    {
     "data": {
      "text/plain": [
       "{'DAI_RESERVE_DATA': [0,\n",
       "  5464354641539941747974,\n",
       "  169758623879455094946096373,\n",
       "  0,\n",
       "  126713939069429503813805323,\n",
       "  29521486885264512295161131,\n",
       "  52735280812807334315519765,\n",
       "  0,\n",
       "  0,\n",
       "  1120908786896603633726669451,\n",
       "  1177502928724102126556872421,\n",
       "  1742577587],\n",
       " 'WETH_RESERVE_DATA': [0,\n",
       "  27175791482353961890,\n",
       "  2204462902586125029956716,\n",
       "  0,\n",
       "  1904787067553442143909896,\n",
       "  19037779129812716351931458,\n",
       "  25921450896682499054992913,\n",
       "  0,\n",
       "  0,\n",
       "  1042015572964904494984441477,\n",
       "  1066436265405157265120529927,\n",
       "  1742580827],\n",
       " 'USDC_RESERVE_DATA': [0,\n",
       "  27939520789,\n",
       "  2784113559595128,\n",
       "  0,\n",
       "  1943410712308437,\n",
       "  30982290315800260523464643,\n",
       "  49317184210605553509756583,\n",
       "  0,\n",
       "  0,\n",
       "  1124065789658877509865788007,\n",
       "  1163283810294904856289856272,\n",
       "  1742580899]}"
      ]
     },
     "execution_count": 50,
     "metadata": {},
     "output_type": "execute_result"
    }
   ],
   "source": [
    "token_data"
   ]
  },
  {
   "cell_type": "markdown",
   "id": "623a33b4-0309-407e-a8a6-1422590d7751",
   "metadata": {},
   "source": [
    "### Aave Pool Data"
   ]
  },
  {
   "cell_type": "code",
   "execution_count": 51,
   "id": "73237ca1-975e-41f5-888c-ad138ca55582",
   "metadata": {},
   "outputs": [],
   "source": [
    "field_names = [\n",
    "    'unbacked', 'accruedToTreasuryScaled', 'totalAToken', 'totalStableDebt', \n",
    "    'totalVariableDebt', 'liquidityRate', 'variableBorrowRate', 'stableBorrowRate', \n",
    "    'averageStableBorrowRate', 'liquidityIndex', 'variableBorrowIndex', 'lastUpdateTimestamp'\n",
    "]"
   ]
  },
  {
   "cell_type": "code",
   "execution_count": 52,
   "id": "9d1b3da8-7c0c-4b73-8134-7de60823e8de",
   "metadata": {},
   "outputs": [],
   "source": [
    "df = pd.DataFrame(token_data, index=field_names)"
   ]
  },
  {
   "cell_type": "code",
   "execution_count": 53,
   "id": "b1cdffe7-1e27-4ad8-ba41-a06da8dbe323",
   "metadata": {},
   "outputs": [],
   "source": [
    "# Convert token amounts - DAI and WETH (18 decimals)\n",
    "df.loc['totalAToken', 'DAI_RESERVE_DATA'] = df.loc['totalAToken', 'DAI_RESERVE_DATA'] / 1e18\n",
    "df.loc['totalAToken', 'WETH_RESERVE_DATA'] = df.loc['totalAToken', 'WETH_RESERVE_DATA'] / 1e18\n",
    "df.loc['totalVariableDebt', 'DAI_RESERVE_DATA'] = df.loc['totalVariableDebt', 'DAI_RESERVE_DATA'] / 1e18\n",
    "df.loc['totalVariableDebt', 'WETH_RESERVE_DATA'] = df.loc['totalVariableDebt', 'WETH_RESERVE_DATA'] / 1e18\n",
    "# Convert token amounts - USDC (6 decimals)\n",
    "df.loc['totalAToken', 'USDC_RESERVE_DATA'] = df.loc['totalAToken', 'USDC_RESERVE_DATA'] / 1e6\n",
    "df.loc['totalVariableDebt', 'USDC_RESERVE_DATA'] = df.loc['totalVariableDebt', 'USDC_RESERVE_DATA'] / 1e6"
   ]
  },
  {
   "cell_type": "code",
   "execution_count": 54,
   "id": "08bdae59-1833-4433-81bb-593b4eeaabcb",
   "metadata": {},
   "outputs": [],
   "source": [
    "# Convert interest rates from ray (10^27) to percentages\n",
    "df.loc['liquidityRate'] = (df.loc['liquidityRate'] / 1e27)\n",
    "df.loc['variableBorrowRate'] = (df.loc['variableBorrowRate'] / 1e27)"
   ]
  },
  {
   "cell_type": "code",
   "execution_count": 55,
   "id": "0fec56e6-bdd4-4dbe-8bd1-03af8bd512f2",
   "metadata": {},
   "outputs": [],
   "source": [
    "# Format timestamps (this does convert to strings, but that's probably what you want for timestamps)\n",
    "from datetime import datetime\n",
    "df.loc['lastUpdateTimestamp'] = df.loc['lastUpdateTimestamp'].apply(\n",
    "    lambda x: datetime.fromtimestamp(int(x)).strftime('%Y-%m-%d %H:%M:%S')\n",
    ")"
   ]
  },
  {
   "cell_type": "code",
   "execution_count": 56,
   "id": "2879c05b-8501-4bc6-96c5-95882e7726a0",
   "metadata": {},
   "outputs": [
    {
     "data": {
      "text/plain": [
       "DAI_RESERVE_DATA     0.052735\n",
       "WETH_RESERVE_DATA    0.025921\n",
       "USDC_RESERVE_DATA    0.049317\n",
       "Name: variableBorrowRate, dtype: object"
      ]
     },
     "execution_count": 56,
     "metadata": {},
     "output_type": "execute_result"
    }
   ],
   "source": [
    "df.loc['variableBorrowRate']"
   ]
  },
  {
   "cell_type": "code",
   "execution_count": 131,
   "id": "d0241b14-8b26-44c1-9e80-fc55e28e04ed",
   "metadata": {},
   "outputs": [],
   "source": [
    "# pd.set_option('display.float_format', '{:,.4f}'.format)"
   ]
  },
  {
   "cell_type": "code",
   "execution_count": 57,
   "id": "12f5ac6d-0e63-48b7-80d0-f8c643f36945",
   "metadata": {},
   "outputs": [
    {
     "data": {
      "text/html": [
       "<div>\n",
       "<style scoped>\n",
       "    .dataframe tbody tr th:only-of-type {\n",
       "        vertical-align: middle;\n",
       "    }\n",
       "\n",
       "    .dataframe tbody tr th {\n",
       "        vertical-align: top;\n",
       "    }\n",
       "\n",
       "    .dataframe thead th {\n",
       "        text-align: right;\n",
       "    }\n",
       "</style>\n",
       "<table border=\"1\" class=\"dataframe\">\n",
       "  <thead>\n",
       "    <tr style=\"text-align: right;\">\n",
       "      <th></th>\n",
       "      <th>DAI_RESERVE_DATA</th>\n",
       "      <th>WETH_RESERVE_DATA</th>\n",
       "      <th>USDC_RESERVE_DATA</th>\n",
       "    </tr>\n",
       "  </thead>\n",
       "  <tbody>\n",
       "    <tr>\n",
       "      <th>unbacked</th>\n",
       "      <td>0</td>\n",
       "      <td>0</td>\n",
       "      <td>0</td>\n",
       "    </tr>\n",
       "    <tr>\n",
       "      <th>accruedToTreasuryScaled</th>\n",
       "      <td>5464354641539941747974</td>\n",
       "      <td>27175791482353961890</td>\n",
       "      <td>27939520789</td>\n",
       "    </tr>\n",
       "    <tr>\n",
       "      <th>totalAToken</th>\n",
       "      <td>169758623.879455</td>\n",
       "      <td>2204462.902586</td>\n",
       "      <td>2784113559.595128</td>\n",
       "    </tr>\n",
       "    <tr>\n",
       "      <th>totalStableDebt</th>\n",
       "      <td>0</td>\n",
       "      <td>0</td>\n",
       "      <td>0</td>\n",
       "    </tr>\n",
       "    <tr>\n",
       "      <th>totalVariableDebt</th>\n",
       "      <td>126713939.06943</td>\n",
       "      <td>1904787.067553</td>\n",
       "      <td>1943410712.308437</td>\n",
       "    </tr>\n",
       "    <tr>\n",
       "      <th>liquidityRate</th>\n",
       "      <td>0.029521</td>\n",
       "      <td>0.019038</td>\n",
       "      <td>0.030982</td>\n",
       "    </tr>\n",
       "    <tr>\n",
       "      <th>variableBorrowRate</th>\n",
       "      <td>0.052735</td>\n",
       "      <td>0.025921</td>\n",
       "      <td>0.049317</td>\n",
       "    </tr>\n",
       "    <tr>\n",
       "      <th>stableBorrowRate</th>\n",
       "      <td>0</td>\n",
       "      <td>0</td>\n",
       "      <td>0</td>\n",
       "    </tr>\n",
       "    <tr>\n",
       "      <th>averageStableBorrowRate</th>\n",
       "      <td>0</td>\n",
       "      <td>0</td>\n",
       "      <td>0</td>\n",
       "    </tr>\n",
       "    <tr>\n",
       "      <th>liquidityIndex</th>\n",
       "      <td>1120908786896603633726669451</td>\n",
       "      <td>1042015572964904494984441477</td>\n",
       "      <td>1124065789658877509865788007</td>\n",
       "    </tr>\n",
       "    <tr>\n",
       "      <th>variableBorrowIndex</th>\n",
       "      <td>1177502928724102126556872421</td>\n",
       "      <td>1066436265405157265120529927</td>\n",
       "      <td>1163283810294904856289856272</td>\n",
       "    </tr>\n",
       "    <tr>\n",
       "      <th>lastUpdateTimestamp</th>\n",
       "      <td>2025-03-21 17:19:47</td>\n",
       "      <td>2025-03-21 18:13:47</td>\n",
       "      <td>2025-03-21 18:14:59</td>\n",
       "    </tr>\n",
       "  </tbody>\n",
       "</table>\n",
       "</div>"
      ],
      "text/plain": [
       "                                     DAI_RESERVE_DATA  \\\n",
       "unbacked                                            0   \n",
       "accruedToTreasuryScaled        5464354641539941747974   \n",
       "totalAToken                          169758623.879455   \n",
       "totalStableDebt                                     0   \n",
       "totalVariableDebt                     126713939.06943   \n",
       "liquidityRate                                0.029521   \n",
       "variableBorrowRate                           0.052735   \n",
       "stableBorrowRate                                    0   \n",
       "averageStableBorrowRate                             0   \n",
       "liquidityIndex           1120908786896603633726669451   \n",
       "variableBorrowIndex      1177502928724102126556872421   \n",
       "lastUpdateTimestamp               2025-03-21 17:19:47   \n",
       "\n",
       "                                    WETH_RESERVE_DATA  \\\n",
       "unbacked                                            0   \n",
       "accruedToTreasuryScaled          27175791482353961890   \n",
       "totalAToken                            2204462.902586   \n",
       "totalStableDebt                                     0   \n",
       "totalVariableDebt                      1904787.067553   \n",
       "liquidityRate                                0.019038   \n",
       "variableBorrowRate                           0.025921   \n",
       "stableBorrowRate                                    0   \n",
       "averageStableBorrowRate                             0   \n",
       "liquidityIndex           1042015572964904494984441477   \n",
       "variableBorrowIndex      1066436265405157265120529927   \n",
       "lastUpdateTimestamp               2025-03-21 18:13:47   \n",
       "\n",
       "                                    USDC_RESERVE_DATA  \n",
       "unbacked                                            0  \n",
       "accruedToTreasuryScaled                   27939520789  \n",
       "totalAToken                         2784113559.595128  \n",
       "totalStableDebt                                     0  \n",
       "totalVariableDebt                   1943410712.308437  \n",
       "liquidityRate                                0.030982  \n",
       "variableBorrowRate                           0.049317  \n",
       "stableBorrowRate                                    0  \n",
       "averageStableBorrowRate                             0  \n",
       "liquidityIndex           1124065789658877509865788007  \n",
       "variableBorrowIndex      1163283810294904856289856272  \n",
       "lastUpdateTimestamp               2025-03-21 18:14:59  "
      ]
     },
     "execution_count": 57,
     "metadata": {},
     "output_type": "execute_result"
    }
   ],
   "source": [
    "df"
   ]
  },
  {
   "cell_type": "code",
   "execution_count": 58,
   "id": "e0bea66a-2ac0-4623-b23f-813e0661ab6f",
   "metadata": {},
   "outputs": [],
   "source": [
    "def display_formatted_df(df):\n",
    "    # Make a copy to avoid modifying the original\n",
    "    display_df = df.copy()\n",
    "    \n",
    "    # Format token amounts with commas and 2 decimal places\n",
    "    display_df.loc['totalAToken'] = display_df.loc['totalAToken'].apply(lambda x: f\"{x:,.2f}\")\n",
    "    display_df.loc['totalVariableDebt'] = display_df.loc['totalVariableDebt'].apply(lambda x: f\"{x:,.2f}\")\n",
    "    \n",
    "    return display_df"
   ]
  },
  {
   "cell_type": "code",
   "execution_count": 59,
   "id": "ff3fecf1-358d-4877-965c-912ab0aee831",
   "metadata": {},
   "outputs": [
    {
     "data": {
      "text/html": [
       "<div>\n",
       "<style scoped>\n",
       "    .dataframe tbody tr th:only-of-type {\n",
       "        vertical-align: middle;\n",
       "    }\n",
       "\n",
       "    .dataframe tbody tr th {\n",
       "        vertical-align: top;\n",
       "    }\n",
       "\n",
       "    .dataframe thead th {\n",
       "        text-align: right;\n",
       "    }\n",
       "</style>\n",
       "<table border=\"1\" class=\"dataframe\">\n",
       "  <thead>\n",
       "    <tr style=\"text-align: right;\">\n",
       "      <th></th>\n",
       "      <th>DAI_RESERVE_DATA</th>\n",
       "      <th>WETH_RESERVE_DATA</th>\n",
       "      <th>USDC_RESERVE_DATA</th>\n",
       "    </tr>\n",
       "  </thead>\n",
       "  <tbody>\n",
       "    <tr>\n",
       "      <th>unbacked</th>\n",
       "      <td>0</td>\n",
       "      <td>0</td>\n",
       "      <td>0</td>\n",
       "    </tr>\n",
       "    <tr>\n",
       "      <th>accruedToTreasuryScaled</th>\n",
       "      <td>5464354641539941747974</td>\n",
       "      <td>27175791482353961890</td>\n",
       "      <td>27939520789</td>\n",
       "    </tr>\n",
       "    <tr>\n",
       "      <th>totalAToken</th>\n",
       "      <td>169,758,623.88</td>\n",
       "      <td>2,204,462.90</td>\n",
       "      <td>2,784,113,559.60</td>\n",
       "    </tr>\n",
       "    <tr>\n",
       "      <th>totalStableDebt</th>\n",
       "      <td>0</td>\n",
       "      <td>0</td>\n",
       "      <td>0</td>\n",
       "    </tr>\n",
       "    <tr>\n",
       "      <th>totalVariableDebt</th>\n",
       "      <td>126,713,939.07</td>\n",
       "      <td>1,904,787.07</td>\n",
       "      <td>1,943,410,712.31</td>\n",
       "    </tr>\n",
       "    <tr>\n",
       "      <th>liquidityRate</th>\n",
       "      <td>0.029521</td>\n",
       "      <td>0.019038</td>\n",
       "      <td>0.030982</td>\n",
       "    </tr>\n",
       "    <tr>\n",
       "      <th>variableBorrowRate</th>\n",
       "      <td>0.052735</td>\n",
       "      <td>0.025921</td>\n",
       "      <td>0.049317</td>\n",
       "    </tr>\n",
       "    <tr>\n",
       "      <th>stableBorrowRate</th>\n",
       "      <td>0</td>\n",
       "      <td>0</td>\n",
       "      <td>0</td>\n",
       "    </tr>\n",
       "    <tr>\n",
       "      <th>averageStableBorrowRate</th>\n",
       "      <td>0</td>\n",
       "      <td>0</td>\n",
       "      <td>0</td>\n",
       "    </tr>\n",
       "    <tr>\n",
       "      <th>liquidityIndex</th>\n",
       "      <td>1120908786896603633726669451</td>\n",
       "      <td>1042015572964904494984441477</td>\n",
       "      <td>1124065789658877509865788007</td>\n",
       "    </tr>\n",
       "    <tr>\n",
       "      <th>variableBorrowIndex</th>\n",
       "      <td>1177502928724102126556872421</td>\n",
       "      <td>1066436265405157265120529927</td>\n",
       "      <td>1163283810294904856289856272</td>\n",
       "    </tr>\n",
       "    <tr>\n",
       "      <th>lastUpdateTimestamp</th>\n",
       "      <td>2025-03-21 17:19:47</td>\n",
       "      <td>2025-03-21 18:13:47</td>\n",
       "      <td>2025-03-21 18:14:59</td>\n",
       "    </tr>\n",
       "  </tbody>\n",
       "</table>\n",
       "</div>"
      ],
      "text/plain": [
       "                                     DAI_RESERVE_DATA  \\\n",
       "unbacked                                            0   \n",
       "accruedToTreasuryScaled        5464354641539941747974   \n",
       "totalAToken                            169,758,623.88   \n",
       "totalStableDebt                                     0   \n",
       "totalVariableDebt                      126,713,939.07   \n",
       "liquidityRate                                0.029521   \n",
       "variableBorrowRate                           0.052735   \n",
       "stableBorrowRate                                    0   \n",
       "averageStableBorrowRate                             0   \n",
       "liquidityIndex           1120908786896603633726669451   \n",
       "variableBorrowIndex      1177502928724102126556872421   \n",
       "lastUpdateTimestamp               2025-03-21 17:19:47   \n",
       "\n",
       "                                    WETH_RESERVE_DATA  \\\n",
       "unbacked                                            0   \n",
       "accruedToTreasuryScaled          27175791482353961890   \n",
       "totalAToken                              2,204,462.90   \n",
       "totalStableDebt                                     0   \n",
       "totalVariableDebt                        1,904,787.07   \n",
       "liquidityRate                                0.019038   \n",
       "variableBorrowRate                           0.025921   \n",
       "stableBorrowRate                                    0   \n",
       "averageStableBorrowRate                             0   \n",
       "liquidityIndex           1042015572964904494984441477   \n",
       "variableBorrowIndex      1066436265405157265120529927   \n",
       "lastUpdateTimestamp               2025-03-21 18:13:47   \n",
       "\n",
       "                                    USDC_RESERVE_DATA  \n",
       "unbacked                                            0  \n",
       "accruedToTreasuryScaled                   27939520789  \n",
       "totalAToken                          2,784,113,559.60  \n",
       "totalStableDebt                                     0  \n",
       "totalVariableDebt                    1,943,410,712.31  \n",
       "liquidityRate                                0.030982  \n",
       "variableBorrowRate                           0.049317  \n",
       "stableBorrowRate                                    0  \n",
       "averageStableBorrowRate                             0  \n",
       "liquidityIndex           1124065789658877509865788007  \n",
       "variableBorrowIndex      1163283810294904856289856272  \n",
       "lastUpdateTimestamp               2025-03-21 18:14:59  "
      ]
     },
     "execution_count": 59,
     "metadata": {},
     "output_type": "execute_result"
    }
   ],
   "source": [
    "display_formatted_df(df)"
   ]
  },
  {
   "cell_type": "code",
   "execution_count": null,
   "id": "7f7b47c3-b691-44f7-b048-f3275d3ef9ac",
   "metadata": {},
   "outputs": [],
   "source": []
  },
  {
   "cell_type": "code",
   "execution_count": 60,
   "id": "51568717-f225-4e61-82a0-9ef0c87cabe0",
   "metadata": {},
   "outputs": [],
   "source": [
    "aave_pools_df = display_formatted_df(df).copy()"
   ]
  },
  {
   "cell_type": "code",
   "execution_count": 62,
   "id": "303664d1-bab1-4f88-b6db-800289e576fb",
   "metadata": {},
   "outputs": [],
   "source": [
    "aave_pools_df = df.rename(columns={\n",
    "    'DAI_RESERVE_DATA': 'DAI_POOL',\n",
    "    'WETH_RESERVE_DATA': 'WETH_POOL',\n",
    "    'USDC_RESERVE_DATA': 'USDC_POOL'\n",
    "})"
   ]
  },
  {
   "cell_type": "code",
   "execution_count": 63,
   "id": "7f476071-ef87-4120-8127-cbd6b022041b",
   "metadata": {},
   "outputs": [
    {
     "data": {
      "text/html": [
       "<div>\n",
       "<style scoped>\n",
       "    .dataframe tbody tr th:only-of-type {\n",
       "        vertical-align: middle;\n",
       "    }\n",
       "\n",
       "    .dataframe tbody tr th {\n",
       "        vertical-align: top;\n",
       "    }\n",
       "\n",
       "    .dataframe thead th {\n",
       "        text-align: right;\n",
       "    }\n",
       "</style>\n",
       "<table border=\"1\" class=\"dataframe\">\n",
       "  <thead>\n",
       "    <tr style=\"text-align: right;\">\n",
       "      <th></th>\n",
       "      <th>DAI_POOL</th>\n",
       "      <th>WETH_POOL</th>\n",
       "      <th>USDC_POOL</th>\n",
       "    </tr>\n",
       "  </thead>\n",
       "  <tbody>\n",
       "    <tr>\n",
       "      <th>unbacked</th>\n",
       "      <td>0</td>\n",
       "      <td>0</td>\n",
       "      <td>0</td>\n",
       "    </tr>\n",
       "    <tr>\n",
       "      <th>accruedToTreasuryScaled</th>\n",
       "      <td>5464354641539941747974</td>\n",
       "      <td>27175791482353961890</td>\n",
       "      <td>27939520789</td>\n",
       "    </tr>\n",
       "    <tr>\n",
       "      <th>totalAToken</th>\n",
       "      <td>169758623.879455</td>\n",
       "      <td>2204462.902586</td>\n",
       "      <td>2784113559.595128</td>\n",
       "    </tr>\n",
       "    <tr>\n",
       "      <th>totalStableDebt</th>\n",
       "      <td>0</td>\n",
       "      <td>0</td>\n",
       "      <td>0</td>\n",
       "    </tr>\n",
       "    <tr>\n",
       "      <th>totalVariableDebt</th>\n",
       "      <td>126713939.06943</td>\n",
       "      <td>1904787.067553</td>\n",
       "      <td>1943410712.308437</td>\n",
       "    </tr>\n",
       "    <tr>\n",
       "      <th>liquidityRate</th>\n",
       "      <td>0.029521</td>\n",
       "      <td>0.019038</td>\n",
       "      <td>0.030982</td>\n",
       "    </tr>\n",
       "    <tr>\n",
       "      <th>variableBorrowRate</th>\n",
       "      <td>0.052735</td>\n",
       "      <td>0.025921</td>\n",
       "      <td>0.049317</td>\n",
       "    </tr>\n",
       "    <tr>\n",
       "      <th>stableBorrowRate</th>\n",
       "      <td>0</td>\n",
       "      <td>0</td>\n",
       "      <td>0</td>\n",
       "    </tr>\n",
       "    <tr>\n",
       "      <th>averageStableBorrowRate</th>\n",
       "      <td>0</td>\n",
       "      <td>0</td>\n",
       "      <td>0</td>\n",
       "    </tr>\n",
       "    <tr>\n",
       "      <th>liquidityIndex</th>\n",
       "      <td>1120908786896603633726669451</td>\n",
       "      <td>1042015572964904494984441477</td>\n",
       "      <td>1124065789658877509865788007</td>\n",
       "    </tr>\n",
       "    <tr>\n",
       "      <th>variableBorrowIndex</th>\n",
       "      <td>1177502928724102126556872421</td>\n",
       "      <td>1066436265405157265120529927</td>\n",
       "      <td>1163283810294904856289856272</td>\n",
       "    </tr>\n",
       "    <tr>\n",
       "      <th>lastUpdateTimestamp</th>\n",
       "      <td>2025-03-21 17:19:47</td>\n",
       "      <td>2025-03-21 18:13:47</td>\n",
       "      <td>2025-03-21 18:14:59</td>\n",
       "    </tr>\n",
       "  </tbody>\n",
       "</table>\n",
       "</div>"
      ],
      "text/plain": [
       "                                             DAI_POOL  \\\n",
       "unbacked                                            0   \n",
       "accruedToTreasuryScaled        5464354641539941747974   \n",
       "totalAToken                          169758623.879455   \n",
       "totalStableDebt                                     0   \n",
       "totalVariableDebt                     126713939.06943   \n",
       "liquidityRate                                0.029521   \n",
       "variableBorrowRate                           0.052735   \n",
       "stableBorrowRate                                    0   \n",
       "averageStableBorrowRate                             0   \n",
       "liquidityIndex           1120908786896603633726669451   \n",
       "variableBorrowIndex      1177502928724102126556872421   \n",
       "lastUpdateTimestamp               2025-03-21 17:19:47   \n",
       "\n",
       "                                            WETH_POOL  \\\n",
       "unbacked                                            0   \n",
       "accruedToTreasuryScaled          27175791482353961890   \n",
       "totalAToken                            2204462.902586   \n",
       "totalStableDebt                                     0   \n",
       "totalVariableDebt                      1904787.067553   \n",
       "liquidityRate                                0.019038   \n",
       "variableBorrowRate                           0.025921   \n",
       "stableBorrowRate                                    0   \n",
       "averageStableBorrowRate                             0   \n",
       "liquidityIndex           1042015572964904494984441477   \n",
       "variableBorrowIndex      1066436265405157265120529927   \n",
       "lastUpdateTimestamp               2025-03-21 18:13:47   \n",
       "\n",
       "                                            USDC_POOL  \n",
       "unbacked                                            0  \n",
       "accruedToTreasuryScaled                   27939520789  \n",
       "totalAToken                         2784113559.595128  \n",
       "totalStableDebt                                     0  \n",
       "totalVariableDebt                   1943410712.308437  \n",
       "liquidityRate                                0.030982  \n",
       "variableBorrowRate                           0.049317  \n",
       "stableBorrowRate                                    0  \n",
       "averageStableBorrowRate                             0  \n",
       "liquidityIndex           1124065789658877509865788007  \n",
       "variableBorrowIndex      1163283810294904856289856272  \n",
       "lastUpdateTimestamp               2025-03-21 18:14:59  "
      ]
     },
     "execution_count": 63,
     "metadata": {},
     "output_type": "execute_result"
    }
   ],
   "source": [
    "aave_pools_df "
   ]
  },
  {
   "cell_type": "markdown",
   "id": "5f60489b-ec2f-43e3-a254-7ccd6f83c6b4",
   "metadata": {},
   "source": [
    "### Aave Interest Strategy"
   ]
  },
  {
   "cell_type": "code",
   "execution_count": 132,
   "id": "3ffd9a52-4bc6-45d4-ac31-a02eb833db2a",
   "metadata": {},
   "outputs": [],
   "source": [
    "# Utilization Rate = = TotalBorrowed / TotalSupply \n",
    "Uti_Rate =df.loc['totalVariableDebt', 'DAI_RESERVE_DATA']/df.loc['totalAToken', 'DAI_RESERVE_DATA']"
   ]
  },
  {
   "cell_type": "code",
   "execution_count": 133,
   "id": "c133bc7e-1cfe-4924-9b6e-5ae15cd26f06",
   "metadata": {},
   "outputs": [],
   "source": [
    "w3_2 = web3.HTTPProvider(\"https://eth.merkle.io\")"
   ]
  },
  {
   "cell_type": "code",
   "execution_count": 134,
   "id": "0fa818ed-3e98-4bb4-b746-c3b391596bb8",
   "metadata": {},
   "outputs": [],
   "source": [
    "DAI_ADDRESS = w3.to_checksum_address(\"0x6B175474E89094C44Da98b954EedeAC495271d0F\")"
   ]
  },
  {
   "cell_type": "code",
   "execution_count": 135,
   "id": "0d88522b-8bb6-4378-97ad-318907b50918",
   "metadata": {},
   "outputs": [
    {
     "name": "stdout",
     "output_type": "stream",
     "text": [
      "True\n"
     ]
    }
   ],
   "source": [
    "print(w3_2.is_connected())  # Should return Tru"
   ]
  },
  {
   "cell_type": "code",
   "execution_count": 136,
   "id": "ac25b1f3-0c44-4bc4-a65f-f1a3aec82bfc",
   "metadata": {},
   "outputs": [],
   "source": [
    "RATE_STRATEGY_V2_ABI = json.loads('[{\"inputs\":[{\"internalType\":\"address\",\"name\":\"reserve\",\"type\":\"address\"}],\"name\":\"getInterestRateData\",\"outputs\":[{\"components\":[{\"internalType\":\"uint256\",\"name\":\"optimalUsageRatio\",\"type\":\"uint256\"},{\"internalType\":\"uint256\",\"name\":\"baseVariableBorrowRate\",\"type\":\"uint256\"},{\"internalType\":\"uint256\",\"name\":\"variableRateSlope1\",\"type\":\"uint256\"},{\"internalType\":\"uint256\",\"name\":\"variableRateSlope2\",\"type\":\"uint256\"}],\"internalType\":\"struct IDefaultInterestRateStrategyV2.InterestRateDataRay\",\"name\":\"\",\"type\":\"tuple\"}],\"stateMutability\":\"view\",\"type\":\"function\"} ]')"
   ]
  },
  {
   "cell_type": "code",
   "execution_count": 137,
   "id": "30c3f1db-c5a7-4f73-8e50-68f55b3b5b9d",
   "metadata": {},
   "outputs": [],
   "source": [
    "getIntRateData_4b = '131e889c'"
   ]
  },
  {
   "cell_type": "code",
   "execution_count": 138,
   "id": "b0e56c7c-7e47-4553-9206-4aff70d18bc4",
   "metadata": {},
   "outputs": [],
   "source": [
    "dai_param = DAI_ADDRESS[2:] if DAI_ADDRESS.startswith('0x') else DAI_ADDRESS\n",
    "padded_dai = dai_param.lower().zfill(64)"
   ]
  },
  {
   "cell_type": "code",
   "execution_count": 139,
   "id": "0dc233b4-3bb2-4988-993b-72b5ba3c0e89",
   "metadata": {},
   "outputs": [],
   "source": [
    "calldata = \"0x\" + getIntRateData_4b + padded_dai"
   ]
  },
  {
   "cell_type": "code",
   "execution_count": 141,
   "id": "c498711a-defc-449f-97c7-0e22b324a3a4",
   "metadata": {},
   "outputs": [],
   "source": [
    "result =w3.eth.call({\n",
    "    'to': RATE_STRATEGY_V2,\n",
    "    'data': calldata\n",
    "})"
   ]
  },
  {
   "cell_type": "code",
   "execution_count": 142,
   "id": "b88d1d2e-f9e8-41a2-b89d-6542d17762d2",
   "metadata": {},
   "outputs": [
    {
     "data": {
      "text/plain": [
       "HexBytes('0x000000000000000000000000000000000000000002f90193ef3075fa98000000000000000000000000000000000000000000000000000000000000000000000000000000000000000000000000000000000000000035c4490f820855e100000000000000000000000000000000000000000000000121836204bc2ce21e000000')"
      ]
     },
     "execution_count": 142,
     "metadata": {},
     "output_type": "execute_result"
    }
   ],
   "source": [
    "result"
   ]
  },
  {
   "cell_type": "code",
   "execution_count": 143,
   "id": "fa7f8e58-a554-4750-865e-52a40070ff09",
   "metadata": {},
   "outputs": [],
   "source": [
    "decoded_data = decode(['uint256', 'uint256', 'uint256', 'uint256'], result)"
   ]
  },
  {
   "cell_type": "code",
   "execution_count": 144,
   "id": "ecd61a54-7f88-4c30-8fd6-579b5a8aced2",
   "metadata": {},
   "outputs": [],
   "source": [
    "optimalUsageRatio = decoded_data[0] / 1e25  # Convert to percentage\n",
    "baseVariableBorrowRate = decoded_data[1] / 1e27\n",
    "variableRateSlope1 = decoded_data[2] / 1e27\n",
    "variableRateSlope2 = decoded_data[3] / 1e27"
   ]
  },
  {
   "cell_type": "code",
   "execution_count": 146,
   "id": "13cc9d0c-ace3-4f29-bdc4-cd3488fb2efa",
   "metadata": {},
   "outputs": [
    {
     "name": "stdout",
     "output_type": "stream",
     "text": [
      "optimalUsageRatio: 92.00%\n",
      "baseVariableBorrowRate: 0.000000\n",
      "variableRateSlope1: 0.065000\n",
      "variableRateSlope2: 0.350000\n"
     ]
    }
   ],
   "source": [
    "print(f\"optimalUsageRatio: {optimalUsageRatio:.2f}%\")\n",
    "print(f\"baseVariableBorrowRate: {baseVariableBorrowRate:.6f}\")\n",
    "print(f\"variableRateSlope1: {variableRateSlope1:.6f}\")\n",
    "print(f\"variableRateSlope2: {variableRateSlope2:.6f}\")"
   ]
  },
  {
   "cell_type": "code",
   "execution_count": 147,
   "id": "4e3ae546-ba5d-482d-b68b-3060d72790d1",
   "metadata": {},
   "outputs": [],
   "source": [
    "# IntRate  = Slop1 * Uti / OptUti\n",
    "Int_Rate = variableRateSlope1*Uti_Rate/optimalUsageRatio"
   ]
  },
  {
   "cell_type": "code",
   "execution_count": 148,
   "id": "9d1ddcc0-efc8-47fc-ac98-ec29cd4f09da",
   "metadata": {},
   "outputs": [
    {
     "data": {
      "text/plain": [
       "0.0005273732229767214"
      ]
     },
     "execution_count": 148,
     "metadata": {},
     "output_type": "execute_result"
    }
   ],
   "source": [
    "Int_Rate"
   ]
  },
  {
   "cell_type": "code",
   "execution_count": 149,
   "id": "45366d44-c1e7-4983-bc7e-3eef006ee069",
   "metadata": {},
   "outputs": [
    {
     "data": {
      "text/plain": [
       "0.7464359463670519"
      ]
     },
     "execution_count": 149,
     "metadata": {},
     "output_type": "execute_result"
    }
   ],
   "source": [
    "Uti_Rate"
   ]
  },
  {
   "cell_type": "code",
   "execution_count": 1,
   "id": "841da403-9d59-4ad6-892b-2da40e0fd90c",
   "metadata": {},
   "outputs": [],
   "source": [
    "# # Load the contract\n",
    "# contract = w3.eth.contract(address=RATE_STRATEGY_V2, abi=RATE_STRATEGY_V2_ABI)\n",
    "\n",
    "# # Call the function\n",
    "# interest_rate_data = contract.functions.getInterestRateData(DAI_ADDRESS).call()"
   ]
  },
  {
   "cell_type": "code",
   "execution_count": 42,
   "id": "e180ef34-fbda-4bd8-abe0-4e6e590ffe5a",
   "metadata": {},
   "outputs": [],
   "source": [
    "# Convert token amounts - DAI and WETH (18 decimals)\n",
    "# df.loc['totalAToken', 'DAI_RESERVE_DATA'] = df.loc['totalAToken', 'DAI_RESERVE_DATA'] / 1e18"
   ]
  },
  {
   "cell_type": "code",
   "execution_count": 2,
   "id": "c1cf7b09-9f60-45be-8659-bd90ad70c9d0",
   "metadata": {},
   "outputs": [],
   "source": [
    "# # Apply the unit conversions with different decimals per token\n",
    "# # For DAI and WETH (18 decimals)\n",
    "# readable_df.loc['totalAToken', 'DAI_RESERVE_DATA'] = readable_df.loc['totalAToken', 'DAI_RESERVE_DATA'] / 1e18\n",
    "# readable_df.loc['totalAToken', 'WETH_RESERVE_DATA'] = readable_df.loc['totalAToken', 'WETH_RESERVE_DATA'] / 1e18\n",
    "# readable_df.loc['totalVariableDebt', 'DAI_RESERVE_DATA'] = readable_df.loc['totalVariableDebt', 'DAI_RESERVE_DATA'] / 1e18\n",
    "# readable_df.loc['totalVariableDebt', 'WETH_RESERVE_DATA'] = readable_df.loc['totalVariableDebt', 'WETH_RESERVE_DATA'] / 1e18\n",
    "\n",
    "# # For USDC (6 decimals)\n",
    "# readable_df.loc['totalAToken', 'USDC_RESERVE_DATA'] = readable_df.loc['totalAToken', 'USDC_RESERVE_DATA'] / 1e6\n",
    "# readable_df.loc['totalVariableDebt', 'USDC_RESERVE_DATA'] = readable_df.loc['totalVariableDebt', 'USDC_RESERVE_DATA'] / 1e6\n",
    "\n",
    "# # Convert rates from ray (10^27) to percentage for all tokens (as numeric values)\n",
    "# readable_df.loc['liquidityRate'] = readable_df.loc['liquidityRate'] / 1e27 * 100\n",
    "# readable_df.loc['variableBorrowRate'] = readable_df.loc['variableBorrowRate'] / 1e27 * 100\n",
    "\n",
    "# # Convert timestamp to datetime but keep the original values for calculations if needed\n",
    "# from datetime import datetime\n",
    "# timestamp_values = readable_df.loc['lastUpdateTimestamp'].copy()\n",
    "# readable_df.loc['lastUpdateTimestamp'] = readable_df.loc['lastUpdateTimestamp'].apply(\n",
    "#     lambda x: datetime.fromtimestamp(int(x)).strftime('%Y-%m-%d %H:%M:%S')\n",
    "# )\n"
   ]
  },
  {
   "cell_type": "code",
   "execution_count": null,
   "id": "4a41ce14-955d-463e-877c-8e19b94b47c2",
   "metadata": {},
   "outputs": [],
   "source": []
  },
  {
   "cell_type": "code",
   "execution_count": null,
   "id": "30d8b216-8dd0-418f-8b57-593bf7b6d791",
   "metadata": {},
   "outputs": [],
   "source": []
  },
  {
   "cell_type": "code",
   "execution_count": 55,
   "id": "97c2a23a-6c91-44b9-a8ab-406448bc6be1",
   "metadata": {},
   "outputs": [],
   "source": [
    "readable_df.loc['totalAToken', 'DAI_RESERVE_DATA'] = readable_df.loc['totalAToken', 'DAI_RESERVE_DATA'] / 1e18\n",
    "readable_df.loc['totalAToken', 'WETH_RESERVE_DATA'] = readable_df.loc['totalAToken', 'WETH_RESERVE_DATA'] / 1e18\n",
    "readable_df.loc['totalVariableDebt', 'DAI_RESERVE_DATA'] = readable_df.loc['totalVariableDebt', 'DAI_RESERVE_DATA'] / 1e18\n",
    "readable_df.loc['totalVariableDebt', 'WETH_RESERVE_DATA'] = readable_df.loc['totalVariableDebt', 'WETH_RESERVE_DATA'] / 1e18"
   ]
  },
  {
   "cell_type": "code",
   "execution_count": 56,
   "id": "54bc90f1-691c-40c0-b883-3e0ec21a5fa3",
   "metadata": {},
   "outputs": [],
   "source": [
    "readable_df.loc['totalAToken', 'USDC_RESERVE_DATA'] = readable_df.loc['totalAToken', 'USDC_RESERVE_DATA'] / 1e6\n",
    "readable_df.loc['totalVariableDebt', 'USDC_RESERVE_DATA'] = readable_df.loc['totalVariableDebt', 'USDC_RESERVE_DATA'] / 1e6"
   ]
  },
  {
   "cell_type": "code",
   "execution_count": 57,
   "id": "e428625c-8575-4779-94ec-277364bbe901",
   "metadata": {},
   "outputs": [],
   "source": [
    "readable_df.loc['totalAToken'] = readable_df.loc['totalAToken'].apply(lambda x: f\"{float(x):,.4f}\" if isinstance(x, (int, float, str)) else x)\n",
    "readable_df.loc['totalVariableDebt'] = readable_df.loc['totalVariableDebt'].apply(lambda x: f\"{float(x):,.4f}\" if isinstance(x, (int, float, str)) else x)\n"
   ]
  },
  {
   "cell_type": "code",
   "execution_count": 58,
   "id": "3d5eda96-ff19-4136-b791-3980be8fd0d3",
   "metadata": {},
   "outputs": [],
   "source": [
    "# Convert rates from ray (10^27) to percentage for all tokens\n",
    "readable_df.loc['liquidityRate'] = readable_df.loc['liquidityRate'] / 1e27 * 100\n",
    "readable_df.loc['variableBorrowRate'] = readable_df.loc['variableBorrowRate'] / 1e27 * 100"
   ]
  },
  {
   "cell_type": "code",
   "execution_count": 59,
   "id": "3fa2834d-3029-4dce-ab1b-fe7a4eaab19a",
   "metadata": {},
   "outputs": [],
   "source": [
    "# Format the rate fields with 4 decimal places and add % sign\n",
    "readable_df.loc['liquidityRate'] = readable_df.loc['liquidityRate'].apply(lambda x: f\"{float(x):.4f}%\" if isinstance(x, (int, float, str)) else x)\n",
    "readable_df.loc['variableBorrowRate'] = readable_df.loc['variableBorrowRate'].apply(lambda x: f\"{float(x):.4f}%\" if isinstance(x, (int, float, str)) else x)"
   ]
  },
  {
   "cell_type": "code",
   "execution_count": 402,
   "id": "ea8fe22f-341d-4583-bed3-1af7a430a9d4",
   "metadata": {},
   "outputs": [],
   "source": [
    "# readable_df.loc['totalAToken'] = df.loc['totalAToken'].apply(lambda x: f\"{x:,.4f}\")\n",
    "# readable_df.loc['totalVariableDebt'] = df.loc['totalVariableDebt'].apply(lambda x: f\"{x:,.4f}\")\n",
    "# readable_df.loc['liquidityRate'] = df.loc['liquidityRate'].apply(lambda x: f\"{x:.4f}%\")\n",
    "# readable_df.loc['variableBorrowRate'] = df.loc['variableBorrowRate'].apply(lambda x: f\"{x:.4f}%\")"
   ]
  },
  {
   "cell_type": "code",
   "execution_count": null,
   "id": "cfa52d1a-6286-4d21-b52e-3f057e92be06",
   "metadata": {},
   "outputs": [],
   "source": []
  },
  {
   "cell_type": "code",
   "execution_count": null,
   "id": "8964b84e-51ee-4c17-a409-784f7d3827fe",
   "metadata": {},
   "outputs": [],
   "source": []
  },
  {
   "cell_type": "code",
   "execution_count": 62,
   "id": "1fbc4ce5-6173-4674-91cc-b9292ecdb5af",
   "metadata": {},
   "outputs": [],
   "source": []
  },
  {
   "cell_type": "code",
   "execution_count": null,
   "id": "293da5d1-a066-48c8-87f2-9a476159c7e7",
   "metadata": {},
   "outputs": [],
   "source": []
  },
  {
   "cell_type": "code",
   "execution_count": null,
   "id": "aea95c34-60c1-4871-a629-08063841d486",
   "metadata": {},
   "outputs": [],
   "source": []
  },
  {
   "cell_type": "code",
   "execution_count": null,
   "id": "4d201059-47fc-4eb7-a882-d331d1c64e50",
   "metadata": {},
   "outputs": [],
   "source": []
  },
  {
   "cell_type": "code",
   "execution_count": 75,
   "id": "2ad294e3-1ba8-4857-96c2-427fd5c4a5b2",
   "metadata": {},
   "outputs": [],
   "source": []
  },
  {
   "cell_type": "code",
   "execution_count": null,
   "id": "222d8ea5-a3a1-49ee-9da2-97423fc54b50",
   "metadata": {},
   "outputs": [],
   "source": []
  },
  {
   "cell_type": "code",
   "execution_count": null,
   "id": "f60172cc-e654-4402-99bc-8dc9298a3ed6",
   "metadata": {},
   "outputs": [],
   "source": []
  },
  {
   "cell_type": "code",
   "execution_count": null,
   "id": "fc69df4c-75bd-4b94-8961-229ab6776f95",
   "metadata": {},
   "outputs": [],
   "source": []
  }
 ],
 "metadata": {
  "kernelspec": {
   "display_name": "Python 3 (ipykernel)",
   "language": "python",
   "name": "python3"
  },
  "language_info": {
   "codemirror_mode": {
    "name": "ipython",
    "version": 3
   },
   "file_extension": ".py",
   "mimetype": "text/x-python",
   "name": "python",
   "nbconvert_exporter": "python",
   "pygments_lexer": "ipython3",
   "version": "3.12.8"
  }
 },
 "nbformat": 4,
 "nbformat_minor": 5
}
