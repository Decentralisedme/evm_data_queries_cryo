{
 "cells": [
  {
   "cell_type": "code",
   "execution_count": 60,
   "id": "500dbc3b-0801-4d80-87c7-b81ba9a9ded4",
   "metadata": {},
   "outputs": [],
   "source": [
    "import cryo\n",
    "import polars as pl\n",
    "import binascii\n",
    "import web3\n",
    "import json\n",
    "from eth_abi import decode\n",
    "import seaborn as sns\n",
    "import matplotlib.pyplot as plt\n",
    "from datetime import datetime\n",
    "import pandas as pd"
   ]
  },
  {
   "cell_type": "code",
   "execution_count": 61,
   "id": "80d0d77b-6ee0-4396-a043-a5a43a95cdef",
   "metadata": {},
   "outputs": [],
   "source": [
    "# Functions\n",
    "def bytes_to_hexstr(b: any) -> str:\n",
    "    if isinstance(b,list):\n",
    "        return [bytes_to_hexstr(a) for a in b]\n",
    "    return '0x' + b.hex()"
   ]
  },
  {
   "cell_type": "code",
   "execution_count": 62,
   "id": "313651a5-f0d2-4d3f-8d8d-6b837f3745ae",
   "metadata": {},
   "outputs": [],
   "source": [
    "# Function Signatures 4 bytes\n",
    "getBlocknumber_4b = '42cbb15c'"
   ]
  },
  {
   "cell_type": "code",
   "execution_count": 90,
   "id": "bc8c1613-5f1b-4716-b6bd-131c6d061fc5",
   "metadata": {},
   "outputs": [],
   "source": [
    "txs = cryo.collect('transactions', blocks=['latest'], rpc ='https://eth.merkle.io')"
   ]
  },
  {
   "cell_type": "code",
   "execution_count": 91,
   "id": "62322335-1832-4b97-ba42-b449c1f24d76",
   "metadata": {},
   "outputs": [
    {
     "data": {
      "text/html": [
       "<div><style>\n",
       ".dataframe > thead > tr,\n",
       ".dataframe > tbody > tr {\n",
       "  text-align: right;\n",
       "  white-space: pre-wrap;\n",
       "}\n",
       "</style>\n",
       "<small>shape: (5, 21)</small><table border=\"1\" class=\"dataframe\"><thead><tr><th>block_number</th><th>transaction_index</th><th>transaction_hash</th><th>nonce</th><th>from_address</th><th>to_address</th><th>value_binary</th><th>value_string</th><th>value_f64</th><th>input</th><th>gas_limit</th><th>gas_used</th><th>gas_price</th><th>transaction_type</th><th>max_priority_fee_per_gas</th><th>max_fee_per_gas</th><th>success</th><th>n_input_bytes</th><th>n_input_zero_bytes</th><th>n_input_nonzero_bytes</th><th>chain_id</th></tr><tr><td>u32</td><td>u64</td><td>binary</td><td>u64</td><td>binary</td><td>binary</td><td>binary</td><td>str</td><td>f64</td><td>binary</td><td>u64</td><td>u64</td><td>u64</td><td>u32</td><td>u64</td><td>u64</td><td>bool</td><td>u32</td><td>u32</td><td>u32</td><td>u64</td></tr></thead><tbody><tr><td>21945502</td><td>0</td><td>b&quot;h\\xab\\xb4\\xc9rj\\xf0\\xa4\\x18\\x81]\\xb9+Z{\\x9d\\x8d\\x0e\\xd5&quot;\\xfa~B\\xc34\\xae\\xa5\\xa2\\xa8\\x15\\x8d\\xb9&quot;</td><td>784</td><td>b&quot;\\x0cRA~\\xa6~\\xfe\\xd1H\\x1de\\x20\\xaaD(A\\xafZ\\xd9\\x8e&quot;</td><td>b&quot;\\x80\\xa6Lm\\x7f\\x12\\xc4{|f\\xc5\\xb4\\xe2\\x0er\\xbc\\x1f\\xcd]\\x9e&quot;</td><td>b&quot;\\x00\\x00\\x00\\x00\\x00\\x00\\x00\\x00\\x00\\x00\\x00\\x00\\x00\\x00\\x00\\x00\\x00\\x00\\x00\\x00\\x00\\x00\\x00\\x00\\x00\\xb1\\xa2\\xbc.\\xc5\\x00\\x00&quot;</td><td>&quot;50000000000000000&quot;</td><td>5.0000e16</td><td>b&quot;\\x08\\x88\\x90\\xdc\\x00\\x00\\x00\\x00\\x00\\x00\\x00\\x00\\x00\\x00\\x00\\x00\\x00\\x00\\x00\\x00\\x00\\x00\\x00\\x00\\x00\\x00\\x00\\x00\\x00\\x00uT\\x9f\\xb5&lt;\\xe6\\x00\\x00\\x00\\x00\\x00\\x00\\x00\\x00\\x00\\x00\\x00\\x00\\x00\\x00\\x00\\x00\\x00\\x00\\x00\\x00\\x00\\x00\\x00\\x00&quot;…</td><td>333015</td><td>195296</td><td>17391286973</td><td>2</td><td>15000000000</td><td>18042696454</td><td>true</td><td>260</td><td>164</td><td>96</td><td>1</td></tr><tr><td>21945502</td><td>1</td><td>b&quot;)M.^C\\xee\\x9f\\x83\\xeb\\x8b\\xed\\xdb\\xf7\\x00&#x27;\\xadK\\x03Fa\\xd8\\xb7\\xae\\xc3\\xf1Q\\xe2\\x0c\\xef1\\x83]&quot;</td><td>4270735</td><td>b&quot;\\xae/\\xc4\\x83R{\\x8e\\xf9\\x9e\\xb5\\xd9\\xb4Hu\\xf0\\x05\\xba\\x1f\\xae\\x13&quot;</td><td>b&quot;\\x1f/\\x10\\xd1\\xc4\\x07w\\xae\\x1d\\xa7BE\\e\\x82\\x8f\\xf3m\\xf3\\x87&quot;</td><td>b&quot;\\x00\\x00\\x00\\x00\\x00\\x00\\x00\\x00\\x00\\x00\\x00\\x00\\x00\\x00\\x00\\x00\\x00\\x00\\x00\\x00\\x00\\x00\\x00\\x00\\x00\\x00\\x00\\x00\\x00\\x00\\x00\\xef&quot;</td><td>&quot;239&quot;</td><td>239.0</td><td>b&quot;+\\xa6\\\\x95\\xd4\\xb1\\xc32\\x1c\\xf8\\x98\\xd2YI\\xf4\\x1dP\\xbe-\\xb5\\xbc\\x1d[7zB\\x20@\\xd1o\\xc0$j\\xd3\\x16\\x0c\\xcc\\x09\\xb8\\xd0\\xd3\\xa2\\xcd(\\xael/\\xa0\\xb8i\\x91\\xc6!\\x8b6\\xc1\\xd1\\x9dJ.&quot;…</td><td>783804</td><td>548663</td><td>5186251918</td><td>2</td><td>5186251917</td><td>5186251918</td><td>true</td><td>639</td><td>133</td><td>506</td><td>1</td></tr><tr><td>21945502</td><td>2</td><td>b&quot;e\\x83\\xb8%\\xfd\\xba7E&gt;T\\x0bI\\xa6\\xc0\\xc8\\x18\\x80\\x13\\xf0\\xe4\\xec\\xb6\\x94\\xdc?D\\x9b\\xb9\\x07\\xfd\\x0cM&quot;</td><td>46</td><td>b&quot;\\x00H\\xb6\\x036+\\xa20i*\\xfe\\xe6=\\xee\\x15#\\xe1[Oq&quot;</td><td>b&quot;\\x80\\xa6Lm\\x7f\\x12\\xc4{|f\\xc5\\xb4\\xe2\\x0er\\xbc\\x1f\\xcd]\\x9e&quot;</td><td>b&quot;\\x00\\x00\\x00\\x00\\x00\\x00\\x00\\x00\\x00\\x00\\x00\\x00\\x00\\x00\\x00\\x00\\x00\\x00\\x00\\x00\\x00\\x00\\x00\\x00\\x00\\x00\\x00\\x00\\x00\\x00\\x00\\x00&quot;</td><td>&quot;0&quot;</td><td>0.0</td><td>b&quot;=\\x0e&gt;\\xc5\\x00\\x00\\x00\\x00\\x00\\x00\\x00\\x00\\x00\\x00\\x00\\x00\\x00\\x00\\x00\\x00\\x00\\x00\\x00\\x00\\x00\\x00\\x00\\x00\\x00\\x00)%\\xf5\\xd2\\xef7\\x00\\x00\\x00\\x00\\x00\\x00\\x00\\x00\\x00\\x00\\x00\\x00\\x00\\x00\\x00\\x00\\x00\\x00\\x00\\x00\\x00\\x00\\x00\\x00&quot;…</td><td>552482</td><td>245757</td><td>3991286973</td><td>2</td><td>1600000000</td><td>4642696454</td><td>true</td><td>292</td><td>190</td><td>102</td><td>1</td></tr><tr><td>21945502</td><td>3</td><td>b&quot;\\xdd\\xc8\\x9b\\x06\\xc8Q#&quot;\\xfdo\\x91_\\x80\\x16\\xcf\\x10\\xe1\\x94\\xbd\\xcb\\x01\\xb9&lt;\\x82k\\x1fXU\\x0a\\xfc\\x11\\xef&quot;</td><td>303</td><td>b&quot;\\xce\\xc4\\x97\\x80\\x01\\x03&lt;\\xe3z\\x1e&#x27;\\xc6\\xa0\\xd8\\xaa\\x14\\x9a\\x85Gw&quot;</td><td>b&quot;\\xbc\\xf5\\x9e\\xe0\\xb7C\\x12\\xa3\\xfaJ\\x9f\\xd2X\\xad\\xca\\x0a\\x1ca\\xa5\\xaa&quot;</td><td>b&quot;\\x00\\x00\\x00\\x00\\x00\\x00\\x00\\x00\\x00\\x00\\x00\\x00\\x00\\x00\\x00\\x00\\x00\\x00\\x00\\x00\\x00\\x00\\x00\\x00\\x00\\x00\\x00\\x00\\x00\\x00\\x00\\x00&quot;</td><td>&quot;0&quot;</td><td>0.0</td><td>b&quot;\\x09^\\xa7\\xb3\\x00\\x00\\x00\\x00\\x00\\x00\\x00\\x00\\x00\\x00\\x00\\x00\\x80\\xa6Lm\\x7f\\x12\\xc4{|f\\xc5\\xb4\\xe2\\x0er\\xbc\\x1f\\xcd]\\x9e\\xff\\xff\\xff\\xff\\xff\\xff\\xff\\xff\\xff\\xff\\xff\\xff\\xff\\xff\\xff\\xff\\xff\\xff\\xff\\xff\\xff\\xff\\xff\\xff&quot;…</td><td>56352</td><td>46577</td><td>5391286973</td><td>2</td><td>3000000000</td><td>6432828194</td><td>true</td><td>68</td><td>12</td><td>56</td><td>1</td></tr><tr><td>21945502</td><td>4</td><td>b&quot;3)\\x1e\\x84Mi\\x04\\xde\\x9a\\xf8\\x1b{\\xf4\\x07\\x0dSs4\\x11H\\x07Z\\\\xe5\\x15\\xe4\\x02\\xce!\\xfbo\\x97&quot;</td><td>227449</td><td>b&quot;\\xfc\\x99(\\xf6Y\\x0d\\x857R\\x82K\\x0b@:j\\xe3g\\x85\\xe55&quot;</td><td>b&quot;\\x00\\x00\\x00\\x00\\x00\\x9eP\\xa7\\xdd\\xb7\\xa7\\xb0\\xe2\\xeef\\x04\\xfd\\x12\\x0eI&quot;</td><td>b&quot;\\x00\\x00\\x00\\x00\\x00\\x00\\x00\\x00\\x00\\x00\\x00\\x00\\x00\\x00\\x00\\x00\\x00\\x00\\x00\\x00\\x00\\x00\\x00\\x00\\x00\\x00\\x00\\x00\\x00\\x00\\x00\\x00&quot;</td><td>&quot;0&quot;</td><td>0.0</td><td>b&quot;\\x9e!j\\x04\\x85\\x05\\x19\\x08\\x11\\xb8\\x15\\xef\\xb8\\xf5\\x81\\x19J\\xe7\\x90\\x06\\xd2N\\x0d\\x81Kv\\x97\\xf6,\\xde\\x00\\x00\\x00\\x00\\x00\\x00|\\xc2\\xe5^\\x00\\x00\\x00\\x00\\x04?\\xa3\\x00D\\x00\\x00\\x00\\x00\\x00\\x00\\x00\\x00\\x00\\x00\\x00&quot;…</td><td>930415</td><td>651291</td><td>6715096218</td><td>2</td><td>4323809245</td><td>7432482309</td><td>true</td><td>713</td><td>388</td><td>325</td><td>1</td></tr></tbody></table></div>"
      ],
      "text/plain": [
       "shape: (5, 21)\n",
       "┌────────────┬────────────┬───────────┬─────────┬───┬───────────┬───────────┬───────────┬──────────┐\n",
       "│ block_numb ┆ transactio ┆ transacti ┆ nonce   ┆ … ┆ n_input_b ┆ n_input_z ┆ n_input_n ┆ chain_id │\n",
       "│ er         ┆ n_index    ┆ on_hash   ┆ ---     ┆   ┆ ytes      ┆ ero_bytes ┆ onzero_by ┆ ---      │\n",
       "│ ---        ┆ ---        ┆ ---       ┆ u64     ┆   ┆ ---       ┆ ---       ┆ tes       ┆ u64      │\n",
       "│ u32        ┆ u64        ┆ binary    ┆         ┆   ┆ u32       ┆ u32       ┆ ---       ┆          │\n",
       "│            ┆            ┆           ┆         ┆   ┆           ┆           ┆ u32       ┆          │\n",
       "╞════════════╪════════════╪═══════════╪═════════╪═══╪═══════════╪═══════════╪═══════════╪══════════╡\n",
       "│ 21945502   ┆ 0          ┆ b\"h\\xab\\x ┆ 784     ┆ … ┆ 260       ┆ 164       ┆ 96        ┆ 1        │\n",
       "│            ┆            ┆ b4\\xc9rj\\ ┆         ┆   ┆           ┆           ┆           ┆          │\n",
       "│            ┆            ┆ xf0\\xa4\\x ┆         ┆   ┆           ┆           ┆           ┆          │\n",
       "│            ┆            ┆ 18\\…      ┆         ┆   ┆           ┆           ┆           ┆          │\n",
       "│ 21945502   ┆ 1          ┆ b\")M.^C\\x ┆ 4270735 ┆ … ┆ 639       ┆ 133       ┆ 506       ┆ 1        │\n",
       "│            ┆            ┆ ee\\x9f\\x8 ┆         ┆   ┆           ┆           ┆           ┆          │\n",
       "│            ┆            ┆ 3\\xeb\\x8b ┆         ┆   ┆           ┆           ┆           ┆          │\n",
       "│            ┆            ┆ \\xe…      ┆         ┆   ┆           ┆           ┆           ┆          │\n",
       "│ 21945502   ┆ 2          ┆ b\"e\\x83\\x ┆ 46      ┆ … ┆ 292       ┆ 190       ┆ 102       ┆ 1        │\n",
       "│            ┆            ┆ b8%\\xfd\\x ┆         ┆   ┆           ┆           ┆           ┆          │\n",
       "│            ┆            ┆ ba7E>T\\x0 ┆         ┆   ┆           ┆           ┆           ┆          │\n",
       "│            ┆            ┆ bI\\…      ┆         ┆   ┆           ┆           ┆           ┆          │\n",
       "│ 21945502   ┆ 3          ┆ b\"\\xdd\\xc ┆ 303     ┆ … ┆ 68        ┆ 12        ┆ 56        ┆ 1        │\n",
       "│            ┆            ┆ 8\\x9b\\x06 ┆         ┆   ┆           ┆           ┆           ┆          │\n",
       "│            ┆            ┆ \\xc8Q#\"\\x ┆         ┆   ┆           ┆           ┆           ┆          │\n",
       "│            ┆            ┆ fdo…      ┆         ┆   ┆           ┆           ┆           ┆          │\n",
       "│ 21945502   ┆ 4          ┆ b\"3)\\x1e\\ ┆ 227449  ┆ … ┆ 713       ┆ 388       ┆ 325       ┆ 1        │\n",
       "│            ┆            ┆ x84Mi\\x04 ┆         ┆   ┆           ┆           ┆           ┆          │\n",
       "│            ┆            ┆ \\xde\\x9a\\ ┆         ┆   ┆           ┆           ┆           ┆          │\n",
       "│            ┆            ┆ xf8…      ┆         ┆   ┆           ┆           ┆           ┆          │\n",
       "└────────────┴────────────┴───────────┴─────────┴───┴───────────┴───────────┴───────────┴──────────┘"
      ]
     },
     "execution_count": 91,
     "metadata": {},
     "output_type": "execute_result"
    }
   ],
   "source": [
    "txs.head()"
   ]
  },
  {
   "cell_type": "markdown",
   "id": "c65b52b3-c922-48f1-8404-e5e6e6ae3a6b",
   "metadata": {},
   "source": [
    "## Balance"
   ]
  },
  {
   "cell_type": "code",
   "execution_count": null,
   "id": "c4ef4e4a-6153-4612-8b04-7d8c55a313c3",
   "metadata": {},
   "outputs": [],
   "source": []
  },
  {
   "cell_type": "code",
   "execution_count": 92,
   "id": "35c9c5d3-0184-4a6c-baa1-3e9b4c11fa7d",
   "metadata": {},
   "outputs": [],
   "source": [
    "# ERC20s\n",
    "USDT_ADDR =\"0xdac17f958d2ee523a2206206994597c13d831ec7\"\n",
    "USDC_ADDR=\"0xa0b86991c6218b36c1d19d4a2e9eb0ce3606eb48\" \n",
    "# WALLET = Binance 18\n",
    "RANDOM_WALLET=\"0xf70da97812CB96acDF810712Aa562db8dfA3dbEF\" \n",
    "# block \n",
    "BLOCKS=\"21922375\"\n"
   ]
  },
  {
   "cell_type": "code",
   "execution_count": 93,
   "id": "6d60d6ec-1e9e-4cf8-addc-203c1b2b0017",
   "metadata": {},
   "outputs": [],
   "source": [
    "usdc_balance = cryo.collect('erc20_balances', blocks=[BLOCKS], contract=['0xa0b86991c6218b36c1d19d4a2e9eb0ce3606eb48'], address=['0xf70da97812CB96acDF810712Aa562db8dfA3dbEF'], rpc='https://eth.merkle.io')"
   ]
  },
  {
   "cell_type": "code",
   "execution_count": 94,
   "id": "04dd2dd8-7c6c-4de3-ab99-a6763beaf9ce",
   "metadata": {},
   "outputs": [
    {
     "data": {
      "text/html": [
       "<div><style>\n",
       ".dataframe > thead > tr,\n",
       ".dataframe > tbody > tr {\n",
       "  text-align: right;\n",
       "  white-space: pre-wrap;\n",
       "}\n",
       "</style>\n",
       "<small>shape: (1, 7)</small><table border=\"1\" class=\"dataframe\"><thead><tr><th>block_number</th><th>erc20</th><th>address</th><th>balance_binary</th><th>balance_string</th><th>balance_f64</th><th>chain_id</th></tr><tr><td>u32</td><td>binary</td><td>binary</td><td>binary</td><td>str</td><td>f64</td><td>u64</td></tr></thead><tbody><tr><td>21945504</td><td>b&quot;\\xa0\\xb8i\\x91\\xc6!\\x8b6\\xc1\\xd1\\x9dJ.\\x9e\\xb0\\xce6\\x06\\xebH&quot;</td><td>b&quot;\\xf7\\x0d\\xa9x\\x12\\xcb\\x96\\xac\\xdf\\x81\\x07\\x12\\xaaV-\\xb8\\xdf\\xa3\\xdb\\xef&quot;</td><td>b&quot;\\x00\\x00\\x00\\x00\\x00\\x00\\x00\\x00\\x00\\x00\\x00\\x00\\x00\\x00\\x00\\x00\\x00\\x00\\x00\\x00\\x00\\x00\\x00\\x00\\x00\\x00\\x00:\\x86\\xfa\\xc9\\x8d&quot;</td><td>&quot;251372685709&quot;</td><td>2.5137e11</td><td>1</td></tr></tbody></table></div>"
      ],
      "text/plain": [
       "shape: (1, 7)\n",
       "┌──────────────┬──────────────┬──────────────┬──────────────┬─────────────┬─────────────┬──────────┐\n",
       "│ block_number ┆ erc20        ┆ address      ┆ balance_bina ┆ balance_str ┆ balance_f64 ┆ chain_id │\n",
       "│ ---          ┆ ---          ┆ ---          ┆ ry           ┆ ing         ┆ ---         ┆ ---      │\n",
       "│ u32          ┆ binary       ┆ binary       ┆ ---          ┆ ---         ┆ f64         ┆ u64      │\n",
       "│              ┆              ┆              ┆ binary       ┆ str         ┆             ┆          │\n",
       "╞══════════════╪══════════════╪══════════════╪══════════════╪═════════════╪═════════════╪══════════╡\n",
       "│ 21945504     ┆ b\"\\xa0\\xb8i\\ ┆ b\"\\xf7\\x0d\\x ┆ b\"\\x00\\x00\\x ┆ 25137268570 ┆ 2.5137e11   ┆ 1        │\n",
       "│              ┆ x91\\xc6!\\x8b ┆ a9x\\x12\\xcb\\ ┆ 00\\x00\\x00\\x ┆ 9           ┆             ┆          │\n",
       "│              ┆ 6\\xc1\\…      ┆ x96\\xa…      ┆ 00\\x00…      ┆             ┆             ┆          │\n",
       "└──────────────┴──────────────┴──────────────┴──────────────┴─────────────┴─────────────┴──────────┘"
      ]
     },
     "execution_count": 94,
     "metadata": {},
     "output_type": "execute_result"
    }
   ],
   "source": [
    "usdc_balance"
   ]
  },
  {
   "cell_type": "code",
   "execution_count": 95,
   "id": "e858e41a-d3ba-4f8f-b388-92af3a6f1844",
   "metadata": {},
   "outputs": [],
   "source": [
    "output_addr=usdc_balance['erc20'][0]"
   ]
  },
  {
   "cell_type": "code",
   "execution_count": 96,
   "id": "501c6e3e-9193-4bf3-95fa-86a9b63db82a",
   "metadata": {},
   "outputs": [
    {
     "data": {
      "text/plain": [
       "'a0b86991c6218b36c1d19d4a2e9eb0ce3606eb48'"
      ]
     },
     "execution_count": 96,
     "metadata": {},
     "output_type": "execute_result"
    }
   ],
   "source": [
    "output_addr.hex()"
   ]
  },
  {
   "cell_type": "code",
   "execution_count": 97,
   "id": "3b93fb52-1a8c-4204-b85f-7f34edac77db",
   "metadata": {},
   "outputs": [
    {
     "data": {
      "text/plain": [
       "'f70da97812cb96acdf810712aa562db8dfa3dbef'"
      ]
     },
     "execution_count": 97,
     "metadata": {},
     "output_type": "execute_result"
    }
   ],
   "source": [
    "usdc_balance['address'][0].hex()"
   ]
  },
  {
   "cell_type": "code",
   "execution_count": 98,
   "id": "f63c87bf-b93b-47b5-8c0b-011346d6dab7",
   "metadata": {},
   "outputs": [
    {
     "data": {
      "text/plain": [
       "b'\\x00\\x00\\x00\\x00\\x00\\x00\\x00\\x00\\x00\\x00\\x00\\x00\\x00\\x00\\x00\\x00\\x00\\x00\\x00\\x00\\x00\\x00\\x00\\x00\\x00\\x00\\x00:\\x86\\xfa\\xc9\\x8d'"
      ]
     },
     "execution_count": 98,
     "metadata": {},
     "output_type": "execute_result"
    }
   ],
   "source": [
    "usdc_balance['balance_binary'][0]"
   ]
  },
  {
   "cell_type": "code",
   "execution_count": 99,
   "id": "94359eba-9544-464e-8664-1005a3036d05",
   "metadata": {},
   "outputs": [],
   "source": [
    "balance= usdc_balance['balance_binary'][0]"
   ]
  },
  {
   "cell_type": "code",
   "execution_count": 101,
   "id": "209fd1fe-2c89-4adc-9407-bdf712a9d939",
   "metadata": {},
   "outputs": [
    {
     "data": {
      "text/plain": [
       "251372685709"
      ]
     },
     "execution_count": 101,
     "metadata": {},
     "output_type": "execute_result"
    }
   ],
   "source": [
    "int((balance).hex(),16)"
   ]
  },
  {
   "cell_type": "code",
   "execution_count": 102,
   "id": "28f603db-ed75-4e1e-a312-1cf153eb953c",
   "metadata": {},
   "outputs": [
    {
     "data": {
      "text/plain": [
       "'251372685709'"
      ]
     },
     "execution_count": 102,
     "metadata": {},
     "output_type": "execute_result"
    }
   ],
   "source": [
    "usdc_balance['balance_string'][0]"
   ]
  },
  {
   "cell_type": "code",
   "execution_count": 103,
   "id": "f487558e-2b55-403f-b07b-30df50ec9274",
   "metadata": {},
   "outputs": [],
   "source": [
    "balance_raw = decode(['uint256'], usdc_balance['balance_binary'][0])"
   ]
  },
  {
   "cell_type": "code",
   "execution_count": 104,
   "id": "cc72c6d6-8b18-48d6-ae56-9f10642b347c",
   "metadata": {},
   "outputs": [
    {
     "data": {
      "text/plain": [
       "(251372685709,)"
      ]
     },
     "execution_count": 104,
     "metadata": {},
     "output_type": "execute_result"
    }
   ],
   "source": [
    "balance_raw"
   ]
  },
  {
   "cell_type": "code",
   "execution_count": 105,
   "id": "88719c24-f313-46d6-8a79-c74ea19ad75c",
   "metadata": {},
   "outputs": [
    {
     "data": {
      "text/plain": [
       "251372.685709"
      ]
     },
     "execution_count": 105,
     "metadata": {},
     "output_type": "execute_result"
    }
   ],
   "source": [
    " balance_raw[0] / 10**6"
   ]
  },
  {
   "cell_type": "code",
   "execution_count": 106,
   "id": "32b2ff22-4dfb-412e-af06-993572de0efe",
   "metadata": {},
   "outputs": [],
   "source": [
    "# BLOCKS=\"21922375\" >> usdc 472,885.333888"
   ]
  },
  {
   "cell_type": "markdown",
   "id": "096969bf-58fb-4d7d-8088-f1c601d4e09c",
   "metadata": {},
   "source": [
    "## Aave Pools Data"
   ]
  },
  {
   "cell_type": "code",
   "execution_count": 107,
   "id": "03383f7f-88be-4453-844d-d1444592e85c",
   "metadata": {},
   "outputs": [],
   "source": [
    "#  AAVE\n",
    "# https://etherscan.io/address/0x87870bca3f3fd6335c3f4ce8392d69350b4fa4e2#readProxyContract"
   ]
  },
  {
   "cell_type": "code",
   "execution_count": 296,
   "id": "6615c0fb-d8c3-4f57-a74a-809c2a3f1c8c",
   "metadata": {},
   "outputs": [],
   "source": [
    "MULTICALL3_ADDRESS = '0xcA11bde05977b3631167028862bE2a173976CA11'\n",
    "MULTICALL3_ABI=json.loads('[{\"inputs\":[{\"internalType\":\"bool\",\"name\":\"requireSuccess\",\"type\":\"bool\"},{\"components\":[{\"internalType\":\"address\",\"name\":\"target\",\"type\":\"address\"},{\"internalType\":\"bytes\",\"name\":\"callData\",\"type\":\"bytes\"}],\"internalType\":\"struct Multicall3.Call[]\",\"name\":\"calls\",\"type\":\"tuple[]\"}],\"name\":\"tryAggregate\",\"outputs\":[{\"components\":[{\"internalType\":\"bool\",\"name\":\"success\",\"type\":\"bool\"},{\"internalType\":\"bytes\",\"name\":\"returnData\",\"type\":\"bytes\"}],\"internalType\":\"struct Multicall3.Result[]\",\"name\":\"returnData\",\"type\":\"tuple[]\"}],\"stateMutability\":\"payable\",\"type\":\"function\"}]')"
   ]
  },
  {
   "cell_type": "code",
   "execution_count": 297,
   "id": "fb81327b-d14f-4b93-81ef-5fa4e04858c2",
   "metadata": {},
   "outputs": [],
   "source": [
    "AAVE_POOL_PROVIDER_ADDRESS = \"0x2f39d218133AFaB8F2B819B1066c7E434Ad94E9e\"\n",
    "AAVE_POOL_DATA_PROVIDER_ADDRESS = \"0x7B4EB56E7CD4b454BA8ff71E4518426369a138a3\"\n",
    "RATE_STRATEGY_V2= \"0x9ec6F08190DeA04A54f8Afc53Db96134e5E3FdFB\"\n",
    "DAI_ADDRESS = \"0x6b175474e89094c44da98b954eedeac495271d0f\"  # DAI on Ethereum Mainnet\n",
    "WETH_ADDRESS = '0xC02aaA39b223FE8D0A0e5C4F27eAD9083C756Cc2'  # WETH\n",
    "USDC_ADDRESS = '0xA0b86991c6218b36c1d19D4a2e9Eb0cE3606eB48'   # USDC"
   ]
  },
  {
   "cell_type": "code",
   "execution_count": 298,
   "id": "aa267162-c4c5-467c-bc2e-396d6146b774",
   "metadata": {},
   "outputs": [],
   "source": [
    "AAVE_POOL_DATA_PROVIDER_ABI = json.loads('[{\"inputs\":[{\"internalType\":\"address\",\"name\":\"asset\",\"type\":\"address\"}],\"name\":\"getReserveData\",\"outputs\":[{\"internalType\":\"uint256\",\"name\":\"unbacked\",\"type\":\"uint256\"},{\"internalType\":\"uint256\",\"name\":\"accruedToTreasuryScaled\",\"type\":\"uint256\"},{\"internalType\":\"uint256\",\"name\":\"totalAToken\",\"type\":\"uint256\"},{\"internalType\":\"uint256\",\"name\":\"totalStableDebt\",\"type\":\"uint256\"},{\"internalType\":\"uint256\",\"name\":\"totalVariableDebt\",\"type\":\"uint256\"},{\"internalType\":\"uint256\",\"name\":\"liquidityRate\",\"type\":\"uint256\"},{\"internalType\":\"uint256\",\"name\":\"variableBorrowRate\",\"type\":\"uint256\"},{\"internalType\":\"uint256\",\"name\":\"stableBorrowRate\",\"type\":\"uint256\"},{\"internalType\":\"uint256\",\"name\":\"averageStableBorrowRate\",\"type\":\"uint256\"},{\"internalType\":\"uint256\",\"name\":\"liquidityIndex\",\"type\":\"uint256\"},{\"internalType\":\"uint256\",\"name\":\"variableBorrowIndex\",\"type\":\"uint256\"},{\"internalType\":\"uint40\",\"name\":\"lastUpdateTimestamp\",\"type\":\"uint40\"}],\"stateMutability\":\"view\",\"type\":\"function\"},{\"inputs\":[{\"internalType\":\"address\",\"name\":\"asset\",\"type\":\"address\"}],\"name\":\"getReserveTokensAddresses\",\"outputs\":[{\"internalType\":\"address\",\"name\":\"aTokenAddress\",\"type\":\"address\"},{\"internalType\":\"address\",\"name\":\"stableDebtTokenAddress\",\"type\":\"address\"},{\"internalType\":\"address\",\"name\":\"variableDebtTokenAddress\",\"type\":\"address\"}],\"stateMutability\":\"view\",\"type\":\"function\"},{\"inputs\":[],\"name\":\"getAllReservesTokens\",\"outputs\":[{\"components\":[{\"internalType\":\"string\",\"name\":\"symbol\",\"type\":\"string\"},{\"internalType\":\"address\",\"name\":\"tokenAddress\",\"type\":\"address\"}],\"internalType\":\"struct IPoolDataProvider.TokenData[]\",\"name\":\"\",\"type\":\"tuple[]\"}],\"stateMutability\":\"view\",\"type\":\"function\"}]')\n"
   ]
  },
  {
   "cell_type": "code",
   "execution_count": 299,
   "id": "46b7c887-af26-43eb-9a35-361f87be8f44",
   "metadata": {},
   "outputs": [],
   "source": [
    "# Funct Sig\n",
    "getAllReservesTokens_4b='b316ff89'\n",
    "getReserveData_4b='35ea6a75'\n",
    "getReserveTokensAddresses_4b='d2493b6c'"
   ]
  },
  {
   "cell_type": "code",
   "execution_count": 300,
   "id": "e04b74c1-f890-4d46-8e88-e5bbfcc4a52a",
   "metadata": {},
   "outputs": [],
   "source": [
    "# getReserveData(address) method Response ]\n",
    "#   unbacked   uint256 :  0\n",
    "#   accruedToTreasuryScaled   uint256 :  23618787780361774928\n",
    "#   totalAToken   uint256 :  2039801843604753838311618\n",
    "#   totalStableDebt   uint256 :  0\n",
    "#   totalVariableDebt   uint256 :  1764755511852628454833269\n",
    "#   liquidityRate   uint256 :  19086348066645041248157072\n",
    "#   variableBorrowRate   uint256 :  25954495065727705440586566\n",
    "#   stableBorrowRate   uint256 :  0\n",
    "#   averageStableBorrowRate   uint256 :  0\n",
    "#   liquidityIndex   uint256 :  1040724217363078276332975414\n",
    "#   variableBorrowIndex   uint256 :  1064692592486700566822429320\n",
    "#   lastUpdateTimestamp   uint40 :  1740762059\n",
    "\n",
    "# unbacked, accruedToTreasuryScaled, totalAToken, totalStableDebt, totalVariableDebt, liquidityRate,variableBorrowRate,stableBorrowRate,averageStableBorrowRate,liquidityIndex,variableBorrowIndex,lastUpdateTimestamp\n",
    "\n",
    "# output_types = ['int256', 'uint256', 'uint256', 'uint256', 'uint256', 'uint256', 'uint256', 'uint256', 'uint256', 'uint256', 'uint256', 'uint40']"
   ]
  },
  {
   "cell_type": "code",
   "execution_count": 301,
   "id": "b25d61dd-efd0-462e-90ce-9b0af8a01ce2",
   "metadata": {},
   "outputs": [],
   "source": [
    "# web3 instance, function from web3py\n",
    "w3 = web3.Web3()\n",
    "a3 = w3.eth.contract(address = AAVE_POOL_DATA_PROVIDER, abi=AAVE_POOL_DATA_PROVIDER_ABI)\n",
    "m3 = w3.eth.contract(address = MULTICALL3_ADDRESS, abi=MULTICALL3_ABI)"
   ]
  },
  {
   "cell_type": "code",
   "execution_count": 302,
   "id": "28f35bda-89cc-403a-8b36-98edaf505953",
   "metadata": {},
   "outputs": [],
   "source": [
    "tokens = [\n",
    "    '0x6B175474E89094C44Da98b954EedeAC495271d0F',  # DAI\n",
    "    '0xC02aaA39b223FE8D0A0e5C4F27eAD9083C756Cc2',  # WETH\n",
    "    '0xA0b86991c6218b36c1d19D4a2e9Eb0cE3606eB48'   # USDC\n",
    "]"
   ]
  },
  {
   "cell_type": "code",
   "execution_count": 303,
   "id": "e7e60ba9-7257-4620-a0cf-2881dc38cdc1",
   "metadata": {},
   "outputs": [],
   "source": [
    "calls = []\n",
    "for token in tokens:\n",
    "    # Encode the call to getReserveData for this token\n",
    "    calldata = a3.encode_abi(\"getReserveData\", args=[token])\n",
    "    calls.append([AAVE_POOL_DATA_PROVIDER_ADDRESS, calldata])"
   ]
  },
  {
   "cell_type": "code",
   "execution_count": 304,
   "id": "3b23ef9d-66dc-45a6-add9-c072cad486c0",
   "metadata": {},
   "outputs": [
    {
     "data": {
      "text/plain": [
       "[['0x7B4EB56E7CD4b454BA8ff71E4518426369a138a3',\n",
       "  '0x35ea6a750000000000000000000000006b175474e89094c44da98b954eedeac495271d0f'],\n",
       " ['0x7B4EB56E7CD4b454BA8ff71E4518426369a138a3',\n",
       "  '0x35ea6a75000000000000000000000000c02aaa39b223fe8d0a0e5c4f27ead9083c756cc2'],\n",
       " ['0x7B4EB56E7CD4b454BA8ff71E4518426369a138a3',\n",
       "  '0x35ea6a75000000000000000000000000a0b86991c6218b36c1d19d4a2e9eb0ce3606eb48']]"
      ]
     },
     "execution_count": 304,
     "metadata": {},
     "output_type": "execute_result"
    }
   ],
   "source": [
    "calls"
   ]
  },
  {
   "cell_type": "code",
   "execution_count": 305,
   "id": "f0ad1451-f2ca-41a2-8db0-458987b74782",
   "metadata": {},
   "outputs": [],
   "source": [
    "# result = m3.functions.tryAggregate(False, calls).call()\n",
    "calldata_aave_pool = m3.encode_abi(\"tryAggregate\", args=[False, calls])"
   ]
  },
  {
   "cell_type": "code",
   "execution_count": 306,
   "id": "6f6b788d-08ea-490a-8c14-ace474d0e13f",
   "metadata": {},
   "outputs": [],
   "source": [
    "cryo_kwargs = {\n",
    "    'rpc': 'https://eth.merkle.io',\n",
    "    'blocks': ['latest'], \n",
    "}\n",
    "            \n",
    "eth_call_df = cryo.collect(\n",
    "    'eth_calls',\n",
    "    to_address = [MULTICALL3_ADDRESS],\n",
    "    call_data=[calldata_aave_pool],\n",
    "     output_format=\"polars\",\n",
    "    **cryo_kwargs,\n",
    ")"
   ]
  },
  {
   "cell_type": "code",
   "execution_count": 307,
   "id": "d490369f-c51d-4f61-8769-68111a1c9f3c",
   "metadata": {},
   "outputs": [],
   "source": [
    "calldata = eth_call_df['output_data'][0]"
   ]
  },
  {
   "cell_type": "code",
   "execution_count": 308,
   "id": "9b874c7a-679e-4e9f-b90f-73d2464ff2b2",
   "metadata": {},
   "outputs": [],
   "source": [
    "decoded_data = decode(['(bool,bytes)[]'] , calldata)[0]"
   ]
  },
  {
   "cell_type": "code",
   "execution_count": 309,
   "id": "be6bd17e-cf33-4919-98f0-60096fd153ae",
   "metadata": {},
   "outputs": [
    {
     "data": {
      "text/plain": [
       "((True,\n",
       "  b'\\x00\\x00\\x00\\x00\\x00\\x00\\x00\\x00\\x00\\x00\\x00\\x00\\x00\\x00\\x00\\x00\\x00\\x00\\x00\\x00\\x00\\x00\\x00\\x00\\x00\\x00\\x00\\x00\\x00\\x00\\x00\\x00\\x00\\x00\\x00\\x00\\x00\\x00\\x00\\x00\\x00\\x00\\x00\\x00\\x00\\x00\\x00\\x00\\x00\\x00\\x00\\x00\\x00\\x00\\x01\\x8a\\x13\\x04^s\\xc9\\x95}\\xff\\x00\\x00\\x00\\x00\\x00\\x00\\x00\\x00\\x00\\x00\\x00\\x00\\x00\\x00\\x00\\x00\\x00\\x00\\x00\\x00\\x00\\x8awV\\x17\\xce\\xd5\\x18\\xfcAOV\\x00\\x00\\x00\\x00\\x00\\x00\\x00\\x00\\x00\\x00\\x00\\x00\\x00\\x00\\x00\\x00\\x00\\x00\\x00\\x00\\x00\\x00\\x00\\x00\\x00\\x00\\x00\\x00\\x00\\x00\\x00\\x00\\x00\\x00\\x00\\x00\\x00\\x00\\x00\\x00\\x00\\x00\\x00\\x00\\x00\\x00\\x00\\x00\\x00\\x00\\x00\\x00\\x00g\\x93#eW3/ \\x89\\xdf,\\x00\\x00\\x00\\x00\\x00\\x00\\x00\\x00\\x00\\x00\\x00\\x00\\x00\\x00\\x00\\x00\\x00\\x00\\x00\\x00\\x00#\\xd7,\\xb1\\xc9\\xc2\\x16\\x89\\x99\\xcf\\xe1\\x00\\x00\\x00\\x00\\x00\\x00\\x00\\x00\\x00\\x00\\x00\\x00\\x00\\x00\\x00\\x00\\x00\\x00\\x00\\x00\\x00?\\xe3\\x87J\\xf4,\\\\5c\\xf6\\x11\\x00\\x00\\x00\\x00\\x00\\x00\\x00\\x00\\x00\\x00\\x00\\x00\\x00\\x00\\x00\\x00\\x00\\x00\\x00\\x00\\x00\\x00\\x00\\x00\\x00\\x00\\x00\\x00\\x00\\x00\\x00\\x00\\x00\\x00\\x00\\x00\\x00\\x00\\x00\\x00\\x00\\x00\\x00\\x00\\x00\\x00\\x00\\x00\\x00\\x00\\x00\\x00\\x00\\x00\\x00\\x00\\x00\\x00\\x00\\x00\\x00\\x00\\x00\\x00\\x00\\x00\\x00\\x00\\x00\\x00\\x00\\x00\\x00\\x00\\x00\\x00\\x00\\x00\\x00\\x00\\x00\\x00\\x00\\x00\\x03\\x9d<l\\x06\\x076w\\t\\x96\\x0f\\xb3\\x00\\x00\\x00\\x00\\x00\\x00\\x00\\x00\\x00\\x00\\x00\\x00\\x00\\x00\\x00\\x00\\x00\\x00\\x00\\x00\\x03\\xca<o\\x16\\x85\\xf0<.\\xa6\\xc5(\\x00\\x00\\x00\\x00\\x00\\x00\\x00\\x00\\x00\\x00\\x00\\x00\\x00\\x00\\x00\\x00\\x00\\x00\\x00\\x00\\x00\\x00\\x00\\x00\\x00\\x00\\x00\\x00g\\xc2#K'),\n",
       " (True,\n",
       "  b'\\x00\\x00\\x00\\x00\\x00\\x00\\x00\\x00\\x00\\x00\\x00\\x00\\x00\\x00\\x00\\x00\\x00\\x00\\x00\\x00\\x00\\x00\\x00\\x00\\x00\\x00\\x00\\x00\\x00\\x00\\x00\\x00\\x00\\x00\\x00\\x00\\x00\\x00\\x00\\x00\\x00\\x00\\x00\\x00\\x00\\x00\\x00\\x00\\x00\\x00\\x00\\x00\\x00\\x00\\x00\\x01t]\\\\\\xbe/p\\x89K\\x00\\x00\\x00\\x00\\x00\\x00\\x00\\x00\\x00\\x00\\x00\\x00\\x00\\x00\\x00\\x00\\x00\\x00\\x00\\x00\\x00\\x01\\xb2\\x8f\\xec\\x88?\\xa8\\x99`\\xa9p\\x00\\x00\\x00\\x00\\x00\\x00\\x00\\x00\\x00\\x00\\x00\\x00\\x00\\x00\\x00\\x00\\x00\\x00\\x00\\x00\\x00\\x00\\x00\\x00\\x00\\x00\\x00\\x00\\x00\\x00\\x00\\x00\\x00\\x00\\x00\\x00\\x00\\x00\\x00\\x00\\x00\\x00\\x00\\x00\\x00\\x00\\x00\\x00\\x00\\x00\\x00\\x00\\x00\\x01u\\xae\\x99\\xd2fM\\xdbN[@\\x00\\x00\\x00\\x00\\x00\\x00\\x00\\x00\\x00\\x00\\x00\\x00\\x00\\x00\\x00\\x00\\x00\\x00\\x00\\x00\\x00\\x0f\\x98\\xb9#\\xbe8P\\xd68\\xd3\\x81\\x00\\x00\\x00\\x00\\x00\\x00\\x00\\x00\\x00\\x00\\x00\\x00\\x00\\x00\\x00\\x00\\x00\\x00\\x00\\x00\\x00\\x15V\\xae\\x99\\xcf\\x10Y\\xcd\\xb7\\xe4&\\x00\\x00\\x00\\x00\\x00\\x00\\x00\\x00\\x00\\x00\\x00\\x00\\x00\\x00\\x00\\x00\\x00\\x00\\x00\\x00\\x00\\x00\\x00\\x00\\x00\\x00\\x00\\x00\\x00\\x00\\x00\\x00\\x00\\x00\\x00\\x00\\x00\\x00\\x00\\x00\\x00\\x00\\x00\\x00\\x00\\x00\\x00\\x00\\x00\\x00\\x00\\x00\\x00\\x00\\x00\\x00\\x00\\x00\\x00\\x00\\x00\\x00\\x00\\x00\\x00\\x00\\x00\\x00\\x00\\x00\\x00\\x00\\x00\\x00\\x00\\x00\\x00\\x00\\x00\\x00\\x00\\x00\\x00\\x00\\x03\\\\\\xe0\\x08\\xa1{\\xdbZj\\xf9\\xcf\\x9d\\x00\\x00\\x00\\x00\\x00\\x00\\x00\\x00\\x00\\x00\\x00\\x00\\x00\\x00\\x00\\x00\\x00\\x00\\x00\\x00\\x03p\\xb4F\\x0el%%V\\x7f\\xc3\\xa5\\x00\\x00\\x00\\x00\\x00\\x00\\x00\\x00\\x00\\x00\\x00\\x00\\x00\\x00\\x00\\x00\\x00\\x00\\x00\\x00\\x00\\x00\\x00\\x00\\x00\\x00\\x00\\x00g\\xc2(\\x1f'),\n",
       " (True,\n",
       "  b'\\x00\\x00\\x00\\x00\\x00\\x00\\x00\\x00\\x00\\x00\\x00\\x00\\x00\\x00\\x00\\x00\\x00\\x00\\x00\\x00\\x00\\x00\\x00\\x00\\x00\\x00\\x00\\x00\\x00\\x00\\x00\\x00\\x00\\x00\\x00\\x00\\x00\\x00\\x00\\x00\\x00\\x00\\x00\\x00\\x00\\x00\\x00\\x00\\x00\\x00\\x00\\x00\\x00\\x00\\x00\\x00\\x00\\x00\\x00\\x0b\\x9b3rt\\x00\\x00\\x00\\x00\\x00\\x00\\x00\\x00\\x00\\x00\\x00\\x00\\x00\\x00\\x00\\x00\\x00\\x00\\x00\\x00\\x00\\x00\\x00\\x00\\x00\\n\\xaeL\\xd3\\x9e(\\xdd\\x00\\x00\\x00\\x00\\x00\\x00\\x00\\x00\\x00\\x00\\x00\\x00\\x00\\x00\\x00\\x00\\x00\\x00\\x00\\x00\\x00\\x00\\x00\\x00\\x00\\x00\\x00\\x00\\x00\\x00\\x00\\x00\\x00\\x00\\x00\\x00\\x00\\x00\\x00\\x00\\x00\\x00\\x00\\x00\\x00\\x00\\x00\\x00\\x00\\x00\\x00\\x00\\x00\\x00\\x00\\x00\\x00\\x06\\x82\\xa9\\x01zj,\\x00\\x00\\x00\\x00\\x00\\x00\\x00\\x00\\x00\\x00\\x00\\x00\\x00\\x00\\x00\\x00\\x00\\x00\\x00\\x00\\x00\\x1c\\x8fu\\xe4Eh\\xcf\\xc3\\x816\\xd8\\x00\\x00\\x00\\x00\\x00\\x00\\x00\\x00\\x00\\x00\\x00\\x00\\x00\\x00\\x00\\x00\\x00\\x00\\x00\\x00\\x004\\x10\\x1es\\x90\\x10^9n\\xc5\\xe6\\x00\\x00\\x00\\x00\\x00\\x00\\x00\\x00\\x00\\x00\\x00\\x00\\x00\\x00\\x00\\x00\\x00\\x00\\x00\\x00\\x00\\x00\\x00\\x00\\x00\\x00\\x00\\x00\\x00\\x00\\x00\\x00\\x00\\x00\\x00\\x00\\x00\\x00\\x00\\x00\\x00\\x00\\x00\\x00\\x00\\x00\\x00\\x00\\x00\\x00\\x00\\x00\\x00\\x00\\x00\\x00\\x00\\x00\\x00\\x00\\x00\\x00\\x00\\x00\\x00\\x00\\x00\\x00\\x00\\x00\\x00\\x00\\x00\\x00\\x00\\x00\\x00\\x00\\x00\\x00\\x00\\x00\\x00\\x00\\x03\\xa05v\\x8f/#\\r\\x886I=\\x00\\x00\\x00\\x00\\x00\\x00\\x00\\x00\\x00\\x00\\x00\\x00\\x00\\x00\\x00\\x00\\x00\\x00\\x00\\x00\\x03\\xbf0\\x1a\\xbcA\\xb9\\x9c\\x17\\xc7`\\xd6\\x00\\x00\\x00\\x00\\x00\\x00\\x00\\x00\\x00\\x00\\x00\\x00\\x00\\x00\\x00\\x00\\x00\\x00\\x00\\x00\\x00\\x00\\x00\\x00\\x00\\x00\\x00\\x00g\\xc2(\\x07'))"
      ]
     },
     "execution_count": 309,
     "metadata": {},
     "output_type": "execute_result"
    }
   ],
   "source": [
    "decoded_data"
   ]
  },
  {
   "cell_type": "code",
   "execution_count": 311,
   "id": "18cf95cc-2a35-48c2-8ecb-c45c382148e4",
   "metadata": {},
   "outputs": [],
   "source": [
    "token_data = {\n",
    "    'DAI_RESERVE_DATA': [],\n",
    "    'WETH_RESERVE_DATA': [],\n",
    "    'USDC_RESERVE_DATA': []\n",
    "}"
   ]
  },
  {
   "cell_type": "markdown",
   "id": "4bea1078-628d-468a-b10b-142714f657fd",
   "metadata": {},
   "source": [
    "#### DAI Pools Data"
   ]
  },
  {
   "cell_type": "code",
   "execution_count": 312,
   "id": "14468094-1249-4228-bd12-a1c13812afd4",
   "metadata": {},
   "outputs": [],
   "source": [
    "dai_reserve_data = decoded_data[0]"
   ]
  },
  {
   "cell_type": "code",
   "execution_count": 313,
   "id": "85631b62-394f-4c81-b784-d15595535d0c",
   "metadata": {},
   "outputs": [],
   "source": [
    "data_dai=decode(['int256', 'uint256', 'uint256', 'uint256', 'uint256', 'uint256', 'uint256', 'uint256', 'uint256', 'uint256', 'uint256', 'uint40'],dai_reserve_data[1])"
   ]
  },
  {
   "cell_type": "code",
   "execution_count": 314,
   "id": "37c357ca-cd86-402a-954b-62f44d9e01b2",
   "metadata": {},
   "outputs": [],
   "source": [
    "token_data['DAI_RESERVE_DATA'] = list(data_dai)"
   ]
  },
  {
   "cell_type": "code",
   "execution_count": 315,
   "id": "832522dc-d562-466f-a208-c79338daf9dc",
   "metadata": {},
   "outputs": [
    {
     "data": {
      "text/plain": [
       "{'DAI_RESERVE_DATA': [0,\n",
       "  7269387489079587077631,\n",
       "  167395312853813464274128726,\n",
       "  0,\n",
       "  125214200231692820982390572,\n",
       "  43328536948052255141646305,\n",
       "  77236799538773625927890449,\n",
       "  0,\n",
       "  0,\n",
       "  1118541717815239899901988787,\n",
       "  1172943436226722041946359080,\n",
       "  1740776267],\n",
       " 'WETH_RESERVE_DATA': [],\n",
       " 'USDC_RESERVE_DATA': []}"
      ]
     },
     "execution_count": 315,
     "metadata": {},
     "output_type": "execute_result"
    }
   ],
   "source": [
    "token_data"
   ]
  },
  {
   "cell_type": "code",
   "execution_count": 244,
   "id": "b9ffc9bb-4754-4856-8127-c9a9b0a101a6",
   "metadata": {},
   "outputs": [],
   "source": [
    "# [unbacked, accruedToTreasuryScaled, totalAToken, totalStableDebt, totalVariableDebt, liquidityRate,variableBorrowRate,stableBorrowRate,averageStableBorrowRate,liquidityIndex,variableBorrowIndex,lastUpdateTimestamp\n",
    "# ]=decode(['int256', 'uint256', 'uint256', 'uint256', 'uint256', 'uint256', 'uint256', 'uint256', 'uint256', 'uint256', 'uint256', 'uint40'],dai_reserve_data[1])"
   ]
  },
  {
   "cell_type": "markdown",
   "id": "2d7a5094-4c6a-4e1e-bcc1-4403bb079828",
   "metadata": {},
   "source": [
    "####  WETH Pools Data"
   ]
  },
  {
   "cell_type": "code",
   "execution_count": 316,
   "id": "12311116-ea82-418c-a6d2-2ab201a49a0e",
   "metadata": {},
   "outputs": [],
   "source": [
    "weth_reserve_data = decoded_data[1]"
   ]
  },
  {
   "cell_type": "code",
   "execution_count": 317,
   "id": "aea95842-8ebb-4e4e-a360-709468df42dc",
   "metadata": {},
   "outputs": [],
   "source": [
    "data_weth=decode(['int256', 'uint256', 'uint256', 'uint256', 'uint256', 'uint256', 'uint256', 'uint256', 'uint256', 'uint256', 'uint256', 'uint40'],weth_reserve_data[1])"
   ]
  },
  {
   "cell_type": "code",
   "execution_count": 318,
   "id": "046d7d6a-7ff6-462d-a536-5b65eb0d96b4",
   "metadata": {},
   "outputs": [],
   "source": [
    "token_data['WETH_RESERVE_DATA'] = list(data_weth)"
   ]
  },
  {
   "cell_type": "code",
   "execution_count": 255,
   "id": "654ec92b-fbf1-4221-9c50-17696724afb1",
   "metadata": {},
   "outputs": [],
   "source": [
    "# [unbacked, accruedToTreasuryScaled, totalAToken, totalStableDebt, totalVariableDebt, liquidityRate,variableBorrowRate,stableBorrowRate,averageStableBorrowRate,liquidityIndex,variableBorrowIndex,lastUpdateTimestamp\n",
    "# ]=decode(['int256', 'uint256', 'uint256', 'uint256', 'uint256', 'uint256', 'uint256', 'uint256', 'uint256', 'uint256', 'uint256', 'uint40'],weth_reserve_data[1])"
   ]
  },
  {
   "cell_type": "code",
   "execution_count": 319,
   "id": "7fb75b7d-5896-458b-a148-0138345b2f50",
   "metadata": {},
   "outputs": [
    {
     "data": {
      "text/plain": [
       "{'DAI_RESERVE_DATA': [0,\n",
       "  7269387489079587077631,\n",
       "  167395312853813464274128726,\n",
       "  0,\n",
       "  125214200231692820982390572,\n",
       "  43328536948052255141646305,\n",
       "  77236799538773625927890449,\n",
       "  0,\n",
       "  0,\n",
       "  1118541717815239899901988787,\n",
       "  1172943436226722041946359080,\n",
       "  1740776267],\n",
       " 'WETH_RESERVE_DATA': [0,\n",
       "  26831704126852729163,\n",
       "  2052161981910749632571760,\n",
       "  0,\n",
       "  1764663515613320616762176,\n",
       "  18855102222827216705213313,\n",
       "  25796786545998013490783270,\n",
       "  0,\n",
       "  0,\n",
       "  1040734174170831724081696669,\n",
       "  1064706039539121825859486629,\n",
       "  1740777503],\n",
       " 'USDC_RESERVE_DATA': []}"
      ]
     },
     "execution_count": 319,
     "metadata": {},
     "output_type": "execute_result"
    }
   ],
   "source": [
    "token_data"
   ]
  },
  {
   "cell_type": "markdown",
   "id": "3f86a9af-0066-4cd0-a834-d7b1c9b870f3",
   "metadata": {},
   "source": [
    "####  USDC Pools Data"
   ]
  },
  {
   "cell_type": "code",
   "execution_count": 320,
   "id": "4b417a52-93d9-4252-8d12-78346f4e5f68",
   "metadata": {},
   "outputs": [],
   "source": [
    "usdc_reserve_data = decoded_data[2]"
   ]
  },
  {
   "cell_type": "code",
   "execution_count": 321,
   "id": "9c5a375a-c140-4701-964e-ea18da88cb90",
   "metadata": {},
   "outputs": [],
   "source": [
    "data_usdc=decode(['int256', 'uint256', 'uint256', 'uint256', 'uint256', 'uint256', 'uint256', 'uint256', 'uint256', 'uint256', 'uint256', 'uint40'],usdc_reserve_data[1])"
   ]
  },
  {
   "cell_type": "code",
   "execution_count": 322,
   "id": "ce01c52c-8782-419d-9b31-fdb14a74c7c6",
   "metadata": {},
   "outputs": [],
   "source": [
    "token_data['USDC_RESERVE_DATA'] = list(data_usdc)"
   ]
  },
  {
   "cell_type": "code",
   "execution_count": 286,
   "id": "f51e67ed-5479-406c-acee-e98e4345a3da",
   "metadata": {},
   "outputs": [],
   "source": [
    "# [unbacked, accruedToTreasuryScaled, totalAToken, totalStableDebt, totalVariableDebt, liquidityRate,variableBorrowRate,stableBorrowRate,averageStableBorrowRate,liquidityIndex,variableBorrowIndex,lastUpdateTimestamp\n",
    "# ]=decode(['int256', 'uint256', 'uint256', 'uint256', 'uint256', 'uint256', 'uint256', 'uint256', 'uint256', 'uint256', 'uint256', 'uint40'],usdc_reserve_data[1])"
   ]
  },
  {
   "cell_type": "code",
   "execution_count": 352,
   "id": "99272d56-4454-409e-8347-5cc44c158451",
   "metadata": {},
   "outputs": [
    {
     "data": {
      "text/plain": [
       "{'DAI_RESERVE_DATA': [0,\n",
       "  7269387489079587077631,\n",
       "  167395312853813464274128726,\n",
       "  0,\n",
       "  125214200231692820982390572,\n",
       "  43328536948052255141646305,\n",
       "  77236799538773625927890449,\n",
       "  0,\n",
       "  0,\n",
       "  1118541717815239899901988787,\n",
       "  1172943436226722041946359080,\n",
       "  1740776267],\n",
       " 'WETH_RESERVE_DATA': [0,\n",
       "  26831704126852729163,\n",
       "  2052161981910749632571760,\n",
       "  0,\n",
       "  1764663515613320616762176,\n",
       "  18855102222827216705213313,\n",
       "  25796786545998013490783270,\n",
       "  0,\n",
       "  0,\n",
       "  1040734174170831724081696669,\n",
       "  1064706039539121825859486629,\n",
       "  1740777503],\n",
       " 'USDC_RESERVE_DATA': [0,\n",
       "  49848480372,\n",
       "  3006394758211805,\n",
       "  0,\n",
       "  1832512246147628,\n",
       "  34527396073985055763019480,\n",
       "  62940262213182550579267046,\n",
       "  0,\n",
       "  0,\n",
       "  1122135633059272475406649661,\n",
       "  1159587027782280670643445974,\n",
       "  1740777479]}"
      ]
     },
     "execution_count": 352,
     "metadata": {},
     "output_type": "execute_result"
    }
   ],
   "source": [
    "token_data"
   ]
  },
  {
   "cell_type": "markdown",
   "id": "623a33b4-0309-407e-a8a6-1422590d7751",
   "metadata": {},
   "source": [
    "### Aave Pool Data"
   ]
  },
  {
   "cell_type": "code",
   "execution_count": 391,
   "id": "73237ca1-975e-41f5-888c-ad138ca55582",
   "metadata": {},
   "outputs": [],
   "source": [
    "field_names = [\n",
    "    'unbacked', 'accruedToTreasuryScaled', 'totalAToken', 'totalStableDebt', \n",
    "    'totalVariableDebt', 'liquidityRate', 'variableBorrowRate', 'stableBorrowRate', \n",
    "    'averageStableBorrowRate', 'liquidityIndex', 'variableBorrowIndex', 'lastUpdateTimestamp'\n",
    "]"
   ]
  },
  {
   "cell_type": "code",
   "execution_count": 392,
   "id": "9d1b3da8-7c0c-4b73-8134-7de60823e8de",
   "metadata": {},
   "outputs": [],
   "source": [
    "df = pd.DataFrame(token_data, index=field_names)"
   ]
  },
  {
   "cell_type": "code",
   "execution_count": 393,
   "id": "ff3fecf1-358d-4877-965c-912ab0aee831",
   "metadata": {},
   "outputs": [
    {
     "data": {
      "text/html": [
       "<div>\n",
       "<style scoped>\n",
       "    .dataframe tbody tr th:only-of-type {\n",
       "        vertical-align: middle;\n",
       "    }\n",
       "\n",
       "    .dataframe tbody tr th {\n",
       "        vertical-align: top;\n",
       "    }\n",
       "\n",
       "    .dataframe thead th {\n",
       "        text-align: right;\n",
       "    }\n",
       "</style>\n",
       "<table border=\"1\" class=\"dataframe\">\n",
       "  <thead>\n",
       "    <tr style=\"text-align: right;\">\n",
       "      <th></th>\n",
       "      <th>DAI_RESERVE_DATA</th>\n",
       "      <th>WETH_RESERVE_DATA</th>\n",
       "      <th>USDC_RESERVE_DATA</th>\n",
       "    </tr>\n",
       "  </thead>\n",
       "  <tbody>\n",
       "    <tr>\n",
       "      <th>unbacked</th>\n",
       "      <td>0</td>\n",
       "      <td>0</td>\n",
       "      <td>0</td>\n",
       "    </tr>\n",
       "    <tr>\n",
       "      <th>accruedToTreasuryScaled</th>\n",
       "      <td>7269387489079587077631</td>\n",
       "      <td>26831704126852729163</td>\n",
       "      <td>49848480372</td>\n",
       "    </tr>\n",
       "    <tr>\n",
       "      <th>totalAToken</th>\n",
       "      <td>167395312853813464274128726</td>\n",
       "      <td>2052161981910749632571760</td>\n",
       "      <td>3006394758211805</td>\n",
       "    </tr>\n",
       "    <tr>\n",
       "      <th>totalStableDebt</th>\n",
       "      <td>0</td>\n",
       "      <td>0</td>\n",
       "      <td>0</td>\n",
       "    </tr>\n",
       "    <tr>\n",
       "      <th>totalVariableDebt</th>\n",
       "      <td>125214200231692820982390572</td>\n",
       "      <td>1764663515613320616762176</td>\n",
       "      <td>1832512246147628</td>\n",
       "    </tr>\n",
       "    <tr>\n",
       "      <th>liquidityRate</th>\n",
       "      <td>43328536948052255141646305</td>\n",
       "      <td>18855102222827216705213313</td>\n",
       "      <td>34527396073985055763019480</td>\n",
       "    </tr>\n",
       "    <tr>\n",
       "      <th>variableBorrowRate</th>\n",
       "      <td>77236799538773625927890449</td>\n",
       "      <td>25796786545998013490783270</td>\n",
       "      <td>62940262213182550579267046</td>\n",
       "    </tr>\n",
       "    <tr>\n",
       "      <th>stableBorrowRate</th>\n",
       "      <td>0</td>\n",
       "      <td>0</td>\n",
       "      <td>0</td>\n",
       "    </tr>\n",
       "    <tr>\n",
       "      <th>averageStableBorrowRate</th>\n",
       "      <td>0</td>\n",
       "      <td>0</td>\n",
       "      <td>0</td>\n",
       "    </tr>\n",
       "    <tr>\n",
       "      <th>liquidityIndex</th>\n",
       "      <td>1118541717815239899901988787</td>\n",
       "      <td>1040734174170831724081696669</td>\n",
       "      <td>1122135633059272475406649661</td>\n",
       "    </tr>\n",
       "    <tr>\n",
       "      <th>variableBorrowIndex</th>\n",
       "      <td>1172943436226722041946359080</td>\n",
       "      <td>1064706039539121825859486629</td>\n",
       "      <td>1159587027782280670643445974</td>\n",
       "    </tr>\n",
       "    <tr>\n",
       "      <th>lastUpdateTimestamp</th>\n",
       "      <td>1740776267</td>\n",
       "      <td>1740777503</td>\n",
       "      <td>1740777479</td>\n",
       "    </tr>\n",
       "  </tbody>\n",
       "</table>\n",
       "</div>"
      ],
      "text/plain": [
       "                                     DAI_RESERVE_DATA  \\\n",
       "unbacked                                            0   \n",
       "accruedToTreasuryScaled        7269387489079587077631   \n",
       "totalAToken               167395312853813464274128726   \n",
       "totalStableDebt                                     0   \n",
       "totalVariableDebt         125214200231692820982390572   \n",
       "liquidityRate              43328536948052255141646305   \n",
       "variableBorrowRate         77236799538773625927890449   \n",
       "stableBorrowRate                                    0   \n",
       "averageStableBorrowRate                             0   \n",
       "liquidityIndex           1118541717815239899901988787   \n",
       "variableBorrowIndex      1172943436226722041946359080   \n",
       "lastUpdateTimestamp                        1740776267   \n",
       "\n",
       "                                    WETH_RESERVE_DATA  \\\n",
       "unbacked                                            0   \n",
       "accruedToTreasuryScaled          26831704126852729163   \n",
       "totalAToken                 2052161981910749632571760   \n",
       "totalStableDebt                                     0   \n",
       "totalVariableDebt           1764663515613320616762176   \n",
       "liquidityRate              18855102222827216705213313   \n",
       "variableBorrowRate         25796786545998013490783270   \n",
       "stableBorrowRate                                    0   \n",
       "averageStableBorrowRate                             0   \n",
       "liquidityIndex           1040734174170831724081696669   \n",
       "variableBorrowIndex      1064706039539121825859486629   \n",
       "lastUpdateTimestamp                        1740777503   \n",
       "\n",
       "                                    USDC_RESERVE_DATA  \n",
       "unbacked                                            0  \n",
       "accruedToTreasuryScaled                   49848480372  \n",
       "totalAToken                          3006394758211805  \n",
       "totalStableDebt                                     0  \n",
       "totalVariableDebt                    1832512246147628  \n",
       "liquidityRate              34527396073985055763019480  \n",
       "variableBorrowRate         62940262213182550579267046  \n",
       "stableBorrowRate                                    0  \n",
       "averageStableBorrowRate                             0  \n",
       "liquidityIndex           1122135633059272475406649661  \n",
       "variableBorrowIndex      1159587027782280670643445974  \n",
       "lastUpdateTimestamp                        1740777479  "
      ]
     },
     "execution_count": 393,
     "metadata": {},
     "output_type": "execute_result"
    }
   ],
   "source": [
    "df"
   ]
  },
  {
   "cell_type": "code",
   "execution_count": 394,
   "id": "c133bc7e-1cfe-4924-9b6e-5ae15cd26f06",
   "metadata": {},
   "outputs": [],
   "source": [
    "readable_df = df"
   ]
  },
  {
   "cell_type": "code",
   "execution_count": 395,
   "id": "4a41ce14-955d-463e-877c-8e19b94b47c2",
   "metadata": {},
   "outputs": [],
   "source": [
    "readable_df.loc['lastUpdateTimestamp'] = readable_df.loc['lastUpdateTimestamp'].apply(\n",
    "    lambda x: datetime.fromtimestamp(x).strftime('%Y-%m-%d %H:%M:%S')\n",
    ")"
   ]
  },
  {
   "cell_type": "code",
   "execution_count": 396,
   "id": "30d8b216-8dd0-418f-8b57-593bf7b6d791",
   "metadata": {},
   "outputs": [
    {
     "data": {
      "text/html": [
       "<div>\n",
       "<style scoped>\n",
       "    .dataframe tbody tr th:only-of-type {\n",
       "        vertical-align: middle;\n",
       "    }\n",
       "\n",
       "    .dataframe tbody tr th {\n",
       "        vertical-align: top;\n",
       "    }\n",
       "\n",
       "    .dataframe thead th {\n",
       "        text-align: right;\n",
       "    }\n",
       "</style>\n",
       "<table border=\"1\" class=\"dataframe\">\n",
       "  <thead>\n",
       "    <tr style=\"text-align: right;\">\n",
       "      <th></th>\n",
       "      <th>DAI_RESERVE_DATA</th>\n",
       "      <th>WETH_RESERVE_DATA</th>\n",
       "      <th>USDC_RESERVE_DATA</th>\n",
       "    </tr>\n",
       "  </thead>\n",
       "  <tbody>\n",
       "    <tr>\n",
       "      <th>unbacked</th>\n",
       "      <td>0</td>\n",
       "      <td>0</td>\n",
       "      <td>0</td>\n",
       "    </tr>\n",
       "    <tr>\n",
       "      <th>accruedToTreasuryScaled</th>\n",
       "      <td>7269387489079587077631</td>\n",
       "      <td>26831704126852729163</td>\n",
       "      <td>49848480372</td>\n",
       "    </tr>\n",
       "    <tr>\n",
       "      <th>totalAToken</th>\n",
       "      <td>167395312853813464274128726</td>\n",
       "      <td>2052161981910749632571760</td>\n",
       "      <td>3006394758211805</td>\n",
       "    </tr>\n",
       "    <tr>\n",
       "      <th>totalStableDebt</th>\n",
       "      <td>0</td>\n",
       "      <td>0</td>\n",
       "      <td>0</td>\n",
       "    </tr>\n",
       "    <tr>\n",
       "      <th>totalVariableDebt</th>\n",
       "      <td>125214200231692820982390572</td>\n",
       "      <td>1764663515613320616762176</td>\n",
       "      <td>1832512246147628</td>\n",
       "    </tr>\n",
       "    <tr>\n",
       "      <th>liquidityRate</th>\n",
       "      <td>43328536948052255141646305</td>\n",
       "      <td>18855102222827216705213313</td>\n",
       "      <td>34527396073985055763019480</td>\n",
       "    </tr>\n",
       "    <tr>\n",
       "      <th>variableBorrowRate</th>\n",
       "      <td>77236799538773625927890449</td>\n",
       "      <td>25796786545998013490783270</td>\n",
       "      <td>62940262213182550579267046</td>\n",
       "    </tr>\n",
       "    <tr>\n",
       "      <th>stableBorrowRate</th>\n",
       "      <td>0</td>\n",
       "      <td>0</td>\n",
       "      <td>0</td>\n",
       "    </tr>\n",
       "    <tr>\n",
       "      <th>averageStableBorrowRate</th>\n",
       "      <td>0</td>\n",
       "      <td>0</td>\n",
       "      <td>0</td>\n",
       "    </tr>\n",
       "    <tr>\n",
       "      <th>liquidityIndex</th>\n",
       "      <td>1118541717815239899901988787</td>\n",
       "      <td>1040734174170831724081696669</td>\n",
       "      <td>1122135633059272475406649661</td>\n",
       "    </tr>\n",
       "    <tr>\n",
       "      <th>variableBorrowIndex</th>\n",
       "      <td>1172943436226722041946359080</td>\n",
       "      <td>1064706039539121825859486629</td>\n",
       "      <td>1159587027782280670643445974</td>\n",
       "    </tr>\n",
       "    <tr>\n",
       "      <th>lastUpdateTimestamp</th>\n",
       "      <td>2025-02-28 20:57:47</td>\n",
       "      <td>2025-02-28 21:18:23</td>\n",
       "      <td>2025-02-28 21:17:59</td>\n",
       "    </tr>\n",
       "  </tbody>\n",
       "</table>\n",
       "</div>"
      ],
      "text/plain": [
       "                                     DAI_RESERVE_DATA  \\\n",
       "unbacked                                            0   \n",
       "accruedToTreasuryScaled        7269387489079587077631   \n",
       "totalAToken               167395312853813464274128726   \n",
       "totalStableDebt                                     0   \n",
       "totalVariableDebt         125214200231692820982390572   \n",
       "liquidityRate              43328536948052255141646305   \n",
       "variableBorrowRate         77236799538773625927890449   \n",
       "stableBorrowRate                                    0   \n",
       "averageStableBorrowRate                             0   \n",
       "liquidityIndex           1118541717815239899901988787   \n",
       "variableBorrowIndex      1172943436226722041946359080   \n",
       "lastUpdateTimestamp               2025-02-28 20:57:47   \n",
       "\n",
       "                                    WETH_RESERVE_DATA  \\\n",
       "unbacked                                            0   \n",
       "accruedToTreasuryScaled          26831704126852729163   \n",
       "totalAToken                 2052161981910749632571760   \n",
       "totalStableDebt                                     0   \n",
       "totalVariableDebt           1764663515613320616762176   \n",
       "liquidityRate              18855102222827216705213313   \n",
       "variableBorrowRate         25796786545998013490783270   \n",
       "stableBorrowRate                                    0   \n",
       "averageStableBorrowRate                             0   \n",
       "liquidityIndex           1040734174170831724081696669   \n",
       "variableBorrowIndex      1064706039539121825859486629   \n",
       "lastUpdateTimestamp               2025-02-28 21:18:23   \n",
       "\n",
       "                                    USDC_RESERVE_DATA  \n",
       "unbacked                                            0  \n",
       "accruedToTreasuryScaled                   49848480372  \n",
       "totalAToken                          3006394758211805  \n",
       "totalStableDebt                                     0  \n",
       "totalVariableDebt                    1832512246147628  \n",
       "liquidityRate              34527396073985055763019480  \n",
       "variableBorrowRate         62940262213182550579267046  \n",
       "stableBorrowRate                                    0  \n",
       "averageStableBorrowRate                             0  \n",
       "liquidityIndex           1122135633059272475406649661  \n",
       "variableBorrowIndex      1159587027782280670643445974  \n",
       "lastUpdateTimestamp               2025-02-28 21:17:59  "
      ]
     },
     "execution_count": 396,
     "metadata": {},
     "output_type": "execute_result"
    }
   ],
   "source": [
    "readable_df"
   ]
  },
  {
   "cell_type": "code",
   "execution_count": 397,
   "id": "97c2a23a-6c91-44b9-a8ab-406448bc6be1",
   "metadata": {},
   "outputs": [],
   "source": [
    "readable_df.loc['totalAToken', 'DAI_RESERVE_DATA'] = readable_df.loc['totalAToken', 'DAI_RESERVE_DATA'] / 1e18\n",
    "readable_df.loc['totalAToken', 'WETH_RESERVE_DATA'] = readable_df.loc['totalAToken', 'WETH_RESERVE_DATA'] / 1e18\n",
    "readable_df.loc['totalVariableDebt', 'DAI_RESERVE_DATA'] = readable_df.loc['totalVariableDebt', 'DAI_RESERVE_DATA'] / 1e18\n",
    "readable_df.loc['totalVariableDebt', 'WETH_RESERVE_DATA'] = readable_df.loc['totalVariableDebt', 'WETH_RESERVE_DATA'] / 1e18"
   ]
  },
  {
   "cell_type": "code",
   "execution_count": 398,
   "id": "54bc90f1-691c-40c0-b883-3e0ec21a5fa3",
   "metadata": {},
   "outputs": [],
   "source": [
    "readable_df.loc['totalAToken', 'USDC_RESERVE_DATA'] = readable_df.loc['totalAToken', 'USDC_RESERVE_DATA'] / 1e6\n",
    "readable_df.loc['totalVariableDebt', 'USDC_RESERVE_DATA'] = readable_df.loc['totalVariableDebt', 'USDC_RESERVE_DATA'] / 1e6"
   ]
  },
  {
   "cell_type": "code",
   "execution_count": 399,
   "id": "e428625c-8575-4779-94ec-277364bbe901",
   "metadata": {},
   "outputs": [],
   "source": [
    "readable_df.loc['totalAToken'] = readable_df.loc['totalAToken'].apply(lambda x: f\"{float(x):,.4f}\" if isinstance(x, (int, float, str)) else x)\n",
    "readable_df.loc['totalVariableDebt'] = readable_df.loc['totalVariableDebt'].apply(lambda x: f\"{float(x):,.4f}\" if isinstance(x, (int, float, str)) else x)\n"
   ]
  },
  {
   "cell_type": "code",
   "execution_count": 400,
   "id": "3d5eda96-ff19-4136-b791-3980be8fd0d3",
   "metadata": {},
   "outputs": [],
   "source": [
    "# Convert rates from ray (10^27) to percentage for all tokens\n",
    "readable_df.loc['liquidityRate'] = readable_df.loc['liquidityRate'] / 1e27 * 100\n",
    "readable_df.loc['variableBorrowRate'] = readable_df.loc['variableBorrowRate'] / 1e27 * 100"
   ]
  },
  {
   "cell_type": "code",
   "execution_count": 401,
   "id": "3fa2834d-3029-4dce-ab1b-fe7a4eaab19a",
   "metadata": {},
   "outputs": [],
   "source": [
    "# Format the rate fields with 4 decimal places and add % sign\n",
    "readable_df.loc['liquidityRate'] = readable_df.loc['liquidityRate'].apply(lambda x: f\"{float(x):.4f}%\" if isinstance(x, (int, float, str)) else x)\n",
    "readable_df.loc['variableBorrowRate'] = readable_df.loc['variableBorrowRate'].apply(lambda x: f\"{float(x):.4f}%\" if isinstance(x, (int, float, str)) else x)"
   ]
  },
  {
   "cell_type": "code",
   "execution_count": 402,
   "id": "ea8fe22f-341d-4583-bed3-1af7a430a9d4",
   "metadata": {},
   "outputs": [],
   "source": [
    "# readable_df.loc['totalAToken'] = df.loc['totalAToken'].apply(lambda x: f\"{x:,.4f}\")\n",
    "# readable_df.loc['totalVariableDebt'] = df.loc['totalVariableDebt'].apply(lambda x: f\"{x:,.4f}\")\n",
    "# readable_df.loc['liquidityRate'] = df.loc['liquidityRate'].apply(lambda x: f\"{x:.4f}%\")\n",
    "# readable_df.loc['variableBorrowRate'] = df.loc['variableBorrowRate'].apply(lambda x: f\"{x:.4f}%\")"
   ]
  },
  {
   "cell_type": "code",
   "execution_count": 403,
   "id": "cfa52d1a-6286-4d21-b52e-3f057e92be06",
   "metadata": {},
   "outputs": [
    {
     "data": {
      "text/html": [
       "<div>\n",
       "<style scoped>\n",
       "    .dataframe tbody tr th:only-of-type {\n",
       "        vertical-align: middle;\n",
       "    }\n",
       "\n",
       "    .dataframe tbody tr th {\n",
       "        vertical-align: top;\n",
       "    }\n",
       "\n",
       "    .dataframe thead th {\n",
       "        text-align: right;\n",
       "    }\n",
       "</style>\n",
       "<table border=\"1\" class=\"dataframe\">\n",
       "  <thead>\n",
       "    <tr style=\"text-align: right;\">\n",
       "      <th></th>\n",
       "      <th>DAI_RESERVE_DATA</th>\n",
       "      <th>WETH_RESERVE_DATA</th>\n",
       "      <th>USDC_RESERVE_DATA</th>\n",
       "    </tr>\n",
       "  </thead>\n",
       "  <tbody>\n",
       "    <tr>\n",
       "      <th>unbacked</th>\n",
       "      <td>0</td>\n",
       "      <td>0</td>\n",
       "      <td>0</td>\n",
       "    </tr>\n",
       "    <tr>\n",
       "      <th>accruedToTreasuryScaled</th>\n",
       "      <td>7269387489079587077631</td>\n",
       "      <td>26831704126852729163</td>\n",
       "      <td>49848480372</td>\n",
       "    </tr>\n",
       "    <tr>\n",
       "      <th>totalAToken</th>\n",
       "      <td>167,395,312.8538</td>\n",
       "      <td>2,052,161.9819</td>\n",
       "      <td>3,006,394,758.2118</td>\n",
       "    </tr>\n",
       "    <tr>\n",
       "      <th>totalStableDebt</th>\n",
       "      <td>0</td>\n",
       "      <td>0</td>\n",
       "      <td>0</td>\n",
       "    </tr>\n",
       "    <tr>\n",
       "      <th>totalVariableDebt</th>\n",
       "      <td>125,214,200.2317</td>\n",
       "      <td>1,764,663.5156</td>\n",
       "      <td>1,832,512,246.1476</td>\n",
       "    </tr>\n",
       "    <tr>\n",
       "      <th>liquidityRate</th>\n",
       "      <td>4.3329%</td>\n",
       "      <td>1.8855%</td>\n",
       "      <td>3.4527%</td>\n",
       "    </tr>\n",
       "    <tr>\n",
       "      <th>variableBorrowRate</th>\n",
       "      <td>7.7237%</td>\n",
       "      <td>2.5797%</td>\n",
       "      <td>6.2940%</td>\n",
       "    </tr>\n",
       "    <tr>\n",
       "      <th>stableBorrowRate</th>\n",
       "      <td>0</td>\n",
       "      <td>0</td>\n",
       "      <td>0</td>\n",
       "    </tr>\n",
       "    <tr>\n",
       "      <th>averageStableBorrowRate</th>\n",
       "      <td>0</td>\n",
       "      <td>0</td>\n",
       "      <td>0</td>\n",
       "    </tr>\n",
       "    <tr>\n",
       "      <th>liquidityIndex</th>\n",
       "      <td>1118541717815239899901988787</td>\n",
       "      <td>1040734174170831724081696669</td>\n",
       "      <td>1122135633059272475406649661</td>\n",
       "    </tr>\n",
       "    <tr>\n",
       "      <th>variableBorrowIndex</th>\n",
       "      <td>1172943436226722041946359080</td>\n",
       "      <td>1064706039539121825859486629</td>\n",
       "      <td>1159587027782280670643445974</td>\n",
       "    </tr>\n",
       "    <tr>\n",
       "      <th>lastUpdateTimestamp</th>\n",
       "      <td>2025-02-28 20:57:47</td>\n",
       "      <td>2025-02-28 21:18:23</td>\n",
       "      <td>2025-02-28 21:17:59</td>\n",
       "    </tr>\n",
       "  </tbody>\n",
       "</table>\n",
       "</div>"
      ],
      "text/plain": [
       "                                     DAI_RESERVE_DATA  \\\n",
       "unbacked                                            0   \n",
       "accruedToTreasuryScaled        7269387489079587077631   \n",
       "totalAToken                          167,395,312.8538   \n",
       "totalStableDebt                                     0   \n",
       "totalVariableDebt                    125,214,200.2317   \n",
       "liquidityRate                                 4.3329%   \n",
       "variableBorrowRate                            7.7237%   \n",
       "stableBorrowRate                                    0   \n",
       "averageStableBorrowRate                             0   \n",
       "liquidityIndex           1118541717815239899901988787   \n",
       "variableBorrowIndex      1172943436226722041946359080   \n",
       "lastUpdateTimestamp               2025-02-28 20:57:47   \n",
       "\n",
       "                                    WETH_RESERVE_DATA  \\\n",
       "unbacked                                            0   \n",
       "accruedToTreasuryScaled          26831704126852729163   \n",
       "totalAToken                            2,052,161.9819   \n",
       "totalStableDebt                                     0   \n",
       "totalVariableDebt                      1,764,663.5156   \n",
       "liquidityRate                                 1.8855%   \n",
       "variableBorrowRate                            2.5797%   \n",
       "stableBorrowRate                                    0   \n",
       "averageStableBorrowRate                             0   \n",
       "liquidityIndex           1040734174170831724081696669   \n",
       "variableBorrowIndex      1064706039539121825859486629   \n",
       "lastUpdateTimestamp               2025-02-28 21:18:23   \n",
       "\n",
       "                                    USDC_RESERVE_DATA  \n",
       "unbacked                                            0  \n",
       "accruedToTreasuryScaled                   49848480372  \n",
       "totalAToken                        3,006,394,758.2118  \n",
       "totalStableDebt                                     0  \n",
       "totalVariableDebt                  1,832,512,246.1476  \n",
       "liquidityRate                                 3.4527%  \n",
       "variableBorrowRate                            6.2940%  \n",
       "stableBorrowRate                                    0  \n",
       "averageStableBorrowRate                             0  \n",
       "liquidityIndex           1122135633059272475406649661  \n",
       "variableBorrowIndex      1159587027782280670643445974  \n",
       "lastUpdateTimestamp               2025-02-28 21:17:59  "
      ]
     },
     "execution_count": 403,
     "metadata": {},
     "output_type": "execute_result"
    }
   ],
   "source": [
    "readable_df"
   ]
  },
  {
   "cell_type": "code",
   "execution_count": null,
   "id": "8964b84e-51ee-4c17-a409-784f7d3827fe",
   "metadata": {},
   "outputs": [],
   "source": []
  }
 ],
 "metadata": {
  "kernelspec": {
   "display_name": "Python 3 (ipykernel)",
   "language": "python",
   "name": "python3"
  },
  "language_info": {
   "codemirror_mode": {
    "name": "ipython",
    "version": 3
   },
   "file_extension": ".py",
   "mimetype": "text/x-python",
   "name": "python",
   "nbconvert_exporter": "python",
   "pygments_lexer": "ipython3",
   "version": "3.12.8"
  }
 },
 "nbformat": 4,
 "nbformat_minor": 5
}
